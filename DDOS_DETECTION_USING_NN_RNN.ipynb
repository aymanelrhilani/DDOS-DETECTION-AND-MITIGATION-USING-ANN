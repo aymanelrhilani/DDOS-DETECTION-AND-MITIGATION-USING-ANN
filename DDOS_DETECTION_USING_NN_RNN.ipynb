{
  "nbformat": 4,
  "nbformat_minor": 0,
  "metadata": {
    "colab": {
      "provenance": []
    },
    "kernelspec": {
      "name": "python3",
      "display_name": "Python 3"
    },
    "language_info": {
      "name": "python"
    }
  },
  "cells": [
    {
      "cell_type": "code",
      "execution_count": 2,
      "metadata": {
        "colab": {
          "base_uri": "https://localhost:8080/"
        },
        "id": "i6WWm9q4IJ4Z",
        "outputId": "b13b3c87-e9d5-4a20-9002-bb8407f913a5"
      },
      "outputs": [
        {
          "output_type": "stream",
          "name": "stdout",
          "text": [
            "Requirement already satisfied: kaggle in /usr/local/lib/python3.10/dist-packages (1.5.16)\n",
            "Requirement already satisfied: six>=1.10 in /usr/local/lib/python3.10/dist-packages (from kaggle) (1.16.0)\n",
            "Requirement already satisfied: certifi in /usr/local/lib/python3.10/dist-packages (from kaggle) (2023.7.22)\n",
            "Requirement already satisfied: python-dateutil in /usr/local/lib/python3.10/dist-packages (from kaggle) (2.8.2)\n",
            "Requirement already satisfied: requests in /usr/local/lib/python3.10/dist-packages (from kaggle) (2.31.0)\n",
            "Requirement already satisfied: tqdm in /usr/local/lib/python3.10/dist-packages (from kaggle) (4.66.1)\n",
            "Requirement already satisfied: python-slugify in /usr/local/lib/python3.10/dist-packages (from kaggle) (8.0.1)\n",
            "Requirement already satisfied: urllib3 in /usr/local/lib/python3.10/dist-packages (from kaggle) (2.0.4)\n",
            "Requirement already satisfied: bleach in /usr/local/lib/python3.10/dist-packages (from kaggle) (6.0.0)\n",
            "Requirement already satisfied: webencodings in /usr/local/lib/python3.10/dist-packages (from bleach->kaggle) (0.5.1)\n",
            "Requirement already satisfied: text-unidecode>=1.3 in /usr/local/lib/python3.10/dist-packages (from python-slugify->kaggle) (1.3)\n",
            "Requirement already satisfied: charset-normalizer<4,>=2 in /usr/local/lib/python3.10/dist-packages (from requests->kaggle) (3.2.0)\n",
            "Requirement already satisfied: idna<4,>=2.5 in /usr/local/lib/python3.10/dist-packages (from requests->kaggle) (3.4)\n"
          ]
        }
      ],
      "source": [
        "# installing kaggle library\n",
        "!pip install kaggle"
      ]
    },
    {
      "cell_type": "code",
      "source": [
        "#importing needed libraries\n",
        "import pandas as pd\n",
        "import numpy as np\n",
        "import pyarrow as pa\n",
        "import pyarrow.parquet as pq\n",
        "import matplotlib.pyplot as plt\n",
        "from sklearn.model_selection import train_test_split\n",
        "from keras.models import Sequential, load_model\n",
        "from keras.utils.np_utils import to_categorical\n",
        "from sklearn.preprocessing import LabelEncoder, StandardScaler\n",
        "from sklearn.metrics import confusion_matrix"
      ],
      "metadata": {
        "id": "uRYbSOWAwX1Q"
      },
      "execution_count": 3,
      "outputs": []
    },
    {
      "cell_type": "code",
      "source": [
        "#import your file kaggle.json\n",
        "# configuring the path of kaggle.json file\n",
        "!mkdir -p ~/.kaggle\n",
        "!cp /kaggle.json ~/.kaggle/\n",
        "!chmod 600 ~/.kaggle/kaggle.json\n"
      ],
      "metadata": {
        "id": "U0zwbRgALEMo"
      },
      "execution_count": 5,
      "outputs": []
    },
    {
      "cell_type": "markdown",
      "source": [
        "**API to fetch dataset from kaggle**\n",
        "\n",
        "\n"
      ],
      "metadata": {
        "id": "b1Ad4jj1tWyc"
      }
    },
    {
      "cell_type": "code",
      "source": [
        "!kaggle datasets download -d dhoogla/cicddos2019 #downloading our dataset in zip format"
      ],
      "metadata": {
        "colab": {
          "base_uri": "https://localhost:8080/"
        },
        "id": "MW7ofr3Usb5q",
        "outputId": "582b231d-9299-4633-a5a7-077a6b6bf54b"
      },
      "execution_count": 6,
      "outputs": [
        {
          "output_type": "stream",
          "name": "stdout",
          "text": [
            "Downloading cicddos2019.zip to /content\n",
            " 90% 26.0M/28.7M [00:01<00:00, 20.4MB/s]\n",
            "100% 28.7M/28.7M [00:02<00:00, 15.0MB/s]\n"
          ]
        }
      ]
    },
    {
      "cell_type": "code",
      "source": [
        "from zipfile import ZipFile #extacting our zip file\n",
        "datasetddos = '/content/cicddos2019.zip'\n",
        "with ZipFile(datasetddos,'r') as zip :\n",
        "  zip.extractall()\n",
        "  print(\"the dataset is extracted\")"
      ],
      "metadata": {
        "colab": {
          "base_uri": "https://localhost:8080/"
        },
        "id": "GSftsl2etkuz",
        "outputId": "9f794d1c-88fa-4b7b-ded1-e94e22ac7212"
      },
      "execution_count": 7,
      "outputs": [
        {
          "output_type": "stream",
          "name": "stdout",
          "text": [
            "the dataset is extracted\n"
          ]
        }
      ]
    },
    {
      "cell_type": "code",
      "source": [
        "#trying to gather all in one parquet file\n",
        "#1-putting every parquet file into a dataframe\n",
        "#2-making a list which will hold our dataframes\n",
        "#3-concatinate the list using pandas function concat()\n",
        "#4-converting the concatinated dataframe to parquet file .\n",
        "df1 = pd.read_parquet('/content/DNS-testing.parquet')\n",
        "df2 = pd.read_parquet('/content/LDAP-testing.parquet')\n",
        "df3 = pd.read_parquet('/content/LDAP-training.parquet')\n",
        "df4 = pd.read_parquet('/content/MSSQL-testing.parquet')\n",
        "df5 = pd.read_parquet('/content/MSSQL-training.parquet')\n",
        "df6 = pd.read_parquet('/content/NTP-testing.parquet')\n",
        "df7 = pd.read_parquet('/content/NetBIOS-testing.parquet')\n",
        "df8 = pd.read_parquet('/content/NetBIOS-training.parquet')\n",
        "df9 = pd.read_parquet('/content/Portmap-training.parquet')\n",
        "df10 = pd.read_parquet('/content/SNMP-testing.parquet')\n",
        "df11 = pd.read_parquet('/content/Syn-testing.parquet')\n",
        "df12 = pd.read_parquet('/content/Syn-training.parquet')\n",
        "df13 = pd.read_parquet('/content/TFTP-testing.parquet')\n",
        "df14 = pd.read_parquet('/content/UDP-testing.parquet')\n",
        "df15 = pd.read_parquet('/content/UDP-training.parquet')\n",
        "df16 = pd.read_parquet('/content/UDPLag-testing.parquet')\n",
        "df17 = pd.read_parquet('/content/UDPLag-training.parquet')\n",
        "dfs = []\n",
        "dfs.append(df1)\n",
        "dfs.append(df2)\n",
        "dfs.append(df3)\n",
        "dfs.append(df4)\n",
        "dfs.append(df5)\n",
        "dfs.append(df6)\n",
        "dfs.append(df7)\n",
        "dfs.append(df8)\n",
        "dfs.append(df9)\n",
        "dfs.append(df10)\n",
        "dfs.append(df11)\n",
        "dfs.append(df12)\n",
        "dfs.append(df13)\n",
        "dfs.append(df14)\n",
        "dfs.append(df15)\n",
        "dfs.append(df16)\n",
        "dfs.append(df17)\n",
        "concatenated_df = pd.concat(dfs, ignore_index=True)\n",
        "output_file = \"/content/finaldataset.parquet\"\n",
        "concatenated_df.to_parquet(output_file, engine='pyarrow')\n",
        "\n",
        "\n",
        "\n"
      ],
      "metadata": {
        "id": "oiXr12cfwIMb"
      },
      "execution_count": 8,
      "outputs": []
    },
    {
      "cell_type": "code",
      "source": [
        "dfp = pd.read_parquet('/content/finaldataset.parquet') #putting all parquet files into one dataframe\n",
        "dfp.head()\n",
        "dfp['Label'].value_counts()"
      ],
      "metadata": {
        "colab": {
          "base_uri": "https://localhost:8080/"
        },
        "id": "pJIdIdCgBaBZ",
        "outputId": "00c8a87d-b084-42f6-d367-e685dd1815c1"
      },
      "execution_count": 9,
      "outputs": [
        {
          "output_type": "execute_result",
          "data": {
            "text/plain": [
              "DrDoS_NTP        121368\n",
              "TFTP              98917\n",
              "Benign            97831\n",
              "Syn               49373\n",
              "UDP               18090\n",
              "DrDoS_UDP         10420\n",
              "UDP-lag            8872\n",
              "MSSQL              8523\n",
              "DrDoS_MSSQL        6212\n",
              "DrDoS_DNS          3669\n",
              "DrDoS_SNMP         2717\n",
              "LDAP               1906\n",
              "DrDoS_LDAP         1440\n",
              "Portmap             685\n",
              "NetBIOS             644\n",
              "DrDoS_NetBIOS       598\n",
              "UDPLag               55\n",
              "WebDDoS              51\n",
              "Name: Label, dtype: int64"
            ]
          },
          "metadata": {},
          "execution_count": 9
        }
      ]
    },
    {
      "cell_type": "markdown",
      "source": [
        "as we see we put all the parquets into one parquet dataframe in order to facilitate the preprocessing ."
      ],
      "metadata": {
        "id": "x7Xt6XZjCo0N"
      }
    },
    {
      "cell_type": "code",
      "source": [
        "#now let's convert from finaldataset.parquet into finaldataset.csv\n",
        "csv_file = \"/content/finaldataset.csv\"\n",
        "dfp.to_csv(csv_file, index=False)\n"
      ],
      "metadata": {
        "id": "nbKbSXKAC0Tp"
      },
      "execution_count": 10,
      "outputs": []
    },
    {
      "cell_type": "code",
      "source": [
        "#let's check our finaldataset.csv that we are going to use .\n",
        "ddosdataset = pd.read_csv('/content/finaldataset.csv')\n",
        "ddosdataset.head()"
      ],
      "metadata": {
        "id": "shctMiv4EDxh",
        "colab": {
          "base_uri": "https://localhost:8080/",
          "height": 288
        },
        "outputId": "ac295895-bfa6-4830-8450-f003326e0d96"
      },
      "execution_count": 11,
      "outputs": [
        {
          "output_type": "execute_result",
          "data": {
            "text/plain": [
              "   Protocol  Flow Duration  Total Fwd Packets  Total Backward Packets  \\\n",
              "0        17             48                  2                       0   \n",
              "1        17              2                  2                       0   \n",
              "2        17              1                  2                       0   \n",
              "3        17              1                  2                       0   \n",
              "4        17              1                  2                       0   \n",
              "\n",
              "   Fwd Packets Length Total  Bwd Packets Length Total  Fwd Packet Length Max  \\\n",
              "0                    2944.0                       0.0                 1472.0   \n",
              "1                    2944.0                       0.0                 1472.0   \n",
              "2                    2944.0                       0.0                 1472.0   \n",
              "3                    2944.0                       0.0                 1472.0   \n",
              "4                    2896.0                       0.0                 1448.0   \n",
              "\n",
              "   Fwd Packet Length Min  Fwd Packet Length Mean  Fwd Packet Length Std  ...  \\\n",
              "0                 1472.0                  1472.0                    0.0  ...   \n",
              "1                 1472.0                  1472.0                    0.0  ...   \n",
              "2                 1472.0                  1472.0                    0.0  ...   \n",
              "3                 1472.0                  1472.0                    0.0  ...   \n",
              "4                 1448.0                  1448.0                    0.0  ...   \n",
              "\n",
              "   Fwd Seg Size Min  Active Mean  Active Std  Active Max  Active Min  \\\n",
              "0                 0          0.0         0.0         0.0         0.0   \n",
              "1                -1          0.0         0.0         0.0         0.0   \n",
              "2                -1          0.0         0.0         0.0         0.0   \n",
              "3              1480          0.0         0.0         0.0         0.0   \n",
              "4                 0          0.0         0.0         0.0         0.0   \n",
              "\n",
              "   Idle Mean  Idle Std  Idle Max  Idle Min      Label  \n",
              "0        0.0       0.0       0.0       0.0  DrDoS_DNS  \n",
              "1        0.0       0.0       0.0       0.0  DrDoS_DNS  \n",
              "2        0.0       0.0       0.0       0.0  DrDoS_DNS  \n",
              "3        0.0       0.0       0.0       0.0  DrDoS_DNS  \n",
              "4        0.0       0.0       0.0       0.0  DrDoS_DNS  \n",
              "\n",
              "[5 rows x 78 columns]"
            ],
            "text/html": [
              "\n",
              "  <div id=\"df-eace9556-bb31-4b1b-b110-f487798a3193\" class=\"colab-df-container\">\n",
              "    <div>\n",
              "<style scoped>\n",
              "    .dataframe tbody tr th:only-of-type {\n",
              "        vertical-align: middle;\n",
              "    }\n",
              "\n",
              "    .dataframe tbody tr th {\n",
              "        vertical-align: top;\n",
              "    }\n",
              "\n",
              "    .dataframe thead th {\n",
              "        text-align: right;\n",
              "    }\n",
              "</style>\n",
              "<table border=\"1\" class=\"dataframe\">\n",
              "  <thead>\n",
              "    <tr style=\"text-align: right;\">\n",
              "      <th></th>\n",
              "      <th>Protocol</th>\n",
              "      <th>Flow Duration</th>\n",
              "      <th>Total Fwd Packets</th>\n",
              "      <th>Total Backward Packets</th>\n",
              "      <th>Fwd Packets Length Total</th>\n",
              "      <th>Bwd Packets Length Total</th>\n",
              "      <th>Fwd Packet Length Max</th>\n",
              "      <th>Fwd Packet Length Min</th>\n",
              "      <th>Fwd Packet Length Mean</th>\n",
              "      <th>Fwd Packet Length Std</th>\n",
              "      <th>...</th>\n",
              "      <th>Fwd Seg Size Min</th>\n",
              "      <th>Active Mean</th>\n",
              "      <th>Active Std</th>\n",
              "      <th>Active Max</th>\n",
              "      <th>Active Min</th>\n",
              "      <th>Idle Mean</th>\n",
              "      <th>Idle Std</th>\n",
              "      <th>Idle Max</th>\n",
              "      <th>Idle Min</th>\n",
              "      <th>Label</th>\n",
              "    </tr>\n",
              "  </thead>\n",
              "  <tbody>\n",
              "    <tr>\n",
              "      <th>0</th>\n",
              "      <td>17</td>\n",
              "      <td>48</td>\n",
              "      <td>2</td>\n",
              "      <td>0</td>\n",
              "      <td>2944.0</td>\n",
              "      <td>0.0</td>\n",
              "      <td>1472.0</td>\n",
              "      <td>1472.0</td>\n",
              "      <td>1472.0</td>\n",
              "      <td>0.0</td>\n",
              "      <td>...</td>\n",
              "      <td>0</td>\n",
              "      <td>0.0</td>\n",
              "      <td>0.0</td>\n",
              "      <td>0.0</td>\n",
              "      <td>0.0</td>\n",
              "      <td>0.0</td>\n",
              "      <td>0.0</td>\n",
              "      <td>0.0</td>\n",
              "      <td>0.0</td>\n",
              "      <td>DrDoS_DNS</td>\n",
              "    </tr>\n",
              "    <tr>\n",
              "      <th>1</th>\n",
              "      <td>17</td>\n",
              "      <td>2</td>\n",
              "      <td>2</td>\n",
              "      <td>0</td>\n",
              "      <td>2944.0</td>\n",
              "      <td>0.0</td>\n",
              "      <td>1472.0</td>\n",
              "      <td>1472.0</td>\n",
              "      <td>1472.0</td>\n",
              "      <td>0.0</td>\n",
              "      <td>...</td>\n",
              "      <td>-1</td>\n",
              "      <td>0.0</td>\n",
              "      <td>0.0</td>\n",
              "      <td>0.0</td>\n",
              "      <td>0.0</td>\n",
              "      <td>0.0</td>\n",
              "      <td>0.0</td>\n",
              "      <td>0.0</td>\n",
              "      <td>0.0</td>\n",
              "      <td>DrDoS_DNS</td>\n",
              "    </tr>\n",
              "    <tr>\n",
              "      <th>2</th>\n",
              "      <td>17</td>\n",
              "      <td>1</td>\n",
              "      <td>2</td>\n",
              "      <td>0</td>\n",
              "      <td>2944.0</td>\n",
              "      <td>0.0</td>\n",
              "      <td>1472.0</td>\n",
              "      <td>1472.0</td>\n",
              "      <td>1472.0</td>\n",
              "      <td>0.0</td>\n",
              "      <td>...</td>\n",
              "      <td>-1</td>\n",
              "      <td>0.0</td>\n",
              "      <td>0.0</td>\n",
              "      <td>0.0</td>\n",
              "      <td>0.0</td>\n",
              "      <td>0.0</td>\n",
              "      <td>0.0</td>\n",
              "      <td>0.0</td>\n",
              "      <td>0.0</td>\n",
              "      <td>DrDoS_DNS</td>\n",
              "    </tr>\n",
              "    <tr>\n",
              "      <th>3</th>\n",
              "      <td>17</td>\n",
              "      <td>1</td>\n",
              "      <td>2</td>\n",
              "      <td>0</td>\n",
              "      <td>2944.0</td>\n",
              "      <td>0.0</td>\n",
              "      <td>1472.0</td>\n",
              "      <td>1472.0</td>\n",
              "      <td>1472.0</td>\n",
              "      <td>0.0</td>\n",
              "      <td>...</td>\n",
              "      <td>1480</td>\n",
              "      <td>0.0</td>\n",
              "      <td>0.0</td>\n",
              "      <td>0.0</td>\n",
              "      <td>0.0</td>\n",
              "      <td>0.0</td>\n",
              "      <td>0.0</td>\n",
              "      <td>0.0</td>\n",
              "      <td>0.0</td>\n",
              "      <td>DrDoS_DNS</td>\n",
              "    </tr>\n",
              "    <tr>\n",
              "      <th>4</th>\n",
              "      <td>17</td>\n",
              "      <td>1</td>\n",
              "      <td>2</td>\n",
              "      <td>0</td>\n",
              "      <td>2896.0</td>\n",
              "      <td>0.0</td>\n",
              "      <td>1448.0</td>\n",
              "      <td>1448.0</td>\n",
              "      <td>1448.0</td>\n",
              "      <td>0.0</td>\n",
              "      <td>...</td>\n",
              "      <td>0</td>\n",
              "      <td>0.0</td>\n",
              "      <td>0.0</td>\n",
              "      <td>0.0</td>\n",
              "      <td>0.0</td>\n",
              "      <td>0.0</td>\n",
              "      <td>0.0</td>\n",
              "      <td>0.0</td>\n",
              "      <td>0.0</td>\n",
              "      <td>DrDoS_DNS</td>\n",
              "    </tr>\n",
              "  </tbody>\n",
              "</table>\n",
              "<p>5 rows × 78 columns</p>\n",
              "</div>\n",
              "    <div class=\"colab-df-buttons\">\n",
              "\n",
              "  <div class=\"colab-df-container\">\n",
              "    <button class=\"colab-df-convert\" onclick=\"convertToInteractive('df-eace9556-bb31-4b1b-b110-f487798a3193')\"\n",
              "            title=\"Convert this dataframe to an interactive table.\"\n",
              "            style=\"display:none;\">\n",
              "\n",
              "  <svg xmlns=\"http://www.w3.org/2000/svg\" height=\"24px\" viewBox=\"0 -960 960 960\">\n",
              "    <path d=\"M120-120v-720h720v720H120Zm60-500h600v-160H180v160Zm220 220h160v-160H400v160Zm0 220h160v-160H400v160ZM180-400h160v-160H180v160Zm440 0h160v-160H620v160ZM180-180h160v-160H180v160Zm440 0h160v-160H620v160Z\"/>\n",
              "  </svg>\n",
              "    </button>\n",
              "\n",
              "  <style>\n",
              "    .colab-df-container {\n",
              "      display:flex;\n",
              "      gap: 12px;\n",
              "    }\n",
              "\n",
              "    .colab-df-convert {\n",
              "      background-color: #E8F0FE;\n",
              "      border: none;\n",
              "      border-radius: 50%;\n",
              "      cursor: pointer;\n",
              "      display: none;\n",
              "      fill: #1967D2;\n",
              "      height: 32px;\n",
              "      padding: 0 0 0 0;\n",
              "      width: 32px;\n",
              "    }\n",
              "\n",
              "    .colab-df-convert:hover {\n",
              "      background-color: #E2EBFA;\n",
              "      box-shadow: 0px 1px 2px rgba(60, 64, 67, 0.3), 0px 1px 3px 1px rgba(60, 64, 67, 0.15);\n",
              "      fill: #174EA6;\n",
              "    }\n",
              "\n",
              "    .colab-df-buttons div {\n",
              "      margin-bottom: 4px;\n",
              "    }\n",
              "\n",
              "    [theme=dark] .colab-df-convert {\n",
              "      background-color: #3B4455;\n",
              "      fill: #D2E3FC;\n",
              "    }\n",
              "\n",
              "    [theme=dark] .colab-df-convert:hover {\n",
              "      background-color: #434B5C;\n",
              "      box-shadow: 0px 1px 3px 1px rgba(0, 0, 0, 0.15);\n",
              "      filter: drop-shadow(0px 1px 2px rgba(0, 0, 0, 0.3));\n",
              "      fill: #FFFFFF;\n",
              "    }\n",
              "  </style>\n",
              "\n",
              "    <script>\n",
              "      const buttonEl =\n",
              "        document.querySelector('#df-eace9556-bb31-4b1b-b110-f487798a3193 button.colab-df-convert');\n",
              "      buttonEl.style.display =\n",
              "        google.colab.kernel.accessAllowed ? 'block' : 'none';\n",
              "\n",
              "      async function convertToInteractive(key) {\n",
              "        const element = document.querySelector('#df-eace9556-bb31-4b1b-b110-f487798a3193');\n",
              "        const dataTable =\n",
              "          await google.colab.kernel.invokeFunction('convertToInteractive',\n",
              "                                                    [key], {});\n",
              "        if (!dataTable) return;\n",
              "\n",
              "        const docLinkHtml = 'Like what you see? Visit the ' +\n",
              "          '<a target=\"_blank\" href=https://colab.research.google.com/notebooks/data_table.ipynb>data table notebook</a>'\n",
              "          + ' to learn more about interactive tables.';\n",
              "        element.innerHTML = '';\n",
              "        dataTable['output_type'] = 'display_data';\n",
              "        await google.colab.output.renderOutput(dataTable, element);\n",
              "        const docLink = document.createElement('div');\n",
              "        docLink.innerHTML = docLinkHtml;\n",
              "        element.appendChild(docLink);\n",
              "      }\n",
              "    </script>\n",
              "  </div>\n",
              "\n",
              "\n",
              "<div id=\"df-1d70ec23-85e3-48f1-9007-4e219f3c5cbd\">\n",
              "  <button class=\"colab-df-quickchart\" onclick=\"quickchart('df-1d70ec23-85e3-48f1-9007-4e219f3c5cbd')\"\n",
              "            title=\"Suggest charts.\"\n",
              "            style=\"display:none;\">\n",
              "\n",
              "<svg xmlns=\"http://www.w3.org/2000/svg\" height=\"24px\"viewBox=\"0 0 24 24\"\n",
              "     width=\"24px\">\n",
              "    <g>\n",
              "        <path d=\"M19 3H5c-1.1 0-2 .9-2 2v14c0 1.1.9 2 2 2h14c1.1 0 2-.9 2-2V5c0-1.1-.9-2-2-2zM9 17H7v-7h2v7zm4 0h-2V7h2v10zm4 0h-2v-4h2v4z\"/>\n",
              "    </g>\n",
              "</svg>\n",
              "  </button>\n",
              "\n",
              "<style>\n",
              "  .colab-df-quickchart {\n",
              "    background-color: #E8F0FE;\n",
              "    border: none;\n",
              "    border-radius: 50%;\n",
              "    cursor: pointer;\n",
              "    display: none;\n",
              "    fill: #1967D2;\n",
              "    height: 32px;\n",
              "    padding: 0 0 0 0;\n",
              "    width: 32px;\n",
              "  }\n",
              "\n",
              "  .colab-df-quickchart:hover {\n",
              "    background-color: #E2EBFA;\n",
              "    box-shadow: 0px 1px 2px rgba(60, 64, 67, 0.3), 0px 1px 3px 1px rgba(60, 64, 67, 0.15);\n",
              "    fill: #174EA6;\n",
              "  }\n",
              "\n",
              "  [theme=dark] .colab-df-quickchart {\n",
              "    background-color: #3B4455;\n",
              "    fill: #D2E3FC;\n",
              "  }\n",
              "\n",
              "  [theme=dark] .colab-df-quickchart:hover {\n",
              "    background-color: #434B5C;\n",
              "    box-shadow: 0px 1px 3px 1px rgba(0, 0, 0, 0.15);\n",
              "    filter: drop-shadow(0px 1px 2px rgba(0, 0, 0, 0.3));\n",
              "    fill: #FFFFFF;\n",
              "  }\n",
              "</style>\n",
              "\n",
              "  <script>\n",
              "    async function quickchart(key) {\n",
              "      const charts = await google.colab.kernel.invokeFunction(\n",
              "          'suggestCharts', [key], {});\n",
              "    }\n",
              "    (() => {\n",
              "      let quickchartButtonEl =\n",
              "        document.querySelector('#df-1d70ec23-85e3-48f1-9007-4e219f3c5cbd button');\n",
              "      quickchartButtonEl.style.display =\n",
              "        google.colab.kernel.accessAllowed ? 'block' : 'none';\n",
              "    })();\n",
              "  </script>\n",
              "</div>\n",
              "    </div>\n",
              "  </div>\n"
            ]
          },
          "metadata": {},
          "execution_count": 11
        }
      ]
    },
    {
      "cell_type": "code",
      "source": [
        " ddosdataset['Label'].value_counts()"
      ],
      "metadata": {
        "colab": {
          "base_uri": "https://localhost:8080/"
        },
        "id": "UZcJHzdTEfQ5",
        "outputId": "5c8ab434-4d43-4617-866d-698ede908e71"
      },
      "execution_count": 12,
      "outputs": [
        {
          "output_type": "execute_result",
          "data": {
            "text/plain": [
              "DrDoS_NTP        121368\n",
              "TFTP              98917\n",
              "Benign            97831\n",
              "Syn               49373\n",
              "UDP               18090\n",
              "DrDoS_UDP         10420\n",
              "UDP-lag            8872\n",
              "MSSQL              8523\n",
              "DrDoS_MSSQL        6212\n",
              "DrDoS_DNS          3669\n",
              "DrDoS_SNMP         2717\n",
              "LDAP               1906\n",
              "DrDoS_LDAP         1440\n",
              "Portmap             685\n",
              "NetBIOS             644\n",
              "DrDoS_NetBIOS       598\n",
              "UDPLag               55\n",
              "WebDDoS              51\n",
              "Name: Label, dtype: int64"
            ]
          },
          "metadata": {},
          "execution_count": 12
        }
      ]
    },
    {
      "cell_type": "markdown",
      "source": [
        "now finaldataset is ready to be preprocessed ."
      ],
      "metadata": {
        "id": "tf9O_goOEv5z"
      }
    },
    {
      "cell_type": "markdown",
      "source": [
        "**1-Handling the missing values in our dataset:**\n",
        "\n",
        "---\n",
        "\n",
        "\n",
        "\n",
        "to handle missing values in your dataset there are two methods:\n",
        "\n",
        "1) dropping\n",
        "\n",
        "2) imputation\n",
        "\n",
        "\n",
        "\n"
      ],
      "metadata": {
        "id": "pnw7QGxbRtiB"
      }
    },
    {
      "cell_type": "code",
      "source": [
        "# let's check if our dataset has any missing values .\n",
        "missing_counts = ddosdataset.isnull().sum()\n",
        "print(missing_counts.head(78))\n"
      ],
      "metadata": {
        "colab": {
          "base_uri": "https://localhost:8080/"
        },
        "id": "IdvckUqmTW6k",
        "outputId": "40707572-5d4d-4523-ace8-b9ee1030988f"
      },
      "execution_count": 13,
      "outputs": [
        {
          "output_type": "stream",
          "name": "stdout",
          "text": [
            "Protocol                    0\n",
            "Flow Duration               0\n",
            "Total Fwd Packets           0\n",
            "Total Backward Packets      0\n",
            "Fwd Packets Length Total    0\n",
            "                           ..\n",
            "Idle Mean                   0\n",
            "Idle Std                    0\n",
            "Idle Max                    0\n",
            "Idle Min                    0\n",
            "Label                       0\n",
            "Length: 78, dtype: int64\n"
          ]
        }
      ]
    },
    {
      "cell_type": "markdown",
      "source": [
        "as we see our dataset has not any missing values."
      ],
      "metadata": {
        "id": "LVUbUwhAVT2a"
      }
    },
    {
      "cell_type": "markdown",
      "source": [
        "**In case you found missing values:**\n",
        "\n",
        "this is how you will deal with them --->\n",
        "\n",
        "1) **imputation**:\n",
        "\n",
        "you will analyse the data distribution in the coulmn who has missing values , then by analysing you will chose one of the central tendencies which are:\n",
        "\n",
        "1-mean()\n",
        "\n",
        "2-median()\n",
        "\n",
        "3-mode()\n",
        "\n",
        "**Exemple:**\n",
        "\n",
        "this is how to analyse data distribution in specific coulmn which contains missing values(of course you need to import the needed libraries firstly):\n",
        "\n",
        "\n",
        "fig ,ax = plt.subplots(figsize=(8,8))\n",
        "\n",
        "sns.distplot(ddosdataset.columnnamewhichcontainsmissingvalues)\n",
        "\n",
        "**sns---> seaborn library**\n",
        "\n",
        "if data is gathered in one place , we will use Median to handle missing values.\n",
        "\n",
        "**and this is how to do it:**\n",
        "\n",
        "ddosdataset['columnwhichcontainsmissingvalues'].fillna(ddosdataset['columnwhichcontainsmissingvalues'].median(),inplace=True)\n",
        "\n",
        "**Now if you check for missing values in this column you will find nothing**\n",
        "\n",
        "\n",
        "\n",
        "2) **Dropping**:\n",
        "\n",
        "here you will just dropp out all the missing values (**Note**:if your dataset is small then this method it's not a good solution )\n",
        "\n",
        "**This is how to do it:**\n",
        "\n",
        "**ddosdataset = ddosdataset.dropna(how='any')**\n",
        "\n",
        "You will notice that the number of rows will be decreased."
      ],
      "metadata": {
        "id": "nPjJ8w-fWzcN"
      }
    },
    {
      "cell_type": "markdown",
      "source": [
        "**seperating data features and target(Label)**"
      ],
      "metadata": {
        "id": "FpItbdS3i8Z4"
      }
    },
    {
      "cell_type": "code",
      "source": [
        "X = ddosdataset.drop(columns='Label', axis =1)\n",
        "Y = ddosdataset['Label']"
      ],
      "metadata": {
        "id": "lJsmQ5imjPoV"
      },
      "execution_count": 14,
      "outputs": []
    },
    {
      "cell_type": "code",
      "source": [
        "print(X)"
      ],
      "metadata": {
        "colab": {
          "base_uri": "https://localhost:8080/"
        },
        "id": "44pZGYJUlPEE",
        "outputId": "14b27a45-15b9-410d-9ebe-f64b9a316c2f"
      },
      "execution_count": 15,
      "outputs": [
        {
          "output_type": "stream",
          "name": "stdout",
          "text": [
            "        Protocol  Flow Duration  Total Fwd Packets  Total Backward Packets  \\\n",
            "0             17             48                  2                       0   \n",
            "1             17              2                  2                       0   \n",
            "2             17              1                  2                       0   \n",
            "3             17              1                  2                       0   \n",
            "4             17              1                  2                       0   \n",
            "...          ...            ...                ...                     ...   \n",
            "431366         6             53                  1                       2   \n",
            "431367         6             66                  1                       2   \n",
            "431368        17          26288                  2                       2   \n",
            "431369         6          30679                  1                       1   \n",
            "431370         6             67                  1                       2   \n",
            "\n",
            "        Fwd Packets Length Total  Bwd Packets Length Total  \\\n",
            "0                         2944.0                       0.0   \n",
            "1                         2944.0                       0.0   \n",
            "2                         2944.0                       0.0   \n",
            "3                         2944.0                       0.0   \n",
            "4                         2896.0                       0.0   \n",
            "...                          ...                       ...   \n",
            "431366                       0.0                       0.0   \n",
            "431367                       0.0                       0.0   \n",
            "431368                      96.0                      96.0   \n",
            "431369                       0.0                       0.0   \n",
            "431370                       0.0                       0.0   \n",
            "\n",
            "        Fwd Packet Length Max  Fwd Packet Length Min  Fwd Packet Length Mean  \\\n",
            "0                      1472.0                 1472.0                  1472.0   \n",
            "1                      1472.0                 1472.0                  1472.0   \n",
            "2                      1472.0                 1472.0                  1472.0   \n",
            "3                      1472.0                 1472.0                  1472.0   \n",
            "4                      1448.0                 1448.0                  1448.0   \n",
            "...                       ...                    ...                     ...   \n",
            "431366                    0.0                    0.0                     0.0   \n",
            "431367                    0.0                    0.0                     0.0   \n",
            "431368                   48.0                   48.0                    48.0   \n",
            "431369                    0.0                    0.0                     0.0   \n",
            "431370                    0.0                    0.0                     0.0   \n",
            "\n",
            "        Fwd Packet Length Std  ...  Fwd Act Data Packets  Fwd Seg Size Min  \\\n",
            "0                         0.0  ...                     1                 0   \n",
            "1                         0.0  ...                     1                -1   \n",
            "2                         0.0  ...                     1                -1   \n",
            "3                         0.0  ...                     1              1480   \n",
            "4                         0.0  ...                     1                 0   \n",
            "...                       ...  ...                   ...               ...   \n",
            "431366                    0.0  ...                     0                32   \n",
            "431367                    0.0  ...                     0                32   \n",
            "431368                    0.0  ...                     1                20   \n",
            "431369                    0.0  ...                     0                32   \n",
            "431370                    0.0  ...                     0                32   \n",
            "\n",
            "        Active Mean  Active Std  Active Max  Active Min  Idle Mean  Idle Std  \\\n",
            "0               0.0         0.0         0.0         0.0        0.0       0.0   \n",
            "1               0.0         0.0         0.0         0.0        0.0       0.0   \n",
            "2               0.0         0.0         0.0         0.0        0.0       0.0   \n",
            "3               0.0         0.0         0.0         0.0        0.0       0.0   \n",
            "4               0.0         0.0         0.0         0.0        0.0       0.0   \n",
            "...             ...         ...         ...         ...        ...       ...   \n",
            "431366          0.0         0.0         0.0         0.0        0.0       0.0   \n",
            "431367          0.0         0.0         0.0         0.0        0.0       0.0   \n",
            "431368          0.0         0.0         0.0         0.0        0.0       0.0   \n",
            "431369          0.0         0.0         0.0         0.0        0.0       0.0   \n",
            "431370          0.0         0.0         0.0         0.0        0.0       0.0   \n",
            "\n",
            "        Idle Max  Idle Min  \n",
            "0            0.0       0.0  \n",
            "1            0.0       0.0  \n",
            "2            0.0       0.0  \n",
            "3            0.0       0.0  \n",
            "4            0.0       0.0  \n",
            "...          ...       ...  \n",
            "431366       0.0       0.0  \n",
            "431367       0.0       0.0  \n",
            "431368       0.0       0.0  \n",
            "431369       0.0       0.0  \n",
            "431370       0.0       0.0  \n",
            "\n",
            "[431371 rows x 77 columns]\n"
          ]
        }
      ]
    },
    {
      "cell_type": "code",
      "source": [
        "print(Y)"
      ],
      "metadata": {
        "colab": {
          "base_uri": "https://localhost:8080/"
        },
        "id": "gcXPD0JQlUVy",
        "outputId": "93a276e5-bfe6-44b0-ea85-722928aa04a2"
      },
      "execution_count": 14,
      "outputs": [
        {
          "output_type": "stream",
          "name": "stdout",
          "text": [
            "0         DrDoS_DNS\n",
            "1         DrDoS_DNS\n",
            "2         DrDoS_DNS\n",
            "3         DrDoS_DNS\n",
            "4         DrDoS_DNS\n",
            "            ...    \n",
            "431366       Benign\n",
            "431367       Benign\n",
            "431368       Benign\n",
            "431369       Benign\n",
            "431370       Benign\n",
            "Name: Label, Length: 431371, dtype: object\n"
          ]
        }
      ]
    },
    {
      "cell_type": "markdown",
      "source": [
        "**So this is our Label that we are going to use in order to say it's a ddos attack or not**\n",
        "\n",
        "Notice that this label contains non-numerical values which is not good for training our model that's why we should call label encoding concept."
      ],
      "metadata": {
        "id": "G8IeoDpfn6wa"
      }
    },
    {
      "cell_type": "markdown",
      "source": [
        "**#### Label encoding is converting the labels into numeric form #####**."
      ],
      "metadata": {
        "id": "wojPyinKpAH9"
      }
    },
    {
      "cell_type": "markdown",
      "source": [
        "**i will give the number 1 to all ddos attacks and number 0 to Benign**\n",
        "\n",
        "**1------> DDOS Attack (dosn't matter it's type )**\n",
        "\n",
        "0------> Benign (normal)"
      ],
      "metadata": {
        "id": "4doqhTXBpQN5"
      }
    },
    {
      "cell_type": "code",
      "source": [
        "list(Y)"
      ],
      "metadata": {
        "colab": {
          "base_uri": "https://localhost:8080/"
        },
        "id": "kBzjBXLi72Cq",
        "outputId": "fdb205b0-5b70-499c-e657-0aa61b0390d2"
      },
      "execution_count": 16,
      "outputs": [
        {
          "output_type": "execute_result",
          "data": {
            "text/plain": [
              "['DrDoS_DNS',\n",
              " 'DrDoS_DNS',\n",
              " 'DrDoS_DNS',\n",
              " 'DrDoS_DNS',\n",
              " 'DrDoS_DNS',\n",
              " 'DrDoS_DNS',\n",
              " 'DrDoS_DNS',\n",
              " 'DrDoS_DNS',\n",
              " 'DrDoS_DNS',\n",
              " 'DrDoS_DNS',\n",
              " 'DrDoS_DNS',\n",
              " 'DrDoS_DNS',\n",
              " 'DrDoS_DNS',\n",
              " 'DrDoS_DNS',\n",
              " 'DrDoS_DNS',\n",
              " 'DrDoS_DNS',\n",
              " 'DrDoS_DNS',\n",
              " 'DrDoS_DNS',\n",
              " 'DrDoS_DNS',\n",
              " 'DrDoS_DNS',\n",
              " 'DrDoS_DNS',\n",
              " 'DrDoS_DNS',\n",
              " 'DrDoS_DNS',\n",
              " 'DrDoS_DNS',\n",
              " 'DrDoS_DNS',\n",
              " 'DrDoS_DNS',\n",
              " 'DrDoS_DNS',\n",
              " 'DrDoS_DNS',\n",
              " 'DrDoS_DNS',\n",
              " 'DrDoS_DNS',\n",
              " 'DrDoS_DNS',\n",
              " 'DrDoS_DNS',\n",
              " 'DrDoS_DNS',\n",
              " 'DrDoS_DNS',\n",
              " 'DrDoS_DNS',\n",
              " 'DrDoS_DNS',\n",
              " 'DrDoS_DNS',\n",
              " 'DrDoS_DNS',\n",
              " 'DrDoS_DNS',\n",
              " 'DrDoS_DNS',\n",
              " 'DrDoS_DNS',\n",
              " 'DrDoS_DNS',\n",
              " 'DrDoS_DNS',\n",
              " 'DrDoS_DNS',\n",
              " 'DrDoS_DNS',\n",
              " 'DrDoS_DNS',\n",
              " 'DrDoS_DNS',\n",
              " 'DrDoS_DNS',\n",
              " 'DrDoS_DNS',\n",
              " 'DrDoS_DNS',\n",
              " 'DrDoS_DNS',\n",
              " 'DrDoS_DNS',\n",
              " 'DrDoS_DNS',\n",
              " 'DrDoS_DNS',\n",
              " 'DrDoS_DNS',\n",
              " 'DrDoS_DNS',\n",
              " 'DrDoS_DNS',\n",
              " 'DrDoS_DNS',\n",
              " 'DrDoS_DNS',\n",
              " 'DrDoS_DNS',\n",
              " 'DrDoS_DNS',\n",
              " 'DrDoS_DNS',\n",
              " 'DrDoS_DNS',\n",
              " 'DrDoS_DNS',\n",
              " 'DrDoS_DNS',\n",
              " 'DrDoS_DNS',\n",
              " 'DrDoS_DNS',\n",
              " 'DrDoS_DNS',\n",
              " 'DrDoS_DNS',\n",
              " 'DrDoS_DNS',\n",
              " 'DrDoS_DNS',\n",
              " 'DrDoS_DNS',\n",
              " 'DrDoS_DNS',\n",
              " 'DrDoS_DNS',\n",
              " 'DrDoS_DNS',\n",
              " 'DrDoS_DNS',\n",
              " 'DrDoS_DNS',\n",
              " 'DrDoS_DNS',\n",
              " 'DrDoS_DNS',\n",
              " 'DrDoS_DNS',\n",
              " 'DrDoS_DNS',\n",
              " 'DrDoS_DNS',\n",
              " 'DrDoS_DNS',\n",
              " 'DrDoS_DNS',\n",
              " 'DrDoS_DNS',\n",
              " 'DrDoS_DNS',\n",
              " 'DrDoS_DNS',\n",
              " 'DrDoS_DNS',\n",
              " 'DrDoS_DNS',\n",
              " 'DrDoS_DNS',\n",
              " 'DrDoS_DNS',\n",
              " 'DrDoS_DNS',\n",
              " 'DrDoS_DNS',\n",
              " 'DrDoS_DNS',\n",
              " 'DrDoS_DNS',\n",
              " 'DrDoS_DNS',\n",
              " 'DrDoS_DNS',\n",
              " 'DrDoS_DNS',\n",
              " 'DrDoS_DNS',\n",
              " 'DrDoS_DNS',\n",
              " 'DrDoS_DNS',\n",
              " 'DrDoS_DNS',\n",
              " 'DrDoS_DNS',\n",
              " 'DrDoS_DNS',\n",
              " 'DrDoS_DNS',\n",
              " 'DrDoS_DNS',\n",
              " 'DrDoS_DNS',\n",
              " 'DrDoS_DNS',\n",
              " 'DrDoS_DNS',\n",
              " 'DrDoS_DNS',\n",
              " 'DrDoS_DNS',\n",
              " 'DrDoS_DNS',\n",
              " 'DrDoS_DNS',\n",
              " 'DrDoS_DNS',\n",
              " 'DrDoS_DNS',\n",
              " 'DrDoS_DNS',\n",
              " 'DrDoS_DNS',\n",
              " 'DrDoS_DNS',\n",
              " 'DrDoS_DNS',\n",
              " 'DrDoS_DNS',\n",
              " 'DrDoS_DNS',\n",
              " 'DrDoS_DNS',\n",
              " 'DrDoS_DNS',\n",
              " 'DrDoS_DNS',\n",
              " 'DrDoS_DNS',\n",
              " 'DrDoS_DNS',\n",
              " 'DrDoS_DNS',\n",
              " 'DrDoS_DNS',\n",
              " 'DrDoS_DNS',\n",
              " 'DrDoS_DNS',\n",
              " 'DrDoS_DNS',\n",
              " 'DrDoS_DNS',\n",
              " 'DrDoS_DNS',\n",
              " 'DrDoS_DNS',\n",
              " 'DrDoS_DNS',\n",
              " 'DrDoS_DNS',\n",
              " 'DrDoS_DNS',\n",
              " 'DrDoS_DNS',\n",
              " 'DrDoS_DNS',\n",
              " 'DrDoS_DNS',\n",
              " 'DrDoS_DNS',\n",
              " 'DrDoS_DNS',\n",
              " 'DrDoS_DNS',\n",
              " 'DrDoS_DNS',\n",
              " 'DrDoS_DNS',\n",
              " 'DrDoS_DNS',\n",
              " 'DrDoS_DNS',\n",
              " 'DrDoS_DNS',\n",
              " 'DrDoS_DNS',\n",
              " 'DrDoS_DNS',\n",
              " 'DrDoS_DNS',\n",
              " 'DrDoS_DNS',\n",
              " 'DrDoS_DNS',\n",
              " 'DrDoS_DNS',\n",
              " 'DrDoS_DNS',\n",
              " 'DrDoS_DNS',\n",
              " 'DrDoS_DNS',\n",
              " 'DrDoS_DNS',\n",
              " 'DrDoS_DNS',\n",
              " 'DrDoS_DNS',\n",
              " 'DrDoS_DNS',\n",
              " 'DrDoS_DNS',\n",
              " 'DrDoS_DNS',\n",
              " 'DrDoS_DNS',\n",
              " 'DrDoS_DNS',\n",
              " 'DrDoS_DNS',\n",
              " 'DrDoS_DNS',\n",
              " 'DrDoS_DNS',\n",
              " 'DrDoS_DNS',\n",
              " 'DrDoS_DNS',\n",
              " 'DrDoS_DNS',\n",
              " 'DrDoS_DNS',\n",
              " 'DrDoS_DNS',\n",
              " 'DrDoS_DNS',\n",
              " 'DrDoS_DNS',\n",
              " 'DrDoS_DNS',\n",
              " 'DrDoS_DNS',\n",
              " 'DrDoS_DNS',\n",
              " 'DrDoS_DNS',\n",
              " 'DrDoS_DNS',\n",
              " 'DrDoS_DNS',\n",
              " 'DrDoS_DNS',\n",
              " 'DrDoS_DNS',\n",
              " 'DrDoS_DNS',\n",
              " 'DrDoS_DNS',\n",
              " 'DrDoS_DNS',\n",
              " 'DrDoS_DNS',\n",
              " 'DrDoS_DNS',\n",
              " 'DrDoS_DNS',\n",
              " 'DrDoS_DNS',\n",
              " 'DrDoS_DNS',\n",
              " 'DrDoS_DNS',\n",
              " 'DrDoS_DNS',\n",
              " 'DrDoS_DNS',\n",
              " 'DrDoS_DNS',\n",
              " 'DrDoS_DNS',\n",
              " 'DrDoS_DNS',\n",
              " 'DrDoS_DNS',\n",
              " 'DrDoS_DNS',\n",
              " 'DrDoS_DNS',\n",
              " 'DrDoS_DNS',\n",
              " 'DrDoS_DNS',\n",
              " 'DrDoS_DNS',\n",
              " 'DrDoS_DNS',\n",
              " 'DrDoS_DNS',\n",
              " 'DrDoS_DNS',\n",
              " 'DrDoS_DNS',\n",
              " 'DrDoS_DNS',\n",
              " 'DrDoS_DNS',\n",
              " 'DrDoS_DNS',\n",
              " 'DrDoS_DNS',\n",
              " 'DrDoS_DNS',\n",
              " 'DrDoS_DNS',\n",
              " 'DrDoS_DNS',\n",
              " 'DrDoS_DNS',\n",
              " 'DrDoS_DNS',\n",
              " 'DrDoS_DNS',\n",
              " 'DrDoS_DNS',\n",
              " 'DrDoS_DNS',\n",
              " 'DrDoS_DNS',\n",
              " 'DrDoS_DNS',\n",
              " 'DrDoS_DNS',\n",
              " 'DrDoS_DNS',\n",
              " 'DrDoS_DNS',\n",
              " 'DrDoS_DNS',\n",
              " 'DrDoS_DNS',\n",
              " 'DrDoS_DNS',\n",
              " 'DrDoS_DNS',\n",
              " 'DrDoS_DNS',\n",
              " 'DrDoS_DNS',\n",
              " 'DrDoS_DNS',\n",
              " 'DrDoS_DNS',\n",
              " 'DrDoS_DNS',\n",
              " 'DrDoS_DNS',\n",
              " 'DrDoS_DNS',\n",
              " 'DrDoS_DNS',\n",
              " 'DrDoS_DNS',\n",
              " 'DrDoS_DNS',\n",
              " 'DrDoS_DNS',\n",
              " 'DrDoS_DNS',\n",
              " 'DrDoS_DNS',\n",
              " 'DrDoS_DNS',\n",
              " 'DrDoS_DNS',\n",
              " 'DrDoS_DNS',\n",
              " 'DrDoS_DNS',\n",
              " 'DrDoS_DNS',\n",
              " 'DrDoS_DNS',\n",
              " 'DrDoS_DNS',\n",
              " 'DrDoS_DNS',\n",
              " 'DrDoS_DNS',\n",
              " 'DrDoS_DNS',\n",
              " 'DrDoS_DNS',\n",
              " 'DrDoS_DNS',\n",
              " 'DrDoS_DNS',\n",
              " 'DrDoS_DNS',\n",
              " 'DrDoS_DNS',\n",
              " 'DrDoS_DNS',\n",
              " 'DrDoS_DNS',\n",
              " 'DrDoS_DNS',\n",
              " 'DrDoS_DNS',\n",
              " 'DrDoS_DNS',\n",
              " 'DrDoS_DNS',\n",
              " 'DrDoS_DNS',\n",
              " 'DrDoS_DNS',\n",
              " 'DrDoS_DNS',\n",
              " 'DrDoS_DNS',\n",
              " 'DrDoS_DNS',\n",
              " 'DrDoS_DNS',\n",
              " 'DrDoS_DNS',\n",
              " 'DrDoS_DNS',\n",
              " 'DrDoS_DNS',\n",
              " 'DrDoS_DNS',\n",
              " 'DrDoS_DNS',\n",
              " 'DrDoS_DNS',\n",
              " 'DrDoS_DNS',\n",
              " 'DrDoS_DNS',\n",
              " 'DrDoS_DNS',\n",
              " 'DrDoS_DNS',\n",
              " 'DrDoS_DNS',\n",
              " 'DrDoS_DNS',\n",
              " 'DrDoS_DNS',\n",
              " 'DrDoS_DNS',\n",
              " 'DrDoS_DNS',\n",
              " 'DrDoS_DNS',\n",
              " 'DrDoS_DNS',\n",
              " 'DrDoS_DNS',\n",
              " 'DrDoS_DNS',\n",
              " 'DrDoS_DNS',\n",
              " 'DrDoS_DNS',\n",
              " 'DrDoS_DNS',\n",
              " 'DrDoS_DNS',\n",
              " 'DrDoS_DNS',\n",
              " 'DrDoS_DNS',\n",
              " 'DrDoS_DNS',\n",
              " 'DrDoS_DNS',\n",
              " 'DrDoS_DNS',\n",
              " 'DrDoS_DNS',\n",
              " 'DrDoS_DNS',\n",
              " 'DrDoS_DNS',\n",
              " 'DrDoS_DNS',\n",
              " 'DrDoS_DNS',\n",
              " 'DrDoS_DNS',\n",
              " 'DrDoS_DNS',\n",
              " 'DrDoS_DNS',\n",
              " 'DrDoS_DNS',\n",
              " 'DrDoS_DNS',\n",
              " 'DrDoS_DNS',\n",
              " 'DrDoS_DNS',\n",
              " 'DrDoS_DNS',\n",
              " 'DrDoS_DNS',\n",
              " 'DrDoS_DNS',\n",
              " 'DrDoS_DNS',\n",
              " 'DrDoS_DNS',\n",
              " 'DrDoS_DNS',\n",
              " 'DrDoS_DNS',\n",
              " 'DrDoS_DNS',\n",
              " 'DrDoS_DNS',\n",
              " 'DrDoS_DNS',\n",
              " 'DrDoS_DNS',\n",
              " 'DrDoS_DNS',\n",
              " 'DrDoS_DNS',\n",
              " 'DrDoS_DNS',\n",
              " 'DrDoS_DNS',\n",
              " 'DrDoS_DNS',\n",
              " 'DrDoS_DNS',\n",
              " 'DrDoS_DNS',\n",
              " 'DrDoS_DNS',\n",
              " 'DrDoS_DNS',\n",
              " 'DrDoS_DNS',\n",
              " 'DrDoS_DNS',\n",
              " 'DrDoS_DNS',\n",
              " 'DrDoS_DNS',\n",
              " 'DrDoS_DNS',\n",
              " 'DrDoS_DNS',\n",
              " 'DrDoS_DNS',\n",
              " 'DrDoS_DNS',\n",
              " 'DrDoS_DNS',\n",
              " 'DrDoS_DNS',\n",
              " 'DrDoS_DNS',\n",
              " 'DrDoS_DNS',\n",
              " 'DrDoS_DNS',\n",
              " 'DrDoS_DNS',\n",
              " 'DrDoS_DNS',\n",
              " 'DrDoS_DNS',\n",
              " 'DrDoS_DNS',\n",
              " 'DrDoS_DNS',\n",
              " 'DrDoS_DNS',\n",
              " 'DrDoS_DNS',\n",
              " 'DrDoS_DNS',\n",
              " 'DrDoS_DNS',\n",
              " 'DrDoS_DNS',\n",
              " 'DrDoS_DNS',\n",
              " 'DrDoS_DNS',\n",
              " 'DrDoS_DNS',\n",
              " 'DrDoS_DNS',\n",
              " 'DrDoS_DNS',\n",
              " 'DrDoS_DNS',\n",
              " 'DrDoS_DNS',\n",
              " 'DrDoS_DNS',\n",
              " 'DrDoS_DNS',\n",
              " 'DrDoS_DNS',\n",
              " 'DrDoS_DNS',\n",
              " 'DrDoS_DNS',\n",
              " 'DrDoS_DNS',\n",
              " 'DrDoS_DNS',\n",
              " 'DrDoS_DNS',\n",
              " 'DrDoS_DNS',\n",
              " 'DrDoS_DNS',\n",
              " 'DrDoS_DNS',\n",
              " 'DrDoS_DNS',\n",
              " 'DrDoS_DNS',\n",
              " 'DrDoS_DNS',\n",
              " 'DrDoS_DNS',\n",
              " 'DrDoS_DNS',\n",
              " 'DrDoS_DNS',\n",
              " 'DrDoS_DNS',\n",
              " 'DrDoS_DNS',\n",
              " 'DrDoS_DNS',\n",
              " 'DrDoS_DNS',\n",
              " 'DrDoS_DNS',\n",
              " 'DrDoS_DNS',\n",
              " 'DrDoS_DNS',\n",
              " 'DrDoS_DNS',\n",
              " 'DrDoS_DNS',\n",
              " 'DrDoS_DNS',\n",
              " 'DrDoS_DNS',\n",
              " 'DrDoS_DNS',\n",
              " 'DrDoS_DNS',\n",
              " 'DrDoS_DNS',\n",
              " 'DrDoS_DNS',\n",
              " 'DrDoS_DNS',\n",
              " 'DrDoS_DNS',\n",
              " 'DrDoS_DNS',\n",
              " 'DrDoS_DNS',\n",
              " 'DrDoS_DNS',\n",
              " 'DrDoS_DNS',\n",
              " 'DrDoS_DNS',\n",
              " 'DrDoS_DNS',\n",
              " 'DrDoS_DNS',\n",
              " 'DrDoS_DNS',\n",
              " 'DrDoS_DNS',\n",
              " 'DrDoS_DNS',\n",
              " 'DrDoS_DNS',\n",
              " 'DrDoS_DNS',\n",
              " 'DrDoS_DNS',\n",
              " 'DrDoS_DNS',\n",
              " 'DrDoS_DNS',\n",
              " 'DrDoS_DNS',\n",
              " 'DrDoS_DNS',\n",
              " 'DrDoS_DNS',\n",
              " 'DrDoS_DNS',\n",
              " 'DrDoS_DNS',\n",
              " 'DrDoS_DNS',\n",
              " 'DrDoS_DNS',\n",
              " 'DrDoS_DNS',\n",
              " 'DrDoS_DNS',\n",
              " 'DrDoS_DNS',\n",
              " 'DrDoS_DNS',\n",
              " 'DrDoS_DNS',\n",
              " 'DrDoS_DNS',\n",
              " 'DrDoS_DNS',\n",
              " 'DrDoS_DNS',\n",
              " 'DrDoS_DNS',\n",
              " 'DrDoS_DNS',\n",
              " 'DrDoS_DNS',\n",
              " 'DrDoS_DNS',\n",
              " 'DrDoS_DNS',\n",
              " 'DrDoS_DNS',\n",
              " 'DrDoS_DNS',\n",
              " 'DrDoS_DNS',\n",
              " 'DrDoS_DNS',\n",
              " 'DrDoS_DNS',\n",
              " 'DrDoS_DNS',\n",
              " 'DrDoS_DNS',\n",
              " 'DrDoS_DNS',\n",
              " 'DrDoS_DNS',\n",
              " 'DrDoS_DNS',\n",
              " 'DrDoS_DNS',\n",
              " 'DrDoS_DNS',\n",
              " 'DrDoS_DNS',\n",
              " 'DrDoS_DNS',\n",
              " 'DrDoS_DNS',\n",
              " 'DrDoS_DNS',\n",
              " 'DrDoS_DNS',\n",
              " 'DrDoS_DNS',\n",
              " 'DrDoS_DNS',\n",
              " 'DrDoS_DNS',\n",
              " 'DrDoS_DNS',\n",
              " 'DrDoS_DNS',\n",
              " 'DrDoS_DNS',\n",
              " 'DrDoS_DNS',\n",
              " 'DrDoS_DNS',\n",
              " 'DrDoS_DNS',\n",
              " 'DrDoS_DNS',\n",
              " 'DrDoS_DNS',\n",
              " 'DrDoS_DNS',\n",
              " 'DrDoS_DNS',\n",
              " 'DrDoS_DNS',\n",
              " 'DrDoS_DNS',\n",
              " 'DrDoS_DNS',\n",
              " 'DrDoS_DNS',\n",
              " 'DrDoS_DNS',\n",
              " 'DrDoS_DNS',\n",
              " 'DrDoS_DNS',\n",
              " 'DrDoS_DNS',\n",
              " 'DrDoS_DNS',\n",
              " 'DrDoS_DNS',\n",
              " 'DrDoS_DNS',\n",
              " 'DrDoS_DNS',\n",
              " 'DrDoS_DNS',\n",
              " 'DrDoS_DNS',\n",
              " 'DrDoS_DNS',\n",
              " 'DrDoS_DNS',\n",
              " 'DrDoS_DNS',\n",
              " 'DrDoS_DNS',\n",
              " 'DrDoS_DNS',\n",
              " 'DrDoS_DNS',\n",
              " 'DrDoS_DNS',\n",
              " 'DrDoS_DNS',\n",
              " 'DrDoS_DNS',\n",
              " 'DrDoS_DNS',\n",
              " 'DrDoS_DNS',\n",
              " 'DrDoS_DNS',\n",
              " 'DrDoS_DNS',\n",
              " 'DrDoS_DNS',\n",
              " 'DrDoS_DNS',\n",
              " 'DrDoS_DNS',\n",
              " 'DrDoS_DNS',\n",
              " 'DrDoS_DNS',\n",
              " 'DrDoS_DNS',\n",
              " 'DrDoS_DNS',\n",
              " 'DrDoS_DNS',\n",
              " 'DrDoS_DNS',\n",
              " 'DrDoS_DNS',\n",
              " 'DrDoS_DNS',\n",
              " 'DrDoS_DNS',\n",
              " 'DrDoS_DNS',\n",
              " 'DrDoS_DNS',\n",
              " 'DrDoS_DNS',\n",
              " 'DrDoS_DNS',\n",
              " 'DrDoS_DNS',\n",
              " 'DrDoS_DNS',\n",
              " 'DrDoS_DNS',\n",
              " 'DrDoS_DNS',\n",
              " 'DrDoS_DNS',\n",
              " 'DrDoS_DNS',\n",
              " 'DrDoS_DNS',\n",
              " 'DrDoS_DNS',\n",
              " 'DrDoS_DNS',\n",
              " 'DrDoS_DNS',\n",
              " 'DrDoS_DNS',\n",
              " 'DrDoS_DNS',\n",
              " 'DrDoS_DNS',\n",
              " 'DrDoS_DNS',\n",
              " 'DrDoS_DNS',\n",
              " 'DrDoS_DNS',\n",
              " 'DrDoS_DNS',\n",
              " 'DrDoS_DNS',\n",
              " 'DrDoS_DNS',\n",
              " 'DrDoS_DNS',\n",
              " 'DrDoS_DNS',\n",
              " 'DrDoS_DNS',\n",
              " 'DrDoS_DNS',\n",
              " 'DrDoS_DNS',\n",
              " 'DrDoS_DNS',\n",
              " 'DrDoS_DNS',\n",
              " 'DrDoS_DNS',\n",
              " 'DrDoS_DNS',\n",
              " 'DrDoS_DNS',\n",
              " 'DrDoS_DNS',\n",
              " 'DrDoS_DNS',\n",
              " 'DrDoS_DNS',\n",
              " 'DrDoS_DNS',\n",
              " 'DrDoS_DNS',\n",
              " 'DrDoS_DNS',\n",
              " 'DrDoS_DNS',\n",
              " 'DrDoS_DNS',\n",
              " 'DrDoS_DNS',\n",
              " 'DrDoS_DNS',\n",
              " 'DrDoS_DNS',\n",
              " 'DrDoS_DNS',\n",
              " 'DrDoS_DNS',\n",
              " 'DrDoS_DNS',\n",
              " 'DrDoS_DNS',\n",
              " 'DrDoS_DNS',\n",
              " 'DrDoS_DNS',\n",
              " 'DrDoS_DNS',\n",
              " 'DrDoS_DNS',\n",
              " 'DrDoS_DNS',\n",
              " 'DrDoS_DNS',\n",
              " 'DrDoS_DNS',\n",
              " 'DrDoS_DNS',\n",
              " 'DrDoS_DNS',\n",
              " 'DrDoS_DNS',\n",
              " 'DrDoS_DNS',\n",
              " 'DrDoS_DNS',\n",
              " 'DrDoS_DNS',\n",
              " 'DrDoS_DNS',\n",
              " 'DrDoS_DNS',\n",
              " 'DrDoS_DNS',\n",
              " 'DrDoS_DNS',\n",
              " 'DrDoS_DNS',\n",
              " 'DrDoS_DNS',\n",
              " 'DrDoS_DNS',\n",
              " 'DrDoS_DNS',\n",
              " 'DrDoS_DNS',\n",
              " 'DrDoS_DNS',\n",
              " 'DrDoS_DNS',\n",
              " 'DrDoS_DNS',\n",
              " 'DrDoS_DNS',\n",
              " 'DrDoS_DNS',\n",
              " 'DrDoS_DNS',\n",
              " 'DrDoS_DNS',\n",
              " 'DrDoS_DNS',\n",
              " 'DrDoS_DNS',\n",
              " 'DrDoS_DNS',\n",
              " 'DrDoS_DNS',\n",
              " 'DrDoS_DNS',\n",
              " 'DrDoS_DNS',\n",
              " 'DrDoS_DNS',\n",
              " 'DrDoS_DNS',\n",
              " 'DrDoS_DNS',\n",
              " 'DrDoS_DNS',\n",
              " 'DrDoS_DNS',\n",
              " 'DrDoS_DNS',\n",
              " 'DrDoS_DNS',\n",
              " 'DrDoS_DNS',\n",
              " 'DrDoS_DNS',\n",
              " 'DrDoS_DNS',\n",
              " 'DrDoS_DNS',\n",
              " 'DrDoS_DNS',\n",
              " 'DrDoS_DNS',\n",
              " 'DrDoS_DNS',\n",
              " 'DrDoS_DNS',\n",
              " 'DrDoS_DNS',\n",
              " 'DrDoS_DNS',\n",
              " 'DrDoS_DNS',\n",
              " 'DrDoS_DNS',\n",
              " 'DrDoS_DNS',\n",
              " 'DrDoS_DNS',\n",
              " 'DrDoS_DNS',\n",
              " 'DrDoS_DNS',\n",
              " 'DrDoS_DNS',\n",
              " 'DrDoS_DNS',\n",
              " 'DrDoS_DNS',\n",
              " 'DrDoS_DNS',\n",
              " 'DrDoS_DNS',\n",
              " 'DrDoS_DNS',\n",
              " 'DrDoS_DNS',\n",
              " 'DrDoS_DNS',\n",
              " 'DrDoS_DNS',\n",
              " 'DrDoS_DNS',\n",
              " 'DrDoS_DNS',\n",
              " 'DrDoS_DNS',\n",
              " 'DrDoS_DNS',\n",
              " 'DrDoS_DNS',\n",
              " 'DrDoS_DNS',\n",
              " 'DrDoS_DNS',\n",
              " 'DrDoS_DNS',\n",
              " 'DrDoS_DNS',\n",
              " 'DrDoS_DNS',\n",
              " 'DrDoS_DNS',\n",
              " 'DrDoS_DNS',\n",
              " 'DrDoS_DNS',\n",
              " 'DrDoS_DNS',\n",
              " 'DrDoS_DNS',\n",
              " 'DrDoS_DNS',\n",
              " 'DrDoS_DNS',\n",
              " 'DrDoS_DNS',\n",
              " 'DrDoS_DNS',\n",
              " 'DrDoS_DNS',\n",
              " 'DrDoS_DNS',\n",
              " 'DrDoS_DNS',\n",
              " 'DrDoS_DNS',\n",
              " 'DrDoS_DNS',\n",
              " 'DrDoS_DNS',\n",
              " 'DrDoS_DNS',\n",
              " 'DrDoS_DNS',\n",
              " 'DrDoS_DNS',\n",
              " 'DrDoS_DNS',\n",
              " 'DrDoS_DNS',\n",
              " 'DrDoS_DNS',\n",
              " 'DrDoS_DNS',\n",
              " 'DrDoS_DNS',\n",
              " 'DrDoS_DNS',\n",
              " 'DrDoS_DNS',\n",
              " 'DrDoS_DNS',\n",
              " 'DrDoS_DNS',\n",
              " 'DrDoS_DNS',\n",
              " 'DrDoS_DNS',\n",
              " 'DrDoS_DNS',\n",
              " 'DrDoS_DNS',\n",
              " 'DrDoS_DNS',\n",
              " 'DrDoS_DNS',\n",
              " 'DrDoS_DNS',\n",
              " 'DrDoS_DNS',\n",
              " 'DrDoS_DNS',\n",
              " 'DrDoS_DNS',\n",
              " 'DrDoS_DNS',\n",
              " 'DrDoS_DNS',\n",
              " 'DrDoS_DNS',\n",
              " 'DrDoS_DNS',\n",
              " 'DrDoS_DNS',\n",
              " 'DrDoS_DNS',\n",
              " 'DrDoS_DNS',\n",
              " 'DrDoS_DNS',\n",
              " 'DrDoS_DNS',\n",
              " 'DrDoS_DNS',\n",
              " 'DrDoS_DNS',\n",
              " 'DrDoS_DNS',\n",
              " 'DrDoS_DNS',\n",
              " 'DrDoS_DNS',\n",
              " 'DrDoS_DNS',\n",
              " 'DrDoS_DNS',\n",
              " 'DrDoS_DNS',\n",
              " 'DrDoS_DNS',\n",
              " 'DrDoS_DNS',\n",
              " 'DrDoS_DNS',\n",
              " 'DrDoS_DNS',\n",
              " 'DrDoS_DNS',\n",
              " 'DrDoS_DNS',\n",
              " 'DrDoS_DNS',\n",
              " 'DrDoS_DNS',\n",
              " 'DrDoS_DNS',\n",
              " 'DrDoS_DNS',\n",
              " 'DrDoS_DNS',\n",
              " 'DrDoS_DNS',\n",
              " 'DrDoS_DNS',\n",
              " 'DrDoS_DNS',\n",
              " 'DrDoS_DNS',\n",
              " 'DrDoS_DNS',\n",
              " 'DrDoS_DNS',\n",
              " 'DrDoS_DNS',\n",
              " 'DrDoS_DNS',\n",
              " 'DrDoS_DNS',\n",
              " 'DrDoS_DNS',\n",
              " 'DrDoS_DNS',\n",
              " 'DrDoS_DNS',\n",
              " 'DrDoS_DNS',\n",
              " 'DrDoS_DNS',\n",
              " 'DrDoS_DNS',\n",
              " 'DrDoS_DNS',\n",
              " 'DrDoS_DNS',\n",
              " 'DrDoS_DNS',\n",
              " 'DrDoS_DNS',\n",
              " 'DrDoS_DNS',\n",
              " 'DrDoS_DNS',\n",
              " 'DrDoS_DNS',\n",
              " 'DrDoS_DNS',\n",
              " 'DrDoS_DNS',\n",
              " 'DrDoS_DNS',\n",
              " 'DrDoS_DNS',\n",
              " 'DrDoS_DNS',\n",
              " 'DrDoS_DNS',\n",
              " 'DrDoS_DNS',\n",
              " 'DrDoS_DNS',\n",
              " 'DrDoS_DNS',\n",
              " 'DrDoS_DNS',\n",
              " 'DrDoS_DNS',\n",
              " 'DrDoS_DNS',\n",
              " 'DrDoS_DNS',\n",
              " 'DrDoS_DNS',\n",
              " 'DrDoS_DNS',\n",
              " 'DrDoS_DNS',\n",
              " 'DrDoS_DNS',\n",
              " 'DrDoS_DNS',\n",
              " 'DrDoS_DNS',\n",
              " 'DrDoS_DNS',\n",
              " 'DrDoS_DNS',\n",
              " 'DrDoS_DNS',\n",
              " 'DrDoS_DNS',\n",
              " 'DrDoS_DNS',\n",
              " 'DrDoS_DNS',\n",
              " 'DrDoS_DNS',\n",
              " 'DrDoS_DNS',\n",
              " 'DrDoS_DNS',\n",
              " 'DrDoS_DNS',\n",
              " 'DrDoS_DNS',\n",
              " 'DrDoS_DNS',\n",
              " 'DrDoS_DNS',\n",
              " 'DrDoS_DNS',\n",
              " 'DrDoS_DNS',\n",
              " 'DrDoS_DNS',\n",
              " 'DrDoS_DNS',\n",
              " 'DrDoS_DNS',\n",
              " 'DrDoS_DNS',\n",
              " 'DrDoS_DNS',\n",
              " 'DrDoS_DNS',\n",
              " 'DrDoS_DNS',\n",
              " 'DrDoS_DNS',\n",
              " 'DrDoS_DNS',\n",
              " 'DrDoS_DNS',\n",
              " 'DrDoS_DNS',\n",
              " 'DrDoS_DNS',\n",
              " 'DrDoS_DNS',\n",
              " 'DrDoS_DNS',\n",
              " 'DrDoS_DNS',\n",
              " 'DrDoS_DNS',\n",
              " 'DrDoS_DNS',\n",
              " 'DrDoS_DNS',\n",
              " 'DrDoS_DNS',\n",
              " 'DrDoS_DNS',\n",
              " 'DrDoS_DNS',\n",
              " 'DrDoS_DNS',\n",
              " 'DrDoS_DNS',\n",
              " 'DrDoS_DNS',\n",
              " 'DrDoS_DNS',\n",
              " 'DrDoS_DNS',\n",
              " 'DrDoS_DNS',\n",
              " 'DrDoS_DNS',\n",
              " 'DrDoS_DNS',\n",
              " 'DrDoS_DNS',\n",
              " 'DrDoS_DNS',\n",
              " 'DrDoS_DNS',\n",
              " 'DrDoS_DNS',\n",
              " 'DrDoS_DNS',\n",
              " 'DrDoS_DNS',\n",
              " 'DrDoS_DNS',\n",
              " 'DrDoS_DNS',\n",
              " 'DrDoS_DNS',\n",
              " 'DrDoS_DNS',\n",
              " 'DrDoS_DNS',\n",
              " 'DrDoS_DNS',\n",
              " 'DrDoS_DNS',\n",
              " 'DrDoS_DNS',\n",
              " 'DrDoS_DNS',\n",
              " 'DrDoS_DNS',\n",
              " 'DrDoS_DNS',\n",
              " 'DrDoS_DNS',\n",
              " 'DrDoS_DNS',\n",
              " 'DrDoS_DNS',\n",
              " 'DrDoS_DNS',\n",
              " 'DrDoS_DNS',\n",
              " 'DrDoS_DNS',\n",
              " 'DrDoS_DNS',\n",
              " 'DrDoS_DNS',\n",
              " 'DrDoS_DNS',\n",
              " 'DrDoS_DNS',\n",
              " 'DrDoS_DNS',\n",
              " 'DrDoS_DNS',\n",
              " 'DrDoS_DNS',\n",
              " 'DrDoS_DNS',\n",
              " 'DrDoS_DNS',\n",
              " 'DrDoS_DNS',\n",
              " 'DrDoS_DNS',\n",
              " 'DrDoS_DNS',\n",
              " 'DrDoS_DNS',\n",
              " 'DrDoS_DNS',\n",
              " 'DrDoS_DNS',\n",
              " 'DrDoS_DNS',\n",
              " 'DrDoS_DNS',\n",
              " 'DrDoS_DNS',\n",
              " 'DrDoS_DNS',\n",
              " 'DrDoS_DNS',\n",
              " 'DrDoS_DNS',\n",
              " 'DrDoS_DNS',\n",
              " 'DrDoS_DNS',\n",
              " 'DrDoS_DNS',\n",
              " 'DrDoS_DNS',\n",
              " 'DrDoS_DNS',\n",
              " 'DrDoS_DNS',\n",
              " 'DrDoS_DNS',\n",
              " 'DrDoS_DNS',\n",
              " 'DrDoS_DNS',\n",
              " 'DrDoS_DNS',\n",
              " 'DrDoS_DNS',\n",
              " 'DrDoS_DNS',\n",
              " 'DrDoS_DNS',\n",
              " 'DrDoS_DNS',\n",
              " 'DrDoS_DNS',\n",
              " 'DrDoS_DNS',\n",
              " 'DrDoS_DNS',\n",
              " 'DrDoS_DNS',\n",
              " 'DrDoS_DNS',\n",
              " 'DrDoS_DNS',\n",
              " 'DrDoS_DNS',\n",
              " 'DrDoS_DNS',\n",
              " 'DrDoS_DNS',\n",
              " 'DrDoS_DNS',\n",
              " 'DrDoS_DNS',\n",
              " 'DrDoS_DNS',\n",
              " 'DrDoS_DNS',\n",
              " 'DrDoS_DNS',\n",
              " 'DrDoS_DNS',\n",
              " 'DrDoS_DNS',\n",
              " 'DrDoS_DNS',\n",
              " 'DrDoS_DNS',\n",
              " 'DrDoS_DNS',\n",
              " 'DrDoS_DNS',\n",
              " 'DrDoS_DNS',\n",
              " 'DrDoS_DNS',\n",
              " 'DrDoS_DNS',\n",
              " 'DrDoS_DNS',\n",
              " 'DrDoS_DNS',\n",
              " 'DrDoS_DNS',\n",
              " 'DrDoS_DNS',\n",
              " 'DrDoS_DNS',\n",
              " 'DrDoS_DNS',\n",
              " 'DrDoS_DNS',\n",
              " 'DrDoS_DNS',\n",
              " 'DrDoS_DNS',\n",
              " 'DrDoS_DNS',\n",
              " 'DrDoS_DNS',\n",
              " 'DrDoS_DNS',\n",
              " 'DrDoS_DNS',\n",
              " 'DrDoS_DNS',\n",
              " 'DrDoS_DNS',\n",
              " 'DrDoS_DNS',\n",
              " 'DrDoS_DNS',\n",
              " 'DrDoS_DNS',\n",
              " 'DrDoS_DNS',\n",
              " 'DrDoS_DNS',\n",
              " 'DrDoS_DNS',\n",
              " 'DrDoS_DNS',\n",
              " 'DrDoS_DNS',\n",
              " 'DrDoS_DNS',\n",
              " 'DrDoS_DNS',\n",
              " 'DrDoS_DNS',\n",
              " 'DrDoS_DNS',\n",
              " 'DrDoS_DNS',\n",
              " 'DrDoS_DNS',\n",
              " 'DrDoS_DNS',\n",
              " 'DrDoS_DNS',\n",
              " 'DrDoS_DNS',\n",
              " 'DrDoS_DNS',\n",
              " 'DrDoS_DNS',\n",
              " 'DrDoS_DNS',\n",
              " 'DrDoS_DNS',\n",
              " 'DrDoS_DNS',\n",
              " 'DrDoS_DNS',\n",
              " 'DrDoS_DNS',\n",
              " 'DrDoS_DNS',\n",
              " 'DrDoS_DNS',\n",
              " 'DrDoS_DNS',\n",
              " 'DrDoS_DNS',\n",
              " 'DrDoS_DNS',\n",
              " 'DrDoS_DNS',\n",
              " 'DrDoS_DNS',\n",
              " 'DrDoS_DNS',\n",
              " 'DrDoS_DNS',\n",
              " 'DrDoS_DNS',\n",
              " 'DrDoS_DNS',\n",
              " 'DrDoS_DNS',\n",
              " 'DrDoS_DNS',\n",
              " 'DrDoS_DNS',\n",
              " 'DrDoS_DNS',\n",
              " 'DrDoS_DNS',\n",
              " 'DrDoS_DNS',\n",
              " 'DrDoS_DNS',\n",
              " 'DrDoS_DNS',\n",
              " 'DrDoS_DNS',\n",
              " 'DrDoS_DNS',\n",
              " 'DrDoS_DNS',\n",
              " 'DrDoS_DNS',\n",
              " 'DrDoS_DNS',\n",
              " 'DrDoS_DNS',\n",
              " 'DrDoS_DNS',\n",
              " 'DrDoS_DNS',\n",
              " 'DrDoS_DNS',\n",
              " 'DrDoS_DNS',\n",
              " 'DrDoS_DNS',\n",
              " 'DrDoS_DNS',\n",
              " 'DrDoS_DNS',\n",
              " 'DrDoS_DNS',\n",
              " 'DrDoS_DNS',\n",
              " 'DrDoS_DNS',\n",
              " 'DrDoS_DNS',\n",
              " 'DrDoS_DNS',\n",
              " 'DrDoS_DNS',\n",
              " 'DrDoS_DNS',\n",
              " 'DrDoS_DNS',\n",
              " 'DrDoS_DNS',\n",
              " 'DrDoS_DNS',\n",
              " 'DrDoS_DNS',\n",
              " 'DrDoS_DNS',\n",
              " 'DrDoS_DNS',\n",
              " 'DrDoS_DNS',\n",
              " 'DrDoS_DNS',\n",
              " 'DrDoS_DNS',\n",
              " 'DrDoS_DNS',\n",
              " 'DrDoS_DNS',\n",
              " 'DrDoS_DNS',\n",
              " 'DrDoS_DNS',\n",
              " 'DrDoS_DNS',\n",
              " 'DrDoS_DNS',\n",
              " 'DrDoS_DNS',\n",
              " 'DrDoS_DNS',\n",
              " 'DrDoS_DNS',\n",
              " 'DrDoS_DNS',\n",
              " 'DrDoS_DNS',\n",
              " 'DrDoS_DNS',\n",
              " 'DrDoS_DNS',\n",
              " 'DrDoS_DNS',\n",
              " 'DrDoS_DNS',\n",
              " 'DrDoS_DNS',\n",
              " 'DrDoS_DNS',\n",
              " 'DrDoS_DNS',\n",
              " 'DrDoS_DNS',\n",
              " 'DrDoS_DNS',\n",
              " 'DrDoS_DNS',\n",
              " 'DrDoS_DNS',\n",
              " 'DrDoS_DNS',\n",
              " 'DrDoS_DNS',\n",
              " 'DrDoS_DNS',\n",
              " 'DrDoS_DNS',\n",
              " 'DrDoS_DNS',\n",
              " 'DrDoS_DNS',\n",
              " 'DrDoS_DNS',\n",
              " 'DrDoS_DNS',\n",
              " 'DrDoS_DNS',\n",
              " 'DrDoS_DNS',\n",
              " 'DrDoS_DNS',\n",
              " 'DrDoS_DNS',\n",
              " 'DrDoS_DNS',\n",
              " 'DrDoS_DNS',\n",
              " 'DrDoS_DNS',\n",
              " 'DrDoS_DNS',\n",
              " 'DrDoS_DNS',\n",
              " 'DrDoS_DNS',\n",
              " 'DrDoS_DNS',\n",
              " 'DrDoS_DNS',\n",
              " 'DrDoS_DNS',\n",
              " 'DrDoS_DNS',\n",
              " 'DrDoS_DNS',\n",
              " 'DrDoS_DNS',\n",
              " 'DrDoS_DNS',\n",
              " 'DrDoS_DNS',\n",
              " 'DrDoS_DNS',\n",
              " 'DrDoS_DNS',\n",
              " 'DrDoS_DNS',\n",
              " 'DrDoS_DNS',\n",
              " 'DrDoS_DNS',\n",
              " 'DrDoS_DNS',\n",
              " 'DrDoS_DNS',\n",
              " 'DrDoS_DNS',\n",
              " 'DrDoS_DNS',\n",
              " 'DrDoS_DNS',\n",
              " 'DrDoS_DNS',\n",
              " 'DrDoS_DNS',\n",
              " 'DrDoS_DNS',\n",
              " ...]"
            ]
          },
          "metadata": {},
          "execution_count": 16
        }
      ]
    },
    {
      "cell_type": "code",
      "source": [
        "#this loop will replace our label by numerical values ,if it's benign ,we will give 0 else we give it 1.\n",
        "for i in range(len(Y)):\n",
        "    if Y[i] == \"Benign\":\n",
        "        Y[i] = 0\n",
        "    else:\n",
        "        Y[i] = 1"
      ],
      "metadata": {
        "colab": {
          "base_uri": "https://localhost:8080/"
        },
        "id": "ihjccRps-G1P",
        "outputId": "8ea258ba-155b-476c-c293-7951acbeecb8"
      },
      "execution_count": 17,
      "outputs": [
        {
          "output_type": "stream",
          "name": "stderr",
          "text": [
            "<ipython-input-17-50bb82cb8ca7>:6: SettingWithCopyWarning: \n",
            "A value is trying to be set on a copy of a slice from a DataFrame\n",
            "\n",
            "See the caveats in the documentation: https://pandas.pydata.org/pandas-docs/stable/user_guide/indexing.html#returning-a-view-versus-a-copy\n",
            "  Y[i] = 1\n",
            "<ipython-input-17-50bb82cb8ca7>:4: SettingWithCopyWarning: \n",
            "A value is trying to be set on a copy of a slice from a DataFrame\n",
            "\n",
            "See the caveats in the documentation: https://pandas.pydata.org/pandas-docs/stable/user_guide/indexing.html#returning-a-view-versus-a-copy\n",
            "  Y[i] = 0\n"
          ]
        }
      ]
    },
    {
      "cell_type": "code",
      "source": [
        "print(Y)"
      ],
      "metadata": {
        "colab": {
          "base_uri": "https://localhost:8080/"
        },
        "id": "KbYFK_Ny-s6O",
        "outputId": "5705c198-b88f-4965-b5ac-14b3cb1fa0e7"
      },
      "execution_count": 18,
      "outputs": [
        {
          "output_type": "stream",
          "name": "stdout",
          "text": [
            "0         1\n",
            "1         1\n",
            "2         1\n",
            "3         1\n",
            "4         1\n",
            "         ..\n",
            "431366    0\n",
            "431367    0\n",
            "431368    0\n",
            "431369    0\n",
            "431370    0\n",
            "Name: Label, Length: 431371, dtype: object\n"
          ]
        }
      ]
    },
    {
      "cell_type": "markdown",
      "source": [
        "**Handling imbalanced data**"
      ],
      "metadata": {
        "id": "Sm8gguMMnju2"
      }
    },
    {
      "cell_type": "code",
      "source": [
        "ddosdataset.tail()"
      ],
      "metadata": {
        "colab": {
          "base_uri": "https://localhost:8080/",
          "height": 288
        },
        "id": "u0p6-QmTiIo7",
        "outputId": "30e30728-e439-4938-edf3-5ee43d29ebba"
      },
      "execution_count": 19,
      "outputs": [
        {
          "output_type": "execute_result",
          "data": {
            "text/plain": [
              "        Protocol  Flow Duration  Total Fwd Packets  Total Backward Packets  \\\n",
              "431366         6             53                  1                       2   \n",
              "431367         6             66                  1                       2   \n",
              "431368        17          26288                  2                       2   \n",
              "431369         6          30679                  1                       1   \n",
              "431370         6             67                  1                       2   \n",
              "\n",
              "        Fwd Packets Length Total  Bwd Packets Length Total  \\\n",
              "431366                       0.0                       0.0   \n",
              "431367                       0.0                       0.0   \n",
              "431368                      96.0                      96.0   \n",
              "431369                       0.0                       0.0   \n",
              "431370                       0.0                       0.0   \n",
              "\n",
              "        Fwd Packet Length Max  Fwd Packet Length Min  Fwd Packet Length Mean  \\\n",
              "431366                    0.0                    0.0                     0.0   \n",
              "431367                    0.0                    0.0                     0.0   \n",
              "431368                   48.0                   48.0                    48.0   \n",
              "431369                    0.0                    0.0                     0.0   \n",
              "431370                    0.0                    0.0                     0.0   \n",
              "\n",
              "        Fwd Packet Length Std  ...  Fwd Seg Size Min  Active Mean  Active Std  \\\n",
              "431366                    0.0  ...                32          0.0         0.0   \n",
              "431367                    0.0  ...                32          0.0         0.0   \n",
              "431368                    0.0  ...                20          0.0         0.0   \n",
              "431369                    0.0  ...                32          0.0         0.0   \n",
              "431370                    0.0  ...                32          0.0         0.0   \n",
              "\n",
              "        Active Max  Active Min  Idle Mean  Idle Std  Idle Max  Idle Min  Label  \n",
              "431366         0.0         0.0        0.0       0.0       0.0       0.0      0  \n",
              "431367         0.0         0.0        0.0       0.0       0.0       0.0      0  \n",
              "431368         0.0         0.0        0.0       0.0       0.0       0.0      0  \n",
              "431369         0.0         0.0        0.0       0.0       0.0       0.0      0  \n",
              "431370         0.0         0.0        0.0       0.0       0.0       0.0      0  \n",
              "\n",
              "[5 rows x 78 columns]"
            ],
            "text/html": [
              "\n",
              "  <div id=\"df-5845f657-0949-4a4d-ba07-09f40a64ad02\" class=\"colab-df-container\">\n",
              "    <div>\n",
              "<style scoped>\n",
              "    .dataframe tbody tr th:only-of-type {\n",
              "        vertical-align: middle;\n",
              "    }\n",
              "\n",
              "    .dataframe tbody tr th {\n",
              "        vertical-align: top;\n",
              "    }\n",
              "\n",
              "    .dataframe thead th {\n",
              "        text-align: right;\n",
              "    }\n",
              "</style>\n",
              "<table border=\"1\" class=\"dataframe\">\n",
              "  <thead>\n",
              "    <tr style=\"text-align: right;\">\n",
              "      <th></th>\n",
              "      <th>Protocol</th>\n",
              "      <th>Flow Duration</th>\n",
              "      <th>Total Fwd Packets</th>\n",
              "      <th>Total Backward Packets</th>\n",
              "      <th>Fwd Packets Length Total</th>\n",
              "      <th>Bwd Packets Length Total</th>\n",
              "      <th>Fwd Packet Length Max</th>\n",
              "      <th>Fwd Packet Length Min</th>\n",
              "      <th>Fwd Packet Length Mean</th>\n",
              "      <th>Fwd Packet Length Std</th>\n",
              "      <th>...</th>\n",
              "      <th>Fwd Seg Size Min</th>\n",
              "      <th>Active Mean</th>\n",
              "      <th>Active Std</th>\n",
              "      <th>Active Max</th>\n",
              "      <th>Active Min</th>\n",
              "      <th>Idle Mean</th>\n",
              "      <th>Idle Std</th>\n",
              "      <th>Idle Max</th>\n",
              "      <th>Idle Min</th>\n",
              "      <th>Label</th>\n",
              "    </tr>\n",
              "  </thead>\n",
              "  <tbody>\n",
              "    <tr>\n",
              "      <th>431366</th>\n",
              "      <td>6</td>\n",
              "      <td>53</td>\n",
              "      <td>1</td>\n",
              "      <td>2</td>\n",
              "      <td>0.0</td>\n",
              "      <td>0.0</td>\n",
              "      <td>0.0</td>\n",
              "      <td>0.0</td>\n",
              "      <td>0.0</td>\n",
              "      <td>0.0</td>\n",
              "      <td>...</td>\n",
              "      <td>32</td>\n",
              "      <td>0.0</td>\n",
              "      <td>0.0</td>\n",
              "      <td>0.0</td>\n",
              "      <td>0.0</td>\n",
              "      <td>0.0</td>\n",
              "      <td>0.0</td>\n",
              "      <td>0.0</td>\n",
              "      <td>0.0</td>\n",
              "      <td>0</td>\n",
              "    </tr>\n",
              "    <tr>\n",
              "      <th>431367</th>\n",
              "      <td>6</td>\n",
              "      <td>66</td>\n",
              "      <td>1</td>\n",
              "      <td>2</td>\n",
              "      <td>0.0</td>\n",
              "      <td>0.0</td>\n",
              "      <td>0.0</td>\n",
              "      <td>0.0</td>\n",
              "      <td>0.0</td>\n",
              "      <td>0.0</td>\n",
              "      <td>...</td>\n",
              "      <td>32</td>\n",
              "      <td>0.0</td>\n",
              "      <td>0.0</td>\n",
              "      <td>0.0</td>\n",
              "      <td>0.0</td>\n",
              "      <td>0.0</td>\n",
              "      <td>0.0</td>\n",
              "      <td>0.0</td>\n",
              "      <td>0.0</td>\n",
              "      <td>0</td>\n",
              "    </tr>\n",
              "    <tr>\n",
              "      <th>431368</th>\n",
              "      <td>17</td>\n",
              "      <td>26288</td>\n",
              "      <td>2</td>\n",
              "      <td>2</td>\n",
              "      <td>96.0</td>\n",
              "      <td>96.0</td>\n",
              "      <td>48.0</td>\n",
              "      <td>48.0</td>\n",
              "      <td>48.0</td>\n",
              "      <td>0.0</td>\n",
              "      <td>...</td>\n",
              "      <td>20</td>\n",
              "      <td>0.0</td>\n",
              "      <td>0.0</td>\n",
              "      <td>0.0</td>\n",
              "      <td>0.0</td>\n",
              "      <td>0.0</td>\n",
              "      <td>0.0</td>\n",
              "      <td>0.0</td>\n",
              "      <td>0.0</td>\n",
              "      <td>0</td>\n",
              "    </tr>\n",
              "    <tr>\n",
              "      <th>431369</th>\n",
              "      <td>6</td>\n",
              "      <td>30679</td>\n",
              "      <td>1</td>\n",
              "      <td>1</td>\n",
              "      <td>0.0</td>\n",
              "      <td>0.0</td>\n",
              "      <td>0.0</td>\n",
              "      <td>0.0</td>\n",
              "      <td>0.0</td>\n",
              "      <td>0.0</td>\n",
              "      <td>...</td>\n",
              "      <td>32</td>\n",
              "      <td>0.0</td>\n",
              "      <td>0.0</td>\n",
              "      <td>0.0</td>\n",
              "      <td>0.0</td>\n",
              "      <td>0.0</td>\n",
              "      <td>0.0</td>\n",
              "      <td>0.0</td>\n",
              "      <td>0.0</td>\n",
              "      <td>0</td>\n",
              "    </tr>\n",
              "    <tr>\n",
              "      <th>431370</th>\n",
              "      <td>6</td>\n",
              "      <td>67</td>\n",
              "      <td>1</td>\n",
              "      <td>2</td>\n",
              "      <td>0.0</td>\n",
              "      <td>0.0</td>\n",
              "      <td>0.0</td>\n",
              "      <td>0.0</td>\n",
              "      <td>0.0</td>\n",
              "      <td>0.0</td>\n",
              "      <td>...</td>\n",
              "      <td>32</td>\n",
              "      <td>0.0</td>\n",
              "      <td>0.0</td>\n",
              "      <td>0.0</td>\n",
              "      <td>0.0</td>\n",
              "      <td>0.0</td>\n",
              "      <td>0.0</td>\n",
              "      <td>0.0</td>\n",
              "      <td>0.0</td>\n",
              "      <td>0</td>\n",
              "    </tr>\n",
              "  </tbody>\n",
              "</table>\n",
              "<p>5 rows × 78 columns</p>\n",
              "</div>\n",
              "    <div class=\"colab-df-buttons\">\n",
              "\n",
              "  <div class=\"colab-df-container\">\n",
              "    <button class=\"colab-df-convert\" onclick=\"convertToInteractive('df-5845f657-0949-4a4d-ba07-09f40a64ad02')\"\n",
              "            title=\"Convert this dataframe to an interactive table.\"\n",
              "            style=\"display:none;\">\n",
              "\n",
              "  <svg xmlns=\"http://www.w3.org/2000/svg\" height=\"24px\" viewBox=\"0 -960 960 960\">\n",
              "    <path d=\"M120-120v-720h720v720H120Zm60-500h600v-160H180v160Zm220 220h160v-160H400v160Zm0 220h160v-160H400v160ZM180-400h160v-160H180v160Zm440 0h160v-160H620v160ZM180-180h160v-160H180v160Zm440 0h160v-160H620v160Z\"/>\n",
              "  </svg>\n",
              "    </button>\n",
              "\n",
              "  <style>\n",
              "    .colab-df-container {\n",
              "      display:flex;\n",
              "      gap: 12px;\n",
              "    }\n",
              "\n",
              "    .colab-df-convert {\n",
              "      background-color: #E8F0FE;\n",
              "      border: none;\n",
              "      border-radius: 50%;\n",
              "      cursor: pointer;\n",
              "      display: none;\n",
              "      fill: #1967D2;\n",
              "      height: 32px;\n",
              "      padding: 0 0 0 0;\n",
              "      width: 32px;\n",
              "    }\n",
              "\n",
              "    .colab-df-convert:hover {\n",
              "      background-color: #E2EBFA;\n",
              "      box-shadow: 0px 1px 2px rgba(60, 64, 67, 0.3), 0px 1px 3px 1px rgba(60, 64, 67, 0.15);\n",
              "      fill: #174EA6;\n",
              "    }\n",
              "\n",
              "    .colab-df-buttons div {\n",
              "      margin-bottom: 4px;\n",
              "    }\n",
              "\n",
              "    [theme=dark] .colab-df-convert {\n",
              "      background-color: #3B4455;\n",
              "      fill: #D2E3FC;\n",
              "    }\n",
              "\n",
              "    [theme=dark] .colab-df-convert:hover {\n",
              "      background-color: #434B5C;\n",
              "      box-shadow: 0px 1px 3px 1px rgba(0, 0, 0, 0.15);\n",
              "      filter: drop-shadow(0px 1px 2px rgba(0, 0, 0, 0.3));\n",
              "      fill: #FFFFFF;\n",
              "    }\n",
              "  </style>\n",
              "\n",
              "    <script>\n",
              "      const buttonEl =\n",
              "        document.querySelector('#df-5845f657-0949-4a4d-ba07-09f40a64ad02 button.colab-df-convert');\n",
              "      buttonEl.style.display =\n",
              "        google.colab.kernel.accessAllowed ? 'block' : 'none';\n",
              "\n",
              "      async function convertToInteractive(key) {\n",
              "        const element = document.querySelector('#df-5845f657-0949-4a4d-ba07-09f40a64ad02');\n",
              "        const dataTable =\n",
              "          await google.colab.kernel.invokeFunction('convertToInteractive',\n",
              "                                                    [key], {});\n",
              "        if (!dataTable) return;\n",
              "\n",
              "        const docLinkHtml = 'Like what you see? Visit the ' +\n",
              "          '<a target=\"_blank\" href=https://colab.research.google.com/notebooks/data_table.ipynb>data table notebook</a>'\n",
              "          + ' to learn more about interactive tables.';\n",
              "        element.innerHTML = '';\n",
              "        dataTable['output_type'] = 'display_data';\n",
              "        await google.colab.output.renderOutput(dataTable, element);\n",
              "        const docLink = document.createElement('div');\n",
              "        docLink.innerHTML = docLinkHtml;\n",
              "        element.appendChild(docLink);\n",
              "      }\n",
              "    </script>\n",
              "  </div>\n",
              "\n",
              "\n",
              "<div id=\"df-f5d3e1e3-ec5a-407e-b9e2-3d2d0782074c\">\n",
              "  <button class=\"colab-df-quickchart\" onclick=\"quickchart('df-f5d3e1e3-ec5a-407e-b9e2-3d2d0782074c')\"\n",
              "            title=\"Suggest charts.\"\n",
              "            style=\"display:none;\">\n",
              "\n",
              "<svg xmlns=\"http://www.w3.org/2000/svg\" height=\"24px\"viewBox=\"0 0 24 24\"\n",
              "     width=\"24px\">\n",
              "    <g>\n",
              "        <path d=\"M19 3H5c-1.1 0-2 .9-2 2v14c0 1.1.9 2 2 2h14c1.1 0 2-.9 2-2V5c0-1.1-.9-2-2-2zM9 17H7v-7h2v7zm4 0h-2V7h2v10zm4 0h-2v-4h2v4z\"/>\n",
              "    </g>\n",
              "</svg>\n",
              "  </button>\n",
              "\n",
              "<style>\n",
              "  .colab-df-quickchart {\n",
              "    background-color: #E8F0FE;\n",
              "    border: none;\n",
              "    border-radius: 50%;\n",
              "    cursor: pointer;\n",
              "    display: none;\n",
              "    fill: #1967D2;\n",
              "    height: 32px;\n",
              "    padding: 0 0 0 0;\n",
              "    width: 32px;\n",
              "  }\n",
              "\n",
              "  .colab-df-quickchart:hover {\n",
              "    background-color: #E2EBFA;\n",
              "    box-shadow: 0px 1px 2px rgba(60, 64, 67, 0.3), 0px 1px 3px 1px rgba(60, 64, 67, 0.15);\n",
              "    fill: #174EA6;\n",
              "  }\n",
              "\n",
              "  [theme=dark] .colab-df-quickchart {\n",
              "    background-color: #3B4455;\n",
              "    fill: #D2E3FC;\n",
              "  }\n",
              "\n",
              "  [theme=dark] .colab-df-quickchart:hover {\n",
              "    background-color: #434B5C;\n",
              "    box-shadow: 0px 1px 3px 1px rgba(0, 0, 0, 0.15);\n",
              "    filter: drop-shadow(0px 1px 2px rgba(0, 0, 0, 0.3));\n",
              "    fill: #FFFFFF;\n",
              "  }\n",
              "</style>\n",
              "\n",
              "  <script>\n",
              "    async function quickchart(key) {\n",
              "      const charts = await google.colab.kernel.invokeFunction(\n",
              "          'suggestCharts', [key], {});\n",
              "    }\n",
              "    (() => {\n",
              "      let quickchartButtonEl =\n",
              "        document.querySelector('#df-f5d3e1e3-ec5a-407e-b9e2-3d2d0782074c button');\n",
              "      quickchartButtonEl.style.display =\n",
              "        google.colab.kernel.accessAllowed ? 'block' : 'none';\n",
              "    })();\n",
              "  </script>\n",
              "</div>\n",
              "    </div>\n",
              "  </div>\n"
            ]
          },
          "metadata": {},
          "execution_count": 19
        }
      ]
    },
    {
      "cell_type": "code",
      "source": [
        "benign = ddosdataset[ddosdataset.Label == 0]\n",
        "ddos= ddosdataset[ddosdataset.Label ==1]"
      ],
      "metadata": {
        "id": "9lm-AzgIkIH2"
      },
      "execution_count": 20,
      "outputs": []
    },
    {
      "cell_type": "code",
      "source": [
        "print(benign.shape)\n",
        "print(ddos.shape)"
      ],
      "metadata": {
        "colab": {
          "base_uri": "https://localhost:8080/"
        },
        "id": "3oJGQR7Jklsf",
        "outputId": "acf2aed0-a077-413f-c5af-6c99f82ea53e"
      },
      "execution_count": 21,
      "outputs": [
        {
          "output_type": "stream",
          "name": "stdout",
          "text": [
            "(97831, 78)\n",
            "(333540, 78)\n"
          ]
        }
      ]
    },
    {
      "cell_type": "code",
      "source": [
        "\n",
        "ddos_sample = ddos.sample(n=97831)\n",
        "print(ddos_sample.shape)\n"
      ],
      "metadata": {
        "colab": {
          "base_uri": "https://localhost:8080/"
        },
        "id": "WvUWF7UrlHBv",
        "outputId": "1f7c388c-d9ca-40c0-87a0-3f3c9a6e68f6"
      },
      "execution_count": 22,
      "outputs": [
        {
          "output_type": "stream",
          "name": "stdout",
          "text": [
            "(97831, 78)\n"
          ]
        }
      ]
    },
    {
      "cell_type": "code",
      "source": [
        "newddos_dataset = pd.concat([ddos_sample, benign] , axis= 0)"
      ],
      "metadata": {
        "id": "thGz-gRXlhdT"
      },
      "execution_count": 23,
      "outputs": []
    },
    {
      "cell_type": "code",
      "source": [
        "newddos_dataset.head()"
      ],
      "metadata": {
        "colab": {
          "base_uri": "https://localhost:8080/",
          "height": 288
        },
        "id": "67iCyLnGluvm",
        "outputId": "2b87fef4-bd04-4cfc-a35b-d6cd9207abe7"
      },
      "execution_count": 24,
      "outputs": [
        {
          "output_type": "execute_result",
          "data": {
            "text/plain": [
              "        Protocol  Flow Duration  Total Fwd Packets  Total Backward Packets  \\\n",
              "56307         17            953                  8                       0   \n",
              "353959        17        3004359                  4                       0   \n",
              "327667        17        3003429                  4                       0   \n",
              "74754         17            629                 56                       0   \n",
              "344435        17        3006119                  4                       0   \n",
              "\n",
              "        Fwd Packets Length Total  Bwd Packets Length Total  \\\n",
              "56307                     3520.0                       0.0   \n",
              "353959                    2064.0                       0.0   \n",
              "327667                    2064.0                       0.0   \n",
              "74754                    23920.0                       0.0   \n",
              "344435                    2064.0                       0.0   \n",
              "\n",
              "        Fwd Packet Length Max  Fwd Packet Length Min  Fwd Packet Length Mean  \\\n",
              "56307                   440.0                  440.0               440.00000   \n",
              "353959                  516.0                  516.0               516.00000   \n",
              "327667                  516.0                  516.0               516.00000   \n",
              "74754                   440.0                   80.0               427.14285   \n",
              "344435                  516.0                  516.0               516.00000   \n",
              "\n",
              "        Fwd Packet Length Std  ...  Fwd Seg Size Min  Active Mean  Active Std  \\\n",
              "56307                 0.00000  ...                20          0.0         0.0   \n",
              "353959                0.00000  ...                 8          0.0         0.0   \n",
              "327667                0.00000  ...                -1          0.0         0.0   \n",
              "74754                67.41228  ...                -1          0.0         0.0   \n",
              "344435                0.00000  ...                 8          0.0         0.0   \n",
              "\n",
              "        Active Max  Active Min  Idle Mean  Idle Std  Idle Max  Idle Min  Label  \n",
              "56307          0.0         0.0        0.0       0.0       0.0       0.0      1  \n",
              "353959         0.0         0.0        0.0       0.0       0.0       0.0      1  \n",
              "327667         0.0         0.0        0.0       0.0       0.0       0.0      1  \n",
              "74754          0.0         0.0        0.0       0.0       0.0       0.0      1  \n",
              "344435         0.0         0.0        0.0       0.0       0.0       0.0      1  \n",
              "\n",
              "[5 rows x 78 columns]"
            ],
            "text/html": [
              "\n",
              "  <div id=\"df-d01480d9-fde2-458a-be05-5c7b253fec2b\" class=\"colab-df-container\">\n",
              "    <div>\n",
              "<style scoped>\n",
              "    .dataframe tbody tr th:only-of-type {\n",
              "        vertical-align: middle;\n",
              "    }\n",
              "\n",
              "    .dataframe tbody tr th {\n",
              "        vertical-align: top;\n",
              "    }\n",
              "\n",
              "    .dataframe thead th {\n",
              "        text-align: right;\n",
              "    }\n",
              "</style>\n",
              "<table border=\"1\" class=\"dataframe\">\n",
              "  <thead>\n",
              "    <tr style=\"text-align: right;\">\n",
              "      <th></th>\n",
              "      <th>Protocol</th>\n",
              "      <th>Flow Duration</th>\n",
              "      <th>Total Fwd Packets</th>\n",
              "      <th>Total Backward Packets</th>\n",
              "      <th>Fwd Packets Length Total</th>\n",
              "      <th>Bwd Packets Length Total</th>\n",
              "      <th>Fwd Packet Length Max</th>\n",
              "      <th>Fwd Packet Length Min</th>\n",
              "      <th>Fwd Packet Length Mean</th>\n",
              "      <th>Fwd Packet Length Std</th>\n",
              "      <th>...</th>\n",
              "      <th>Fwd Seg Size Min</th>\n",
              "      <th>Active Mean</th>\n",
              "      <th>Active Std</th>\n",
              "      <th>Active Max</th>\n",
              "      <th>Active Min</th>\n",
              "      <th>Idle Mean</th>\n",
              "      <th>Idle Std</th>\n",
              "      <th>Idle Max</th>\n",
              "      <th>Idle Min</th>\n",
              "      <th>Label</th>\n",
              "    </tr>\n",
              "  </thead>\n",
              "  <tbody>\n",
              "    <tr>\n",
              "      <th>56307</th>\n",
              "      <td>17</td>\n",
              "      <td>953</td>\n",
              "      <td>8</td>\n",
              "      <td>0</td>\n",
              "      <td>3520.0</td>\n",
              "      <td>0.0</td>\n",
              "      <td>440.0</td>\n",
              "      <td>440.0</td>\n",
              "      <td>440.00000</td>\n",
              "      <td>0.00000</td>\n",
              "      <td>...</td>\n",
              "      <td>20</td>\n",
              "      <td>0.0</td>\n",
              "      <td>0.0</td>\n",
              "      <td>0.0</td>\n",
              "      <td>0.0</td>\n",
              "      <td>0.0</td>\n",
              "      <td>0.0</td>\n",
              "      <td>0.0</td>\n",
              "      <td>0.0</td>\n",
              "      <td>1</td>\n",
              "    </tr>\n",
              "    <tr>\n",
              "      <th>353959</th>\n",
              "      <td>17</td>\n",
              "      <td>3004359</td>\n",
              "      <td>4</td>\n",
              "      <td>0</td>\n",
              "      <td>2064.0</td>\n",
              "      <td>0.0</td>\n",
              "      <td>516.0</td>\n",
              "      <td>516.0</td>\n",
              "      <td>516.00000</td>\n",
              "      <td>0.00000</td>\n",
              "      <td>...</td>\n",
              "      <td>8</td>\n",
              "      <td>0.0</td>\n",
              "      <td>0.0</td>\n",
              "      <td>0.0</td>\n",
              "      <td>0.0</td>\n",
              "      <td>0.0</td>\n",
              "      <td>0.0</td>\n",
              "      <td>0.0</td>\n",
              "      <td>0.0</td>\n",
              "      <td>1</td>\n",
              "    </tr>\n",
              "    <tr>\n",
              "      <th>327667</th>\n",
              "      <td>17</td>\n",
              "      <td>3003429</td>\n",
              "      <td>4</td>\n",
              "      <td>0</td>\n",
              "      <td>2064.0</td>\n",
              "      <td>0.0</td>\n",
              "      <td>516.0</td>\n",
              "      <td>516.0</td>\n",
              "      <td>516.00000</td>\n",
              "      <td>0.00000</td>\n",
              "      <td>...</td>\n",
              "      <td>-1</td>\n",
              "      <td>0.0</td>\n",
              "      <td>0.0</td>\n",
              "      <td>0.0</td>\n",
              "      <td>0.0</td>\n",
              "      <td>0.0</td>\n",
              "      <td>0.0</td>\n",
              "      <td>0.0</td>\n",
              "      <td>0.0</td>\n",
              "      <td>1</td>\n",
              "    </tr>\n",
              "    <tr>\n",
              "      <th>74754</th>\n",
              "      <td>17</td>\n",
              "      <td>629</td>\n",
              "      <td>56</td>\n",
              "      <td>0</td>\n",
              "      <td>23920.0</td>\n",
              "      <td>0.0</td>\n",
              "      <td>440.0</td>\n",
              "      <td>80.0</td>\n",
              "      <td>427.14285</td>\n",
              "      <td>67.41228</td>\n",
              "      <td>...</td>\n",
              "      <td>-1</td>\n",
              "      <td>0.0</td>\n",
              "      <td>0.0</td>\n",
              "      <td>0.0</td>\n",
              "      <td>0.0</td>\n",
              "      <td>0.0</td>\n",
              "      <td>0.0</td>\n",
              "      <td>0.0</td>\n",
              "      <td>0.0</td>\n",
              "      <td>1</td>\n",
              "    </tr>\n",
              "    <tr>\n",
              "      <th>344435</th>\n",
              "      <td>17</td>\n",
              "      <td>3006119</td>\n",
              "      <td>4</td>\n",
              "      <td>0</td>\n",
              "      <td>2064.0</td>\n",
              "      <td>0.0</td>\n",
              "      <td>516.0</td>\n",
              "      <td>516.0</td>\n",
              "      <td>516.00000</td>\n",
              "      <td>0.00000</td>\n",
              "      <td>...</td>\n",
              "      <td>8</td>\n",
              "      <td>0.0</td>\n",
              "      <td>0.0</td>\n",
              "      <td>0.0</td>\n",
              "      <td>0.0</td>\n",
              "      <td>0.0</td>\n",
              "      <td>0.0</td>\n",
              "      <td>0.0</td>\n",
              "      <td>0.0</td>\n",
              "      <td>1</td>\n",
              "    </tr>\n",
              "  </tbody>\n",
              "</table>\n",
              "<p>5 rows × 78 columns</p>\n",
              "</div>\n",
              "    <div class=\"colab-df-buttons\">\n",
              "\n",
              "  <div class=\"colab-df-container\">\n",
              "    <button class=\"colab-df-convert\" onclick=\"convertToInteractive('df-d01480d9-fde2-458a-be05-5c7b253fec2b')\"\n",
              "            title=\"Convert this dataframe to an interactive table.\"\n",
              "            style=\"display:none;\">\n",
              "\n",
              "  <svg xmlns=\"http://www.w3.org/2000/svg\" height=\"24px\" viewBox=\"0 -960 960 960\">\n",
              "    <path d=\"M120-120v-720h720v720H120Zm60-500h600v-160H180v160Zm220 220h160v-160H400v160Zm0 220h160v-160H400v160ZM180-400h160v-160H180v160Zm440 0h160v-160H620v160ZM180-180h160v-160H180v160Zm440 0h160v-160H620v160Z\"/>\n",
              "  </svg>\n",
              "    </button>\n",
              "\n",
              "  <style>\n",
              "    .colab-df-container {\n",
              "      display:flex;\n",
              "      gap: 12px;\n",
              "    }\n",
              "\n",
              "    .colab-df-convert {\n",
              "      background-color: #E8F0FE;\n",
              "      border: none;\n",
              "      border-radius: 50%;\n",
              "      cursor: pointer;\n",
              "      display: none;\n",
              "      fill: #1967D2;\n",
              "      height: 32px;\n",
              "      padding: 0 0 0 0;\n",
              "      width: 32px;\n",
              "    }\n",
              "\n",
              "    .colab-df-convert:hover {\n",
              "      background-color: #E2EBFA;\n",
              "      box-shadow: 0px 1px 2px rgba(60, 64, 67, 0.3), 0px 1px 3px 1px rgba(60, 64, 67, 0.15);\n",
              "      fill: #174EA6;\n",
              "    }\n",
              "\n",
              "    .colab-df-buttons div {\n",
              "      margin-bottom: 4px;\n",
              "    }\n",
              "\n",
              "    [theme=dark] .colab-df-convert {\n",
              "      background-color: #3B4455;\n",
              "      fill: #D2E3FC;\n",
              "    }\n",
              "\n",
              "    [theme=dark] .colab-df-convert:hover {\n",
              "      background-color: #434B5C;\n",
              "      box-shadow: 0px 1px 3px 1px rgba(0, 0, 0, 0.15);\n",
              "      filter: drop-shadow(0px 1px 2px rgba(0, 0, 0, 0.3));\n",
              "      fill: #FFFFFF;\n",
              "    }\n",
              "  </style>\n",
              "\n",
              "    <script>\n",
              "      const buttonEl =\n",
              "        document.querySelector('#df-d01480d9-fde2-458a-be05-5c7b253fec2b button.colab-df-convert');\n",
              "      buttonEl.style.display =\n",
              "        google.colab.kernel.accessAllowed ? 'block' : 'none';\n",
              "\n",
              "      async function convertToInteractive(key) {\n",
              "        const element = document.querySelector('#df-d01480d9-fde2-458a-be05-5c7b253fec2b');\n",
              "        const dataTable =\n",
              "          await google.colab.kernel.invokeFunction('convertToInteractive',\n",
              "                                                    [key], {});\n",
              "        if (!dataTable) return;\n",
              "\n",
              "        const docLinkHtml = 'Like what you see? Visit the ' +\n",
              "          '<a target=\"_blank\" href=https://colab.research.google.com/notebooks/data_table.ipynb>data table notebook</a>'\n",
              "          + ' to learn more about interactive tables.';\n",
              "        element.innerHTML = '';\n",
              "        dataTable['output_type'] = 'display_data';\n",
              "        await google.colab.output.renderOutput(dataTable, element);\n",
              "        const docLink = document.createElement('div');\n",
              "        docLink.innerHTML = docLinkHtml;\n",
              "        element.appendChild(docLink);\n",
              "      }\n",
              "    </script>\n",
              "  </div>\n",
              "\n",
              "\n",
              "<div id=\"df-0a7626df-82ac-42c0-8f0b-61748e138d59\">\n",
              "  <button class=\"colab-df-quickchart\" onclick=\"quickchart('df-0a7626df-82ac-42c0-8f0b-61748e138d59')\"\n",
              "            title=\"Suggest charts.\"\n",
              "            style=\"display:none;\">\n",
              "\n",
              "<svg xmlns=\"http://www.w3.org/2000/svg\" height=\"24px\"viewBox=\"0 0 24 24\"\n",
              "     width=\"24px\">\n",
              "    <g>\n",
              "        <path d=\"M19 3H5c-1.1 0-2 .9-2 2v14c0 1.1.9 2 2 2h14c1.1 0 2-.9 2-2V5c0-1.1-.9-2-2-2zM9 17H7v-7h2v7zm4 0h-2V7h2v10zm4 0h-2v-4h2v4z\"/>\n",
              "    </g>\n",
              "</svg>\n",
              "  </button>\n",
              "\n",
              "<style>\n",
              "  .colab-df-quickchart {\n",
              "    background-color: #E8F0FE;\n",
              "    border: none;\n",
              "    border-radius: 50%;\n",
              "    cursor: pointer;\n",
              "    display: none;\n",
              "    fill: #1967D2;\n",
              "    height: 32px;\n",
              "    padding: 0 0 0 0;\n",
              "    width: 32px;\n",
              "  }\n",
              "\n",
              "  .colab-df-quickchart:hover {\n",
              "    background-color: #E2EBFA;\n",
              "    box-shadow: 0px 1px 2px rgba(60, 64, 67, 0.3), 0px 1px 3px 1px rgba(60, 64, 67, 0.15);\n",
              "    fill: #174EA6;\n",
              "  }\n",
              "\n",
              "  [theme=dark] .colab-df-quickchart {\n",
              "    background-color: #3B4455;\n",
              "    fill: #D2E3FC;\n",
              "  }\n",
              "\n",
              "  [theme=dark] .colab-df-quickchart:hover {\n",
              "    background-color: #434B5C;\n",
              "    box-shadow: 0px 1px 3px 1px rgba(0, 0, 0, 0.15);\n",
              "    filter: drop-shadow(0px 1px 2px rgba(0, 0, 0, 0.3));\n",
              "    fill: #FFFFFF;\n",
              "  }\n",
              "</style>\n",
              "\n",
              "  <script>\n",
              "    async function quickchart(key) {\n",
              "      const charts = await google.colab.kernel.invokeFunction(\n",
              "          'suggestCharts', [key], {});\n",
              "    }\n",
              "    (() => {\n",
              "      let quickchartButtonEl =\n",
              "        document.querySelector('#df-0a7626df-82ac-42c0-8f0b-61748e138d59 button');\n",
              "      quickchartButtonEl.style.display =\n",
              "        google.colab.kernel.accessAllowed ? 'block' : 'none';\n",
              "    })();\n",
              "  </script>\n",
              "</div>\n",
              "    </div>\n",
              "  </div>\n"
            ]
          },
          "metadata": {},
          "execution_count": 24
        }
      ]
    },
    {
      "cell_type": "code",
      "source": [
        "newddos_dataset['Label'].value_counts()"
      ],
      "metadata": {
        "colab": {
          "base_uri": "https://localhost:8080/"
        },
        "id": "SQLmpTJal1PK",
        "outputId": "9bd6c12f-6457-418b-888d-e9ef336c6abf"
      },
      "execution_count": 25,
      "outputs": [
        {
          "output_type": "execute_result",
          "data": {
            "text/plain": [
              "1    97831\n",
              "0    97831\n",
              "Name: Label, dtype: int64"
            ]
          },
          "metadata": {},
          "execution_count": 25
        }
      ]
    },
    {
      "cell_type": "markdown",
      "source": [
        "**the data now is balanced**"
      ],
      "metadata": {
        "id": "QAHI1m6on5N7"
      }
    },
    {
      "cell_type": "markdown",
      "source": [
        "saving this dataset"
      ],
      "metadata": {
        "id": "XJp7SP0rtctQ"
      }
    },
    {
      "cell_type": "code",
      "source": [
        "df2 = pd.DataFrame(newddos_dataset)\n",
        "df2.to_csv('ddosdatasetwhitoutstd.csv', index=False)\n"
      ],
      "metadata": {
        "id": "_Dpjot-XtfJL"
      },
      "execution_count": 26,
      "outputs": []
    },
    {
      "cell_type": "markdown",
      "source": [
        "**Data** **Standardization**:\n",
        "\n",
        "**Data Standardization** is the process of standardizing the data to common format and common range."
      ],
      "metadata": {
        "id": "pA_OHNROpNLS"
      }
    },
    {
      "cell_type": "code",
      "source": [
        "dataframe = pd.read_csv('/content/ddosdatasetwhitoutstd.csv')"
      ],
      "metadata": {
        "id": "aZIiHXGqt9_3"
      },
      "execution_count": 27,
      "outputs": []
    },
    {
      "cell_type": "code",
      "source": [
        "dataframe['Label'].value_counts()\n",
        "dataframe.head()"
      ],
      "metadata": {
        "colab": {
          "base_uri": "https://localhost:8080/",
          "height": 288
        },
        "id": "tb6ei37_xhwy",
        "outputId": "a85d59d3-5134-4e8f-e546-5e22e98c7611"
      },
      "execution_count": 28,
      "outputs": [
        {
          "output_type": "execute_result",
          "data": {
            "text/plain": [
              "   Protocol  Flow Duration  Total Fwd Packets  Total Backward Packets  \\\n",
              "0        17            953                  8                       0   \n",
              "1        17        3004359                  4                       0   \n",
              "2        17        3003429                  4                       0   \n",
              "3        17            629                 56                       0   \n",
              "4        17        3006119                  4                       0   \n",
              "\n",
              "   Fwd Packets Length Total  Bwd Packets Length Total  Fwd Packet Length Max  \\\n",
              "0                    3520.0                       0.0                  440.0   \n",
              "1                    2064.0                       0.0                  516.0   \n",
              "2                    2064.0                       0.0                  516.0   \n",
              "3                   23920.0                       0.0                  440.0   \n",
              "4                    2064.0                       0.0                  516.0   \n",
              "\n",
              "   Fwd Packet Length Min  Fwd Packet Length Mean  Fwd Packet Length Std  ...  \\\n",
              "0                  440.0               440.00000                0.00000  ...   \n",
              "1                  516.0               516.00000                0.00000  ...   \n",
              "2                  516.0               516.00000                0.00000  ...   \n",
              "3                   80.0               427.14285               67.41228  ...   \n",
              "4                  516.0               516.00000                0.00000  ...   \n",
              "\n",
              "   Fwd Seg Size Min  Active Mean  Active Std  Active Max  Active Min  \\\n",
              "0                20          0.0         0.0         0.0         0.0   \n",
              "1                 8          0.0         0.0         0.0         0.0   \n",
              "2                -1          0.0         0.0         0.0         0.0   \n",
              "3                -1          0.0         0.0         0.0         0.0   \n",
              "4                 8          0.0         0.0         0.0         0.0   \n",
              "\n",
              "   Idle Mean  Idle Std  Idle Max  Idle Min  Label  \n",
              "0        0.0       0.0       0.0       0.0      1  \n",
              "1        0.0       0.0       0.0       0.0      1  \n",
              "2        0.0       0.0       0.0       0.0      1  \n",
              "3        0.0       0.0       0.0       0.0      1  \n",
              "4        0.0       0.0       0.0       0.0      1  \n",
              "\n",
              "[5 rows x 78 columns]"
            ],
            "text/html": [
              "\n",
              "  <div id=\"df-c7a95112-fde5-4a06-b3bc-75fa59eef5bb\" class=\"colab-df-container\">\n",
              "    <div>\n",
              "<style scoped>\n",
              "    .dataframe tbody tr th:only-of-type {\n",
              "        vertical-align: middle;\n",
              "    }\n",
              "\n",
              "    .dataframe tbody tr th {\n",
              "        vertical-align: top;\n",
              "    }\n",
              "\n",
              "    .dataframe thead th {\n",
              "        text-align: right;\n",
              "    }\n",
              "</style>\n",
              "<table border=\"1\" class=\"dataframe\">\n",
              "  <thead>\n",
              "    <tr style=\"text-align: right;\">\n",
              "      <th></th>\n",
              "      <th>Protocol</th>\n",
              "      <th>Flow Duration</th>\n",
              "      <th>Total Fwd Packets</th>\n",
              "      <th>Total Backward Packets</th>\n",
              "      <th>Fwd Packets Length Total</th>\n",
              "      <th>Bwd Packets Length Total</th>\n",
              "      <th>Fwd Packet Length Max</th>\n",
              "      <th>Fwd Packet Length Min</th>\n",
              "      <th>Fwd Packet Length Mean</th>\n",
              "      <th>Fwd Packet Length Std</th>\n",
              "      <th>...</th>\n",
              "      <th>Fwd Seg Size Min</th>\n",
              "      <th>Active Mean</th>\n",
              "      <th>Active Std</th>\n",
              "      <th>Active Max</th>\n",
              "      <th>Active Min</th>\n",
              "      <th>Idle Mean</th>\n",
              "      <th>Idle Std</th>\n",
              "      <th>Idle Max</th>\n",
              "      <th>Idle Min</th>\n",
              "      <th>Label</th>\n",
              "    </tr>\n",
              "  </thead>\n",
              "  <tbody>\n",
              "    <tr>\n",
              "      <th>0</th>\n",
              "      <td>17</td>\n",
              "      <td>953</td>\n",
              "      <td>8</td>\n",
              "      <td>0</td>\n",
              "      <td>3520.0</td>\n",
              "      <td>0.0</td>\n",
              "      <td>440.0</td>\n",
              "      <td>440.0</td>\n",
              "      <td>440.00000</td>\n",
              "      <td>0.00000</td>\n",
              "      <td>...</td>\n",
              "      <td>20</td>\n",
              "      <td>0.0</td>\n",
              "      <td>0.0</td>\n",
              "      <td>0.0</td>\n",
              "      <td>0.0</td>\n",
              "      <td>0.0</td>\n",
              "      <td>0.0</td>\n",
              "      <td>0.0</td>\n",
              "      <td>0.0</td>\n",
              "      <td>1</td>\n",
              "    </tr>\n",
              "    <tr>\n",
              "      <th>1</th>\n",
              "      <td>17</td>\n",
              "      <td>3004359</td>\n",
              "      <td>4</td>\n",
              "      <td>0</td>\n",
              "      <td>2064.0</td>\n",
              "      <td>0.0</td>\n",
              "      <td>516.0</td>\n",
              "      <td>516.0</td>\n",
              "      <td>516.00000</td>\n",
              "      <td>0.00000</td>\n",
              "      <td>...</td>\n",
              "      <td>8</td>\n",
              "      <td>0.0</td>\n",
              "      <td>0.0</td>\n",
              "      <td>0.0</td>\n",
              "      <td>0.0</td>\n",
              "      <td>0.0</td>\n",
              "      <td>0.0</td>\n",
              "      <td>0.0</td>\n",
              "      <td>0.0</td>\n",
              "      <td>1</td>\n",
              "    </tr>\n",
              "    <tr>\n",
              "      <th>2</th>\n",
              "      <td>17</td>\n",
              "      <td>3003429</td>\n",
              "      <td>4</td>\n",
              "      <td>0</td>\n",
              "      <td>2064.0</td>\n",
              "      <td>0.0</td>\n",
              "      <td>516.0</td>\n",
              "      <td>516.0</td>\n",
              "      <td>516.00000</td>\n",
              "      <td>0.00000</td>\n",
              "      <td>...</td>\n",
              "      <td>-1</td>\n",
              "      <td>0.0</td>\n",
              "      <td>0.0</td>\n",
              "      <td>0.0</td>\n",
              "      <td>0.0</td>\n",
              "      <td>0.0</td>\n",
              "      <td>0.0</td>\n",
              "      <td>0.0</td>\n",
              "      <td>0.0</td>\n",
              "      <td>1</td>\n",
              "    </tr>\n",
              "    <tr>\n",
              "      <th>3</th>\n",
              "      <td>17</td>\n",
              "      <td>629</td>\n",
              "      <td>56</td>\n",
              "      <td>0</td>\n",
              "      <td>23920.0</td>\n",
              "      <td>0.0</td>\n",
              "      <td>440.0</td>\n",
              "      <td>80.0</td>\n",
              "      <td>427.14285</td>\n",
              "      <td>67.41228</td>\n",
              "      <td>...</td>\n",
              "      <td>-1</td>\n",
              "      <td>0.0</td>\n",
              "      <td>0.0</td>\n",
              "      <td>0.0</td>\n",
              "      <td>0.0</td>\n",
              "      <td>0.0</td>\n",
              "      <td>0.0</td>\n",
              "      <td>0.0</td>\n",
              "      <td>0.0</td>\n",
              "      <td>1</td>\n",
              "    </tr>\n",
              "    <tr>\n",
              "      <th>4</th>\n",
              "      <td>17</td>\n",
              "      <td>3006119</td>\n",
              "      <td>4</td>\n",
              "      <td>0</td>\n",
              "      <td>2064.0</td>\n",
              "      <td>0.0</td>\n",
              "      <td>516.0</td>\n",
              "      <td>516.0</td>\n",
              "      <td>516.00000</td>\n",
              "      <td>0.00000</td>\n",
              "      <td>...</td>\n",
              "      <td>8</td>\n",
              "      <td>0.0</td>\n",
              "      <td>0.0</td>\n",
              "      <td>0.0</td>\n",
              "      <td>0.0</td>\n",
              "      <td>0.0</td>\n",
              "      <td>0.0</td>\n",
              "      <td>0.0</td>\n",
              "      <td>0.0</td>\n",
              "      <td>1</td>\n",
              "    </tr>\n",
              "  </tbody>\n",
              "</table>\n",
              "<p>5 rows × 78 columns</p>\n",
              "</div>\n",
              "    <div class=\"colab-df-buttons\">\n",
              "\n",
              "  <div class=\"colab-df-container\">\n",
              "    <button class=\"colab-df-convert\" onclick=\"convertToInteractive('df-c7a95112-fde5-4a06-b3bc-75fa59eef5bb')\"\n",
              "            title=\"Convert this dataframe to an interactive table.\"\n",
              "            style=\"display:none;\">\n",
              "\n",
              "  <svg xmlns=\"http://www.w3.org/2000/svg\" height=\"24px\" viewBox=\"0 -960 960 960\">\n",
              "    <path d=\"M120-120v-720h720v720H120Zm60-500h600v-160H180v160Zm220 220h160v-160H400v160Zm0 220h160v-160H400v160ZM180-400h160v-160H180v160Zm440 0h160v-160H620v160ZM180-180h160v-160H180v160Zm440 0h160v-160H620v160Z\"/>\n",
              "  </svg>\n",
              "    </button>\n",
              "\n",
              "  <style>\n",
              "    .colab-df-container {\n",
              "      display:flex;\n",
              "      gap: 12px;\n",
              "    }\n",
              "\n",
              "    .colab-df-convert {\n",
              "      background-color: #E8F0FE;\n",
              "      border: none;\n",
              "      border-radius: 50%;\n",
              "      cursor: pointer;\n",
              "      display: none;\n",
              "      fill: #1967D2;\n",
              "      height: 32px;\n",
              "      padding: 0 0 0 0;\n",
              "      width: 32px;\n",
              "    }\n",
              "\n",
              "    .colab-df-convert:hover {\n",
              "      background-color: #E2EBFA;\n",
              "      box-shadow: 0px 1px 2px rgba(60, 64, 67, 0.3), 0px 1px 3px 1px rgba(60, 64, 67, 0.15);\n",
              "      fill: #174EA6;\n",
              "    }\n",
              "\n",
              "    .colab-df-buttons div {\n",
              "      margin-bottom: 4px;\n",
              "    }\n",
              "\n",
              "    [theme=dark] .colab-df-convert {\n",
              "      background-color: #3B4455;\n",
              "      fill: #D2E3FC;\n",
              "    }\n",
              "\n",
              "    [theme=dark] .colab-df-convert:hover {\n",
              "      background-color: #434B5C;\n",
              "      box-shadow: 0px 1px 3px 1px rgba(0, 0, 0, 0.15);\n",
              "      filter: drop-shadow(0px 1px 2px rgba(0, 0, 0, 0.3));\n",
              "      fill: #FFFFFF;\n",
              "    }\n",
              "  </style>\n",
              "\n",
              "    <script>\n",
              "      const buttonEl =\n",
              "        document.querySelector('#df-c7a95112-fde5-4a06-b3bc-75fa59eef5bb button.colab-df-convert');\n",
              "      buttonEl.style.display =\n",
              "        google.colab.kernel.accessAllowed ? 'block' : 'none';\n",
              "\n",
              "      async function convertToInteractive(key) {\n",
              "        const element = document.querySelector('#df-c7a95112-fde5-4a06-b3bc-75fa59eef5bb');\n",
              "        const dataTable =\n",
              "          await google.colab.kernel.invokeFunction('convertToInteractive',\n",
              "                                                    [key], {});\n",
              "        if (!dataTable) return;\n",
              "\n",
              "        const docLinkHtml = 'Like what you see? Visit the ' +\n",
              "          '<a target=\"_blank\" href=https://colab.research.google.com/notebooks/data_table.ipynb>data table notebook</a>'\n",
              "          + ' to learn more about interactive tables.';\n",
              "        element.innerHTML = '';\n",
              "        dataTable['output_type'] = 'display_data';\n",
              "        await google.colab.output.renderOutput(dataTable, element);\n",
              "        const docLink = document.createElement('div');\n",
              "        docLink.innerHTML = docLinkHtml;\n",
              "        element.appendChild(docLink);\n",
              "      }\n",
              "    </script>\n",
              "  </div>\n",
              "\n",
              "\n",
              "<div id=\"df-a542dd23-8217-462e-8dab-3d3fb11a9976\">\n",
              "  <button class=\"colab-df-quickchart\" onclick=\"quickchart('df-a542dd23-8217-462e-8dab-3d3fb11a9976')\"\n",
              "            title=\"Suggest charts.\"\n",
              "            style=\"display:none;\">\n",
              "\n",
              "<svg xmlns=\"http://www.w3.org/2000/svg\" height=\"24px\"viewBox=\"0 0 24 24\"\n",
              "     width=\"24px\">\n",
              "    <g>\n",
              "        <path d=\"M19 3H5c-1.1 0-2 .9-2 2v14c0 1.1.9 2 2 2h14c1.1 0 2-.9 2-2V5c0-1.1-.9-2-2-2zM9 17H7v-7h2v7zm4 0h-2V7h2v10zm4 0h-2v-4h2v4z\"/>\n",
              "    </g>\n",
              "</svg>\n",
              "  </button>\n",
              "\n",
              "<style>\n",
              "  .colab-df-quickchart {\n",
              "    background-color: #E8F0FE;\n",
              "    border: none;\n",
              "    border-radius: 50%;\n",
              "    cursor: pointer;\n",
              "    display: none;\n",
              "    fill: #1967D2;\n",
              "    height: 32px;\n",
              "    padding: 0 0 0 0;\n",
              "    width: 32px;\n",
              "  }\n",
              "\n",
              "  .colab-df-quickchart:hover {\n",
              "    background-color: #E2EBFA;\n",
              "    box-shadow: 0px 1px 2px rgba(60, 64, 67, 0.3), 0px 1px 3px 1px rgba(60, 64, 67, 0.15);\n",
              "    fill: #174EA6;\n",
              "  }\n",
              "\n",
              "  [theme=dark] .colab-df-quickchart {\n",
              "    background-color: #3B4455;\n",
              "    fill: #D2E3FC;\n",
              "  }\n",
              "\n",
              "  [theme=dark] .colab-df-quickchart:hover {\n",
              "    background-color: #434B5C;\n",
              "    box-shadow: 0px 1px 3px 1px rgba(0, 0, 0, 0.15);\n",
              "    filter: drop-shadow(0px 1px 2px rgba(0, 0, 0, 0.3));\n",
              "    fill: #FFFFFF;\n",
              "  }\n",
              "</style>\n",
              "\n",
              "  <script>\n",
              "    async function quickchart(key) {\n",
              "      const charts = await google.colab.kernel.invokeFunction(\n",
              "          'suggestCharts', [key], {});\n",
              "    }\n",
              "    (() => {\n",
              "      let quickchartButtonEl =\n",
              "        document.querySelector('#df-a542dd23-8217-462e-8dab-3d3fb11a9976 button');\n",
              "      quickchartButtonEl.style.display =\n",
              "        google.colab.kernel.accessAllowed ? 'block' : 'none';\n",
              "    })();\n",
              "  </script>\n",
              "</div>\n",
              "    </div>\n",
              "  </div>\n"
            ]
          },
          "metadata": {},
          "execution_count": 28
        }
      ]
    },
    {
      "cell_type": "code",
      "source": [
        "XF = dataframe.drop(columns='Label', axis =1)\n",
        "YF = dataframe['Label']"
      ],
      "metadata": {
        "id": "fs2Z62W9odHt"
      },
      "execution_count": 29,
      "outputs": []
    },
    {
      "cell_type": "code",
      "source": [
        "scaler = StandardScaler()"
      ],
      "metadata": {
        "id": "ia95F-Jbl-xO"
      },
      "execution_count": 30,
      "outputs": []
    },
    {
      "cell_type": "code",
      "source": [
        "standardized_data = scaler.fit_transform(XF)"
      ],
      "metadata": {
        "id": "t_IiamPdmBst"
      },
      "execution_count": 31,
      "outputs": []
    },
    {
      "cell_type": "code",
      "source": [
        "print(standardized_data)"
      ],
      "metadata": {
        "colab": {
          "base_uri": "https://localhost:8080/"
        },
        "id": "R3YVHNUsmNl3",
        "outputId": "54a04e1a-417b-40ab-f0d1-ff122582e46c"
      },
      "execution_count": 32,
      "outputs": [
        {
          "output_type": "stream",
          "name": "stdout",
          "text": [
            "[[ 0.81472911 -0.3732914  -0.15200121 ... -0.19579289 -0.31340935\n",
            "  -0.27440741]\n",
            " [ 0.81472911 -0.25652274 -0.21075288 ... -0.19579289 -0.31340935\n",
            "  -0.27440741]\n",
            " [ 0.81472911 -0.25655889 -0.21075288 ... -0.19579289 -0.31340935\n",
            "  -0.27440741]\n",
            " ...\n",
            " [ 0.81472911 -0.3723064  -0.24012872 ... -0.19579289 -0.31340935\n",
            "  -0.27440741]\n",
            " [-1.19067436 -0.37213569 -0.25481664 ... -0.19579289 -0.31340935\n",
            "  -0.27440741]\n",
            " [-1.19067436 -0.37332584 -0.25481664 ... -0.19579289 -0.31340935\n",
            "  -0.27440741]]\n"
          ]
        }
      ]
    },
    {
      "cell_type": "code",
      "source": [
        "XF = standardized_data"
      ],
      "metadata": {
        "id": "iCFTp-hfmXgz"
      },
      "execution_count": 33,
      "outputs": []
    },
    {
      "cell_type": "code",
      "source": [
        "print(type(XF))"
      ],
      "metadata": {
        "colab": {
          "base_uri": "https://localhost:8080/"
        },
        "id": "8rH9bjfV6JGs",
        "outputId": "cc8f7771-08d5-41a8-8df3-09c852b9bfa4"
      },
      "execution_count": 80,
      "outputs": [
        {
          "output_type": "stream",
          "name": "stdout",
          "text": [
            "<class 'numpy.ndarray'>\n"
          ]
        }
      ]
    },
    {
      "cell_type": "code",
      "source": [
        "print(XF.shape)"
      ],
      "metadata": {
        "colab": {
          "base_uri": "https://localhost:8080/"
        },
        "id": "C34U7J3XsMnD",
        "outputId": "4964bd6d-7194-4f7d-f30d-1fe8beda6655"
      },
      "execution_count": 34,
      "outputs": [
        {
          "output_type": "stream",
          "name": "stdout",
          "text": [
            "(195662, 77)\n"
          ]
        }
      ]
    },
    {
      "cell_type": "code",
      "source": [
        "print(YF)"
      ],
      "metadata": {
        "colab": {
          "base_uri": "https://localhost:8080/"
        },
        "id": "3p2Mo7VNyG7l",
        "outputId": "ccd386e9-0ad0-431d-a36c-bd22b38c9b2c"
      },
      "execution_count": 35,
      "outputs": [
        {
          "output_type": "stream",
          "name": "stdout",
          "text": [
            "0         1\n",
            "1         1\n",
            "2         1\n",
            "3         1\n",
            "4         1\n",
            "         ..\n",
            "195657    0\n",
            "195658    0\n",
            "195659    0\n",
            "195660    0\n",
            "195661    0\n",
            "Name: Label, Length: 195662, dtype: int64\n"
          ]
        }
      ]
    },
    {
      "cell_type": "code",
      "source": [
        "print(YF.shape)"
      ],
      "metadata": {
        "colab": {
          "base_uri": "https://localhost:8080/"
        },
        "id": "PkCZzeaesSeT",
        "outputId": "0cc842c4-e664-416f-b298-743cb8fc4421"
      },
      "execution_count": 36,
      "outputs": [
        {
          "output_type": "stream",
          "name": "stdout",
          "text": [
            "(195662,)\n"
          ]
        }
      ]
    },
    {
      "cell_type": "markdown",
      "source": [
        "***Now our Data is Ready to be splitted into trainning data and testing data ***"
      ],
      "metadata": {
        "id": "LYYDRGUD_eLH"
      }
    },
    {
      "cell_type": "code",
      "source": [
        "X_train, X_test, Y_train, Y_test = train_test_split(XF, YF, test_size=0.2, random_state=2)"
      ],
      "metadata": {
        "id": "dTJxzWeV_zu-"
      },
      "execution_count": 37,
      "outputs": []
    },
    {
      "cell_type": "code",
      "source": [
        "print(X_train)"
      ],
      "metadata": {
        "colab": {
          "base_uri": "https://localhost:8080/"
        },
        "id": "7Hc2Rt7KNdum",
        "outputId": "063d2f92-7721-420c-e8cc-c6645827a9dd"
      },
      "execution_count": 38,
      "outputs": [
        {
          "output_type": "stream",
          "name": "stdout",
          "text": [
            "[[ 0.81472911 -0.37252548 -0.24012872 ... -0.19579289 -0.31340935\n",
            "  -0.27440741]\n",
            " [-1.19067436  2.54304015  0.20050883 ... 15.15961047  4.99904927\n",
            "   1.02925062]\n",
            " [-1.19067436 -0.02303324 -0.07856162 ... -0.19579289 -0.31340935\n",
            "  -0.27440741]\n",
            " ...\n",
            " [ 0.81472911 -0.37332079  0.22988467 ... -0.19579289 -0.31340935\n",
            "  -0.27440741]\n",
            " [-1.19067436 -0.3733232  -0.2254408  ... -0.19579289 -0.31340935\n",
            "  -0.27440741]\n",
            " [ 0.81472911 -0.14003646 -0.18137705 ... -0.19579289 -0.31340935\n",
            "  -0.27440741]]\n"
          ]
        }
      ]
    },
    {
      "cell_type": "code",
      "source": [
        "print(X_train.shape, X_test.shape)"
      ],
      "metadata": {
        "colab": {
          "base_uri": "https://localhost:8080/"
        },
        "id": "DlJSXL0WATny",
        "outputId": "ea4f197c-3922-4fcf-ef12-e8a328816198"
      },
      "execution_count": 39,
      "outputs": [
        {
          "output_type": "stream",
          "name": "stdout",
          "text": [
            "(156529, 77) (39133, 77)\n"
          ]
        }
      ]
    },
    {
      "cell_type": "code",
      "source": [
        "print(Y_train.shape, Y_test.shape)"
      ],
      "metadata": {
        "colab": {
          "base_uri": "https://localhost:8080/"
        },
        "id": "HafutQQyAgV3",
        "outputId": "8921658e-e0f6-440f-d0a3-f75ebb5e6b14"
      },
      "execution_count": 40,
      "outputs": [
        {
          "output_type": "stream",
          "name": "stdout",
          "text": [
            "(156529,) (39133,)\n"
          ]
        }
      ]
    },
    {
      "cell_type": "markdown",
      "source": [
        "let's turn our x_train and y_train into numpy arrays"
      ],
      "metadata": {
        "id": "BRC0yf29tnzj"
      }
    },
    {
      "cell_type": "code",
      "source": [
        "x_train , y_train = np.array(X_train), np.array(Y_train)\n",
        "x_train = np.reshape(x_train, (X_train.shape[0] , X_train.shape[1], 1) )"
      ],
      "metadata": {
        "id": "DEBNpyNfJxT1"
      },
      "execution_count": 43,
      "outputs": []
    },
    {
      "cell_type": "markdown",
      "source": [
        "***The Data now is ready to be used ***"
      ],
      "metadata": {
        "id": "BHl-dB1RA8fR"
      }
    },
    {
      "cell_type": "code",
      "source": [
        "# importing tensorflow and Keras\n",
        "import tensorflow as tf\n",
        "tf.random.set_seed(3)\n",
        "from tensorflow import keras\n",
        "from keras.layers import Dense, BatchNormalization, Dropout, LSTM, Bidirectional"
      ],
      "metadata": {
        "id": "1WX_ChHfqrV2"
      },
      "execution_count": 44,
      "outputs": []
    },
    {
      "cell_type": "markdown",
      "source": [
        "**Let's Build the neural network model**"
      ],
      "metadata": {
        "id": "plj0Oww_vu-4"
      }
    },
    {
      "cell_type": "markdown",
      "source": [
        "**We will use bidirectional LSTM**"
      ],
      "metadata": {
        "id": "MYBYBZ04cnYD"
      }
    },
    {
      "cell_type": "markdown",
      "source": [
        "![Deep-Dive-into-Bidirectional-LSTM-i2tutorials.jpg](data:image/jpeg;base64,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)"
      ],
      "metadata": {
        "id": "-pFlbwawvU70"
      }
    },
    {
      "cell_type": "code",
      "source": [
        "model = Sequential()\n",
        "model.add(Bidirectional(LSTM(units=10, return_sequences=True, input_shape = (x_train.shape[1],1) ) ))\n",
        "model.add(Dropout(0.2))\n",
        "model.add(LSTM(units= 10 , return_sequences=True))\n",
        "model.add(Dropout(0.2))\n",
        "model.add(LSTM(units= 10 , return_sequences=True))\n",
        "model.add(Dropout(0.2))\n",
        "model.add(LSTM(units= 10))\n",
        "model.add(Dropout(0.2))\n",
        "model.add(Dense(units = 2,activation='sigmoid'))"
      ],
      "metadata": {
        "id": "NXBWFoIxaTsX"
      },
      "execution_count": 45,
      "outputs": []
    },
    {
      "cell_type": "code",
      "source": [
        "model.compile(optimizer='adam', loss='sparse_categorical_crossentropy',metrics=['acc'])"
      ],
      "metadata": {
        "id": "Uth50eb-gR6T"
      },
      "execution_count": 46,
      "outputs": []
    },
    {
      "cell_type": "markdown",
      "source": [
        "**Training the model with training data**"
      ],
      "metadata": {
        "id": "bCkq06NcxEEH"
      }
    },
    {
      "cell_type": "code",
      "source": [
        "history = model.fit(x_train, y_train, epochs=15,batch_size=128 )"
      ],
      "metadata": {
        "colab": {
          "base_uri": "https://localhost:8080/"
        },
        "id": "Dh8oH1VUXX9m",
        "outputId": "02fb09f3-7ad4-49f5-a4ac-1d911596827d"
      },
      "execution_count": 47,
      "outputs": [
        {
          "output_type": "stream",
          "name": "stdout",
          "text": [
            "Epoch 1/15\n",
            "1223/1223 [==============================] - 209s 161ms/step - loss: 0.1878 - acc: 0.9353\n",
            "Epoch 2/15\n",
            "1223/1223 [==============================] - 185s 151ms/step - loss: 0.1158 - acc: 0.9701\n",
            "Epoch 3/15\n",
            "1223/1223 [==============================] - 186s 152ms/step - loss: 0.1042 - acc: 0.9724\n",
            "Epoch 4/15\n",
            "1223/1223 [==============================] - 184s 150ms/step - loss: 0.0789 - acc: 0.9731\n",
            "Epoch 5/15\n",
            "1223/1223 [==============================] - 184s 150ms/step - loss: 0.0619 - acc: 0.9798\n",
            "Epoch 6/15\n",
            "1223/1223 [==============================] - 186s 152ms/step - loss: 0.0702 - acc: 0.9794\n",
            "Epoch 7/15\n",
            "1223/1223 [==============================] - 187s 153ms/step - loss: 0.2928 - acc: 0.8686\n",
            "Epoch 8/15\n",
            "1223/1223 [==============================] - 187s 153ms/step - loss: 0.1327 - acc: 0.9619\n",
            "Epoch 9/15\n",
            "1223/1223 [==============================] - 184s 150ms/step - loss: 0.0897 - acc: 0.9683\n",
            "Epoch 10/15\n",
            "1223/1223 [==============================] - 194s 158ms/step - loss: 0.0781 - acc: 0.9703\n",
            "Epoch 11/15\n",
            "1223/1223 [==============================] - 188s 154ms/step - loss: 0.0654 - acc: 0.9751\n",
            "Epoch 12/15\n",
            "1223/1223 [==============================] - 184s 151ms/step - loss: 0.0554 - acc: 0.9823\n",
            "Epoch 13/15\n",
            "1223/1223 [==============================] - 183s 150ms/step - loss: 0.0419 - acc: 0.9889\n",
            "Epoch 14/15\n",
            "1223/1223 [==============================] - 187s 153ms/step - loss: 0.0378 - acc: 0.9900\n",
            "Epoch 15/15\n",
            "1223/1223 [==============================] - 184s 151ms/step - loss: 0.0346 - acc: 0.9909\n"
          ]
        }
      ]
    },
    {
      "cell_type": "markdown",
      "source": [
        "as you see the accuracy is increasing and the loss is decreasing ."
      ],
      "metadata": {
        "id": "ysLouZvTxcby"
      }
    },
    {
      "cell_type": "code",
      "source": [
        "x_test , y_test = np.array(X_test), np.array(Y_test)\n",
        "x_test = np.reshape(x_test, (X_test.shape[0] , X_test.shape[1], 1) )"
      ],
      "metadata": {
        "id": "Pz6fRNJ_X0kl"
      },
      "execution_count": 48,
      "outputs": []
    },
    {
      "cell_type": "markdown",
      "source": [
        "**model evaluation**"
      ],
      "metadata": {
        "id": "0Oc7EfUKsmkH"
      }
    },
    {
      "cell_type": "code",
      "source": [
        "loss, accuracy = model.evaluate(x_test, y_test)\n",
        "print(accuracy)"
      ],
      "metadata": {
        "colab": {
          "base_uri": "https://localhost:8080/"
        },
        "id": "9yKEcQXy1ptT",
        "outputId": "7665491c-ad30-48ad-ff27-24c0a740428d"
      },
      "execution_count": 49,
      "outputs": [
        {
          "output_type": "stream",
          "name": "stdout",
          "text": [
            "1223/1223 [==============================] - 37s 28ms/step - loss: 0.0286 - acc: 0.9927\n",
            "0.9927427172660828\n"
          ]
        }
      ]
    },
    {
      "cell_type": "code",
      "source": [
        "Y_pred = model.predict(x_test)"
      ],
      "metadata": {
        "id": "XWAZk1SK-3qf",
        "colab": {
          "base_uri": "https://localhost:8080/"
        },
        "outputId": "ff099850-c345-48f5-b272-de2cc34dc903"
      },
      "execution_count": 50,
      "outputs": [
        {
          "output_type": "stream",
          "name": "stdout",
          "text": [
            "1223/1223 [==============================] - 35s 27ms/step\n"
          ]
        }
      ]
    },
    {
      "cell_type": "markdown",
      "source": [
        "**importing needed dependencies**"
      ],
      "metadata": {
        "id": "NzuYOOzBsvA8"
      }
    },
    {
      "cell_type": "code",
      "source": [
        "#these are used to verify the quality of our model .\n",
        "from sklearn.metrics import accuracy_score\n",
        "from sklearn.metrics import f1_score\n",
        "from sklearn.metrics import recall_score\n",
        "from sklearn.metrics import precision_score"
      ],
      "metadata": {
        "id": "H9HCw9ukp_I1"
      },
      "execution_count": 51,
      "outputs": []
    },
    {
      "cell_type": "code",
      "source": [
        "print(Y_pred)"
      ],
      "metadata": {
        "colab": {
          "base_uri": "https://localhost:8080/"
        },
        "id": "9x51rmFMrKTC",
        "outputId": "bb67884e-033c-44ce-992a-60cc5b7fd6f8"
      },
      "execution_count": 59,
      "outputs": [
        {
          "output_type": "stream",
          "name": "stdout",
          "text": [
            "[[0.00340068 0.97678614]\n",
            " [0.99264765 0.02913725]\n",
            " [0.98389953 0.03384354]\n",
            " ...\n",
            " [0.90078866 0.10164133]\n",
            " [0.00339946 0.9767771 ]\n",
            " [0.97779006 0.0378468 ]]\n"
          ]
        }
      ]
    },
    {
      "cell_type": "code",
      "source": [
        "#turning the predicted probabilities to 0 and 1 in order to use them in f1-Score ,recall and precision.\n",
        "Y_pred_labels = [np.argmax(i) for i in Y_pred]\n",
        "print(Y_pred_labels)"
      ],
      "metadata": {
        "colab": {
          "base_uri": "https://localhost:8080/"
        },
        "id": "2AgjkvhXrdwP",
        "outputId": "b947db43-d5d9-4977-e9d9-43d819c2f4a3"
      },
      "execution_count": 60,
      "outputs": [
        {
          "output_type": "stream",
          "name": "stdout",
          "text": [
            "[1, 0, 0, 1, 0, 1, 1, 1, 1, 1, 0, 0, 1, 1, 1, 0, 1, 1, 1, 0, 0, 1, 0, 0, 1, 0, 0, 0, 1, 1, 0, 1, 0, 0, 0, 0, 1, 1, 1, 1, 1, 0, 0, 0, 0, 1, 0, 0, 1, 0, 1, 1, 0, 1, 1, 0, 1, 1, 1, 1, 0, 1, 1, 0, 0, 1, 0, 0, 0, 0, 1, 1, 0, 1, 0, 1, 0, 0, 0, 0, 0, 0, 1, 1, 1, 1, 0, 1, 1, 1, 0, 1, 0, 1, 1, 1, 1, 0, 1, 0, 1, 0, 1, 0, 1, 0, 0, 1, 0, 1, 1, 0, 1, 0, 0, 0, 0, 0, 0, 1, 1, 1, 0, 0, 0, 1, 0, 1, 0, 0, 1, 0, 0, 0, 0, 1, 0, 1, 0, 0, 0, 0, 0, 1, 1, 1, 1, 1, 1, 0, 0, 1, 1, 0, 0, 1, 0, 0, 0, 1, 0, 0, 0, 1, 0, 1, 1, 0, 0, 0, 1, 0, 1, 1, 1, 1, 1, 0, 1, 0, 1, 1, 1, 1, 0, 1, 1, 0, 1, 1, 0, 0, 1, 0, 0, 1, 0, 0, 0, 0, 1, 0, 1, 1, 0, 0, 1, 1, 1, 0, 0, 1, 1, 1, 1, 1, 1, 1, 0, 0, 1, 0, 0, 1, 0, 0, 1, 0, 0, 1, 1, 0, 0, 1, 0, 1, 1, 1, 1, 1, 0, 1, 1, 1, 1, 1, 0, 1, 0, 0, 0, 0, 0, 0, 1, 1, 1, 1, 1, 0, 1, 1, 0, 1, 1, 0, 0, 1, 0, 1, 1, 1, 0, 1, 0, 1, 1, 1, 0, 1, 1, 0, 1, 1, 0, 0, 1, 0, 1, 1, 1, 1, 0, 1, 1, 0, 1, 1, 1, 0, 1, 0, 1, 1, 0, 1, 0, 0, 1, 1, 0, 0, 0, 0, 1, 1, 1, 0, 1, 1, 1, 0, 0, 1, 1, 0, 1, 1, 0, 0, 1, 0, 1, 0, 1, 1, 0, 1, 0, 0, 1, 0, 1, 1, 0, 1, 0, 0, 0, 1, 0, 1, 0, 0, 0, 0, 0, 0, 0, 0, 1, 1, 1, 0, 0, 1, 0, 0, 1, 0, 1, 0, 0, 1, 1, 0, 1, 0, 0, 0, 0, 0, 1, 0, 1, 0, 1, 0, 1, 1, 0, 0, 0, 0, 1, 0, 0, 1, 0, 0, 1, 0, 1, 1, 1, 1, 1, 1, 0, 0, 0, 1, 0, 0, 1, 0, 0, 1, 0, 0, 1, 0, 1, 0, 1, 0, 1, 0, 1, 1, 1, 0, 0, 1, 0, 1, 0, 0, 0, 1, 1, 0, 0, 1, 1, 0, 0, 0, 0, 0, 1, 1, 0, 0, 1, 1, 1, 0, 0, 1, 0, 0, 0, 1, 0, 0, 1, 1, 0, 1, 0, 0, 1, 1, 1, 0, 1, 1, 0, 0, 0, 1, 0, 1, 0, 1, 1, 0, 0, 1, 0, 1, 1, 0, 1, 0, 1, 1, 1, 1, 0, 1, 0, 0, 0, 1, 0, 0, 0, 1, 0, 0, 1, 0, 1, 1, 1, 0, 1, 1, 0, 0, 1, 0, 0, 0, 0, 0, 1, 1, 0, 1, 1, 0, 0, 0, 0, 1, 0, 1, 0, 1, 0, 1, 1, 1, 0, 1, 0, 1, 1, 0, 1, 1, 1, 1, 1, 0, 1, 0, 0, 0, 1, 0, 1, 0, 0, 1, 1, 0, 0, 1, 1, 1, 1, 1, 1, 1, 1, 0, 1, 1, 0, 0, 1, 1, 0, 1, 0, 0, 0, 0, 1, 1, 0, 0, 0, 1, 1, 1, 0, 0, 0, 0, 1, 0, 1, 0, 1, 0, 0, 0, 0, 0, 0, 0, 0, 0, 0, 0, 1, 1, 0, 1, 0, 0, 0, 1, 1, 0, 1, 1, 1, 0, 1, 0, 0, 1, 0, 1, 1, 0, 0, 0, 0, 1, 0, 0, 1, 0, 1, 1, 1, 0, 1, 0, 1, 1, 1, 0, 1, 1, 0, 1, 0, 0, 1, 0, 0, 0, 1, 1, 0, 1, 0, 0, 0, 1, 0, 0, 1, 0, 0, 0, 1, 0, 0, 0, 1, 1, 0, 0, 1, 0, 1, 1, 0, 0, 0, 0, 1, 1, 1, 1, 1, 1, 1, 0, 0, 0, 0, 1, 0, 0, 0, 1, 1, 0, 0, 0, 0, 1, 0, 1, 1, 1, 0, 1, 0, 0, 0, 0, 1, 1, 1, 1, 1, 0, 0, 1, 0, 0, 0, 0, 1, 0, 0, 0, 0, 0, 0, 0, 0, 1, 1, 1, 0, 1, 0, 1, 0, 1, 1, 1, 0, 0, 0, 0, 1, 1, 0, 1, 1, 0, 0, 0, 1, 1, 1, 0, 0, 1, 0, 1, 0, 0, 1, 0, 0, 1, 0, 0, 1, 0, 0, 1, 0, 0, 1, 0, 0, 0, 1, 0, 0, 1, 0, 1, 1, 1, 0, 0, 1, 1, 1, 1, 0, 0, 0, 0, 0, 0, 1, 0, 1, 0, 1, 0, 1, 0, 0, 1, 0, 1, 0, 0, 1, 0, 1, 0, 0, 0, 1, 0, 0, 0, 1, 0, 0, 0, 0, 0, 0, 1, 1, 1, 0, 1, 0, 1, 0, 1, 1, 1, 0, 0, 0, 0, 1, 0, 0, 0, 0, 1, 1, 0, 1, 0, 0, 0, 0, 1, 1, 1, 1, 0, 1, 0, 1, 1, 1, 1, 0, 1, 1, 0, 1, 1, 1, 1, 1, 0, 0, 1, 1, 1, 0, 1, 1, 1, 1, 1, 0, 1, 1, 0, 1, 0, 1, 1, 1, 0, 0, 1, 0, 0, 1, 1, 0, 1, 1, 1, 1, 1, 1, 0, 0, 1, 1, 0, 0, 1, 1, 1, 0, 0, 0, 0, 1, 1, 1, 0, 0, 1, 1, 0, 1, 0, 1, 0, 1, 1, 0, 0, 1, 1, 1, 0, 1, 0, 1, 0, 1, 1, 0, 1, 1, 1, 1, 1, 1, 1, 0, 0, 1, 0, 0, 0, 1, 0, 1, 0, 1, 1, 0, 0, 1, 1, 0, 0, 1, 1, 1, 1, 0, 0, 0, 1, 1, 0, 0, 0, 0, 1, 0, 1, 0, 1, 0, 1, 1, 1, 1, 0, 1, 0, 1, 1, 0, 1, 1, 1, 1, 1, 0, 1, 1, 1, 0, 0, 0, 1, 0, 1, 1, 1, 1, 1, 0, 0, 1, 0, 0, 0, 1, 0, 0, 0, 1, 1, 0, 0, 1, 1, 1, 1, 0, 1, 0, 1, 0, 1, 1, 0, 0, 1, 0, 1, 0, 1, 1, 0, 1, 1, 1, 1, 1, 1, 1, 1, 1, 1, 0, 1, 1, 0, 1, 0, 0, 0, 0, 1, 1, 0, 1, 0, 1, 0, 1, 1, 1, 1, 1, 0, 0, 1, 0, 1, 1, 1, 1, 0, 0, 0, 0, 1, 0, 1, 0, 0, 1, 1, 1, 1, 0, 1, 1, 1, 0, 1, 0, 0, 0, 0, 0, 0, 0, 0, 0, 1, 0, 0, 1, 1, 0, 0, 1, 0, 0, 0, 1, 1, 1, 0, 1, 1, 0, 0, 1, 1, 0, 0, 1, 0, 0, 0, 1, 0, 1, 1, 1, 0, 1, 1, 0, 1, 1, 0, 0, 0, 1, 1, 1, 1, 0, 1, 0, 0, 1, 0, 0, 1, 1, 1, 1, 1, 1, 1, 1, 1, 0, 0, 0, 1, 0, 0, 0, 0, 0, 0, 1, 1, 1, 1, 0, 1, 0, 0, 1, 1, 1, 1, 1, 1, 0, 0, 0, 1, 1, 1, 0, 0, 0, 0, 1, 1, 0, 0, 0, 1, 0, 1, 0, 1, 0, 1, 0, 0, 0, 0, 1, 1, 0, 1, 0, 1, 1, 1, 1, 0, 1, 1, 0, 1, 0, 1, 0, 1, 0, 0, 1, 0, 1, 0, 0, 0, 1, 1, 1, 0, 0, 0, 0, 1, 1, 0, 0, 0, 1, 0, 1, 0, 1, 1, 1, 1, 0, 0, 1, 0, 0, 1, 1, 1, 1, 0, 1, 0, 0, 1, 1, 0, 1, 1, 0, 1, 0, 0, 0, 1, 1, 1, 0, 1, 1, 1, 0, 1, 0, 1, 0, 1, 0, 0, 0, 1, 1, 0, 1, 1, 0, 0, 0, 0, 1, 1, 1, 1, 0, 0, 1, 0, 0, 0, 1, 0, 0, 1, 1, 0, 0, 1, 0, 1, 1, 1, 1, 1, 0, 1, 1, 0, 0, 0, 1, 1, 0, 1, 1, 1, 0, 1, 0, 0, 1, 0, 0, 1, 1, 0, 1, 1, 0, 1, 0, 1, 1, 0, 1, 0, 1, 1, 0, 0, 0, 0, 1, 1, 0, 0, 0, 0, 0, 0, 1, 1, 1, 0, 0, 0, 1, 0, 0, 0, 1, 0, 0, 0, 0, 1, 1, 1, 1, 0, 1, 1, 0, 1, 0, 1, 1, 1, 1, 1, 1, 0, 1, 0, 1, 1, 1, 0, 1, 0, 1, 1, 0, 0, 1, 1, 0, 0, 0, 0, 1, 1, 1, 0, 0, 0, 1, 0, 0, 0, 0, 1, 0, 0, 0, 0, 1, 0, 1, 0, 0, 1, 0, 1, 1, 0, 0, 1, 0, 1, 1, 1, 0, 1, 0, 0, 1, 0, 0, 0, 1, 1, 1, 1, 1, 1, 1, 1, 0, 1, 0, 1, 0, 0, 0, 1, 1, 0, 1, 0, 0, 0, 0, 1, 0, 1, 0, 1, 1, 0, 0, 1, 1, 0, 0, 1, 1, 1, 0, 0, 1, 1, 1, 0, 1, 1, 1, 0, 1, 0, 1, 0, 0, 1, 1, 1, 0, 1, 0, 0, 0, 1, 0, 1, 0, 0, 0, 0, 0, 1, 0, 0, 1, 1, 0, 1, 0, 1, 1, 1, 1, 1, 0, 0, 0, 0, 0, 0, 0, 0, 1, 0, 0, 1, 0, 0, 0, 0, 1, 1, 1, 1, 1, 1, 0, 1, 1, 1, 1, 1, 0, 1, 0, 0, 1, 0, 1, 0, 0, 1, 1, 0, 1, 0, 1, 0, 0, 0, 1, 1, 1, 1, 1, 1, 0, 0, 0, 1, 1, 1, 0, 1, 1, 0, 0, 1, 1, 1, 1, 0, 1, 1, 1, 1, 0, 0, 0, 0, 1, 0, 1, 0, 1, 0, 1, 0, 0, 0, 1, 1, 1, 0, 1, 0, 1, 0, 1, 0, 1, 1, 1, 1, 0, 1, 0, 1, 1, 1, 0, 0, 1, 0, 0, 0, 0, 1, 0, 1, 1, 0, 1, 0, 0, 1, 0, 0, 1, 1, 1, 0, 0, 1, 1, 1, 0, 0, 0, 0, 0, 1, 1, 1, 0, 1, 0, 0, 0, 0, 0, 1, 1, 0, 0, 0, 0, 1, 0, 0, 0, 0, 1, 0, 0, 1, 0, 0, 0, 1, 0, 1, 1, 1, 0, 0, 1, 1, 1, 1, 0, 1, 1, 0, 0, 0, 0, 1, 0, 0, 1, 0, 1, 1, 0, 0, 1, 0, 1, 0, 1, 1, 1, 0, 0, 0, 1, 0, 0, 0, 0, 0, 0, 1, 1, 1, 0, 0, 1, 0, 1, 1, 0, 1, 0, 0, 1, 0, 1, 1, 1, 0, 1, 1, 0, 0, 1, 1, 0, 1, 1, 1, 0, 1, 0, 0, 0, 0, 1, 0, 1, 1, 0, 0, 0, 1, 1, 1, 0, 1, 1, 1, 0, 0, 1, 0, 1, 1, 1, 0, 1, 0, 1, 0, 0, 1, 0, 1, 0, 0, 0, 0, 0, 1, 0, 1, 0, 1, 0, 1, 0, 1, 1, 1, 0, 0, 1, 1, 0, 1, 0, 0, 0, 0, 0, 1, 1, 1, 1, 0, 1, 1, 0, 0, 1, 1, 1, 1, 0, 1, 1, 0, 0, 1, 0, 1, 1, 0, 0, 0, 0, 0, 0, 0, 1, 0, 0, 1, 1, 1, 1, 0, 1, 1, 0, 1, 1, 1, 1, 0, 0, 0, 0, 1, 0, 1, 0, 1, 0, 0, 0, 1, 1, 0, 1, 0, 0, 0, 1, 1, 0, 0, 1, 0, 0, 1, 0, 1, 0, 0, 1, 1, 1, 1, 1, 1, 1, 1, 1, 1, 1, 0, 1, 1, 1, 0, 0, 1, 1, 1, 1, 0, 1, 0, 0, 1, 0, 1, 0, 0, 0, 0, 1, 0, 0, 1, 1, 1, 0, 1, 0, 1, 0, 0, 1, 0, 1, 1, 1, 0, 0, 1, 0, 0, 0, 1, 0, 1, 0, 1, 0, 1, 1, 1, 1, 0, 1, 0, 1, 1, 1, 1, 0, 0, 1, 1, 1, 0, 1, 0, 1, 0, 1, 1, 0, 0, 0, 1, 1, 0, 0, 0, 1, 1, 0, 1, 1, 1, 1, 0, 0, 0, 0, 1, 0, 1, 0, 0, 0, 0, 1, 0, 0, 0, 0, 0, 1, 0, 1, 1, 0, 0, 1, 0, 0, 1, 1, 0, 1, 1, 0, 0, 0, 0, 1, 0, 1, 1, 0, 0, 0, 1, 1, 1, 1, 0, 1, 1, 1, 1, 0, 1, 0, 1, 0, 0, 1, 1, 1, 1, 0, 1, 1, 0, 1, 1, 1, 1, 0, 1, 0, 1, 0, 0, 0, 1, 1, 1, 1, 0, 1, 1, 1, 0, 0, 1, 0, 0, 0, 0, 1, 0, 0, 0, 0, 0, 1, 1, 0, 0, 0, 1, 0, 1, 0, 0, 1, 0, 1, 1, 0, 1, 0, 1, 0, 0, 0, 0, 0, 1, 1, 0, 1, 0, 0, 0, 1, 1, 0, 0, 0, 0, 0, 0, 0, 1, 0, 1, 0, 1, 1, 1, 1, 1, 1, 0, 0, 1, 0, 0, 1, 0, 1, 0, 1, 0, 1, 1, 0, 0, 1, 1, 1, 1, 0, 1, 0, 0, 0, 1, 0, 1, 0, 1, 1, 1, 0, 1, 0, 1, 0, 0, 0, 0, 0, 0, 1, 1, 0, 0, 0, 0, 0, 0, 1, 1, 1, 0, 1, 0, 1, 1, 1, 0, 0, 0, 1, 1, 0, 0, 0, 1, 0, 1, 0, 0, 0, 1, 0, 0, 1, 0, 1, 0, 1, 0, 1, 0, 0, 1, 1, 0, 0, 1, 1, 0, 1, 0, 0, 1, 1, 1, 1, 0, 1, 0, 1, 0, 1, 1, 0, 1, 1, 1, 1, 1, 1, 0, 1, 1, 0, 1, 1, 1, 1, 0, 0, 1, 0, 0, 0, 0, 0, 0, 0, 1, 0, 0, 0, 1, 1, 0, 0, 1, 0, 0, 0, 1, 1, 0, 0, 1, 0, 1, 1, 0, 1, 1, 1, 0, 1, 1, 1, 0, 0, 1, 1, 1, 1, 0, 1, 0, 1, 1, 0, 0, 0, 0, 1, 1, 0, 0, 0, 0, 0, 0, 0, 1, 1, 0, 0, 0, 1, 0, 0, 1, 1, 1, 1, 1, 0, 0, 1, 1, 1, 1, 0, 0, 0, 1, 0, 1, 0, 0, 0, 0, 0, 0, 1, 0, 1, 1, 1, 0, 1, 0, 0, 1, 1, 0, 0, 0, 0, 0, 0, 0, 0, 1, 0, 1, 0, 0, 1, 1, 1, 1, 0, 0, 1, 1, 1, 1, 0, 1, 0, 0, 0, 0, 1, 0, 0, 1, 1, 1, 1, 1, 1, 1, 1, 1, 1, 1, 1, 0, 1, 1, 1, 0, 0, 0, 1, 1, 0, 1, 0, 0, 0, 0, 0, 0, 0, 0, 1, 1, 0, 1, 1, 1, 0, 1, 1, 0, 0, 1, 1, 0, 1, 0, 1, 0, 0, 0, 0, 0, 1, 0, 1, 1, 1, 1, 0, 1, 1, 0, 0, 0, 0, 0, 1, 0, 0, 0, 0, 0, 1, 1, 0, 1, 1, 1, 0, 1, 1, 0, 1, 1, 0, 0, 0, 1, 0, 1, 0, 1, 0, 0, 1, 0, 0, 1, 0, 0, 1, 1, 1, 1, 1, 1, 0, 1, 1, 1, 0, 1, 0, 1, 1, 1, 1, 1, 0, 1, 1, 1, 0, 0, 0, 0, 0, 0, 0, 1, 0, 0, 0, 0, 0, 0, 1, 1, 0, 0, 1, 0, 1, 1, 1, 0, 0, 0, 1, 1, 0, 1, 1, 0, 0, 1, 0, 1, 1, 1, 0, 0, 0, 0, 1, 1, 0, 1, 0, 0, 1, 0, 0, 0, 0, 1, 0, 0, 1, 1, 0, 1, 1, 0, 1, 1, 0, 0, 1, 1, 1, 0, 0, 0, 0, 0, 1, 0, 1, 1, 0, 1, 0, 0, 0, 1, 1, 0, 0, 0, 0, 0, 0, 1, 1, 1, 0, 0, 0, 1, 0, 1, 0, 0, 1, 1, 1, 0, 0, 0, 1, 0, 0, 0, 0, 1, 1, 1, 1, 0, 0, 1, 1, 1, 0, 0, 0, 0, 0, 0, 0, 0, 1, 0, 0, 1, 0, 0, 1, 1, 0, 0, 0, 1, 1, 0, 1, 1, 0, 1, 0, 1, 1, 1, 1, 0, 0, 1, 0, 0, 0, 0, 0, 0, 0, 0, 1, 0, 0, 0, 1, 1, 0, 0, 1, 0, 0, 0, 1, 0, 1, 0, 1, 1, 0, 0, 1, 0, 0, 0, 1, 0, 0, 1, 0, 0, 0, 1, 0, 0, 1, 0, 1, 1, 0, 0, 0, 0, 1, 0, 1, 1, 0, 1, 1, 1, 1, 1, 0, 1, 0, 0, 1, 0, 0, 0, 1, 1, 0, 0, 1, 1, 1, 1, 0, 0, 0, 0, 1, 0, 0, 0, 0, 0, 0, 1, 0, 1, 0, 0, 1, 1, 1, 0, 0, 1, 1, 0, 1, 0, 1, 0, 0, 0, 1, 0, 0, 0, 0, 0, 1, 0, 1, 0, 1, 0, 0, 0, 0, 1, 0, 0, 1, 0, 1, 1, 0, 1, 1, 0, 1, 1, 1, 0, 0, 0, 1, 0, 1, 1, 0, 1, 0, 1, 1, 0, 1, 1, 0, 0, 1, 0, 0, 0, 1, 0, 1, 0, 1, 1, 0, 0, 1, 1, 0, 1, 0, 0, 0, 1, 0, 0, 1, 0, 1, 1, 1, 1, 1, 0, 0, 1, 0, 0, 0, 0, 1, 1, 0, 1, 0, 1, 0, 1, 0, 1, 0, 0, 0, 1, 1, 0, 0, 1, 1, 1, 0, 1, 1, 1, 1, 1, 0, 0, 1, 0, 1, 0, 0, 0, 0, 1, 0, 0, 0, 0, 1, 0, 0, 1, 0, 1, 1, 0, 1, 0, 0, 0, 0, 0, 1, 1, 1, 1, 1, 1, 0, 0, 0, 1, 0, 1, 1, 1, 1, 0, 1, 1, 1, 0, 0, 0, 1, 0, 0, 0, 0, 1, 0, 1, 1, 0, 0, 0, 0, 0, 0, 1, 0, 0, 1, 1, 0, 0, 0, 1, 1, 0, 1, 0, 0, 0, 1, 0, 0, 1, 0, 1, 0, 0, 0, 0, 1, 0, 1, 1, 0, 1, 1, 1, 1, 0, 0, 1, 0, 1, 0, 0, 1, 0, 0, 1, 1, 1, 0, 1, 0, 0, 0, 1, 1, 0, 0, 0, 0, 0, 1, 0, 0, 0, 0, 1, 0, 0, 0, 0, 1, 1, 0, 0, 1, 1, 1, 1, 1, 1, 0, 1, 1, 0, 0, 0, 0, 0, 1, 0, 0, 1, 0, 1, 0, 0, 0, 0, 1, 1, 1, 1, 1, 1, 1, 1, 1, 1, 0, 0, 0, 1, 0, 1, 1, 0, 1, 1, 0, 0, 1, 1, 0, 0, 0, 0, 0, 1, 1, 0, 0, 0, 1, 0, 0, 0, 0, 1, 1, 1, 0, 1, 0, 0, 0, 0, 1, 0, 1, 1, 1, 0, 1, 1, 1, 1, 0, 0, 1, 1, 0, 1, 0, 1, 0, 0, 1, 0, 0, 1, 1, 0, 0, 0, 0, 1, 1, 0, 1, 1, 0, 0, 0, 0, 0, 0, 1, 0, 1, 1, 1, 0, 0, 0, 1, 1, 1, 0, 0, 0, 1, 0, 1, 0, 1, 1, 0, 1, 0, 0, 0, 0, 0, 1, 1, 0, 1, 1, 1, 1, 0, 0, 0, 0, 1, 1, 0, 1, 1, 1, 0, 0, 0, 1, 1, 1, 1, 1, 0, 1, 1, 0, 1, 0, 0, 0, 1, 1, 0, 0, 0, 1, 1, 0, 1, 0, 1, 0, 0, 0, 1, 0, 1, 1, 0, 0, 1, 0, 1, 1, 0, 1, 0, 1, 1, 0, 0, 0, 0, 0, 1, 0, 0, 0, 0, 1, 0, 1, 0, 0, 0, 1, 0, 0, 0, 0, 0, 1, 1, 0, 1, 1, 0, 1, 1, 0, 1, 1, 0, 0, 1, 0, 0, 1, 1, 0, 0, 0, 0, 0, 1, 1, 0, 0, 1, 1, 0, 1, 0, 0, 1, 0, 1, 0, 0, 0, 0, 1, 0, 1, 0, 0, 1, 0, 0, 0, 1, 0, 1, 0, 0, 0, 1, 1, 0, 0, 0, 1, 1, 0, 0, 1, 1, 1, 1, 0, 1, 1, 1, 0, 0, 0, 1, 0, 1, 1, 1, 0, 0, 0, 0, 1, 1, 1, 1, 1, 0, 0, 1, 0, 1, 0, 0, 1, 1, 1, 0, 0, 1, 0, 1, 0, 0, 1, 1, 1, 0, 1, 0, 0, 0, 1, 0, 1, 1, 1, 0, 0, 0, 0, 1, 0, 1, 0, 1, 0, 1, 0, 1, 0, 0, 0, 1, 0, 1, 0, 1, 0, 1, 1, 1, 1, 0, 0, 0, 0, 1, 1, 1, 1, 0, 0, 1, 0, 1, 1, 1, 0, 0, 1, 1, 0, 1, 0, 0, 0, 1, 1, 1, 1, 1, 0, 1, 0, 1, 0, 0, 0, 1, 0, 0, 0, 0, 0, 1, 1, 1, 1, 0, 0, 1, 1, 1, 0, 1, 0, 0, 1, 0, 0, 1, 0, 0, 1, 1, 0, 0, 1, 1, 1, 1, 1, 1, 0, 0, 1, 0, 0, 0, 0, 0, 1, 0, 0, 0, 0, 1, 1, 0, 0, 1, 1, 0, 0, 0, 0, 1, 0, 1, 1, 0, 0, 1, 0, 1, 1, 0, 0, 1, 0, 0, 0, 1, 0, 0, 1, 1, 1, 1, 0, 1, 0, 0, 0, 0, 0, 1, 0, 0, 1, 1, 1, 0, 0, 1, 1, 0, 0, 1, 1, 1, 1, 1, 0, 0, 0, 1, 0, 0, 1, 1, 1, 0, 1, 0, 1, 0, 0, 0, 0, 0, 1, 1, 0, 0, 0, 1, 1, 0, 0, 0, 0, 0, 0, 0, 0, 0, 0, 1, 0, 1, 1, 1, 0, 1, 1, 1, 1, 1, 0, 1, 0, 1, 1, 0, 0, 1, 1, 0, 0, 0, 1, 1, 0, 0, 1, 0, 1, 1, 0, 1, 1, 0, 0, 1, 1, 1, 1, 1, 1, 1, 0, 0, 0, 0, 1, 1, 0, 1, 1, 1, 1, 0, 1, 0, 0, 1, 0, 0, 1, 0, 0, 0, 0, 1, 1, 1, 0, 0, 1, 1, 0, 0, 1, 1, 0, 0, 0, 1, 1, 1, 1, 1, 1, 0, 0, 0, 0, 0, 1, 0, 0, 0, 0, 0, 0, 1, 0, 0, 0, 1, 1, 0, 0, 0, 0, 0, 0, 1, 1, 0, 1, 1, 1, 0, 1, 1, 0, 0, 1, 1, 1, 0, 0, 1, 1, 0, 1, 1, 1, 0, 1, 0, 1, 1, 0, 0, 0, 1, 1, 1, 1, 0, 1, 0, 1, 0, 1, 1, 1, 0, 1, 0, 1, 1, 0, 1, 0, 0, 0, 0, 1, 1, 0, 0, 1, 1, 1, 1, 1, 0, 0, 0, 0, 1, 1, 0, 1, 1, 1, 0, 1, 0, 0, 0, 0, 1, 1, 1, 0, 1, 1, 0, 0, 1, 0, 0, 1, 0, 0, 1, 1, 1, 1, 0, 0, 1, 1, 1, 0, 1, 1, 0, 0, 1, 1, 0, 1, 1, 1, 0, 0, 1, 1, 0, 1, 1, 1, 0, 0, 0, 0, 1, 1, 0, 0, 0, 1, 0, 1, 0, 1, 0, 0, 1, 1, 1, 1, 1, 1, 0, 1, 1, 1, 0, 1, 1, 0, 0, 0, 0, 0, 0, 1, 0, 0, 1, 1, 1, 0, 0, 0, 0, 0, 0, 0, 0, 1, 1, 0, 0, 1, 1, 1, 0, 0, 0, 1, 0, 1, 0, 1, 1, 0, 0, 1, 0, 0, 1, 0, 0, 1, 0, 0, 1, 0, 1, 0, 1, 1, 0, 1, 1, 1, 0, 0, 1, 1, 0, 1, 0, 0, 1, 0, 0, 0, 1, 1, 1, 1, 1, 1, 0, 1, 0, 0, 1, 1, 0, 0, 0, 0, 1, 1, 1, 1, 1, 1, 0, 0, 1, 0, 0, 1, 1, 1, 0, 0, 0, 0, 1, 1, 1, 0, 0, 1, 1, 0, 0, 1, 1, 0, 0, 1, 0, 0, 1, 0, 0, 1, 0, 0, 0, 0, 0, 0, 0, 1, 1, 0, 0, 1, 0, 1, 0, 0, 0, 1, 1, 0, 1, 1, 1, 1, 0, 1, 0, 1, 1, 1, 0, 1, 1, 1, 0, 1, 0, 1, 1, 0, 0, 0, 0, 1, 0, 0, 0, 1, 0, 1, 1, 1, 1, 1, 1, 1, 1, 0, 0, 1, 1, 0, 0, 1, 0, 1, 0, 0, 0, 1, 1, 1, 0, 0, 1, 0, 1, 0, 0, 0, 1, 0, 1, 0, 0, 0, 0, 1, 1, 1, 0, 0, 0, 1, 1, 1, 0, 1, 1, 1, 1, 0, 1, 1, 0, 1, 1, 0, 0, 0, 0, 0, 1, 1, 0, 1, 1, 1, 0, 0, 1, 0, 1, 1, 0, 0, 0, 0, 1, 0, 0, 1, 1, 0, 1, 0, 0, 1, 1, 1, 0, 1, 1, 0, 0, 0, 1, 1, 1, 1, 1, 1, 1, 1, 0, 0, 0, 1, 0, 0, 0, 0, 1, 1, 0, 0, 1, 1, 1, 0, 0, 0, 1, 1, 1, 0, 1, 1, 1, 0, 0, 0, 0, 0, 1, 1, 1, 1, 0, 1, 0, 0, 0, 1, 0, 1, 1, 0, 0, 0, 0, 0, 0, 1, 0, 0, 1, 1, 0, 1, 0, 1, 1, 0, 0, 0, 0, 1, 1, 0, 0, 0, 0, 0, 1, 1, 0, 0, 1, 0, 1, 0, 1, 0, 1, 0, 1, 1, 1, 1, 1, 0, 1, 1, 1, 0, 0, 1, 1, 0, 0, 0, 1, 0, 1, 0, 1, 0, 0, 0, 1, 0, 1, 1, 0, 0, 0, 1, 1, 1, 1, 1, 0, 0, 1, 0, 1, 1, 0, 0, 1, 0, 1, 1, 0, 1, 0, 1, 1, 0, 0, 1, 1, 0, 1, 0, 1, 0, 0, 0, 0, 0, 0, 0, 1, 0, 1, 0, 0, 0, 0, 1, 1, 1, 1, 1, 0, 0, 1, 1, 0, 0, 0, 1, 0, 1, 1, 0, 1, 0, 0, 1, 0, 1, 1, 0, 1, 0, 1, 0, 1, 1, 0, 0, 0, 0, 1, 0, 0, 0, 1, 1, 1, 0, 1, 0, 0, 0, 0, 1, 0, 0, 0, 1, 1, 0, 0, 1, 1, 1, 0, 0, 0, 1, 0, 0, 1, 1, 1, 1, 1, 0, 0, 0, 1, 0, 1, 1, 0, 0, 0, 0, 0, 1, 0, 1, 0, 0, 0, 1, 1, 0, 1, 0, 0, 0, 1, 1, 1, 0, 0, 1, 0, 0, 1, 1, 0, 1, 0, 0, 1, 1, 0, 0, 1, 1, 1, 0, 1, 0, 0, 1, 1, 1, 1, 0, 1, 0, 0, 1, 1, 0, 0, 0, 0, 0, 1, 0, 0, 1, 0, 1, 1, 0, 0, 0, 1, 1, 0, 0, 0, 1, 0, 1, 0, 0, 1, 1, 1, 1, 0, 0, 0, 1, 0, 1, 0, 1, 0, 1, 1, 1, 0, 0, 0, 1, 0, 0, 0, 1, 0, 0, 0, 1, 1, 0, 0, 0, 0, 0, 0, 0, 0, 1, 0, 1, 0, 1, 1, 1, 0, 1, 1, 1, 0, 1, 0, 1, 0, 1, 0, 1, 0, 1, 0, 0, 0, 0, 1, 1, 1, 1, 1, 0, 0, 0, 1, 0, 0, 1, 0, 0, 0, 1, 1, 1, 0, 0, 1, 1, 0, 1, 0, 0, 0, 1, 0, 0, 0, 0, 1, 1, 0, 0, 1, 0, 1, 0, 0, 1, 1, 1, 1, 0, 1, 0, 1, 0, 1, 1, 1, 1, 0, 1, 0, 1, 1, 0, 1, 0, 1, 1, 1, 1, 0, 0, 0, 1, 0, 0, 0, 0, 0, 0, 1, 0, 0, 1, 0, 0, 1, 1, 1, 1, 0, 1, 0, 1, 0, 0, 1, 1, 1, 0, 1, 0, 0, 0, 0, 1, 0, 1, 0, 0, 1, 1, 1, 1, 0, 1, 0, 1, 1, 1, 1, 0, 1, 1, 1, 1, 1, 1, 1, 1, 1, 1, 0, 0, 0, 1, 1, 0, 0, 0, 1, 0, 1, 0, 1, 0, 1, 1, 0, 0, 0, 0, 1, 0, 0, 0, 0, 0, 1, 0, 1, 0, 0, 1, 1, 1, 0, 0, 1, 1, 1, 0, 1, 1, 0, 0, 0, 1, 1, 1, 1, 0, 1, 1, 0, 1, 1, 0, 0, 0, 0, 0, 0, 0, 1, 0, 0, 1, 1, 1, 1, 0, 1, 0, 0, 0, 1, 1, 0, 0, 0, 1, 0, 1, 1, 0, 1, 0, 0, 0, 0, 1, 1, 0, 1, 0, 1, 1, 1, 1, 1, 0, 0, 0, 1, 1, 0, 0, 0, 0, 1, 0, 1, 0, 0, 0, 1, 1, 1, 1, 1, 0, 1, 0, 0, 1, 1, 1, 0, 0, 0, 0, 1, 0, 0, 1, 0, 0, 0, 0, 1, 0, 1, 0, 0, 1, 0, 0, 1, 0, 0, 0, 0, 0, 0, 1, 1, 1, 0, 1, 1, 0, 1, 0, 1, 1, 1, 1, 1, 0, 1, 1, 1, 0, 1, 0, 0, 0, 1, 1, 0, 1, 1, 1, 0, 1, 0, 0, 0, 1, 1, 1, 0, 1, 0, 1, 0, 1, 1, 0, 1, 0, 0, 0, 1, 0, 1, 0, 1, 1, 1, 0, 0, 1, 1, 0, 0, 1, 1, 1, 0, 0, 1, 1, 0, 0, 1, 0, 1, 0, 0, 0, 0, 0, 1, 1, 1, 1, 0, 1, 0, 1, 1, 1, 1, 0, 1, 0, 1, 1, 0, 1, 0, 0, 0, 1, 1, 1, 1, 0, 0, 0, 1, 0, 0, 0, 0, 0, 0, 1, 0, 1, 0, 1, 1, 1, 0, 1, 0, 1, 1, 1, 0, 1, 0, 0, 1, 1, 1, 0, 0, 1, 0, 1, 1, 0, 0, 1, 1, 0, 0, 0, 0, 0, 1, 1, 1, 0, 0, 0, 1, 0, 1, 1, 1, 0, 0, 0, 1, 1, 1, 0, 1, 1, 0, 1, 1, 0, 0, 1, 0, 0, 0, 1, 1, 1, 1, 1, 0, 0, 1, 0, 1, 1, 0, 1, 0, 1, 1, 0, 0, 0, 1, 1, 1, 1, 1, 0, 0, 0, 1, 1, 1, 1, 0, 1, 0, 1, 1, 0, 1, 0, 1, 1, 1, 1, 1, 1, 1, 1, 0, 1, 1, 0, 1, 1, 1, 0, 1, 0, 0, 1, 1, 0, 1, 1, 0, 1, 1, 0, 0, 0, 1, 0, 0, 0, 0, 0, 0, 1, 1, 0, 1, 1, 0, 0, 0, 0, 0, 1, 0, 1, 1, 1, 1, 1, 0, 1, 1, 1, 1, 1, 0, 0, 1, 1, 1, 0, 1, 0, 1, 1, 0, 0, 0, 0, 1, 0, 1, 1, 0, 0, 0, 0, 0, 0, 1, 1, 0, 1, 1, 0, 1, 0, 1, 0, 1, 0, 0, 1, 1, 1, 0, 0, 0, 1, 0, 0, 0, 1, 1, 1, 1, 1, 0, 0, 0, 1, 1, 1, 0, 0, 1, 0, 1, 0, 0, 1, 1, 1, 1, 1, 1, 1, 0, 1, 1, 0, 0, 1, 0, 0, 1, 1, 1, 0, 0, 0, 0, 1, 0, 0, 1, 1, 0, 1, 1, 0, 0, 0, 0, 0, 1, 0, 1, 1, 0, 1, 1, 0, 0, 1, 0, 1, 0, 1, 0, 0, 1, 1, 0, 0, 1, 0, 1, 0, 1, 1, 1, 0, 1, 0, 1, 1, 1, 1, 0, 1, 0, 1, 1, 0, 0, 0, 1, 0, 1, 1, 1, 1, 0, 0, 0, 1, 1, 1, 0, 1, 1, 0, 0, 1, 0, 1, 0, 0, 1, 0, 1, 1, 1, 0, 1, 1, 0, 1, 1, 1, 1, 1, 0, 1, 1, 0, 1, 0, 0, 0, 0, 0, 0, 0, 0, 1, 0, 1, 0, 1, 0, 0, 1, 1, 1, 0, 0, 1, 0, 1, 1, 1, 1, 1, 0, 1, 0, 1, 1, 1, 1, 1, 1, 1, 1, 1, 1, 1, 1, 1, 1, 0, 0, 1, 1, 1, 1, 1, 1, 1, 0, 1, 0, 1, 0, 1, 1, 1, 0, 0, 1, 0, 1, 0, 0, 1, 0, 1, 1, 0, 1, 0, 1, 0, 0, 1, 0, 0, 0, 0, 0, 0, 0, 1, 1, 1, 0, 1, 0, 0, 0, 1, 0, 0, 1, 0, 0, 1, 0, 1, 0, 0, 1, 1, 0, 0, 0, 0, 1, 1, 0, 1, 0, 1, 1, 1, 1, 0, 1, 0, 1, 0, 0, 0, 0, 1, 1, 1, 0, 1, 0, 0, 1, 0, 1, 0, 0, 1, 0, 1, 0, 0, 1, 1, 0, 1, 0, 0, 1, 1, 0, 0, 0, 1, 0, 0, 1, 0, 0, 1, 0, 1, 1, 1, 1, 0, 1, 1, 0, 0, 0, 1, 1, 1, 0, 0, 0, 1, 1, 1, 0, 0, 0, 0, 1, 0, 1, 1, 0, 1, 1, 1, 1, 0, 1, 0, 0, 0, 0, 0, 0, 1, 0, 0, 1, 1, 0, 1, 0, 1, 0, 1, 1, 0, 0, 1, 0, 1, 1, 0, 0, 1, 0, 0, 1, 1, 1, 0, 0, 0, 0, 1, 1, 1, 1, 0, 0, 0, 1, 1, 0, 0, 1, 1, 0, 0, 0, 0, 1, 1, 0, 0, 1, 0, 1, 1, 0, 0, 1, 0, 0, 1, 1, 0, 1, 1, 1, 1, 0, 1, 1, 0, 1, 1, 0, 0, 0, 1, 0, 1, 1, 0, 0, 0, 0, 1, 1, 1, 0, 1, 1, 0, 1, 0, 0, 0, 0, 1, 1, 1, 1, 0, 0, 0, 0, 0, 0, 1, 1, 1, 0, 1, 1, 0, 1, 1, 0, 0, 0, 1, 0, 0, 0, 0, 0, 1, 1, 1, 0, 0, 1, 0, 1, 0, 1, 1, 0, 1, 1, 1, 0, 1, 0, 1, 0, 0, 0, 0, 1, 0, 1, 0, 0, 1, 0, 0, 0, 0, 0, 0, 0, 0, 0, 0, 1, 1, 1, 0, 1, 0, 0, 1, 1, 1, 0, 1, 0, 1, 0, 0, 0, 0, 0, 1, 0, 1, 0, 0, 0, 1, 1, 1, 0, 0, 1, 0, 0, 1, 1, 1, 1, 0, 1, 0, 0, 1, 0, 0, 0, 0, 0, 1, 0, 1, 0, 0, 1, 1, 1, 1, 1, 1, 0, 1, 1, 1, 1, 0, 1, 1, 1, 0, 0, 0, 0, 0, 1, 0, 1, 1, 0, 0, 1, 0, 0, 0, 1, 1, 0, 1, 1, 1, 0, 1, 1, 1, 0, 0, 0, 1, 0, 0, 0, 0, 0, 1, 0, 0, 0, 1, 0, 1, 0, 0, 1, 0, 1, 1, 1, 0, 0, 0, 1, 0, 0, 0, 0, 0, 0, 0, 1, 0, 1, 0, 1, 0, 1, 1, 0, 1, 0, 1, 0, 1, 1, 0, 0, 1, 0, 0, 1, 0, 0, 0, 0, 1, 1, 0, 0, 0, 0, 1, 0, 0, 0, 0, 0, 0, 1, 1, 0, 1, 0, 0, 1, 1, 0, 0, 1, 1, 1, 1, 1, 1, 1, 1, 0, 0, 0, 1, 0, 0, 1, 0, 1, 0, 0, 0, 0, 0, 1, 0, 0, 1, 0, 0, 0, 0, 1, 1, 1, 0, 0, 1, 1, 0, 1, 0, 0, 0, 1, 0, 0, 0, 1, 0, 0, 0, 0, 1, 0, 0, 1, 0, 0, 1, 0, 0, 1, 0, 0, 1, 0, 1, 1, 1, 1, 1, 0, 1, 1, 0, 1, 1, 0, 1, 1, 1, 1, 0, 1, 0, 0, 0, 1, 1, 1, 0, 1, 0, 1, 1, 0, 0, 1, 1, 0, 0, 0, 0, 0, 1, 1, 0, 1, 0, 1, 0, 0, 1, 1, 1, 1, 1, 1, 1, 1, 0, 0, 1, 1, 0, 1, 1, 1, 0, 1, 0, 0, 1, 0, 1, 0, 0, 1, 0, 0, 1, 0, 1, 1, 1, 0, 1, 1, 1, 0, 1, 1, 1, 1, 0, 0, 0, 0, 0, 0, 1, 1, 0, 1, 1, 0, 0, 0, 0, 1, 0, 1, 0, 1, 0, 0, 1, 1, 0, 0, 0, 1, 1, 0, 1, 1, 1, 0, 1, 1, 1, 1, 0, 0, 1, 1, 1, 1, 0, 1, 0, 1, 0, 1, 1, 0, 1, 1, 1, 1, 1, 0, 1, 0, 1, 1, 0, 0, 1, 0, 1, 0, 1, 0, 1, 0, 1, 1, 0, 1, 1, 1, 0, 0, 0, 0, 1, 0, 0, 1, 0, 1, 1, 0, 0, 0, 1, 1, 1, 0, 1, 1, 0, 0, 1, 1, 0, 1, 0, 1, 0, 0, 1, 1, 0, 0, 1, 1, 0, 1, 1, 0, 0, 0, 1, 1, 1, 1, 0, 0, 0, 1, 1, 0, 0, 0, 0, 0, 0, 0, 1, 0, 0, 1, 0, 1, 1, 1, 1, 0, 0, 1, 0, 1, 0, 1, 0, 1, 1, 0, 1, 1, 0, 0, 0, 1, 1, 1, 0, 0, 1, 1, 1, 1, 0, 0, 0, 1, 1, 1, 1, 1, 1, 1, 0, 1, 1, 0, 1, 1, 1, 0, 1, 0, 0, 0, 1, 0, 1, 0, 0, 0, 0, 0, 0, 1, 1, 0, 1, 0, 1, 0, 1, 1, 0, 0, 0, 0, 0, 1, 0, 0, 1, 1, 1, 0, 1, 1, 1, 1, 0, 0, 0, 0, 0, 1, 0, 1, 0, 1, 1, 1, 1, 1, 0, 0, 0, 1, 1, 0, 0, 1, 1, 1, 0, 0, 1, 0, 0, 0, 1, 0, 0, 1, 0, 0, 0, 1, 0, 1, 0, 0, 0, 1, 0, 1, 1, 1, 1, 0, 1, 1, 0, 0, 1, 1, 0, 0, 1, 0, 0, 1, 0, 1, 0, 0, 0, 0, 0, 1, 0, 0, 1, 1, 0, 1, 0, 1, 0, 1, 0, 0, 1, 1, 0, 0, 0, 0, 0, 0, 0, 1, 0, 0, 0, 1, 1, 0, 0, 1, 0, 0, 0, 0, 0, 1, 1, 1, 1, 0, 1, 1, 1, 1, 0, 0, 1, 0, 1, 0, 0, 1, 0, 1, 1, 0, 1, 1, 0, 1, 1, 0, 1, 0, 1, 1, 1, 1, 1, 1, 0, 1, 0, 1, 1, 1, 1, 1, 1, 1, 0, 0, 1, 0, 1, 1, 0, 0, 0, 0, 0, 0, 0, 0, 1, 0, 0, 0, 1, 1, 1, 1, 0, 1, 0, 1, 0, 1, 0, 0, 1, 0, 0, 0, 1, 1, 0, 1, 0, 0, 1, 0, 1, 1, 1, 0, 0, 0, 1, 0, 1, 1, 1, 1, 1, 1, 1, 1, 1, 1, 1, 1, 0, 0, 0, 1, 1, 1, 0, 1, 1, 0, 1, 1, 1, 0, 0, 0, 0, 1, 1, 0, 0, 0, 1, 0, 1, 1, 0, 0, 0, 0, 1, 1, 1, 0, 0, 1, 0, 0, 0, 1, 1, 1, 0, 1, 1, 1, 1, 1, 0, 1, 0, 0, 0, 1, 1, 0, 0, 1, 0, 0, 0, 0, 1, 1, 0, 1, 0, 1, 0, 0, 0, 0, 0, 1, 0, 1, 0, 1, 1, 0, 1, 0, 0, 1, 0, 1, 0, 1, 1, 0, 1, 1, 1, 1, 1, 1, 1, 1, 1, 1, 1, 0, 0, 0, 1, 1, 1, 1, 0, 0, 1, 1, 0, 1, 1, 1, 0, 1, 0, 0, 1, 0, 1, 1, 1, 1, 0, 1, 0, 1, 1, 0, 0, 1, 0, 0, 1, 1, 0, 1, 0, 1, 1, 0, 0, 1, 1, 0, 1, 0, 0, 1, 0, 1, 1, 0, 0, 1, 1, 0, 0, 1, 1, 1, 0, 1, 1, 0, 1, 1, 0, 1, 0, 0, 0, 0, 0, 0, 0, 0, 1, 0, 1, 1, 0, 1, 1, 1, 1, 0, 0, 1, 1, 0, 1, 0, 0, 1, 0, 1, 1, 1, 0, 1, 1, 1, 0, 0, 1, 1, 0, 0, 1, 1, 0, 1, 1, 1, 0, 0, 1, 0, 1, 0, 0, 0, 0, 1, 0, 0, 0, 1, 0, 1, 1, 1, 1, 1, 0, 0, 0, 1, 0, 0, 1, 1, 0, 1, 1, 0, 1, 0, 1, 0, 1, 0, 0, 1, 0, 0, 1, 0, 1, 0, 0, 1, 0, 1, 1, 0, 0, 0, 1, 0, 0, 1, 1, 1, 1, 0, 1, 1, 0, 0, 0, 1, 1, 1, 0, 0, 0, 1, 1, 0, 0, 1, 1, 1, 0, 0, 0, 1, 1, 0, 1, 0, 1, 1, 0, 0, 1, 1, 1, 0, 0, 0, 0, 0, 0, 1, 1, 0, 1, 1, 0, 0, 0, 0, 1, 0, 0, 1, 1, 1, 0, 0, 0, 0, 1, 0, 1, 0, 1, 1, 1, 1, 1, 0, 0, 0, 1, 1, 0, 1, 0, 0, 0, 1, 1, 1, 1, 1, 0, 0, 0, 1, 1, 0, 0, 0, 0, 1, 0, 0, 0, 1, 1, 1, 0, 1, 1, 0, 1, 0, 1, 0, 0, 0, 1, 0, 1, 0, 1, 1, 1, 0, 0, 0, 1, 0, 1, 1, 0, 0, 1, 0, 0, 0, 0, 1, 0, 1, 1, 1, 1, 1, 1, 0, 1, 0, 0, 1, 0, 1, 1, 1, 1, 0, 0, 0, 1, 1, 0, 1, 0, 1, 0, 0, 1, 1, 1, 0, 1, 1, 1, 0, 1, 1, 0, 0, 1, 0, 1, 0, 1, 0, 0, 0, 0, 1, 0, 0, 0, 1, 0, 1, 1, 0, 1, 0, 1, 1, 1, 1, 1, 1, 0, 0, 0, 0, 0, 1, 0, 0, 0, 0, 0, 0, 1, 1, 0, 1, 0, 0, 0, 1, 1, 1, 1, 1, 1, 1, 1, 1, 0, 1, 1, 0, 1, 0, 1, 1, 1, 1, 1, 0, 0, 0, 1, 1, 0, 0, 0, 0, 1, 1, 0, 1, 1, 0, 1, 1, 1, 1, 0, 0, 1, 1, 1, 0, 0, 0, 0, 1, 1, 0, 0, 1, 1, 1, 0, 1, 1, 1, 1, 1, 0, 1, 0, 1, 1, 0, 1, 1, 0, 1, 1, 1, 0, 1, 0, 1, 0, 1, 1, 1, 1, 0, 1, 0, 1, 0, 0, 0, 0, 1, 1, 0, 0, 0, 0, 0, 1, 1, 1, 0, 1, 0, 1, 1, 1, 1, 0, 1, 1, 0, 1, 0, 1, 0, 1, 0, 1, 1, 0, 0, 0, 0, 0, 1, 1, 0, 0, 0, 1, 1, 0, 1, 1, 0, 1, 0, 0, 0, 0, 0, 1, 1, 1, 0, 0, 1, 0, 0, 1, 0, 0, 1, 0, 0, 0, 0, 0, 0, 1, 0, 0, 1, 0, 0, 1, 1, 0, 0, 0, 0, 1, 1, 0, 1, 0, 0, 0, 0, 0, 0, 1, 0, 1, 0, 1, 0, 0, 0, 1, 1, 0, 1, 1, 1, 0, 1, 1, 0, 0, 0, 1, 1, 1, 1, 0, 0, 0, 1, 0, 1, 0, 0, 0, 1, 0, 0, 0, 0, 0, 1, 0, 1, 0, 1, 1, 1, 0, 0, 1, 0, 1, 0, 1, 0, 1, 1, 1, 1, 0, 0, 0, 1, 1, 1, 0, 0, 0, 0, 0, 1, 1, 0, 1, 0, 1, 1, 0, 1, 0, 1, 1, 1, 0, 0, 1, 0, 1, 1, 1, 0, 1, 0, 1, 1, 0, 0, 0, 1, 0, 1, 0, 1, 0, 0, 0, 1, 1, 1, 0, 0, 1, 1, 0, 0, 1, 0, 0, 0, 1, 1, 0, 1, 1, 0, 0, 1, 0, 1, 0, 1, 0, 1, 0, 1, 0, 0, 0, 1, 0, 0, 0, 1, 1, 1, 0, 1, 1, 1, 1, 0, 1, 1, 1, 0, 1, 1, 0, 1, 1, 1, 1, 0, 1, 1, 0, 1, 0, 0, 1, 1, 1, 1, 0, 1, 1, 0, 0, 1, 1, 1, 0, 0, 1, 0, 1, 0, 1, 1, 1, 0, 0, 1, 1, 0, 1, 0, 1, 1, 1, 1, 0, 1, 0, 0, 1, 0, 0, 0, 0, 0, 1, 0, 1, 0, 1, 1, 0, 0, 0, 1, 0, 0, 0, 0, 0, 0, 1, 0, 0, 0, 0, 0, 1, 0, 0, 0, 0, 1, 0, 1, 1, 0, 0, 0, 0, 0, 0, 1, 1, 1, 1, 0, 0, 1, 1, 0, 1, 0, 1, 0, 0, 0, 1, 0, 0, 1, 1, 0, 0, 1, 0, 1, 0, 1, 0, 1, 1, 1, 0, 1, 1, 0, 0, 0, 0, 1, 1, 1, 1, 1, 0, 0, 1, 0, 0, 1, 0, 0, 1, 0, 0, 1, 1, 0, 0, 1, 0, 0, 1, 0, 0, 1, 1, 1, 0, 0, 1, 0, 0, 1, 1, 0, 0, 0, 0, 1, 1, 0, 1, 0, 0, 1, 0, 1, 0, 0, 0, 0, 0, 1, 0, 0, 0, 0, 1, 1, 0, 0, 1, 0, 1, 0, 0, 0, 1, 1, 1, 1, 0, 1, 1, 1, 0, 1, 0, 1, 1, 0, 0, 0, 0, 0, 0, 1, 0, 1, 1, 0, 0, 0, 1, 0, 0, 1, 1, 1, 0, 1, 1, 0, 1, 1, 1, 1, 0, 1, 1, 0, 1, 1, 0, 0, 0, 0, 1, 0, 0, 1, 1, 0, 0, 1, 0, 0, 1, 0, 0, 0, 0, 1, 0, 0, 0, 0, 0, 0, 0, 1, 0, 1, 0, 1, 1, 0, 0, 1, 0, 0, 1, 0, 1, 0, 0, 1, 0, 0, 0, 0, 1, 1, 0, 0, 1, 0, 0, 0, 1, 1, 1, 1, 1, 0, 1, 1, 0, 0, 0, 1, 0, 1, 1, 0, 0, 1, 1, 1, 1, 0, 0, 0, 0, 0, 0, 0, 1, 0, 0, 0, 1, 1, 0, 0, 0, 1, 0, 1, 1, 0, 1, 1, 1, 0, 0, 0, 1, 0, 0, 1, 0, 0, 0, 0, 1, 1, 1, 1, 1, 1, 0, 0, 0, 1, 1, 1, 1, 0, 0, 1, 0, 0, 1, 0, 0, 0, 1, 1, 0, 0, 0, 1, 0, 0, 1, 0, 1, 1, 0, 0, 0, 1, 0, 0, 0, 0, 1, 1, 1, 1, 1, 0, 1, 0, 1, 0, 0, 0, 1, 1, 0, 0, 1, 1, 0, 1, 1, 1, 0, 1, 1, 0, 0, 1, 1, 1, 0, 0, 0, 0, 1, 0, 0, 1, 1, 0, 1, 1, 1, 1, 0, 0, 0, 0, 1, 0, 1, 0, 0, 1, 0, 1, 1, 1, 1, 1, 1, 0, 0, 0, 0, 1, 1, 1, 1, 0, 1, 0, 1, 1, 1, 1, 1, 0, 0, 0, 1, 0, 1, 0, 0, 1, 0, 0, 1, 0, 1, 1, 1, 0, 0, 1, 1, 1, 0, 1, 0, 1, 1, 1, 1, 0, 0, 0, 1, 1, 0, 0, 0, 0, 1, 0, 1, 1, 0, 1, 0, 0, 1, 0, 0, 0, 1, 0, 1, 0, 0, 0, 0, 1, 0, 0, 1, 0, 1, 1, 1, 1, 0, 0, 0, 0, 0, 1, 0, 1, 1, 0, 1, 1, 1, 0, 0, 1, 0, 1, 1, 1, 1, 1, 0, 0, 0, 1, 0, 0, 0, 0, 0, 1, 0, 1, 0, 1, 0, 0, 0, 0, 0, 0, 1, 0, 0, 0, 0, 1, 0, 0, 0, 1, 0, 1, 0, 1, 0, 1, 1, 1, 0, 0, 1, 0, 1, 0, 1, 0, 0, 0, 1, 0, 0, 0, 0, 1, 1, 1, 1, 1, 0, 1, 1, 1, 0, 1, 0, 1, 0, 0, 0, 1, 0, 0, 0, 1, 1, 0, 1, 1, 0, 1, 0, 1, 0, 1, 0, 0, 1, 1, 1, 0, 0, 1, 1, 0, 0, 1, 0, 0, 0, 1, 0, 1, 0, 0, 1, 0, 0, 0, 0, 1, 1, 0, 0, 1, 1, 0, 0, 0, 0, 1, 0, 1, 1, 0, 0, 0, 0, 1, 1, 1, 0, 1, 1, 1, 1, 0, 0, 1, 1, 1, 1, 1, 0, 0, 0, 0, 1, 0, 0, 0, 1, 0, 1, 1, 0, 0, 1, 0, 0, 1, 0, 0, 1, 0, 0, 1, 1, 0, 1, 0, 0, 0, 1, 0, 0, 0, 1, 1, 1, 0, 0, 1, 1, 0, 1, 0, 1, 1, 1, 0, 0, 0, 1, 0, 1, 1, 1, 0, 0, 0, 1, 0, 0, 1, 1, 0, 1, 1, 0, 0, 1, 0, 0, 1, 0, 1, 0, 0, 0, 0, 0, 0, 1, 1, 1, 0, 0, 0, 0, 1, 0, 1, 0, 1, 0, 0, 0, 0, 0, 0, 0, 1, 0, 1, 0, 1, 0, 1, 0, 1, 0, 0, 0, 1, 1, 1, 0, 1, 1, 1, 0, 0, 0, 1, 0, 0, 0, 0, 0, 1, 1, 0, 1, 0, 1, 1, 0, 0, 0, 1, 0, 1, 0, 0, 1, 0, 0, 1, 0, 1, 0, 0, 1, 1, 1, 0, 1, 1, 0, 1, 1, 1, 1, 1, 0, 1, 1, 1, 0, 0, 0, 0, 1, 0, 0, 1, 1, 0, 0, 0, 0, 1, 1, 1, 0, 1, 0, 1, 1, 0, 0, 1, 1, 1, 0, 1, 0, 0, 1, 0, 0, 0, 1, 1, 1, 0, 1, 0, 0, 1, 0, 1, 1, 1, 0, 1, 1, 0, 1, 1, 1, 1, 1, 1, 0, 0, 1, 0, 1, 1, 0, 0, 1, 0, 1, 0, 0, 1, 1, 1, 1, 0, 0, 1, 1, 1, 1, 0, 0, 1, 1, 0, 0, 1, 0, 0, 1, 0, 0, 1, 1, 1, 1, 1, 0, 0, 1, 0, 1, 1, 1, 1, 1, 0, 0, 1, 0, 1, 1, 1, 1, 1, 0, 0, 1, 1, 0, 1, 1, 0, 0, 1, 1, 1, 1, 0, 0, 0, 1, 1, 1, 0, 1, 0, 0, 1, 1, 0, 1, 0, 0, 1, 0, 0, 0, 0, 1, 0, 1, 1, 1, 0, 0, 0, 0, 0, 0, 1, 0, 1, 0, 1, 0, 1, 1, 0, 1, 0, 0, 0, 1, 1, 1, 1, 0, 0, 0, 1, 0, 0, 1, 0, 1, 0, 0, 1, 0, 1, 0, 1, 1, 1, 0, 0, 1, 1, 0, 1, 1, 1, 0, 0, 0, 1, 0, 0, 1, 1, 0, 1, 1, 0, 0, 0, 0, 0, 1, 1, 0, 1, 1, 1, 1, 1, 0, 0, 1, 1, 0, 1, 1, 0, 1, 0, 0, 0, 1, 0, 1, 1, 1, 0, 1, 0, 0, 0, 0, 1, 1, 0, 0, 0, 1, 1, 0, 1, 1, 1, 1, 1, 1, 1, 0, 1, 1, 1, 0, 1, 0, 0, 1, 0, 0, 1, 0, 1, 0, 0, 1, 1, 1, 0, 0, 1, 1, 0, 0, 0, 0, 1, 0, 1, 0, 1, 0, 0, 0, 0, 1, 1, 0, 0, 0, 1, 1, 1, 1, 0, 1, 0, 0, 1, 1, 1, 0, 0, 1, 1, 1, 1, 0, 1, 1, 0, 1, 1, 0, 0, 1, 1, 1, 0, 0, 0, 1, 0, 1, 1, 1, 0, 1, 1, 1, 1, 1, 0, 0, 0, 0, 0, 1, 0, 0, 1, 0, 0, 1, 0, 0, 0, 0, 1, 0, 1, 1, 1, 0, 0, 0, 0, 0, 1, 0, 0, 1, 1, 1, 0, 0, 0, 1, 0, 0, 0, 0, 1, 0, 1, 1, 1, 0, 1, 0, 1, 0, 0, 1, 1, 0, 0, 1, 1, 0, 0, 0, 0, 1, 0, 1, 1, 1, 0, 0, 0, 1, 1, 1, 0, 0, 1, 0, 0, 0, 0, 0, 0, 1, 0, 1, 0, 0, 0, 1, 1, 1, 1, 1, 1, 0, 0, 0, 0, 1, 0, 0, 0, 1, 0, 0, 1, 0, 1, 1, 0, 0, 0, 1, 1, 0, 1, 0, 0, 0, 1, 0, 1, 1, 0, 0, 1, 0, 1, 1, 1, 0, 0, 0, 0, 0, 1, 0, 1, 0, 1, 0, 0, 1, 1, 0, 0, 1, 1, 1, 0, 0, 0, 0, 1, 0, 0, 1, 0, 0, 1, 1, 1, 0, 1, 1, 1, 0, 1, 1, 1, 1, 1, 0, 0, 1, 0, 1, 1, 0, 0, 0, 1, 0, 0, 0, 1, 0, 0, 1, 0, 0, 1, 0, 1, 0, 0, 1, 1, 0, 1, 1, 0, 1, 0, 1, 1, 1, 0, 0, 1, 1, 1, 0, 0, 0, 1, 1, 1, 1, 0, 0, 0, 0, 1, 1, 0, 0, 1, 0, 0, 1, 1, 0, 0, 0, 0, 1, 1, 1, 0, 0, 1, 1, 1, 0, 1, 0, 0, 0, 1, 0, 0, 0, 0, 0, 1, 0, 0, 1, 0, 1, 0, 1, 1, 0, 0, 1, 1, 1, 0, 1, 0, 0, 0, 1, 1, 1, 1, 0, 1, 0, 1, 1, 0, 0, 0, 1, 0, 1, 1, 1, 1, 1, 1, 1, 1, 0, 0, 1, 1, 0, 1, 1, 0, 0, 0, 1, 0, 1, 1, 0, 0, 1, 1, 1, 1, 0, 1, 0, 0, 0, 1, 0, 1, 0, 0, 0, 1, 1, 1, 1, 1, 1, 1, 1, 0, 0, 1, 1, 0, 1, 1, 1, 0, 1, 1, 1, 0, 1, 1, 1, 0, 1, 0, 0, 0, 1, 1, 1, 1, 0, 1, 0, 1, 0, 0, 1, 0, 1, 0, 0, 0, 0, 0, 0, 1, 1, 0, 1, 0, 1, 0, 1, 1, 0, 0, 1, 0, 0, 0, 1, 0, 0, 1, 0, 0, 0, 1, 0, 0, 0, 1, 1, 0, 0, 0, 1, 1, 1, 0, 0, 1, 1, 1, 1, 1, 0, 1, 1, 0, 0, 0, 0, 1, 1, 1, 0, 1, 1, 1, 0, 1, 1, 1, 0, 1, 0, 1, 0, 0, 1, 1, 0, 0, 1, 1, 1, 1, 0, 0, 0, 0, 1, 1, 1, 0, 1, 1, 0, 0, 0, 0, 1, 0, 0, 0, 1, 1, 0, 0, 0, 1, 0, 0, 1, 1, 1, 0, 0, 0, 0, 1, 0, 0, 0, 1, 0, 1, 0, 1, 1, 0, 0, 0, 0, 1, 1, 1, 0, 1, 1, 1, 1, 1, 0, 1, 0, 0, 0, 1, 0, 0, 0, 1, 0, 1, 1, 1, 1, 1, 0, 1, 1, 0, 1, 1, 0, 1, 1, 0, 1, 0, 0, 0, 0, 0, 0, 0, 1, 0, 0, 1, 0, 1, 0, 1, 1, 0, 1, 1, 0, 1, 0, 0, 1, 0, 1, 0, 1, 1, 1, 1, 1, 0, 1, 0, 0, 1, 0, 0, 1, 0, 0, 1, 0, 1, 1, 0, 1, 0, 0, 0, 1, 1, 1, 1, 1, 0, 0, 0, 1, 1, 1, 0, 1, 1, 0, 1, 0, 1, 0, 0, 1, 1, 0, 0, 1, 1, 1, 0, 1, 0, 0, 1, 1, 1, 1, 0, 0, 1, 1, 1, 1, 1, 1, 1, 1, 1, 1, 1, 0, 1, 1, 0, 1, 0, 0, 1, 0, 0, 0, 0, 0, 1, 0, 1, 1, 0, 1, 1, 0, 1, 0, 0, 0, 1, 1, 1, 1, 1, 1, 1, 1, 0, 1, 1, 0, 0, 1, 0, 1, 1, 0, 1, 1, 1, 0, 1, 1, 1, 0, 1, 1, 1, 1, 1, 0, 1, 1, 1, 1, 1, 0, 0, 1, 1, 0, 0, 0, 1, 0, 1, 1, 1, 0, 0, 1, 1, 0, 1, 1, 0, 0, 0, 1, 0, 0, 1, 1, 0, 1, 1, 0, 0, 0, 0, 1, 0, 0, 1, 1, 0, 0, 0, 1, 0, 1, 0, 1, 0, 0, 0, 0, 0, 1, 0, 1, 0, 0, 0, 0, 0, 1, 0, 1, 0, 0, 0, 1, 1, 0, 1, 1, 0, 1, 0, 1, 0, 0, 1, 0, 0, 0, 1, 1, 1, 0, 0, 1, 0, 0, 0, 0, 1, 1, 0, 0, 0, 0, 1, 0, 1, 0, 1, 0, 0, 1, 0, 1, 0, 1, 0, 0, 1, 0, 1, 1, 0, 1, 0, 1, 1, 0, 1, 1, 1, 1, 0, 1, 0, 1, 0, 0, 1, 0, 0, 1, 0, 1, 0, 0, 0, 1, 1, 0, 0, 0, 1, 0, 1, 0, 0, 1, 1, 0, 0, 1, 0, 1, 1, 0, 1, 0, 1, 0, 0, 1, 1, 1, 1, 1, 0, 0, 0, 1, 0, 0, 0, 1, 0, 0, 0, 0, 1, 1, 1, 0, 1, 0, 0, 1, 0, 0, 0, 1, 0, 0, 0, 0, 0, 0, 1, 0, 0, 0, 0, 1, 0, 1, 1, 0, 0, 0, 1, 0, 0, 1, 1, 0, 1, 0, 1, 1, 1, 1, 1, 1, 0, 1, 0, 1, 0, 1, 1, 1, 1, 0, 1, 0, 1, 1, 0, 0, 1, 0, 0, 1, 0, 0, 1, 0, 1, 0, 0, 1, 0, 1, 1, 0, 0, 0, 0, 1, 0, 0, 1, 1, 0, 0, 0, 0, 1, 1, 1, 1, 0, 0, 0, 1, 1, 1, 0, 1, 0, 0, 0, 0, 1, 0, 0, 1, 1, 0, 1, 0, 0, 0, 0, 0, 0, 0, 1, 1, 0, 1, 0, 1, 1, 0, 1, 1, 0, 0, 1, 0, 0, 0, 0, 0, 1, 0, 1, 1, 1, 1, 0, 1, 0, 0, 1, 1, 1, 0, 0, 0, 1, 1, 0, 1, 0, 1, 1, 1, 1, 1, 1, 0, 1, 1, 0, 0, 0, 0, 0, 0, 1, 0, 1, 1, 0, 1, 0, 0, 0, 1, 0, 0, 0, 0, 0, 1, 1, 0, 1, 0, 0, 0, 0, 0, 1, 0, 0, 0, 1, 0, 0, 0, 1, 1, 0, 0, 1, 1, 0, 1, 1, 0, 0, 0, 0, 0, 1, 1, 0, 0, 1, 1, 1, 1, 1, 0, 1, 0, 0, 1, 0, 0, 0, 1, 0, 1, 1, 1, 0, 1, 1, 0, 1, 0, 1, 1, 1, 0, 0, 0, 1, 1, 1, 1, 1, 1, 1, 0, 0, 1, 1, 0, 1, 1, 1, 1, 1, 0, 0, 0, 1, 1, 0, 0, 0, 1, 1, 1, 1, 0, 0, 1, 1, 0, 1, 1, 0, 1, 0, 0, 0, 1, 0, 1, 0, 0, 0, 0, 0, 0, 1, 0, 1, 0, 0, 0, 0, 1, 1, 1, 0, 1, 1, 0, 0, 1, 1, 1, 0, 1, 1, 0, 0, 0, 0, 1, 0, 1, 0, 1, 1, 0, 1, 0, 0, 1, 1, 1, 1, 1, 0, 0, 0, 1, 0, 0, 0, 0, 1, 0, 1, 1, 1, 0, 1, 0, 0, 1, 0, 1, 1, 1, 0, 0, 1, 1, 1, 0, 1, 0, 0, 1, 1, 0, 1, 1, 1, 1, 0, 1, 1, 0, 1, 1, 1, 1, 1, 1, 1, 1, 1, 1, 0, 0, 0, 0, 0, 0, 1, 0, 0, 0, 1, 0, 0, 1, 0, 0, 1, 1, 0, 1, 0, 0, 1, 1, 1, 1, 1, 1, 1, 1, 0, 0, 1, 0, 0, 1, 1, 1, 0, 1, 1, 1, 0, 0, 0, 0, 1, 1, 1, 0, 1, 0, 0, 0, 0, 1, 1, 1, 1, 1, 1, 0, 1, 0, 0, 1, 1, 0, 1, 1, 1, 1, 1, 1, 0, 1, 0, 1, 0, 1, 1, 0, 1, 0, 0, 1, 1, 1, 0, 0, 0, 0, 1, 0, 0, 0, 0, 1, 1, 0, 0, 1, 1, 0, 0, 0, 1, 1, 0, 1, 1, 0, 0, 0, 1, 1, 1, 1, 0, 1, 0, 1, 0, 1, 1, 1, 1, 1, 1, 0, 0, 0, 1, 1, 0, 0, 0, 1, 1, 1, 1, 0, 0, 1, 0, 0, 1, 1, 1, 1, 0, 1, 1, 0, 1, 1, 1, 1, 0, 0, 0, 0, 1, 0, 1, 1, 1, 0, 0, 1, 1, 1, 0, 0, 1, 1, 0, 0, 1, 1, 0, 1, 0, 1, 0, 1, 0, 0, 1, 1, 1, 1, 1, 1, 0, 0, 1, 0, 0, 1, 1, 0, 1, 1, 1, 0, 1, 1, 0, 1, 0, 1, 1, 0, 1, 1, 1, 0, 0, 0, 0, 1, 1, 0, 0, 1, 0, 0, 1, 0, 1, 0, 1, 1, 1, 1, 0, 0, 1, 1, 1, 1, 0, 0, 0, 0, 0, 0, 0, 0, 0, 0, 0, 0, 1, 0, 0, 1, 1, 1, 0, 0, 0, 0, 1, 0, 1, 0, 1, 1, 1, 1, 0, 0, 1, 0, 0, 0, 1, 1, 1, 1, 1, 0, 1, 0, 1, 0, 0, 1, 1, 0, 1, 1, 1, 0, 0, 1, 0, 1, 1, 0, 1, 0, 1, 0, 0, 1, 1, 0, 0, 0, 0, 0, 1, 0, 0, 1, 1, 1, 0, 1, 1, 0, 1, 0, 0, 1, 0, 1, 1, 0, 1, 1, 0, 0, 1, 0, 1, 1, 1, 0, 1, 0, 1, 0, 0, 1, 1, 0, 0, 1, 0, 0, 0, 1, 1, 1, 1, 0, 0, 0, 1, 1, 0, 1, 1, 1, 0, 0, 0, 0, 1, 0, 0, 1, 0, 0, 0, 0, 0, 0, 1, 0, 1, 1, 0, 1, 1, 1, 1, 1, 1, 0, 0, 0, 0, 0, 1, 1, 0, 0, 1, 1, 0, 0, 0, 0, 0, 0, 0, 1, 1, 0, 0, 0, 1, 1, 1, 1, 1, 0, 1, 1, 1, 0, 0, 1, 1, 1, 1, 0, 1, 0, 0, 0, 0, 0, 1, 1, 1, 1, 0, 1, 1, 1, 0, 1, 0, 1, 0, 1, 1, 1, 1, 1, 0, 1, 0, 1, 0, 0, 1, 0, 0, 1, 0, 1, 0, 1, 1, 0, 0, 1, 1, 1, 0, 1, 0, 0, 1, 0, 1, 1, 0, 0, 0, 1, 1, 1, 0, 1, 1, 0, 1, 0, 0, 0, 1, 0, 1, 0, 1, 0, 0, 1, 0, 1, 0, 0, 1, 0, 0, 0, 1, 1, 1, 0, 0, 0, 0, 1, 0, 1, 0, 0, 1, 0, 0, 0, 0, 1, 1, 1, 0, 0, 1, 1, 0, 0, 1, 1, 1, 0, 0, 1, 1, 1, 0, 0, 1, 0, 1, 0, 1, 1, 0, 0, 0, 0, 0, 0, 1, 0, 1, 1, 1, 1, 0, 0, 0, 0, 0, 1, 1, 1, 0, 1, 1, 0, 1, 0, 1, 1, 0, 0, 0, 0, 0, 0, 0, 1, 0, 1, 1, 1, 1, 1, 0, 1, 0, 0, 1, 1, 1, 1, 1, 0, 1, 0, 0, 1, 0, 0, 0, 1, 1, 0, 0, 0, 1, 1, 1, 0, 1, 0, 0, 1, 0, 1, 1, 0, 0, 1, 1, 0, 1, 1, 0, 0, 1, 0, 0, 0, 0, 0, 0, 0, 1, 0, 1, 1, 0, 0, 1, 1, 1, 0, 1, 0, 1, 1, 0, 1, 0, 0, 1, 0, 1, 0, 1, 0, 1, 1, 1, 1, 0, 0, 1, 0, 1, 1, 0, 0, 1, 1, 1, 1, 0, 1, 1, 0, 1, 1, 0, 0, 1, 1, 0, 1, 1, 0, 1, 1, 1, 0, 0, 1, 1, 1, 1, 1, 1, 0, 0, 0, 1, 1, 1, 1, 1, 1, 0, 0, 0, 1, 0, 0, 1, 0, 0, 0, 1, 1, 1, 1, 1, 1, 1, 1, 0, 0, 1, 1, 1, 0, 0, 0, 1, 0, 0, 0, 1, 1, 1, 1, 1, 0, 1, 1, 0, 0, 0, 1, 0, 1, 0, 1, 1, 1, 1, 1, 1, 0, 0, 1, 0, 1, 1, 0, 1, 1, 1, 0, 0, 1, 0, 0, 0, 0, 0, 0, 1, 1, 1, 0, 0, 0, 1, 0, 1, 1, 0, 0, 0, 1, 0, 0, 1, 0, 0, 1, 1, 0, 0, 1, 1, 0, 1, 0, 0, 0, 1, 1, 0, 0, 0, 1, 1, 0, 1, 0, 1, 1, 0, 1, 1, 1, 1, 1, 0, 0, 0, 0, 0, 0, 1, 0, 1, 1, 0, 0, 1, 0, 1, 1, 0, 0, 1, 1, 1, 0, 1, 1, 1, 0, 0, 0, 1, 0, 0, 1, 0, 1, 1, 1, 0, 1, 0, 0, 1, 1, 1, 0, 0, 1, 0, 1, 1, 0, 1, 1, 1, 1, 1, 0, 1, 1, 0, 1, 0, 0, 0, 1, 1, 1, 0, 0, 0, 0, 1, 1, 0, 1, 1, 1, 1, 0, 0, 0, 1, 0, 1, 0, 1, 1, 1, 0, 0, 0, 1, 1, 0, 0, 1, 0, 1, 1, 0, 0, 0, 1, 0, 0, 0, 1, 0, 0, 1, 0, 0, 0, 0, 1, 0, 1, 0, 0, 0, 0, 0, 1, 1, 0, 0, 0, 1, 1, 0, 1, 1, 0, 0, 0, 1, 0, 0, 0, 0, 1, 1, 0, 0, 1, 0, 1, 0, 0, 1, 0, 1, 0, 0, 0, 0, 0, 1, 1, 1, 0, 0, 0, 1, 0, 1, 0, 1, 1, 1, 1, 1, 1, 1, 1, 0, 1, 0, 0, 1, 1, 0, 1, 0, 1, 1, 0, 1, 0, 1, 0, 0, 0, 0, 0, 0, 0, 1, 0, 1, 0, 1, 0, 0, 0, 0, 1, 0, 1, 1, 1, 1, 0, 0, 1, 0, 1, 0, 1, 0, 0, 1, 1, 1, 0, 0, 1, 1, 1, 1, 0, 1, 1, 0, 0, 1, 0, 1, 1, 1, 1, 0, 0, 1, 0, 0, 0, 0, 0, 0, 1, 1, 0, 0, 0, 0, 1, 0, 1, 1, 0, 0, 0, 1, 1, 0, 1, 1, 1, 0, 1, 0, 0, 0, 1, 0, 0, 1, 1, 0, 0, 0, 1, 0, 1, 0, 0, 0, 1, 0, 1, 0, 0, 0, 1, 0, 0, 1, 1, 0, 0, 1, 1, 0, 0, 1, 1, 0, 0, 1, 1, 1, 1, 0, 0, 0, 1, 0, 0, 1, 0, 1, 1, 1, 1, 0, 0, 0, 1, 1, 1, 0, 0, 1, 0, 0, 1, 1, 0, 1, 0, 0, 0, 1, 0, 0, 0, 1, 1, 0, 1, 0, 0, 1, 0, 1, 0, 0, 0, 1, 1, 0, 0, 0, 1, 1, 0, 1, 0, 1, 1, 0, 0, 0, 0, 0, 0, 0, 1, 1, 1, 1, 0, 1, 1, 0, 0, 0, 0, 1, 0, 0, 0, 1, 1, 0, 1, 1, 0, 0, 1, 1, 1, 1, 1, 0, 1, 0, 1, 0, 1, 0, 1, 1, 1, 1, 1, 0, 1, 0, 0, 1, 1, 0, 1, 0, 0, 0, 1, 1, 0, 1, 0, 0, 1, 0, 1, 0, 1, 0, 1, 1, 0, 1, 1, 0, 0, 1, 1, 1, 1, 1, 1, 0, 1, 1, 0, 0, 0, 1, 0, 0, 0, 1, 1, 1, 1, 1, 1, 1, 1, 0, 0, 0, 0, 1, 0, 1, 1, 0, 1, 1, 0, 1, 0, 0, 1, 0, 0, 0, 0, 0, 1, 0, 0, 1, 0, 1, 1, 0, 1, 0, 0, 0, 1, 0, 1, 1, 0, 1, 1, 0, 0, 0, 1, 1, 1, 1, 0, 1, 0, 1, 1, 1, 0, 0, 1, 1, 0, 1, 0, 1, 1, 0, 1, 1, 1, 1, 1, 0, 0, 1, 1, 1, 0, 1, 0, 0, 0, 0, 1, 0, 1, 0, 0, 0, 0, 1, 0, 0, 0, 0, 0, 1, 0, 0, 1, 0, 0, 0, 1, 0, 1, 1, 1, 1, 0, 0, 0, 1, 1, 1, 1, 0, 0, 0, 1, 0, 0, 1, 0, 1, 1, 1, 1, 0, 1, 1, 0, 0, 1, 1, 1, 0, 1, 0, 0, 0, 1, 0, 1, 0, 0, 0, 0, 1, 0, 1, 1, 0, 0, 1, 1, 1, 0, 0, 0, 1, 1, 0, 1, 1, 1, 1, 1, 1, 1, 0, 1, 0, 0, 1, 1, 1, 0, 0, 1, 0, 1, 0, 1, 1, 0, 1, 1, 1, 1, 1, 1, 1, 1, 0, 1, 0, 0, 0, 0, 1, 0, 1, 0, 0, 0, 1, 0, 1, 0, 1, 1, 1, 1, 0, 0, 0, 1, 0, 1, 1, 0, 1, 0, 1, 0, 1, 1, 0, 1, 0, 1, 1, 0, 1, 1, 0, 0, 1, 0, 1, 0, 1, 1, 0, 0, 0, 1, 1, 0, 1, 1, 1, 1, 0, 1, 1, 1, 0, 0, 0, 0, 1, 0, 0, 1, 0, 1, 0, 1, 1, 1, 0, 0, 1, 0, 1, 1, 0, 1, 0, 1, 0, 1, 0, 1, 1, 0, 0, 1, 0, 1, 0, 0, 1, 0, 0, 1, 0, 1, 0, 0, 0, 0, 0, 0, 1, 1, 0, 1, 1, 0, 0, 1, 0, 1, 1, 1, 1, 0, 1, 1, 1, 0, 0, 0, 1, 1, 0, 0, 1, 0, 1, 1, 1, 0, 1, 1, 1, 1, 1, 1, 0, 1, 0, 0, 1, 0, 0, 0, 1, 1, 0, 0, 1, 1, 0, 0, 0, 1, 0, 1, 0, 1, 1, 1, 0, 1, 0, 0, 1, 1, 0, 0, 1, 0, 1, 1, 0, 1, 1, 0, 1, 1, 0, 0, 0, 1, 0, 0, 1, 0, 0, 1, 0, 0, 0, 1, 0, 0, 1, 1, 1, 1, 1, 0, 0, 0, 1, 0, 0, 0, 0, 1, 0, 0, 1, 0, 1, 1, 1, 0, 1, 1, 1, 0, 0, 0, 0, 1, 1, 0, 1, 1, 0, 0, 0, 0, 1, 0, 0, 0, 1, 1, 0, 0, 0, 0, 0, 1, 1, 1, 1, 1, 1, 0, 0, 1, 0, 1, 0, 1, 1, 0, 0, 1, 0, 0, 0, 0, 1, 0, 0, 1, 1, 0, 1, 1, 1, 1, 0, 1, 0, 1, 1, 0, 0, 0, 1, 1, 0, 0, 0, 1, 1, 0, 1, 1, 0, 0, 0, 0, 0, 0, 1, 1, 1, 0, 0, 1, 1, 0, 0, 0, 0, 0, 1, 1, 1, 0, 1, 0, 0, 1, 1, 0, 0, 0, 0, 1, 0, 1, 0, 1, 1, 0, 0, 1, 1, 0, 1, 1, 0, 1, 1, 0, 0, 0, 1, 1, 0, 0, 0, 1, 0, 1, 0, 1, 1, 0, 1, 0, 0, 1, 0, 1, 0, 1, 0, 1, 1, 0, 1, 0, 1, 1, 1, 0, 0, 1, 0, 0, 1, 0, 0, 0, 0, 0, 1, 0, 1, 0, 1, 1, 0, 1, 1, 1, 0, 1, 0, 1, 0, 0, 0, 1, 1, 0, 1, 1, 0, 0, 0, 1, 1, 1, 0, 1, 1, 0, 0, 0, 1, 0, 0, 1, 1, 1, 1, 0, 1, 1, 1, 1, 0, 0, 1, 1, 0, 0, 1, 0, 0, 0, 1, 0, 1, 1, 1, 0, 1, 0, 1, 0, 1, 1, 0, 0, 0, 0, 0, 0, 0, 1, 0, 1, 0, 1, 1, 0, 0, 1, 0, 1, 1, 1, 1, 1, 1, 0, 0, 1, 1, 0, 0, 0, 0, 1, 1, 1, 0, 0, 0, 0, 1, 1, 0, 1, 1, 1, 0, 0, 1, 1, 0, 1, 0, 0, 0, 0, 1, 0, 1, 1, 0, 1, 0, 0, 1, 0, 0, 1, 0, 0, 1, 0, 1, 1, 1, 0, 0, 1, 1, 0, 1, 0, 0, 1, 1, 0, 0, 1, 0, 0, 1, 1, 0, 1, 1, 0, 1, 1, 1, 0, 1, 0, 1, 0, 1, 0, 1, 0, 0, 1, 0, 0, 1, 0, 1, 0, 1, 0, 0, 1, 0, 1, 1, 1, 1, 0, 1, 1, 0, 0, 1, 0, 0, 0, 0, 1, 0, 0, 0, 1, 0, 0, 0, 1, 0, 0, 1, 1, 0, 0, 0, 0, 0, 1, 1, 0, 0, 0, 0, 1, 0, 1, 1, 0, 1, 0, 1, 0, 1, 1, 0, 1, 0, 0, 0, 0, 0, 1, 0, 1, 1, 1, 1, 1, 1, 0, 1, 1, 0, 1, 1, 1, 1, 1, 1, 0, 1, 0, 0, 0, 1, 1, 1, 1, 1, 0, 0, 1, 1, 0, 1, 1, 1, 0, 0, 0, 1, 1, 0, 1, 0, 0, 1, 0, 0, 0, 1, 0, 0, 0, 1, 1, 0, 1, 1, 1, 1, 0, 1, 0, 1, 1, 0, 1, 0, 1, 0, 0, 0, 0, 1, 1, 1, 1, 1, 1, 0, 0, 1, 1, 1, 0, 1, 1, 0, 0, 1, 0, 0, 0, 0, 0, 1, 1, 0, 0, 0, 0, 0, 0, 1, 0, 1, 0, 1, 0, 1, 1, 0, 0, 0, 0, 1, 0, 0, 1, 1, 0, 1, 0, 1, 0, 0, 0, 1, 0, 0, 0, 0, 0, 0, 1, 1, 1, 1, 1, 0, 1, 1, 1, 0, 0, 1, 0, 0, 1, 0, 1, 0, 0, 0, 0, 0, 1, 0, 1, 1, 0, 0, 0, 0, 1, 1, 0, 1, 1, 0, 0, 1, 1, 1, 0, 1, 1, 0, 1, 1, 0, 1, 0, 0, 1, 1, 1, 0, 0, 1, 1, 0, 0, 1, 0, 0, 1, 1, 1, 0, 0, 0, 0, 1, 1, 1, 0, 1, 0, 1, 1, 1, 0, 0, 1, 1, 0, 0, 0, 1, 1, 0, 0, 1, 1, 1, 0, 0, 1, 1, 0, 0, 1, 1, 0, 1, 0, 1, 0, 1, 1, 0, 1, 1, 1, 1, 1, 1, 1, 0, 0, 0, 0, 0, 1, 0, 0, 0, 1, 0, 1, 0, 1, 1, 0, 0, 0, 0, 1, 1, 0, 0, 1, 0, 0, 0, 1, 1, 0, 0, 0, 1, 1, 1, 1, 1, 1, 0, 1, 0, 1, 1, 0, 1, 1, 0, 1, 1, 1, 0, 1, 0, 1, 0, 1, 1, 1, 1, 1, 1, 1, 0, 1, 1, 0, 1, 1, 0, 0, 0, 0, 1, 1, 1, 1, 1, 0, 0, 0, 0, 1, 0, 1, 1, 0, 0, 1, 0, 1, 0, 0, 0, 0, 1, 0, 0, 0, 1, 0, 1, 1, 1, 1, 1, 0, 0, 0, 0, 1, 1, 0, 0, 0, 0, 1, 0, 0, 1, 0, 1, 0, 1, 1, 1, 1, 1, 1, 0, 1, 0, 1, 1, 1, 1, 0, 1, 0, 0, 0, 1, 0, 0, 0, 1, 1, 1, 0, 0, 1, 0, 1, 1, 0, 1, 1, 0, 0, 1, 0, 0, 0, 0, 1, 1, 1, 0, 0, 0, 1, 0, 0, 1, 1, 1, 0, 0, 1, 1, 0, 1, 1, 1, 1, 1, 0, 0, 1, 0, 0, 0, 1, 1, 1, 1, 1, 0, 1, 0, 0, 0, 0, 1, 0, 0, 1, 1, 0, 0, 1, 0, 1, 1, 1, 0, 0, 1, 0, 0, 1, 0, 1, 1, 1, 0, 0, 1, 0, 0, 0, 0, 1, 1, 1, 1, 0, 1, 1, 0, 0, 1, 1, 1, 1, 0, 1, 1, 0, 1, 1, 1, 0, 0, 1, 1, 1, 1, 1, 0, 0, 0, 1, 1, 1, 0, 1, 1, 1, 1, 0, 1, 0, 0, 0, 1, 0, 1, 1, 1, 1, 1, 1, 1, 0, 0, 0, 1, 0, 0, 1, 0, 1, 0, 1, 0, 1, 1, 1, 0, 1, 0, 1, 0, 0, 0, 1, 0, 0, 0, 0, 0, 1, 0, 0, 0, 0, 1, 1, 0, 0, 0, 0, 1, 0, 0, 0, 0, 0, 1, 1, 0, 0, 1, 0, 0, 1, 1, 0, 1, 1, 0, 1, 0, 1, 0, 1, 0, 0, 1, 1, 1, 0, 0, 1, 1, 0, 0, 0, 0, 0, 1, 1, 0, 0, 0, 1, 0, 1, 0, 0, 1, 1, 1, 1, 0, 1, 1, 0, 1, 1, 1, 0, 1, 1, 1, 0, 0, 1, 1, 1, 1, 1, 1, 0, 0, 1, 0, 1, 1, 0, 1, 1, 0, 1, 1, 1, 1, 0, 0, 1, 0, 0, 1, 1, 0, 1, 0, 1, 0, 0, 0, 0, 0, 0, 0, 1, 1, 0, 0, 0, 1, 0, 1, 0, 0, 1, 0, 0, 0, 1, 1, 0, 0, 1, 0, 1, 0, 1, 0, 0, 1, 0, 1, 0, 0, 0, 0, 1, 0, 0, 1, 1, 0, 0, 1, 0, 0, 1, 0, 1, 1, 1, 1, 0, 0, 0, 1, 0, 0, 0, 1, 1, 0, 0, 1, 0, 0, 0, 0, 1, 1, 0, 1, 0, 0, 0, 0, 0, 1, 1, 0, 1, 0, 1, 1, 0, 0, 1, 0, 0, 0, 1, 1, 1, 0, 1, 0, 0, 1, 0, 1, 0, 0, 0, 1, 0, 0, 1, 0, 1, 0, 1, 0, 0, 0, 0, 1, 1, 1, 1, 1, 0, 0, 1, 0, 0, 0, 0, 1, 1, 1, 0, 1, 1, 0, 0, 0, 1, 0, 0, 1, 1, 1, 1, 0, 1, 1, 0, 1, 1, 1, 1, 0, 0, 1, 1, 1, 0, 0, 0, 0, 1, 1, 0, 1, 0, 1, 1, 0, 0, 0, 1, 1, 0, 1, 1, 1, 0, 0, 0, 0, 0, 1, 0, 1, 1, 0, 0, 1, 1, 1, 1, 1, 1, 0, 0, 1, 0, 0, 0, 0, 0, 0, 1, 1, 0, 1, 1, 0, 1, 1, 0, 0, 0, 1, 1, 1, 1, 0, 0, 0, 0, 0, 0, 1, 1, 0, 0, 1, 0, 0, 1, 1, 1, 0, 0, 1, 1, 1, 0, 1, 0, 0, 0, 1, 0, 1, 0, 1, 1, 1, 0, 1, 1, 0, 1, 0, 1, 0, 0, 0, 1, 1, 0, 0, 0, 0, 1, 0, 1, 0, 0, 0, 0, 1, 1, 0, 1, 0, 0, 0, 1, 1, 0, 1, 1, 0, 0, 0, 1, 1, 0, 1, 0, 0, 0, 1, 1, 1, 1, 0, 1, 1, 1, 1, 0, 1, 0, 1, 1, 1, 0, 1, 0, 0, 0, 1, 1, 0, 0, 0, 1, 1, 0, 0, 0, 0, 1, 1, 1, 1, 1, 0, 0, 1, 1, 1, 0, 1, 1, 0, 0, 0, 1, 0, 1, 0, 1, 0, 1, 1, 1, 0, 0, 0, 0, 1, 0, 1, 1, 1, 0, 1, 1, 0, 0, 1, 1, 1, 0, 0, 0, 1, 1, 0, 1, 0, 0, 0, 0, 1, 0, 1, 0, 0, 1, 1, 1, 1, 1, 1, 0, 1, 0, 1, 1, 0, 1, 0, 1, 0, 0, 1, 0, 1, 0, 0, 1, 0, 0, 1, 0, 1, 1, 1, 1, 0, 0, 1, 0, 0, 0, 0, 1, 1, 1, 1, 1, 0, 0, 0, 0, 0, 0, 0, 1, 0, 0, 1, 0, 1, 1, 0, 1, 0, 1, 0, 1, 1, 1, 0, 1, 1, 0, 0, 0, 1, 1, 0, 0, 0, 1, 0, 0, 0, 1, 1, 0, 0, 1, 1, 0, 1, 1, 1, 1, 1, 1, 1, 0, 1, 1, 0, 0, 1, 0, 0, 0, 1, 0, 0, 0, 1, 0, 0, 1, 0, 0, 0, 0, 1, 0, 1, 0, 0, 0, 1, 0, 1, 0, 0, 0, 0, 1, 1, 0, 0, 0, 1, 1, 0, 1, 0, 0, 0, 1, 1, 0, 1, 1, 1, 0, 0, 0, 1, 0, 0, 1, 1, 0, 1, 1, 1, 0, 0, 1, 0, 0, 1, 1, 1, 0, 0, 0, 1, 0, 1, 1, 1, 1, 0, 0, 0, 1, 1, 0, 1, 0, 0, 1, 1, 0, 1, 1, 0, 0, 0, 1, 1, 0, 1, 0, 0, 0, 0, 1, 1, 1, 0, 0, 1, 1, 0, 1, 0, 1, 0, 1, 0, 1, 1, 1, 0, 1, 0, 1, 1, 1, 0, 0, 1, 1, 0, 1, 1, 0, 1, 0, 0, 1, 0, 0, 1, 0, 0, 1, 0, 1, 0, 1, 1, 1, 0, 1, 0, 1, 1, 0, 1, 0, 0, 0, 0, 0, 1, 1, 0, 1, 1, 0, 1, 0, 1, 0, 0, 0, 0, 0, 0, 0, 0, 0, 1, 0, 0, 1, 0, 1, 0, 0, 0, 0, 1, 0, 0, 0, 0, 1, 0, 1, 0, 0, 1, 1, 0, 0, 1, 0, 0, 1, 1, 1, 1, 0, 0, 0, 0, 0, 1, 1, 1, 1, 1, 1, 0, 1, 0, 0, 0, 0, 1, 0, 0, 1, 0, 1, 0, 0, 1, 1, 1, 1, 1, 0, 0, 0, 1, 0, 1, 0, 1, 1, 1, 1, 1, 1, 0, 0, 0, 1, 1, 1, 0, 1, 0, 0, 1, 0, 1, 1, 1, 0, 0, 0, 0, 0, 0, 0, 0, 0, 1, 0, 1, 0, 1, 1, 1, 1, 0, 0, 1, 0, 1, 0, 0, 1, 1, 1, 0, 1, 1, 0, 0, 1, 1, 0, 1, 0, 1, 1, 1, 0, 0, 1, 0, 0, 0, 1, 1, 0, 1, 1, 0, 0, 0, 1, 0, 0, 1, 0, 1, 1, 1, 1, 1, 1, 1, 0, 1, 0, 0, 0, 0, 0, 0, 0, 1, 0, 0, 1, 0, 0, 1, 1, 1, 0, 1, 0, 1, 0, 1, 1, 0, 0, 1, 0, 1, 0, 0, 0, 1, 0, 0, 1, 1, 0, 0, 0, 1, 1, 0, 0, 0, 0, 0, 1, 1, 1, 0, 0, 1, 1, 1, 1, 0, 1, 0, 1, 1, 0, 0, 1, 0, 1, 1, 0, 1, 1, 1, 0, 1, 0, 1, 0, 1, 0, 1, 1, 0, 0, 0, 1, 0, 1, 1, 0, 0, 1, 0, 0, 0, 0, 0, 1, 1, 1, 0, 0, 0, 0, 0, 1, 1, 0, 1, 1, 1, 1, 0, 0, 1, 0, 0, 1, 1, 1, 0, 0, 1, 1, 0, 1, 0, 1, 1, 0, 1, 0, 0, 1, 0, 1, 0, 1, 0, 1, 0, 1, 1, 0, 1, 0, 1, 0, 1, 0, 0, 1, 1, 0, 1, 0, 1, 1, 0, 1, 1, 1, 0, 1, 0, 1, 0, 1, 1, 1, 1, 0, 1, 0, 0, 0, 1, 0, 1, 0, 1, 1, 0, 0, 1, 0, 1, 1, 1, 1, 0, 0, 0, 0, 0, 0, 1, 0, 1, 1, 0, 1, 0, 1, 0, 1, 1, 1, 1, 1, 1, 0, 1, 1, 0, 0, 1, 1, 1, 1, 0, 1, 0, 0, 1, 1, 0, 0, 1, 1, 1, 0, 1, 1, 0, 0, 0, 1, 1, 1, 1, 0, 1, 1, 1, 1, 1, 0, 1, 1, 1, 1, 1, 1, 1, 0, 1, 0, 1, 1, 1, 1, 1, 0, 1, 1, 1, 0, 0, 0, 0, 1, 1, 1, 0, 0, 1, 1, 0, 0, 0, 0, 0, 0, 0, 0, 1, 1, 1, 0, 0, 0, 0, 0, 0, 0, 1, 0, 1, 1, 1, 1, 1, 1, 1, 0, 1, 1, 1, 1, 0, 0, 1, 0, 0, 1, 1, 0, 1, 0, 0, 1, 0, 1, 0, 1, 0, 0, 0, 0, 0, 1, 1, 1, 0, 0, 0, 1, 1, 0, 0, 0, 1, 1, 0, 1, 0, 1, 1, 0, 1, 1, 1, 1, 1, 1, 1, 1, 0, 1, 1, 1, 0, 1, 1, 1, 1, 1, 0, 1, 1, 1, 0, 0, 0, 1, 0, 1, 1, 0, 0, 0, 1, 1, 1, 1, 1, 0, 1, 0, 1, 0, 1, 1, 1, 1, 0, 0, 0, 0, 0, 0, 1, 0, 0, 0, 1, 0, 1, 1, 0, 0, 0, 0, 0, 0, 0, 1, 0, 0, 1, 1, 0, 0, 1, 1, 0, 1, 1, 0, 0, 0, 1, 0, 0, 0, 0, 0, 1, 1, 0, 0, 1, 1, 0, 0, 0, 1, 1, 0, 1, 1, 0, 0, 0, 0, 1, 1, 1, 0, 1, 0, 0, 1, 0, 1, 1, 1, 1, 0, 0, 1, 1, 0, 0, 0, 1, 1, 1, 1, 0, 1, 0, 1, 0, 1, 0, 0, 0, 0, 1, 1, 0, 0, 1, 1, 1, 1, 1, 1, 1, 1, 0, 0, 1, 0, 0, 0, 1, 0, 1, 1, 0, 1, 0, 0, 1, 1, 1, 0, 1, 1, 0, 0, 1, 0, 0, 1, 0, 0, 1, 1, 0, 0, 0, 1, 0, 0, 0, 0, 0, 1, 1, 1, 0, 1, 0, 1, 1, 1, 0, 1, 1, 1, 1, 1, 1, 1, 0, 1, 1, 1, 1, 1, 0, 0, 0, 0, 1, 0, 0, 0, 1, 1, 1, 0, 0, 1, 1, 0, 0, 1, 0, 1, 0, 1, 0, 0, 1, 0, 0, 1, 1, 1, 1, 1, 1, 0, 1, 1, 1, 0, 1, 0, 1, 1, 0, 0, 1, 1, 0, 1, 1, 1, 0, 1, 1, 0, 0, 0, 0, 0, 0, 1, 0, 1, 1, 1, 1, 0, 0, 1, 0, 1, 1, 0, 0, 1, 1, 1, 1, 1, 0, 1, 0, 1, 0, 1, 1, 0, 0, 1, 1, 0, 0, 1, 0, 0, 0, 1, 1, 1, 0, 1, 0, 1, 0, 0, 1, 0, 0, 1, 0, 0, 0, 1, 1, 1, 1, 0, 1, 1, 1, 1, 0, 0, 1, 1, 0, 1, 0, 1, 1, 1, 1, 0, 0, 0, 1, 0, 1, 1, 0, 1, 1, 1, 1, 0, 0, 1, 1, 0, 0, 1, 1, 0, 1, 0, 1, 0, 1, 0, 1, 1, 0, 0, 1, 0, 1, 0, 0, 1, 0, 1, 1, 0, 1, 0, 0, 1, 0, 1, 0, 0, 1, 0, 0, 1, 1, 1, 1, 0, 1, 0, 0, 0, 1, 1, 1, 0, 1, 0, 0, 0, 1, 1, 0, 1, 1, 0, 1, 0, 1, 0, 1, 0, 0, 0, 0, 1, 0, 1, 1, 0, 0, 1, 1, 0, 0, 1, 0, 0, 0, 1, 1, 0, 0, 1, 0, 0, 0, 1, 1, 1, 0, 0, 0, 1, 1, 0, 1, 0, 0, 0, 0, 0, 0, 0, 0, 1, 1, 1, 0, 1, 0, 1, 1, 0, 0, 0, 1, 1, 0, 1, 0, 0, 1, 0, 0, 0, 1, 0, 0, 0, 1, 0, 1, 0, 1, 0, 0, 1, 1, 0, 0, 1, 1, 0, 1, 0, 1, 0, 0, 0, 1, 0, 0, 0, 0, 0, 0, 1, 1, 0, 0, 0, 0, 0, 0, 1, 0, 1, 0, 1, 0, 0, 1, 0, 0, 0, 1, 0, 1, 1, 0, 1, 1, 1, 0, 1, 0, 0, 0, 0, 1, 1, 1, 0, 0, 0, 0, 1, 1, 0, 1, 1, 1, 1, 1, 1, 0, 0, 0, 1, 1, 0, 0, 0, 0, 1, 1, 0, 0, 1, 1, 0, 0, 1, 0, 1, 0, 0, 0, 1, 1, 0, 1, 1, 0, 0, 0, 1, 1, 1, 0, 0, 0, 1, 0, 1, 1, 1, 1, 1, 1, 1, 0, 1, 1, 0, 1, 1, 1, 0, 0, 1, 1, 0, 0, 0, 1, 1, 0, 0, 1, 0, 1, 0, 1, 1, 1, 0, 0, 1, 0, 1, 0, 1, 0, 0, 1, 1, 1, 0, 1, 1, 0, 1, 1, 0, 1, 0, 0, 0, 0, 0, 0, 0, 1, 0, 1, 0, 1, 0, 1, 1, 0, 0, 0, 0, 0, 0, 1, 1, 0, 1, 1, 0, 0, 0, 1, 0, 0, 1, 0, 0, 0, 0, 0, 0, 1, 0, 0, 0, 1, 0, 0, 0, 1, 1, 1, 1, 1, 0, 1, 0, 1, 0, 0, 1, 0, 0, 0, 0, 1, 1, 0, 1, 1, 0, 1, 1, 1, 1, 1, 1, 1, 0, 1, 0, 1, 0, 1, 0, 0, 1, 0, 1, 1, 0, 0, 1, 0, 1, 0, 1, 1, 0, 1, 1, 1, 1, 0, 1, 1, 1, 0, 1, 0, 0, 0, 0, 0, 0, 1, 1, 0, 1, 1, 0, 1, 0, 1, 0, 0, 0, 1, 0, 0, 1, 1, 0, 1, 1, 1, 0, 0, 0, 1, 1, 1, 0, 1, 0, 0, 1, 1, 0, 0, 1, 1, 1, 1, 0, 0, 1, 0, 1, 1, 1, 1, 0, 0, 1, 1, 1, 0, 1, 1, 1, 1, 0, 0, 1, 0, 1, 0, 0, 1, 0, 1, 1, 0, 0, 1, 1, 1, 0, 0, 0, 0, 0, 0, 0, 0, 0, 0, 1, 1, 1, 0, 0, 0, 0, 1, 1, 1, 1, 1, 0, 1, 1, 1, 0, 0, 1, 1, 1, 1, 1, 0, 1, 0, 0, 1, 1, 1, 0, 0, 1, 1, 0, 0, 1, 1, 0, 0, 1, 1, 1, 1, 0, 1, 1, 0, 0, 0, 0, 0, 1, 0, 1, 1, 0, 1, 0, 0, 1, 0, 1, 1, 1, 1, 1, 0, 0, 0, 1, 0, 0, 1, 0, 1, 1, 0, 0, 0, 0, 0, 0, 0, 0, 1, 1, 1, 1, 1, 0, 1, 1, 1, 1, 0, 0, 1, 0, 0, 1, 0, 1, 0, 0, 0, 0, 0, 0, 0, 1, 1, 0, 1, 1, 0, 0, 0, 1, 1, 0, 0, 0, 0, 0, 0, 1, 1, 0, 1, 1, 1, 0, 1, 0, 0, 1, 1, 0, 0, 0, 1, 1, 0, 1, 0, 0, 1, 1, 0, 0, 1, 0, 1, 0, 1, 1, 1, 0, 1, 1, 1, 1, 1, 1, 0, 1, 1, 1, 0, 0, 1, 1, 0, 0, 0, 0, 0, 1, 0, 1, 0, 0, 0, 0, 1, 0, 1, 1, 1, 0, 0, 1, 0, 1, 0, 1, 0, 1, 0, 0, 0, 0, 0, 1, 1, 1, 0, 0, 1, 1, 1, 1, 0, 0, 1, 1, 1, 0, 1, 1, 0, 1, 0, 0, 1, 1, 0, 1, 1, 0, 0, 1, 0, 1, 0, 1, 1, 1, 0, 0, 1, 0, 1, 1, 0, 0, 0, 0, 0, 0, 0, 1, 1, 0, 0, 1, 1, 1, 0, 0, 0, 0, 0, 0, 1, 1, 0, 0, 0, 0, 1, 1, 1, 0, 1, 0, 0, 1, 1, 1, 0, 1, 0, 0, 1, 0, 0, 1, 0, 0, 0, 0, 1, 0, 0, 1, 1, 1, 0, 0, 0, 0, 1, 0, 0, 0, 1, 0, 0, 1, 0, 1, 1, 0, 1, 1, 1, 1, 1, 0, 0, 0, 0, 1, 1, 0, 1, 1, 0, 1, 1, 0, 1, 0, 1, 1, 1, 1, 1, 0, 0, 0, 1, 0, 1, 1, 0, 1, 1, 1, 0, 1, 1, 1, 1, 1, 0, 0, 1, 0, 1, 0, 1, 1, 1, 0, 1, 0, 0, 1, 0, 0, 0, 0, 0, 0, 1, 0, 1, 0, 1, 1, 1, 0, 0, 0, 1, 1, 0, 1, 0, 1, 1, 0, 1, 0, 0, 1, 0, 1, 1, 0, 0, 0, 0, 0, 0, 1, 1, 0, 1, 1, 0, 0, 1, 1, 1, 1, 1, 0, 1, 1, 0, 0, 0, 1, 0, 0, 1, 1, 0, 1, 1, 0, 0, 1, 1, 1, 1, 1, 0, 0, 0, 0, 0, 1, 1, 0, 1, 0, 0, 1, 0, 0, 1, 0, 0, 0, 0, 0, 1, 1, 0, 1, 1, 0, 0, 1, 0, 0, 1, 1, 0, 0, 0, 0, 0, 0, 0, 1, 1, 0, 0, 1, 1, 0, 1, 0, 0, 1, 0, 0, 0, 0, 1, 0, 0, 0, 1, 0, 0, 0, 0, 0, 0, 1, 1, 0, 0, 1, 1, 1, 1, 0, 0, 0, 0, 1, 1, 1, 0, 1, 1, 1, 1, 0, 0, 1, 0, 0, 1, 1, 0, 1, 0, 0, 0, 1, 0, 0, 0, 0, 1, 0, 0, 0, 0, 0, 1, 0, 0, 1, 0, 1, 1, 0, 0, 1, 0, 1, 0, 0, 0, 0, 0, 0, 1, 0, 1, 1, 0, 0, 0, 1, 1, 0, 1, 0, 0, 0, 0, 0, 1, 1, 1, 1, 1, 1, 1, 0, 1, 1, 0, 0, 0, 1, 0, 1, 1, 1, 0, 0, 0, 0, 1, 0, 1, 1, 1, 0, 1, 0, 1, 1, 1, 0, 1, 0, 0, 0, 0, 0, 0, 0, 0, 0, 1, 0, 1, 0, 1, 0, 1, 1, 0, 0, 0, 0, 1, 1, 0, 1, 0, 1, 0, 0, 1, 0, 0, 1, 1, 0, 0, 0, 0, 0, 1, 0, 0, 0, 1, 0, 1, 0, 1, 0, 1, 1, 1, 1, 1, 0, 1, 1, 1, 0, 0, 1, 1, 0, 1, 1, 0, 0, 1, 1, 1, 1, 0, 0, 0, 0, 1, 0, 0, 1, 0, 1, 0, 0, 0, 0, 0, 1, 0, 1, 1, 1, 0, 1, 0, 1, 1, 0, 0, 0, 0, 0, 0, 0, 1, 0, 0, 1, 1, 1, 1, 1, 0, 0, 1, 1, 1, 1, 1, 1, 1, 1, 0, 1, 1, 0, 1, 1, 0, 1, 0, 1, 1, 0, 1, 1, 1, 1, 0, 0, 1, 0, 1, 0, 1, 0, 0, 0, 1, 1, 1, 1, 1, 0, 0, 0, 1, 1, 1, 0, 0, 0, 1, 1, 0, 0, 0, 1, 1, 0, 0, 0, 0, 0, 0, 0, 0, 0, 1, 0, 0, 1, 1, 1, 0, 0, 0, 0, 1, 1, 1, 1, 0, 0, 0, 1, 0, 1, 1, 0, 1, 1, 1, 1, 0, 1, 0, 0, 1, 0, 0, 0, 1, 0, 0, 1, 0, 1, 1, 0, 0, 1, 1, 0, 0, 0, 1, 1, 1, 0, 0, 0, 0, 0, 1, 0, 0, 0, 0, 0, 0, 0, 1, 1, 1, 1, 1, 1, 1, 0, 1, 1, 1, 0, 0, 0, 1, 1, 1, 0, 1, 0, 1, 0, 1, 0, 1, 1, 1, 0, 1, 0, 1, 1, 0, 0, 1, 0, 0, 0, 0, 1, 1, 0, 1, 0, 1, 1, 1, 0, 1, 0, 1, 0, 0, 0, 1, 0, 1, 1, 0, 0, 1, 1, 0, 1, 0, 0, 1, 1, 1, 1, 1, 0, 0, 0, 0, 0, 1, 1, 0, 1, 1, 0, 1, 1, 0, 1, 1, 0, 1, 1, 0, 1, 1, 0, 0, 1, 1, 1, 0, 0, 1, 1, 1, 0, 1, 0, 1, 1, 1, 1, 1, 0, 0, 1, 1, 0, 0, 1, 1, 1, 1, 0, 1, 0, 1, 1, 1, 1, 1, 1, 0, 1, 1, 1, 0, 1, 1, 1, 0, 1, 0, 0, 0, 0, 0, 1, 0, 1, 1, 1, 0, 0, 1, 0, 0, 0, 0, 1, 1, 1, 1, 1, 1, 1, 1, 1, 1, 0, 0, 0, 0, 0, 1, 0, 0, 0, 1, 1, 1, 0, 1, 0, 1, 1, 1, 1, 1, 1, 1, 0, 1, 0, 1, 1, 0, 1, 0, 0, 1, 1, 1, 1, 0, 1, 0, 1, 1, 1, 0, 0, 0, 1, 0, 0, 1, 0, 0, 1, 0, 1, 1, 0, 0, 1, 1, 1, 1, 0, 1, 0, 0, 1, 1, 0, 1, 0, 0, 0, 0, 1, 1, 0, 0, 0, 0, 0, 1, 0, 1, 0, 0, 1, 0, 0, 0, 1, 0, 1, 0, 0, 1, 0, 1, 0, 0, 0, 0, 1, 1, 0, 0, 0, 0, 0, 0, 0, 1, 0, 1, 1, 0, 1, 1, 0, 0, 0, 1, 1, 0, 1, 0, 1, 0, 1, 1, 0, 0, 1, 1, 0, 0, 0, 1, 1, 1, 0, 0, 1, 1, 1, 1, 0, 0, 1, 0, 0, 0, 0, 0, 1, 1, 1, 0, 0, 1, 1, 0, 1, 1, 0, 0, 1, 1, 1, 0, 1, 0, 1, 1, 0, 1, 1, 1, 0, 0, 1, 0, 0, 0, 0, 1, 1, 1, 1, 0, 1, 1, 0, 1, 0, 0, 1, 1, 0, 0, 1, 1, 0, 0, 0, 1, 0, 0, 1, 1, 1, 0, 1, 0, 0, 1, 0, 0, 0, 0, 1, 0, 1, 0, 0, 0, 0, 1, 0, 0, 0, 0, 1, 1, 0, 0, 1, 0, 0, 0, 1, 1, 0, 1, 0, 1, 1, 0, 0, 0, 1, 0, 0, 0, 1, 1, 1, 0, 1, 0, 1, 1, 1, 0, 1, 0, 0, 0, 0, 1, 0, 1, 0, 1, 1, 0, 0, 0, 1, 1, 1, 1, 0, 0, 0, 0, 1, 0, 1, 0, 0, 0, 0, 0, 1, 1, 0, 0, 1, 1, 0, 1, 0, 0, 0, 1, 0, 0, 1, 0, 0, 1, 1, 0, 1, 0, 0, 0, 1, 0, 1, 1, 1, 1, 0, 0, 1, 0, 1, 0, 1, 0, 1, 0, 1, 0, 1, 1, 0, 0, 1, 1, 0, 1, 0, 0, 0, 0, 0, 1, 0, 1, 0, 1, 1, 0, 1, 0, 1, 1, 1, 1, 1, 0, 0, 0, 1, 1, 1, 1, 0, 1, 0, 0, 0, 0, 0, 1, 1, 0, 1, 0, 1, 0, 0, 1, 1, 0, 1, 0, 1, 1, 0, 1, 1, 0, 0, 1, 0, 0, 0, 0, 0, 1, 0, 0, 0, 0, 0, 1, 1, 0, 0, 1, 1, 1, 1, 1, 0, 0, 1, 0, 1, 1, 1, 1, 0, 0, 0, 0, 1, 1, 0, 1, 0, 1, 0, 0, 1, 1, 1, 1, 0, 1, 1, 0, 1, 0, 1, 1, 1, 0, 0, 1, 0, 0, 0, 1, 0, 0, 1, 0, 0, 1, 0, 0, 1, 1, 0, 0, 1, 1, 1, 1, 0, 0, 1, 0, 0, 1, 1, 0, 0, 0, 0, 0, 0, 1, 0, 0, 0, 1, 1, 0, 1, 0, 0, 0, 0, 1, 0, 1, 1, 1, 1, 1, 1, 0, 0, 0, 0, 0, 1, 0, 1, 1, 0, 1, 1, 1, 0, 0, 1, 1, 0, 1, 0, 0, 0, 1, 1, 1, 1, 0, 1, 1, 0, 1, 0, 0, 0, 0, 1, 0, 1, 1, 1, 0, 0, 1, 0, 1, 0, 1, 1, 1, 0, 0, 1, 0, 0, 1, 1, 1, 0, 1, 0, 0, 0, 0, 0, 1, 1, 0, 1, 0, 1, 1, 1, 1, 0, 0, 0, 0, 0, 0, 0, 0, 0, 1, 0, 0, 0, 1, 0, 0, 0, 1, 0, 1, 1, 0, 1, 1, 0, 1, 0, 1, 1, 1, 0, 1, 0, 0, 0, 0, 0, 1, 0, 1, 1, 1, 1, 1, 0, 1, 0, 1, 1, 1, 0, 1, 0, 0, 0, 1, 1, 0, 1, 0, 0, 0, 0, 0, 1, 0, 1, 1, 0, 1, 1, 1, 1, 1, 1, 1, 1, 1, 1, 1, 1, 1, 0, 0, 1, 0, 1, 1, 1, 0, 0, 1, 1, 0, 1, 1, 0, 0, 1, 1, 1, 0, 1, 1, 0, 0, 0, 1, 0, 1, 1, 0, 1, 1, 1, 0, 0, 0, 1, 1, 0, 1, 1, 1, 1, 1, 1, 1, 0, 0, 1, 1, 0, 1, 0, 0, 0, 0, 1, 1, 1, 1, 1, 1, 1, 1, 1, 1, 1, 0, 1, 0, 1, 0, 0, 1, 0, 0, 1, 0, 1, 0, 1, 1, 0, 0, 1, 1, 1, 1, 1, 1, 0, 0, 1, 1, 0, 1, 1, 0, 1, 0, 1, 1, 0, 0, 0, 0, 1, 0, 1, 1, 1, 1, 0, 0, 1, 0, 0, 0, 0, 0, 1, 1, 1, 0, 0, 1, 0, 1, 0, 0, 0, 1, 0, 1, 1, 1, 1, 1, 0, 1, 1, 1, 1, 1, 1, 1, 0, 0, 1, 0, 1, 0, 1, 0, 0, 0, 1, 0, 0, 1, 0, 1, 1, 1, 0, 0, 0, 0, 0, 0, 0, 0, 1, 1, 1, 1, 1, 1, 0, 0, 0, 1, 1, 1, 0, 0, 1, 1, 0, 0, 0, 0, 1, 1, 0, 1, 1, 1, 1, 0, 1, 1, 1, 1, 0, 0, 0, 0, 0, 1, 1, 0, 0, 1, 1, 1, 0, 0, 0, 0, 0, 0, 0, 1, 0, 1, 1, 1, 1, 0, 0, 1, 1, 0, 1, 0, 0, 0, 0, 1, 1, 0, 0, 1, 1, 0, 0, 0, 1, 1, 1, 0, 1, 1, 1, 1, 1, 1, 0, 0, 0, 0, 0, 1, 0, 1, 0, 1, 0, 1, 1, 1, 1, 0, 0, 0, 1, 0, 1, 0, 1, 0, 1, 1, 1, 1, 1, 0, 0, 1, 1, 0, 1, 0, 0, 1, 0, 1, 1, 0, 0, 0, 0, 0, 1, 0, 1, 1, 1, 0, 0, 1, 0, 1, 0, 0, 1, 0, 1, 0, 1, 0, 0, 0, 0, 1, 1, 1, 0, 0, 1, 0, 0, 0, 1, 1, 0, 0, 1, 0, 1, 1, 1, 1, 1, 1, 0, 1, 0, 1, 1, 1, 1, 1, 1, 0, 0, 0, 0, 0, 0, 1, 0, 0, 0, 0, 0, 0, 1, 0, 0, 0, 1, 0, 0, 1, 0, 0, 1, 1, 0, 0, 1, 0, 1, 1, 0, 0, 1, 1, 1, 1, 1, 0, 0, 1, 0, 1, 1, 0, 1, 1, 1, 0, 1, 0, 0, 0, 1, 0, 1, 1, 1, 0, 0, 0, 0, 1, 0, 1, 0, 1, 0, 0, 0, 0, 1, 1, 0, 0, 0, 1, 1, 1, 0, 1, 0, 1, 1, 0, 1, 0, 0, 0, 0, 0, 0, 1, 0, 1, 0, 0, 0, 1, 0, 1, 0, 0, 0, 0, 0, 1, 1, 1, 0, 1, 0, 1, 1, 0, 1, 1, 1, 1, 0, 0, 1, 0, 0, 1, 0, 1, 0, 0, 0, 1, 0, 1, 1, 1, 1, 1, 0, 1, 0, 0, 0, 0, 1, 1, 0, 1, 0, 0, 0, 1, 1, 1, 0, 1, 1, 1, 1, 0, 1, 1, 0, 0, 1, 1, 0, 1, 0, 1, 0, 1, 1, 1, 0, 1, 1, 0, 0, 1, 1, 1, 0, 0, 0, 1, 0, 0, 1, 0, 0, 0, 0, 1, 0, 1, 0, 1, 0, 0, 0, 0, 0, 1, 0, 0, 1, 0, 0, 0, 0, 0, 1, 1, 0, 1, 1, 1, 0, 1, 0, 1, 0, 0, 1, 1, 0, 0, 0, 0, 0, 1, 0, 1, 1, 1, 0, 0, 1, 1, 0, 1, 0, 1, 1, 1, 0, 0, 1, 1, 1, 1, 0, 0, 0, 0, 0, 0, 0, 1, 0, 0, 0, 1, 0, 0, 1, 1, 1, 0, 0, 0, 0, 1, 0, 0, 1, 1, 1, 0, 1, 1, 1, 0, 0, 1, 0, 0, 0, 1, 0, 0, 1, 0, 1, 0, 1, 0, 1, 1, 0, 0, 1, 0, 0, 1, 0, 1, 1, 1, 0, 0, 1, 1, 0, 1, 0, 0, 0, 1, 0, 1, 0, 0, 0, 0, 1, 1, 0, 0, 0, 0, 1, 1, 1, 1, 0, 1, 0, 0, 1, 1, 0, 0, 1, 1, 0, 0, 1, 0, 1, 0, 0, 1, 0, 0, 1, 1, 1, 1, 0, 1, 1, 0, 1, 1, 0, 0, 1, 1, 1, 1, 1, 0, 0, 1, 1, 0, 0, 1, 0, 1, 0, 0, 0, 0, 0, 1, 1, 1, 0, 1, 0, 1, 0, 1, 0, 0, 1, 0, 0, 1, 1, 1, 0, 0, 0, 0, 1, 0, 1, 0, 0, 1, 0, 1, 0, 1, 1, 0, 1, 1, 0, 1, 1, 1, 1, 0, 1, 0, 1, 0, 0, 0, 1, 0, 1, 0, 1, 1, 1, 1, 0, 0, 0, 1, 1, 1, 1, 1, 1, 1, 0, 1, 1, 0, 1, 0, 0, 0, 0, 1, 1, 0, 0, 1, 0, 0, 1, 0, 1, 0, 0, 0, 0, 1, 1, 1, 1, 0, 0, 1, 1, 1, 0, 1, 1, 0, 1, 1, 1, 1, 1, 0, 1, 0, 1, 0, 1, 0, 1, 0, 1, 1, 0, 0, 1, 1, 1, 0, 1, 0, 0, 1, 1, 0, 0, 1, 0, 0, 0, 1, 0, 1, 1, 1, 1, 0, 0, 0, 1, 1, 0, 1, 1, 1, 1, 0, 1, 1, 1, 0, 1, 1, 1, 0, 1, 1, 1, 1, 1, 0, 0, 1, 0, 1, 0, 1, 0, 1, 0, 1, 1, 0, 1, 1, 0, 1, 1, 1, 0, 0, 1, 1, 1, 0, 0, 0, 0, 1, 1, 1, 0, 0, 1, 1, 1, 0, 1, 1, 0, 0, 1, 0, 1, 1, 0, 0, 1, 1, 0, 0, 0, 0, 1, 1, 1, 0, 1, 1, 0, 0, 1, 1, 1, 0, 0, 1, 1, 0, 1, 0, 1, 1, 1, 0, 0, 1, 0, 0, 0, 0, 1, 0, 0, 1, 1, 1, 0, 1, 1, 1, 1, 0, 1, 1, 0, 1, 0, 0, 0, 1, 0, 0, 0, 0, 1, 0, 1, 0, 1, 0, 1, 0, 0, 0, 0, 0, 1, 0, 0, 1, 0, 0, 0, 1, 0, 0, 0, 0, 0, 1, 0, 1, 1, 1, 1, 1, 1, 0, 0, 1, 0, 0, 1, 0, 1, 1, 0, 0, 1, 0, 1, 1, 0, 1, 1, 1, 1, 0, 0, 1, 1, 1, 0, 0, 0, 1, 1, 0, 1, 1, 1, 0, 1, 1, 0, 0, 1, 1, 1, 1, 0, 0, 0, 0, 0, 0, 0, 0, 0, 0, 1, 0, 1, 1, 1, 1, 1, 0, 1, 1, 0, 0, 0, 1, 1, 0, 1, 0, 1, 0, 0, 0, 1, 0, 0, 1, 0, 0, 1, 0, 0, 0, 1, 0, 1, 0, 0, 0, 0, 1, 1, 0, 0, 0, 0, 1, 1, 1, 1, 0, 0, 1, 0, 1, 0, 0, 0, 1, 1, 0, 1, 1, 0, 0, 0, 1, 1, 1, 0, 1, 0, 0, 0, 1, 1, 0, 0, 0, 0, 1, 1, 0, 1, 1, 1, 0, 1, 0, 1, 1, 1, 0, 1, 0, 0, 0, 1, 0, 0, 0, 1, 1, 1, 1, 0, 0, 0, 1, 1, 0, 0, 0, 0, 1, 1, 1, 0, 0, 0, 1, 1, 1, 0, 0, 1, 1, 0, 0, 0, 0, 0, 1, 1, 0, 0, 0, 1, 1, 1, 0, 0, 0, 0, 0, 1, 1, 1, 1, 0, 0, 1, 1, 0, 0, 0, 1, 0, 1, 1, 0, 1, 0, 0, 0, 0, 1, 1, 1, 1, 0, 1, 0, 0, 0, 0, 0, 1, 1, 1, 0, 1, 1, 1, 0, 0, 1, 0, 0, 1, 1, 1, 0, 0, 1, 0, 0, 1, 1, 1, 1, 0, 0, 1, 1, 1, 1, 1, 1, 0, 1, 0, 1, 0, 1, 0, 1, 0, 0, 0, 1, 0, 0, 0, 1, 0, 0, 0, 1, 1, 0, 0, 1, 1, 0, 1, 0, 0, 1, 1, 1, 1, 1, 1, 0, 1, 1, 1, 1, 1, 0, 1, 0, 0, 1, 0, 1, 0, 0, 1, 0, 0, 0, 1, 1, 0, 1, 0, 1, 0, 0, 0, 1, 1, 0, 0, 0, 0, 1, 1, 1, 0, 1, 0, 0, 1, 0, 1, 0, 1, 1, 1, 1, 0, 1, 1, 0, 0, 0, 1, 0, 1, 0, 0, 0, 1, 0, 0, 1, 0, 0, 0, 1, 1, 0, 1, 0, 1, 0, 0, 0, 0, 1, 1, 1, 1, 0, 1, 1, 0, 0, 0, 1, 1, 1, 0, 0, 1, 1, 1, 1, 0, 0, 1, 1, 0, 0, 0, 0, 1, 1, 0, 0, 1, 1, 1, 1, 1, 0, 0, 1, 0, 1, 1, 0, 0, 1, 1, 0, 0, 0, 1, 1, 0, 0, 1, 1, 1, 0, 1, 0, 0, 1, 0, 1, 0, 0, 0, 1, 1, 0, 0, 0, 0, 0, 1, 1, 1, 0, 0, 1, 1, 1, 1, 1, 1, 1, 1, 0, 1, 0, 1, 0, 1, 1, 0, 0, 1, 0, 1, 0, 0, 1, 0, 0, 1, 0, 0, 1, 0, 0, 0, 1, 0, 0, 0, 1, 1, 0, 1, 1, 0, 0, 0, 1, 1, 0, 0, 1, 0, 1, 1, 0, 1, 0, 1, 0, 1, 1, 1, 0, 0, 1, 1, 1, 1, 0, 1, 0, 0, 0, 0, 0, 0, 0, 1, 1, 0, 0, 0, 0, 1, 1, 0, 0, 0, 0, 0, 0, 0, 0, 0, 1, 1, 0, 0, 1, 1, 1, 1, 1, 1, 0, 1, 1, 0, 1, 0, 0, 0, 1, 1, 1, 1, 0, 0, 0, 0, 1, 0, 0, 0, 1, 0, 1, 0, 0, 1, 0, 0, 0, 0, 1, 0, 1, 0, 1, 0, 1, 1, 1, 0, 0, 0, 1, 0, 0, 0, 0, 1, 1, 0, 0, 0, 0, 1, 0, 0, 0, 1, 1, 1, 0, 0, 1, 0, 1, 0, 1, 1, 1, 1, 1, 1, 0, 0, 1, 0, 1, 1, 1, 0, 1, 0, 1, 0, 0, 0, 0, 0, 1, 1, 1, 1, 1, 1, 0, 1, 1, 1, 1, 0, 0, 0, 1, 0, 0, 1, 1, 0, 0, 0, 1, 0, 1, 0, 1, 1, 1, 0, 0, 0, 0, 0, 0, 1, 1, 0, 1, 0, 0, 1, 1, 0, 0, 1, 1, 0, 1, 0, 0, 1, 0, 0, 1, 0, 1, 0, 0, 1, 1, 1, 0, 0, 1, 0, 0, 0, 0, 1, 0, 0, 1, 1, 0, 0, 1, 0, 0, 1, 0, 1, 0, 0, 0, 0, 0, 0, 1, 1, 1, 0, 0, 0, 0, 0, 1, 1, 0, 0, 1, 0, 1, 0, 0, 1, 0, 1, 0, 0, 1, 0, 1, 0, 0, 0, 0, 1, 0, 1, 0, 0, 0, 1, 0, 0, 1, 1, 1, 1, 0, 1, 0, 0, 0, 1, 1, 1, 1, 1, 1, 0, 1, 1, 0, 0, 0, 0, 1, 1, 1, 1, 1, 1, 1, 0, 1, 0, 0, 0, 1, 0, 0, 0, 0, 0, 0, 0, 1, 0, 1, 1, 0, 1, 0, 0, 0, 0, 1, 1, 1, 0, 0, 0, 1, 1, 0, 1, 1, 1, 1, 0, 1, 0, 1, 1, 1, 0, 0, 1, 1, 0, 0, 0, 0, 1, 0, 1, 0, 1, 0, 1, 0, 1, 1, 1, 0, 0, 0, 1, 0, 1, 0, 0, 0, 0, 0, 1, 1, 1, 0, 0, 1, 0, 0, 0, 1, 1, 0, 0, 1, 1, 1, 0, 0, 1, 1, 1, 0, 0, 0, 1, 1, 1, 0, 0, 1, 1, 0, 1, 0, 0, 0, 1, 0, 0, 0, 1, 1, 1, 1, 1, 0, 1, 1, 1, 1, 1, 1, 0, 1, 1, 0, 1, 0, 1, 0, 0, 1, 0, 1, 1, 1, 0, 1, 1, 0, 0, 1, 0, 0, 0, 1, 1, 1, 0, 1, 1, 1, 1, 1, 0, 1, 1, 0, 1, 0, 0, 1, 1, 0, 0, 1, 1, 0, 0, 1, 0, 1, 1, 1, 0, 0, 0, 0, 1, 0, 0, 0, 1, 0, 0, 1, 0, 1, 0, 1, 1, 1, 1, 1, 0, 0, 0, 1, 1, 1, 1, 0, 1, 1, 0, 1, 1, 1, 1, 1, 0, 0, 1, 0, 1, 0, 1, 1, 1, 0, 0, 0, 0, 0, 1, 0, 0, 1, 1, 1, 0, 1, 1, 0, 0, 1, 0, 1, 1, 1, 0, 1, 0, 1, 0, 1, 0, 0, 0, 1, 0, 0, 0, 1, 1, 1, 1, 0, 1, 1, 0, 1, 1, 0, 0, 0, 0, 1, 1, 0, 0, 0, 0, 1, 1, 1, 0, 1, 0, 0, 0, 1, 1, 1, 1, 0, 1, 0, 0, 0, 0, 1, 0, 0, 1, 0, 0, 0, 1, 1, 0, 0, 0, 0, 1, 1, 0, 0, 1, 1, 1, 0, 0, 0, 0, 1, 1, 0, 0, 0, 0, 1, 0, 0, 1, 0, 1, 0, 0, 1, 0, 0, 1, 1, 1, 1, 1, 0, 0, 0, 0, 0, 1, 1, 0, 0, 0, 0, 1, 1, 0, 1, 1, 0, 0, 1, 1, 0, 1, 1, 1, 0, 1, 0, 0, 0, 1, 0, 0, 1, 1, 1, 0, 0, 0, 1, 0, 0, 1, 0, 0, 0, 1, 1, 0, 1, 0, 1, 0, 1, 1, 0, 0, 1, 0, 0, 1, 0, 1, 1, 1, 1, 1, 1, 0, 0, 0, 1, 1, 0, 0, 0, 1, 0, 1, 1, 1, 0, 1, 1, 1, 1, 1, 0, 0, 0, 1, 0, 0, 0, 0, 0, 0, 1, 0, 0, 0, 0, 1, 0, 0, 1, 0, 0, 0, 0, 1, 0, 1, 1, 0, 1, 1, 0, 1, 0, 1, 0, 1, 1, 1, 1, 0, 0, 1, 0, 0, 0, 1, 0, 0, 0, 1, 0, 1, 0, 1, 0, 0, 1, 0, 0, 0, 0, 1, 0, 1, 0, 1, 1, 0, 0, 1, 0, 0, 1, 1, 1, 0, 1, 0, 1, 1, 0, 1, 1, 1, 1, 0, 1, 1, 1, 0, 1, 1, 0, 0, 1, 0, 0, 1, 0, 1, 1, 1, 1, 1, 0, 0, 0, 0, 0, 1, 1, 1, 1, 0, 0, 1, 0, 1, 0, 0, 1, 1, 0, 1, 1, 0, 1, 0, 1, 0, 1, 1, 0, 0, 1, 0, 0, 1, 0, 1, 1, 0, 0, 0, 0, 0, 0, 0, 0, 1, 1, 1, 1, 1, 0, 0, 0, 0, 0, 1, 1, 1, 1, 1, 1, 1, 1, 0, 0, 1, 0, 0, 0, 0, 0, 0, 0, 1, 0, 1, 1, 0, 0, 1, 0, 0, 0, 1, 0, 0, 1, 0, 1, 1, 0, 0, 0, 1, 1, 0, 1, 1, 0, 0, 1, 0, 1, 1, 0, 0, 1, 0, 1, 1, 0, 0, 0, 0, 1, 1, 0, 1, 1, 0, 0, 1, 1, 1, 1, 1, 0, 1, 1, 1, 0, 0, 0, 0, 1, 1, 0, 0, 0, 0, 0, 1, 0, 0, 1, 1, 0, 1, 0, 0, 1, 1, 1, 0, 1, 0, 1, 0, 0, 1, 0, 1, 0, 0, 1, 1, 0, 1, 1, 1, 1, 0, 1, 1, 1, 1, 0, 1, 0, 0, 1, 1, 0, 1, 0, 1, 0, 1, 1, 0, 0, 1, 1, 0, 1, 1, 1, 0, 0, 1, 0, 1, 0, 0, 1, 1, 1, 1, 1, 0, 1, 1, 1, 0, 0, 0, 0, 1, 1, 0, 1, 0, 0, 1, 0, 0, 1, 0, 0, 0, 1, 0, 1, 0, 0, 1, 0, 1, 1, 1, 1, 1, 0, 0, 1, 1, 1, 1, 0, 1, 0, 1, 1, 1, 0, 0, 0, 0, 1, 0, 0, 1, 0, 0, 0, 0, 1, 1, 0, 0, 1, 0, 1, 1, 0, 1, 0, 0, 1, 0, 1, 0, 0, 0, 0, 0, 1, 1, 0, 0, 0, 1, 1, 1, 1, 1, 1, 1, 0, 0, 1, 0, 0, 0, 0, 0, 0, 1, 1, 1, 1, 1, 0, 0, 0, 0, 0, 1, 0, 1, 0, 1, 0, 1, 0, 0, 1, 1, 0, 0, 0, 1, 1, 1, 0, 0, 1, 1, 1, 1, 1, 0, 1, 0, 1, 1, 1, 1, 1, 1, 0, 0, 0, 1, 1, 1, 0, 1, 0, 1, 0, 1, 0, 1, 1, 0, 0, 0, 1, 0, 0, 0, 0, 1, 1, 1, 1, 1, 0, 0, 1, 1, 0, 0, 1, 1, 0, 1, 1, 0, 1, 1, 1, 0, 1, 0, 1, 0, 0, 0, 1, 0, 0, 1, 0, 0, 1, 0, 1, 0, 1, 0, 0, 0, 0, 1, 1, 1, 0, 0, 1, 0, 1, 0, 0, 0, 1, 1, 1, 0, 1, 0, 1, 0, 1, 1, 1, 0, 1, 1, 0, 1, 0, 0, 0, 0, 0, 1, 0, 1, 1, 1, 0, 0, 1, 0, 1, 1, 1, 0, 1, 0, 1, 0, 0, 0, 1, 1, 0, 0, 0, 1, 1, 1, 1, 0, 0, 1, 1, 1, 0, 0, 0, 0, 1, 1, 0, 1, 1, 1, 1, 0, 1, 0, 1, 0, 0, 0, 1, 1, 0, 1, 1, 1, 1, 0, 1, 0, 0, 0, 0, 0, 0, 0, 0, 0, 0, 1, 0, 1, 0, 1, 0, 1, 1, 1, 1, 0, 1, 0, 0, 0, 1, 1, 0, 0, 1, 0, 0, 0, 0, 0, 1, 0, 1, 0, 1, 1, 0, 0, 0, 1, 0, 1, 1, 1, 1, 0, 0, 1, 1, 1, 0, 1, 0, 1, 1, 0, 0, 0, 0, 1, 0, 1, 1, 0, 0, 1, 0, 0, 0, 1, 0, 1, 0, 1, 0, 1, 1, 0, 0, 1, 0, 1, 1, 1, 1, 1, 0, 0, 0, 1, 1, 0, 1, 0, 1, 1, 0, 0, 1, 0, 1, 0, 0, 1, 0, 0, 1, 1, 0, 1, 1, 0, 0, 1, 1, 0, 0, 1, 1, 0, 0, 1, 0, 1, 1, 0, 0, 0, 1, 1, 0, 0, 1, 1, 0, 0, 0, 0, 1, 0, 0, 1, 0, 1, 0, 1, 0, 0, 0, 1, 1, 1, 0, 0, 0, 0, 1, 0, 0, 1, 0, 0, 0, 1, 1, 1, 0, 0, 0, 0, 1, 0, 0, 1, 1, 1, 1, 1, 0, 1, 1, 0, 0, 0, 1, 1, 0, 0, 1, 1, 0, 0, 1, 1, 0, 0, 0, 1, 1, 1, 0, 0, 1, 1, 0, 0, 1, 0, 1, 1, 0, 0, 1, 1, 0, 0, 1, 1, 1, 0, 1, 0, 0, 1, 1, 0, 0, 0, 0, 0, 0, 1, 1, 1, 1, 1, 1, 0, 0, 0, 0, 0, 0, 1, 1, 0, 0, 0, 1, 0, 1, 0, 0, 0, 1, 1, 0, 0, 1, 0, 0, 1, 1, 1, 0, 0, 0, 1, 1, 1, 1, 0, 1, 1, 1, 1, 0, 0, 0, 1, 1, 0, 1, 1, 0, 0, 1, 1, 1, 0, 0, 1, 1, 0, 1, 0, 0, 1, 1, 0, 1, 0, 0, 0, 0, 1, 0, 1, 0, 0, 0, 0, 0, 1, 0, 0, 1, 0, 1, 1, 0, 0, 0, 1, 0, 0, 1, 0, 0, 1, 0, 0, 0, 0, 0, 1, 1, 1, 0, 0, 0, 1, 1, 1, 0, 1, 1, 0, 1, 1, 0, 0, 0, 0, 1, 0, 0, 1, 0, 1, 0, 1, 1, 0, 1, 0, 1, 1, 1, 1, 1, 0, 0, 1, 0, 1, 0, 1, 1, 1, 0, 0, 1, 1, 0, 1, 1, 0, 0, 1, 0, 0, 1, 1, 0, 1, 0, 0, 0, 0, 0, 0, 1, 0, 0, 1, 1, 0, 0, 0, 1, 1, 1, 0, 1, 0, 0, 0, 1, 1, 1, 1, 1, 0, 1, 1, 1, 1, 1, 0, 0, 0, 0, 0, 0, 0, 1, 1, 1, 0, 0, 1, 0, 1, 1, 1, 1, 1, 1, 0, 1, 0, 0, 0, 1, 1, 0, 1, 0, 1, 0, 1, 0, 0, 1, 1, 0, 1, 0, 1, 0, 1, 0, 1, 0, 0, 1, 0, 0, 0, 0, 0, 1, 1, 0, 0, 0, 0, 1, 0, 1, 0, 1, 0, 1, 0, 1, 0, 0, 0, 1, 0, 1, 1, 1, 1, 0, 0, 0, 0, 1, 1, 0, 0, 0, 1, 0, 1, 0, 1, 1, 0, 1, 0, 1, 0, 1, 1, 0, 1, 0, 1, 1, 0, 0, 1, 1, 1, 1, 1, 1, 1, 0, 0, 0, 1, 1, 1, 1, 0, 0, 0, 0, 0, 1, 1, 0, 0, 0, 0, 1, 0, 1, 1, 0, 0, 0, 0, 1, 0, 1, 0, 0, 0, 0, 1, 0, 0, 1, 0, 0, 1, 1, 0, 0, 0, 0, 1, 0, 0, 0, 0, 0, 1, 1, 1, 1, 0, 0, 1, 1, 0, 0, 0, 0, 0, 0, 1, 0, 1, 1, 1, 1, 1, 1, 1, 0, 0, 0, 0, 1, 0, 0, 1, 1, 1, 0, 1, 1, 1, 0, 0, 1, 0, 1, 0, 1, 1, 0, 1, 0, 0, 1, 1, 0, 1, 1, 1, 1, 1, 1, 0, 1, 1, 0, 1, 1, 0, 1, 0, 0, 1, 0, 1, 0, 1, 0, 0, 0, 1, 0, 0, 0, 0, 0, 1, 0, 1, 0, 1, 0, 0, 1, 1, 0, 1, 0, 1, 1, 0, 1, 0, 1, 0, 0, 1, 0, 1, 0, 1, 1, 1, 0, 1, 0, 1, 1, 1, 1, 1, 1, 0, 0, 0, 0, 1, 1, 0, 1, 1, 0, 0, 1, 0, 0, 0, 0, 0, 1, 1, 1, 1, 1, 0, 1, 1, 0, 0, 0, 0, 1, 0, 1, 0, 1, 0, 1, 0, 0, 1, 0, 0, 0, 1, 1, 1, 0, 0, 0, 1, 0, 1, 0, 1, 0, 0, 1, 1, 0, 0, 0, 1, 1, 0, 0, 0, 0, 1, 0, 1, 1, 1, 1, 1, 1, 0, 0, 0, 0, 0, 1, 1, 0, 1, 1, 0, 0, 1, 0, 0, 1, 0, 0, 0, 1, 1, 0, 0, 0, 0, 1, 0, 0, 1, 0, 1, 1, 0, 0, 1, 1, 1, 1, 1, 0, 0, 0, 1, 1, 1, 0, 0, 1, 0, 1, 0, 1, 1, 0, 1, 1, 0, 1, 1, 0, 0, 0, 0, 1, 0, 0, 0, 1, 0, 1, 1, 1, 0, 0, 0, 1, 1, 1, 0, 1, 0, 1, 0, 0, 0, 0, 0, 0, 1, 1, 0, 1, 1, 1, 1, 1, 0, 0, 1, 1, 0, 1, 0, 0, 0, 0, 0, 0, 1, 1, 1, 1, 0, 0, 0, 1, 0, 0, 0, 1, 1, 0, 1, 1, 1, 1, 0, 1, 1, 1, 0, 1, 1, 0, 1, 1, 0, 1, 1, 0, 1, 0, 1, 1, 1, 1, 1, 0, 0, 1, 1, 0, 0, 0, 0, 1, 0, 0, 0, 1, 0, 0, 0, 1, 0, 0, 1, 1, 0, 1, 0, 1, 0, 0, 0, 1, 0, 1, 0, 0, 0, 1, 1, 0, 1, 1, 1, 0, 1, 1, 1, 1, 0, 1, 0, 1, 1, 0, 1, 0, 1, 0, 1, 1, 1, 0, 1, 1, 0, 1, 1, 0, 1, 1, 0, 0, 0, 0, 1, 1, 1, 1, 0, 0, 1, 1, 1, 1, 1, 1, 0, 0, 0, 0, 0, 0, 1, 0, 1, 0, 1, 1, 1, 1, 1, 1, 0, 0, 0, 1, 0, 0, 1, 1, 1, 0, 0, 0, 0, 1, 1, 1, 1, 0, 1, 1, 1, 0, 1, 0, 1, 0, 1, 1, 0, 1, 1, 1, 0, 1, 0, 1, 0, 1, 1, 0, 1, 1, 1, 1, 1, 1, 0, 1, 1, 1, 1, 1, 1, 0, 0, 0, 1, 1, 0, 0, 1, 1, 1, 1, 0, 1, 0, 1, 1, 0, 1, 1, 1, 0, 1, 0, 0, 1, 1, 0, 1, 1, 1, 0, 1, 0, 0, 0, 1, 1, 1, 0, 0, 0, 0, 0, 0, 0, 1, 1, 0, 0, 1, 1, 0, 1, 0, 1, 1, 1, 1, 1, 0, 1, 0, 0, 1, 0, 0, 1, 1, 0, 0, 1, 0, 1, 1, 1, 1, 0, 1, 1, 1, 0, 1, 0, 1, 0, 0, 1, 0, 0, 1, 1, 1, 0, 1, 0, 1, 1, 1, 1, 0, 0, 1, 0, 1, 0, 1, 0, 1, 1, 1, 1, 0, 0, 1, 0, 1, 1, 1, 0, 0, 1, 1, 1, 0, 1, 1, 0, 0, 1, 1, 0, 1, 0, 0, 0, 0, 0, 1, 0, 0, 0, 1, 0, 1, 1, 1, 1, 0, 0, 1, 1, 0, 1, 1, 1, 1, 0, 1, 1, 1, 0, 1, 1, 0, 0, 1, 1, 0, 0, 0, 0, 0, 0, 1, 1, 1, 0, 0, 0, 0, 1, 1, 0, 0, 1, 0, 0, 0, 0, 1, 1, 1, 0, 1, 1, 1, 0, 0, 1, 0, 0, 0, 1, 0, 0, 0, 0, 1, 1, 0, 1, 0, 1, 0, 1, 0, 0, 0, 1, 1, 0, 0, 0, 0, 1, 0, 1, 1, 1, 0, 0, 1, 1, 0, 1, 1, 0, 0, 1, 0, 0, 1, 0, 0, 0, 1, 1, 0, 0, 1, 1, 0, 1, 0, 1, 0, 0, 1, 0, 1, 0, 0, 1, 1, 1, 1, 0, 1, 1, 0, 1, 0, 1, 0, 1, 0, 1, 0, 1, 0, 0, 1, 1, 1, 0, 1, 0, 1, 1, 1, 1, 1, 0, 1, 0, 1, 1, 0, 0, 1, 0, 0, 1, 1, 0, 0, 0, 1, 1, 1, 1, 1, 1, 1, 1, 1, 1, 1, 1, 0, 1, 1, 1, 1, 0, 1, 0, 0, 1, 0, 0, 1, 1, 0, 0, 0, 1, 1, 1, 1, 0, 0, 1, 0, 0, 0, 0, 0, 1, 0, 0, 1, 1, 1, 1, 0, 1, 0, 0, 0, 0, 0, 0, 0, 1, 0, 1, 0, 1, 0, 1, 0, 1, 0, 0, 0, 1, 0, 0, 1, 1, 0, 0, 1, 1, 1, 1, 1, 1, 1, 1, 1, 0, 1, 0, 0, 0, 0, 0, 0, 1, 1, 1, 0, 1, 0, 1, 1, 1, 1, 0, 1, 0, 0, 1, 1, 0, 0, 0, 1, 1, 1, 0, 0, 0, 1, 0, 1, 1, 1, 1, 1, 1, 0, 1, 0, 0, 1, 1, 0, 0, 0, 1, 1, 1, 1, 0, 0, 0, 1, 1, 0, 0, 1, 1, 0, 1, 0, 0, 0, 1, 0, 0, 1, 1, 0, 1, 1, 0, 0, 0, 1, 0, 0, 1, 1, 0, 1, 1, 0, 0, 1, 0, 1, 1, 0, 1, 1, 1, 1, 1, 0, 1, 1, 1, 0, 1, 1, 0, 0, 1, 1, 1, 0, 0, 1, 1, 0, 1, 0, 0, 1, 0, 1, 1, 1, 0, 1, 1, 0, 0, 0, 0, 0, 0, 1, 0, 1, 0, 0, 0, 1, 1, 0, 1, 0, 0, 0, 1, 0, 1, 0, 0, 1, 1, 0, 1, 0, 0, 0, 0, 1, 1, 0, 0, 0, 0, 0, 1, 1, 1, 1, 0, 1, 0, 1, 1, 0, 1, 0, 0, 1, 1, 1, 0, 0, 0, 1, 1, 0, 0, 1, 0, 1, 1, 1, 0, 0, 0, 0, 1, 0, 0, 1, 0, 1, 1, 1, 1, 0, 1, 1, 1, 1, 0, 0, 0, 0, 1, 0, 0, 1, 0, 0, 0, 0, 1, 0, 1, 0, 1, 0, 0, 1, 1, 0, 1, 1, 1, 0, 0, 0, 1, 1, 1, 1, 1, 1, 1, 1, 1, 1, 1, 1, 1, 0, 1, 0, 1, 0, 0, 0, 1, 1, 0, 1, 0, 0, 1, 1, 1, 0, 0, 1, 0, 1, 0, 0, 0, 0, 1, 1, 0, 1, 1, 0, 1, 0, 0, 1, 0, 0, 0, 1, 1, 1, 0, 1, 1, 1, 0, 0, 1, 0, 0, 1, 0, 0, 1, 1, 0, 1, 0, 1, 0, 0, 1, 1, 0, 1, 0, 1, 1, 0, 0, 1, 0, 0, 1, 1, 0, 1, 0, 1, 1, 1, 1, 1, 1, 0, 0, 1, 1, 1, 0, 0, 0, 1, 1, 0, 1, 0, 1, 0, 1, 0, 0, 1, 1, 0, 1, 0, 0, 1, 1, 1, 1, 0, 0, 1, 0, 0, 0, 1, 0, 1, 0, 0, 1, 0, 0, 1, 1, 0, 1, 1, 1, 1, 1, 0, 0, 0, 0, 1, 1, 0, 1, 0, 1, 1, 1, 1, 1, 1, 0, 1, 0, 0, 1, 1, 0, 1, 0, 1, 0, 0, 1, 0, 1, 1, 1, 0, 1, 0, 1, 0, 0, 0, 1, 1, 0, 0, 0, 0, 0, 1, 1, 1, 1, 1, 0, 1, 1, 0, 0, 0, 1, 1, 0, 0, 1, 0, 1, 1, 0, 0, 0, 1, 0, 1, 1, 0, 1, 1, 1, 0, 1, 0, 1, 1, 0, 0, 1, 0, 1, 1, 1, 0, 0, 1, 1, 0, 0, 1, 0, 0, 1, 0, 0, 0, 0, 1, 1, 1, 0, 0, 0, 0, 1, 1, 0, 0, 1, 1, 1, 0, 1, 0, 1, 1, 1, 0, 0, 0, 1, 0, 1, 0, 0, 0, 0, 1, 1, 0, 0, 1, 1, 1, 0, 1, 0, 0, 1, 1, 1, 1, 0, 0, 0, 1, 1, 1, 0, 0, 1, 1, 0, 0, 1, 1, 0, 0, 1, 0, 0, 0, 0, 0, 1, 1, 1, 0, 0, 1, 0, 1, 1, 0, 1, 1, 1, 0, 0, 0, 0, 1, 1, 1, 0, 0, 0, 0, 0, 0, 1, 1, 0, 1, 0, 0, 1, 1, 1, 0, 1, 1, 0, 1, 1, 1, 0, 0, 1, 0, 1, 1, 1, 1, 1, 0, 0, 1, 0, 0, 0, 0, 1, 0, 0, 1, 1, 0, 1, 1, 1, 0, 0, 0, 0, 1, 0, 0, 0, 1, 1, 1, 1, 1, 0, 1, 0, 0, 0, 1, 0, 0, 1, 1, 1, 0, 0, 0, 0, 1, 0, 0, 1, 1, 1, 0, 0, 0, 0, 1, 0, 0, 0, 0, 0, 0, 0, 0, 1, 1, 0, 0, 1, 0, 0, 0, 0, 1, 1, 0, 0, 0, 0, 1, 0, 0, 0, 1, 0, 1, 1, 1, 0, 0, 1, 1, 1, 0, 1, 1, 1, 0, 1, 0, 1, 0, 1, 1, 1, 0, 0, 0, 0, 0, 1, 0, 0, 0, 1, 0, 0, 0, 1, 0, 1, 0, 1, 1, 0, 1, 1, 0, 0, 1, 0, 1, 0, 1, 1, 1, 1, 0, 0, 1, 0, 1, 1, 0, 1, 1, 0, 1, 0, 1, 0, 0, 0, 1, 1, 0, 0, 0, 1, 0, 0, 0, 0, 1, 0, 0, 1, 0, 0, 1, 0, 0, 0, 0, 1, 1, 1, 1, 1, 1, 1, 1, 0, 0, 0, 1, 1, 0, 1, 0, 1, 1, 1, 0, 0, 0, 1, 0, 0, 0, 1, 1, 1, 1, 1, 1, 1, 1, 1, 1, 1, 1, 0, 1, 0, 0, 0, 0, 1, 0, 0, 0, 0, 0, 0, 1, 0, 1, 1, 1, 0, 1, 1, 1, 1, 1, 0, 0, 0, 0, 1, 0, 1, 1, 1, 1, 0, 1, 0, 0, 0, 1, 1, 0, 0, 0, 0, 0, 1, 0, 1, 0, 0, 1, 0, 1, 0, 1, 0, 1, 1, 0, 1, 1, 0, 1, 1, 0, 1, 1, 0, 1, 0, 1, 0, 1, 1, 0, 1, 1, 0, 1, 0, 1, 0, 1, 1, 0, 0, 1, 1, 0, 0, 1, 1, 1, 1, 1, 0, 1, 1, 0, 0, 0, 0, 1, 1, 1, 1, 1, 1, 0, 1, 1, 0, 1, 0, 0, 0, 0, 1, 0, 0, 0, 0, 0, 0, 0, 0, 1, 0, 1, 1, 1, 1, 0, 1, 1, 0, 0, 0, 0, 0, 0, 0, 0, 0, 0, 0, 1, 1, 1, 1, 1, 0, 1, 0, 1, 0, 0, 1, 0, 1, 0, 0, 1, 1, 1, 1, 0, 0, 1, 1, 1, 0, 1, 1, 1, 0, 0, 1, 1, 1, 1, 1, 0, 0, 0, 0, 1, 1, 0, 1, 1, 0, 0, 1, 0, 1, 0, 1, 0, 0, 1, 0, 1, 0, 1, 1, 0, 1, 1, 0, 0, 0, 0, 1, 1, 1, 1, 1, 0, 1, 1, 0, 0, 1, 0, 0, 0, 0, 0, 1, 0, 0, 1, 0, 1, 1, 1, 0, 1, 0, 0, 1, 0, 1, 1, 1, 0, 0, 1, 0, 0, 1, 0, 1, 1, 0, 1, 1, 1, 0, 0, 1, 1, 0, 0, 0, 0, 0, 1, 1, 0, 0, 1, 0, 0, 0, 0, 1, 1, 0, 0, 1, 1, 1, 0, 1, 1, 1, 0, 0, 1, 0, 0, 1, 1, 0, 0, 1, 1, 1, 1, 1, 1, 1, 1, 1, 1, 1, 1, 1, 0, 0, 1, 1, 1, 1, 0, 1, 0, 0, 1, 1, 0, 0, 0, 0, 0, 1, 1, 0, 1, 1, 1, 0, 1, 0, 0, 1, 0, 1, 1, 0, 1, 1, 1, 1, 0, 1, 1, 0, 0, 1, 0, 1, 0, 1, 0, 0, 0, 0, 0, 0, 0, 1, 0, 1, 0, 0, 0, 0, 0, 1, 0, 1, 0, 0, 0, 1, 0, 0, 1, 0, 1, 0, 0, 1, 1, 0, 1, 1, 0, 0, 1, 1, 1, 0, 0, 1, 0, 1, 1, 0, 1, 1, 1, 0, 0, 0, 0, 1, 1, 1, 0, 0, 0, 1, 0, 1, 0, 1, 0, 1, 0, 1, 1, 1, 1, 1, 0, 0, 0, 0, 1, 0, 0, 0, 0, 0, 0, 1, 1, 1, 0, 0, 0, 1, 1, 0, 1, 0, 0, 0, 1, 1, 1, 0, 1, 1, 1, 1, 0, 0, 0, 1, 1, 0, 1, 0, 1, 0, 0, 0, 1, 1, 0, 0, 1, 0, 1, 0, 0, 1, 0, 1, 0, 0, 0, 1, 1, 0, 0, 1, 1, 1, 0, 0, 0, 1, 0, 1, 0, 0, 0, 1, 0, 0, 1, 0, 0, 0, 0, 0, 1, 0, 1, 1, 1, 1, 0, 0, 1, 1, 0, 1, 1, 0, 0, 1, 0, 0, 1, 0, 0, 0, 0, 0, 1, 1, 0, 0, 0, 0, 0, 1, 0, 1, 0, 1, 1, 1, 1, 1, 1, 1, 1, 0, 0, 1, 1, 0, 1, 0, 0, 1, 1, 0, 1, 0, 0, 1, 1, 1, 1, 0, 0, 0, 0, 0, 1, 0, 0, 0, 1, 1, 1, 0, 1, 0, 0, 0, 0, 1, 1, 0, 1, 1, 0, 0, 0, 1, 0, 1, 1, 0, 1, 0, 0, 1, 0, 1, 0, 1, 1, 0, 0, 0, 0, 1, 0, 1, 1, 0, 0, 0, 1, 1, 1, 1, 1, 1, 1, 0, 0, 1, 1, 0, 1, 1, 1, 0, 1, 0, 1, 0, 0, 1, 1, 1, 1, 0, 1, 1, 0, 0, 0, 0, 0, 1, 0, 0, 1, 0, 1, 0, 1, 1, 0, 0, 1, 0, 1, 1, 1, 1, 0, 1, 0, 1, 0, 0, 1, 0, 1, 1, 1, 1, 0, 1, 1, 1, 0, 1, 0, 1, 1, 0, 0, 1, 1, 1, 0, 1, 1, 0, 1, 1, 0, 0, 0, 1, 0, 1, 1, 1, 1, 1, 1, 0, 1, 1, 1, 1, 1, 0, 0, 0, 1, 0, 1, 0, 1, 1, 1, 0, 1, 1, 0, 0, 0, 1, 1, 0, 1, 1, 1, 1, 0, 0, 0, 1, 1, 1, 1, 0, 1, 0, 0, 0, 1, 1, 1, 1, 1, 0, 1, 0, 0, 1, 0, 1, 0, 0, 0, 0, 0, 0, 0, 0, 0, 1, 0, 0, 0, 1, 1, 1, 1, 1, 1, 0, 1, 0, 1, 1, 1, 0, 0, 1, 0, 0, 0, 0, 1, 1, 0, 0, 0, 0, 0, 1, 0, 1, 0, 0, 0, 1, 0, 0, 1, 1, 0, 1, 0, 0, 1, 1, 0, 1, 1, 0, 0, 0, 1, 1, 0, 1, 1, 0, 0, 1, 1, 0, 1, 0, 0, 0, 0, 1, 1, 1, 1, 1, 0, 0, 1, 0, 1, 1, 1, 0, 0, 1, 0, 1, 1, 1, 1, 1, 1, 0, 0, 1, 1, 0, 0, 1, 0, 0, 0, 0, 1, 0, 1, 1, 0, 0, 1, 0, 1, 0, 0, 0, 0, 1, 0, 0, 1, 1, 0, 1, 1, 1, 1, 0, 0, 1, 1, 0, 1, 1, 1, 1, 1, 1, 0, 1, 1, 0, 1, 0, 1, 1, 1, 0, 0, 1, 0, 1, 1, 0, 1, 1, 0, 0, 0, 1, 1, 0, 0, 1, 1, 1, 1, 0, 0, 1, 0, 0, 0, 1, 1, 1, 0, 0, 0, 1, 0, 0, 0, 1, 1, 0, 0, 1, 1, 0, 0, 0, 1, 0, 0, 1, 1, 1, 1, 0, 1, 1, 1, 0, 1, 0, 1, 0, 1, 0, 1, 1, 0, 1, 1, 1, 0, 1, 0, 0, 0, 1, 1, 0, 1, 1, 0, 1, 0, 1, 0, 1, 0, 1, 1, 0, 1, 1, 1, 0, 1, 1, 0, 0, 0, 1, 0, 1, 1, 0, 0, 1, 0, 0, 1, 0, 1, 1, 1, 1, 0, 1, 0, 1, 0, 0, 1, 0, 1, 1, 1, 1, 1, 0, 0, 0, 0, 1, 1, 1, 0, 1, 1, 0, 1, 0, 1, 1, 1, 0, 0, 0, 1, 1, 1, 1, 1, 0, 1, 1, 0, 1, 1, 1, 1, 1, 0, 0, 1, 1, 1, 0, 0, 0, 0, 0, 0, 1, 1, 0, 1, 0, 0, 0, 1, 0, 0, 1, 1, 0, 0, 0, 1, 0, 1, 0, 1, 1, 0, 0, 0, 1, 0, 1, 0, 1, 0, 1, 1, 0, 0, 0, 0, 1, 1, 1, 1, 1, 0, 1, 0, 0, 1, 0, 1, 0, 1, 0, 1, 1, 1, 1, 1, 1, 1, 1, 1, 0, 0, 1, 1, 1, 1, 0, 1, 0, 1, 1, 1, 1, 0, 1, 0, 1, 0, 1, 1, 1, 1, 0, 0, 1, 0, 0, 0, 0, 0, 1, 0, 0, 1, 0, 0, 0, 0, 0, 0, 0, 1, 1, 0, 0, 0, 0, 1, 1, 0, 0, 0, 1, 0, 0, 0, 1, 0, 1, 1, 0, 0, 1, 1, 0, 0, 1, 0, 0, 1, 0, 0, 0, 1, 1, 0, 0, 0, 1, 1, 1, 0, 0, 0, 1, 0, 1, 0, 1, 1, 1, 1, 0, 0, 1, 1, 1, 1, 0, 0, 0, 0, 1, 1, 1, 1, 1, 0, 0, 0, 0, 0, 0, 1, 1, 0, 1, 1, 0, 0, 1, 1, 0, 1, 0, 1, 0, 0, 0, 0, 1, 0, 1, 1, 0, 1, 0, 1, 0, 0, 0, 0, 1, 1, 0, 0, 1, 1, 1, 1, 0, 1, 0, 1, 1, 0, 1, 1, 0, 1, 1, 0, 0, 0, 0, 0, 1, 1, 0, 1, 0, 0, 1, 1, 0, 1, 1, 0, 0, 0, 1, 1, 1, 0, 1, 1, 0, 1, 0, 0, 1, 1, 0, 1, 0, 0, 1, 0, 0, 1, 1, 0, 0, 0, 0, 1, 1, 0, 1, 0, 0, 1, 1, 0, 1, 0, 1, 0, 1, 1, 0, 1, 1, 0, 0, 0, 0, 0, 1, 1, 0, 0, 0, 1, 1, 0, 1, 1, 0, 0, 1, 0, 1, 0, 1, 1, 0, 0, 0, 0, 0, 1, 0, 1, 1, 0, 1, 1, 0, 0, 0, 0, 0, 1, 0, 1, 0, 0, 1, 0, 0, 1, 0, 1, 0, 0, 0, 1, 0, 1, 1, 0, 0, 1, 1, 0, 0, 0, 0, 0, 1, 0, 0, 1, 0, 0, 1, 1, 1, 0, 0, 0, 0, 0, 1, 1, 1, 0, 1, 1, 1, 1, 1, 0, 0, 0, 0, 1, 1, 0, 1, 0, 1, 0, 0, 0, 1, 1, 1, 1, 1, 1, 1, 1, 0, 0, 1, 0, 0, 1, 1, 0, 0, 1, 1, 0, 1, 0, 1, 1, 1, 0, 1, 0, 0, 1, 0, 1, 0, 1, 0, 0, 1, 1, 0, 0, 0, 1, 1, 0, 0, 1, 0, 0, 0, 1, 1, 0, 1, 0, 0, 0, 0, 1, 1, 0, 0, 1, 1, 0, 1, 1, 0, 0, 1, 1, 1, 1, 1, 0, 1, 1, 0, 1, 1, 0, 1, 0, 0, 1, 1, 1, 1, 1, 1, 1, 0, 0, 1, 1, 1, 1, 1, 1, 1, 1, 1, 0, 1, 1, 1, 0, 0, 1, 0, 1, 1, 0, 0, 1, 1, 0, 0, 1, 1, 0, 1, 1, 1, 0, 0, 0, 0, 1, 0, 1, 1, 1, 0, 1, 0, 1, 1, 0, 1, 0, 0, 0, 1, 0, 0, 1, 1, 1, 0, 0, 1, 1, 1, 1, 0, 0, 0, 0, 1, 1, 1, 1, 1, 0, 0, 0, 0, 0, 0, 0, 1, 0, 0, 0, 1, 1, 1, 1, 1, 0, 1, 0, 0, 1, 0, 1, 0, 0, 1, 0, 0, 1, 0, 0, 1, 0, 1, 1, 0, 0, 1, 0, 1, 0, 0, 0, 1, 0, 0, 1, 0, 0, 1, 0, 1, 0, 1, 0, 0, 1, 0, 0, 0, 0, 1, 0, 1, 1, 1, 1, 0, 0, 1, 0, 0, 0, 0, 0, 0, 1, 1, 0, 1, 0, 0, 0, 0, 0, 1, 1, 1, 0, 1, 0, 0, 0, 1, 0, 0, 1, 0, 1, 1, 1, 1, 1, 1, 0, 0, 1, 0, 1, 0, 0, 0, 1, 0, 0, 0, 0, 0, 0, 1, 1, 1, 0, 1, 0, 0, 1, 1, 1, 0, 0, 1, 1, 0, 1, 1, 0, 1, 1, 1, 0, 0, 1, 0, 1, 0, 1, 0, 0, 1, 0, 0, 1, 1, 1, 1, 0, 1, 0, 0, 1, 1, 1, 1, 0, 0, 0, 0, 0, 0, 0, 1, 0, 1, 1, 1, 0, 0, 1, 0, 1, 0, 0, 1, 0, 1, 1, 0, 1, 1, 0, 1, 1, 1, 0, 1, 0, 0, 0, 1, 1, 1, 1, 1, 1, 1, 1, 0, 1, 1, 1, 0, 0, 0, 1, 0, 1, 1, 0, 0, 1, 1, 0, 0, 1, 0, 1, 1, 1, 1, 0, 1, 1, 0, 1, 0, 0, 0, 1, 1, 0, 1, 0, 1, 1, 1, 1, 1, 0, 1, 1, 1, 1, 1, 1, 1, 1, 0, 0, 0, 0, 1, 0, 0, 1, 0, 0, 0, 1, 1, 0, 0, 0, 0, 1, 0, 0, 1, 1, 0, 0, 1, 0, 1, 0, 1, 1, 0, 1, 1, 1, 0, 0, 1, 1, 0, 1, 0, 1, 0, 1, 1, 0, 1, 0, 1, 1, 1, 0, 0, 1, 0, 1, 0, 0, 1, 0, 1, 0, 1, 1, 0, 0, 0, 1, 1, 1, 0, 0, 0, 0, 1, 0, 1, 1, 1, 1, 0, 1, 0, 0, 0, 0, 1, 1, 1, 0, 1, 0, 1, 1, 1, 0, 0, 0, 0, 1, 1, 1, 1, 1, 1, 0, 1, 1, 1, 1, 1, 1, 1, 1, 0, 1, 0, 0, 0, 0, 1, 0, 0, 0, 0, 0, 0, 1, 1, 0, 1, 0, 1, 1, 0, 0, 1, 0, 1, 0, 0, 1, 0, 1, 0, 1, 0, 0, 1, 0, 0, 1, 1, 0, 0, 0, 0, 1, 1, 1, 1, 1, 1, 0, 1, 1, 0, 0, 0, 1, 1, 1, 1, 0, 1, 1, 0, 1, 1, 0, 0, 0, 0, 0, 1, 0, 1, 0, 0, 0, 0, 1, 1, 1, 1, 0, 0, 0, 0, 1, 1, 1, 0, 0, 0, 1, 1, 1, 1, 1, 0, 1, 0, 0, 0, 1, 1, 1, 0, 1, 0, 0, 1, 0, 1, 0, 0, 1, 1, 1, 0, 0, 0, 0, 1, 0, 0, 1, 0, 1, 0, 1, 0, 1, 1, 1, 0, 0, 0, 0, 1, 1, 1, 1, 1, 1, 1, 1, 1, 1, 0, 1, 0, 1, 1, 0, 1, 0, 0, 1, 0, 0, 0, 1, 0, 0, 1, 0, 0, 1, 0, 0, 1, 1, 1, 1, 1, 0, 0, 0, 1, 1, 0, 0, 1, 1, 1, 1, 0, 0, 1, 1, 1, 1, 1, 0, 1, 1, 1, 1, 1, 1, 0, 0, 1, 0, 1, 1, 0, 0, 1, 1, 1, 1, 1, 1, 0, 1, 1, 0, 1, 0, 1, 0, 0, 1, 0, 0, 0, 1, 1, 1, 0, 0, 0, 0, 1, 1, 0, 1, 0, 0, 0, 0, 0, 1, 0, 1, 1, 0, 0, 0, 1, 0, 0, 1, 1, 1, 0, 1, 1, 0, 1, 1, 1, 1, 1, 1, 1, 1, 0, 0, 0, 0, 0, 0, 0, 1, 0, 1, 0, 1, 0, 0, 0, 1, 0, 0, 0, 0, 1, 0, 1, 0, 0, 1, 1, 0, 0, 0, 0, 1, 0, 0, 1, 0, 1, 1, 0, 0, 1, 0, 0, 1, 0, 0, 0, 0, 1, 1, 0, 1, 0, 0, 1, 0, 1, 0, 1, 1, 0, 1, 0, 0, 1, 1, 1, 1, 1, 1, 0, 1, 0, 0, 0, 0, 1, 1, 1, 0, 1, 1, 1, 0, 0, 0, 1, 1, 0, 1, 1, 0, 1, 1, 1, 1, 0, 1, 0, 1, 1, 0, 1, 0, 0, 1, 1, 0, 0, 1, 1, 1, 0, 0, 0, 1, 0, 1, 1, 0, 1, 1, 0, 1, 0, 0, 1, 1, 0, 0, 0, 1, 1, 1, 1, 0, 0, 1, 1, 0, 0, 1, 1, 1, 1, 0, 0, 1, 1, 1, 0, 1, 1, 0, 0, 0, 0, 0, 0, 0, 1, 0, 0, 1, 0, 1, 0, 1, 0, 0, 1, 1, 0, 0, 0, 1, 1, 0, 1, 0, 0, 0, 1, 0, 0, 1, 1, 1, 1, 1, 0, 1, 1, 1, 1, 1, 0, 0, 0, 1, 0, 0, 1, 0, 1, 1, 1, 0, 0, 1, 1, 0, 0, 1, 0, 0, 0, 0, 0, 0, 0, 0, 0, 1, 1, 0, 1, 1, 0, 0, 1, 1, 1, 1, 0, 0, 0, 0, 1, 0, 0, 0, 1, 1, 1, 1, 0, 1, 1, 0, 1, 1, 0, 0, 0, 1, 1, 0, 1, 0, 1, 1, 1, 1, 0, 0, 0, 0, 0, 1, 1, 0, 0, 0, 1, 0, 0, 0, 0, 0, 0, 1, 0, 0, 1, 0, 1, 0, 1, 1, 0, 1, 0, 0, 1, 1, 0, 1, 0, 0, 1, 0, 0, 1, 0, 1, 1, 1, 1, 0, 1, 0, 1, 1, 0, 0, 1, 0, 1, 1, 1, 1, 1, 0, 0, 0, 0, 1, 0, 1, 0, 0, 0, 1, 1, 0, 0, 0, 1, 0, 0, 1, 0, 1, 1, 1, 0, 0, 0, 1, 1, 0, 0, 1, 1, 1, 0, 1, 1, 1, 1, 1, 1, 0, 1, 0, 0, 1, 1, 1, 0, 1, 1, 1, 0, 0, 0, 1, 0, 1, 1, 1, 1, 1, 1, 1, 1, 0, 0, 1, 0, 1, 0, 1, 1, 1, 1, 1, 0, 1, 1, 0, 0, 0, 0, 1, 1, 0, 0, 1, 0, 0, 1, 0, 0, 1, 0, 1, 0, 0, 0, 0, 0, 1, 1, 0, 1, 0, 1, 0, 1, 1, 0, 0, 1, 0, 0, 1, 1, 0, 0, 0, 1, 0, 1, 0, 0, 1, 1, 1, 0, 0, 1, 1, 1, 1, 0, 1, 1, 1, 0, 0, 1, 1, 0, 1, 0, 0, 1, 1, 0, 0, 0, 0, 0, 0, 1, 0, 0, 1, 0, 0, 1, 1, 0, 1, 0, 1, 1, 0, 1, 1, 1, 0, 1, 1, 1, 1, 1, 0, 1, 1, 0, 0, 0, 1, 1, 1, 1, 0, 0, 0, 0, 1, 0, 0, 1, 1, 0, 1, 0, 1, 0, 1, 1, 1, 1, 0, 0, 0, 1, 1, 1, 1, 1, 0, 1, 1, 1, 0, 0, 0, 1, 0, 1, 0, 0, 1, 1, 0, 1, 1, 0, 0, 0, 0, 1, 0, 0, 0, 0, 0, 0, 0, 1, 0, 0, 1, 0, 0, 1, 0, 1, 1, 0, 1, 0, 1, 1, 0, 1, 1, 1, 1, 1, 0, 1, 0, 1, 0, 0, 1, 0, 0, 0, 1, 1, 0, 1, 0, 1, 1, 0, 0, 1, 0, 0, 1, 0, 0, 1, 1, 0, 0, 0, 0, 0, 0, 0, 0, 1, 0, 0, 0, 1, 1, 1, 0, 1, 0, 1, 0, 1, 0, 0, 1, 1, 1, 0, 0, 0, 0, 0, 0, 1, 1, 0, 1, 0, 0, 0, 0, 0, 0, 0, 0, 0, 1, 1, 1, 0, 0, 1, 1, 0, 1, 0, 1, 0, 0, 0, 0, 0, 1, 0, 1, 0, 1, 1, 0, 1, 0, 0, 0, 1, 0, 0, 1, 0, 1, 0, 0, 0, 0, 1, 1, 0, 1, 1, 0, 0, 1, 1, 1, 1, 1, 0, 0, 0, 1, 0, 0, 0, 1, 1, 0, 0, 0, 1, 0, 0, 0, 1, 0, 1, 1, 0, 1, 1, 0, 1, 0, 0, 1, 1, 0, 1, 1, 1, 0, 0, 1, 0, 1, 0, 0, 0, 1, 1, 0, 1, 0, 1, 0, 0, 0, 1, 0, 1, 0, 1, 0, 0, 0, 1, 0, 1, 1, 1, 1, 1, 1, 0, 0, 1, 1, 1, 1, 1, 0, 0, 0, 0, 1, 1, 0, 1, 0, 1, 0, 0, 1, 1, 1, 1, 0, 1, 1, 1, 0, 0, 0, 1, 1, 0, 1, 1, 1, 0, 1, 1, 1, 0, 1, 0, 1, 0, 1, 0, 0, 1, 1, 0, 1, 0, 1, 1, 0, 0, 0, 1, 0, 1, 1, 0, 1, 1, 1, 0, 1, 0, 0, 1, 0, 1, 0, 0, 1, 0, 0, 1, 0, 1, 0, 1, 0, 1, 1, 1, 1, 1, 0, 1, 0, 0, 1, 0, 1, 0, 1, 0, 0, 1, 0, 0, 0, 0, 0, 0, 1, 1, 1, 1, 1, 0, 1, 1, 1, 1, 0, 0, 1, 1, 0, 0, 1, 0, 0, 1, 0, 0, 0, 1, 1, 0, 1, 0, 1, 1, 1, 0, 1, 0, 1, 1, 1, 0, 0, 1, 1, 0, 0, 1, 0, 1, 1, 1, 1, 0, 1, 1, 1, 0, 1, 1, 1, 1, 1, 1, 0, 1, 1, 1, 0, 1, 0, 1, 0, 0, 1, 0, 1, 1, 1, 0, 1, 0, 1, 1, 1, 1, 0, 0, 1, 1, 1, 0, 0, 1, 0, 0, 0, 0, 0, 0, 0, 0, 0, 1, 0, 1, 0, 1, 0, 1, 0, 1, 0, 1, 1, 1, 0, 0, 1, 0, 0, 1, 0, 0, 0, 0, 0, 1, 1, 0, 0, 0, 0, 1, 1, 1, 1, 1, 0, 0, 0, 0, 1, 0, 0, 1, 0, 1, 1, 0, 0, 1, 1, 0, 1, 1, 0, 1, 1, 1, 1, 1, 1, 1, 0, 1, 0, 1, 0, 0, 1, 0, 0, 1, 1, 1, 1, 1, 1, 0, 0, 1, 1, 0, 0, 1, 0, 1, 1, 1, 1, 1, 1, 1, 1, 1, 1, 1, 0, 1, 1, 1, 0, 1, 0, 1, 1, 0, 1, 1, 1, 0, 1, 0, 1, 1, 0, 0, 0, 1, 0, 0, 0, 0, 1, 1, 0, 0, 1, 0, 0, 0, 0, 1, 1, 1, 0, 1, 1, 1, 0, 0, 1, 1, 1, 0, 0, 0, 0, 1, 0, 1, 1, 0, 1, 0, 0, 1, 0, 1, 0, 1, 0, 0, 0, 0, 0, 0, 1, 0, 1, 0, 0, 0, 0, 1, 0, 1, 1, 0, 1, 1, 1, 1, 0, 1, 1, 0, 1, 0, 0, 0, 1, 1, 1, 0, 0, 1, 1, 1, 0, 1, 0, 0, 1, 0, 0, 1, 0, 1, 0, 0, 0, 0, 1, 0, 1, 1, 1, 0, 0, 1, 1, 0, 0, 0, 0, 1, 0, 0, 1, 0, 1, 0, 0, 0, 1, 1, 0, 0, 0, 0, 1, 0, 0, 0, 0, 0, 0, 0, 0, 0, 1, 0, 0, 0, 0, 1, 0, 1, 1, 0, 0, 1, 1, 1, 1, 0, 0, 0, 0, 0, 1, 0, 1, 0, 1, 1, 0, 1, 1, 0, 1, 1, 0, 1, 0, 1, 1, 0, 0, 1, 1, 1, 0, 1, 0, 1, 0, 0, 0, 1, 0, 1, 1, 0, 0, 1, 0, 0, 0, 1, 1, 1, 0, 0, 0, 1, 0, 0, 0, 0, 0, 1, 1, 0, 1, 0, 1, 0, 0, 1, 0, 0, 1, 0, 1, 1, 1, 1, 1, 0, 0, 1, 1, 0, 1, 0, 0, 1, 1, 1, 1, 0, 0, 1, 0, 0, 0, 1, 0, 0, 0, 1, 1, 0, 1, 1, 1, 0, 1, 1, 0, 0, 0, 0, 0, 1, 1, 0, 0, 0, 1, 1, 1, 0, 1, 1, 0, 0, 1, 1, 0, 0, 1, 1, 0, 1, 1, 1, 1, 1, 1, 1, 0, 0, 0, 0, 0, 0, 0, 0, 1, 0, 1, 1, 1, 0, 0, 0, 1, 1, 1, 1, 1, 0, 0, 0, 0, 1, 0, 1, 1, 0, 0, 1, 0, 0, 0, 0, 1, 1, 0, 1, 0, 0, 0, 0, 1, 1, 1, 1, 1, 1, 1, 1, 1, 0, 0, 0, 1, 0, 0, 1, 1, 0, 1, 1, 1, 1, 1, 1, 1, 1, 0, 0, 0, 1, 0, 1, 1, 0, 1, 0, 1, 0, 1, 0, 0, 0, 0, 0, 1, 1, 0, 0, 0, 0, 1, 1, 0, 0, 0, 0, 1, 1, 0, 1, 1, 0, 1, 0, 0, 0, 1, 1, 0, 1, 0, 1, 0, 1, 1, 1, 0, 1, 0, 0, 1, 1, 1, 1, 1, 0, 1, 0, 1, 1, 1, 1, 1, 1, 0, 0, 1, 0, 0, 1, 0, 1, 0, 1, 1, 0, 1, 1, 1, 0, 0, 1, 1, 1, 0, 1, 0, 1, 1, 0, 0, 0, 1, 1, 0, 1, 0, 1, 0, 0, 1, 0, 1, 0, 0, 1, 1, 1, 1, 0, 0, 1, 0, 1, 1, 0, 0, 1, 0, 0, 0, 0, 0, 1, 1, 0, 1, 1, 0, 1, 1, 0, 1, 0, 1, 1, 0, 0, 1, 1, 0, 1, 0, 0, 0, 0, 1, 0, 1, 0, 1, 0, 1, 1, 1, 0, 1, 0, 1, 0, 1, 0, 1, 1, 0, 1, 1, 1, 0, 1, 0, 0, 1, 0, 1, 1, 1, 0, 0, 0, 1, 0, 0, 0, 0, 0, 0, 1, 0, 1, 1, 1, 1, 0, 0, 1, 0, 0, 0, 1, 1, 0, 1, 1, 0, 0, 0, 0, 0, 0, 1, 0, 1, 0, 1, 1, 1, 1, 0, 0, 0, 0, 1, 1, 1, 1, 0, 1, 1, 1, 1, 0, 1, 0, 0, 1, 0, 1, 0, 1, 1, 1, 1, 0, 1, 1, 1, 0, 1, 0, 0, 1, 0, 0, 1, 1, 0, 1, 1, 0, 0, 0, 0, 0, 1, 0, 1, 1, 0, 1, 1, 1, 0, 1, 0, 0, 1, 1, 1, 0, 1, 1, 0, 1, 1, 0, 1, 0, 0, 0, 1, 1, 0, 0, 1, 1, 1, 1, 1, 0, 0, 0, 1, 0, 0, 0, 0, 0, 0, 0, 1, 1, 1, 0, 0, 0, 0, 1, 0, 0, 1, 0, 0, 0, 0, 1, 1, 1, 1, 0, 0, 0, 1, 1, 0, 0, 0, 1, 1, 1, 0, 0, 0, 0, 1, 0, 0, 1, 1, 1, 1, 1, 0, 0, 0, 0, 1, 1, 0, 0, 1, 1, 0, 1, 1, 0, 0, 0, 1, 0, 0, 1, 0, 1, 1, 1, 1, 0, 0, 0, 0, 0, 1, 1, 1, 1, 0, 0, 0, 1, 1, 1, 0, 1, 0, 1, 0, 0, 1, 0, 1, 0, 0, 0, 1, 1, 1, 0, 1, 1, 0, 0, 0, 0, 1, 1, 0, 0, 1, 0, 1, 0, 0, 1, 1, 1, 1, 1, 1, 1, 0, 0, 1, 1, 1, 0, 0, 1, 1, 1, 0, 0, 1, 1, 0, 0, 1, 0, 1, 1, 1, 0, 0, 1, 0, 0, 0, 1, 1, 0, 1, 1, 1, 1, 1, 0, 1, 1, 0, 0, 1, 1, 0, 0, 0, 1, 0, 0, 1, 0, 1, 1, 0, 0, 1, 0, 0, 1, 1, 1, 1, 0, 1, 0, 0, 1, 1, 0, 1, 1, 1, 1, 0, 0, 1, 0, 0, 1, 1, 0, 0, 0, 1, 1, 0, 1, 1, 0, 1, 1, 1, 1, 0, 0, 1, 1, 0, 1, 1, 1, 1, 1, 1, 0, 0, 0, 0, 1, 0, 1, 1, 0, 0, 0, 0, 0, 0, 1, 1, 0, 0, 1, 1, 1, 1, 0, 0, 1, 0, 0, 1, 0, 1, 0, 0, 1, 1, 0, 1, 1, 0, 0, 0, 1, 0, 0, 1, 1, 0, 1, 1, 1, 1, 1, 1, 1, 1, 0, 1, 0, 0, 1, 1, 0, 1, 0, 0, 1, 0, 0, 0, 0, 0, 0, 0, 1, 0, 1, 0, 0, 1, 0, 1, 0, 0, 1, 0, 0, 1, 1, 0, 1, 0, 1, 1, 1, 1, 1, 1, 1, 0, 1, 0, 1, 0, 1, 1, 1, 0, 0, 1, 1, 0, 1, 0, 0, 1, 1, 1, 0, 0, 0, 0, 0, 1, 1, 0, 1, 0, 0, 0, 0, 0, 0, 1, 0, 0, 0, 1, 0, 0, 1, 1, 0, 0, 1, 0, 1, 1, 0, 0, 0, 1, 0, 1, 1, 0, 1, 0, 1, 0, 1, 1, 1, 1, 0, 0, 1, 0, 1, 0, 1, 0, 0, 1, 1, 0, 0, 0, 1, 0, 1, 0, 0, 1, 1, 0, 0, 1, 1, 0, 1, 0, 0, 1, 1, 1, 1, 1, 0, 1, 0, 1, 1, 0, 1, 1, 1, 1, 0, 0, 0, 1, 1, 1, 0, 1, 1, 1, 0, 0, 0, 0, 1, 1, 1, 0, 0, 0, 0, 0, 1, 0, 0, 1, 1, 1, 1, 0, 1, 0, 0, 1, 1, 1, 1, 0, 0, 1, 1, 1, 1, 1, 0, 1, 0, 1, 0, 1, 1, 0, 1, 1, 0, 1, 1, 0, 0, 1, 0, 0, 0, 0, 1, 1, 0, 1, 1, 1, 0, 1, 0, 0, 1, 0, 1, 0, 0, 0, 0, 0, 1, 1, 0, 0, 1, 1, 0, 0, 1, 1, 1, 0, 0, 0, 0, 1, 0, 0, 1, 1, 1, 0, 0, 0, 1, 0, 1, 1, 1, 0, 0, 1, 0, 0, 1, 1, 1, 1, 1, 1, 0, 0, 0, 1, 1, 0, 0, 0, 1, 0, 0, 1, 1, 1, 1, 1, 0, 0, 1, 0, 1, 0, 0, 0, 0, 1, 1, 0, 1, 0, 1, 1, 0, 1, 0, 0, 0, 1, 1, 0, 0, 1, 1, 0, 1, 0, 0, 1, 0, 0, 0, 0, 1, 0, 0, 0, 1, 0, 0, 1, 1, 1, 1, 0, 1, 0, 0, 0, 1, 1, 0, 0, 0, 1, 0, 0, 1, 1, 0, 0, 0, 1, 0, 0, 0, 1, 1, 1, 1, 0, 0, 1, 0, 1, 0, 1, 1, 1, 1, 0, 1, 0, 0, 0, 0, 0, 1, 0, 0, 0, 0, 1, 0, 0, 0, 1, 1, 0, 1, 0, 1, 1, 1, 0, 0, 0, 1, 1, 0, 0, 0, 0, 1, 0, 0, 1, 0, 1, 0, 0, 1, 1, 1, 0, 0, 0, 0, 1, 0, 1, 1, 1, 0, 1, 0, 0, 0, 0, 0, 0, 0, 0, 1, 0, 1, 1, 0, 1, 0, 0, 1, 1, 0, 0, 1, 1, 1, 0, 1, 0, 0, 0, 0, 0, 1, 1, 0, 0, 1, 0, 1, 0, 0, 0, 0, 0, 1, 0, 1, 0, 0, 1, 1, 0, 1, 0, 0, 1, 1, 1, 0, 0, 0, 1, 0, 0, 1, 0, 0, 1, 0, 0, 1, 1, 0, 1, 1, 1, 0, 0, 0, 1, 0, 0, 0, 1, 1, 1, 0, 0, 0, 1, 1, 1, 0, 1, 0, 1, 0, 1, 1, 1, 0, 0, 0, 0, 0, 0, 1, 0, 0, 0, 0, 1, 1, 1, 1, 1, 0, 1, 0, 1, 1, 0, 1, 1, 0, 1, 1, 0, 0, 0, 1, 0, 0, 0, 0, 1, 0, 1, 0, 1, 0, 1, 1, 1, 0, 0, 0, 0, 0, 0, 0, 0, 1, 1, 1, 1, 1, 0, 1, 1, 0, 0, 1, 1, 1, 0, 0, 0, 1, 0, 0, 0, 0, 1, 1, 0, 1, 0, 1, 0, 1, 0, 1, 0, 1, 1, 0, 1, 0, 1, 0, 0, 0, 0, 1, 1, 0, 1, 0, 1, 1, 0, 0, 0, 0, 0, 1, 0, 0, 0, 0, 1, 0, 0, 0, 0, 1, 1, 1, 0, 0, 1, 0, 0, 0, 0, 1, 0, 1, 1, 0, 1, 0, 1, 0, 0, 1, 0, 1, 1, 0, 0, 0, 1, 0, 1, 0, 1, 0, 0, 0, 1, 0, 0, 0, 1, 1, 0, 1, 1, 0, 0, 1, 1, 0, 1, 1, 0, 0, 1, 1, 1, 0, 1, 1, 1, 1, 0, 0, 1, 0, 0, 1, 1, 0, 1, 1, 1, 1, 1, 0, 1, 0, 0, 1, 0, 1, 1, 1, 0, 0, 1, 0, 0, 0, 0, 0, 1, 1, 1, 1, 0, 1, 1, 0, 1, 0, 0, 0, 0, 0, 0, 0, 0, 0, 0, 1, 0, 1, 0, 0, 1, 0, 0, 0, 1, 1, 1, 0, 0, 1, 0, 0, 1, 0, 1, 1, 0, 1, 0, 1, 1, 0, 1, 1, 0, 1, 0, 1, 0, 1, 0, 0, 1, 0, 0, 1, 1, 0, 1, 0, 1, 1, 1, 0, 0, 1, 1, 1, 0, 0, 1, 1, 0, 0, 0, 0, 1, 0, 1, 0, 0, 0, 1, 0, 1, 1, 1, 0, 0, 1, 1, 1, 1, 0, 0, 0, 0, 1, 0, 1, 0, 0, 0, 1, 0, 1, 0, 1, 1, 0, 1, 0, 0, 0, 1, 1, 1, 1, 1, 1, 0, 1, 0, 1, 1, 0, 0, 1, 1, 1, 0, 1, 0, 0, 1, 1, 1, 1, 0, 0, 1, 1, 1, 1, 0, 1, 1, 0, 0, 1, 1, 0, 0, 0, 1, 1, 1, 1, 0, 0, 0, 1, 0, 1, 1, 1, 0, 1, 1, 1, 1, 0, 0, 0, 1, 0, 1, 0, 1, 1, 1, 1, 0, 1, 0, 1, 0, 1, 0, 0, 0, 0, 0, 0, 1, 0, 1, 0, 1, 0, 1, 0, 1, 0, 0, 0, 0, 0, 1, 1, 0, 1, 0, 0, 0, 0, 0, 1, 0, 1, 0, 0, 0, 0, 1, 1, 0, 1, 0, 1, 1, 1, 0, 1, 0, 0, 0, 1, 0, 0, 1, 1, 1, 0, 1, 1, 0, 1, 1, 1, 1, 1, 0, 1, 0, 0, 1, 0, 0, 1, 0, 1, 1, 0, 1, 1, 1, 0, 0, 0, 0, 1, 1, 0, 0, 1, 1, 0, 1, 0, 0, 1, 1, 0, 0, 0, 0, 0, 1, 0, 1, 1, 1, 1, 1, 0, 1, 0, 0, 1, 0, 0, 0, 0, 1, 0, 0, 1, 1, 0, 1, 0, 1, 1, 0, 0, 0, 0, 0, 0, 0, 0, 0, 0, 0, 1, 1, 0, 1, 1, 0, 1, 0, 1, 0, 0, 1, 0, 1, 0, 1, 1, 1, 0, 0, 1, 0, 0, 1, 0, 0, 0, 0, 0, 1, 0, 1, 1, 1, 1, 1, 1, 1, 0, 1, 0, 1, 0, 1, 1, 0, 1, 1, 0, 0, 0, 1, 0, 0, 1, 1, 1, 1, 0, 0, 0, 0, 0, 0, 0, 0, 1, 0, 0, 1, 0, 1, 1, 0, 0, 1, 0, 0, 1, 0, 0, 0, 0, 1, 1, 1, 1, 1, 1, 0, 0, 0, 1, 1, 0, 0, 1, 1, 0, 1, 0, 1, 0, 1, 0, 0, 1, 0, 1, 0, 1, 0, 0, 0, 1, 1, 0, 0, 0, 1, 1, 1, 0, 0, 0, 1, 0, 1, 0, 1, 1, 1, 1, 0, 1, 0, 1, 1, 0, 1, 1, 0, 0, 1, 1, 1, 1, 1, 0, 0, 0, 0, 0, 1, 0, 0, 0, 1, 1, 0, 0, 0, 1, 0, 1, 0, 0, 1, 1, 1, 0, 1, 0, 0, 0, 0, 1, 1, 1, 1, 0, 1, 0, 0, 1, 1, 0, 0, 0, 0, 0, 1, 1, 0, 0, 1, 0, 0, 1, 0, 0, 1, 1, 1, 1, 0, 0, 0, 1, 0, 1, 0, 0, 1, 0, 1, 0, 1, 1, 0, 1, 1, 1, 0, 0, 1, 0, 1, 1, 1, 1, 1, 0, 0, 1, 1, 0, 1, 0, 1, 1, 1, 1, 1, 1, 1, 0, 0, 1, 0, 1, 1, 0, 1, 1, 0, 0, 1, 1, 0, 1, 0, 1, 0, 1, 0, 0, 0, 0, 1, 0, 0, 1, 0, 0, 0, 0, 0, 1, 1, 0, 0, 1, 0, 0, 1, 0, 1, 0, 1, 1, 1, 0, 1, 1, 1, 1, 1, 0, 0, 0, 0, 0, 0, 1, 1, 0, 0, 1, 1, 0, 1, 0, 1, 1, 0, 1, 1, 1, 0, 0, 1, 0, 1, 1, 1, 0, 1, 0, 1, 1, 0, 1, 0, 0, 1, 0, 1, 1, 1, 1, 0, 0, 1, 0, 1, 1, 0, 1, 1, 0, 1, 1, 0, 1, 1, 0, 0, 0, 0, 0, 1, 0, 1, 1, 1, 0, 0, 0, 1, 0, 1, 1, 1, 0, 1, 0, 1, 0, 0, 0, 0, 1, 0, 1, 0, 1, 0, 1, 1, 0, 1, 0, 1, 0, 1, 0, 1, 0, 1, 0, 1, 0, 0, 0, 0, 0, 0, 1, 0, 1, 1, 0, 0, 1, 1, 0, 0, 0, 1, 1, 0, 1, 0, 1, 1, 1, 1, 1, 1, 0, 0, 1, 1, 1, 0, 0, 0, 0, 1, 0, 0, 1, 0, 0, 0, 1, 0, 1, 0, 1, 0, 1, 1, 1, 0, 0, 0, 0, 1, 1, 1, 1, 0, 1, 1, 0, 0, 1, 0, 1, 0, 0, 0, 0, 1, 1, 1, 1, 0, 1, 0, 1, 0, 1, 1, 1, 1, 1, 1, 1, 1, 0, 0, 0, 0, 0, 0, 1, 1, 0, 1, 1, 0, 0, 0, 0, 1, 0, 0, 1, 1, 1, 0, 0, 1, 1, 1, 1, 0, 1, 1, 1, 0, 1, 0, 0, 0, 0, 1, 0, 1, 0, 0, 1, 1, 0, 1, 0, 0, 1, 0, 1, 0, 1, 1, 1, 1, 0, 1, 0, 1, 1, 1, 1, 1, 1, 1, 1, 0, 0, 1, 1, 0, 0, 1, 1, 0, 0, 0, 0, 1, 0, 0, 1, 1, 1, 1, 1, 1, 1, 1, 0, 1, 1, 0, 0, 1, 0, 0, 1, 1, 0, 1, 1, 1, 0, 0, 0, 0, 0, 0, 1, 1, 0, 0, 0, 0, 1, 0, 1, 0, 1, 1, 1, 0, 1, 0, 1, 1, 1, 1, 0, 1, 1, 1, 0, 1, 0, 1, 1, 0, 0, 1, 1, 0, 0, 0, 1, 1, 0, 0, 1, 0, 1, 1, 1, 1, 0, 1, 0, 0, 1, 0, 0, 1, 0, 0, 0, 0, 1, 0, 0, 0, 0, 0, 1, 0, 1, 1, 0, 1, 1, 1, 1, 1, 0, 1, 0, 0, 1, 0, 0, 0, 0, 1, 1, 1, 0, 0, 1, 1, 1, 0, 0, 0, 1, 1, 1, 1, 1, 1, 0, 0, 1, 1, 0, 0, 1, 1, 1, 0, 0, 1, 1, 0, 1, 0, 0, 0, 1, 1, 0, 0, 1, 0, 1, 1, 0, 1, 1, 0, 0, 1, 0, 1, 1, 1, 0, 1, 0, 1, 1, 0, 1, 0, 1, 0, 1, 0, 0, 0, 1, 1, 0, 1, 1, 0, 0, 1, 1, 1, 1, 1, 1, 1, 1, 0, 0, 1, 1, 1, 1, 1, 1, 1, 0, 0, 0, 1, 1, 0, 0, 0, 0, 0, 1, 1, 1, 0, 1, 0, 0, 1, 1, 0, 0, 0, 1, 1, 1, 0, 1, 0, 0, 1, 1, 0, 0, 0, 1, 1, 1, 1, 0, 0, 1, 0, 0, 1, 0, 1, 0, 1, 1, 0, 1, 1, 0, 1, 1, 0, 0, 0, 0, 0, 0, 0, 1, 0, 0, 1, 1, 1, 1, 0, 1, 1, 0, 1, 1, 0, 0, 1, 0, 1, 0, 1, 1, 1, 0, 1, 0, 1, 0, 1, 0, 0, 0, 1, 0, 1, 1, 0, 0, 0, 0, 0, 1, 0, 1, 1, 0, 1, 1, 1, 0, 1, 0, 0, 1, 1, 0, 0, 0, 0, 1, 1, 1, 1, 1, 1, 0, 1, 0, 0, 0, 0, 0, 0, 1, 0, 0, 1, 0, 0, 0, 0, 0, 1, 0, 0, 1, 1, 1, 0, 1, 0, 1, 0, 0, 0, 1, 1, 0, 0, 1, 0, 0, 1, 0, 1, 1, 0, 0, 0, 1, 0, 1, 0, 0, 0, 1, 0, 1, 0, 0, 1, 1, 0, 0, 1, 1, 1, 1, 0, 0, 1, 1, 0, 1, 1, 1, 1, 0, 1, 0, 0, 1, 0, 0, 1, 0, 0, 1, 0, 1, 0, 0, 0, 0, 1, 0, 0, 1, 1, 1, 0, 0, 1, 1, 0, 0, 0, 0, 0, 1, 1, 1, 0, 0, 1, 0, 0, 0, 0, 0, 1, 0, 1, 0, 0, 1, 1, 0, 1, 0, 1, 1, 0, 0, 0, 0, 1, 1, 0, 1, 1, 0, 0, 1, 1, 0, 0, 0, 0, 1, 1, 1, 1, 1, 1, 1, 1, 0, 0, 1, 1, 0, 1, 1, 0, 1, 1, 0, 1, 0, 1, 0, 1, 1, 0, 0, 1, 1, 1, 1, 1, 1, 1, 1, 0, 1, 0, 0, 0, 1, 0, 0, 1, 1, 0, 0, 0, 0, 0, 0, 1, 1, 1, 1, 0, 1, 0, 0, 1, 1, 0, 1, 1, 0, 0, 0, 1, 0, 0, 1, 1, 0, 0, 1, 0, 1, 0, 1, 0, 0, 0, 1, 0, 1, 1, 1, 1, 0, 0, 0, 0, 1, 0, 0, 1, 1, 0, 0, 1, 1, 0, 0, 1, 1, 0, 0, 1, 1, 0, 0, 0, 0, 0, 1, 1, 1, 0, 0, 1, 1, 0, 1, 0, 0, 0, 0, 1, 0, 0, 1, 0, 1, 1, 0, 1, 0, 0, 0, 0, 1, 0, 0, 1, 1, 0, 0, 1, 0, 1, 1, 0, 0, 0, 1, 0, 0, 0, 1, 1, 1, 0, 0, 0, 0, 0, 0, 1, 0, 1, 0, 0, 0, 0, 0, 0, 1, 0, 0, 1, 0, 1, 1, 0, 0, 1, 1, 0, 1, 1, 0, 1, 0, 0, 1, 1, 0, 0, 1, 0, 0, 1, 0, 0, 0, 1, 1, 1, 1, 0, 1, 0, 0, 1, 1, 0, 0, 0, 0, 1, 1, 1, 0, 1, 1, 1, 0, 0, 1, 1, 0, 1, 1, 1, 1, 1, 0, 0, 1, 1, 0, 1, 1, 0, 0, 0, 1, 0, 1, 0, 0, 0, 1, 0, 1, 1, 1, 0, 0, 1, 0, 1, 1, 1, 1, 0, 0, 0, 1, 1, 1, 0, 1, 1, 1, 1, 1, 0, 0, 0, 0, 1, 0, 1, 0, 0, 1, 1, 0, 0, 0, 0, 1, 1, 1, 0, 1, 1, 0, 0, 1, 0, 1, 0, 0, 0, 0, 1, 0, 0, 1, 1, 0, 0, 0, 1, 1, 0, 0, 0, 0, 1, 1, 0, 1, 1, 1, 0, 0, 1, 0, 1, 0, 0, 0, 1, 0, 1, 1, 1, 0, 1, 1, 1, 0, 0, 1, 1, 1, 0, 0, 0, 0, 0, 1, 0, 1, 0, 0, 1, 0, 0, 0, 0, 0, 0, 0, 0, 0, 1, 1, 0, 1, 1, 0, 1, 1, 0, 1, 0, 1, 1, 1, 1, 0, 0, 0, 1, 1, 0, 1, 0, 0, 1, 0, 0, 1, 1, 0, 0, 1, 1, 1, 1, 0, 0, 1, 0, 1, 0, 1, 0, 0, 1, 0, 1, 1, 1, 0, 1, 1, 1, 0, 1, 1, 1, 0, 0, 1, 1, 0, 0, 0, 0, 1, 0, 0, 0, 0, 0, 1, 1, 0, 0, 1, 1, 0, 0, 1, 1, 1, 0, 1, 0, 1, 1, 1, 1, 1, 0, 1, 0, 0, 0, 0, 1, 0, 1, 0, 1, 1, 0, 0, 1, 1, 1, 0, 1, 1, 0, 0, 0, 1, 1, 1, 1, 1, 1, 0, 1, 1, 0, 0, 0, 0, 1, 0, 0, 1, 0, 0, 0, 0, 0, 0, 1, 0, 1, 1, 1, 0, 1, 0, 0, 1, 1, 1, 0, 0, 0, 1, 1, 1, 1, 1, 1, 0, 1, 1, 0, 0, 0, 1, 0, 1, 0, 1, 1, 1, 0, 1, 0, 1, 0, 1, 1, 0, 0, 1, 0, 0, 0, 1, 0, 0, 0, 0, 0, 0, 0, 0, 0, 1, 1, 0, 1, 0, 1, 0, 0, 0, 0, 1, 0, 0, 0, 1, 0, 1, 1, 1, 1, 0, 1, 1, 1, 0, 0, 0, 0, 1, 0, 0, 0, 1, 0, 0, 0, 0, 1, 0, 0, 0, 0, 0, 0, 0, 0, 0, 1, 0, 1, 1, 0, 1, 0, 1, 0, 0, 0, 0, 1, 1, 1, 0, 1, 1, 1, 0, 0, 0, 0, 0, 0, 0, 1, 0, 0, 0, 0, 1, 0, 0, 1, 1, 0, 0, 1, 0, 0, 1, 0, 1, 1, 0, 1, 1, 1, 0, 1, 1, 0, 0, 0, 0, 0, 1, 1, 1, 0, 0, 0, 1, 1, 1, 1, 0, 0, 0, 0, 1, 1, 1, 0, 0, 0, 0, 0, 0, 1, 0, 0, 0, 1, 0, 1, 1, 0, 0, 0, 1, 1, 0, 1, 1, 1, 0, 1, 0, 0, 1, 0, 0, 1, 0, 0, 0, 1, 1, 0, 1, 0, 0, 0, 0, 0, 1, 0, 1, 1, 0, 1, 0, 0, 0, 1, 1, 0, 1, 0, 1, 1, 0, 1, 1, 1, 0, 1, 0, 0, 0, 0, 0, 1, 0, 0, 1, 1, 1, 1, 0, 1, 1, 0, 1, 0, 1, 1, 0, 1, 0, 0, 0, 1, 0, 0, 1, 0, 1, 1, 1, 0, 0, 1, 1, 1, 1, 1, 0, 1, 0, 0, 1, 0, 1, 1, 1, 1, 0, 1, 0, 1, 1, 1, 0, 0, 0, 1, 0, 1, 1, 0, 0, 0, 0, 0, 1, 1, 0, 0, 0, 0, 1, 1, 1, 1, 1, 1, 0, 1, 0, 0, 0, 0, 0, 1, 0, 1, 1, 0, 1, 1, 1, 1, 0, 0, 0, 1, 1, 1, 1, 1, 0, 0, 0, 1, 1, 1, 1, 1, 0, 0, 0, 0, 0, 1, 1, 0, 0, 0, 0, 0, 1, 0, 0, 1, 1, 1, 1, 1, 1, 0, 1, 0, 0, 0, 0, 0, 0, 0, 0, 1, 0, 0, 0, 1, 1, 0, 1, 1, 1, 0, 1, 1, 0, 1, 0, 0, 1, 0, 1, 0, 0, 1, 0, 0, 0, 1, 0, 0, 0, 1, 0, 0, 1, 1, 0, 1, 1, 1, 0, 1, 1, 0, 0, 1, 1, 0, 0, 1, 1, 0, 1, 0, 0, 0, 0, 0, 0, 1, 0, 0, 1, 0, 0, 1, 0, 0, 1, 0, 0, 1, 0, 1, 1, 1, 1, 0, 1, 1, 0, 1, 0, 1, 0, 1, 0, 0, 0, 0, 0, 0, 0, 0, 1, 0, 1, 1, 0, 0, 0, 1, 1, 1, 1, 1, 1, 0, 1, 1, 0, 0, 0, 0, 0, 1, 0, 1, 0, 0, 0, 0, 1, 1, 0, 0, 1, 1, 0, 1, 1, 1, 0, 1, 0, 0, 0, 1, 1, 1, 1, 0, 0, 1, 0, 0, 1, 0, 1, 0, 1, 0, 1, 0, 0, 1, 1, 1, 1, 1, 1, 1, 0, 1, 0, 1, 1, 0, 0, 0, 1, 1, 1, 0, 1, 0, 1, 0, 1, 0, 1, 1, 1, 0, 0, 0, 1, 0, 0, 1, 0, 0, 0, 1, 1, 1, 1, 1, 0, 1, 1, 0, 1, 1, 0, 0, 1, 1, 1, 0, 1, 0, 0, 0, 0, 1, 0, 1, 1, 1, 0, 0, 1, 1, 0, 1, 0, 1, 1, 1, 0, 1, 0, 1, 0, 1, 0, 0, 1, 1, 0, 1, 1, 0, 0, 0, 0, 1, 0, 0, 0, 1, 0, 1, 0, 1, 0, 0, 1, 0, 0, 0, 1, 1, 1, 0, 1, 0, 0, 0, 0, 1, 1, 1, 1, 0, 1, 0, 0, 1, 0, 0, 0, 1, 0, 0, 1, 1, 1, 0, 0, 1, 1, 0, 0, 0, 0, 1, 1, 1, 1, 0, 0, 0, 0, 0, 0, 1, 1, 0, 1, 1, 0, 0, 0, 1, 1, 0, 1, 1, 1, 0, 1, 1, 0, 1, 1, 0, 1, 1, 0, 1, 0, 0, 1, 0, 1, 1, 1, 1, 1, 0, 0, 1, 1, 0, 1, 1, 0, 1, 1, 1, 1, 1, 0, 0, 1, 1, 1, 1, 1, 1, 1, 0, 1, 1, 0, 0, 1, 1, 1, 1, 1, 1, 0, 0, 0, 1, 0, 1, 1, 1, 0, 0, 0, 0, 1, 1, 0, 0, 0, 0, 1, 1, 0, 1, 0, 0, 0, 1, 0, 0, 1, 1, 1, 0, 0, 1, 1, 1, 0, 0, 1, 1, 0, 0, 1, 0, 1, 1, 1, 1, 1, 0, 1, 1, 0, 0, 1, 0, 1, 0, 0, 1, 1, 1, 1, 1, 0, 1, 0, 1, 1, 1, 0, 0, 1, 0, 1, 0, 0, 0, 0, 1, 0, 1, 0, 0, 1, 0, 1, 0, 1, 0, 0, 0, 1, 1, 0, 0, 1, 1, 1, 0, 0, 1, 1, 0, 1, 0, 0, 1, 1, 0, 0, 0, 1, 1, 0, 0, 1, 0, 0, 1, 0, 0, 1, 1, 1, 1, 1, 1, 0, 0, 1, 0, 0, 1, 1, 1, 1, 1, 1, 0, 0, 1, 1, 0, 0, 1, 1, 0, 1, 1, 1, 1, 1, 0, 1, 0, 0, 0, 0, 1, 1, 0, 1, 0, 0, 1, 1, 1, 1, 1, 1, 0, 0, 1, 1, 1, 1, 0, 1, 1, 1, 0, 0, 1, 1, 0, 0, 1, 0, 0, 1, 0, 0, 0, 1, 0, 1, 0, 1, 1, 1, 1, 0, 1, 1, 0, 1, 0, 0, 0, 0, 0, 0, 1, 0, 1, 0, 0, 0, 0, 0, 0, 1, 1, 1, 0, 1, 1, 1, 0, 0, 0, 0, 0, 1, 1, 1, 1, 1, 0, 0, 1, 0, 0, 0, 0, 0, 1, 1, 0, 1, 1, 1, 1, 0, 0, 0, 1, 0, 1, 0, 0, 0, 1, 1, 0, 1, 0, 1, 1, 1, 1, 1, 1, 1, 1, 1, 1, 0, 0, 0, 1, 1, 1, 1, 0, 0, 0, 0, 1, 0, 0, 1, 1, 1, 0, 1, 1, 1, 0, 1, 1, 0, 0, 1, 1, 1, 1, 1, 1, 0, 0, 0, 0, 1, 1, 1, 0, 0, 1, 1, 0, 1, 1, 1, 1, 0, 0, 1, 0, 0, 0, 1, 1, 1, 1, 0, 0, 1, 0, 0, 0, 1, 1, 0, 0, 0, 1, 0, 1, 0, 0, 1, 0, 1, 0, 0, 1, 0, 0, 1, 0, 0, 0, 1, 0, 0, 0, 1, 0, 0, 1, 1, 1, 1, 1, 1, 1, 0, 1, 1, 0, 0, 0, 1, 1, 1, 1, 1, 1, 0, 0, 1, 1, 1, 1, 1, 0, 0, 0, 0, 0, 1, 1, 1, 0, 0, 0, 1, 0, 0, 0, 0, 1, 0, 0, 0, 1, 0, 0, 1, 0, 0, 0, 0, 0, 0, 0, 0, 0, 1, 0, 1, 0, 0, 1, 0, 0, 0, 1, 1, 0, 1, 0, 0, 0, 1, 1, 1, 0, 1, 1, 0, 0, 1, 1, 1, 1, 0, 0, 1, 1, 0, 1, 0, 1, 1, 1, 0, 1, 0, 1, 1, 1, 0, 1, 1, 1, 1, 1, 0, 0, 1, 0, 0, 1, 1, 0, 1, 1, 0, 1, 1, 1, 1, 0, 1, 1, 1, 0, 0, 1, 1, 1, 1, 0, 1, 0, 0, 1, 0, 0, 0, 0, 0, 1, 1, 0, 1, 1, 0, 1, 1, 0, 1, 1, 1, 0, 0, 0, 1, 1, 0, 0, 0, 1, 1, 0, 1, 0, 0, 1, 1, 1, 1, 1, 0, 1, 0, 0, 1, 0, 1, 0, 0, 0, 0, 1, 0, 1, 1, 1, 1, 0, 0, 1, 0, 1, 0, 1, 0, 1, 0, 1, 0, 0, 1, 1, 1, 1, 0, 1, 1, 0, 1, 0, 1, 0, 1, 1, 1, 1, 0, 0, 0, 1, 1, 1, 0, 0, 0, 1, 0, 0, 1, 0, 0, 0, 0, 0, 0, 0, 1, 1, 0, 0, 1, 0, 0, 1, 0, 0, 1, 1, 0, 0, 0, 0, 1, 1, 1, 1, 0, 0, 0, 1, 0, 1, 1, 0, 0, 1, 1, 1, 0, 0, 0, 0, 1, 1, 0, 0, 1, 1, 1, 1, 0, 1, 1, 0, 0, 1, 1, 1, 1, 1, 1, 1, 0, 1, 1, 0, 0, 1, 1, 1, 1, 0, 1, 1, 1, 0, 0, 0, 1, 0, 0, 0, 0, 0, 1, 0, 1, 1, 0, 1, 0, 1, 0, 0, 1, 1, 0, 0, 0, 0, 0, 1, 1, 0, 0, 1, 0, 0, 0, 0, 0, 0, 0, 0, 1, 1, 0, 1, 0, 0, 0, 1, 1, 0, 0, 1, 1, 0, 1, 0, 0, 1, 0, 1, 0, 0, 1, 0, 1, 0, 1, 1, 0, 0, 1, 1, 1, 1, 0, 0, 1, 1, 1, 0, 1, 1, 1, 0, 0, 1, 0, 1, 0, 1, 1, 0, 1, 0, 1, 1, 0, 1, 0, 1, 0, 1, 1, 0, 1, 1, 0, 0, 0, 0, 1, 1, 1, 0, 0, 0, 0, 1, 1, 1, 0, 0, 1, 0, 0, 0, 1, 1, 0, 1, 1, 1, 0, 0, 1, 1, 0, 0, 1, 1, 0, 1, 0, 0, 1, 0, 0, 0, 1, 1, 1, 1, 0, 1, 0, 1, 1, 0, 0, 1, 1, 1, 1, 0, 0, 1, 0, 1, 1, 1, 0, 0, 0, 0, 0, 1, 1, 0, 1, 1, 0, 1, 0, 0, 1, 1, 0, 0, 0, 1, 0, 1, 0, 1, 0, 0, 1, 1, 1, 0, 1, 1, 1, 1, 0, 1, 1, 1, 0, 0, 1, 1, 0, 0, 0, 1, 1, 0, 0, 0, 1, 0, 0, 0, 1, 0, 0, 0, 0, 0, 1, 0, 0, 0, 1, 0, 1, 0, 1, 1, 0, 1, 1, 0, 0, 1, 1, 0, 0, 1, 1, 0, 0, 1, 1, 0, 0, 0, 1, 0, 1, 1, 1, 0, 1, 1, 0, 0, 0, 1, 0, 0, 1, 1, 0, 0, 0, 1, 0, 1, 0, 1, 1, 0, 0, 0, 0, 0, 0, 1, 1, 1, 1, 0, 1, 0, 1, 1, 1, 1, 0, 1, 0, 0, 0, 1, 0, 0, 0, 1, 1, 0, 1, 1, 0, 0, 1, 0, 0, 1, 0, 0, 0, 0, 1, 1, 1, 1, 1, 0, 0, 0, 0, 1, 1, 1, 1, 1, 0, 1, 0, 0, 1, 1, 1, 0, 0, 1, 1, 1, 1, 0, 0, 0, 0, 1, 0, 0, 1, 1, 1, 0, 0, 0, 0, 0, 0, 0, 0, 1, 1, 1, 1, 0, 0, 0, 1, 0, 1, 1, 0, 1, 1, 0, 1, 0, 0, 0, 1, 0, 0, 0, 0, 1, 0, 0, 0, 0, 0, 0, 1, 0, 0, 1, 1, 0, 0, 0, 0, 0, 0, 1, 0, 1, 1, 1, 1, 1, 0, 1, 0, 0, 1, 1, 1, 1, 0, 1, 0, 1, 1, 0, 1, 1, 0, 1, 0, 0, 0, 1, 1, 1, 1, 0, 1, 1, 0, 0, 0, 0, 0, 1, 1, 0, 0, 0, 1, 1, 0, 1, 0, 0, 1, 0, 0, 1, 0, 1, 0, 1, 1, 1, 0, 1, 1, 0, 0, 0, 1, 0, 0, 0, 1, 0, 0, 0, 1, 1, 0, 1, 0, 0, 1, 1, 1, 1, 1, 1, 1, 1, 0, 1, 1, 1, 0, 1, 0, 0, 0, 0, 0, 0, 1, 1, 0, 1, 1, 1, 0, 1, 0, 0, 0, 1, 0, 0, 0, 1, 1, 1, 1, 0, 1, 1, 0, 0, 1, 1, 1, 0, 1, 0, 1, 1, 0, 0, 1, 0, 0, 1, 0, 0, 1, 0, 1, 1, 0, 0, 1, 0, 1, 0, 1, 0, 0, 0, 1, 0, 0, 0, 0, 0, 1, 0, 0, 0, 1, 1, 1, 1, 1, 0, 0, 1, 1, 1, 1, 0, 0, 1, 1, 0, 0, 0, 1, 0, 1, 0, 1, 1, 1, 1, 0, 0, 0, 0, 1, 0, 1, 0, 0, 0, 1, 0, 0, 0, 1, 0, 0, 0, 1, 1, 1, 1, 1, 0, 1, 0, 1, 1, 1, 0, 1, 0, 1, 0, 1, 1, 0, 0, 1, 0, 0, 0, 1, 1, 0, 0, 0, 1, 0, 0, 1, 1, 1, 0, 1, 1, 1, 0, 0, 1, 0, 0, 1, 1, 1, 0, 1, 0, 1, 0, 0, 0, 1, 0, 0, 1, 0, 0, 0, 0, 0, 0, 0, 1, 0, 0, 0, 0, 1, 0, 1, 1, 1, 0, 0, 0, 0, 0, 1, 1, 0, 0, 0, 0, 0, 1, 0, 0, 1, 1, 0, 0, 0, 0, 0, 0, 0, 1, 0, 1, 0, 0, 1, 0, 0, 0, 1, 0, 0, 1, 1, 1, 1, 0, 0, 1, 1, 1, 1, 1, 0, 0, 1, 0, 0, 0, 0, 1, 0, 0, 0, 1, 0, 1, 0, 1, 0, 0, 1, 1, 0, 1, 1, 1, 0, 0, 1, 1, 1, 1, 1, 0, 1, 0, 0, 0, 1, 1, 1, 1, 1, 0, 1, 0, 0, 0, 0, 1, 1, 1, 1, 0, 1, 1, 0, 1, 1, 0, 0, 0, 1, 1, 1, 0, 0, 0, 0, 0, 0, 0, 1, 0, 0, 1, 0, 1, 0, 1, 0, 1, 0, 1, 0, 0, 1, 1, 1, 0, 1, 0, 1, 0, 0, 1, 1, 1, 1, 0, 0, 1, 0, 0, 0, 0, 1, 0, 0, 1, 1, 1, 1, 0, 0, 0, 0, 0, 0, 0, 0, 1, 0, 0, 0, 1, 0, 1, 1, 0, 0, 1, 0, 0, 0, 0, 0, 0, 1, 1, 1, 1, 0, 0, 0, 1, 0, 0, 1, 0, 1, 1, 1, 1, 0, 1, 1, 0, 1, 0, 1, 1, 1, 0, 0, 1, 0, 1, 0, 1, 0, 1, 0, 1, 0, 0, 1, 1, 1, 1, 1, 1, 1, 0, 1, 0, 1, 1, 0, 1, 1, 1, 0, 1, 1, 0, 0, 0, 0, 0, 0, 1, 0, 1, 0, 0, 0, 1, 0, 0, 1, 0, 1, 1, 1, 1, 0, 1, 1, 1, 1, 0, 0, 0, 1, 1, 0, 0, 0, 0, 1, 1, 1, 1, 1, 0, 0, 1, 0, 1, 0, 1, 1, 1, 0, 1, 0, 1, 0, 1, 0, 1, 1, 0, 0, 0, 0, 1, 0, 1, 0, 0, 1, 0, 1, 1, 0, 0, 0, 1, 1, 0, 1, 0, 0, 0, 0, 0, 0, 0, 1, 1, 1, 0, 0, 1, 0, 1, 0, 0, 0, 0, 1, 1, 1, 1, 1, 1, 1, 0, 0, 1, 0, 0, 1, 0, 0, 1, 1, 0, 0, 0, 1, 0, 1, 1, 0, 0, 0, 0, 0, 1, 1, 1, 1, 1, 0, 1, 1, 0, 1, 0, 1, 0, 1, 1, 1, 1, 0, 0, 1, 1, 0, 0, 0, 0, 0, 1, 1, 1, 0, 1, 0, 0, 1, 1, 1, 0, 0, 1, 0, 0, 0, 1, 0, 1, 0, 1, 1, 0, 0, 1, 1, 0, 0, 0, 0, 1, 1, 1, 1, 1, 1, 1, 1, 1, 0, 0, 0, 1, 1, 1, 0, 0, 0, 1, 0, 1, 1, 1, 1, 1, 1, 0, 1, 1, 1, 0, 1, 0, 1, 1, 0, 1, 0, 1, 1, 1, 1, 0, 0, 1, 0, 0, 1, 1, 0, 1, 1, 0, 0, 1, 1, 0, 1, 0, 1, 1, 0, 0, 0, 0, 1, 0, 0, 0, 0, 0, 0, 0, 0, 1, 0, 0, 1, 1, 0, 0, 1, 0, 0, 0, 0, 1, 0, 0, 1, 1, 1, 0, 0, 1, 0, 1, 0, 1, 0, 0, 1, 1, 1, 0, 0, 1, 1, 0, 1, 1, 1, 1, 1, 1, 1, 0, 1, 0, 1, 0, 1, 0, 0, 1, 1, 1, 1, 1, 1, 1, 1, 1, 1, 0, 1, 0, 0, 1, 1, 0, 0, 0, 0, 0, 0, 0, 0, 1, 0, 1, 0, 0, 0, 0, 1, 1, 1, 0, 0, 0, 1, 1, 1, 0, 0, 0, 1, 0, 0, 0, 1, 0, 0, 1, 1, 0, 0, 0, 1, 0, 0, 1, 0, 0, 0, 1, 0, 0, 0, 1, 1, 0, 0, 0, 1, 0, 1, 0, 1, 1, 0, 1, 1, 0, 0, 1, 0, 0, 0, 0, 1, 1, 0, 1, 0, 0, 1, 0, 0, 1, 1, 1, 1, 1, 1, 0, 1, 0, 0, 1, 0, 0, 0, 0, 1, 0, 1, 1, 0, 0, 1, 0, 1, 0, 0, 0, 1, 0, 0, 1, 0, 0, 0, 0, 0, 0, 1, 0, 1, 0, 1, 1, 0, 0, 0, 1, 1, 1, 1, 0, 0, 1, 0, 1, 1, 0, 0, 1, 0, 0, 1, 0, 1, 0, 1, 1, 1, 0, 1, 1, 0, 0, 0, 0, 0, 1, 0, 1, 0, 0, 0, 0, 0, 0, 0, 0, 1, 1, 1, 0, 0, 1, 1, 1, 1, 0, 1, 0, 1, 1, 0, 0, 0, 1, 0, 0, 0, 0, 0, 1, 1, 1, 1, 1, 1, 0, 1, 0, 0, 1, 1, 0, 1, 0, 0, 1, 1, 0, 0, 1, 1, 0, 0, 1, 1, 1, 0, 0, 0, 0, 0, 1, 0, 0, 0, 0, 1, 0, 0, 0, 0, 0, 0, 1, 1, 0, 0, 1, 1, 0, 1, 0, 0, 0, 0, 1, 1, 0, 1, 0, 1, 0, 1, 0, 1, 0, 1, 1, 1, 1, 0, 0, 1, 0, 0, 1, 1, 1, 0, 0, 0, 0, 0, 1, 0, 1, 0, 0, 1, 0, 1, 1, 1, 1, 1, 0, 0, 0, 1, 0, 1, 1, 1, 0, 0, 1, 0, 1, 0, 0, 1, 0, 0, 0, 1, 0, 1, 1, 1, 0, 0, 1, 1, 0, 1, 0, 0, 0, 0, 0, 1, 0, 0, 0, 0, 0, 0, 1, 0, 0, 1, 1, 0, 0, 0, 0, 0, 1, 1, 0, 0, 1, 0, 1, 0, 0, 0, 0, 0, 0, 0, 0, 0, 1, 0, 1, 1, 0, 0, 1, 0, 0, 0, 1, 1, 0, 1, 0, 1, 0, 0, 1, 1, 0, 0, 1, 1, 0, 1, 0, 0, 0, 0, 1, 1, 1, 1, 1, 0, 0, 1, 0, 1, 0, 1, 0, 1, 1, 1, 0, 0, 0, 1, 0, 0, 1, 0, 0, 1, 0, 0, 1, 0, 1, 0, 1, 1, 0, 0, 0, 1, 0, 0, 0, 0, 1, 0, 0, 0, 1, 0, 1, 0, 1, 1, 1, 0, 1, 0, 1, 0, 0, 0, 0, 1, 0, 1, 1, 0, 0, 1, 0, 0, 1, 1, 0, 1, 0, 0, 0, 1, 0, 1, 1, 0, 0, 1, 0, 1, 0, 1, 1, 0, 1, 1, 1, 1, 1, 1, 1, 1, 0, 0, 0, 0, 0, 0, 1, 0, 0, 1, 0, 1, 1, 1, 0, 1, 1, 0, 1, 0, 1, 1, 1, 0, 1, 1, 0, 1, 0, 0, 1, 1, 0, 1, 0, 1, 0, 0, 0, 0, 1, 1, 0, 1, 0, 1, 0, 1, 0, 0, 1, 0, 1, 1, 1, 0, 1, 0, 0, 0, 0, 1, 1, 1, 1, 1, 1, 0, 0, 0, 1, 0, 0, 0, 0, 0, 1, 1, 0, 0, 1, 0, 0, 1, 1, 1, 0, 0, 1, 0, 1, 0, 0, 0, 0, 1, 0, 1, 1, 0, 0, 1, 0, 1, 0, 1, 0, 0, 1, 0, 0, 1, 1, 0, 0, 1, 1, 0, 0, 1, 0, 1, 1, 0, 0, 1, 1, 0, 1, 1, 1, 0, 0, 0, 0, 1, 1, 0, 0, 1, 0, 1, 1, 1, 1, 1, 0, 0, 0, 1, 1, 0, 1, 0, 0, 0, 0, 1, 1, 1, 0, 1, 0, 1, 0, 0, 0, 0, 1, 1, 0, 0, 1, 0, 0, 1, 1, 1, 1, 0, 1, 0, 1, 0, 1, 1, 0, 1, 1, 1, 0, 0, 0, 1, 0, 0, 1, 0, 1, 1, 0, 1, 1, 0, 1, 0, 1, 1, 0, 1, 1, 1, 0, 1, 0, 0, 1, 0, 1, 1, 1, 1, 1, 0, 1, 1, 0, 0, 0, 1, 1, 1, 0, 0, 1, 0, 1, 0, 0, 1, 0, 1, 1, 1, 0, 0, 1, 0, 1, 1, 0, 0, 1, 1, 0, 0, 0, 0, 1, 0, 1, 0, 1, 0, 1, 1, 1, 0, 0, 0, 0, 0, 0, 0, 1, 1, 0, 0, 0, 0, 1, 1, 0, 1, 0, 1, 0, 0, 0, 0, 1, 1, 1, 1, 1, 0, 0, 1, 1, 1, 1, 1, 0, 1, 0, 0, 0, 0, 1, 0, 1, 0, 0, 0, 0, 1, 0, 1, 1, 1, 1, 1, 1, 1, 1, 0, 0, 0, 0, 0, 0, 1, 1, 1, 1, 0, 0, 1, 1, 1, 1, 0, 0, 1, 1, 0, 0, 1, 1, 1, 0, 0, 1, 0, 1, 0, 1, 1, 0, 1, 0, 0, 0, 0, 0, 1, 1, 0, 0, 1, 0, 1, 1, 1, 0, 0, 0, 0, 1, 1, 0, 1, 1, 1, 0, 0, 0, 0, 0, 1, 1, 0, 1, 1, 0, 0, 1, 1, 1, 1, 1, 1, 1, 0, 1, 1, 0, 1, 0, 0, 1, 1, 0, 1, 1, 1, 0, 1, 0, 0, 0, 0, 0, 1, 0, 0, 0, 1, 0, 0, 1, 0, 0, 1, 1, 1, 1, 1, 0, 0, 1, 1, 1, 1, 0, 0, 0, 0, 1, 1, 1, 1, 0, 1, 0, 1, 0, 1, 0, 1, 0, 1, 0, 0, 1, 0, 0, 1, 1, 0, 0, 1, 0, 0, 1, 0, 1, 0, 0, 0, 1, 1, 1, 1, 0, 1, 0, 0, 1, 1, 1, 0, 1, 0, 0, 1, 0, 1, 1, 0, 0, 0, 0, 0, 1, 1, 1, 0, 1, 1, 1, 0, 0, 0, 0, 1, 1, 0, 1, 1, 1, 1, 1, 1, 1, 1, 1, 0, 0, 1, 0, 0, 0, 1, 1, 0, 1, 1, 1, 0, 0, 0, 1, 0, 0, 1, 1, 0, 0, 1, 1, 1, 1, 1, 0, 1, 1, 0, 1, 1, 0, 1, 0, 1, 0, 0, 0, 1, 1, 1, 1, 1, 1, 0, 1, 1, 0, 1, 1, 0, 1, 0, 0, 1, 1, 0, 0, 1, 0, 0, 0, 0, 0, 0, 1, 1, 0, 1, 1, 0, 1, 1, 1, 1, 1, 1, 0, 1, 0, 0, 0, 1, 1, 1, 0, 0, 0, 1, 0, 1, 1, 0, 1, 0, 1, 0, 0, 1, 1, 1, 1, 1, 1, 0, 1, 1, 1, 1, 0, 1, 1, 1, 1, 0, 1, 0, 0, 1, 0, 0, 0, 1, 0, 1, 0, 1, 1, 1, 1, 0, 0, 1, 0, 1, 0, 0, 1, 0, 0, 1, 1, 1, 0, 0, 1, 1, 0, 1, 1, 1, 1, 1, 0, 1, 0, 0, 1, 0, 1, 0, 1, 1, 1, 1, 0, 1, 1, 0, 1, 1, 1, 0, 0, 1, 1, 0, 0, 1, 1, 0, 1, 1, 1, 1, 0, 1, 1, 1, 0, 1, 1, 1, 0, 1, 1, 1, 0, 0, 0, 0, 0, 0, 1, 1, 0, 0, 0, 1, 1, 1, 0, 0, 0, 1, 0, 1, 1, 0, 1, 1, 0, 0, 1, 0, 0, 1, 1, 1, 1, 1, 0, 0, 1, 1, 1, 0, 1, 1, 1, 0, 0, 0, 1, 0, 0, 0, 0, 1, 0, 0, 0, 0, 0, 1, 1, 1, 1, 1, 0, 1, 0, 0, 1, 1, 0, 0, 1, 1, 0, 1, 0, 0, 1, 1, 1, 1, 0, 0, 0, 1, 1, 0, 0, 0, 0, 1, 0, 0, 1, 1, 0, 1, 1, 1, 0, 0, 1, 1, 1, 0, 0, 1, 1, 0, 1, 0, 0, 1, 1, 0, 1, 0, 0, 1, 1, 1, 0, 0, 0, 1, 1, 0, 1, 1, 1, 1, 1, 0, 1, 0, 1, 1, 0, 0, 0, 0, 1, 1, 1, 0, 0, 0, 0, 0, 0, 1, 1, 0, 1, 1, 1, 1, 1, 0, 0, 0, 1, 0, 0, 1, 0, 0, 0, 0, 0, 0, 1, 0, 1, 0, 1, 0, 1, 1, 0, 0, 0, 0, 1, 1, 1, 1, 1, 0, 1, 0, 0, 0, 1, 1, 1, 0, 1, 0, 0, 1, 1, 0, 0, 0, 1, 1, 1, 0, 1, 0, 1, 0, 1, 0, 1, 1, 0, 1, 0, 0, 0, 1, 1, 1, 1, 1, 1, 0, 0, 1, 1, 1, 1, 0, 1, 0, 0, 0, 0, 1, 1, 0, 0, 1, 1, 0, 1, 1, 0, 1, 0, 0, 0, 0, 0, 0, 0, 1, 0, 1, 1, 0, 0, 0, 1, 0, 1, 1, 1, 0, 1, 1, 1, 1, 1, 1, 1, 1, 0, 0, 1, 0, 1, 0, 1, 0, 0, 0, 1, 1, 0, 1, 0, 0, 1, 0, 0, 1, 1, 1, 0, 0, 1, 0, 1, 1, 0, 1, 1, 0, 1, 0, 0, 0, 1, 0, 0, 0, 1, 0, 1, 1, 1, 0, 1, 1, 1, 0, 1, 1, 1, 0, 1, 0, 1, 0, 0, 1, 0, 0, 1, 1, 0, 1, 1, 0, 1, 0, 1, 0, 1, 0, 0, 0, 1, 1, 1, 1, 0, 1, 0, 1, 1, 0, 1, 1, 1, 0, 1, 0, 0, 1, 1, 0, 0, 1, 1, 0, 1, 0, 0, 1, 1, 1, 1, 1, 1, 1, 1, 1, 1, 1, 1, 0, 1, 1, 0, 0, 0, 1, 0, 0, 1, 1, 0, 1, 0, 0, 1, 1, 1, 0, 0, 1, 1, 1, 0, 0, 0, 1, 0, 0, 0, 0, 1, 0, 0, 1, 0, 1, 0, 1, 1, 1, 0, 0, 0, 1, 1, 1, 0, 1, 1, 1, 1, 1, 0, 1, 1, 0, 1, 1, 0, 1, 0, 1, 1, 1, 1, 1, 1, 1, 0, 0, 0, 1, 1, 0, 1, 1, 1, 1, 1, 0, 1, 1, 1, 1, 0, 0, 1, 0, 0, 1, 0, 1, 0, 1, 1, 0, 1, 1, 1, 1, 0, 0, 0, 0, 1, 1, 1, 1, 1, 1, 1, 1, 0, 0, 0, 1, 0, 0, 0, 1, 0, 0, 0, 0, 0, 1, 1, 0, 0, 1, 0, 0, 0, 0, 1, 1, 1, 1, 0, 0, 1, 0, 1, 1, 0, 0, 0, 0, 1, 1, 1, 1, 0, 0, 1, 1, 0, 1, 1, 0, 1, 1, 0, 0, 0, 1, 0, 1, 1, 0, 0, 0, 1, 0, 0, 1, 1, 1, 0, 1, 1, 0, 1, 0, 1, 0, 1, 0, 0, 0, 1, 0, 1, 0, 0, 1, 1, 0, 1, 0, 1, 0, 0, 1, 1, 0, 1, 0, 1, 1, 0, 1, 0, 1, 1, 0, 1, 0, 0, 1, 0, 1, 1, 1, 1, 1, 1, 1, 1, 0, 0, 1, 1, 0, 1, 1, 1, 0, 0, 0, 0, 0, 1, 0, 1, 1, 1, 1, 1, 0, 1, 0, 0, 1, 1, 0, 0, 1, 0, 1, 0, 1, 0, 0, 0, 0, 0, 0, 0, 1, 0, 1, 0, 1, 1, 1, 0, 0, 1, 1, 1, 0, 1, 0, 0, 0, 0, 1, 0, 1, 1, 1, 0, 1, 0, 1, 0, 0, 0, 1, 0, 1, 0, 1, 1, 0, 0, 0, 1, 0, 1, 1, 1, 1, 1, 1, 0, 0, 0, 1, 1, 0, 0, 0, 0, 0, 0, 0, 1, 1, 1, 0, 0, 1, 1, 0, 0, 1, 0, 1, 0, 0, 0, 0, 0, 0, 1, 0, 0, 0, 1, 1, 1, 0, 1, 1, 1, 0, 1, 0, 0, 0, 0, 1, 0, 1, 1, 1, 1, 1, 0, 0, 1, 0, 1, 1, 1, 0, 1, 1, 1, 0, 1, 0, 0, 1, 0, 0, 1, 0, 1, 1, 0, 1, 0, 1, 1, 0, 0, 1, 1, 1, 1, 0, 1, 1, 0, 1, 0, 1, 0, 0, 1, 1, 0, 0, 0, 1, 0, 1, 1, 0, 1, 1, 0, 0, 1, 1, 0, 1, 0, 1, 0, 0, 1, 0, 1, 1, 1, 0, 1, 0, 1, 0, 1, 0, 0, 1, 1, 1, 0, 0, 0, 0, 1, 1, 0, 0, 0, 1, 1, 0, 1, 0, 0, 0, 1, 0, 0, 1, 0, 1, 1, 0, 1, 1, 1, 0, 1, 1, 1, 0, 0, 1, 0, 1, 0, 0, 1, 0, 1, 0, 0, 1, 0, 1, 0, 1, 0, 0, 0, 1, 0, 1, 0, 1, 0, 0, 1, 1, 0, 0, 1, 1, 1, 1, 1, 1, 1, 1, 1, 0, 1, 1, 1, 0, 0, 1, 1, 0, 0, 1, 1, 0, 0, 1, 0, 1, 1, 1, 1, 1, 1, 0, 1, 1, 1, 0, 0, 1, 1, 1, 1, 0, 0, 0, 1, 1, 0, 0, 0, 0, 1, 1, 1, 1, 0, 0, 0, 1, 1, 0, 1, 1, 1, 1, 1, 1, 1, 0, 1, 1, 0, 0, 0, 0, 1, 1, 0, 0, 1, 1, 1, 1, 1, 0, 1, 1, 1, 1, 1, 1, 0, 0, 0, 0, 1, 1, 1, 0, 0, 0, 1, 0, 0, 0, 1, 0, 1, 0, 1, 1, 0, 1, 0, 0, 0, 0, 1, 0, 1, 1, 1, 0, 0, 0, 1, 0, 0, 1, 0, 1, 1, 1, 1, 1, 0, 1, 1, 0, 1, 1, 1, 1, 0, 0, 1, 0, 0, 0, 0, 0, 0, 0, 1, 0, 1, 0, 1, 1, 1, 1, 0, 0, 0, 0, 1, 1, 0, 0, 0, 1, 1, 0, 0, 1, 1, 0, 1, 0, 0, 0, 0, 0, 0, 1, 0, 0, 0, 0, 0, 1, 0, 1, 1, 1, 1, 1, 0, 0, 0, 1, 0, 1, 0, 1, 1, 0, 0, 0, 1, 1, 0, 1, 1, 0, 1, 0, 0, 1, 0, 0, 1, 0, 1, 0, 1, 0, 0, 1, 0, 0, 0, 1, 1, 0, 1, 0, 1, 0, 1, 1, 1, 1, 1, 0, 0, 1, 0, 1, 1, 0, 0, 1, 0, 0, 1, 0, 0, 1, 0, 0, 1, 0, 0, 0, 0, 0, 1, 1, 1, 1, 1, 1, 0, 1, 0, 0, 1, 0, 0, 1, 0, 1, 1, 1, 0, 1, 1, 1, 1, 1, 1, 0, 1, 1, 1, 1, 0, 0, 0, 1, 1, 0, 1, 1, 0, 0, 1, 1, 1, 0, 1, 0, 0, 1, 1, 1, 1, 0, 1, 0, 0, 0, 0, 1, 0, 0, 1, 1, 1, 0, 1, 0, 0, 0, 1, 1, 1, 1, 0, 1, 0, 0, 1, 0, 1, 1, 1, 0, 0, 0, 1, 0, 0, 0, 1, 0, 1, 0, 0, 0, 0, 1, 1, 0, 1, 0, 1, 0, 0, 1, 0, 1, 1, 0, 1, 1, 0, 0, 0, 1, 1, 0, 1, 0, 0, 1, 1, 1, 1, 0, 0, 1, 1, 0, 1, 0, 0, 0, 1, 1, 1, 1, 0, 0, 1, 1, 0, 0, 0, 0, 0, 0, 0, 1, 1, 1, 1, 0, 0, 1, 1, 0, 1, 0, 0, 1, 0, 0, 1, 1, 0, 0, 1, 1, 1, 1, 1, 0, 0, 1, 1, 1, 1, 1, 1, 0, 0, 1, 1, 1, 0, 0, 1, 1, 1, 0, 0, 0, 0, 0, 1, 1, 1, 0, 0, 0, 0, 1, 0, 0, 1, 1, 1, 0, 0, 0, 1, 1, 0, 0, 1, 1, 0, 1, 0, 1, 0, 0, 0, 1, 1, 1, 1, 0, 0, 0, 0, 0, 0, 0, 1, 0, 0, 0, 0, 0, 1, 0, 1, 1, 0, 0, 1, 0, 1, 1, 1, 1, 1, 1, 0, 0, 1, 0, 0, 1, 0, 0, 0, 1, 0, 1, 1, 1, 1, 0, 1, 0, 1, 1, 0, 1, 1, 1, 1, 0, 1, 0, 0, 0, 1, 1, 1, 0, 1, 0, 0, 0, 0, 1, 1, 1, 0, 0, 0, 0, 1, 1, 1, 0, 1, 1, 0, 1, 0, 1, 0, 1, 0, 0, 0, 0, 0, 0, 1, 0, 0, 1, 0, 0, 0, 1, 0, 0, 1, 1, 1, 0, 0, 1, 1, 0, 1, 0, 1, 0, 0, 1, 1, 0, 1, 1, 0, 1, 1, 1, 0, 0, 0, 1, 0, 1, 0, 0, 0, 1, 0, 0, 1, 1, 0, 0, 0, 1, 0, 0, 0, 1, 1, 1, 1, 1, 0, 0, 1, 1, 0, 0, 1, 1, 1, 1, 1, 0, 1, 1, 1, 0, 1, 0, 0, 0, 0, 0, 1, 0, 0, 0, 0, 0, 0, 0, 0, 0, 1, 1, 0, 1, 0, 0, 1, 0, 1, 1, 0, 1, 0, 1, 1, 0, 0, 0, 0, 0, 1, 0, 1, 1, 0, 1, 0, 1, 0, 0, 1, 0, 1, 0, 0, 0, 1, 1, 1, 1, 0, 1, 1, 0, 0, 1, 1, 1, 0, 0, 0, 0, 0, 0, 0, 1, 0, 1, 0, 0, 1, 0, 0, 1, 0, 0, 0, 0, 0, 0, 0, 1, 1, 0, 0, 0, 0, 0, 0, 0, 0, 0, 1, 0, 0, 1, 1, 1, 1, 0, 0, 1, 0, 1, 1, 0, 0, 0, 0, 1, 1, 0, 1, 0, 0, 1, 0, 0, 1, 0, 1, 1, 1, 0, 1, 0, 0, 0, 0, 1, 1, 0, 1, 0, 1, 0, 0, 0, 1, 0, 1, 1, 0, 0, 1, 0, 0, 1, 0, 0, 1, 1, 0, 1, 1, 0, 0, 1, 1, 1, 0, 1, 0, 0, 1, 1, 0, 1, 0, 1, 1, 0, 1, 1, 0, 0, 0, 1, 0, 1, 0, 1, 0, 1, 1, 1, 1, 0, 1, 0, 0, 1, 0, 0, 0, 0, 0, 0, 1, 0, 1, 1, 0, 0, 0, 1, 0, 1, 1, 0, 0, 0, 0, 1, 1, 1, 0, 0, 0, 1, 1, 0, 0, 0, 0, 0, 0, 1, 1, 1, 1, 0, 0, 1, 1, 1, 0, 0, 1, 1, 0, 0, 1, 0, 0, 0, 0, 0, 1, 1, 0, 1, 1, 0, 0, 0, 0, 1, 1, 0, 0, 1, 1, 0, 1, 0, 1, 0, 1, 0, 1, 1, 0, 1, 0, 1, 1, 0, 1, 0, 1, 1, 1, 1, 1, 0, 1, 1, 0, 0, 0, 1, 0, 1, 0, 1, 0, 1, 1, 0, 1, 0, 1, 1, 0, 0, 0, 1, 1, 0, 1, 1, 1, 1, 0, 1, 1, 1, 1, 1, 0, 0, 0, 0, 0, 0, 1, 0, 1, 1, 1, 0, 1, 0, 1, 1, 0, 0, 0, 1, 1, 1, 0, 0, 0, 0, 0, 1, 0, 1, 0, 0, 1, 1, 0, 1, 1, 0, 1, 1, 0, 0, 0, 1, 1, 1, 0, 0, 1, 1, 0, 0, 1, 0, 0, 1, 1, 0, 1, 1, 1, 0, 1, 0, 1, 0, 1, 0, 1, 1, 0, 0, 1, 1, 1, 1, 1, 1, 0, 0, 1, 0, 1, 1, 0, 0, 0, 1, 0, 1, 0, 0, 1, 0, 0, 1, 0, 0, 0, 1, 1, 0, 1, 1, 0, 0, 0, 0, 0, 1, 0, 0, 1, 1, 0, 1, 1, 1, 1, 0, 0, 1, 0, 1, 1, 0, 0, 0, 0, 1, 0, 0, 1, 0, 0, 0, 0, 0, 0, 0, 0, 1, 0, 0, 1, 0, 1, 0, 0, 1, 0, 0, 0, 1, 0, 0, 0, 1, 1, 0, 1, 0, 0, 0, 0, 1, 1, 1, 1, 1, 0, 1, 1, 0, 1, 1, 0, 0, 0, 1, 1, 1, 0, 1, 0, 0, 0, 1, 0, 1, 1, 0, 0, 1, 1, 0, 0, 1, 0, 0, 1, 0, 1, 0, 0, 0, 0, 1, 0, 1, 1, 0, 1, 1, 0, 1, 0, 0, 0, 0, 1, 1, 1, 0, 0, 1, 1, 0, 0, 1, 1, 0, 0, 0, 1, 1, 0, 1, 1, 1, 1, 1, 0, 0, 0, 1, 1, 0, 1, 1, 1, 1, 1, 1, 0, 1, 1, 1, 1, 1, 1, 0, 1, 0, 0, 1, 0, 0, 1, 1, 1, 1, 0, 0, 0, 0, 1, 0, 0, 1, 0, 0, 1, 1, 1, 0, 1, 0, 1, 1, 1, 1, 1, 0, 0, 0, 1, 1, 1, 1, 1, 1, 1, 1, 1, 1, 0, 1, 0, 0, 1, 0, 0, 1, 0, 1, 0, 0, 0, 0, 1, 1, 1, 0, 1, 0, 1, 1, 0, 1, 1, 0, 1, 1, 0, 1, 0, 0, 1, 1, 1, 1, 0, 1, 1, 1, 1, 1, 0, 0, 1, 0, 0, 1, 1, 0, 0, 1, 1, 1, 1, 1, 0, 1, 1, 1, 1, 1, 1, 1, 0, 1, 1, 1, 1, 0, 0, 0, 0, 0, 1, 0, 1, 0, 0, 0, 0, 1, 1, 1, 0, 1, 1, 1, 1, 1, 0, 1, 1, 1, 1, 1, 0, 1, 0, 0, 1, 1, 0, 0, 1, 1, 1, 1, 1, 1, 1, 1, 0, 0, 0, 1, 0, 1, 1, 1, 1, 1, 0, 0, 0, 1, 0, 1, 1, 0, 0, 0, 1, 1, 1, 1, 0, 1, 1, 0, 0, 1, 1, 1, 0, 0, 0, 0, 1, 0, 1, 1, 1, 1, 1, 0, 1, 0, 1, 1, 0, 0, 0, 1, 1, 1, 1, 1, 1, 1, 1, 1, 1, 0, 0, 0, 0, 1, 1, 0, 1, 0, 1, 0, 0, 0, 0, 1, 0, 1, 1, 0, 1, 0, 1, 1, 0, 1, 0, 0, 1, 1, 1, 1, 1, 0, 1, 0, 1, 1, 1, 0, 1, 1, 1, 1, 0, 1, 1, 0, 0, 0, 0, 0, 1, 1, 1, 1, 1, 1, 1, 0, 1, 1, 0, 1, 1, 1, 1, 1, 0, 1, 0, 1, 1, 0, 0, 1, 0, 1, 0, 1, 0, 0, 1, 0, 0, 1, 0, 1, 1, 0, 1, 1, 1, 0, 0, 0, 0, 0, 0, 1, 0, 1, 1, 1, 1, 1, 0, 1, 1, 0, 0, 1, 0, 1, 1, 1, 0, 0, 0, 1, 1, 1, 0, 0, 0, 0, 0, 0, 1, 1, 1, 0, 1, 1, 0, 0, 0, 0, 1, 1, 1, 0, 0, 0, 0, 1, 1, 1, 0, 1, 0, 1, 1, 0, 0, 0, 1, 1, 1, 0, 0, 1, 1, 0, 1, 1, 1, 0, 1, 0, 1, 1, 0, 1, 1, 0, 0, 1, 0, 1, 1, 1, 1, 1, 1, 1, 1, 1, 0, 0, 0, 0, 1, 1, 0, 1, 1, 0, 0, 1, 1, 1, 0, 0, 0, 0, 1, 1, 1, 1, 0, 0, 1, 1, 1, 1, 0, 1, 0, 1, 1, 1, 0, 1, 1, 0, 1, 0, 1, 1, 0, 0, 0, 0, 0, 0, 1, 0, 0, 1, 0, 1, 0, 0, 1, 0, 0, 0, 0, 1, 0, 1, 1, 1, 1, 0, 1, 1, 0, 0, 0, 1, 0, 1, 0, 1, 1, 1, 1, 1, 1, 0, 0, 0, 1, 1, 0, 1, 0, 1, 1, 1, 0, 1, 1, 0, 1, 0, 0, 0, 0, 1, 0, 0, 0, 0, 1, 0, 0, 1, 1, 0, 0, 0, 1, 1, 1, 0, 0, 0, 1, 1, 1, 1, 0, 0, 0, 1, 1, 0, 0, 0, 1, 1, 1, 0, 1, 1, 1, 0, 1, 1, 0, 0, 0, 1, 0, 1, 1, 1, 0, 0, 1, 1, 1, 1, 1, 1, 1, 1, 0, 1, 1, 0, 0, 0, 0, 0, 0, 0, 1, 0, 0, 1, 1, 1, 1, 0, 0, 1, 0, 1, 0, 1, 1, 0, 0, 0, 0, 0, 1, 0, 0, 0, 0, 1, 1, 0, 0, 1, 1, 0, 0, 0, 0, 0, 0, 1, 0, 1, 0, 1, 1, 0, 1, 0, 0, 0, 1, 0, 0, 0, 1, 1, 0, 1, 0, 1, 0, 0, 1, 0, 0, 0, 1, 0, 0, 0, 1, 1, 1, 0, 0, 1, 1, 1, 0, 1, 1, 1, 0, 0, 1, 0, 0, 0, 1, 0, 1, 0, 1, 0, 1, 0, 0, 1, 0, 1, 1, 1, 0, 0, 0, 0, 0, 0, 1, 1, 0, 1, 0, 0, 0, 0, 0, 0, 0, 0, 0, 1, 0, 0, 1, 0, 1, 0, 1, 1, 1, 0, 0, 1, 1, 1, 0, 1, 0, 1, 0, 0, 1, 1, 1, 0, 0, 0, 1, 1, 1, 1, 1, 0, 0, 0, 0, 1, 1, 0, 1, 0, 0, 0, 0, 0, 1, 1, 0, 0, 0, 1, 1, 0, 0, 1, 1, 0, 0, 0, 0, 1, 1, 0, 0, 0, 0, 0, 1, 1, 1, 1, 0, 0, 0, 1, 0, 0, 1, 0, 0, 0, 0, 0, 0, 0, 0, 0, 1, 1, 1, 0, 1, 0, 0, 0, 1, 0, 0, 1, 0, 0, 0, 0, 1, 1, 1, 1, 1, 1, 1, 0, 1, 1, 1, 0, 1, 0, 1, 0, 0, 1, 0, 1, 1, 1, 1, 0, 1, 1, 0, 1, 0, 0, 0, 1, 0, 0, 1, 0, 1, 1, 1, 1, 1, 0, 0, 1, 0, 1, 1, 0, 1, 0, 0, 1, 1, 0, 0, 1, 0, 0, 1, 1, 1, 0, 0, 0, 1, 1, 0, 1, 0, 0, 1, 1, 0, 1, 1, 0, 1, 0, 1, 1, 0, 1, 0, 1, 1, 0, 1, 0, 1, 1, 0, 0, 1, 0, 0, 1, 0, 1, 1, 0, 0, 0, 1, 1, 1, 0, 0, 1, 0, 1, 0, 0, 1, 0, 1, 0, 0, 1, 0, 0, 1, 0, 0, 1, 1, 0, 0, 1, 0, 0, 1, 1, 0, 0, 1, 1, 1, 0, 1, 0, 1, 1, 0, 0, 1, 0, 0, 0, 0, 1, 1, 0, 0, 1, 0, 0, 1, 1, 0, 0, 1, 0, 1, 1, 1, 0, 1, 1, 0, 1, 1, 0, 0, 1, 1, 1, 0, 0, 0, 0, 1, 0, 1, 0, 1, 1, 0, 1, 1, 0, 0, 0, 1, 1, 0, 0, 1, 1, 0, 0, 1, 0, 1, 0, 1, 0, 1, 0, 0, 0, 0, 0, 1, 1, 1, 0, 0, 0, 1, 0, 0, 0, 1, 0, 1, 1, 1, 0, 1, 0, 1, 0, 1, 1, 0, 0, 0, 1, 0, 1, 0, 0, 1, 0, 1, 0, 0, 0, 0, 0, 0, 0, 1, 1, 1, 1, 0, 1, 1, 0, 1, 0, 0, 1, 1, 0, 0, 0, 0, 1, 1, 1, 0, 1, 1, 0, 1, 0, 0, 1, 1, 0, 1, 0, 1, 1, 0, 1, 1, 0, 0, 0, 0, 0, 0, 0, 1, 1, 1, 0, 0, 1, 0, 1, 0, 0, 0, 1, 0, 1, 0, 0, 0, 1, 0, 0, 1, 0, 1, 1, 1, 1, 1, 0, 1, 0, 0, 0, 1, 1, 1, 1, 0, 1, 0, 1, 0, 1, 0, 1, 1, 1, 1, 0, 0, 0, 1, 1, 1, 0, 1, 0, 1, 0, 0, 1, 0, 1, 1, 0, 0, 0, 1, 1, 0, 0, 0, 0, 1, 0, 0, 1, 1, 1, 0, 0, 0, 0, 1, 0, 1, 1, 0, 1, 0, 0, 1, 1, 0, 0, 1, 0, 0, 1, 1, 1, 0, 1, 1, 1, 0, 0, 0, 1, 0, 0, 1, 1, 1, 0, 1, 0, 1, 0, 1, 1, 1, 1, 1, 1, 0, 1, 1, 1, 0, 0, 1, 0, 1, 1, 1, 1, 1, 1, 0, 0, 0, 0, 1, 0, 1, 1, 0, 0, 0, 1, 1, 0, 0, 0, 0, 0, 0, 1, 1, 1, 1, 0, 1, 0, 1, 0, 0, 0, 0, 0, 1, 1, 1, 1, 0, 0, 1, 1, 0, 1, 0, 0, 1, 0, 1, 0, 0, 1, 1, 1, 0, 1, 1, 0, 0, 0, 1, 0, 0, 0, 0, 1, 1, 1, 1, 0, 1, 0, 0, 1, 1, 0, 1, 0, 1, 1, 1, 1, 1, 0, 0, 1, 1, 0, 0, 1, 0, 0, 0, 0, 1, 1, 1, 0, 1, 0, 0, 0, 0, 1, 0, 1, 1, 0, 1, 1, 1, 0, 1, 0, 1, 1, 1, 1, 0, 0, 0, 1, 1, 0, 1, 0, 0, 0, 1, 0, 1, 0, 0, 0, 0, 0, 1, 1, 0, 1, 0, 1, 1, 1, 0, 0, 1, 0, 0, 1, 0, 1, 0, 0, 1, 0, 0, 0, 0, 1, 1, 0, 1, 1, 1, 1, 1, 0, 1, 1, 0, 1, 0, 0, 0, 0, 0, 0, 1, 1, 1, 0, 0, 1, 1, 0, 1, 0, 0, 1, 1, 0, 1, 0, 0, 0, 1, 0, 1, 1, 0, 0, 0, 0, 0, 1, 0, 1, 0, 1, 0, 0, 0, 0, 1, 0, 0, 1, 0, 0, 1, 1, 1, 0, 0, 0, 0, 0, 1, 0, 0, 1, 1, 0, 0, 0, 1, 0, 1, 1, 0, 1, 0, 1, 0, 0, 1, 1, 0, 1, 0, 1, 0, 1, 0, 1, 0, 1, 0, 1, 1, 1, 0, 0, 1, 1, 1, 1, 1, 1, 1, 1, 0, 0, 0, 1, 1, 1, 1, 1, 1, 0, 1, 1, 0, 1, 1, 1, 1, 0, 0, 1, 0, 0, 1, 1, 1, 1, 0, 0, 1, 1, 1, 1, 0, 1, 1, 1, 0, 1, 0, 0, 1, 0, 0, 1, 0, 0, 0, 0, 1, 1, 1, 1, 0, 0, 1, 0, 1, 1, 0, 1, 0, 1, 1, 1, 1, 1, 0, 0, 0, 0, 0, 1, 1, 1, 1, 1, 1, 0, 1, 0, 1, 1, 0, 1, 1, 0, 1, 1, 1, 1, 1, 0, 0, 0, 0, 0, 0, 0, 0, 1, 0, 1, 0, 1, 1, 1, 1, 1, 1, 0, 0, 0, 1, 0, 0, 0, 0, 0, 0, 1, 1, 0, 1, 1, 0, 1, 0, 0, 0, 0, 0, 0, 0, 1, 1, 0, 0, 0, 1, 0, 1, 0, 0, 0, 0, 1, 0, 0, 0, 1, 1, 1, 0, 0, 0, 0, 1, 0, 0, 0, 1, 1, 1, 1, 1, 0, 1, 1, 1, 0, 1, 0, 0, 0, 0, 1, 1, 0, 0, 1, 1, 0, 1, 1, 0, 0, 0, 0, 1, 1, 0, 0, 1, 1, 1, 1, 1, 1, 1, 0, 1, 1, 0, 0, 1, 0, 1, 1, 1, 0, 1, 1, 1, 0, 1, 0, 0, 1, 1, 1, 1, 1, 1, 0, 0, 1, 1, 0, 0, 0, 1, 0, 1, 0, 0, 1, 1, 0, 1, 1, 0, 1, 0, 1, 1, 0, 1, 1, 0, 1, 1, 1, 1, 1, 0, 1, 1, 1, 0, 0, 0, 1, 0, 1, 1, 0, 0, 1, 1, 0, 0, 0, 0, 1, 0, 0, 0, 1, 0, 1, 1, 0, 1, 1, 0, 0, 0, 1, 1, 0, 1, 0, 0, 1, 0, 1, 0, 1, 1, 1, 1, 1, 1, 1, 1, 1, 1, 0, 0, 1, 1, 1, 1, 1, 1, 1, 1, 0, 1, 0, 1, 1, 1, 0, 1, 1, 0, 0, 1, 0, 1, 1, 1, 0, 1, 1, 0, 1, 1, 1, 1, 1, 0, 1, 0, 1, 1, 0, 0, 1, 1, 0, 0, 1, 0, 1, 1, 1, 1, 0, 0, 0, 1, 0, 0, 0, 0, 0, 0, 1, 1, 1, 1, 1, 1, 0, 1, 0, 0, 0, 1, 0, 1, 1, 1, 0, 0, 1, 1, 1, 0, 1, 1, 0, 0, 0, 1, 1, 1, 1, 0, 0, 0, 1, 0, 0, 0, 0, 0, 0, 1, 1, 1, 1, 1, 1, 1, 0, 0, 1, 0, 1, 0, 1, 0, 1, 1, 0, 1, 0, 1, 0, 0, 0, 0, 0, 1, 1, 0, 0, 0, 1, 0, 1, 1, 0, 0, 1, 1, 0, 1, 0, 0, 0, 0, 1, 1, 0, 0, 1, 1, 0, 0, 1, 0, 1, 1, 1, 0, 0, 0, 0, 1, 1, 0, 1, 0, 0, 1, 0, 0, 1, 0, 1, 0, 0, 1, 0, 1, 1, 1, 0, 0, 0, 1, 0, 1, 0, 1, 0, 1, 1, 1, 0, 1, 0, 0, 0, 0, 0, 0, 1, 1, 1, 0, 1, 0, 1, 0, 1, 1, 0, 1, 0, 1, 0, 1, 1, 0, 1, 0, 0, 0, 0, 0, 1, 0, 1, 0, 0, 1, 0, 1, 0, 0, 0, 0, 1, 1, 0, 1, 1, 1, 1, 0, 1, 1, 0, 0, 0, 0, 1, 0, 0, 0, 1, 0, 0, 0, 1, 1, 1, 1, 0, 0, 0, 0, 1, 0, 0, 1, 1, 0, 0, 0, 1, 0, 0, 1, 0, 0, 0, 1, 0, 1, 0, 0, 0, 1, 1, 1, 1, 0, 0, 0, 1, 1, 0, 1, 1, 1, 0, 0, 0, 0, 1, 0, 1, 1, 1, 0, 0, 1, 1, 1, 0, 1, 1, 1, 1, 0, 0, 0, 1, 1, 1, 0, 1, 0, 1, 1, 0, 0, 1, 0, 1, 1, 0, 1, 0, 0, 0, 1, 0, 1, 0, 0, 0, 1, 1, 1, 1, 1, 1, 1, 0, 1, 0, 0, 1, 1, 0, 1, 0, 0, 0, 1, 1, 1, 1, 1, 0, 0, 1, 0, 1, 0, 0, 0, 1, 1, 1, 1, 1, 0, 0, 0, 1, 1, 0, 1, 1, 1, 0, 1, 0, 1, 1, 0, 0, 0, 1, 1, 0, 0, 1, 1, 0, 1, 0, 1, 0, 0, 0, 0, 0, 1, 0, 1, 1, 1, 1, 0, 0, 0, 1, 1, 1, 1, 1, 0, 0, 1, 1, 0, 0, 1, 1, 0, 1, 1, 0, 0, 1, 1, 1, 1, 1, 0, 0, 1, 1, 1, 1, 1, 0, 0, 1, 1, 1, 1, 1, 1, 1, 0, 0, 1, 0, 1, 0, 0, 0, 0, 1, 0, 0, 1, 0, 1, 0, 1, 0, 1, 0, 1, 1, 0, 1, 1, 0, 0, 1, 0, 0, 0, 0, 1, 1, 1, 1, 0, 1, 0, 0, 1, 1, 0, 1, 1, 1, 1, 0, 0, 0, 1, 0, 1, 0, 1, 1, 0, 1, 1, 0, 0, 1, 0, 0, 0, 0, 1, 0, 0, 0, 1, 0, 0, 0, 1, 1, 1, 0, 0, 0, 0, 0, 1, 1, 1, 0, 0, 0, 0, 1, 1, 1, 1, 1, 1, 1, 0, 1, 1, 1, 1, 0, 0, 1, 1, 1, 1, 1, 0, 0, 0, 0, 0, 0, 0, 1, 1, 1, 0, 0, 0, 1, 1, 1, 1, 0, 1, 1, 1, 0, 1, 1, 1, 1, 0, 0, 1, 0, 1, 1, 0, 0, 1, 1, 1, 1, 0, 1, 1, 0, 0, 1, 1, 1, 0, 1, 1, 1, 0, 1, 1, 1, 1, 1, 0, 0, 1, 1, 0, 0, 0, 0, 1, 1, 0, 1, 0, 1, 1, 0, 1, 1, 0, 1, 0, 0, 1, 1, 0, 1, 0, 1, 1, 1, 0, 0, 0, 1, 1, 1, 1, 1, 1, 1, 1, 1, 1, 1, 0, 1, 1, 0, 0, 1, 1, 0, 1, 1, 0, 1, 1, 0, 1, 0, 0, 0, 0, 0, 1, 1, 0, 0, 0, 1, 0, 1, 0, 0, 0, 1, 1, 1, 1, 1, 1, 1, 0, 0, 0, 1, 0, 0, 1, 1, 0, 0, 0, 1, 0, 1, 0, 0, 1, 0, 1, 0, 0, 0, 0, 0, 0, 1, 0, 1, 1, 1, 0, 0, 1, 0, 1, 0, 1, 0, 1, 1, 0, 1, 0, 0, 0, 1, 0, 1, 0, 1, 0, 1, 0, 1, 0, 1, 0, 1, 0, 1, 1, 0, 0, 0, 1, 0, 0, 1, 0, 1, 0, 0, 1, 0, 0, 1, 1, 1, 1, 1, 1, 0, 0, 0, 0, 1, 0, 1, 0, 0, 1, 1, 1, 1, 0, 1, 0, 1, 0, 1, 1, 1, 0, 0, 0, 0, 1, 0, 0, 0, 1, 1, 1, 0, 1, 0, 1, 0, 1, 0, 0, 0, 0, 0, 1, 0, 0, 1, 1, 0, 1, 1, 1, 1, 1, 0, 0, 0, 0, 1, 1, 0, 0, 1, 1, 1, 0, 1, 1, 1, 0, 1, 0, 0, 1, 1, 1, 0, 1, 1, 0, 1, 0, 0, 0, 1, 0, 1, 1, 1, 1, 1, 1, 1, 1, 0, 0, 0, 1, 1, 0, 1, 0, 1, 1, 0, 0, 0, 0, 1, 1, 1, 0, 1, 1, 1, 0, 0, 0, 1, 0, 0, 1, 0, 0, 0, 1, 0, 1, 0, 1, 0, 1, 1, 0, 1, 1, 0, 1, 1, 0, 1, 1, 1, 1, 0, 0, 0, 0, 1, 1, 1, 1, 0, 1, 1, 0, 0, 0, 0, 0, 0, 0, 0, 0, 0, 1, 1, 1, 0, 0, 0, 0, 1, 0, 1, 1, 0, 0, 0, 0, 0, 1, 0, 0, 1, 1, 1, 0, 1, 1, 1, 1, 0, 1, 0, 1, 0, 0, 0, 1, 1, 0, 0, 0, 0, 0, 0, 0, 1, 1, 1, 0, 1, 1, 1, 1, 1, 0, 0, 1, 0, 1, 1, 0, 1, 1, 1, 1, 0, 0, 1, 1, 1, 0, 0, 0, 1, 0, 0, 1, 1, 1, 0, 0, 1, 1, 1, 0, 0, 1, 1, 1, 0, 1, 1, 1, 1, 1, 0, 0, 0, 1, 0, 0, 1, 0, 0, 1, 1, 0, 0, 0, 0, 0, 0, 1, 0, 0, 1, 0, 0, 0, 1, 1, 1, 1, 0, 1, 1, 1, 0, 1, 1, 1, 1, 0, 1, 1, 1, 0, 0, 1, 0, 1, 1, 0, 0, 1, 0, 0, 0, 0, 0, 1, 0, 0, 1, 1, 0, 1, 1, 0, 1, 1, 1, 0, 0, 0, 0, 0, 1, 0, 1, 0, 1, 0, 1, 1, 0, 0, 0, 0, 0, 0, 0, 1, 0, 1, 0, 1, 1, 0, 0, 0, 0, 1, 0, 0, 1, 1, 0, 0, 1, 0, 1, 1, 0, 0, 1, 0, 0, 1, 0, 0, 1, 0, 0, 0, 0, 1, 0, 1, 0, 0, 1, 0, 0, 0, 0, 1, 0, 0, 0, 0, 1, 0, 0, 0, 0, 0, 1, 1, 0, 1, 1, 1, 0, 1, 1, 1, 0, 1, 1, 1, 0, 0, 1, 0, 0, 0, 0, 0, 0, 1, 0, 0, 1, 0, 0, 1, 1, 1, 1, 1, 0, 0, 1, 1, 1, 1, 0, 0, 0, 0, 1, 0, 0, 1, 0, 1, 0, 0, 0, 1, 0, 1, 0, 1, 0, 0, 1, 0, 0, 1, 1, 1, 1, 1, 0, 1, 1, 0, 0, 0, 1, 1, 1, 1, 0, 1, 0, 0, 0, 1, 0, 0, 1, 1, 1, 1, 0, 0, 0, 0, 0, 0, 0, 0, 0, 0, 1, 1, 0, 0, 0, 1, 0, 0, 0, 0, 1, 0, 0, 1, 1, 1, 1, 0, 1, 0, 1, 0, 0, 1, 0, 0, 1, 1, 0, 0, 1, 1, 1, 1, 0, 1, 0, 0, 1, 1, 1, 1, 1, 1, 0, 1, 1, 1, 1, 0, 0, 0, 0, 0, 1, 0, 0, 1, 1, 1, 1, 1, 1, 0, 1, 1, 0, 0, 1, 0, 0, 1, 1, 0, 1, 1, 1, 0, 1, 0, 1, 1, 1, 0, 1, 0, 0, 1, 1, 1, 1, 0, 1, 1, 1, 1, 0, 1, 0, 0, 0, 1, 1, 0, 0, 0, 0, 1, 0, 1, 1, 0, 1, 1, 0, 1, 0, 1, 1, 1, 1, 0, 1, 0, 0, 0, 1, 1, 0, 0, 1, 0, 0, 1, 0, 1, 1, 0, 1, 0, 1, 1, 0, 0, 1, 0, 1, 0, 0, 0, 1, 1, 0, 1, 1, 0, 1, 0, 1, 0, 0, 0, 1, 1, 0, 0, 0, 0, 1, 0, 0, 1, 0, 0, 1, 1, 1, 1, 0, 0, 1, 0, 1, 0, 1, 0, 0, 1, 0, 1, 0, 0, 0, 1, 1, 1, 0, 1, 1, 1, 1, 0, 0, 0, 1, 1, 0, 0, 0, 0, 1, 0, 0, 0, 1, 1, 0, 0, 1, 0, 1, 1, 1, 1, 1, 0, 0, 1, 1, 1, 0, 1, 0, 0, 0, 1, 1, 0, 0, 1, 1, 1, 1, 0, 0, 1, 1, 0, 0, 0, 0, 0, 1, 0, 0, 0, 1, 1, 1, 1, 0, 0, 1, 1, 1, 1, 0, 0, 0, 1, 1, 0, 1, 0, 1, 0, 0, 0, 1, 0, 0, 0, 0, 1, 0, 0, 0, 1, 0, 1, 0, 0, 1, 0, 1, 1, 0, 0, 0, 0, 1, 1, 0, 0, 0, 0, 0, 0, 1, 1, 1, 1, 0, 1, 1, 0, 1, 1, 0, 1, 1, 0, 1, 1, 1, 1, 0, 1, 1, 1, 0, 1, 0, 1, 0, 1, 0, 0, 1, 0, 0, 0, 1, 0, 1, 0, 0, 1, 1, 0, 0, 0, 0, 0, 1, 0, 1, 1, 0, 1, 1, 0, 1, 0, 1, 0, 1, 1, 0, 1, 0, 1, 0, 0, 0, 1, 1, 0, 0, 1, 1, 1, 1, 0, 1, 0, 0, 0, 0, 1, 1, 0, 1, 1, 1, 1, 0, 0, 1, 1, 1, 0, 0, 0, 0, 0, 1, 0, 1, 0, 0, 0, 0, 0, 1, 0, 1, 1, 1, 0, 1, 0, 0, 1, 1, 0, 1, 1, 1, 1, 1, 1, 1, 1, 0, 0, 1, 0, 0, 1, 1, 0, 1, 1, 1, 0, 0, 1, 0, 0, 1, 0, 1, 1, 0, 1, 0, 1, 1, 1, 1, 1, 0, 0, 1, 1, 1, 1, 0, 0, 0, 0, 1, 0, 1, 0, 0, 1, 0, 1, 1, 0, 1, 0, 0, 0, 0, 1, 0, 1, 0, 0, 0, 1, 0, 0, 0, 0, 0, 0, 1, 1, 1, 1, 1, 0, 1, 1, 1, 0, 0, 0, 0, 0, 0, 0, 1, 0, 1, 0, 1, 0, 0, 0, 1, 1, 1, 0, 1, 1, 0, 0, 0, 0, 1, 0, 1, 0, 1, 0, 1, 0, 0, 1, 1, 0, 1, 1, 0, 1, 0, 0, 0, 1, 1, 0, 1, 1, 1, 1, 1, 1, 0, 1, 1, 1, 1, 0, 0, 1, 0, 0, 0, 1, 0, 1, 1, 1, 1, 1, 0, 1, 0, 1, 1, 1, 1, 1, 1, 1, 0, 1, 0, 1, 0, 0, 0, 1, 0, 0, 1, 0, 0, 1, 0, 0, 1, 1, 0, 0, 1, 0, 1, 0, 1, 1, 1, 0, 0, 0, 0, 0, 1, 1, 1, 0, 1, 1, 0, 1, 1, 0, 1, 0, 0, 1, 1, 1, 0, 0, 1, 0, 0, 0, 1, 0, 1, 0, 1, 0, 0, 0, 0, 1, 1, 1, 1, 0, 0, 1, 1, 0, 1, 1, 0, 0, 0, 0, 1, 1, 0, 0, 1, 1, 1, 0, 1, 1, 1, 0, 0, 1, 1, 0, 0, 1, 0, 1, 0, 0, 0, 1, 1, 1, 1, 1, 1, 0, 1, 0, 1, 1, 0, 1, 1, 0, 0, 1, 1, 0, 0, 1, 0, 1, 1, 0, 1, 1, 1, 1, 1, 1, 0, 1, 0, 0, 1, 1, 0, 1, 0, 0, 1, 1, 1, 0, 0, 1, 0, 0, 1, 0, 0, 0, 0, 0, 0, 0, 0, 0, 0, 0, 0, 0, 1, 1, 1, 0, 0, 0, 1, 1, 0, 0, 0, 0, 1, 0, 0, 1, 0, 0, 0, 1, 1, 0, 1, 1, 1, 1, 0, 1, 0, 1, 1, 0, 0, 0, 0, 0, 1, 0, 1, 1, 0, 1, 1, 0, 1, 0, 1, 0, 1, 0, 1, 1, 0, 0, 1, 1, 1, 0, 1, 0, 1, 0, 0, 0, 0, 1, 1, 0, 0, 1, 0, 0, 0, 0, 0, 1, 0, 0, 1, 1, 1, 0, 0, 0, 0, 0, 1, 0, 1, 0, 1, 1, 1, 0, 1, 0, 0, 1, 1, 0, 0, 1, 0, 1, 1, 0, 0, 0, 1, 0, 0, 0, 1, 0, 1, 0, 0, 0, 1, 0, 1, 0, 1, 0, 1, 0, 1, 0, 0, 0, 0, 1, 0, 0, 0, 0, 1, 1, 1, 0, 1, 0, 0, 0, 0, 1, 0, 0, 0, 0, 0, 1, 1, 0, 0, 0, 0, 0, 0, 0, 1, 1, 1, 0, 1, 0, 1, 0, 0, 0, 0, 1, 0, 0, 1, 0, 0, 0, 1, 0, 1, 1, 1, 0, 0, 1, 0, 1, 1, 0, 0, 0, 0, 0, 1, 1, 1, 1, 0, 1, 0, 0, 1, 1, 0, 0, 0, 1, 1, 1, 0, 0, 1, 0, 1, 1, 1, 0, 1, 0, 0, 0, 1, 0, 1, 1, 0, 1, 1, 1, 1, 1, 1, 1, 1, 0, 0, 1, 0, 1, 0, 0, 0, 1, 0, 0, 0, 1, 0, 1, 1, 1, 0, 1, 1, 1, 0, 0, 1, 1, 1, 1, 0, 0, 0, 1, 1, 0, 0, 1, 1, 1, 1, 1, 1, 0, 0, 0, 1, 0, 1, 0, 0, 1, 0, 1, 0, 1, 0, 0, 0, 1, 1, 1, 0, 0, 1, 0, 0, 0, 1, 0, 0, 0, 0, 0, 1, 0, 0, 0, 0, 0, 1, 1, 0, 1, 0, 0, 1, 1, 1, 0, 0, 1, 0, 0, 1, 0, 0, 1, 1, 1, 1, 0, 1, 0, 1, 0, 1, 1, 0, 0, 0, 1, 1, 0, 0, 0, 0, 0, 0, 0, 1, 1, 0, 0, 1, 1, 0, 1, 1, 0, 1, 1, 1, 1, 1, 1, 1, 0, 0, 0, 1, 1, 0, 1, 0, 1, 1, 1, 0, 0, 0, 0, 1, 0, 1, 0, 1, 1, 0, 1, 1, 1, 0, 0, 1, 0, 1, 0, 0, 1, 1, 1, 0, 0, 1, 1, 1, 0, 0, 0, 1, 0, 0, 0, 1, 1, 1, 0, 0, 1, 0, 0, 0, 1, 0, 1, 0, 0, 0, 1, 1, 1, 0, 0, 1, 0, 0, 0, 1, 1, 0, 1, 0, 1, 0, 1, 1, 0, 1, 1, 0, 0, 1, 0, 1, 0, 0, 0, 1, 1, 0, 1, 1, 1, 0, 1, 1, 1, 0, 0, 1, 0, 1, 1, 0, 1, 0, 0, 0, 0, 0, 1, 1, 0, 0, 1, 0, 1, 0, 0, 1, 1, 0, 1, 0, 0, 0, 1, 1, 0, 1, 1, 1, 0, 1, 1, 1, 0, 0, 1, 0, 0, 0, 1, 0, 0, 1, 0, 0, 0, 1, 1, 0, 0, 0, 1, 1, 0, 1, 1, 0, 0, 0, 0, 0, 0, 0, 1, 1, 1, 0, 1, 0, 1, 0, 0, 0, 1, 1, 0, 0, 0, 1, 0, 0, 0, 0, 0, 1, 1, 1, 0, 1, 1, 1, 1, 1, 0, 0, 0, 0, 0, 1, 0, 0, 1, 1, 0, 0, 0, 0, 0, 0, 1, 0, 0, 1, 0, 1, 1, 0, 1, 1, 0, 0, 1, 1, 0, 1, 1, 0, 1, 1, 1, 0, 0, 0, 1, 1, 1, 1, 0, 1, 1, 0, 0, 1, 0, 1, 1, 1, 1, 1, 0, 0, 0, 0, 1, 0, 0, 0, 0, 0, 1, 0, 0, 1, 1, 1, 1, 0, 0, 1, 0, 0, 0, 1, 1, 0, 1, 1, 0, 1, 1, 0, 1, 1, 0, 1, 0, 1, 0, 1, 0, 1, 1, 0, 1, 0, 1, 0, 1, 1, 0, 0, 1, 0, 0, 1, 0, 0, 0, 0, 0, 1, 0, 1, 0, 0, 1, 1, 1, 0, 1, 0, 1, 1, 1, 0, 1, 1, 1, 0, 1, 1, 0, 1, 1, 1, 1, 1, 0, 0, 0, 1, 0, 1, 1, 0, 1, 1, 0, 1, 0, 1, 1, 0, 1, 0, 1, 0, 0, 1, 1, 1, 0, 1, 0, 1, 0, 0, 0, 0, 1, 0, 1, 1, 1, 1, 0, 1, 1, 0, 0, 0, 0, 1, 0, 1, 1, 0, 1, 0, 0, 1, 1, 0, 0, 1, 0, 1, 1, 1, 1, 0, 1, 1, 1, 0, 0, 1, 0, 1, 1, 1, 1, 0, 1, 0, 1, 1, 0, 1, 1, 1, 0, 0, 0, 1, 1, 1, 0, 1, 0, 1, 1, 1, 0, 1, 0, 0, 0, 1, 1, 1, 1, 0, 1, 1, 0, 1, 1, 1, 1, 0, 1, 0, 0, 1, 0, 1, 0, 1, 1, 0, 0, 1, 0, 0, 1, 1, 1, 0, 1, 1, 0, 0, 1, 0]\n"
          ]
        }
      ]
    },
    {
      "cell_type": "markdown",
      "source": [
        "**F1-score**"
      ],
      "metadata": {
        "id": "GoOdoyZztfu6"
      }
    },
    {
      "cell_type": "code",
      "source": [
        "# Calculate the F1 score\n",
        "f1 = f1_score(y_test, Y_pred_labels)\n",
        "\n",
        "print(\"F1 Score: \", f1)"
      ],
      "metadata": {
        "colab": {
          "base_uri": "https://localhost:8080/"
        },
        "id": "_QPx1sU1q7Nt",
        "outputId": "ac7cbebe-0357-4d5d-9b1e-92d914ac4c81"
      },
      "execution_count": 61,
      "outputs": [
        {
          "output_type": "stream",
          "name": "stdout",
          "text": [
            "F1 Score:  0.9926890799567523\n"
          ]
        }
      ]
    },
    {
      "cell_type": "markdown",
      "source": [
        "**Recall**"
      ],
      "metadata": {
        "id": "Drk4coIbtr5s"
      }
    },
    {
      "cell_type": "code",
      "source": [
        "# Calculate recall\n",
        "recall = recall_score(y_test ,Y_pred_labels)\n",
        "\n",
        "print(\"Recall:\", recall)"
      ],
      "metadata": {
        "colab": {
          "base_uri": "https://localhost:8080/"
        },
        "id": "2R0_JQMqrs6m",
        "outputId": "b0c5b352-5fc5-49d8-d442-d492e6cfcf00"
      },
      "execution_count": 62,
      "outputs": [
        {
          "output_type": "stream",
          "name": "stdout",
          "text": [
            "Recall: 0.9897843942505133\n"
          ]
        }
      ]
    },
    {
      "cell_type": "markdown",
      "source": [
        "**Precision**"
      ],
      "metadata": {
        "id": "9ZKOkvZftvov"
      }
    },
    {
      "cell_type": "code",
      "source": [
        "# Calculate the precision score\n",
        "precision = precision_score(y_test, Y_pred_labels)\n",
        "print(\"Precision score:\", precision)"
      ],
      "metadata": {
        "colab": {
          "base_uri": "https://localhost:8080/"
        },
        "id": "fDcIlLcNr5mp",
        "outputId": "b53a399f-a5ee-481c-ab57-1ffb79d97772"
      },
      "execution_count": 63,
      "outputs": [
        {
          "output_type": "stream",
          "name": "stdout",
          "text": [
            "Precision score: 0.9956108644015285\n"
          ]
        }
      ]
    },
    {
      "cell_type": "markdown",
      "source": [
        "**verifying predicted results**"
      ],
      "metadata": {
        "id": "UQruh8jzLLin"
      }
    },
    {
      "cell_type": "markdown",
      "source": [
        "we will take just 100 value to test our model ."
      ],
      "metadata": {
        "id": "huyRSLDUM8HP"
      }
    },
    {
      "cell_type": "code",
      "source": [
        "test_data= y_test[0:100]"
      ],
      "metadata": {
        "id": "jDooDQ4ALKT8"
      },
      "execution_count": 143,
      "outputs": []
    },
    {
      "cell_type": "code",
      "source": [
        "predicted_data= Y_pred_labels[0:100]"
      ],
      "metadata": {
        "id": "FSYSABOHMFPC"
      },
      "execution_count": 144,
      "outputs": []
    },
    {
      "cell_type": "code",
      "source": [
        "print(test_data == predicted_data)"
      ],
      "metadata": {
        "colab": {
          "base_uri": "https://localhost:8080/"
        },
        "id": "BepKTvi_MpQ4",
        "outputId": "2e9716c7-b52c-4ac9-d1b9-80e13420bee4"
      },
      "execution_count": 145,
      "outputs": [
        {
          "output_type": "stream",
          "name": "stdout",
          "text": [
            "[ True  True  True  True  True  True  True  True  True  True  True  True\n",
            "  True  True  True  True  True  True  True  True  True  True  True  True\n",
            "  True  True  True  True  True  True  True  True  True  True  True  True\n",
            "  True  True  True  True  True  True  True  True  True  True  True  True\n",
            "  True  True  True  True  True  True  True False  True  True  True  True\n",
            "  True  True  True  True  True  True  True  True  True  True  True  True\n",
            "  True  True  True  True  True  True  True  True  True  True  True  True\n",
            "  True  True  True  True  True  True  True  True  True  True  True  True\n",
            "  True  True  True  True]\n"
          ]
        }
      ]
    },
    {
      "cell_type": "markdown",
      "source": [
        "**as you see there is only one predicted value which is false and all the other values are true**"
      ],
      "metadata": {
        "id": "GQCUGVO0NGMB"
      }
    },
    {
      "cell_type": "markdown",
      "source": [
        "**the reason why we have this false value is that the model has an accuracy of 0.99 which means also that the model will predict 99% as true values and 1% as false ones.**\n"
      ],
      "metadata": {
        "id": "_R2XY_eJNmhX"
      }
    }
  ]
}