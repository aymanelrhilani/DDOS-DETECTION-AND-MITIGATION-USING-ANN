{
  "nbformat": 4,
  "nbformat_minor": 0,
  "metadata": {
    "colab": {
      "provenance": []
    },
    "kernelspec": {
      "name": "python3",
      "display_name": "Python 3"
    },
    "language_info": {
      "name": "python"
    }
  },
  "cells": [
    {
      "cell_type": "code",
      "execution_count": 131,
      "metadata": {
        "colab": {
          "base_uri": "https://localhost:8080/"
        },
        "id": "i6WWm9q4IJ4Z",
        "outputId": "a7d04d86-357b-42b7-c0a9-898c6e3e31ad"
      },
      "outputs": [
        {
          "output_type": "stream",
          "name": "stdout",
          "text": [
            "Requirement already satisfied: kaggle in /usr/local/lib/python3.10/dist-packages (1.5.16)\n",
            "Requirement already satisfied: six>=1.10 in /usr/local/lib/python3.10/dist-packages (from kaggle) (1.16.0)\n",
            "Requirement already satisfied: certifi in /usr/local/lib/python3.10/dist-packages (from kaggle) (2023.7.22)\n",
            "Requirement already satisfied: python-dateutil in /usr/local/lib/python3.10/dist-packages (from kaggle) (2.8.2)\n",
            "Requirement already satisfied: requests in /usr/local/lib/python3.10/dist-packages (from kaggle) (2.31.0)\n",
            "Requirement already satisfied: tqdm in /usr/local/lib/python3.10/dist-packages (from kaggle) (4.66.0)\n",
            "Requirement already satisfied: python-slugify in /usr/local/lib/python3.10/dist-packages (from kaggle) (8.0.1)\n",
            "Requirement already satisfied: urllib3 in /usr/local/lib/python3.10/dist-packages (from kaggle) (2.0.4)\n",
            "Requirement already satisfied: bleach in /usr/local/lib/python3.10/dist-packages (from kaggle) (6.0.0)\n",
            "Requirement already satisfied: webencodings in /usr/local/lib/python3.10/dist-packages (from bleach->kaggle) (0.5.1)\n",
            "Requirement already satisfied: text-unidecode>=1.3 in /usr/local/lib/python3.10/dist-packages (from python-slugify->kaggle) (1.3)\n",
            "Requirement already satisfied: charset-normalizer<4,>=2 in /usr/local/lib/python3.10/dist-packages (from requests->kaggle) (3.2.0)\n",
            "Requirement already satisfied: idna<4,>=2.5 in /usr/local/lib/python3.10/dist-packages (from requests->kaggle) (3.4)\n"
          ]
        }
      ],
      "source": [
        "# installing kaggle library\n",
        "!pip install kaggle"
      ]
    },
    {
      "cell_type": "code",
      "source": [
        "#importing needed libraries\n",
        "import pandas as pd\n",
        "import numpy as np\n",
        "import pyarrow as pa\n",
        "import pyarrow.parquet as pq\n",
        "import matplotlib.pyplot as plt\n",
        "from sklearn.model_selection import train_test_split\n",
        "from keras.models import Sequential, load_model\n",
        "from keras.utils.np_utils import to_categorical\n",
        "from sklearn.preprocessing import LabelEncoder, StandardScaler\n",
        "from sklearn.metrics import confusion_matrix"
      ],
      "metadata": {
        "id": "uRYbSOWAwX1Q"
      },
      "execution_count": 132,
      "outputs": []
    },
    {
      "cell_type": "code",
      "source": [
        "#import your file kaggle.json\n",
        "# configuring the path of kaggle.json file\n",
        "!mkdir -p ~/.kaggle\n",
        "!cp /kaggle.json ~/.kaggle/\n",
        "!chmod 600 ~/.kaggle/kaggle.json\n"
      ],
      "metadata": {
        "id": "U0zwbRgALEMo"
      },
      "execution_count": 133,
      "outputs": []
    },
    {
      "cell_type": "markdown",
      "source": [
        "**API to fetch dataset from kaggle**\n",
        "\n",
        "\n"
      ],
      "metadata": {
        "id": "b1Ad4jj1tWyc"
      }
    },
    {
      "cell_type": "code",
      "source": [
        "!kaggle datasets download -d dhoogla/cicddos2019 #downloading our dataset in zip format"
      ],
      "metadata": {
        "colab": {
          "base_uri": "https://localhost:8080/"
        },
        "id": "MW7ofr3Usb5q",
        "outputId": "74a90bfc-ffaf-4634-de8c-c8e1befc407a"
      },
      "execution_count": 134,
      "outputs": [
        {
          "output_type": "stream",
          "name": "stdout",
          "text": [
            "cicddos2019.zip: Skipping, found more recently modified local copy (use --force to force download)\n"
          ]
        }
      ]
    },
    {
      "cell_type": "code",
      "source": [
        "from zipfile import ZipFile #extacting our zip file\n",
        "datasetddos = '/content/cicddos2019.zip'\n",
        "with ZipFile(datasetddos,'r') as zip :\n",
        "  zip.extractall()\n",
        "  print(\"the dataset is extracted\")"
      ],
      "metadata": {
        "colab": {
          "base_uri": "https://localhost:8080/"
        },
        "id": "GSftsl2etkuz",
        "outputId": "854b826c-97d3-4391-c6c0-60de55017795"
      },
      "execution_count": 135,
      "outputs": [
        {
          "output_type": "stream",
          "name": "stdout",
          "text": [
            "the dataset is extracted\n"
          ]
        }
      ]
    },
    {
      "cell_type": "code",
      "source": [
        "#trying to gather all in one parquet file\n",
        "#1-putting every parquet file into a dataframe\n",
        "#2-making a list which will hold our dataframes\n",
        "#3-concatinate the list using pandas function concat()\n",
        "#4-converting the concatinated dataframe to parquet file .\n",
        "df1 = pd.read_parquet('/content/DNS-testing.parquet')\n",
        "df2 = pd.read_parquet('/content/LDAP-testing.parquet')\n",
        "df3 = pd.read_parquet('/content/LDAP-training.parquet')\n",
        "df4 = pd.read_parquet('/content/MSSQL-testing.parquet')\n",
        "df5 = pd.read_parquet('/content/MSSQL-training.parquet')\n",
        "df6 = pd.read_parquet('/content/NTP-testing.parquet')\n",
        "df7 = pd.read_parquet('/content/NetBIOS-testing.parquet')\n",
        "df8 = pd.read_parquet('/content/NetBIOS-training.parquet')\n",
        "df9 = pd.read_parquet('/content/Portmap-training.parquet')\n",
        "df10 = pd.read_parquet('/content/SNMP-testing.parquet')\n",
        "df11 = pd.read_parquet('/content/Syn-testing.parquet')\n",
        "df12 = pd.read_parquet('/content/Syn-training.parquet')\n",
        "df13 = pd.read_parquet('/content/TFTP-testing.parquet')\n",
        "df14 = pd.read_parquet('/content/UDP-testing.parquet')\n",
        "df15 = pd.read_parquet('/content/UDP-training.parquet')\n",
        "df16 = pd.read_parquet('/content/UDPLag-testing.parquet')\n",
        "df17 = pd.read_parquet('/content/UDPLag-training.parquet')\n",
        "dfs = []\n",
        "dfs.append(df1)\n",
        "dfs.append(df2)\n",
        "dfs.append(df3)\n",
        "dfs.append(df4)\n",
        "dfs.append(df5)\n",
        "dfs.append(df6)\n",
        "dfs.append(df7)\n",
        "dfs.append(df8)\n",
        "dfs.append(df9)\n",
        "dfs.append(df10)\n",
        "dfs.append(df11)\n",
        "dfs.append(df12)\n",
        "dfs.append(df13)\n",
        "dfs.append(df14)\n",
        "dfs.append(df15)\n",
        "dfs.append(df16)\n",
        "dfs.append(df17)\n",
        "concatenated_df = pd.concat(dfs, ignore_index=True)\n",
        "output_file = \"/content/finaldataset.parquet\"\n",
        "concatenated_df.to_parquet(output_file, engine='pyarrow')\n",
        "\n",
        "\n",
        "\n"
      ],
      "metadata": {
        "id": "oiXr12cfwIMb"
      },
      "execution_count": 136,
      "outputs": []
    },
    {
      "cell_type": "code",
      "source": [
        "dfp = pd.read_parquet('/content/finaldataset.parquet') #putting all parquet files into one dataframe\n",
        "dfp.head()\n",
        "dfp['Label'].value_counts()"
      ],
      "metadata": {
        "colab": {
          "base_uri": "https://localhost:8080/"
        },
        "id": "pJIdIdCgBaBZ",
        "outputId": "6bb3378f-3c22-4bd6-82ff-bb47157cd348"
      },
      "execution_count": 137,
      "outputs": [
        {
          "output_type": "execute_result",
          "data": {
            "text/plain": [
              "DrDoS_NTP        121368\n",
              "TFTP              98917\n",
              "Benign            97831\n",
              "Syn               49373\n",
              "UDP               18090\n",
              "DrDoS_UDP         10420\n",
              "UDP-lag            8872\n",
              "MSSQL              8523\n",
              "DrDoS_MSSQL        6212\n",
              "DrDoS_DNS          3669\n",
              "DrDoS_SNMP         2717\n",
              "LDAP               1906\n",
              "DrDoS_LDAP         1440\n",
              "Portmap             685\n",
              "NetBIOS             644\n",
              "DrDoS_NetBIOS       598\n",
              "UDPLag               55\n",
              "WebDDoS              51\n",
              "Name: Label, dtype: int64"
            ]
          },
          "metadata": {},
          "execution_count": 137
        }
      ]
    },
    {
      "cell_type": "markdown",
      "source": [
        "as we see we put all the parquets into one parquet dataframe in order to facilitate the preprocessing ."
      ],
      "metadata": {
        "id": "x7Xt6XZjCo0N"
      }
    },
    {
      "cell_type": "code",
      "source": [
        "#now let's convert from finaldataset.parquet into finaldataset.csv\n",
        "csv_file = \"/content/finaldataset.csv\"\n",
        "dfp.to_csv(csv_file, index=False)\n"
      ],
      "metadata": {
        "id": "nbKbSXKAC0Tp"
      },
      "execution_count": 138,
      "outputs": []
    },
    {
      "cell_type": "code",
      "source": [
        "#let's check our finaldataset.csv that we are going to use .\n",
        "ddosdataset = pd.read_csv('/content/finaldataset.csv')\n",
        "ddosdataset.head()"
      ],
      "metadata": {
        "id": "shctMiv4EDxh",
        "colab": {
          "base_uri": "https://localhost:8080/",
          "height": 351
        },
        "outputId": "9d8f8d06-24cf-4e74-c79d-32cbfbb4b080"
      },
      "execution_count": 139,
      "outputs": [
        {
          "output_type": "execute_result",
          "data": {
            "text/plain": [
              "   Protocol  Flow Duration  Total Fwd Packets  Total Backward Packets  \\\n",
              "0        17             48                  2                       0   \n",
              "1        17              2                  2                       0   \n",
              "2        17              1                  2                       0   \n",
              "3        17              1                  2                       0   \n",
              "4        17              1                  2                       0   \n",
              "\n",
              "   Fwd Packets Length Total  Bwd Packets Length Total  Fwd Packet Length Max  \\\n",
              "0                    2944.0                       0.0                 1472.0   \n",
              "1                    2944.0                       0.0                 1472.0   \n",
              "2                    2944.0                       0.0                 1472.0   \n",
              "3                    2944.0                       0.0                 1472.0   \n",
              "4                    2896.0                       0.0                 1448.0   \n",
              "\n",
              "   Fwd Packet Length Min  Fwd Packet Length Mean  Fwd Packet Length Std  ...  \\\n",
              "0                 1472.0                  1472.0                    0.0  ...   \n",
              "1                 1472.0                  1472.0                    0.0  ...   \n",
              "2                 1472.0                  1472.0                    0.0  ...   \n",
              "3                 1472.0                  1472.0                    0.0  ...   \n",
              "4                 1448.0                  1448.0                    0.0  ...   \n",
              "\n",
              "   Fwd Seg Size Min  Active Mean  Active Std  Active Max  Active Min  \\\n",
              "0                 0          0.0         0.0         0.0         0.0   \n",
              "1                -1          0.0         0.0         0.0         0.0   \n",
              "2                -1          0.0         0.0         0.0         0.0   \n",
              "3              1480          0.0         0.0         0.0         0.0   \n",
              "4                 0          0.0         0.0         0.0         0.0   \n",
              "\n",
              "   Idle Mean  Idle Std  Idle Max  Idle Min      Label  \n",
              "0        0.0       0.0       0.0       0.0  DrDoS_DNS  \n",
              "1        0.0       0.0       0.0       0.0  DrDoS_DNS  \n",
              "2        0.0       0.0       0.0       0.0  DrDoS_DNS  \n",
              "3        0.0       0.0       0.0       0.0  DrDoS_DNS  \n",
              "4        0.0       0.0       0.0       0.0  DrDoS_DNS  \n",
              "\n",
              "[5 rows x 78 columns]"
            ],
            "text/html": [
              "\n",
              "\n",
              "  <div id=\"df-1ac3a36b-e793-4484-a37e-c2ae952f0015\">\n",
              "    <div class=\"colab-df-container\">\n",
              "      <div>\n",
              "<style scoped>\n",
              "    .dataframe tbody tr th:only-of-type {\n",
              "        vertical-align: middle;\n",
              "    }\n",
              "\n",
              "    .dataframe tbody tr th {\n",
              "        vertical-align: top;\n",
              "    }\n",
              "\n",
              "    .dataframe thead th {\n",
              "        text-align: right;\n",
              "    }\n",
              "</style>\n",
              "<table border=\"1\" class=\"dataframe\">\n",
              "  <thead>\n",
              "    <tr style=\"text-align: right;\">\n",
              "      <th></th>\n",
              "      <th>Protocol</th>\n",
              "      <th>Flow Duration</th>\n",
              "      <th>Total Fwd Packets</th>\n",
              "      <th>Total Backward Packets</th>\n",
              "      <th>Fwd Packets Length Total</th>\n",
              "      <th>Bwd Packets Length Total</th>\n",
              "      <th>Fwd Packet Length Max</th>\n",
              "      <th>Fwd Packet Length Min</th>\n",
              "      <th>Fwd Packet Length Mean</th>\n",
              "      <th>Fwd Packet Length Std</th>\n",
              "      <th>...</th>\n",
              "      <th>Fwd Seg Size Min</th>\n",
              "      <th>Active Mean</th>\n",
              "      <th>Active Std</th>\n",
              "      <th>Active Max</th>\n",
              "      <th>Active Min</th>\n",
              "      <th>Idle Mean</th>\n",
              "      <th>Idle Std</th>\n",
              "      <th>Idle Max</th>\n",
              "      <th>Idle Min</th>\n",
              "      <th>Label</th>\n",
              "    </tr>\n",
              "  </thead>\n",
              "  <tbody>\n",
              "    <tr>\n",
              "      <th>0</th>\n",
              "      <td>17</td>\n",
              "      <td>48</td>\n",
              "      <td>2</td>\n",
              "      <td>0</td>\n",
              "      <td>2944.0</td>\n",
              "      <td>0.0</td>\n",
              "      <td>1472.0</td>\n",
              "      <td>1472.0</td>\n",
              "      <td>1472.0</td>\n",
              "      <td>0.0</td>\n",
              "      <td>...</td>\n",
              "      <td>0</td>\n",
              "      <td>0.0</td>\n",
              "      <td>0.0</td>\n",
              "      <td>0.0</td>\n",
              "      <td>0.0</td>\n",
              "      <td>0.0</td>\n",
              "      <td>0.0</td>\n",
              "      <td>0.0</td>\n",
              "      <td>0.0</td>\n",
              "      <td>DrDoS_DNS</td>\n",
              "    </tr>\n",
              "    <tr>\n",
              "      <th>1</th>\n",
              "      <td>17</td>\n",
              "      <td>2</td>\n",
              "      <td>2</td>\n",
              "      <td>0</td>\n",
              "      <td>2944.0</td>\n",
              "      <td>0.0</td>\n",
              "      <td>1472.0</td>\n",
              "      <td>1472.0</td>\n",
              "      <td>1472.0</td>\n",
              "      <td>0.0</td>\n",
              "      <td>...</td>\n",
              "      <td>-1</td>\n",
              "      <td>0.0</td>\n",
              "      <td>0.0</td>\n",
              "      <td>0.0</td>\n",
              "      <td>0.0</td>\n",
              "      <td>0.0</td>\n",
              "      <td>0.0</td>\n",
              "      <td>0.0</td>\n",
              "      <td>0.0</td>\n",
              "      <td>DrDoS_DNS</td>\n",
              "    </tr>\n",
              "    <tr>\n",
              "      <th>2</th>\n",
              "      <td>17</td>\n",
              "      <td>1</td>\n",
              "      <td>2</td>\n",
              "      <td>0</td>\n",
              "      <td>2944.0</td>\n",
              "      <td>0.0</td>\n",
              "      <td>1472.0</td>\n",
              "      <td>1472.0</td>\n",
              "      <td>1472.0</td>\n",
              "      <td>0.0</td>\n",
              "      <td>...</td>\n",
              "      <td>-1</td>\n",
              "      <td>0.0</td>\n",
              "      <td>0.0</td>\n",
              "      <td>0.0</td>\n",
              "      <td>0.0</td>\n",
              "      <td>0.0</td>\n",
              "      <td>0.0</td>\n",
              "      <td>0.0</td>\n",
              "      <td>0.0</td>\n",
              "      <td>DrDoS_DNS</td>\n",
              "    </tr>\n",
              "    <tr>\n",
              "      <th>3</th>\n",
              "      <td>17</td>\n",
              "      <td>1</td>\n",
              "      <td>2</td>\n",
              "      <td>0</td>\n",
              "      <td>2944.0</td>\n",
              "      <td>0.0</td>\n",
              "      <td>1472.0</td>\n",
              "      <td>1472.0</td>\n",
              "      <td>1472.0</td>\n",
              "      <td>0.0</td>\n",
              "      <td>...</td>\n",
              "      <td>1480</td>\n",
              "      <td>0.0</td>\n",
              "      <td>0.0</td>\n",
              "      <td>0.0</td>\n",
              "      <td>0.0</td>\n",
              "      <td>0.0</td>\n",
              "      <td>0.0</td>\n",
              "      <td>0.0</td>\n",
              "      <td>0.0</td>\n",
              "      <td>DrDoS_DNS</td>\n",
              "    </tr>\n",
              "    <tr>\n",
              "      <th>4</th>\n",
              "      <td>17</td>\n",
              "      <td>1</td>\n",
              "      <td>2</td>\n",
              "      <td>0</td>\n",
              "      <td>2896.0</td>\n",
              "      <td>0.0</td>\n",
              "      <td>1448.0</td>\n",
              "      <td>1448.0</td>\n",
              "      <td>1448.0</td>\n",
              "      <td>0.0</td>\n",
              "      <td>...</td>\n",
              "      <td>0</td>\n",
              "      <td>0.0</td>\n",
              "      <td>0.0</td>\n",
              "      <td>0.0</td>\n",
              "      <td>0.0</td>\n",
              "      <td>0.0</td>\n",
              "      <td>0.0</td>\n",
              "      <td>0.0</td>\n",
              "      <td>0.0</td>\n",
              "      <td>DrDoS_DNS</td>\n",
              "    </tr>\n",
              "  </tbody>\n",
              "</table>\n",
              "<p>5 rows × 78 columns</p>\n",
              "</div>\n",
              "      <button class=\"colab-df-convert\" onclick=\"convertToInteractive('df-1ac3a36b-e793-4484-a37e-c2ae952f0015')\"\n",
              "              title=\"Convert this dataframe to an interactive table.\"\n",
              "              style=\"display:none;\">\n",
              "\n",
              "  <svg xmlns=\"http://www.w3.org/2000/svg\" height=\"24px\"viewBox=\"0 0 24 24\"\n",
              "       width=\"24px\">\n",
              "    <path d=\"M0 0h24v24H0V0z\" fill=\"none\"/>\n",
              "    <path d=\"M18.56 5.44l.94 2.06.94-2.06 2.06-.94-2.06-.94-.94-2.06-.94 2.06-2.06.94zm-11 1L8.5 8.5l.94-2.06 2.06-.94-2.06-.94L8.5 2.5l-.94 2.06-2.06.94zm10 10l.94 2.06.94-2.06 2.06-.94-2.06-.94-.94-2.06-.94 2.06-2.06.94z\"/><path d=\"M17.41 7.96l-1.37-1.37c-.4-.4-.92-.59-1.43-.59-.52 0-1.04.2-1.43.59L10.3 9.45l-7.72 7.72c-.78.78-.78 2.05 0 2.83L4 21.41c.39.39.9.59 1.41.59.51 0 1.02-.2 1.41-.59l7.78-7.78 2.81-2.81c.8-.78.8-2.07 0-2.86zM5.41 20L4 18.59l7.72-7.72 1.47 1.35L5.41 20z\"/>\n",
              "  </svg>\n",
              "      </button>\n",
              "\n",
              "\n",
              "\n",
              "    <div id=\"df-ca8ca4ed-2f3b-4759-bb6a-a3fbb43af8fb\">\n",
              "      <button class=\"colab-df-quickchart\" onclick=\"quickchart('df-ca8ca4ed-2f3b-4759-bb6a-a3fbb43af8fb')\"\n",
              "              title=\"Suggest charts.\"\n",
              "              style=\"display:none;\">\n",
              "\n",
              "<svg xmlns=\"http://www.w3.org/2000/svg\" height=\"24px\"viewBox=\"0 0 24 24\"\n",
              "     width=\"24px\">\n",
              "    <g>\n",
              "        <path d=\"M19 3H5c-1.1 0-2 .9-2 2v14c0 1.1.9 2 2 2h14c1.1 0 2-.9 2-2V5c0-1.1-.9-2-2-2zM9 17H7v-7h2v7zm4 0h-2V7h2v10zm4 0h-2v-4h2v4z\"/>\n",
              "    </g>\n",
              "</svg>\n",
              "      </button>\n",
              "    </div>\n",
              "\n",
              "<style>\n",
              "  .colab-df-quickchart {\n",
              "    background-color: #E8F0FE;\n",
              "    border: none;\n",
              "    border-radius: 50%;\n",
              "    cursor: pointer;\n",
              "    display: none;\n",
              "    fill: #1967D2;\n",
              "    height: 32px;\n",
              "    padding: 0 0 0 0;\n",
              "    width: 32px;\n",
              "  }\n",
              "\n",
              "  .colab-df-quickchart:hover {\n",
              "    background-color: #E2EBFA;\n",
              "    box-shadow: 0px 1px 2px rgba(60, 64, 67, 0.3), 0px 1px 3px 1px rgba(60, 64, 67, 0.15);\n",
              "    fill: #174EA6;\n",
              "  }\n",
              "\n",
              "  [theme=dark] .colab-df-quickchart {\n",
              "    background-color: #3B4455;\n",
              "    fill: #D2E3FC;\n",
              "  }\n",
              "\n",
              "  [theme=dark] .colab-df-quickchart:hover {\n",
              "    background-color: #434B5C;\n",
              "    box-shadow: 0px 1px 3px 1px rgba(0, 0, 0, 0.15);\n",
              "    filter: drop-shadow(0px 1px 2px rgba(0, 0, 0, 0.3));\n",
              "    fill: #FFFFFF;\n",
              "  }\n",
              "</style>\n",
              "\n",
              "    <script>\n",
              "      async function quickchart(key) {\n",
              "        const containerElement = document.querySelector('#' + key);\n",
              "        const charts = await google.colab.kernel.invokeFunction(\n",
              "            'suggestCharts', [key], {});\n",
              "      }\n",
              "    </script>\n",
              "\n",
              "      <script>\n",
              "\n",
              "function displayQuickchartButton(domScope) {\n",
              "  let quickchartButtonEl =\n",
              "    domScope.querySelector('#df-ca8ca4ed-2f3b-4759-bb6a-a3fbb43af8fb button.colab-df-quickchart');\n",
              "  quickchartButtonEl.style.display =\n",
              "    google.colab.kernel.accessAllowed ? 'block' : 'none';\n",
              "}\n",
              "\n",
              "        displayQuickchartButton(document);\n",
              "      </script>\n",
              "      <style>\n",
              "    .colab-df-container {\n",
              "      display:flex;\n",
              "      flex-wrap:wrap;\n",
              "      gap: 12px;\n",
              "    }\n",
              "\n",
              "    .colab-df-convert {\n",
              "      background-color: #E8F0FE;\n",
              "      border: none;\n",
              "      border-radius: 50%;\n",
              "      cursor: pointer;\n",
              "      display: none;\n",
              "      fill: #1967D2;\n",
              "      height: 32px;\n",
              "      padding: 0 0 0 0;\n",
              "      width: 32px;\n",
              "    }\n",
              "\n",
              "    .colab-df-convert:hover {\n",
              "      background-color: #E2EBFA;\n",
              "      box-shadow: 0px 1px 2px rgba(60, 64, 67, 0.3), 0px 1px 3px 1px rgba(60, 64, 67, 0.15);\n",
              "      fill: #174EA6;\n",
              "    }\n",
              "\n",
              "    [theme=dark] .colab-df-convert {\n",
              "      background-color: #3B4455;\n",
              "      fill: #D2E3FC;\n",
              "    }\n",
              "\n",
              "    [theme=dark] .colab-df-convert:hover {\n",
              "      background-color: #434B5C;\n",
              "      box-shadow: 0px 1px 3px 1px rgba(0, 0, 0, 0.15);\n",
              "      filter: drop-shadow(0px 1px 2px rgba(0, 0, 0, 0.3));\n",
              "      fill: #FFFFFF;\n",
              "    }\n",
              "  </style>\n",
              "\n",
              "      <script>\n",
              "        const buttonEl =\n",
              "          document.querySelector('#df-1ac3a36b-e793-4484-a37e-c2ae952f0015 button.colab-df-convert');\n",
              "        buttonEl.style.display =\n",
              "          google.colab.kernel.accessAllowed ? 'block' : 'none';\n",
              "\n",
              "        async function convertToInteractive(key) {\n",
              "          const element = document.querySelector('#df-1ac3a36b-e793-4484-a37e-c2ae952f0015');\n",
              "          const dataTable =\n",
              "            await google.colab.kernel.invokeFunction('convertToInteractive',\n",
              "                                                     [key], {});\n",
              "          if (!dataTable) return;\n",
              "\n",
              "          const docLinkHtml = 'Like what you see? Visit the ' +\n",
              "            '<a target=\"_blank\" href=https://colab.research.google.com/notebooks/data_table.ipynb>data table notebook</a>'\n",
              "            + ' to learn more about interactive tables.';\n",
              "          element.innerHTML = '';\n",
              "          dataTable['output_type'] = 'display_data';\n",
              "          await google.colab.output.renderOutput(dataTable, element);\n",
              "          const docLink = document.createElement('div');\n",
              "          docLink.innerHTML = docLinkHtml;\n",
              "          element.appendChild(docLink);\n",
              "        }\n",
              "      </script>\n",
              "    </div>\n",
              "  </div>\n"
            ]
          },
          "metadata": {},
          "execution_count": 139
        }
      ]
    },
    {
      "cell_type": "markdown",
      "source": [],
      "metadata": {
        "id": "OufOhFGNHpug"
      }
    },
    {
      "cell_type": "code",
      "source": [
        " ddosdataset['Label'].value_counts()"
      ],
      "metadata": {
        "colab": {
          "base_uri": "https://localhost:8080/"
        },
        "id": "UZcJHzdTEfQ5",
        "outputId": "0ee94797-8829-4ad7-d10f-6e3ac5b7dbcc"
      },
      "execution_count": 140,
      "outputs": [
        {
          "output_type": "execute_result",
          "data": {
            "text/plain": [
              "DrDoS_NTP        121368\n",
              "TFTP              98917\n",
              "Benign            97831\n",
              "Syn               49373\n",
              "UDP               18090\n",
              "DrDoS_UDP         10420\n",
              "UDP-lag            8872\n",
              "MSSQL              8523\n",
              "DrDoS_MSSQL        6212\n",
              "DrDoS_DNS          3669\n",
              "DrDoS_SNMP         2717\n",
              "LDAP               1906\n",
              "DrDoS_LDAP         1440\n",
              "Portmap             685\n",
              "NetBIOS             644\n",
              "DrDoS_NetBIOS       598\n",
              "UDPLag               55\n",
              "WebDDoS              51\n",
              "Name: Label, dtype: int64"
            ]
          },
          "metadata": {},
          "execution_count": 140
        }
      ]
    },
    {
      "cell_type": "markdown",
      "source": [
        "now finaldataset is ready to be preprocessed ."
      ],
      "metadata": {
        "id": "tf9O_goOEv5z"
      }
    },
    {
      "cell_type": "markdown",
      "source": [
        "**1-Handling the missing values in our dataset:**\n",
        "\n",
        "---\n",
        "\n",
        "\n",
        "\n",
        "to handle missing values in your dataset there are two methods:\n",
        "\n",
        "1) dropping\n",
        "\n",
        "2) imputation\n",
        "\n",
        "\n",
        "\n"
      ],
      "metadata": {
        "id": "pnw7QGxbRtiB"
      }
    },
    {
      "cell_type": "code",
      "source": [
        "# let's check if our dataset has any missing values .\n",
        "missing_counts = ddosdataset.isnull().sum()\n",
        "print(missing_counts.head(78))\n"
      ],
      "metadata": {
        "colab": {
          "base_uri": "https://localhost:8080/"
        },
        "id": "IdvckUqmTW6k",
        "outputId": "e13ce03c-898f-4a14-885e-0524ccdd7ddc"
      },
      "execution_count": 141,
      "outputs": [
        {
          "output_type": "stream",
          "name": "stdout",
          "text": [
            "Protocol                    0\n",
            "Flow Duration               0\n",
            "Total Fwd Packets           0\n",
            "Total Backward Packets      0\n",
            "Fwd Packets Length Total    0\n",
            "                           ..\n",
            "Idle Mean                   0\n",
            "Idle Std                    0\n",
            "Idle Max                    0\n",
            "Idle Min                    0\n",
            "Label                       0\n",
            "Length: 78, dtype: int64\n"
          ]
        }
      ]
    },
    {
      "cell_type": "markdown",
      "source": [
        "as we see our dataset has not any missing values."
      ],
      "metadata": {
        "id": "LVUbUwhAVT2a"
      }
    },
    {
      "cell_type": "markdown",
      "source": [
        "**In case you found missing values:**\n",
        "\n",
        "this is how you will deal with them --->\n",
        "\n",
        "1) **imputation**:\n",
        "\n",
        "you will analyse the data distribution in the coulmn who has missing values , then by analysing you will chose one of the central tendencies which are:\n",
        "\n",
        "1-mean()\n",
        "\n",
        "2-median()\n",
        "\n",
        "3-mode()\n",
        "\n",
        "**Exemple:**\n",
        "\n",
        "this is how to analyse data distribution in specific coulmn which contains missing values(of course you need to import the needed libraries firstly):\n",
        "\n",
        "\n",
        "fig ,ax = plt.subplots(figsize=(8,8))\n",
        "\n",
        "sns.distplot(ddosdataset.columnnamewhichcontainsmissingvalues)\n",
        "\n",
        "**sns---> seaborn library**\n",
        "\n",
        "if data is gathered in one place , we will use Median to handle missing values.\n",
        "\n",
        "**and this is how to do it:**\n",
        "\n",
        "ddosdataset['columnwhichcontainsmissingvalues'].fillna(ddosdataset['columnwhichcontainsmissingvalues'].median(),inplace=True)\n",
        "\n",
        "**Now if you check for missing values in this column you will find nothing**\n",
        "\n",
        "\n",
        "\n",
        "2) **Dropping**:\n",
        "\n",
        "here you will just dropp out all the missing values (**Note**:if your dataset is small then this method it's not a good solution )\n",
        "\n",
        "**This is how to do it:**\n",
        "\n",
        "**ddosdataset = ddosdataset.dropna(how='any')**\n",
        "\n",
        "You will notice that the number of rows will be decreased."
      ],
      "metadata": {
        "id": "nPjJ8w-fWzcN"
      }
    },
    {
      "cell_type": "markdown",
      "source": [
        "**seperating data features and target(Label)**"
      ],
      "metadata": {
        "id": "FpItbdS3i8Z4"
      }
    },
    {
      "cell_type": "code",
      "source": [
        "X = ddosdataset.drop(columns='Label', axis =1)\n",
        "Y = ddosdataset['Label']"
      ],
      "metadata": {
        "id": "lJsmQ5imjPoV"
      },
      "execution_count": 142,
      "outputs": []
    },
    {
      "cell_type": "code",
      "source": [
        "print(X)"
      ],
      "metadata": {
        "colab": {
          "base_uri": "https://localhost:8080/"
        },
        "id": "44pZGYJUlPEE",
        "outputId": "0f34cf74-c522-44b9-8d9c-7fcca6e3f203"
      },
      "execution_count": 143,
      "outputs": [
        {
          "output_type": "stream",
          "name": "stdout",
          "text": [
            "        Protocol  Flow Duration  Total Fwd Packets  Total Backward Packets  \\\n",
            "0             17             48                  2                       0   \n",
            "1             17              2                  2                       0   \n",
            "2             17              1                  2                       0   \n",
            "3             17              1                  2                       0   \n",
            "4             17              1                  2                       0   \n",
            "...          ...            ...                ...                     ...   \n",
            "431366         6             53                  1                       2   \n",
            "431367         6             66                  1                       2   \n",
            "431368        17          26288                  2                       2   \n",
            "431369         6          30679                  1                       1   \n",
            "431370         6             67                  1                       2   \n",
            "\n",
            "        Fwd Packets Length Total  Bwd Packets Length Total  \\\n",
            "0                         2944.0                       0.0   \n",
            "1                         2944.0                       0.0   \n",
            "2                         2944.0                       0.0   \n",
            "3                         2944.0                       0.0   \n",
            "4                         2896.0                       0.0   \n",
            "...                          ...                       ...   \n",
            "431366                       0.0                       0.0   \n",
            "431367                       0.0                       0.0   \n",
            "431368                      96.0                      96.0   \n",
            "431369                       0.0                       0.0   \n",
            "431370                       0.0                       0.0   \n",
            "\n",
            "        Fwd Packet Length Max  Fwd Packet Length Min  Fwd Packet Length Mean  \\\n",
            "0                      1472.0                 1472.0                  1472.0   \n",
            "1                      1472.0                 1472.0                  1472.0   \n",
            "2                      1472.0                 1472.0                  1472.0   \n",
            "3                      1472.0                 1472.0                  1472.0   \n",
            "4                      1448.0                 1448.0                  1448.0   \n",
            "...                       ...                    ...                     ...   \n",
            "431366                    0.0                    0.0                     0.0   \n",
            "431367                    0.0                    0.0                     0.0   \n",
            "431368                   48.0                   48.0                    48.0   \n",
            "431369                    0.0                    0.0                     0.0   \n",
            "431370                    0.0                    0.0                     0.0   \n",
            "\n",
            "        Fwd Packet Length Std  ...  Fwd Act Data Packets  Fwd Seg Size Min  \\\n",
            "0                         0.0  ...                     1                 0   \n",
            "1                         0.0  ...                     1                -1   \n",
            "2                         0.0  ...                     1                -1   \n",
            "3                         0.0  ...                     1              1480   \n",
            "4                         0.0  ...                     1                 0   \n",
            "...                       ...  ...                   ...               ...   \n",
            "431366                    0.0  ...                     0                32   \n",
            "431367                    0.0  ...                     0                32   \n",
            "431368                    0.0  ...                     1                20   \n",
            "431369                    0.0  ...                     0                32   \n",
            "431370                    0.0  ...                     0                32   \n",
            "\n",
            "        Active Mean  Active Std  Active Max  Active Min  Idle Mean  Idle Std  \\\n",
            "0               0.0         0.0         0.0         0.0        0.0       0.0   \n",
            "1               0.0         0.0         0.0         0.0        0.0       0.0   \n",
            "2               0.0         0.0         0.0         0.0        0.0       0.0   \n",
            "3               0.0         0.0         0.0         0.0        0.0       0.0   \n",
            "4               0.0         0.0         0.0         0.0        0.0       0.0   \n",
            "...             ...         ...         ...         ...        ...       ...   \n",
            "431366          0.0         0.0         0.0         0.0        0.0       0.0   \n",
            "431367          0.0         0.0         0.0         0.0        0.0       0.0   \n",
            "431368          0.0         0.0         0.0         0.0        0.0       0.0   \n",
            "431369          0.0         0.0         0.0         0.0        0.0       0.0   \n",
            "431370          0.0         0.0         0.0         0.0        0.0       0.0   \n",
            "\n",
            "        Idle Max  Idle Min  \n",
            "0            0.0       0.0  \n",
            "1            0.0       0.0  \n",
            "2            0.0       0.0  \n",
            "3            0.0       0.0  \n",
            "4            0.0       0.0  \n",
            "...          ...       ...  \n",
            "431366       0.0       0.0  \n",
            "431367       0.0       0.0  \n",
            "431368       0.0       0.0  \n",
            "431369       0.0       0.0  \n",
            "431370       0.0       0.0  \n",
            "\n",
            "[431371 rows x 77 columns]\n"
          ]
        }
      ]
    },
    {
      "cell_type": "code",
      "source": [
        "print(Y)"
      ],
      "metadata": {
        "colab": {
          "base_uri": "https://localhost:8080/"
        },
        "id": "gcXPD0JQlUVy",
        "outputId": "1f6f00e7-17b7-4f9b-fb49-02a1345d803b"
      },
      "execution_count": 144,
      "outputs": [
        {
          "output_type": "stream",
          "name": "stdout",
          "text": [
            "0         DrDoS_DNS\n",
            "1         DrDoS_DNS\n",
            "2         DrDoS_DNS\n",
            "3         DrDoS_DNS\n",
            "4         DrDoS_DNS\n",
            "            ...    \n",
            "431366       Benign\n",
            "431367       Benign\n",
            "431368       Benign\n",
            "431369       Benign\n",
            "431370       Benign\n",
            "Name: Label, Length: 431371, dtype: object\n"
          ]
        }
      ]
    },
    {
      "cell_type": "markdown",
      "source": [
        "**So this is our Label that we are going to use in order to say it's a ddos attack or not**\n",
        "\n",
        "Notice that this label contains non-numerical values which is not good for training our model that's why we should call label encoding concept."
      ],
      "metadata": {
        "id": "G8IeoDpfn6wa"
      }
    },
    {
      "cell_type": "markdown",
      "source": [
        "**#### Label encoding is converting the labels into numeric form #####**."
      ],
      "metadata": {
        "id": "wojPyinKpAH9"
      }
    },
    {
      "cell_type": "markdown",
      "source": [
        "**i will give the number 1 to all ddos attacks and number 0 to Benign**\n",
        "\n",
        "**1------> DDOS Attack (dosn't matter it's type )**\n",
        "\n",
        "0------> Benign (normal)"
      ],
      "metadata": {
        "id": "4doqhTXBpQN5"
      }
    },
    {
      "cell_type": "code",
      "source": [
        "list(Y)"
      ],
      "metadata": {
        "colab": {
          "base_uri": "https://localhost:8080/"
        },
        "id": "kBzjBXLi72Cq",
        "outputId": "a63e9d19-f7c2-4025-d198-29a99035284f"
      },
      "execution_count": null,
      "outputs": [
        {
          "output_type": "execute_result",
          "data": {
            "text/plain": [
              "['DrDoS_DNS',\n",
              " 'DrDoS_DNS',\n",
              " 'DrDoS_DNS',\n",
              " 'DrDoS_DNS',\n",
              " 'DrDoS_DNS',\n",
              " 'DrDoS_DNS',\n",
              " 'DrDoS_DNS',\n",
              " 'DrDoS_DNS',\n",
              " 'DrDoS_DNS',\n",
              " 'DrDoS_DNS',\n",
              " 'DrDoS_DNS',\n",
              " 'DrDoS_DNS',\n",
              " 'DrDoS_DNS',\n",
              " 'DrDoS_DNS',\n",
              " 'DrDoS_DNS',\n",
              " 'DrDoS_DNS',\n",
              " 'DrDoS_DNS',\n",
              " 'DrDoS_DNS',\n",
              " 'DrDoS_DNS',\n",
              " 'DrDoS_DNS',\n",
              " 'DrDoS_DNS',\n",
              " 'DrDoS_DNS',\n",
              " 'DrDoS_DNS',\n",
              " 'DrDoS_DNS',\n",
              " 'DrDoS_DNS',\n",
              " 'DrDoS_DNS',\n",
              " 'DrDoS_DNS',\n",
              " 'DrDoS_DNS',\n",
              " 'DrDoS_DNS',\n",
              " 'DrDoS_DNS',\n",
              " 'DrDoS_DNS',\n",
              " 'DrDoS_DNS',\n",
              " 'DrDoS_DNS',\n",
              " 'DrDoS_DNS',\n",
              " 'DrDoS_DNS',\n",
              " 'DrDoS_DNS',\n",
              " 'DrDoS_DNS',\n",
              " 'DrDoS_DNS',\n",
              " 'DrDoS_DNS',\n",
              " 'DrDoS_DNS',\n",
              " 'DrDoS_DNS',\n",
              " 'DrDoS_DNS',\n",
              " 'DrDoS_DNS',\n",
              " 'DrDoS_DNS',\n",
              " 'DrDoS_DNS',\n",
              " 'DrDoS_DNS',\n",
              " 'DrDoS_DNS',\n",
              " 'DrDoS_DNS',\n",
              " 'DrDoS_DNS',\n",
              " 'DrDoS_DNS',\n",
              " 'DrDoS_DNS',\n",
              " 'DrDoS_DNS',\n",
              " 'DrDoS_DNS',\n",
              " 'DrDoS_DNS',\n",
              " 'DrDoS_DNS',\n",
              " 'DrDoS_DNS',\n",
              " 'DrDoS_DNS',\n",
              " 'DrDoS_DNS',\n",
              " 'DrDoS_DNS',\n",
              " 'DrDoS_DNS',\n",
              " 'DrDoS_DNS',\n",
              " 'DrDoS_DNS',\n",
              " 'DrDoS_DNS',\n",
              " 'DrDoS_DNS',\n",
              " 'DrDoS_DNS',\n",
              " 'DrDoS_DNS',\n",
              " 'DrDoS_DNS',\n",
              " 'DrDoS_DNS',\n",
              " 'DrDoS_DNS',\n",
              " 'DrDoS_DNS',\n",
              " 'DrDoS_DNS',\n",
              " 'DrDoS_DNS',\n",
              " 'DrDoS_DNS',\n",
              " 'DrDoS_DNS',\n",
              " 'DrDoS_DNS',\n",
              " 'DrDoS_DNS',\n",
              " 'DrDoS_DNS',\n",
              " 'DrDoS_DNS',\n",
              " 'DrDoS_DNS',\n",
              " 'DrDoS_DNS',\n",
              " 'DrDoS_DNS',\n",
              " 'DrDoS_DNS',\n",
              " 'DrDoS_DNS',\n",
              " 'DrDoS_DNS',\n",
              " 'DrDoS_DNS',\n",
              " 'DrDoS_DNS',\n",
              " 'DrDoS_DNS',\n",
              " 'DrDoS_DNS',\n",
              " 'DrDoS_DNS',\n",
              " 'DrDoS_DNS',\n",
              " 'DrDoS_DNS',\n",
              " 'DrDoS_DNS',\n",
              " 'DrDoS_DNS',\n",
              " 'DrDoS_DNS',\n",
              " 'DrDoS_DNS',\n",
              " 'DrDoS_DNS',\n",
              " 'DrDoS_DNS',\n",
              " 'DrDoS_DNS',\n",
              " 'DrDoS_DNS',\n",
              " 'DrDoS_DNS',\n",
              " 'DrDoS_DNS',\n",
              " 'DrDoS_DNS',\n",
              " 'DrDoS_DNS',\n",
              " 'DrDoS_DNS',\n",
              " 'DrDoS_DNS',\n",
              " 'DrDoS_DNS',\n",
              " 'DrDoS_DNS',\n",
              " 'DrDoS_DNS',\n",
              " 'DrDoS_DNS',\n",
              " 'DrDoS_DNS',\n",
              " 'DrDoS_DNS',\n",
              " 'DrDoS_DNS',\n",
              " 'DrDoS_DNS',\n",
              " 'DrDoS_DNS',\n",
              " 'DrDoS_DNS',\n",
              " 'DrDoS_DNS',\n",
              " 'DrDoS_DNS',\n",
              " 'DrDoS_DNS',\n",
              " 'DrDoS_DNS',\n",
              " 'DrDoS_DNS',\n",
              " 'DrDoS_DNS',\n",
              " 'DrDoS_DNS',\n",
              " 'DrDoS_DNS',\n",
              " 'DrDoS_DNS',\n",
              " 'DrDoS_DNS',\n",
              " 'DrDoS_DNS',\n",
              " 'DrDoS_DNS',\n",
              " 'DrDoS_DNS',\n",
              " 'DrDoS_DNS',\n",
              " 'DrDoS_DNS',\n",
              " 'DrDoS_DNS',\n",
              " 'DrDoS_DNS',\n",
              " 'DrDoS_DNS',\n",
              " 'DrDoS_DNS',\n",
              " 'DrDoS_DNS',\n",
              " 'DrDoS_DNS',\n",
              " 'DrDoS_DNS',\n",
              " 'DrDoS_DNS',\n",
              " 'DrDoS_DNS',\n",
              " 'DrDoS_DNS',\n",
              " 'DrDoS_DNS',\n",
              " 'DrDoS_DNS',\n",
              " 'DrDoS_DNS',\n",
              " 'DrDoS_DNS',\n",
              " 'DrDoS_DNS',\n",
              " 'DrDoS_DNS',\n",
              " 'DrDoS_DNS',\n",
              " 'DrDoS_DNS',\n",
              " 'DrDoS_DNS',\n",
              " 'DrDoS_DNS',\n",
              " 'DrDoS_DNS',\n",
              " 'DrDoS_DNS',\n",
              " 'DrDoS_DNS',\n",
              " 'DrDoS_DNS',\n",
              " 'DrDoS_DNS',\n",
              " 'DrDoS_DNS',\n",
              " 'DrDoS_DNS',\n",
              " 'DrDoS_DNS',\n",
              " 'DrDoS_DNS',\n",
              " 'DrDoS_DNS',\n",
              " 'DrDoS_DNS',\n",
              " 'DrDoS_DNS',\n",
              " 'DrDoS_DNS',\n",
              " 'DrDoS_DNS',\n",
              " 'DrDoS_DNS',\n",
              " 'DrDoS_DNS',\n",
              " 'DrDoS_DNS',\n",
              " 'DrDoS_DNS',\n",
              " 'DrDoS_DNS',\n",
              " 'DrDoS_DNS',\n",
              " 'DrDoS_DNS',\n",
              " 'DrDoS_DNS',\n",
              " 'DrDoS_DNS',\n",
              " 'DrDoS_DNS',\n",
              " 'DrDoS_DNS',\n",
              " 'DrDoS_DNS',\n",
              " 'DrDoS_DNS',\n",
              " 'DrDoS_DNS',\n",
              " 'DrDoS_DNS',\n",
              " 'DrDoS_DNS',\n",
              " 'DrDoS_DNS',\n",
              " 'DrDoS_DNS',\n",
              " 'DrDoS_DNS',\n",
              " 'DrDoS_DNS',\n",
              " 'DrDoS_DNS',\n",
              " 'DrDoS_DNS',\n",
              " 'DrDoS_DNS',\n",
              " 'DrDoS_DNS',\n",
              " 'DrDoS_DNS',\n",
              " 'DrDoS_DNS',\n",
              " 'DrDoS_DNS',\n",
              " 'DrDoS_DNS',\n",
              " 'DrDoS_DNS',\n",
              " 'DrDoS_DNS',\n",
              " 'DrDoS_DNS',\n",
              " 'DrDoS_DNS',\n",
              " 'DrDoS_DNS',\n",
              " 'DrDoS_DNS',\n",
              " 'DrDoS_DNS',\n",
              " 'DrDoS_DNS',\n",
              " 'DrDoS_DNS',\n",
              " 'DrDoS_DNS',\n",
              " 'DrDoS_DNS',\n",
              " 'DrDoS_DNS',\n",
              " 'DrDoS_DNS',\n",
              " 'DrDoS_DNS',\n",
              " 'DrDoS_DNS',\n",
              " 'DrDoS_DNS',\n",
              " 'DrDoS_DNS',\n",
              " 'DrDoS_DNS',\n",
              " 'DrDoS_DNS',\n",
              " 'DrDoS_DNS',\n",
              " 'DrDoS_DNS',\n",
              " 'DrDoS_DNS',\n",
              " 'DrDoS_DNS',\n",
              " 'DrDoS_DNS',\n",
              " 'DrDoS_DNS',\n",
              " 'DrDoS_DNS',\n",
              " 'DrDoS_DNS',\n",
              " 'DrDoS_DNS',\n",
              " 'DrDoS_DNS',\n",
              " 'DrDoS_DNS',\n",
              " 'DrDoS_DNS',\n",
              " 'DrDoS_DNS',\n",
              " 'DrDoS_DNS',\n",
              " 'DrDoS_DNS',\n",
              " 'DrDoS_DNS',\n",
              " 'DrDoS_DNS',\n",
              " 'DrDoS_DNS',\n",
              " 'DrDoS_DNS',\n",
              " 'DrDoS_DNS',\n",
              " 'DrDoS_DNS',\n",
              " 'DrDoS_DNS',\n",
              " 'DrDoS_DNS',\n",
              " 'DrDoS_DNS',\n",
              " 'DrDoS_DNS',\n",
              " 'DrDoS_DNS',\n",
              " 'DrDoS_DNS',\n",
              " 'DrDoS_DNS',\n",
              " 'DrDoS_DNS',\n",
              " 'DrDoS_DNS',\n",
              " 'DrDoS_DNS',\n",
              " 'DrDoS_DNS',\n",
              " 'DrDoS_DNS',\n",
              " 'DrDoS_DNS',\n",
              " 'DrDoS_DNS',\n",
              " 'DrDoS_DNS',\n",
              " 'DrDoS_DNS',\n",
              " 'DrDoS_DNS',\n",
              " 'DrDoS_DNS',\n",
              " 'DrDoS_DNS',\n",
              " 'DrDoS_DNS',\n",
              " 'DrDoS_DNS',\n",
              " 'DrDoS_DNS',\n",
              " 'DrDoS_DNS',\n",
              " 'DrDoS_DNS',\n",
              " 'DrDoS_DNS',\n",
              " 'DrDoS_DNS',\n",
              " 'DrDoS_DNS',\n",
              " 'DrDoS_DNS',\n",
              " 'DrDoS_DNS',\n",
              " 'DrDoS_DNS',\n",
              " 'DrDoS_DNS',\n",
              " 'DrDoS_DNS',\n",
              " 'DrDoS_DNS',\n",
              " 'DrDoS_DNS',\n",
              " 'DrDoS_DNS',\n",
              " 'DrDoS_DNS',\n",
              " 'DrDoS_DNS',\n",
              " 'DrDoS_DNS',\n",
              " 'DrDoS_DNS',\n",
              " 'DrDoS_DNS',\n",
              " 'DrDoS_DNS',\n",
              " 'DrDoS_DNS',\n",
              " 'DrDoS_DNS',\n",
              " 'DrDoS_DNS',\n",
              " 'DrDoS_DNS',\n",
              " 'DrDoS_DNS',\n",
              " 'DrDoS_DNS',\n",
              " 'DrDoS_DNS',\n",
              " 'DrDoS_DNS',\n",
              " 'DrDoS_DNS',\n",
              " 'DrDoS_DNS',\n",
              " 'DrDoS_DNS',\n",
              " 'DrDoS_DNS',\n",
              " 'DrDoS_DNS',\n",
              " 'DrDoS_DNS',\n",
              " 'DrDoS_DNS',\n",
              " 'DrDoS_DNS',\n",
              " 'DrDoS_DNS',\n",
              " 'DrDoS_DNS',\n",
              " 'DrDoS_DNS',\n",
              " 'DrDoS_DNS',\n",
              " 'DrDoS_DNS',\n",
              " 'DrDoS_DNS',\n",
              " 'DrDoS_DNS',\n",
              " 'DrDoS_DNS',\n",
              " 'DrDoS_DNS',\n",
              " 'DrDoS_DNS',\n",
              " 'DrDoS_DNS',\n",
              " 'DrDoS_DNS',\n",
              " 'DrDoS_DNS',\n",
              " 'DrDoS_DNS',\n",
              " 'DrDoS_DNS',\n",
              " 'DrDoS_DNS',\n",
              " 'DrDoS_DNS',\n",
              " 'DrDoS_DNS',\n",
              " 'DrDoS_DNS',\n",
              " 'DrDoS_DNS',\n",
              " 'DrDoS_DNS',\n",
              " 'DrDoS_DNS',\n",
              " 'DrDoS_DNS',\n",
              " 'DrDoS_DNS',\n",
              " 'DrDoS_DNS',\n",
              " 'DrDoS_DNS',\n",
              " 'DrDoS_DNS',\n",
              " 'DrDoS_DNS',\n",
              " 'DrDoS_DNS',\n",
              " 'DrDoS_DNS',\n",
              " 'DrDoS_DNS',\n",
              " 'DrDoS_DNS',\n",
              " 'DrDoS_DNS',\n",
              " 'DrDoS_DNS',\n",
              " 'DrDoS_DNS',\n",
              " 'DrDoS_DNS',\n",
              " 'DrDoS_DNS',\n",
              " 'DrDoS_DNS',\n",
              " 'DrDoS_DNS',\n",
              " 'DrDoS_DNS',\n",
              " 'DrDoS_DNS',\n",
              " 'DrDoS_DNS',\n",
              " 'DrDoS_DNS',\n",
              " 'DrDoS_DNS',\n",
              " 'DrDoS_DNS',\n",
              " 'DrDoS_DNS',\n",
              " 'DrDoS_DNS',\n",
              " 'DrDoS_DNS',\n",
              " 'DrDoS_DNS',\n",
              " 'DrDoS_DNS',\n",
              " 'DrDoS_DNS',\n",
              " 'DrDoS_DNS',\n",
              " 'DrDoS_DNS',\n",
              " 'DrDoS_DNS',\n",
              " 'DrDoS_DNS',\n",
              " 'DrDoS_DNS',\n",
              " 'DrDoS_DNS',\n",
              " 'DrDoS_DNS',\n",
              " 'DrDoS_DNS',\n",
              " 'DrDoS_DNS',\n",
              " 'DrDoS_DNS',\n",
              " 'DrDoS_DNS',\n",
              " 'DrDoS_DNS',\n",
              " 'DrDoS_DNS',\n",
              " 'DrDoS_DNS',\n",
              " 'DrDoS_DNS',\n",
              " 'DrDoS_DNS',\n",
              " 'DrDoS_DNS',\n",
              " 'DrDoS_DNS',\n",
              " 'DrDoS_DNS',\n",
              " 'DrDoS_DNS',\n",
              " 'DrDoS_DNS',\n",
              " 'DrDoS_DNS',\n",
              " 'DrDoS_DNS',\n",
              " 'DrDoS_DNS',\n",
              " 'DrDoS_DNS',\n",
              " 'DrDoS_DNS',\n",
              " 'DrDoS_DNS',\n",
              " 'DrDoS_DNS',\n",
              " 'DrDoS_DNS',\n",
              " 'DrDoS_DNS',\n",
              " 'DrDoS_DNS',\n",
              " 'DrDoS_DNS',\n",
              " 'DrDoS_DNS',\n",
              " 'DrDoS_DNS',\n",
              " 'DrDoS_DNS',\n",
              " 'DrDoS_DNS',\n",
              " 'DrDoS_DNS',\n",
              " 'DrDoS_DNS',\n",
              " 'DrDoS_DNS',\n",
              " 'DrDoS_DNS',\n",
              " 'DrDoS_DNS',\n",
              " 'DrDoS_DNS',\n",
              " 'DrDoS_DNS',\n",
              " 'DrDoS_DNS',\n",
              " 'DrDoS_DNS',\n",
              " 'DrDoS_DNS',\n",
              " 'DrDoS_DNS',\n",
              " 'DrDoS_DNS',\n",
              " 'DrDoS_DNS',\n",
              " 'DrDoS_DNS',\n",
              " 'DrDoS_DNS',\n",
              " 'DrDoS_DNS',\n",
              " 'DrDoS_DNS',\n",
              " 'DrDoS_DNS',\n",
              " 'DrDoS_DNS',\n",
              " 'DrDoS_DNS',\n",
              " 'DrDoS_DNS',\n",
              " 'DrDoS_DNS',\n",
              " 'DrDoS_DNS',\n",
              " 'DrDoS_DNS',\n",
              " 'DrDoS_DNS',\n",
              " 'DrDoS_DNS',\n",
              " 'DrDoS_DNS',\n",
              " 'DrDoS_DNS',\n",
              " 'DrDoS_DNS',\n",
              " 'DrDoS_DNS',\n",
              " 'DrDoS_DNS',\n",
              " 'DrDoS_DNS',\n",
              " 'DrDoS_DNS',\n",
              " 'DrDoS_DNS',\n",
              " 'DrDoS_DNS',\n",
              " 'DrDoS_DNS',\n",
              " 'DrDoS_DNS',\n",
              " 'DrDoS_DNS',\n",
              " 'DrDoS_DNS',\n",
              " 'DrDoS_DNS',\n",
              " 'DrDoS_DNS',\n",
              " 'DrDoS_DNS',\n",
              " 'DrDoS_DNS',\n",
              " 'DrDoS_DNS',\n",
              " 'DrDoS_DNS',\n",
              " 'DrDoS_DNS',\n",
              " 'DrDoS_DNS',\n",
              " 'DrDoS_DNS',\n",
              " 'DrDoS_DNS',\n",
              " 'DrDoS_DNS',\n",
              " 'DrDoS_DNS',\n",
              " 'DrDoS_DNS',\n",
              " 'DrDoS_DNS',\n",
              " 'DrDoS_DNS',\n",
              " 'DrDoS_DNS',\n",
              " 'DrDoS_DNS',\n",
              " 'DrDoS_DNS',\n",
              " 'DrDoS_DNS',\n",
              " 'DrDoS_DNS',\n",
              " 'DrDoS_DNS',\n",
              " 'DrDoS_DNS',\n",
              " 'DrDoS_DNS',\n",
              " 'DrDoS_DNS',\n",
              " 'DrDoS_DNS',\n",
              " 'DrDoS_DNS',\n",
              " 'DrDoS_DNS',\n",
              " 'DrDoS_DNS',\n",
              " 'DrDoS_DNS',\n",
              " 'DrDoS_DNS',\n",
              " 'DrDoS_DNS',\n",
              " 'DrDoS_DNS',\n",
              " 'DrDoS_DNS',\n",
              " 'DrDoS_DNS',\n",
              " 'DrDoS_DNS',\n",
              " 'DrDoS_DNS',\n",
              " 'DrDoS_DNS',\n",
              " 'DrDoS_DNS',\n",
              " 'DrDoS_DNS',\n",
              " 'DrDoS_DNS',\n",
              " 'DrDoS_DNS',\n",
              " 'DrDoS_DNS',\n",
              " 'DrDoS_DNS',\n",
              " 'DrDoS_DNS',\n",
              " 'DrDoS_DNS',\n",
              " 'DrDoS_DNS',\n",
              " 'DrDoS_DNS',\n",
              " 'DrDoS_DNS',\n",
              " 'DrDoS_DNS',\n",
              " 'DrDoS_DNS',\n",
              " 'DrDoS_DNS',\n",
              " 'DrDoS_DNS',\n",
              " 'DrDoS_DNS',\n",
              " 'DrDoS_DNS',\n",
              " 'DrDoS_DNS',\n",
              " 'DrDoS_DNS',\n",
              " 'DrDoS_DNS',\n",
              " 'DrDoS_DNS',\n",
              " 'DrDoS_DNS',\n",
              " 'DrDoS_DNS',\n",
              " 'DrDoS_DNS',\n",
              " 'DrDoS_DNS',\n",
              " 'DrDoS_DNS',\n",
              " 'DrDoS_DNS',\n",
              " 'DrDoS_DNS',\n",
              " 'DrDoS_DNS',\n",
              " 'DrDoS_DNS',\n",
              " 'DrDoS_DNS',\n",
              " 'DrDoS_DNS',\n",
              " 'DrDoS_DNS',\n",
              " 'DrDoS_DNS',\n",
              " 'DrDoS_DNS',\n",
              " 'DrDoS_DNS',\n",
              " 'DrDoS_DNS',\n",
              " 'DrDoS_DNS',\n",
              " 'DrDoS_DNS',\n",
              " 'DrDoS_DNS',\n",
              " 'DrDoS_DNS',\n",
              " 'DrDoS_DNS',\n",
              " 'DrDoS_DNS',\n",
              " 'DrDoS_DNS',\n",
              " 'DrDoS_DNS',\n",
              " 'DrDoS_DNS',\n",
              " 'DrDoS_DNS',\n",
              " 'DrDoS_DNS',\n",
              " 'DrDoS_DNS',\n",
              " 'DrDoS_DNS',\n",
              " 'DrDoS_DNS',\n",
              " 'DrDoS_DNS',\n",
              " 'DrDoS_DNS',\n",
              " 'DrDoS_DNS',\n",
              " 'DrDoS_DNS',\n",
              " 'DrDoS_DNS',\n",
              " 'DrDoS_DNS',\n",
              " 'DrDoS_DNS',\n",
              " 'DrDoS_DNS',\n",
              " 'DrDoS_DNS',\n",
              " 'DrDoS_DNS',\n",
              " 'DrDoS_DNS',\n",
              " 'DrDoS_DNS',\n",
              " 'DrDoS_DNS',\n",
              " 'DrDoS_DNS',\n",
              " 'DrDoS_DNS',\n",
              " 'DrDoS_DNS',\n",
              " 'DrDoS_DNS',\n",
              " 'DrDoS_DNS',\n",
              " 'DrDoS_DNS',\n",
              " 'DrDoS_DNS',\n",
              " 'DrDoS_DNS',\n",
              " 'DrDoS_DNS',\n",
              " 'DrDoS_DNS',\n",
              " 'DrDoS_DNS',\n",
              " 'DrDoS_DNS',\n",
              " 'DrDoS_DNS',\n",
              " 'DrDoS_DNS',\n",
              " 'DrDoS_DNS',\n",
              " 'DrDoS_DNS',\n",
              " 'DrDoS_DNS',\n",
              " 'DrDoS_DNS',\n",
              " 'DrDoS_DNS',\n",
              " 'DrDoS_DNS',\n",
              " 'DrDoS_DNS',\n",
              " 'DrDoS_DNS',\n",
              " 'DrDoS_DNS',\n",
              " 'DrDoS_DNS',\n",
              " 'DrDoS_DNS',\n",
              " 'DrDoS_DNS',\n",
              " 'DrDoS_DNS',\n",
              " 'DrDoS_DNS',\n",
              " 'DrDoS_DNS',\n",
              " 'DrDoS_DNS',\n",
              " 'DrDoS_DNS',\n",
              " 'DrDoS_DNS',\n",
              " 'DrDoS_DNS',\n",
              " 'DrDoS_DNS',\n",
              " 'DrDoS_DNS',\n",
              " 'DrDoS_DNS',\n",
              " 'DrDoS_DNS',\n",
              " 'DrDoS_DNS',\n",
              " 'DrDoS_DNS',\n",
              " 'DrDoS_DNS',\n",
              " 'DrDoS_DNS',\n",
              " 'DrDoS_DNS',\n",
              " 'DrDoS_DNS',\n",
              " 'DrDoS_DNS',\n",
              " 'DrDoS_DNS',\n",
              " 'DrDoS_DNS',\n",
              " 'DrDoS_DNS',\n",
              " 'DrDoS_DNS',\n",
              " 'DrDoS_DNS',\n",
              " 'DrDoS_DNS',\n",
              " 'DrDoS_DNS',\n",
              " 'DrDoS_DNS',\n",
              " 'DrDoS_DNS',\n",
              " 'DrDoS_DNS',\n",
              " 'DrDoS_DNS',\n",
              " 'DrDoS_DNS',\n",
              " 'DrDoS_DNS',\n",
              " 'DrDoS_DNS',\n",
              " 'DrDoS_DNS',\n",
              " 'DrDoS_DNS',\n",
              " 'DrDoS_DNS',\n",
              " 'DrDoS_DNS',\n",
              " 'DrDoS_DNS',\n",
              " 'DrDoS_DNS',\n",
              " 'DrDoS_DNS',\n",
              " 'DrDoS_DNS',\n",
              " 'DrDoS_DNS',\n",
              " 'DrDoS_DNS',\n",
              " 'DrDoS_DNS',\n",
              " 'DrDoS_DNS',\n",
              " 'DrDoS_DNS',\n",
              " 'DrDoS_DNS',\n",
              " 'DrDoS_DNS',\n",
              " 'DrDoS_DNS',\n",
              " 'DrDoS_DNS',\n",
              " 'DrDoS_DNS',\n",
              " 'DrDoS_DNS',\n",
              " 'DrDoS_DNS',\n",
              " 'DrDoS_DNS',\n",
              " 'DrDoS_DNS',\n",
              " 'DrDoS_DNS',\n",
              " 'DrDoS_DNS',\n",
              " 'DrDoS_DNS',\n",
              " 'DrDoS_DNS',\n",
              " 'DrDoS_DNS',\n",
              " 'DrDoS_DNS',\n",
              " 'DrDoS_DNS',\n",
              " 'DrDoS_DNS',\n",
              " 'DrDoS_DNS',\n",
              " 'DrDoS_DNS',\n",
              " 'DrDoS_DNS',\n",
              " 'DrDoS_DNS',\n",
              " 'DrDoS_DNS',\n",
              " 'DrDoS_DNS',\n",
              " 'DrDoS_DNS',\n",
              " 'DrDoS_DNS',\n",
              " 'DrDoS_DNS',\n",
              " 'DrDoS_DNS',\n",
              " 'DrDoS_DNS',\n",
              " 'DrDoS_DNS',\n",
              " 'DrDoS_DNS',\n",
              " 'DrDoS_DNS',\n",
              " 'DrDoS_DNS',\n",
              " 'DrDoS_DNS',\n",
              " 'DrDoS_DNS',\n",
              " 'DrDoS_DNS',\n",
              " 'DrDoS_DNS',\n",
              " 'DrDoS_DNS',\n",
              " 'DrDoS_DNS',\n",
              " 'DrDoS_DNS',\n",
              " 'DrDoS_DNS',\n",
              " 'DrDoS_DNS',\n",
              " 'DrDoS_DNS',\n",
              " 'DrDoS_DNS',\n",
              " 'DrDoS_DNS',\n",
              " 'DrDoS_DNS',\n",
              " 'DrDoS_DNS',\n",
              " 'DrDoS_DNS',\n",
              " 'DrDoS_DNS',\n",
              " 'DrDoS_DNS',\n",
              " 'DrDoS_DNS',\n",
              " 'DrDoS_DNS',\n",
              " 'DrDoS_DNS',\n",
              " 'DrDoS_DNS',\n",
              " 'DrDoS_DNS',\n",
              " 'DrDoS_DNS',\n",
              " 'DrDoS_DNS',\n",
              " 'DrDoS_DNS',\n",
              " 'DrDoS_DNS',\n",
              " 'DrDoS_DNS',\n",
              " 'DrDoS_DNS',\n",
              " 'DrDoS_DNS',\n",
              " 'DrDoS_DNS',\n",
              " 'DrDoS_DNS',\n",
              " 'DrDoS_DNS',\n",
              " 'DrDoS_DNS',\n",
              " 'DrDoS_DNS',\n",
              " 'DrDoS_DNS',\n",
              " 'DrDoS_DNS',\n",
              " 'DrDoS_DNS',\n",
              " 'DrDoS_DNS',\n",
              " 'DrDoS_DNS',\n",
              " 'DrDoS_DNS',\n",
              " 'DrDoS_DNS',\n",
              " 'DrDoS_DNS',\n",
              " 'DrDoS_DNS',\n",
              " 'DrDoS_DNS',\n",
              " 'DrDoS_DNS',\n",
              " 'DrDoS_DNS',\n",
              " 'DrDoS_DNS',\n",
              " 'DrDoS_DNS',\n",
              " 'DrDoS_DNS',\n",
              " 'DrDoS_DNS',\n",
              " 'DrDoS_DNS',\n",
              " 'DrDoS_DNS',\n",
              " 'DrDoS_DNS',\n",
              " 'DrDoS_DNS',\n",
              " 'DrDoS_DNS',\n",
              " 'DrDoS_DNS',\n",
              " 'DrDoS_DNS',\n",
              " 'DrDoS_DNS',\n",
              " 'DrDoS_DNS',\n",
              " 'DrDoS_DNS',\n",
              " 'DrDoS_DNS',\n",
              " 'DrDoS_DNS',\n",
              " 'DrDoS_DNS',\n",
              " 'DrDoS_DNS',\n",
              " 'DrDoS_DNS',\n",
              " 'DrDoS_DNS',\n",
              " 'DrDoS_DNS',\n",
              " 'DrDoS_DNS',\n",
              " 'DrDoS_DNS',\n",
              " 'DrDoS_DNS',\n",
              " 'DrDoS_DNS',\n",
              " 'DrDoS_DNS',\n",
              " 'DrDoS_DNS',\n",
              " 'DrDoS_DNS',\n",
              " 'DrDoS_DNS',\n",
              " 'DrDoS_DNS',\n",
              " 'DrDoS_DNS',\n",
              " 'DrDoS_DNS',\n",
              " 'DrDoS_DNS',\n",
              " 'DrDoS_DNS',\n",
              " 'DrDoS_DNS',\n",
              " 'DrDoS_DNS',\n",
              " 'DrDoS_DNS',\n",
              " 'DrDoS_DNS',\n",
              " 'DrDoS_DNS',\n",
              " 'DrDoS_DNS',\n",
              " 'DrDoS_DNS',\n",
              " 'DrDoS_DNS',\n",
              " 'DrDoS_DNS',\n",
              " 'DrDoS_DNS',\n",
              " 'DrDoS_DNS',\n",
              " 'DrDoS_DNS',\n",
              " 'DrDoS_DNS',\n",
              " 'DrDoS_DNS',\n",
              " 'DrDoS_DNS',\n",
              " 'DrDoS_DNS',\n",
              " 'DrDoS_DNS',\n",
              " 'DrDoS_DNS',\n",
              " 'DrDoS_DNS',\n",
              " 'DrDoS_DNS',\n",
              " 'DrDoS_DNS',\n",
              " 'DrDoS_DNS',\n",
              " 'DrDoS_DNS',\n",
              " 'DrDoS_DNS',\n",
              " 'DrDoS_DNS',\n",
              " 'DrDoS_DNS',\n",
              " 'DrDoS_DNS',\n",
              " 'DrDoS_DNS',\n",
              " 'DrDoS_DNS',\n",
              " 'DrDoS_DNS',\n",
              " 'DrDoS_DNS',\n",
              " 'DrDoS_DNS',\n",
              " 'DrDoS_DNS',\n",
              " 'DrDoS_DNS',\n",
              " 'DrDoS_DNS',\n",
              " 'DrDoS_DNS',\n",
              " 'DrDoS_DNS',\n",
              " 'DrDoS_DNS',\n",
              " 'DrDoS_DNS',\n",
              " 'DrDoS_DNS',\n",
              " 'DrDoS_DNS',\n",
              " 'DrDoS_DNS',\n",
              " 'DrDoS_DNS',\n",
              " 'DrDoS_DNS',\n",
              " 'DrDoS_DNS',\n",
              " 'DrDoS_DNS',\n",
              " 'DrDoS_DNS',\n",
              " 'DrDoS_DNS',\n",
              " 'DrDoS_DNS',\n",
              " 'DrDoS_DNS',\n",
              " 'DrDoS_DNS',\n",
              " 'DrDoS_DNS',\n",
              " 'DrDoS_DNS',\n",
              " 'DrDoS_DNS',\n",
              " 'DrDoS_DNS',\n",
              " 'DrDoS_DNS',\n",
              " 'DrDoS_DNS',\n",
              " 'DrDoS_DNS',\n",
              " 'DrDoS_DNS',\n",
              " 'DrDoS_DNS',\n",
              " 'DrDoS_DNS',\n",
              " 'DrDoS_DNS',\n",
              " 'DrDoS_DNS',\n",
              " 'DrDoS_DNS',\n",
              " 'DrDoS_DNS',\n",
              " 'DrDoS_DNS',\n",
              " 'DrDoS_DNS',\n",
              " 'DrDoS_DNS',\n",
              " 'DrDoS_DNS',\n",
              " 'DrDoS_DNS',\n",
              " 'DrDoS_DNS',\n",
              " 'DrDoS_DNS',\n",
              " 'DrDoS_DNS',\n",
              " 'DrDoS_DNS',\n",
              " 'DrDoS_DNS',\n",
              " 'DrDoS_DNS',\n",
              " 'DrDoS_DNS',\n",
              " 'DrDoS_DNS',\n",
              " 'DrDoS_DNS',\n",
              " 'DrDoS_DNS',\n",
              " 'DrDoS_DNS',\n",
              " 'DrDoS_DNS',\n",
              " 'DrDoS_DNS',\n",
              " 'DrDoS_DNS',\n",
              " 'DrDoS_DNS',\n",
              " 'DrDoS_DNS',\n",
              " 'DrDoS_DNS',\n",
              " 'DrDoS_DNS',\n",
              " 'DrDoS_DNS',\n",
              " 'DrDoS_DNS',\n",
              " 'DrDoS_DNS',\n",
              " 'DrDoS_DNS',\n",
              " 'DrDoS_DNS',\n",
              " 'DrDoS_DNS',\n",
              " 'DrDoS_DNS',\n",
              " 'DrDoS_DNS',\n",
              " 'DrDoS_DNS',\n",
              " 'DrDoS_DNS',\n",
              " 'DrDoS_DNS',\n",
              " 'DrDoS_DNS',\n",
              " 'DrDoS_DNS',\n",
              " 'DrDoS_DNS',\n",
              " 'DrDoS_DNS',\n",
              " 'DrDoS_DNS',\n",
              " 'DrDoS_DNS',\n",
              " 'DrDoS_DNS',\n",
              " 'DrDoS_DNS',\n",
              " 'DrDoS_DNS',\n",
              " 'DrDoS_DNS',\n",
              " 'DrDoS_DNS',\n",
              " 'DrDoS_DNS',\n",
              " 'DrDoS_DNS',\n",
              " 'DrDoS_DNS',\n",
              " 'DrDoS_DNS',\n",
              " 'DrDoS_DNS',\n",
              " 'DrDoS_DNS',\n",
              " 'DrDoS_DNS',\n",
              " 'DrDoS_DNS',\n",
              " 'DrDoS_DNS',\n",
              " 'DrDoS_DNS',\n",
              " 'DrDoS_DNS',\n",
              " 'DrDoS_DNS',\n",
              " 'DrDoS_DNS',\n",
              " 'DrDoS_DNS',\n",
              " 'DrDoS_DNS',\n",
              " 'DrDoS_DNS',\n",
              " 'DrDoS_DNS',\n",
              " 'DrDoS_DNS',\n",
              " 'DrDoS_DNS',\n",
              " 'DrDoS_DNS',\n",
              " 'DrDoS_DNS',\n",
              " 'DrDoS_DNS',\n",
              " 'DrDoS_DNS',\n",
              " 'DrDoS_DNS',\n",
              " 'DrDoS_DNS',\n",
              " 'DrDoS_DNS',\n",
              " 'DrDoS_DNS',\n",
              " 'DrDoS_DNS',\n",
              " 'DrDoS_DNS',\n",
              " 'DrDoS_DNS',\n",
              " 'DrDoS_DNS',\n",
              " 'DrDoS_DNS',\n",
              " 'DrDoS_DNS',\n",
              " 'DrDoS_DNS',\n",
              " 'DrDoS_DNS',\n",
              " 'DrDoS_DNS',\n",
              " 'DrDoS_DNS',\n",
              " 'DrDoS_DNS',\n",
              " 'DrDoS_DNS',\n",
              " 'DrDoS_DNS',\n",
              " 'DrDoS_DNS',\n",
              " 'DrDoS_DNS',\n",
              " 'DrDoS_DNS',\n",
              " 'DrDoS_DNS',\n",
              " 'DrDoS_DNS',\n",
              " 'DrDoS_DNS',\n",
              " 'DrDoS_DNS',\n",
              " 'DrDoS_DNS',\n",
              " 'DrDoS_DNS',\n",
              " 'DrDoS_DNS',\n",
              " 'DrDoS_DNS',\n",
              " 'DrDoS_DNS',\n",
              " 'DrDoS_DNS',\n",
              " 'DrDoS_DNS',\n",
              " 'DrDoS_DNS',\n",
              " 'DrDoS_DNS',\n",
              " 'DrDoS_DNS',\n",
              " 'DrDoS_DNS',\n",
              " 'DrDoS_DNS',\n",
              " 'DrDoS_DNS',\n",
              " 'DrDoS_DNS',\n",
              " 'DrDoS_DNS',\n",
              " 'DrDoS_DNS',\n",
              " 'DrDoS_DNS',\n",
              " 'DrDoS_DNS',\n",
              " 'DrDoS_DNS',\n",
              " 'DrDoS_DNS',\n",
              " 'DrDoS_DNS',\n",
              " 'DrDoS_DNS',\n",
              " 'DrDoS_DNS',\n",
              " 'DrDoS_DNS',\n",
              " 'DrDoS_DNS',\n",
              " 'DrDoS_DNS',\n",
              " 'DrDoS_DNS',\n",
              " 'DrDoS_DNS',\n",
              " 'DrDoS_DNS',\n",
              " 'DrDoS_DNS',\n",
              " 'DrDoS_DNS',\n",
              " 'DrDoS_DNS',\n",
              " 'DrDoS_DNS',\n",
              " 'DrDoS_DNS',\n",
              " 'DrDoS_DNS',\n",
              " 'DrDoS_DNS',\n",
              " 'DrDoS_DNS',\n",
              " 'DrDoS_DNS',\n",
              " 'DrDoS_DNS',\n",
              " 'DrDoS_DNS',\n",
              " 'DrDoS_DNS',\n",
              " 'DrDoS_DNS',\n",
              " 'DrDoS_DNS',\n",
              " 'DrDoS_DNS',\n",
              " 'DrDoS_DNS',\n",
              " 'DrDoS_DNS',\n",
              " 'DrDoS_DNS',\n",
              " 'DrDoS_DNS',\n",
              " 'DrDoS_DNS',\n",
              " 'DrDoS_DNS',\n",
              " 'DrDoS_DNS',\n",
              " 'DrDoS_DNS',\n",
              " 'DrDoS_DNS',\n",
              " 'DrDoS_DNS',\n",
              " 'DrDoS_DNS',\n",
              " 'DrDoS_DNS',\n",
              " 'DrDoS_DNS',\n",
              " 'DrDoS_DNS',\n",
              " 'DrDoS_DNS',\n",
              " 'DrDoS_DNS',\n",
              " 'DrDoS_DNS',\n",
              " 'DrDoS_DNS',\n",
              " 'DrDoS_DNS',\n",
              " 'DrDoS_DNS',\n",
              " 'DrDoS_DNS',\n",
              " 'DrDoS_DNS',\n",
              " 'DrDoS_DNS',\n",
              " 'DrDoS_DNS',\n",
              " 'DrDoS_DNS',\n",
              " 'DrDoS_DNS',\n",
              " 'DrDoS_DNS',\n",
              " 'DrDoS_DNS',\n",
              " 'DrDoS_DNS',\n",
              " 'DrDoS_DNS',\n",
              " 'DrDoS_DNS',\n",
              " 'DrDoS_DNS',\n",
              " 'DrDoS_DNS',\n",
              " 'DrDoS_DNS',\n",
              " 'DrDoS_DNS',\n",
              " 'DrDoS_DNS',\n",
              " 'DrDoS_DNS',\n",
              " 'DrDoS_DNS',\n",
              " 'DrDoS_DNS',\n",
              " 'DrDoS_DNS',\n",
              " 'DrDoS_DNS',\n",
              " 'DrDoS_DNS',\n",
              " 'DrDoS_DNS',\n",
              " 'DrDoS_DNS',\n",
              " 'DrDoS_DNS',\n",
              " 'DrDoS_DNS',\n",
              " 'DrDoS_DNS',\n",
              " 'DrDoS_DNS',\n",
              " 'DrDoS_DNS',\n",
              " 'DrDoS_DNS',\n",
              " 'DrDoS_DNS',\n",
              " 'DrDoS_DNS',\n",
              " 'DrDoS_DNS',\n",
              " 'DrDoS_DNS',\n",
              " 'DrDoS_DNS',\n",
              " 'DrDoS_DNS',\n",
              " 'DrDoS_DNS',\n",
              " 'DrDoS_DNS',\n",
              " 'DrDoS_DNS',\n",
              " 'DrDoS_DNS',\n",
              " 'DrDoS_DNS',\n",
              " 'DrDoS_DNS',\n",
              " 'DrDoS_DNS',\n",
              " 'DrDoS_DNS',\n",
              " 'DrDoS_DNS',\n",
              " 'DrDoS_DNS',\n",
              " 'DrDoS_DNS',\n",
              " 'DrDoS_DNS',\n",
              " 'DrDoS_DNS',\n",
              " 'DrDoS_DNS',\n",
              " 'DrDoS_DNS',\n",
              " 'DrDoS_DNS',\n",
              " 'DrDoS_DNS',\n",
              " 'DrDoS_DNS',\n",
              " 'DrDoS_DNS',\n",
              " 'DrDoS_DNS',\n",
              " 'DrDoS_DNS',\n",
              " 'DrDoS_DNS',\n",
              " 'DrDoS_DNS',\n",
              " 'DrDoS_DNS',\n",
              " 'DrDoS_DNS',\n",
              " 'DrDoS_DNS',\n",
              " 'DrDoS_DNS',\n",
              " 'DrDoS_DNS',\n",
              " 'DrDoS_DNS',\n",
              " 'DrDoS_DNS',\n",
              " 'DrDoS_DNS',\n",
              " 'DrDoS_DNS',\n",
              " 'DrDoS_DNS',\n",
              " 'DrDoS_DNS',\n",
              " 'DrDoS_DNS',\n",
              " 'DrDoS_DNS',\n",
              " 'DrDoS_DNS',\n",
              " 'DrDoS_DNS',\n",
              " 'DrDoS_DNS',\n",
              " 'DrDoS_DNS',\n",
              " 'DrDoS_DNS',\n",
              " 'DrDoS_DNS',\n",
              " 'DrDoS_DNS',\n",
              " 'DrDoS_DNS',\n",
              " ...]"
            ]
          },
          "metadata": {},
          "execution_count": 107
        }
      ]
    },
    {
      "cell_type": "code",
      "source": [
        "#this loop will replace our label by numerical values ,if it's benign ,we will give 0 else we give it 1.\n",
        "for i in range(len(Y)):\n",
        "    if Y[i] == \"Benign\":\n",
        "        Y[i] = 0\n",
        "    else:\n",
        "        Y[i] = 1"
      ],
      "metadata": {
        "colab": {
          "base_uri": "https://localhost:8080/"
        },
        "id": "ihjccRps-G1P",
        "outputId": "8ecbd625-0675-46b9-ebb9-85186725a979"
      },
      "execution_count": 145,
      "outputs": [
        {
          "output_type": "stream",
          "name": "stderr",
          "text": [
            "<ipython-input-145-50bb82cb8ca7>:6: SettingWithCopyWarning: \n",
            "A value is trying to be set on a copy of a slice from a DataFrame\n",
            "\n",
            "See the caveats in the documentation: https://pandas.pydata.org/pandas-docs/stable/user_guide/indexing.html#returning-a-view-versus-a-copy\n",
            "  Y[i] = 1\n",
            "<ipython-input-145-50bb82cb8ca7>:4: SettingWithCopyWarning: \n",
            "A value is trying to be set on a copy of a slice from a DataFrame\n",
            "\n",
            "See the caveats in the documentation: https://pandas.pydata.org/pandas-docs/stable/user_guide/indexing.html#returning-a-view-versus-a-copy\n",
            "  Y[i] = 0\n"
          ]
        }
      ]
    },
    {
      "cell_type": "code",
      "source": [
        "print(Y)"
      ],
      "metadata": {
        "colab": {
          "base_uri": "https://localhost:8080/"
        },
        "id": "KbYFK_Ny-s6O",
        "outputId": "c73c1c06-6142-4b34-a4c7-184c1df291c3"
      },
      "execution_count": 146,
      "outputs": [
        {
          "output_type": "stream",
          "name": "stdout",
          "text": [
            "0         1\n",
            "1         1\n",
            "2         1\n",
            "3         1\n",
            "4         1\n",
            "         ..\n",
            "431366    0\n",
            "431367    0\n",
            "431368    0\n",
            "431369    0\n",
            "431370    0\n",
            "Name: Label, Length: 431371, dtype: object\n"
          ]
        }
      ]
    },
    {
      "cell_type": "markdown",
      "source": [
        "**Handling imbalanced data**"
      ],
      "metadata": {
        "id": "Sm8gguMMnju2"
      }
    },
    {
      "cell_type": "code",
      "source": [
        "ddosdataset.tail()"
      ],
      "metadata": {
        "colab": {
          "base_uri": "https://localhost:8080/",
          "height": 351
        },
        "id": "u0p6-QmTiIo7",
        "outputId": "75654296-873f-4791-e28d-a76e38c41aa9"
      },
      "execution_count": 147,
      "outputs": [
        {
          "output_type": "execute_result",
          "data": {
            "text/plain": [
              "        Protocol  Flow Duration  Total Fwd Packets  Total Backward Packets  \\\n",
              "431366         6             53                  1                       2   \n",
              "431367         6             66                  1                       2   \n",
              "431368        17          26288                  2                       2   \n",
              "431369         6          30679                  1                       1   \n",
              "431370         6             67                  1                       2   \n",
              "\n",
              "        Fwd Packets Length Total  Bwd Packets Length Total  \\\n",
              "431366                       0.0                       0.0   \n",
              "431367                       0.0                       0.0   \n",
              "431368                      96.0                      96.0   \n",
              "431369                       0.0                       0.0   \n",
              "431370                       0.0                       0.0   \n",
              "\n",
              "        Fwd Packet Length Max  Fwd Packet Length Min  Fwd Packet Length Mean  \\\n",
              "431366                    0.0                    0.0                     0.0   \n",
              "431367                    0.0                    0.0                     0.0   \n",
              "431368                   48.0                   48.0                    48.0   \n",
              "431369                    0.0                    0.0                     0.0   \n",
              "431370                    0.0                    0.0                     0.0   \n",
              "\n",
              "        Fwd Packet Length Std  ...  Fwd Seg Size Min  Active Mean  Active Std  \\\n",
              "431366                    0.0  ...                32          0.0         0.0   \n",
              "431367                    0.0  ...                32          0.0         0.0   \n",
              "431368                    0.0  ...                20          0.0         0.0   \n",
              "431369                    0.0  ...                32          0.0         0.0   \n",
              "431370                    0.0  ...                32          0.0         0.0   \n",
              "\n",
              "        Active Max  Active Min  Idle Mean  Idle Std  Idle Max  Idle Min  Label  \n",
              "431366         0.0         0.0        0.0       0.0       0.0       0.0      0  \n",
              "431367         0.0         0.0        0.0       0.0       0.0       0.0      0  \n",
              "431368         0.0         0.0        0.0       0.0       0.0       0.0      0  \n",
              "431369         0.0         0.0        0.0       0.0       0.0       0.0      0  \n",
              "431370         0.0         0.0        0.0       0.0       0.0       0.0      0  \n",
              "\n",
              "[5 rows x 78 columns]"
            ],
            "text/html": [
              "\n",
              "\n",
              "  <div id=\"df-b29a78a2-1d2c-443b-8d84-e41caabf9c6b\">\n",
              "    <div class=\"colab-df-container\">\n",
              "      <div>\n",
              "<style scoped>\n",
              "    .dataframe tbody tr th:only-of-type {\n",
              "        vertical-align: middle;\n",
              "    }\n",
              "\n",
              "    .dataframe tbody tr th {\n",
              "        vertical-align: top;\n",
              "    }\n",
              "\n",
              "    .dataframe thead th {\n",
              "        text-align: right;\n",
              "    }\n",
              "</style>\n",
              "<table border=\"1\" class=\"dataframe\">\n",
              "  <thead>\n",
              "    <tr style=\"text-align: right;\">\n",
              "      <th></th>\n",
              "      <th>Protocol</th>\n",
              "      <th>Flow Duration</th>\n",
              "      <th>Total Fwd Packets</th>\n",
              "      <th>Total Backward Packets</th>\n",
              "      <th>Fwd Packets Length Total</th>\n",
              "      <th>Bwd Packets Length Total</th>\n",
              "      <th>Fwd Packet Length Max</th>\n",
              "      <th>Fwd Packet Length Min</th>\n",
              "      <th>Fwd Packet Length Mean</th>\n",
              "      <th>Fwd Packet Length Std</th>\n",
              "      <th>...</th>\n",
              "      <th>Fwd Seg Size Min</th>\n",
              "      <th>Active Mean</th>\n",
              "      <th>Active Std</th>\n",
              "      <th>Active Max</th>\n",
              "      <th>Active Min</th>\n",
              "      <th>Idle Mean</th>\n",
              "      <th>Idle Std</th>\n",
              "      <th>Idle Max</th>\n",
              "      <th>Idle Min</th>\n",
              "      <th>Label</th>\n",
              "    </tr>\n",
              "  </thead>\n",
              "  <tbody>\n",
              "    <tr>\n",
              "      <th>431366</th>\n",
              "      <td>6</td>\n",
              "      <td>53</td>\n",
              "      <td>1</td>\n",
              "      <td>2</td>\n",
              "      <td>0.0</td>\n",
              "      <td>0.0</td>\n",
              "      <td>0.0</td>\n",
              "      <td>0.0</td>\n",
              "      <td>0.0</td>\n",
              "      <td>0.0</td>\n",
              "      <td>...</td>\n",
              "      <td>32</td>\n",
              "      <td>0.0</td>\n",
              "      <td>0.0</td>\n",
              "      <td>0.0</td>\n",
              "      <td>0.0</td>\n",
              "      <td>0.0</td>\n",
              "      <td>0.0</td>\n",
              "      <td>0.0</td>\n",
              "      <td>0.0</td>\n",
              "      <td>0</td>\n",
              "    </tr>\n",
              "    <tr>\n",
              "      <th>431367</th>\n",
              "      <td>6</td>\n",
              "      <td>66</td>\n",
              "      <td>1</td>\n",
              "      <td>2</td>\n",
              "      <td>0.0</td>\n",
              "      <td>0.0</td>\n",
              "      <td>0.0</td>\n",
              "      <td>0.0</td>\n",
              "      <td>0.0</td>\n",
              "      <td>0.0</td>\n",
              "      <td>...</td>\n",
              "      <td>32</td>\n",
              "      <td>0.0</td>\n",
              "      <td>0.0</td>\n",
              "      <td>0.0</td>\n",
              "      <td>0.0</td>\n",
              "      <td>0.0</td>\n",
              "      <td>0.0</td>\n",
              "      <td>0.0</td>\n",
              "      <td>0.0</td>\n",
              "      <td>0</td>\n",
              "    </tr>\n",
              "    <tr>\n",
              "      <th>431368</th>\n",
              "      <td>17</td>\n",
              "      <td>26288</td>\n",
              "      <td>2</td>\n",
              "      <td>2</td>\n",
              "      <td>96.0</td>\n",
              "      <td>96.0</td>\n",
              "      <td>48.0</td>\n",
              "      <td>48.0</td>\n",
              "      <td>48.0</td>\n",
              "      <td>0.0</td>\n",
              "      <td>...</td>\n",
              "      <td>20</td>\n",
              "      <td>0.0</td>\n",
              "      <td>0.0</td>\n",
              "      <td>0.0</td>\n",
              "      <td>0.0</td>\n",
              "      <td>0.0</td>\n",
              "      <td>0.0</td>\n",
              "      <td>0.0</td>\n",
              "      <td>0.0</td>\n",
              "      <td>0</td>\n",
              "    </tr>\n",
              "    <tr>\n",
              "      <th>431369</th>\n",
              "      <td>6</td>\n",
              "      <td>30679</td>\n",
              "      <td>1</td>\n",
              "      <td>1</td>\n",
              "      <td>0.0</td>\n",
              "      <td>0.0</td>\n",
              "      <td>0.0</td>\n",
              "      <td>0.0</td>\n",
              "      <td>0.0</td>\n",
              "      <td>0.0</td>\n",
              "      <td>...</td>\n",
              "      <td>32</td>\n",
              "      <td>0.0</td>\n",
              "      <td>0.0</td>\n",
              "      <td>0.0</td>\n",
              "      <td>0.0</td>\n",
              "      <td>0.0</td>\n",
              "      <td>0.0</td>\n",
              "      <td>0.0</td>\n",
              "      <td>0.0</td>\n",
              "      <td>0</td>\n",
              "    </tr>\n",
              "    <tr>\n",
              "      <th>431370</th>\n",
              "      <td>6</td>\n",
              "      <td>67</td>\n",
              "      <td>1</td>\n",
              "      <td>2</td>\n",
              "      <td>0.0</td>\n",
              "      <td>0.0</td>\n",
              "      <td>0.0</td>\n",
              "      <td>0.0</td>\n",
              "      <td>0.0</td>\n",
              "      <td>0.0</td>\n",
              "      <td>...</td>\n",
              "      <td>32</td>\n",
              "      <td>0.0</td>\n",
              "      <td>0.0</td>\n",
              "      <td>0.0</td>\n",
              "      <td>0.0</td>\n",
              "      <td>0.0</td>\n",
              "      <td>0.0</td>\n",
              "      <td>0.0</td>\n",
              "      <td>0.0</td>\n",
              "      <td>0</td>\n",
              "    </tr>\n",
              "  </tbody>\n",
              "</table>\n",
              "<p>5 rows × 78 columns</p>\n",
              "</div>\n",
              "      <button class=\"colab-df-convert\" onclick=\"convertToInteractive('df-b29a78a2-1d2c-443b-8d84-e41caabf9c6b')\"\n",
              "              title=\"Convert this dataframe to an interactive table.\"\n",
              "              style=\"display:none;\">\n",
              "\n",
              "  <svg xmlns=\"http://www.w3.org/2000/svg\" height=\"24px\"viewBox=\"0 0 24 24\"\n",
              "       width=\"24px\">\n",
              "    <path d=\"M0 0h24v24H0V0z\" fill=\"none\"/>\n",
              "    <path d=\"M18.56 5.44l.94 2.06.94-2.06 2.06-.94-2.06-.94-.94-2.06-.94 2.06-2.06.94zm-11 1L8.5 8.5l.94-2.06 2.06-.94-2.06-.94L8.5 2.5l-.94 2.06-2.06.94zm10 10l.94 2.06.94-2.06 2.06-.94-2.06-.94-.94-2.06-.94 2.06-2.06.94z\"/><path d=\"M17.41 7.96l-1.37-1.37c-.4-.4-.92-.59-1.43-.59-.52 0-1.04.2-1.43.59L10.3 9.45l-7.72 7.72c-.78.78-.78 2.05 0 2.83L4 21.41c.39.39.9.59 1.41.59.51 0 1.02-.2 1.41-.59l7.78-7.78 2.81-2.81c.8-.78.8-2.07 0-2.86zM5.41 20L4 18.59l7.72-7.72 1.47 1.35L5.41 20z\"/>\n",
              "  </svg>\n",
              "      </button>\n",
              "\n",
              "\n",
              "\n",
              "    <div id=\"df-e643ec9c-b722-414f-8ed4-76b42374359c\">\n",
              "      <button class=\"colab-df-quickchart\" onclick=\"quickchart('df-e643ec9c-b722-414f-8ed4-76b42374359c')\"\n",
              "              title=\"Suggest charts.\"\n",
              "              style=\"display:none;\">\n",
              "\n",
              "<svg xmlns=\"http://www.w3.org/2000/svg\" height=\"24px\"viewBox=\"0 0 24 24\"\n",
              "     width=\"24px\">\n",
              "    <g>\n",
              "        <path d=\"M19 3H5c-1.1 0-2 .9-2 2v14c0 1.1.9 2 2 2h14c1.1 0 2-.9 2-2V5c0-1.1-.9-2-2-2zM9 17H7v-7h2v7zm4 0h-2V7h2v10zm4 0h-2v-4h2v4z\"/>\n",
              "    </g>\n",
              "</svg>\n",
              "      </button>\n",
              "    </div>\n",
              "\n",
              "<style>\n",
              "  .colab-df-quickchart {\n",
              "    background-color: #E8F0FE;\n",
              "    border: none;\n",
              "    border-radius: 50%;\n",
              "    cursor: pointer;\n",
              "    display: none;\n",
              "    fill: #1967D2;\n",
              "    height: 32px;\n",
              "    padding: 0 0 0 0;\n",
              "    width: 32px;\n",
              "  }\n",
              "\n",
              "  .colab-df-quickchart:hover {\n",
              "    background-color: #E2EBFA;\n",
              "    box-shadow: 0px 1px 2px rgba(60, 64, 67, 0.3), 0px 1px 3px 1px rgba(60, 64, 67, 0.15);\n",
              "    fill: #174EA6;\n",
              "  }\n",
              "\n",
              "  [theme=dark] .colab-df-quickchart {\n",
              "    background-color: #3B4455;\n",
              "    fill: #D2E3FC;\n",
              "  }\n",
              "\n",
              "  [theme=dark] .colab-df-quickchart:hover {\n",
              "    background-color: #434B5C;\n",
              "    box-shadow: 0px 1px 3px 1px rgba(0, 0, 0, 0.15);\n",
              "    filter: drop-shadow(0px 1px 2px rgba(0, 0, 0, 0.3));\n",
              "    fill: #FFFFFF;\n",
              "  }\n",
              "</style>\n",
              "\n",
              "    <script>\n",
              "      async function quickchart(key) {\n",
              "        const containerElement = document.querySelector('#' + key);\n",
              "        const charts = await google.colab.kernel.invokeFunction(\n",
              "            'suggestCharts', [key], {});\n",
              "      }\n",
              "    </script>\n",
              "\n",
              "      <script>\n",
              "\n",
              "function displayQuickchartButton(domScope) {\n",
              "  let quickchartButtonEl =\n",
              "    domScope.querySelector('#df-e643ec9c-b722-414f-8ed4-76b42374359c button.colab-df-quickchart');\n",
              "  quickchartButtonEl.style.display =\n",
              "    google.colab.kernel.accessAllowed ? 'block' : 'none';\n",
              "}\n",
              "\n",
              "        displayQuickchartButton(document);\n",
              "      </script>\n",
              "      <style>\n",
              "    .colab-df-container {\n",
              "      display:flex;\n",
              "      flex-wrap:wrap;\n",
              "      gap: 12px;\n",
              "    }\n",
              "\n",
              "    .colab-df-convert {\n",
              "      background-color: #E8F0FE;\n",
              "      border: none;\n",
              "      border-radius: 50%;\n",
              "      cursor: pointer;\n",
              "      display: none;\n",
              "      fill: #1967D2;\n",
              "      height: 32px;\n",
              "      padding: 0 0 0 0;\n",
              "      width: 32px;\n",
              "    }\n",
              "\n",
              "    .colab-df-convert:hover {\n",
              "      background-color: #E2EBFA;\n",
              "      box-shadow: 0px 1px 2px rgba(60, 64, 67, 0.3), 0px 1px 3px 1px rgba(60, 64, 67, 0.15);\n",
              "      fill: #174EA6;\n",
              "    }\n",
              "\n",
              "    [theme=dark] .colab-df-convert {\n",
              "      background-color: #3B4455;\n",
              "      fill: #D2E3FC;\n",
              "    }\n",
              "\n",
              "    [theme=dark] .colab-df-convert:hover {\n",
              "      background-color: #434B5C;\n",
              "      box-shadow: 0px 1px 3px 1px rgba(0, 0, 0, 0.15);\n",
              "      filter: drop-shadow(0px 1px 2px rgba(0, 0, 0, 0.3));\n",
              "      fill: #FFFFFF;\n",
              "    }\n",
              "  </style>\n",
              "\n",
              "      <script>\n",
              "        const buttonEl =\n",
              "          document.querySelector('#df-b29a78a2-1d2c-443b-8d84-e41caabf9c6b button.colab-df-convert');\n",
              "        buttonEl.style.display =\n",
              "          google.colab.kernel.accessAllowed ? 'block' : 'none';\n",
              "\n",
              "        async function convertToInteractive(key) {\n",
              "          const element = document.querySelector('#df-b29a78a2-1d2c-443b-8d84-e41caabf9c6b');\n",
              "          const dataTable =\n",
              "            await google.colab.kernel.invokeFunction('convertToInteractive',\n",
              "                                                     [key], {});\n",
              "          if (!dataTable) return;\n",
              "\n",
              "          const docLinkHtml = 'Like what you see? Visit the ' +\n",
              "            '<a target=\"_blank\" href=https://colab.research.google.com/notebooks/data_table.ipynb>data table notebook</a>'\n",
              "            + ' to learn more about interactive tables.';\n",
              "          element.innerHTML = '';\n",
              "          dataTable['output_type'] = 'display_data';\n",
              "          await google.colab.output.renderOutput(dataTable, element);\n",
              "          const docLink = document.createElement('div');\n",
              "          docLink.innerHTML = docLinkHtml;\n",
              "          element.appendChild(docLink);\n",
              "        }\n",
              "      </script>\n",
              "    </div>\n",
              "  </div>\n"
            ]
          },
          "metadata": {},
          "execution_count": 147
        }
      ]
    },
    {
      "cell_type": "code",
      "source": [
        "benign = ddosdataset[ddosdataset.Label == 0]\n",
        "ddos= ddosdataset[ddosdataset.Label ==1]"
      ],
      "metadata": {
        "id": "9lm-AzgIkIH2"
      },
      "execution_count": 148,
      "outputs": []
    },
    {
      "cell_type": "code",
      "source": [
        "print(benign.shape)\n",
        "print(ddos.shape)"
      ],
      "metadata": {
        "colab": {
          "base_uri": "https://localhost:8080/"
        },
        "id": "3oJGQR7Jklsf",
        "outputId": "c77764d4-31b5-4eb2-df35-02fdb6be043c"
      },
      "execution_count": 149,
      "outputs": [
        {
          "output_type": "stream",
          "name": "stdout",
          "text": [
            "(97831, 78)\n",
            "(333540, 78)\n"
          ]
        }
      ]
    },
    {
      "cell_type": "code",
      "source": [
        "\n",
        "ddos_sample = ddos.sample(n=97831)\n",
        "print(ddos_sample.shape)\n"
      ],
      "metadata": {
        "colab": {
          "base_uri": "https://localhost:8080/"
        },
        "id": "WvUWF7UrlHBv",
        "outputId": "44938510-5aea-4980-f030-417db39f3c17"
      },
      "execution_count": 150,
      "outputs": [
        {
          "output_type": "stream",
          "name": "stdout",
          "text": [
            "(97831, 78)\n"
          ]
        }
      ]
    },
    {
      "cell_type": "code",
      "source": [
        "newddos_dataset = pd.concat([ddos_sample, benign] , axis= 0)"
      ],
      "metadata": {
        "id": "thGz-gRXlhdT"
      },
      "execution_count": 151,
      "outputs": []
    },
    {
      "cell_type": "code",
      "source": [
        "newddos_dataset.head()"
      ],
      "metadata": {
        "colab": {
          "base_uri": "https://localhost:8080/",
          "height": 351
        },
        "id": "67iCyLnGluvm",
        "outputId": "684a0ce9-78e8-4ac9-e37c-ec3be139b762"
      },
      "execution_count": 152,
      "outputs": [
        {
          "output_type": "execute_result",
          "data": {
            "text/plain": [
              "        Protocol  Flow Duration  Total Fwd Packets  Total Backward Packets  \\\n",
              "269061        17        2998901                  4                       0   \n",
              "292496        17        3000461                  4                       0   \n",
              "131320        17            270                 58                       0   \n",
              "99940         17            408                 10                       0   \n",
              "378722        17         109209                  4                       0   \n",
              "\n",
              "        Fwd Packets Length Total  Bwd Packets Length Total  \\\n",
              "269061                    2064.0                       0.0   \n",
              "292496                    2064.0                       0.0   \n",
              "131320                   25376.0                       0.0   \n",
              "99940                     3824.0                       0.0   \n",
              "378722                    1438.0                       0.0   \n",
              "\n",
              "        Fwd Packet Length Max  Fwd Packet Length Min  Fwd Packet Length Mean  \\\n",
              "269061                  516.0                  516.0               516.00000   \n",
              "292496                  516.0                  516.0               516.00000   \n",
              "131320                  440.0                  368.0               437.51724   \n",
              "99940                   440.0                  152.0               382.40000   \n",
              "378722                  389.0                  330.0               359.50000   \n",
              "\n",
              "        Fwd Packet Length Std  ...  Fwd Seg Size Min  Active Mean  Active Std  \\\n",
              "269061               0.000000  ...                -1          0.0         0.0   \n",
              "292496               0.000000  ...                20          0.0         0.0   \n",
              "131320              13.252264  ...                20          0.0         0.0   \n",
              "99940              121.431465  ...                20          0.0         0.0   \n",
              "378722              34.063667  ...                20          0.0         0.0   \n",
              "\n",
              "        Active Max  Active Min  Idle Mean  Idle Std  Idle Max  Idle Min  Label  \n",
              "269061         0.0         0.0        0.0       0.0       0.0       0.0      1  \n",
              "292496         0.0         0.0        0.0       0.0       0.0       0.0      1  \n",
              "131320         0.0         0.0        0.0       0.0       0.0       0.0      1  \n",
              "99940          0.0         0.0        0.0       0.0       0.0       0.0      1  \n",
              "378722         0.0         0.0        0.0       0.0       0.0       0.0      1  \n",
              "\n",
              "[5 rows x 78 columns]"
            ],
            "text/html": [
              "\n",
              "\n",
              "  <div id=\"df-820cb90a-48ed-41f9-82d9-60a990c8db41\">\n",
              "    <div class=\"colab-df-container\">\n",
              "      <div>\n",
              "<style scoped>\n",
              "    .dataframe tbody tr th:only-of-type {\n",
              "        vertical-align: middle;\n",
              "    }\n",
              "\n",
              "    .dataframe tbody tr th {\n",
              "        vertical-align: top;\n",
              "    }\n",
              "\n",
              "    .dataframe thead th {\n",
              "        text-align: right;\n",
              "    }\n",
              "</style>\n",
              "<table border=\"1\" class=\"dataframe\">\n",
              "  <thead>\n",
              "    <tr style=\"text-align: right;\">\n",
              "      <th></th>\n",
              "      <th>Protocol</th>\n",
              "      <th>Flow Duration</th>\n",
              "      <th>Total Fwd Packets</th>\n",
              "      <th>Total Backward Packets</th>\n",
              "      <th>Fwd Packets Length Total</th>\n",
              "      <th>Bwd Packets Length Total</th>\n",
              "      <th>Fwd Packet Length Max</th>\n",
              "      <th>Fwd Packet Length Min</th>\n",
              "      <th>Fwd Packet Length Mean</th>\n",
              "      <th>Fwd Packet Length Std</th>\n",
              "      <th>...</th>\n",
              "      <th>Fwd Seg Size Min</th>\n",
              "      <th>Active Mean</th>\n",
              "      <th>Active Std</th>\n",
              "      <th>Active Max</th>\n",
              "      <th>Active Min</th>\n",
              "      <th>Idle Mean</th>\n",
              "      <th>Idle Std</th>\n",
              "      <th>Idle Max</th>\n",
              "      <th>Idle Min</th>\n",
              "      <th>Label</th>\n",
              "    </tr>\n",
              "  </thead>\n",
              "  <tbody>\n",
              "    <tr>\n",
              "      <th>269061</th>\n",
              "      <td>17</td>\n",
              "      <td>2998901</td>\n",
              "      <td>4</td>\n",
              "      <td>0</td>\n",
              "      <td>2064.0</td>\n",
              "      <td>0.0</td>\n",
              "      <td>516.0</td>\n",
              "      <td>516.0</td>\n",
              "      <td>516.00000</td>\n",
              "      <td>0.000000</td>\n",
              "      <td>...</td>\n",
              "      <td>-1</td>\n",
              "      <td>0.0</td>\n",
              "      <td>0.0</td>\n",
              "      <td>0.0</td>\n",
              "      <td>0.0</td>\n",
              "      <td>0.0</td>\n",
              "      <td>0.0</td>\n",
              "      <td>0.0</td>\n",
              "      <td>0.0</td>\n",
              "      <td>1</td>\n",
              "    </tr>\n",
              "    <tr>\n",
              "      <th>292496</th>\n",
              "      <td>17</td>\n",
              "      <td>3000461</td>\n",
              "      <td>4</td>\n",
              "      <td>0</td>\n",
              "      <td>2064.0</td>\n",
              "      <td>0.0</td>\n",
              "      <td>516.0</td>\n",
              "      <td>516.0</td>\n",
              "      <td>516.00000</td>\n",
              "      <td>0.000000</td>\n",
              "      <td>...</td>\n",
              "      <td>20</td>\n",
              "      <td>0.0</td>\n",
              "      <td>0.0</td>\n",
              "      <td>0.0</td>\n",
              "      <td>0.0</td>\n",
              "      <td>0.0</td>\n",
              "      <td>0.0</td>\n",
              "      <td>0.0</td>\n",
              "      <td>0.0</td>\n",
              "      <td>1</td>\n",
              "    </tr>\n",
              "    <tr>\n",
              "      <th>131320</th>\n",
              "      <td>17</td>\n",
              "      <td>270</td>\n",
              "      <td>58</td>\n",
              "      <td>0</td>\n",
              "      <td>25376.0</td>\n",
              "      <td>0.0</td>\n",
              "      <td>440.0</td>\n",
              "      <td>368.0</td>\n",
              "      <td>437.51724</td>\n",
              "      <td>13.252264</td>\n",
              "      <td>...</td>\n",
              "      <td>20</td>\n",
              "      <td>0.0</td>\n",
              "      <td>0.0</td>\n",
              "      <td>0.0</td>\n",
              "      <td>0.0</td>\n",
              "      <td>0.0</td>\n",
              "      <td>0.0</td>\n",
              "      <td>0.0</td>\n",
              "      <td>0.0</td>\n",
              "      <td>1</td>\n",
              "    </tr>\n",
              "    <tr>\n",
              "      <th>99940</th>\n",
              "      <td>17</td>\n",
              "      <td>408</td>\n",
              "      <td>10</td>\n",
              "      <td>0</td>\n",
              "      <td>3824.0</td>\n",
              "      <td>0.0</td>\n",
              "      <td>440.0</td>\n",
              "      <td>152.0</td>\n",
              "      <td>382.40000</td>\n",
              "      <td>121.431465</td>\n",
              "      <td>...</td>\n",
              "      <td>20</td>\n",
              "      <td>0.0</td>\n",
              "      <td>0.0</td>\n",
              "      <td>0.0</td>\n",
              "      <td>0.0</td>\n",
              "      <td>0.0</td>\n",
              "      <td>0.0</td>\n",
              "      <td>0.0</td>\n",
              "      <td>0.0</td>\n",
              "      <td>1</td>\n",
              "    </tr>\n",
              "    <tr>\n",
              "      <th>378722</th>\n",
              "      <td>17</td>\n",
              "      <td>109209</td>\n",
              "      <td>4</td>\n",
              "      <td>0</td>\n",
              "      <td>1438.0</td>\n",
              "      <td>0.0</td>\n",
              "      <td>389.0</td>\n",
              "      <td>330.0</td>\n",
              "      <td>359.50000</td>\n",
              "      <td>34.063667</td>\n",
              "      <td>...</td>\n",
              "      <td>20</td>\n",
              "      <td>0.0</td>\n",
              "      <td>0.0</td>\n",
              "      <td>0.0</td>\n",
              "      <td>0.0</td>\n",
              "      <td>0.0</td>\n",
              "      <td>0.0</td>\n",
              "      <td>0.0</td>\n",
              "      <td>0.0</td>\n",
              "      <td>1</td>\n",
              "    </tr>\n",
              "  </tbody>\n",
              "</table>\n",
              "<p>5 rows × 78 columns</p>\n",
              "</div>\n",
              "      <button class=\"colab-df-convert\" onclick=\"convertToInteractive('df-820cb90a-48ed-41f9-82d9-60a990c8db41')\"\n",
              "              title=\"Convert this dataframe to an interactive table.\"\n",
              "              style=\"display:none;\">\n",
              "\n",
              "  <svg xmlns=\"http://www.w3.org/2000/svg\" height=\"24px\"viewBox=\"0 0 24 24\"\n",
              "       width=\"24px\">\n",
              "    <path d=\"M0 0h24v24H0V0z\" fill=\"none\"/>\n",
              "    <path d=\"M18.56 5.44l.94 2.06.94-2.06 2.06-.94-2.06-.94-.94-2.06-.94 2.06-2.06.94zm-11 1L8.5 8.5l.94-2.06 2.06-.94-2.06-.94L8.5 2.5l-.94 2.06-2.06.94zm10 10l.94 2.06.94-2.06 2.06-.94-2.06-.94-.94-2.06-.94 2.06-2.06.94z\"/><path d=\"M17.41 7.96l-1.37-1.37c-.4-.4-.92-.59-1.43-.59-.52 0-1.04.2-1.43.59L10.3 9.45l-7.72 7.72c-.78.78-.78 2.05 0 2.83L4 21.41c.39.39.9.59 1.41.59.51 0 1.02-.2 1.41-.59l7.78-7.78 2.81-2.81c.8-.78.8-2.07 0-2.86zM5.41 20L4 18.59l7.72-7.72 1.47 1.35L5.41 20z\"/>\n",
              "  </svg>\n",
              "      </button>\n",
              "\n",
              "\n",
              "\n",
              "    <div id=\"df-520a3fc1-88b0-4a68-bd9b-85b1d7dc1015\">\n",
              "      <button class=\"colab-df-quickchart\" onclick=\"quickchart('df-520a3fc1-88b0-4a68-bd9b-85b1d7dc1015')\"\n",
              "              title=\"Suggest charts.\"\n",
              "              style=\"display:none;\">\n",
              "\n",
              "<svg xmlns=\"http://www.w3.org/2000/svg\" height=\"24px\"viewBox=\"0 0 24 24\"\n",
              "     width=\"24px\">\n",
              "    <g>\n",
              "        <path d=\"M19 3H5c-1.1 0-2 .9-2 2v14c0 1.1.9 2 2 2h14c1.1 0 2-.9 2-2V5c0-1.1-.9-2-2-2zM9 17H7v-7h2v7zm4 0h-2V7h2v10zm4 0h-2v-4h2v4z\"/>\n",
              "    </g>\n",
              "</svg>\n",
              "      </button>\n",
              "    </div>\n",
              "\n",
              "<style>\n",
              "  .colab-df-quickchart {\n",
              "    background-color: #E8F0FE;\n",
              "    border: none;\n",
              "    border-radius: 50%;\n",
              "    cursor: pointer;\n",
              "    display: none;\n",
              "    fill: #1967D2;\n",
              "    height: 32px;\n",
              "    padding: 0 0 0 0;\n",
              "    width: 32px;\n",
              "  }\n",
              "\n",
              "  .colab-df-quickchart:hover {\n",
              "    background-color: #E2EBFA;\n",
              "    box-shadow: 0px 1px 2px rgba(60, 64, 67, 0.3), 0px 1px 3px 1px rgba(60, 64, 67, 0.15);\n",
              "    fill: #174EA6;\n",
              "  }\n",
              "\n",
              "  [theme=dark] .colab-df-quickchart {\n",
              "    background-color: #3B4455;\n",
              "    fill: #D2E3FC;\n",
              "  }\n",
              "\n",
              "  [theme=dark] .colab-df-quickchart:hover {\n",
              "    background-color: #434B5C;\n",
              "    box-shadow: 0px 1px 3px 1px rgba(0, 0, 0, 0.15);\n",
              "    filter: drop-shadow(0px 1px 2px rgba(0, 0, 0, 0.3));\n",
              "    fill: #FFFFFF;\n",
              "  }\n",
              "</style>\n",
              "\n",
              "    <script>\n",
              "      async function quickchart(key) {\n",
              "        const containerElement = document.querySelector('#' + key);\n",
              "        const charts = await google.colab.kernel.invokeFunction(\n",
              "            'suggestCharts', [key], {});\n",
              "      }\n",
              "    </script>\n",
              "\n",
              "      <script>\n",
              "\n",
              "function displayQuickchartButton(domScope) {\n",
              "  let quickchartButtonEl =\n",
              "    domScope.querySelector('#df-520a3fc1-88b0-4a68-bd9b-85b1d7dc1015 button.colab-df-quickchart');\n",
              "  quickchartButtonEl.style.display =\n",
              "    google.colab.kernel.accessAllowed ? 'block' : 'none';\n",
              "}\n",
              "\n",
              "        displayQuickchartButton(document);\n",
              "      </script>\n",
              "      <style>\n",
              "    .colab-df-container {\n",
              "      display:flex;\n",
              "      flex-wrap:wrap;\n",
              "      gap: 12px;\n",
              "    }\n",
              "\n",
              "    .colab-df-convert {\n",
              "      background-color: #E8F0FE;\n",
              "      border: none;\n",
              "      border-radius: 50%;\n",
              "      cursor: pointer;\n",
              "      display: none;\n",
              "      fill: #1967D2;\n",
              "      height: 32px;\n",
              "      padding: 0 0 0 0;\n",
              "      width: 32px;\n",
              "    }\n",
              "\n",
              "    .colab-df-convert:hover {\n",
              "      background-color: #E2EBFA;\n",
              "      box-shadow: 0px 1px 2px rgba(60, 64, 67, 0.3), 0px 1px 3px 1px rgba(60, 64, 67, 0.15);\n",
              "      fill: #174EA6;\n",
              "    }\n",
              "\n",
              "    [theme=dark] .colab-df-convert {\n",
              "      background-color: #3B4455;\n",
              "      fill: #D2E3FC;\n",
              "    }\n",
              "\n",
              "    [theme=dark] .colab-df-convert:hover {\n",
              "      background-color: #434B5C;\n",
              "      box-shadow: 0px 1px 3px 1px rgba(0, 0, 0, 0.15);\n",
              "      filter: drop-shadow(0px 1px 2px rgba(0, 0, 0, 0.3));\n",
              "      fill: #FFFFFF;\n",
              "    }\n",
              "  </style>\n",
              "\n",
              "      <script>\n",
              "        const buttonEl =\n",
              "          document.querySelector('#df-820cb90a-48ed-41f9-82d9-60a990c8db41 button.colab-df-convert');\n",
              "        buttonEl.style.display =\n",
              "          google.colab.kernel.accessAllowed ? 'block' : 'none';\n",
              "\n",
              "        async function convertToInteractive(key) {\n",
              "          const element = document.querySelector('#df-820cb90a-48ed-41f9-82d9-60a990c8db41');\n",
              "          const dataTable =\n",
              "            await google.colab.kernel.invokeFunction('convertToInteractive',\n",
              "                                                     [key], {});\n",
              "          if (!dataTable) return;\n",
              "\n",
              "          const docLinkHtml = 'Like what you see? Visit the ' +\n",
              "            '<a target=\"_blank\" href=https://colab.research.google.com/notebooks/data_table.ipynb>data table notebook</a>'\n",
              "            + ' to learn more about interactive tables.';\n",
              "          element.innerHTML = '';\n",
              "          dataTable['output_type'] = 'display_data';\n",
              "          await google.colab.output.renderOutput(dataTable, element);\n",
              "          const docLink = document.createElement('div');\n",
              "          docLink.innerHTML = docLinkHtml;\n",
              "          element.appendChild(docLink);\n",
              "        }\n",
              "      </script>\n",
              "    </div>\n",
              "  </div>\n"
            ]
          },
          "metadata": {},
          "execution_count": 152
        }
      ]
    },
    {
      "cell_type": "code",
      "source": [
        "newddos_dataset['Label'].value_counts()"
      ],
      "metadata": {
        "colab": {
          "base_uri": "https://localhost:8080/"
        },
        "id": "SQLmpTJal1PK",
        "outputId": "56b828f8-ab2f-4059-a03d-19e510177b4e"
      },
      "execution_count": 153,
      "outputs": [
        {
          "output_type": "execute_result",
          "data": {
            "text/plain": [
              "1    97831\n",
              "0    97831\n",
              "Name: Label, dtype: int64"
            ]
          },
          "metadata": {},
          "execution_count": 153
        }
      ]
    },
    {
      "cell_type": "markdown",
      "source": [
        "**the data now is balanced**"
      ],
      "metadata": {
        "id": "QAHI1m6on5N7"
      }
    },
    {
      "cell_type": "markdown",
      "source": [
        "saving this dataset"
      ],
      "metadata": {
        "id": "XJp7SP0rtctQ"
      }
    },
    {
      "cell_type": "code",
      "source": [
        "df2 = pd.DataFrame(newddos_dataset)\n",
        "df2.to_csv('ddosdatasetwhitoutstd.csv', index=False)\n"
      ],
      "metadata": {
        "id": "_Dpjot-XtfJL"
      },
      "execution_count": 154,
      "outputs": []
    },
    {
      "cell_type": "markdown",
      "source": [
        "**Data** **Standardization**:\n",
        "\n",
        "**Data Standardization** is the process of standardizing the data to common format and common range."
      ],
      "metadata": {
        "id": "pA_OHNROpNLS"
      }
    },
    {
      "cell_type": "code",
      "source": [
        "dataframe = pd.read_csv('/content/ddosdatasetwhitoutstd.csv')"
      ],
      "metadata": {
        "id": "aZIiHXGqt9_3"
      },
      "execution_count": 155,
      "outputs": []
    },
    {
      "cell_type": "code",
      "source": [
        "dataframe['Label'].value_counts()\n",
        "dataframe.head()"
      ],
      "metadata": {
        "colab": {
          "base_uri": "https://localhost:8080/",
          "height": 351
        },
        "id": "tb6ei37_xhwy",
        "outputId": "c15b2b57-066d-4ad7-b27b-88b80d95208c"
      },
      "execution_count": 158,
      "outputs": [
        {
          "output_type": "execute_result",
          "data": {
            "text/plain": [
              "   Protocol  Flow Duration  Total Fwd Packets  Total Backward Packets  \\\n",
              "0        17        2998901                  4                       0   \n",
              "1        17        3000461                  4                       0   \n",
              "2        17            270                 58                       0   \n",
              "3        17            408                 10                       0   \n",
              "4        17         109209                  4                       0   \n",
              "\n",
              "   Fwd Packets Length Total  Bwd Packets Length Total  Fwd Packet Length Max  \\\n",
              "0                    2064.0                       0.0                  516.0   \n",
              "1                    2064.0                       0.0                  516.0   \n",
              "2                   25376.0                       0.0                  440.0   \n",
              "3                    3824.0                       0.0                  440.0   \n",
              "4                    1438.0                       0.0                  389.0   \n",
              "\n",
              "   Fwd Packet Length Min  Fwd Packet Length Mean  Fwd Packet Length Std  ...  \\\n",
              "0                  516.0               516.00000               0.000000  ...   \n",
              "1                  516.0               516.00000               0.000000  ...   \n",
              "2                  368.0               437.51724              13.252264  ...   \n",
              "3                  152.0               382.40000             121.431465  ...   \n",
              "4                  330.0               359.50000              34.063667  ...   \n",
              "\n",
              "   Fwd Seg Size Min  Active Mean  Active Std  Active Max  Active Min  \\\n",
              "0                -1          0.0         0.0         0.0         0.0   \n",
              "1                20          0.0         0.0         0.0         0.0   \n",
              "2                20          0.0         0.0         0.0         0.0   \n",
              "3                20          0.0         0.0         0.0         0.0   \n",
              "4                20          0.0         0.0         0.0         0.0   \n",
              "\n",
              "   Idle Mean  Idle Std  Idle Max  Idle Min  Label  \n",
              "0        0.0       0.0       0.0       0.0      1  \n",
              "1        0.0       0.0       0.0       0.0      1  \n",
              "2        0.0       0.0       0.0       0.0      1  \n",
              "3        0.0       0.0       0.0       0.0      1  \n",
              "4        0.0       0.0       0.0       0.0      1  \n",
              "\n",
              "[5 rows x 78 columns]"
            ],
            "text/html": [
              "\n",
              "\n",
              "  <div id=\"df-91d075f1-b1a2-4a36-8df2-6b7589a5856f\">\n",
              "    <div class=\"colab-df-container\">\n",
              "      <div>\n",
              "<style scoped>\n",
              "    .dataframe tbody tr th:only-of-type {\n",
              "        vertical-align: middle;\n",
              "    }\n",
              "\n",
              "    .dataframe tbody tr th {\n",
              "        vertical-align: top;\n",
              "    }\n",
              "\n",
              "    .dataframe thead th {\n",
              "        text-align: right;\n",
              "    }\n",
              "</style>\n",
              "<table border=\"1\" class=\"dataframe\">\n",
              "  <thead>\n",
              "    <tr style=\"text-align: right;\">\n",
              "      <th></th>\n",
              "      <th>Protocol</th>\n",
              "      <th>Flow Duration</th>\n",
              "      <th>Total Fwd Packets</th>\n",
              "      <th>Total Backward Packets</th>\n",
              "      <th>Fwd Packets Length Total</th>\n",
              "      <th>Bwd Packets Length Total</th>\n",
              "      <th>Fwd Packet Length Max</th>\n",
              "      <th>Fwd Packet Length Min</th>\n",
              "      <th>Fwd Packet Length Mean</th>\n",
              "      <th>Fwd Packet Length Std</th>\n",
              "      <th>...</th>\n",
              "      <th>Fwd Seg Size Min</th>\n",
              "      <th>Active Mean</th>\n",
              "      <th>Active Std</th>\n",
              "      <th>Active Max</th>\n",
              "      <th>Active Min</th>\n",
              "      <th>Idle Mean</th>\n",
              "      <th>Idle Std</th>\n",
              "      <th>Idle Max</th>\n",
              "      <th>Idle Min</th>\n",
              "      <th>Label</th>\n",
              "    </tr>\n",
              "  </thead>\n",
              "  <tbody>\n",
              "    <tr>\n",
              "      <th>0</th>\n",
              "      <td>17</td>\n",
              "      <td>2998901</td>\n",
              "      <td>4</td>\n",
              "      <td>0</td>\n",
              "      <td>2064.0</td>\n",
              "      <td>0.0</td>\n",
              "      <td>516.0</td>\n",
              "      <td>516.0</td>\n",
              "      <td>516.00000</td>\n",
              "      <td>0.000000</td>\n",
              "      <td>...</td>\n",
              "      <td>-1</td>\n",
              "      <td>0.0</td>\n",
              "      <td>0.0</td>\n",
              "      <td>0.0</td>\n",
              "      <td>0.0</td>\n",
              "      <td>0.0</td>\n",
              "      <td>0.0</td>\n",
              "      <td>0.0</td>\n",
              "      <td>0.0</td>\n",
              "      <td>1</td>\n",
              "    </tr>\n",
              "    <tr>\n",
              "      <th>1</th>\n",
              "      <td>17</td>\n",
              "      <td>3000461</td>\n",
              "      <td>4</td>\n",
              "      <td>0</td>\n",
              "      <td>2064.0</td>\n",
              "      <td>0.0</td>\n",
              "      <td>516.0</td>\n",
              "      <td>516.0</td>\n",
              "      <td>516.00000</td>\n",
              "      <td>0.000000</td>\n",
              "      <td>...</td>\n",
              "      <td>20</td>\n",
              "      <td>0.0</td>\n",
              "      <td>0.0</td>\n",
              "      <td>0.0</td>\n",
              "      <td>0.0</td>\n",
              "      <td>0.0</td>\n",
              "      <td>0.0</td>\n",
              "      <td>0.0</td>\n",
              "      <td>0.0</td>\n",
              "      <td>1</td>\n",
              "    </tr>\n",
              "    <tr>\n",
              "      <th>2</th>\n",
              "      <td>17</td>\n",
              "      <td>270</td>\n",
              "      <td>58</td>\n",
              "      <td>0</td>\n",
              "      <td>25376.0</td>\n",
              "      <td>0.0</td>\n",
              "      <td>440.0</td>\n",
              "      <td>368.0</td>\n",
              "      <td>437.51724</td>\n",
              "      <td>13.252264</td>\n",
              "      <td>...</td>\n",
              "      <td>20</td>\n",
              "      <td>0.0</td>\n",
              "      <td>0.0</td>\n",
              "      <td>0.0</td>\n",
              "      <td>0.0</td>\n",
              "      <td>0.0</td>\n",
              "      <td>0.0</td>\n",
              "      <td>0.0</td>\n",
              "      <td>0.0</td>\n",
              "      <td>1</td>\n",
              "    </tr>\n",
              "    <tr>\n",
              "      <th>3</th>\n",
              "      <td>17</td>\n",
              "      <td>408</td>\n",
              "      <td>10</td>\n",
              "      <td>0</td>\n",
              "      <td>3824.0</td>\n",
              "      <td>0.0</td>\n",
              "      <td>440.0</td>\n",
              "      <td>152.0</td>\n",
              "      <td>382.40000</td>\n",
              "      <td>121.431465</td>\n",
              "      <td>...</td>\n",
              "      <td>20</td>\n",
              "      <td>0.0</td>\n",
              "      <td>0.0</td>\n",
              "      <td>0.0</td>\n",
              "      <td>0.0</td>\n",
              "      <td>0.0</td>\n",
              "      <td>0.0</td>\n",
              "      <td>0.0</td>\n",
              "      <td>0.0</td>\n",
              "      <td>1</td>\n",
              "    </tr>\n",
              "    <tr>\n",
              "      <th>4</th>\n",
              "      <td>17</td>\n",
              "      <td>109209</td>\n",
              "      <td>4</td>\n",
              "      <td>0</td>\n",
              "      <td>1438.0</td>\n",
              "      <td>0.0</td>\n",
              "      <td>389.0</td>\n",
              "      <td>330.0</td>\n",
              "      <td>359.50000</td>\n",
              "      <td>34.063667</td>\n",
              "      <td>...</td>\n",
              "      <td>20</td>\n",
              "      <td>0.0</td>\n",
              "      <td>0.0</td>\n",
              "      <td>0.0</td>\n",
              "      <td>0.0</td>\n",
              "      <td>0.0</td>\n",
              "      <td>0.0</td>\n",
              "      <td>0.0</td>\n",
              "      <td>0.0</td>\n",
              "      <td>1</td>\n",
              "    </tr>\n",
              "  </tbody>\n",
              "</table>\n",
              "<p>5 rows × 78 columns</p>\n",
              "</div>\n",
              "      <button class=\"colab-df-convert\" onclick=\"convertToInteractive('df-91d075f1-b1a2-4a36-8df2-6b7589a5856f')\"\n",
              "              title=\"Convert this dataframe to an interactive table.\"\n",
              "              style=\"display:none;\">\n",
              "\n",
              "  <svg xmlns=\"http://www.w3.org/2000/svg\" height=\"24px\"viewBox=\"0 0 24 24\"\n",
              "       width=\"24px\">\n",
              "    <path d=\"M0 0h24v24H0V0z\" fill=\"none\"/>\n",
              "    <path d=\"M18.56 5.44l.94 2.06.94-2.06 2.06-.94-2.06-.94-.94-2.06-.94 2.06-2.06.94zm-11 1L8.5 8.5l.94-2.06 2.06-.94-2.06-.94L8.5 2.5l-.94 2.06-2.06.94zm10 10l.94 2.06.94-2.06 2.06-.94-2.06-.94-.94-2.06-.94 2.06-2.06.94z\"/><path d=\"M17.41 7.96l-1.37-1.37c-.4-.4-.92-.59-1.43-.59-.52 0-1.04.2-1.43.59L10.3 9.45l-7.72 7.72c-.78.78-.78 2.05 0 2.83L4 21.41c.39.39.9.59 1.41.59.51 0 1.02-.2 1.41-.59l7.78-7.78 2.81-2.81c.8-.78.8-2.07 0-2.86zM5.41 20L4 18.59l7.72-7.72 1.47 1.35L5.41 20z\"/>\n",
              "  </svg>\n",
              "      </button>\n",
              "\n",
              "\n",
              "\n",
              "    <div id=\"df-81a1824b-b313-425a-90c7-2a5a0d503af2\">\n",
              "      <button class=\"colab-df-quickchart\" onclick=\"quickchart('df-81a1824b-b313-425a-90c7-2a5a0d503af2')\"\n",
              "              title=\"Suggest charts.\"\n",
              "              style=\"display:none;\">\n",
              "\n",
              "<svg xmlns=\"http://www.w3.org/2000/svg\" height=\"24px\"viewBox=\"0 0 24 24\"\n",
              "     width=\"24px\">\n",
              "    <g>\n",
              "        <path d=\"M19 3H5c-1.1 0-2 .9-2 2v14c0 1.1.9 2 2 2h14c1.1 0 2-.9 2-2V5c0-1.1-.9-2-2-2zM9 17H7v-7h2v7zm4 0h-2V7h2v10zm4 0h-2v-4h2v4z\"/>\n",
              "    </g>\n",
              "</svg>\n",
              "      </button>\n",
              "    </div>\n",
              "\n",
              "<style>\n",
              "  .colab-df-quickchart {\n",
              "    background-color: #E8F0FE;\n",
              "    border: none;\n",
              "    border-radius: 50%;\n",
              "    cursor: pointer;\n",
              "    display: none;\n",
              "    fill: #1967D2;\n",
              "    height: 32px;\n",
              "    padding: 0 0 0 0;\n",
              "    width: 32px;\n",
              "  }\n",
              "\n",
              "  .colab-df-quickchart:hover {\n",
              "    background-color: #E2EBFA;\n",
              "    box-shadow: 0px 1px 2px rgba(60, 64, 67, 0.3), 0px 1px 3px 1px rgba(60, 64, 67, 0.15);\n",
              "    fill: #174EA6;\n",
              "  }\n",
              "\n",
              "  [theme=dark] .colab-df-quickchart {\n",
              "    background-color: #3B4455;\n",
              "    fill: #D2E3FC;\n",
              "  }\n",
              "\n",
              "  [theme=dark] .colab-df-quickchart:hover {\n",
              "    background-color: #434B5C;\n",
              "    box-shadow: 0px 1px 3px 1px rgba(0, 0, 0, 0.15);\n",
              "    filter: drop-shadow(0px 1px 2px rgba(0, 0, 0, 0.3));\n",
              "    fill: #FFFFFF;\n",
              "  }\n",
              "</style>\n",
              "\n",
              "    <script>\n",
              "      async function quickchart(key) {\n",
              "        const containerElement = document.querySelector('#' + key);\n",
              "        const charts = await google.colab.kernel.invokeFunction(\n",
              "            'suggestCharts', [key], {});\n",
              "      }\n",
              "    </script>\n",
              "\n",
              "      <script>\n",
              "\n",
              "function displayQuickchartButton(domScope) {\n",
              "  let quickchartButtonEl =\n",
              "    domScope.querySelector('#df-81a1824b-b313-425a-90c7-2a5a0d503af2 button.colab-df-quickchart');\n",
              "  quickchartButtonEl.style.display =\n",
              "    google.colab.kernel.accessAllowed ? 'block' : 'none';\n",
              "}\n",
              "\n",
              "        displayQuickchartButton(document);\n",
              "      </script>\n",
              "      <style>\n",
              "    .colab-df-container {\n",
              "      display:flex;\n",
              "      flex-wrap:wrap;\n",
              "      gap: 12px;\n",
              "    }\n",
              "\n",
              "    .colab-df-convert {\n",
              "      background-color: #E8F0FE;\n",
              "      border: none;\n",
              "      border-radius: 50%;\n",
              "      cursor: pointer;\n",
              "      display: none;\n",
              "      fill: #1967D2;\n",
              "      height: 32px;\n",
              "      padding: 0 0 0 0;\n",
              "      width: 32px;\n",
              "    }\n",
              "\n",
              "    .colab-df-convert:hover {\n",
              "      background-color: #E2EBFA;\n",
              "      box-shadow: 0px 1px 2px rgba(60, 64, 67, 0.3), 0px 1px 3px 1px rgba(60, 64, 67, 0.15);\n",
              "      fill: #174EA6;\n",
              "    }\n",
              "\n",
              "    [theme=dark] .colab-df-convert {\n",
              "      background-color: #3B4455;\n",
              "      fill: #D2E3FC;\n",
              "    }\n",
              "\n",
              "    [theme=dark] .colab-df-convert:hover {\n",
              "      background-color: #434B5C;\n",
              "      box-shadow: 0px 1px 3px 1px rgba(0, 0, 0, 0.15);\n",
              "      filter: drop-shadow(0px 1px 2px rgba(0, 0, 0, 0.3));\n",
              "      fill: #FFFFFF;\n",
              "    }\n",
              "  </style>\n",
              "\n",
              "      <script>\n",
              "        const buttonEl =\n",
              "          document.querySelector('#df-91d075f1-b1a2-4a36-8df2-6b7589a5856f button.colab-df-convert');\n",
              "        buttonEl.style.display =\n",
              "          google.colab.kernel.accessAllowed ? 'block' : 'none';\n",
              "\n",
              "        async function convertToInteractive(key) {\n",
              "          const element = document.querySelector('#df-91d075f1-b1a2-4a36-8df2-6b7589a5856f');\n",
              "          const dataTable =\n",
              "            await google.colab.kernel.invokeFunction('convertToInteractive',\n",
              "                                                     [key], {});\n",
              "          if (!dataTable) return;\n",
              "\n",
              "          const docLinkHtml = 'Like what you see? Visit the ' +\n",
              "            '<a target=\"_blank\" href=https://colab.research.google.com/notebooks/data_table.ipynb>data table notebook</a>'\n",
              "            + ' to learn more about interactive tables.';\n",
              "          element.innerHTML = '';\n",
              "          dataTable['output_type'] = 'display_data';\n",
              "          await google.colab.output.renderOutput(dataTable, element);\n",
              "          const docLink = document.createElement('div');\n",
              "          docLink.innerHTML = docLinkHtml;\n",
              "          element.appendChild(docLink);\n",
              "        }\n",
              "      </script>\n",
              "    </div>\n",
              "  </div>\n"
            ]
          },
          "metadata": {},
          "execution_count": 158
        }
      ]
    },
    {
      "cell_type": "code",
      "source": [
        "XF = dataframe.drop(columns='Label', axis =1)\n",
        "YF = dataframe['Label']"
      ],
      "metadata": {
        "id": "fs2Z62W9odHt"
      },
      "execution_count": 159,
      "outputs": []
    },
    {
      "cell_type": "code",
      "source": [
        "scaler = StandardScaler()"
      ],
      "metadata": {
        "id": "ia95F-Jbl-xO"
      },
      "execution_count": 160,
      "outputs": []
    },
    {
      "cell_type": "code",
      "source": [
        "standardized_data = scaler.fit_transform(XF)"
      ],
      "metadata": {
        "id": "t_IiamPdmBst"
      },
      "execution_count": 161,
      "outputs": []
    },
    {
      "cell_type": "code",
      "source": [
        "print(standardized_data)"
      ],
      "metadata": {
        "colab": {
          "base_uri": "https://localhost:8080/"
        },
        "id": "R3YVHNUsmNl3",
        "outputId": "144465a5-7b08-4e39-fca6-8e8b1875f68e"
      },
      "execution_count": 162,
      "outputs": [
        {
          "output_type": "stream",
          "name": "stdout",
          "text": [
            "[[ 0.81464123 -0.25611999 -0.07168806 ... -0.19574979 -0.313678\n",
            "  -0.27488532]\n",
            " [ 0.81464123 -0.25605928 -0.07168806 ... -0.19574979 -0.313678\n",
            "  -0.27488532]\n",
            " [ 0.81464123 -0.37282539  0.18897595 ... -0.19574979 -0.313678\n",
            "  -0.27488532]\n",
            " ...\n",
            " [ 0.81464123 -0.37181278 -0.08134229 ... -0.19574979 -0.313678\n",
            "  -0.27488532]\n",
            " [-1.19094502 -0.37164188 -0.0861694  ... -0.19574979 -0.313678\n",
            "  -0.27488532]\n",
            " [-1.19094502 -0.37283329 -0.0861694  ... -0.19574979 -0.313678\n",
            "  -0.27488532]]\n"
          ]
        }
      ]
    },
    {
      "cell_type": "code",
      "source": [
        "XF = standardized_data"
      ],
      "metadata": {
        "id": "iCFTp-hfmXgz"
      },
      "execution_count": 163,
      "outputs": []
    },
    {
      "cell_type": "code",
      "source": [
        "print(XF.shape)"
      ],
      "metadata": {
        "colab": {
          "base_uri": "https://localhost:8080/"
        },
        "id": "C34U7J3XsMnD",
        "outputId": "f994aa61-a20a-49fe-9bf8-a35465a98ea3"
      },
      "execution_count": 164,
      "outputs": [
        {
          "output_type": "stream",
          "name": "stdout",
          "text": [
            "(195662, 77)\n"
          ]
        }
      ]
    },
    {
      "cell_type": "code",
      "source": [
        "print(YF)"
      ],
      "metadata": {
        "colab": {
          "base_uri": "https://localhost:8080/"
        },
        "id": "3p2Mo7VNyG7l",
        "outputId": "d53040c3-87d9-4c3c-92af-9af938fc193c"
      },
      "execution_count": 166,
      "outputs": [
        {
          "output_type": "stream",
          "name": "stdout",
          "text": [
            "0         1\n",
            "1         1\n",
            "2         1\n",
            "3         1\n",
            "4         1\n",
            "         ..\n",
            "195657    0\n",
            "195658    0\n",
            "195659    0\n",
            "195660    0\n",
            "195661    0\n",
            "Name: Label, Length: 195662, dtype: int64\n"
          ]
        }
      ]
    },
    {
      "cell_type": "code",
      "source": [
        "print(YF.shape)"
      ],
      "metadata": {
        "colab": {
          "base_uri": "https://localhost:8080/"
        },
        "id": "PkCZzeaesSeT",
        "outputId": "aa26dbcd-d8fc-4a77-842b-83f8375019f8"
      },
      "execution_count": 167,
      "outputs": [
        {
          "output_type": "stream",
          "name": "stdout",
          "text": [
            "(195662,)\n"
          ]
        }
      ]
    },
    {
      "cell_type": "markdown",
      "source": [
        "***Now our Data is Ready to be splitted into trainning data and testing data ***"
      ],
      "metadata": {
        "id": "LYYDRGUD_eLH"
      }
    },
    {
      "cell_type": "code",
      "source": [
        "X_train, X_test, Y_train, Y_test = train_test_split(XF, YF, test_size=0.2, random_state=2)"
      ],
      "metadata": {
        "id": "dTJxzWeV_zu-"
      },
      "execution_count": 168,
      "outputs": []
    },
    {
      "cell_type": "code",
      "source": [
        "print(X_train)"
      ],
      "metadata": {
        "colab": {
          "base_uri": "https://localhost:8080/"
        },
        "id": "7Hc2Rt7KNdum",
        "outputId": "552fba96-3140-4c93-d862-6c0b55dee67e"
      },
      "execution_count": 169,
      "outputs": [
        {
          "output_type": "stream",
          "name": "stdout",
          "text": [
            "[[ 0.81464123 -0.37203209 -0.08134229 ... -0.19574979 -0.313678\n",
            "  -0.27488532]\n",
            " [-1.19094502  2.54659416  0.06347106 ... 15.15507576  4.99628307\n",
            "   1.02777215]\n",
            " [-1.19094502 -0.02217297 -0.02824406 ... -0.19574979 -0.313678\n",
            "  -0.27488532]\n",
            " ...\n",
            " [ 0.81464123 -0.37279425 -0.05237962 ... -0.19574979 -0.313678\n",
            "  -0.27488532]\n",
            " [-1.19094502 -0.37283064 -0.07651518 ... -0.19574979 -0.313678\n",
            "  -0.27488532]\n",
            " [ 0.81464123 -0.3725519   0.12139639 ... -0.19574979 -0.313678\n",
            "  -0.27488532]]\n"
          ]
        }
      ]
    },
    {
      "cell_type": "code",
      "source": [
        "print(X_train.shape, X_test.shape)"
      ],
      "metadata": {
        "colab": {
          "base_uri": "https://localhost:8080/"
        },
        "id": "DlJSXL0WATny",
        "outputId": "b99099fb-d436-49b4-b015-1068bcb92b6e"
      },
      "execution_count": 171,
      "outputs": [
        {
          "output_type": "stream",
          "name": "stdout",
          "text": [
            "(156529, 77) (39133, 77)\n"
          ]
        }
      ]
    },
    {
      "cell_type": "code",
      "source": [
        "print(Y_train.shape, Y_test.shape)"
      ],
      "metadata": {
        "colab": {
          "base_uri": "https://localhost:8080/"
        },
        "id": "HafutQQyAgV3",
        "outputId": "d16dcca1-e069-4acb-cb7d-ad2028c8b65c"
      },
      "execution_count": 172,
      "outputs": [
        {
          "output_type": "stream",
          "name": "stdout",
          "text": [
            "(156529,) (39133,)\n"
          ]
        }
      ]
    },
    {
      "cell_type": "markdown",
      "source": [
        "let's turn our x_train and y_train into numpy arrays"
      ],
      "metadata": {
        "id": "BRC0yf29tnzj"
      }
    },
    {
      "cell_type": "code",
      "source": [
        "x_l=X_train.tolist()"
      ],
      "metadata": {
        "id": "-ENeNmavdkxp"
      },
      "execution_count": 173,
      "outputs": []
    },
    {
      "cell_type": "code",
      "source": [
        "y_l=Y_train.tolist()"
      ],
      "metadata": {
        "id": "XOY3PpRSeAH5"
      },
      "execution_count": 177,
      "outputs": []
    },
    {
      "cell_type": "code",
      "source": [
        "x_a=np.array(x_l)"
      ],
      "metadata": {
        "id": "-4HF2NHEeFPY"
      },
      "execution_count": 178,
      "outputs": []
    },
    {
      "cell_type": "code",
      "source": [
        "y_a=np.array(y_l)"
      ],
      "metadata": {
        "id": "G5B_8fvpeGcb"
      },
      "execution_count": 179,
      "outputs": []
    },
    {
      "cell_type": "code",
      "source": [
        "x_l=[]\n",
        "y_l=[]"
      ],
      "metadata": {
        "id": "qZ3bD-t9eJRO"
      },
      "execution_count": 180,
      "outputs": []
    },
    {
      "cell_type": "code",
      "source": [
        "xt_l=X_test.tolist()"
      ],
      "metadata": {
        "id": "vhZLc4e8eN3V"
      },
      "execution_count": 181,
      "outputs": []
    },
    {
      "cell_type": "code",
      "source": [
        "yt_l=Y_test.tolist()"
      ],
      "metadata": {
        "id": "gP7KOExueQfH"
      },
      "execution_count": 182,
      "outputs": []
    },
    {
      "cell_type": "code",
      "source": [
        "xt_a=np.array(xt_l)"
      ],
      "metadata": {
        "id": "HbIt36JheU9A"
      },
      "execution_count": 183,
      "outputs": []
    },
    {
      "cell_type": "code",
      "source": [
        "yt_a=np.array(yt_l)"
      ],
      "metadata": {
        "id": "WeURsSg-eWRp"
      },
      "execution_count": 184,
      "outputs": []
    },
    {
      "cell_type": "code",
      "source": [
        "xt_l=[]\n",
        "yt_l=[]"
      ],
      "metadata": {
        "id": "OqJGoSUueYol"
      },
      "execution_count": 185,
      "outputs": []
    },
    {
      "cell_type": "code",
      "source": [
        "# importing tensorflow and Keras\n",
        "import tensorflow as tf\n",
        "tf.random.set_seed(3)\n",
        "from tensorflow import keras"
      ],
      "metadata": {
        "id": "1WX_ChHfqrV2"
      },
      "execution_count": 186,
      "outputs": []
    },
    {
      "cell_type": "markdown",
      "source": [
        "***The Data now is ready to be used ***"
      ],
      "metadata": {
        "id": "BHl-dB1RA8fR"
      }
    },
    {
      "cell_type": "markdown",
      "source": [
        "**Let's Build the neural network model**"
      ],
      "metadata": {
        "id": "plj0Oww_vu-4"
      }
    },
    {
      "cell_type": "markdown",
      "source": [
        "![Colored_neural_network.png](data:image/png;base64,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)"
      ],
      "metadata": {
        "id": "-pFlbwawvU70"
      }
    },
    {
      "cell_type": "markdown",
      "source": [
        "the input features are 77 , and i used  3hidden layers ,each one has 64 neuron with relu activation ,and for an output layer consist of 2 neurons with sigmoid activation."
      ],
      "metadata": {
        "id": "bmBfzQw3v-l-"
      }
    },
    {
      "cell_type": "code",
      "source": [
        "\n",
        "model = tf.keras.Sequential([\n",
        "    tf.keras.layers.Flatten(input_shape=(77,)),\n",
        "    tf.keras.layers.Dense(128, activation='relu'),\n",
        "    tf.keras.layers.Dense(64, activation='relu'),\n",
        "    tf.keras.layers.Dense(64, activation='relu'),\n",
        "    tf.keras.layers.Dense(2, activation='sigmoid'),\n",
        "])\n",
        "\n"
      ],
      "metadata": {
        "id": "zanQlsHVXTqB"
      },
      "execution_count": 346,
      "outputs": []
    },
    {
      "cell_type": "markdown",
      "source": [
        "**compiling our model**\n",
        "\n",
        "as you see we used adam as optimizer, scc as loss and accuracy as metric."
      ],
      "metadata": {
        "id": "-gkfZolowkaP"
      }
    },
    {
      "cell_type": "code",
      "source": [
        "model.compile(optimizer='adam',\n",
        "              loss='sparse_categorical_crossentropy',\n",
        "              metrics=['accuracy'])"
      ],
      "metadata": {
        "id": "Uth50eb-gR6T"
      },
      "execution_count": 347,
      "outputs": []
    },
    {
      "cell_type": "markdown",
      "source": [
        "**Training the model with training data**"
      ],
      "metadata": {
        "id": "bCkq06NcxEEH"
      }
    },
    {
      "cell_type": "code",
      "source": [
        "history = model.fit(x_a,y_a, validation_data=(xt_a, yt_a), epochs=10)"
      ],
      "metadata": {
        "colab": {
          "base_uri": "https://localhost:8080/"
        },
        "id": "Dh8oH1VUXX9m",
        "outputId": "4e945cde-61db-40e2-8aa5-9fbca569f89a"
      },
      "execution_count": 348,
      "outputs": [
        {
          "output_type": "stream",
          "name": "stdout",
          "text": [
            "Epoch 1/10\n",
            "4892/4892 [==============================] - 16s 3ms/step - loss: 0.0178 - accuracy: 0.9960 - val_loss: 0.0114 - val_accuracy: 0.9970\n",
            "Epoch 2/10\n",
            "4892/4892 [==============================] - 15s 3ms/step - loss: 0.0118 - accuracy: 0.9974 - val_loss: 0.0089 - val_accuracy: 0.9978\n",
            "Epoch 3/10\n",
            "4892/4892 [==============================] - 14s 3ms/step - loss: 0.0105 - accuracy: 0.9976 - val_loss: 0.0103 - val_accuracy: 0.9966\n",
            "Epoch 4/10\n",
            "4892/4892 [==============================] - 14s 3ms/step - loss: 0.0097 - accuracy: 0.9977 - val_loss: 0.0081 - val_accuracy: 0.9979\n",
            "Epoch 5/10\n",
            "4892/4892 [==============================] - 18s 4ms/step - loss: 0.0098 - accuracy: 0.9979 - val_loss: 0.0085 - val_accuracy: 0.9980\n",
            "Epoch 6/10\n",
            "4892/4892 [==============================] - 14s 3ms/step - loss: 0.0086 - accuracy: 0.9979 - val_loss: 0.0072 - val_accuracy: 0.9983\n",
            "Epoch 7/10\n",
            "4892/4892 [==============================] - 15s 3ms/step - loss: 0.0089 - accuracy: 0.9980 - val_loss: 0.0077 - val_accuracy: 0.9979\n",
            "Epoch 8/10\n",
            "4892/4892 [==============================] - 15s 3ms/step - loss: 0.0076 - accuracy: 0.9981 - val_loss: 0.0072 - val_accuracy: 0.9985\n",
            "Epoch 9/10\n",
            "4892/4892 [==============================] - 15s 3ms/step - loss: 0.0077 - accuracy: 0.9982 - val_loss: 0.0082 - val_accuracy: 0.9983\n",
            "Epoch 10/10\n",
            "4892/4892 [==============================] - 15s 3ms/step - loss: 0.0079 - accuracy: 0.9982 - val_loss: 0.0064 - val_accuracy: 0.9986\n"
          ]
        }
      ]
    },
    {
      "cell_type": "markdown",
      "source": [
        "as you see the accuracy is increasing and the loss is decreasing ."
      ],
      "metadata": {
        "id": "ysLouZvTxcby"
      }
    },
    {
      "cell_type": "markdown",
      "source": [
        "**visualising accuracy**"
      ],
      "metadata": {
        "id": "_df-gjjL7R18"
      }
    },
    {
      "cell_type": "code",
      "source": [
        "plt.plot(history.history['accuracy'])\n",
        "plt.plot(history.history['val_accuracy'])\n",
        "\n",
        "plt.title('model accuracy')\n",
        "plt.ylabel('accuracy')\n",
        "plt.xlabel('epoch')\n",
        "\n",
        "plt.legend(['training data', 'validation data'], loc = 'lower right')"
      ],
      "metadata": {
        "colab": {
          "base_uri": "https://localhost:8080/",
          "height": 489
        },
        "id": "A9PQ4MIV7W7t",
        "outputId": "20e7e071-0870-4c2f-ba17-1404ca83eea3"
      },
      "execution_count": 349,
      "outputs": [
        {
          "output_type": "execute_result",
          "data": {
            "text/plain": [
              "<matplotlib.legend.Legend at 0x7f2d7fd172b0>"
            ]
          },
          "metadata": {},
          "execution_count": 349
        },
        {
          "output_type": "display_data",
          "data": {
            "text/plain": [
              "<Figure size 640x480 with 1 Axes>"
            ],
            "image/png": "[encoded data removed]"
          },
          "metadata": {}
        }
      ]
    },
    {
      "cell_type": "markdown",
      "source": [
        "**Accuracy of the model on test data**"
      ],
      "metadata": {
        "id": "hU9A5me-10Y2"
      }
    },
    {
      "cell_type": "code",
      "source": [
        "loss, accuracy = model.evaluate(xt_a, yt_a)\n",
        "print(accuracy)"
      ],
      "metadata": {
        "colab": {
          "base_uri": "https://localhost:8080/"
        },
        "id": "9yKEcQXy1ptT",
        "outputId": "d4e847ff-f59f-4759-eb34-bf8625072776"
      },
      "execution_count": 350,
      "outputs": [
        {
          "output_type": "stream",
          "name": "stdout",
          "text": [
            "1223/1223 [==============================] - 2s 2ms/step - loss: 0.0064 - accuracy: 0.9986\n",
            "0.9985690116882324\n"
          ]
        }
      ]
    },
    {
      "cell_type": "code",
      "source": [
        "print(xt_a.shape)\n",
        "print(xt_a[0])"
      ],
      "metadata": {
        "colab": {
          "base_uri": "https://localhost:8080/"
        },
        "id": "M-ok59ev3ItT",
        "outputId": "d5676fb5-a197-458d-fdfc-753af18ced04"
      },
      "execution_count": 351,
      "outputs": [
        {
          "output_type": "stream",
          "name": "stdout",
          "text": [
            "(39133, 77)\n",
            "[ 0.81464123 -0.37280702  0.41102308 -0.05767424  0.87188572 -0.0227485\n",
            "  0.39236957  0.93639431  0.81515907 -0.30174063 -0.24245981 -0.4040502\n",
            " -0.30886233 -0.24608749  0.04484729  0.05166131 -0.43202303 -0.4425296\n",
            " -0.36767582 -0.02878752 -0.36650402 -0.43274201 -0.4209388  -0.36021326\n",
            " -0.0261286  -0.25819755 -0.23947423 -0.25350573 -0.25150956 -0.24871875\n",
            " -0.25203007  0.          0.          0.          0.03550783  0.02865752\n",
            "  0.05994803 -0.06553089  0.94416671  0.0542814   0.73580121 -0.33239631\n",
            " -0.10513838  0.         -0.03370309 -0.25203007  0.         -0.4776942\n",
            " -0.51130435 -0.3432856   0.         -0.58871702  0.44888655  0.81515907\n",
            " -0.30886233  0.          0.          0.          0.          0.\n",
            "  0.          0.41102308  0.87188572 -0.05767424 -0.0227485  -0.36069504\n",
            " -0.22349012  1.45528071  0.12301794 -0.1273992  -0.1240917  -0.15214155\n",
            " -0.09611684 -0.29898805 -0.19574979 -0.313678   -0.27488532]\n"
          ]
        }
      ]
    },
    {
      "cell_type": "code",
      "source": [
        "Y_pred = model.predict(xt_a)"
      ],
      "metadata": {
        "id": "XWAZk1SK-3qf",
        "colab": {
          "base_uri": "https://localhost:8080/"
        },
        "outputId": "a2ba202d-b799-424f-ee0b-ba00416e1d96"
      },
      "execution_count": 352,
      "outputs": [
        {
          "output_type": "stream",
          "name": "stdout",
          "text": [
            "1223/1223 [==============================] - 2s 1ms/step\n"
          ]
        }
      ]
    },
    {
      "cell_type": "code",
      "source": [
        "print(yt_a[0])"
      ],
      "metadata": {
        "colab": {
          "base_uri": "https://localhost:8080/"
        },
        "id": "wzwPoovR7AfF",
        "outputId": "7b259b78-4c7e-4b24-f383-36cac090f1f1"
      },
      "execution_count": 353,
      "outputs": [
        {
          "output_type": "stream",
          "name": "stdout",
          "text": [
            "1\n"
          ]
        }
      ]
    },
    {
      "cell_type": "code",
      "source": [
        "print(Y_pred.shape)\n",
        "print(Y_pred[0])"
      ],
      "metadata": {
        "colab": {
          "base_uri": "https://localhost:8080/"
        },
        "id": "umNl8qUX_GeO",
        "outputId": "483c051a-1192-4542-d357-8a906ae5c106"
      },
      "execution_count": 354,
      "outputs": [
        {
          "output_type": "stream",
          "name": "stdout",
          "text": [
            "(39133, 2)\n",
            "[7.9055226e-16 1.0000000e+00]\n"
          ]
        }
      ]
    },
    {
      "cell_type": "code",
      "source": [
        "print(xt_a)"
      ],
      "metadata": {
        "colab": {
          "base_uri": "https://localhost:8080/"
        },
        "id": "O2khddZH9Hf6",
        "outputId": "c1c47577-0f94-44e7-ee74-5ac19550d29d"
      },
      "execution_count": 355,
      "outputs": [
        {
          "output_type": "stream",
          "name": "stdout",
          "text": [
            "[[ 0.81464123 -0.37280702  0.41102308 ... -0.19574979 -0.313678\n",
            "  -0.27488532]\n",
            " [ 0.81464123 -0.37201372 -0.08134229 ... -0.19574979 -0.313678\n",
            "  -0.27488532]\n",
            " [ 0.81464123 -0.37202174 -0.08134229 ... -0.19574979 -0.313678\n",
            "  -0.27488532]\n",
            " ...\n",
            " [-1.19094502 -0.37049881 -0.07168806 ... -0.19574979 -0.313678\n",
            "  -0.27488532]\n",
            " [ 0.81464123 -0.3728046   0.03450839 ... -0.19574979 -0.313678\n",
            "  -0.27488532]\n",
            " [ 0.81464123  3.50752884 -0.00893562 ...  0.92063284  0.84750685\n",
            "   0.36560279]]\n"
          ]
        }
      ]
    },
    {
      "cell_type": "code",
      "source": [
        "print(Y_pred)"
      ],
      "metadata": {
        "colab": {
          "base_uri": "https://localhost:8080/"
        },
        "id": "OGzftknc9OZr",
        "outputId": "48ba7df7-43df-4cc5-a149-78965dc7f9ff"
      },
      "execution_count": 356,
      "outputs": [
        {
          "output_type": "stream",
          "name": "stdout",
          "text": [
            "[[7.9055226e-16 1.0000000e+00]\n",
            " [9.8064369e-01 2.6461011e-15]\n",
            " [8.3658141e-01 8.8871621e-09]\n",
            " ...\n",
            " [8.7467313e-01 6.9069220e-03]\n",
            " [6.2418173e-09 1.0000000e+00]\n",
            " [9.9999994e-01 2.4259757e-16]]\n"
          ]
        }
      ]
    },
    {
      "cell_type": "markdown",
      "source": [
        "**model.predict() gives the prediction probability of each class for that data point**"
      ],
      "metadata": {
        "id": "DBjEFDpy9eRr"
      }
    },
    {
      "cell_type": "code",
      "source": [
        "#  argmax function\n",
        "\n",
        "my_list = [0.25, 0.56]\n",
        "\n",
        "index_of_max_value = np.argmax(my_list)\n",
        "print(my_list)\n",
        "print(index_of_max_value)"
      ],
      "metadata": {
        "colab": {
          "base_uri": "https://localhost:8080/"
        },
        "id": "pPF0aJ0sAbML",
        "outputId": "c8d04f2e-e66d-4df3-de37-cd37193f4659"
      },
      "execution_count": 357,
      "outputs": [
        {
          "output_type": "stream",
          "name": "stdout",
          "text": [
            "[0.25, 0.56]\n",
            "1\n"
          ]
        }
      ]
    },
    {
      "cell_type": "code",
      "source": [
        "# converting the prediction probability to class labels\n",
        "\n",
        "Y_pred_labels = [np.argmax(i) for i in Y_pred]\n",
        "print(Y_pred_labels)"
      ],
      "metadata": {
        "colab": {
          "base_uri": "https://localhost:8080/"
        },
        "id": "67EUrfSf_rZi",
        "outputId": "c9454df5-a0a3-439b-c898-6e4e381f0f74"
      },
      "execution_count": 358,
      "outputs": [
        {
          "output_type": "stream",
          "name": "stdout",
          "text": [
            "[1, 0, 0, 1, 0, 1, 1, 1, 1, 1, 0, 0, 1, 1, 1, 0, 1, 1, 1, 0, 0, 1, 0, 0, 1, 0, 0, 0, 1, 1, 0, 1, 0, 0, 0, 0, 1, 1, 1, 1, 1, 0, 0, 0, 0, 1, 0, 0, 1, 0, 1, 1, 0, 1, 1, 1, 1, 1, 1, 1, 0, 1, 1, 0, 0, 1, 0, 0, 0, 0, 1, 1, 0, 1, 0, 1, 0, 0, 0, 0, 0, 0, 1, 1, 1, 1, 0, 1, 1, 1, 0, 1, 0, 1, 1, 1, 1, 0, 1, 0, 1, 0, 1, 0, 1, 0, 0, 1, 0, 1, 1, 0, 1, 0, 0, 0, 1, 0, 0, 1, 1, 1, 0, 0, 0, 1, 0, 1, 0, 0, 1, 0, 0, 0, 0, 1, 0, 1, 0, 0, 0, 0, 0, 1, 1, 1, 1, 1, 1, 0, 0, 1, 1, 0, 0, 1, 0, 0, 0, 1, 0, 0, 0, 1, 0, 1, 1, 0, 0, 0, 1, 0, 1, 1, 1, 1, 1, 0, 1, 0, 1, 1, 1, 1, 0, 1, 1, 0, 1, 1, 0, 0, 1, 0, 0, 1, 0, 0, 0, 0, 1, 0, 1, 1, 0, 0, 1, 1, 1, 0, 0, 1, 1, 1, 1, 1, 1, 1, 0, 0, 1, 0, 0, 1, 0, 0, 1, 0, 0, 1, 1, 0, 0, 1, 0, 1, 1, 1, 1, 1, 0, 1, 1, 1, 1, 1, 0, 1, 0, 0, 0, 0, 0, 0, 0, 1, 1, 1, 1, 0, 1, 1, 0, 1, 1, 0, 0, 1, 0, 1, 1, 1, 0, 1, 0, 1, 1, 1, 0, 1, 1, 1, 1, 1, 0, 0, 1, 0, 1, 1, 1, 1, 0, 1, 1, 0, 1, 1, 1, 0, 1, 0, 1, 1, 0, 1, 0, 0, 1, 1, 0, 0, 0, 0, 1, 1, 1, 0, 1, 1, 1, 0, 0, 1, 1, 0, 1, 1, 0, 0, 1, 0, 1, 0, 1, 1, 0, 1, 0, 0, 1, 0, 1, 1, 0, 1, 0, 0, 0, 1, 0, 1, 0, 0, 0, 0, 0, 0, 0, 0, 1, 1, 1, 0, 0, 1, 0, 0, 1, 0, 1, 0, 0, 1, 1, 0, 1, 0, 0, 0, 0, 0, 1, 0, 1, 0, 1, 0, 1, 1, 0, 0, 0, 0, 1, 0, 0, 1, 0, 0, 1, 0, 1, 1, 1, 1, 1, 1, 0, 0, 0, 1, 0, 0, 1, 0, 0, 1, 0, 0, 1, 0, 1, 0, 1, 0, 1, 0, 1, 1, 1, 0, 0, 1, 0, 1, 0, 0, 0, 1, 1, 0, 0, 1, 1, 0, 0, 0, 0, 0, 1, 1, 0, 0, 1, 1, 1, 0, 0, 1, 0, 0, 0, 1, 0, 0, 1, 1, 0, 1, 0, 0, 1, 1, 1, 0, 1, 1, 0, 0, 0, 1, 0, 1, 0, 1, 1, 0, 0, 1, 0, 1, 1, 0, 1, 0, 1, 1, 1, 1, 0, 1, 0, 0, 0, 1, 0, 0, 0, 1, 0, 0, 1, 0, 0, 1, 1, 0, 0, 1, 0, 0, 1, 0, 0, 0, 0, 0, 1, 1, 0, 1, 1, 0, 0, 0, 0, 1, 0, 1, 0, 1, 0, 1, 1, 1, 0, 1, 0, 1, 1, 0, 1, 1, 1, 1, 1, 0, 1, 0, 0, 0, 1, 0, 1, 0, 0, 1, 1, 0, 0, 1, 1, 1, 1, 1, 1, 1, 1, 0, 1, 1, 0, 0, 1, 1, 0, 1, 0, 0, 0, 0, 1, 1, 0, 0, 0, 1, 1, 1, 0, 0, 0, 0, 1, 0, 1, 0, 1, 0, 0, 0, 0, 0, 0, 0, 0, 0, 0, 0, 1, 1, 0, 1, 0, 0, 1, 1, 1, 0, 1, 1, 1, 0, 1, 0, 0, 1, 0, 1, 1, 0, 0, 0, 0, 1, 0, 0, 1, 0, 1, 1, 1, 0, 1, 0, 1, 1, 1, 0, 1, 1, 0, 1, 0, 0, 1, 0, 0, 0, 1, 1, 0, 1, 0, 0, 0, 1, 0, 0, 1, 0, 0, 0, 1, 0, 0, 0, 1, 1, 0, 0, 1, 0, 1, 1, 0, 0, 0, 0, 1, 1, 1, 1, 1, 1, 1, 0, 0, 0, 0, 1, 0, 0, 0, 1, 1, 0, 0, 0, 0, 1, 0, 1, 1, 1, 0, 1, 0, 0, 0, 0, 1, 1, 1, 1, 1, 0, 0, 1, 0, 0, 0, 0, 1, 0, 0, 0, 0, 0, 0, 0, 0, 1, 1, 1, 0, 1, 0, 1, 0, 1, 1, 1, 0, 0, 0, 0, 1, 1, 0, 1, 1, 0, 0, 0, 1, 1, 1, 0, 0, 1, 0, 1, 0, 0, 1, 0, 0, 1, 0, 0, 1, 0, 0, 1, 0, 0, 1, 0, 0, 0, 1, 0, 0, 0, 0, 1, 1, 1, 0, 0, 1, 1, 1, 1, 0, 0, 0, 0, 0, 0, 1, 0, 1, 0, 1, 0, 1, 0, 0, 1, 0, 1, 0, 0, 1, 0, 1, 1, 0, 0, 1, 0, 0, 0, 1, 0, 0, 0, 0, 0, 0, 1, 1, 1, 0, 1, 0, 1, 0, 1, 1, 1, 0, 0, 0, 0, 1, 0, 0, 0, 0, 1, 1, 0, 1, 0, 0, 0, 0, 1, 1, 1, 1, 0, 1, 0, 1, 1, 1, 1, 0, 1, 1, 0, 1, 1, 1, 1, 1, 0, 0, 1, 1, 1, 0, 1, 1, 1, 1, 1, 0, 1, 1, 0, 1, 0, 1, 1, 1, 0, 0, 1, 0, 0, 1, 1, 0, 1, 1, 1, 1, 1, 1, 0, 0, 1, 1, 0, 0, 1, 1, 1, 0, 0, 0, 0, 1, 1, 1, 0, 0, 1, 1, 0, 1, 0, 1, 0, 1, 1, 0, 0, 1, 1, 1, 0, 1, 0, 1, 0, 1, 1, 0, 1, 1, 1, 1, 1, 1, 1, 1, 0, 1, 0, 0, 0, 1, 0, 1, 0, 1, 1, 0, 0, 1, 1, 0, 0, 1, 1, 1, 1, 0, 0, 0, 1, 1, 0, 0, 0, 0, 1, 0, 1, 0, 1, 0, 1, 1, 1, 1, 0, 1, 0, 1, 1, 0, 1, 1, 1, 1, 1, 0, 1, 1, 1, 0, 0, 0, 1, 0, 1, 1, 1, 1, 1, 0, 0, 1, 0, 0, 0, 1, 0, 0, 1, 1, 1, 0, 0, 1, 1, 1, 1, 0, 1, 0, 1, 0, 1, 1, 0, 0, 1, 0, 1, 0, 1, 1, 0, 1, 1, 1, 1, 1, 1, 1, 1, 1, 1, 0, 1, 1, 0, 1, 0, 0, 0, 0, 1, 1, 0, 1, 0, 1, 0, 1, 1, 1, 1, 1, 0, 0, 1, 0, 1, 1, 1, 1, 0, 0, 0, 0, 1, 0, 1, 0, 0, 1, 1, 1, 1, 0, 1, 1, 1, 0, 1, 0, 0, 0, 0, 0, 0, 0, 0, 0, 1, 0, 0, 1, 1, 0, 0, 1, 0, 0, 0, 1, 1, 1, 0, 1, 1, 0, 0, 1, 1, 0, 0, 1, 0, 0, 0, 1, 0, 1, 1, 1, 0, 1, 1, 0, 1, 1, 0, 0, 0, 1, 1, 1, 1, 0, 1, 0, 0, 1, 0, 0, 1, 1, 1, 1, 1, 1, 1, 1, 1, 0, 0, 0, 1, 0, 0, 0, 0, 0, 0, 1, 1, 1, 1, 0, 1, 0, 0, 1, 1, 1, 1, 1, 1, 0, 0, 0, 1, 1, 1, 0, 0, 0, 0, 1, 1, 0, 0, 0, 1, 0, 1, 0, 1, 0, 1, 0, 0, 0, 0, 1, 1, 0, 1, 0, 1, 1, 1, 1, 0, 1, 1, 0, 1, 0, 1, 0, 1, 0, 0, 1, 0, 1, 0, 0, 0, 1, 1, 1, 0, 0, 0, 0, 1, 1, 0, 0, 0, 1, 0, 1, 0, 1, 1, 1, 1, 0, 0, 1, 0, 0, 1, 1, 1, 1, 0, 1, 0, 0, 1, 1, 0, 1, 1, 0, 1, 0, 0, 0, 1, 1, 1, 0, 1, 1, 1, 0, 1, 0, 1, 0, 1, 0, 0, 0, 1, 1, 0, 1, 1, 0, 0, 0, 0, 1, 1, 1, 1, 0, 0, 1, 0, 1, 0, 1, 0, 0, 1, 1, 0, 0, 1, 0, 1, 1, 1, 1, 1, 0, 1, 1, 0, 0, 0, 1, 1, 0, 1, 1, 1, 0, 1, 0, 0, 1, 0, 0, 1, 1, 0, 1, 1, 0, 1, 0, 1, 1, 0, 1, 0, 1, 1, 0, 0, 0, 0, 1, 1, 0, 0, 1, 0, 0, 0, 1, 1, 1, 0, 0, 0, 1, 0, 0, 0, 1, 0, 0, 0, 0, 1, 1, 1, 1, 0, 1, 1, 0, 1, 0, 1, 1, 1, 1, 1, 1, 0, 1, 0, 1, 1, 1, 0, 1, 0, 1, 1, 0, 0, 1, 1, 0, 0, 0, 0, 1, 1, 1, 0, 0, 0, 1, 0, 0, 0, 0, 1, 0, 0, 0, 0, 1, 0, 1, 0, 0, 1, 0, 1, 1, 0, 0, 1, 0, 1, 1, 1, 0, 1, 0, 0, 1, 0, 0, 0, 1, 1, 1, 1, 1, 1, 1, 1, 0, 1, 0, 1, 0, 0, 0, 1, 1, 0, 1, 0, 0, 0, 0, 1, 0, 1, 0, 1, 1, 0, 0, 1, 1, 0, 0, 1, 1, 1, 1, 0, 1, 1, 1, 0, 1, 1, 1, 0, 1, 0, 1, 0, 0, 1, 1, 1, 0, 1, 0, 0, 0, 1, 0, 1, 0, 0, 0, 0, 0, 1, 0, 0, 1, 1, 0, 1, 0, 1, 1, 1, 1, 1, 0, 0, 0, 1, 0, 0, 0, 0, 1, 0, 0, 1, 0, 0, 0, 0, 1, 1, 1, 1, 1, 1, 0, 1, 1, 1, 1, 1, 0, 1, 0, 0, 1, 0, 1, 0, 0, 1, 1, 0, 1, 0, 1, 0, 0, 0, 1, 1, 1, 1, 1, 1, 0, 0, 0, 1, 1, 1, 0, 1, 1, 0, 0, 1, 1, 1, 1, 0, 1, 1, 1, 1, 0, 0, 0, 0, 1, 0, 1, 0, 1, 0, 1, 0, 0, 0, 1, 1, 1, 0, 1, 0, 1, 0, 1, 0, 1, 1, 1, 1, 0, 1, 0, 1, 1, 1, 0, 0, 1, 0, 0, 0, 0, 1, 0, 1, 1, 0, 1, 0, 0, 1, 0, 0, 1, 1, 1, 0, 0, 1, 1, 1, 0, 0, 0, 0, 0, 1, 1, 1, 0, 1, 0, 0, 0, 0, 0, 1, 1, 0, 0, 0, 0, 1, 0, 1, 0, 0, 1, 0, 0, 1, 0, 0, 0, 1, 0, 1, 1, 1, 0, 0, 1, 1, 1, 1, 0, 1, 1, 0, 0, 0, 0, 1, 0, 0, 1, 0, 1, 1, 0, 0, 1, 0, 1, 0, 1, 1, 1, 0, 0, 0, 1, 0, 0, 0, 0, 0, 0, 1, 0, 1, 0, 0, 1, 0, 1, 1, 0, 1, 0, 0, 1, 0, 1, 1, 1, 0, 1, 1, 0, 0, 1, 1, 0, 1, 1, 1, 0, 1, 0, 0, 0, 0, 1, 0, 1, 1, 0, 0, 0, 1, 1, 1, 0, 1, 1, 1, 0, 0, 1, 0, 1, 1, 1, 0, 1, 0, 1, 0, 0, 1, 0, 1, 0, 0, 0, 0, 0, 1, 0, 1, 0, 1, 0, 1, 0, 1, 1, 1, 0, 0, 1, 1, 0, 1, 0, 0, 0, 0, 0, 1, 1, 1, 1, 1, 1, 1, 0, 0, 1, 1, 1, 1, 0, 1, 1, 0, 0, 1, 0, 1, 1, 0, 0, 0, 0, 0, 0, 0, 1, 0, 0, 1, 1, 1, 1, 0, 1, 1, 0, 1, 1, 1, 1, 0, 0, 0, 0, 1, 0, 1, 0, 0, 0, 0, 0, 1, 1, 0, 1, 0, 0, 0, 1, 1, 0, 0, 1, 0, 0, 1, 0, 1, 0, 0, 1, 1, 1, 1, 1, 1, 1, 1, 1, 1, 1, 0, 1, 1, 1, 0, 0, 1, 1, 1, 1, 0, 1, 0, 0, 1, 0, 1, 0, 0, 0, 0, 1, 0, 0, 1, 1, 1, 0, 1, 0, 1, 0, 0, 1, 0, 1, 0, 1, 0, 0, 1, 0, 0, 0, 1, 0, 1, 0, 1, 0, 1, 1, 1, 1, 0, 1, 0, 1, 1, 1, 1, 0, 0, 1, 1, 1, 0, 1, 0, 1, 0, 1, 1, 0, 0, 0, 1, 1, 0, 0, 0, 1, 1, 0, 1, 1, 1, 1, 0, 0, 0, 0, 1, 0, 1, 0, 0, 0, 0, 1, 0, 0, 0, 0, 0, 1, 0, 1, 1, 0, 0, 1, 0, 0, 1, 1, 0, 1, 1, 0, 0, 0, 0, 1, 0, 1, 1, 0, 0, 0, 1, 1, 1, 1, 0, 1, 1, 1, 1, 0, 1, 0, 1, 0, 0, 1, 1, 1, 1, 0, 1, 1, 0, 1, 1, 1, 1, 0, 1, 0, 1, 0, 0, 0, 1, 1, 1, 1, 0, 1, 1, 1, 0, 0, 1, 0, 0, 0, 0, 1, 0, 0, 0, 0, 0, 1, 1, 0, 0, 0, 1, 0, 1, 0, 0, 1, 0, 1, 1, 0, 1, 0, 1, 0, 0, 0, 0, 0, 1, 1, 0, 1, 0, 0, 0, 1, 1, 0, 0, 0, 0, 0, 0, 0, 1, 0, 1, 0, 1, 1, 1, 1, 1, 1, 0, 0, 1, 0, 0, 1, 0, 1, 0, 1, 0, 1, 1, 0, 0, 1, 1, 1, 1, 0, 1, 0, 0, 0, 1, 0, 1, 0, 1, 1, 1, 0, 1, 0, 1, 0, 0, 0, 0, 0, 0, 1, 1, 0, 0, 0, 0, 0, 0, 1, 1, 1, 0, 1, 0, 1, 1, 1, 0, 0, 0, 1, 1, 0, 0, 0, 1, 0, 1, 0, 0, 0, 1, 0, 0, 1, 0, 1, 0, 1, 0, 1, 0, 0, 1, 1, 0, 0, 1, 1, 0, 1, 0, 0, 1, 1, 1, 1, 0, 1, 0, 1, 0, 1, 1, 0, 1, 1, 1, 1, 1, 1, 0, 1, 1, 0, 1, 1, 1, 1, 0, 0, 1, 0, 0, 0, 1, 0, 0, 0, 1, 0, 0, 0, 1, 1, 0, 0, 1, 0, 0, 0, 1, 1, 0, 0, 1, 0, 1, 1, 0, 1, 1, 1, 0, 1, 1, 1, 0, 0, 1, 1, 1, 1, 0, 1, 0, 1, 1, 0, 0, 0, 0, 1, 1, 0, 0, 0, 0, 0, 0, 0, 1, 1, 0, 0, 0, 1, 0, 0, 1, 1, 1, 1, 1, 0, 0, 1, 1, 1, 1, 0, 0, 1, 1, 1, 1, 0, 0, 0, 1, 0, 0, 1, 0, 1, 1, 1, 0, 1, 0, 0, 1, 1, 0, 0, 0, 0, 0, 0, 0, 0, 1, 0, 1, 0, 0, 1, 1, 1, 1, 0, 0, 1, 1, 1, 1, 0, 1, 0, 0, 0, 0, 1, 0, 0, 1, 1, 1, 1, 1, 1, 1, 1, 1, 1, 1, 1, 0, 1, 1, 1, 0, 0, 0, 1, 1, 0, 1, 0, 0, 0, 0, 0, 0, 0, 0, 1, 1, 0, 1, 1, 1, 0, 1, 1, 0, 0, 1, 1, 0, 1, 0, 1, 0, 0, 0, 0, 0, 1, 0, 1, 1, 1, 0, 0, 1, 1, 0, 0, 0, 0, 0, 1, 0, 0, 0, 0, 0, 1, 1, 1, 1, 1, 1, 0, 1, 1, 0, 1, 1, 0, 0, 0, 1, 0, 1, 0, 1, 0, 0, 1, 0, 0, 1, 0, 0, 1, 1, 1, 1, 1, 1, 0, 1, 1, 1, 0, 1, 0, 1, 1, 1, 1, 1, 0, 1, 1, 1, 0, 0, 0, 0, 0, 0, 0, 1, 0, 0, 0, 0, 0, 0, 1, 1, 0, 0, 1, 0, 1, 1, 1, 0, 0, 0, 1, 1, 0, 1, 1, 0, 0, 1, 0, 1, 1, 1, 0, 0, 0, 0, 1, 1, 0, 1, 0, 0, 1, 0, 0, 0, 0, 1, 0, 0, 1, 1, 0, 1, 1, 0, 1, 1, 0, 0, 1, 1, 1, 0, 0, 0, 0, 0, 1, 0, 1, 1, 0, 1, 0, 0, 0, 1, 1, 0, 0, 0, 0, 0, 0, 1, 1, 1, 0, 0, 0, 1, 0, 1, 0, 0, 1, 1, 1, 0, 0, 0, 1, 0, 1, 0, 0, 1, 1, 1, 1, 0, 0, 1, 1, 1, 0, 0, 0, 0, 0, 0, 0, 0, 1, 0, 0, 1, 0, 0, 1, 1, 0, 0, 0, 1, 1, 0, 1, 1, 0, 1, 0, 1, 1, 1, 1, 0, 0, 1, 0, 0, 0, 0, 0, 0, 0, 0, 1, 0, 0, 0, 1, 1, 0, 0, 1, 0, 0, 0, 1, 0, 1, 0, 1, 1, 0, 0, 1, 0, 0, 0, 1, 0, 0, 1, 1, 0, 0, 1, 0, 0, 1, 0, 1, 1, 0, 0, 0, 0, 1, 0, 1, 1, 0, 1, 1, 1, 1, 1, 0, 1, 0, 0, 1, 0, 0, 0, 1, 1, 0, 0, 1, 1, 1, 1, 0, 0, 0, 0, 1, 0, 0, 0, 0, 0, 0, 1, 0, 1, 0, 0, 1, 1, 1, 0, 0, 1, 1, 0, 1, 0, 1, 0, 0, 0, 1, 0, 0, 0, 0, 0, 1, 0, 1, 0, 1, 0, 0, 0, 0, 1, 0, 0, 1, 0, 1, 1, 1, 1, 1, 0, 1, 1, 1, 0, 0, 0, 1, 0, 1, 1, 0, 1, 0, 1, 1, 0, 1, 1, 0, 0, 1, 0, 0, 0, 1, 0, 1, 0, 1, 1, 0, 0, 1, 1, 0, 1, 0, 0, 0, 1, 0, 0, 1, 0, 1, 1, 1, 1, 1, 0, 0, 1, 0, 0, 0, 0, 1, 1, 0, 1, 0, 1, 0, 1, 0, 1, 0, 0, 0, 1, 1, 0, 0, 1, 1, 1, 0, 1, 1, 1, 1, 1, 0, 0, 1, 0, 1, 0, 0, 0, 0, 1, 0, 0, 0, 0, 1, 0, 0, 1, 0, 1, 1, 0, 1, 0, 0, 0, 0, 0, 1, 1, 1, 1, 1, 1, 0, 0, 0, 1, 0, 1, 1, 1, 1, 0, 1, 1, 1, 0, 0, 0, 1, 0, 0, 0, 0, 1, 0, 1, 1, 0, 0, 0, 0, 0, 0, 1, 0, 0, 1, 1, 0, 0, 0, 1, 1, 0, 1, 0, 0, 0, 1, 0, 0, 1, 0, 1, 0, 0, 0, 0, 1, 0, 1, 1, 0, 1, 1, 1, 1, 0, 0, 1, 0, 1, 0, 0, 1, 0, 0, 1, 1, 1, 0, 1, 0, 0, 0, 1, 1, 0, 0, 0, 0, 0, 1, 0, 0, 0, 0, 1, 0, 0, 0, 0, 1, 1, 0, 0, 1, 1, 1, 1, 1, 1, 0, 1, 1, 0, 0, 0, 0, 0, 1, 0, 0, 1, 0, 1, 0, 0, 0, 0, 1, 1, 1, 1, 1, 1, 1, 1, 1, 1, 0, 0, 0, 1, 0, 1, 1, 0, 1, 1, 0, 0, 1, 1, 0, 0, 0, 0, 0, 1, 1, 0, 0, 0, 1, 0, 0, 0, 0, 1, 1, 1, 0, 1, 0, 0, 0, 0, 1, 0, 1, 1, 1, 0, 1, 1, 1, 1, 0, 0, 1, 1, 0, 1, 0, 1, 0, 0, 1, 0, 0, 1, 1, 0, 0, 0, 0, 1, 1, 0, 1, 1, 0, 0, 0, 0, 0, 0, 1, 0, 1, 1, 1, 0, 0, 0, 1, 1, 1, 0, 0, 0, 1, 0, 1, 1, 1, 1, 0, 1, 0, 0, 0, 0, 0, 1, 1, 0, 1, 1, 1, 1, 0, 0, 0, 0, 1, 1, 0, 1, 1, 1, 0, 0, 0, 1, 1, 1, 1, 1, 0, 1, 1, 0, 0, 0, 0, 0, 1, 1, 0, 0, 0, 1, 1, 0, 1, 0, 1, 0, 0, 0, 1, 0, 1, 1, 0, 0, 1, 0, 1, 1, 0, 1, 0, 1, 1, 0, 0, 0, 0, 0, 1, 0, 0, 0, 0, 1, 0, 1, 0, 0, 0, 1, 0, 0, 0, 0, 0, 1, 1, 0, 1, 1, 0, 1, 1, 0, 1, 1, 0, 0, 1, 0, 0, 1, 1, 0, 0, 0, 0, 0, 1, 1, 0, 0, 1, 1, 0, 1, 1, 0, 1, 0, 1, 0, 0, 0, 0, 1, 0, 1, 0, 0, 1, 0, 0, 0, 1, 0, 1, 0, 0, 0, 1, 1, 0, 0, 0, 1, 1, 0, 0, 1, 1, 1, 1, 0, 1, 1, 1, 0, 0, 0, 1, 0, 1, 1, 1, 0, 0, 0, 0, 1, 1, 1, 1, 1, 0, 0, 1, 0, 1, 0, 0, 1, 1, 1, 0, 0, 1, 0, 1, 0, 0, 1, 1, 1, 0, 1, 0, 0, 0, 1, 0, 1, 1, 1, 0, 0, 0, 0, 1, 0, 1, 0, 1, 0, 1, 0, 1, 0, 0, 0, 1, 0, 1, 0, 1, 0, 1, 1, 1, 1, 0, 0, 0, 0, 1, 1, 1, 1, 0, 0, 1, 0, 1, 1, 1, 0, 0, 1, 1, 0, 1, 0, 0, 0, 1, 1, 1, 1, 1, 0, 1, 0, 1, 0, 0, 0, 1, 1, 0, 0, 0, 0, 1, 1, 1, 1, 0, 0, 1, 1, 1, 0, 1, 0, 0, 1, 0, 0, 1, 0, 0, 1, 1, 0, 0, 1, 1, 1, 1, 1, 1, 0, 0, 1, 0, 0, 0, 0, 0, 1, 0, 0, 0, 0, 1, 1, 0, 0, 1, 1, 0, 0, 0, 0, 1, 0, 1, 1, 0, 0, 1, 0, 1, 1, 0, 0, 1, 0, 0, 0, 1, 0, 0, 1, 1, 1, 1, 0, 1, 0, 0, 0, 0, 0, 1, 0, 0, 1, 1, 1, 0, 0, 1, 1, 0, 0, 1, 1, 1, 1, 1, 0, 0, 0, 1, 0, 0, 1, 1, 1, 0, 1, 0, 1, 0, 0, 0, 0, 0, 1, 1, 0, 0, 0, 1, 1, 0, 0, 0, 0, 0, 0, 0, 0, 0, 1, 1, 0, 1, 1, 1, 0, 1, 1, 1, 1, 1, 0, 1, 0, 1, 1, 0, 0, 1, 1, 0, 0, 0, 1, 1, 0, 0, 1, 0, 1, 1, 0, 1, 1, 0, 0, 1, 1, 1, 1, 1, 1, 1, 0, 0, 0, 0, 1, 1, 0, 1, 1, 1, 1, 0, 1, 0, 0, 1, 0, 0, 0, 0, 0, 0, 0, 1, 1, 1, 0, 0, 1, 1, 0, 0, 1, 1, 0, 0, 0, 1, 1, 1, 1, 1, 1, 0, 0, 0, 0, 0, 1, 0, 0, 0, 0, 0, 0, 1, 0, 0, 0, 1, 1, 0, 0, 0, 0, 0, 0, 1, 1, 0, 1, 1, 1, 0, 1, 1, 0, 0, 1, 1, 1, 0, 0, 1, 1, 0, 1, 1, 1, 0, 1, 0, 0, 1, 0, 0, 0, 1, 1, 1, 1, 0, 0, 0, 1, 0, 1, 1, 1, 0, 1, 0, 1, 1, 0, 1, 0, 0, 0, 0, 1, 1, 0, 0, 1, 1, 1, 1, 1, 0, 0, 0, 0, 1, 1, 0, 1, 1, 1, 0, 1, 0, 0, 0, 0, 1, 1, 1, 0, 1, 1, 0, 0, 1, 0, 0, 1, 0, 0, 1, 1, 1, 1, 0, 0, 1, 1, 1, 0, 1, 1, 0, 0, 1, 1, 0, 1, 1, 1, 0, 0, 1, 1, 0, 1, 1, 1, 0, 0, 0, 0, 1, 1, 0, 0, 0, 1, 0, 1, 0, 1, 0, 0, 1, 1, 1, 1, 1, 1, 0, 1, 1, 1, 0, 1, 1, 0, 0, 0, 0, 0, 0, 1, 0, 0, 1, 1, 1, 0, 0, 0, 0, 0, 0, 0, 0, 1, 1, 0, 0, 1, 1, 1, 0, 0, 0, 1, 0, 1, 0, 1, 1, 0, 0, 1, 0, 0, 1, 0, 0, 1, 0, 0, 1, 0, 1, 0, 1, 1, 0, 1, 1, 1, 0, 0, 1, 1, 0, 1, 0, 0, 1, 0, 0, 0, 1, 1, 1, 1, 1, 1, 0, 1, 0, 0, 1, 1, 0, 0, 0, 0, 1, 1, 1, 1, 1, 1, 0, 0, 1, 0, 0, 1, 1, 1, 0, 0, 0, 0, 1, 1, 1, 0, 0, 1, 1, 0, 0, 1, 1, 0, 0, 1, 0, 0, 1, 0, 0, 1, 0, 0, 0, 0, 0, 0, 0, 1, 1, 0, 0, 1, 0, 1, 0, 0, 0, 1, 1, 0, 1, 1, 1, 1, 0, 1, 0, 1, 1, 1, 0, 1, 1, 1, 0, 1, 0, 1, 1, 0, 0, 0, 0, 1, 0, 0, 0, 1, 0, 1, 1, 1, 1, 1, 1, 1, 1, 0, 0, 1, 1, 0, 0, 1, 0, 1, 0, 0, 0, 1, 1, 1, 0, 0, 1, 0, 1, 0, 0, 0, 1, 0, 1, 0, 0, 0, 0, 1, 1, 1, 0, 0, 0, 1, 1, 1, 0, 1, 1, 1, 1, 0, 1, 1, 0, 1, 1, 0, 0, 0, 0, 0, 1, 1, 0, 1, 1, 1, 0, 0, 1, 0, 1, 1, 0, 0, 0, 0, 1, 0, 0, 1, 1, 0, 1, 0, 0, 1, 1, 1, 0, 1, 1, 0, 0, 0, 1, 1, 1, 1, 1, 1, 1, 1, 0, 0, 0, 1, 0, 0, 0, 0, 1, 1, 0, 0, 1, 1, 1, 0, 0, 0, 1, 1, 1, 0, 1, 1, 1, 0, 0, 0, 0, 0, 1, 1, 1, 1, 0, 1, 0, 0, 0, 1, 0, 1, 1, 0, 0, 0, 0, 0, 0, 1, 0, 0, 1, 1, 0, 1, 0, 1, 1, 0, 0, 0, 0, 0, 1, 0, 0, 0, 0, 0, 1, 1, 0, 0, 1, 0, 1, 0, 1, 0, 1, 0, 1, 1, 1, 1, 1, 0, 1, 1, 1, 0, 0, 1, 1, 0, 0, 0, 1, 0, 1, 0, 1, 0, 0, 0, 1, 0, 1, 1, 0, 0, 0, 1, 1, 1, 1, 1, 0, 0, 1, 0, 1, 1, 0, 0, 1, 0, 1, 1, 0, 1, 0, 1, 1, 0, 0, 1, 1, 0, 1, 0, 1, 0, 0, 0, 0, 0, 0, 0, 1, 0, 1, 0, 0, 0, 0, 1, 1, 1, 1, 1, 0, 0, 1, 1, 0, 0, 0, 1, 0, 1, 1, 0, 1, 0, 0, 1, 0, 1, 1, 0, 1, 0, 1, 0, 1, 1, 0, 0, 0, 0, 1, 0, 0, 0, 1, 0, 1, 0, 1, 0, 0, 0, 0, 1, 0, 0, 0, 1, 1, 0, 0, 1, 1, 1, 0, 0, 0, 1, 0, 0, 1, 1, 1, 1, 1, 0, 0, 0, 1, 0, 1, 1, 0, 0, 0, 0, 0, 1, 0, 1, 0, 0, 0, 1, 1, 0, 1, 0, 0, 0, 1, 1, 1, 0, 0, 1, 0, 0, 1, 1, 0, 1, 0, 0, 1, 1, 0, 0, 1, 1, 1, 0, 1, 0, 0, 1, 1, 1, 1, 0, 1, 0, 0, 1, 1, 0, 0, 0, 0, 0, 1, 0, 0, 1, 0, 1, 1, 0, 0, 0, 1, 1, 0, 0, 0, 1, 0, 1, 0, 0, 1, 1, 1, 1, 0, 0, 0, 1, 0, 1, 0, 1, 0, 1, 1, 1, 0, 0, 0, 1, 0, 0, 0, 1, 0, 0, 0, 1, 1, 0, 0, 0, 0, 0, 0, 0, 0, 1, 0, 1, 0, 1, 1, 1, 0, 1, 1, 1, 0, 1, 0, 1, 0, 1, 0, 1, 0, 1, 0, 0, 0, 0, 1, 1, 1, 1, 1, 0, 0, 0, 1, 0, 0, 1, 0, 0, 0, 1, 1, 1, 0, 0, 1, 1, 0, 1, 0, 0, 0, 1, 0, 1, 0, 0, 1, 1, 0, 0, 1, 0, 1, 0, 0, 1, 1, 1, 1, 0, 1, 0, 1, 0, 1, 1, 1, 1, 0, 1, 0, 1, 1, 0, 1, 0, 1, 1, 1, 1, 0, 0, 0, 1, 0, 0, 0, 0, 0, 0, 1, 0, 0, 1, 0, 0, 1, 1, 1, 1, 0, 1, 0, 1, 0, 0, 1, 1, 1, 0, 1, 0, 1, 0, 0, 1, 0, 1, 0, 0, 1, 1, 1, 1, 0, 1, 0, 1, 1, 1, 1, 0, 1, 1, 1, 1, 1, 1, 1, 1, 1, 1, 0, 0, 0, 1, 1, 0, 0, 0, 1, 0, 1, 0, 1, 0, 1, 1, 0, 0, 0, 0, 1, 0, 0, 0, 0, 0, 1, 0, 1, 0, 0, 1, 1, 1, 0, 0, 1, 1, 1, 0, 1, 1, 0, 0, 0, 1, 0, 1, 1, 0, 1, 1, 0, 1, 1, 0, 0, 0, 0, 0, 0, 0, 1, 0, 0, 1, 1, 1, 1, 0, 1, 0, 0, 0, 1, 1, 0, 0, 0, 1, 0, 1, 1, 0, 1, 0, 0, 0, 0, 1, 1, 0, 1, 0, 1, 1, 1, 1, 1, 0, 0, 0, 1, 1, 0, 0, 0, 0, 1, 0, 1, 0, 0, 0, 1, 1, 1, 1, 1, 0, 1, 0, 0, 1, 1, 1, 0, 0, 0, 0, 1, 0, 0, 1, 0, 0, 0, 0, 1, 0, 1, 0, 0, 1, 0, 0, 1, 0, 0, 0, 0, 0, 0, 1, 1, 1, 0, 1, 1, 0, 1, 0, 1, 1, 1, 1, 1, 0, 1, 1, 1, 0, 1, 0, 0, 0, 1, 1, 0, 1, 1, 1, 0, 1, 0, 0, 0, 1, 1, 1, 0, 1, 0, 1, 0, 1, 1, 0, 1, 0, 0, 0, 1, 0, 1, 0, 1, 1, 1, 0, 0, 1, 1, 0, 0, 1, 1, 1, 0, 0, 1, 1, 0, 0, 1, 0, 1, 0, 0, 0, 0, 0, 1, 1, 1, 1, 0, 1, 0, 1, 1, 1, 1, 0, 1, 0, 1, 1, 0, 1, 0, 0, 0, 1, 1, 1, 1, 0, 0, 0, 1, 0, 0, 0, 0, 0, 0, 1, 0, 1, 0, 1, 1, 1, 0, 1, 0, 1, 1, 1, 0, 1, 0, 0, 1, 1, 1, 0, 0, 1, 0, 1, 1, 0, 0, 1, 1, 0, 0, 0, 0, 0, 1, 1, 1, 0, 0, 0, 1, 0, 1, 1, 1, 0, 0, 0, 1, 1, 1, 0, 1, 1, 0, 1, 1, 0, 0, 1, 0, 0, 0, 1, 1, 1, 1, 1, 0, 0, 1, 0, 1, 1, 0, 1, 0, 1, 1, 0, 0, 0, 1, 0, 1, 1, 1, 0, 0, 0, 1, 1, 1, 1, 0, 1, 0, 1, 1, 0, 1, 0, 1, 1, 1, 1, 1, 1, 1, 1, 0, 1, 1, 0, 1, 1, 1, 0, 1, 0, 0, 1, 1, 0, 1, 1, 0, 1, 1, 0, 0, 0, 1, 0, 0, 0, 0, 0, 0, 1, 1, 0, 1, 1, 0, 0, 0, 0, 0, 1, 0, 1, 1, 1, 1, 1, 0, 1, 1, 1, 1, 1, 0, 0, 1, 1, 1, 0, 1, 0, 1, 1, 0, 0, 0, 0, 1, 0, 1, 1, 0, 0, 0, 0, 0, 0, 1, 1, 0, 1, 1, 0, 1, 0, 1, 0, 1, 0, 0, 1, 1, 1, 0, 0, 0, 1, 0, 0, 0, 1, 1, 1, 1, 1, 0, 0, 0, 1, 1, 1, 0, 0, 1, 0, 1, 0, 0, 1, 1, 1, 1, 1, 1, 1, 0, 1, 1, 0, 0, 1, 0, 0, 1, 1, 1, 0, 0, 0, 0, 1, 0, 0, 1, 1, 0, 1, 1, 0, 0, 0, 0, 0, 1, 0, 1, 1, 0, 1, 1, 0, 0, 1, 0, 1, 0, 1, 0, 0, 1, 1, 0, 0, 1, 0, 1, 0, 1, 1, 1, 0, 1, 0, 1, 1, 1, 1, 0, 1, 0, 1, 1, 0, 0, 0, 1, 0, 1, 1, 1, 1, 0, 0, 0, 1, 1, 1, 0, 1, 1, 0, 0, 1, 0, 1, 0, 0, 1, 0, 1, 1, 1, 0, 1, 1, 0, 1, 1, 1, 1, 1, 0, 1, 1, 0, 1, 0, 0, 0, 0, 0, 0, 0, 0, 1, 0, 1, 0, 1, 0, 0, 1, 1, 1, 0, 0, 1, 0, 1, 1, 1, 1, 1, 0, 1, 0, 1, 1, 1, 1, 1, 1, 1, 1, 1, 1, 1, 1, 1, 1, 0, 0, 1, 1, 1, 1, 1, 1, 1, 0, 1, 0, 1, 0, 1, 1, 1, 0, 0, 1, 0, 1, 0, 0, 1, 0, 1, 1, 0, 1, 0, 1, 0, 0, 1, 0, 0, 0, 0, 0, 0, 0, 1, 1, 1, 0, 1, 0, 0, 0, 1, 0, 0, 1, 0, 0, 1, 0, 1, 0, 0, 1, 1, 0, 0, 0, 0, 1, 1, 0, 1, 0, 1, 1, 1, 1, 0, 1, 0, 1, 0, 0, 0, 0, 1, 1, 1, 0, 1, 0, 0, 1, 0, 1, 0, 0, 1, 0, 1, 0, 0, 1, 1, 0, 1, 0, 0, 1, 1, 0, 0, 0, 1, 0, 0, 1, 0, 0, 1, 0, 1, 1, 1, 1, 0, 1, 1, 0, 0, 0, 1, 1, 1, 0, 0, 0, 1, 1, 1, 0, 0, 0, 0, 1, 0, 1, 1, 0, 1, 1, 1, 1, 0, 1, 0, 0, 0, 0, 0, 0, 1, 0, 0, 1, 1, 0, 1, 0, 1, 0, 1, 1, 0, 0, 1, 0, 1, 1, 0, 0, 1, 0, 0, 1, 1, 1, 0, 0, 0, 0, 1, 1, 1, 1, 0, 0, 0, 1, 1, 0, 0, 1, 1, 0, 0, 0, 0, 1, 1, 0, 0, 1, 0, 1, 1, 0, 0, 1, 0, 0, 1, 1, 0, 1, 1, 1, 1, 0, 1, 1, 0, 1, 1, 1, 0, 0, 1, 0, 1, 1, 0, 0, 0, 0, 1, 1, 1, 0, 1, 1, 0, 1, 0, 0, 0, 0, 1, 1, 1, 1, 0, 0, 0, 0, 0, 0, 1, 1, 1, 0, 1, 1, 0, 1, 1, 0, 0, 0, 1, 0, 0, 0, 0, 0, 1, 1, 1, 0, 0, 1, 0, 1, 1, 1, 1, 0, 1, 1, 1, 0, 1, 0, 1, 0, 0, 0, 0, 1, 0, 1, 0, 0, 1, 0, 0, 0, 0, 0, 0, 0, 0, 0, 0, 1, 1, 1, 0, 1, 0, 0, 1, 1, 1, 0, 1, 0, 1, 0, 0, 0, 0, 0, 1, 0, 1, 0, 0, 0, 1, 1, 1, 0, 0, 1, 0, 0, 1, 1, 1, 1, 0, 1, 0, 0, 1, 0, 0, 0, 0, 1, 1, 0, 1, 0, 0, 1, 1, 1, 1, 1, 1, 0, 1, 1, 1, 1, 0, 1, 1, 1, 0, 0, 0, 0, 0, 1, 0, 1, 1, 0, 0, 1, 0, 0, 0, 1, 1, 0, 1, 1, 1, 0, 1, 1, 1, 0, 0, 0, 1, 0, 0, 0, 0, 0, 1, 0, 0, 0, 1, 0, 1, 0, 0, 1, 0, 1, 1, 1, 0, 0, 0, 1, 0, 0, 0, 0, 0, 0, 0, 0, 0, 1, 0, 1, 0, 1, 1, 0, 1, 0, 1, 0, 1, 1, 0, 0, 1, 0, 0, 1, 0, 0, 0, 0, 1, 1, 0, 0, 0, 0, 1, 0, 0, 0, 0, 0, 0, 1, 1, 0, 1, 0, 0, 1, 1, 0, 0, 1, 1, 1, 1, 1, 1, 1, 1, 0, 0, 0, 1, 0, 0, 1, 0, 1, 0, 0, 0, 0, 0, 1, 0, 0, 1, 0, 0, 0, 0, 1, 1, 1, 0, 0, 1, 1, 0, 1, 0, 0, 0, 1, 0, 0, 0, 1, 0, 0, 0, 0, 1, 0, 0, 1, 0, 0, 1, 0, 0, 1, 0, 0, 1, 0, 1, 1, 1, 1, 1, 0, 1, 1, 0, 1, 1, 0, 1, 1, 1, 1, 0, 1, 0, 0, 0, 1, 1, 1, 0, 1, 0, 1, 1, 0, 0, 1, 1, 0, 0, 0, 0, 0, 1, 1, 0, 1, 0, 1, 0, 0, 1, 1, 1, 1, 1, 1, 1, 1, 0, 0, 1, 1, 0, 1, 1, 1, 0, 1, 0, 0, 1, 0, 1, 0, 0, 1, 0, 0, 1, 0, 1, 1, 1, 0, 1, 1, 1, 0, 1, 1, 1, 1, 0, 0, 0, 0, 0, 1, 1, 1, 0, 1, 1, 0, 0, 0, 0, 1, 0, 1, 0, 1, 0, 0, 1, 1, 0, 0, 1, 1, 1, 0, 1, 1, 1, 0, 1, 1, 1, 1, 0, 0, 1, 1, 1, 1, 0, 1, 0, 1, 0, 1, 1, 0, 1, 1, 1, 1, 1, 0, 1, 0, 1, 1, 0, 0, 1, 0, 1, 0, 1, 0, 1, 0, 1, 1, 0, 1, 1, 1, 0, 0, 0, 0, 1, 0, 0, 1, 0, 1, 1, 0, 0, 0, 1, 1, 1, 0, 1, 1, 0, 0, 1, 1, 0, 1, 0, 1, 0, 0, 1, 1, 0, 0, 1, 1, 0, 1, 1, 0, 0, 0, 1, 1, 1, 1, 0, 0, 0, 1, 1, 0, 0, 0, 0, 0, 0, 0, 1, 0, 0, 1, 0, 1, 1, 1, 1, 0, 0, 1, 0, 1, 0, 1, 0, 1, 1, 0, 1, 1, 0, 0, 0, 1, 1, 1, 0, 0, 1, 1, 1, 1, 0, 0, 0, 1, 1, 1, 1, 1, 1, 1, 0, 1, 1, 0, 1, 1, 1, 0, 1, 0, 0, 0, 1, 0, 1, 0, 0, 0, 0, 0, 0, 1, 1, 0, 1, 0, 1, 0, 1, 1, 0, 0, 0, 0, 0, 1, 0, 0, 1, 1, 1, 0, 1, 1, 1, 1, 0, 0, 0, 0, 0, 1, 0, 1, 0, 1, 1, 1, 1, 1, 0, 0, 0, 1, 1, 0, 0, 1, 1, 1, 0, 0, 1, 0, 0, 0, 1, 0, 0, 1, 0, 0, 0, 1, 0, 1, 0, 0, 0, 1, 0, 1, 1, 1, 1, 0, 1, 1, 0, 0, 1, 1, 0, 0, 1, 0, 0, 1, 0, 1, 0, 0, 0, 0, 0, 1, 0, 0, 1, 1, 0, 1, 0, 1, 0, 1, 0, 0, 1, 1, 0, 0, 0, 0, 0, 0, 1, 1, 0, 0, 0, 1, 1, 0, 0, 1, 0, 0, 0, 0, 0, 1, 1, 1, 1, 0, 1, 1, 1, 1, 0, 0, 1, 0, 1, 0, 0, 1, 0, 1, 1, 0, 1, 1, 0, 1, 1, 0, 1, 0, 1, 1, 1, 1, 1, 1, 0, 1, 0, 1, 1, 1, 1, 1, 1, 1, 0, 0, 1, 0, 1, 1, 0, 0, 0, 0, 0, 0, 0, 0, 1, 0, 0, 0, 1, 1, 1, 1, 0, 1, 0, 1, 0, 1, 0, 0, 1, 0, 0, 0, 1, 1, 0, 1, 0, 0, 1, 0, 1, 1, 1, 0, 0, 0, 1, 0, 1, 1, 1, 1, 1, 1, 1, 1, 1, 1, 1, 1, 0, 0, 0, 1, 1, 1, 0, 1, 1, 0, 1, 1, 1, 0, 0, 0, 0, 1, 1, 0, 0, 0, 1, 0, 1, 1, 0, 0, 0, 0, 1, 1, 1, 0, 0, 1, 0, 0, 0, 1, 1, 1, 0, 1, 1, 1, 1, 1, 0, 1, 0, 0, 0, 1, 1, 0, 0, 1, 0, 0, 0, 0, 1, 1, 0, 1, 0, 1, 0, 0, 0, 0, 0, 1, 0, 1, 0, 1, 1, 0, 1, 0, 0, 1, 0, 1, 0, 1, 1, 0, 1, 1, 1, 1, 1, 1, 1, 1, 1, 1, 1, 0, 0, 0, 1, 1, 1, 1, 0, 0, 1, 1, 0, 1, 1, 1, 0, 1, 1, 0, 1, 0, 1, 1, 1, 1, 0, 1, 0, 1, 1, 0, 0, 1, 0, 0, 1, 1, 0, 1, 0, 1, 1, 0, 0, 1, 1, 1, 1, 0, 0, 1, 0, 1, 1, 0, 0, 1, 1, 0, 0, 1, 1, 1, 0, 1, 1, 0, 1, 1, 0, 1, 0, 0, 0, 0, 0, 0, 0, 0, 1, 1, 1, 1, 0, 1, 1, 1, 1, 0, 0, 1, 1, 0, 1, 0, 0, 1, 0, 1, 1, 1, 0, 1, 1, 1, 0, 0, 1, 1, 0, 0, 1, 1, 0, 1, 1, 1, 0, 0, 1, 0, 1, 0, 0, 0, 0, 1, 0, 0, 0, 1, 0, 1, 1, 1, 1, 1, 0, 0, 0, 1, 0, 0, 1, 1, 0, 1, 1, 0, 1, 0, 1, 0, 1, 0, 0, 1, 0, 0, 1, 0, 1, 0, 0, 1, 0, 1, 1, 0, 0, 0, 1, 0, 0, 1, 1, 1, 1, 0, 1, 1, 0, 0, 0, 1, 1, 1, 0, 0, 0, 1, 1, 0, 0, 1, 1, 1, 0, 0, 0, 1, 1, 0, 1, 0, 1, 1, 0, 0, 1, 1, 1, 0, 0, 0, 0, 0, 0, 1, 1, 0, 1, 1, 0, 0, 0, 0, 1, 0, 0, 1, 1, 1, 0, 0, 0, 0, 1, 0, 1, 0, 1, 1, 1, 1, 1, 0, 0, 0, 1, 1, 0, 1, 0, 0, 0, 1, 1, 1, 1, 1, 0, 0, 0, 1, 1, 0, 0, 0, 0, 1, 0, 0, 0, 1, 1, 1, 0, 1, 1, 0, 1, 0, 1, 0, 0, 0, 1, 0, 1, 0, 1, 1, 1, 0, 0, 0, 1, 0, 1, 1, 0, 0, 1, 0, 0, 0, 0, 1, 0, 1, 1, 1, 1, 1, 1, 0, 1, 0, 0, 1, 0, 1, 1, 1, 1, 0, 0, 0, 1, 1, 0, 1, 0, 1, 0, 0, 1, 1, 1, 0, 1, 1, 1, 0, 1, 1, 0, 0, 1, 0, 1, 0, 1, 0, 0, 0, 0, 1, 0, 0, 0, 1, 0, 1, 1, 0, 1, 0, 1, 1, 1, 1, 1, 1, 0, 0, 0, 0, 0, 1, 0, 0, 0, 0, 0, 0, 1, 1, 0, 1, 0, 0, 0, 1, 1, 1, 1, 1, 1, 1, 1, 1, 0, 1, 1, 0, 1, 0, 1, 1, 1, 1, 1, 0, 0, 0, 1, 1, 0, 0, 0, 0, 1, 1, 0, 1, 1, 0, 1, 1, 1, 1, 0, 0, 1, 1, 1, 0, 0, 0, 0, 1, 1, 0, 0, 1, 1, 1, 0, 1, 1, 1, 1, 1, 0, 1, 0, 1, 1, 0, 1, 1, 0, 1, 1, 0, 0, 1, 0, 1, 0, 1, 1, 1, 1, 0, 1, 0, 1, 0, 0, 0, 0, 1, 1, 0, 0, 0, 0, 0, 1, 1, 1, 0, 1, 0, 1, 1, 1, 1, 0, 1, 1, 0, 1, 0, 1, 0, 1, 0, 1, 1, 0, 0, 0, 0, 0, 1, 1, 0, 0, 0, 1, 1, 0, 1, 1, 0, 1, 0, 0, 0, 0, 0, 1, 1, 1, 0, 0, 1, 0, 1, 1, 0, 0, 1, 0, 0, 0, 0, 0, 0, 1, 0, 0, 1, 0, 0, 1, 1, 0, 0, 0, 0, 1, 1, 0, 1, 0, 0, 0, 0, 0, 0, 1, 0, 1, 0, 1, 0, 0, 0, 1, 1, 0, 1, 1, 1, 0, 1, 1, 0, 0, 0, 1, 1, 1, 1, 0, 0, 0, 1, 0, 1, 0, 1, 0, 1, 0, 0, 0, 0, 0, 1, 0, 1, 0, 1, 1, 1, 0, 0, 1, 0, 1, 0, 1, 0, 1, 1, 1, 1, 0, 0, 0, 1, 1, 1, 0, 0, 0, 0, 0, 1, 1, 0, 1, 0, 1, 1, 0, 1, 0, 1, 1, 1, 0, 0, 1, 0, 1, 1, 1, 0, 1, 0, 1, 1, 0, 0, 0, 1, 0, 1, 0, 1, 0, 0, 0, 1, 1, 1, 0, 0, 1, 1, 0, 0, 1, 0, 0, 0, 1, 1, 0, 1, 1, 0, 0, 1, 0, 1, 0, 1, 0, 1, 0, 1, 0, 0, 0, 1, 0, 0, 0, 1, 1, 1, 0, 1, 1, 1, 1, 0, 1, 1, 1, 0, 1, 1, 0, 1, 1, 1, 1, 0, 1, 1, 0, 1, 0, 0, 1, 1, 1, 1, 0, 1, 1, 0, 0, 1, 1, 1, 0, 0, 1, 0, 1, 0, 1, 1, 1, 0, 0, 1, 1, 0, 1, 0, 1, 1, 1, 1, 0, 1, 0, 0, 1, 0, 0, 0, 0, 0, 1, 0, 1, 0, 1, 1, 0, 0, 0, 1, 0, 0, 0, 0, 0, 0, 1, 0, 0, 0, 0, 0, 1, 0, 0, 0, 0, 1, 0, 1, 1, 0, 0, 0, 0, 0, 0, 1, 1, 1, 1, 0, 0, 1, 1, 0, 1, 0, 1, 0, 0, 0, 1, 0, 0, 1, 1, 0, 0, 1, 0, 1, 0, 1, 0, 1, 1, 1, 0, 1, 1, 0, 0, 0, 0, 1, 1, 1, 1, 1, 0, 0, 1, 0, 0, 1, 0, 0, 1, 0, 0, 1, 1, 0, 0, 1, 0, 0, 0, 0, 0, 1, 1, 1, 0, 0, 1, 0, 0, 1, 1, 0, 0, 0, 0, 1, 1, 0, 1, 0, 0, 1, 0, 1, 0, 0, 0, 0, 0, 1, 0, 0, 0, 0, 1, 1, 0, 0, 1, 0, 1, 0, 0, 0, 1, 1, 1, 1, 0, 1, 1, 1, 0, 1, 0, 1, 1, 0, 0, 0, 0, 0, 0, 1, 0, 1, 1, 0, 0, 0, 1, 0, 0, 1, 1, 1, 0, 1, 1, 1, 1, 1, 1, 1, 0, 1, 1, 0, 1, 1, 0, 0, 0, 0, 1, 0, 0, 1, 1, 0, 0, 1, 0, 0, 1, 0, 0, 0, 0, 1, 0, 0, 0, 0, 0, 0, 0, 1, 0, 1, 0, 1, 1, 0, 0, 1, 0, 0, 1, 0, 1, 0, 0, 1, 0, 0, 0, 0, 1, 1, 0, 0, 1, 0, 0, 0, 1, 1, 1, 1, 1, 0, 1, 1, 0, 0, 0, 1, 0, 1, 1, 0, 0, 1, 1, 1, 1, 0, 0, 0, 0, 0, 0, 0, 1, 0, 0, 0, 1, 1, 0, 0, 0, 1, 0, 1, 1, 0, 1, 1, 1, 0, 0, 0, 1, 0, 0, 1, 0, 0, 0, 0, 1, 1, 1, 1, 1, 1, 0, 0, 0, 1, 1, 1, 1, 0, 0, 1, 0, 0, 1, 0, 0, 0, 1, 1, 0, 0, 0, 1, 1, 0, 1, 0, 1, 1, 0, 0, 0, 1, 0, 0, 0, 1, 1, 1, 1, 1, 1, 0, 1, 0, 1, 0, 0, 0, 1, 1, 0, 0, 1, 1, 0, 1, 1, 1, 0, 1, 1, 0, 0, 1, 1, 1, 0, 0, 1, 0, 1, 0, 0, 1, 1, 0, 1, 1, 1, 1, 0, 0, 0, 0, 1, 0, 1, 0, 0, 1, 0, 1, 1, 1, 1, 1, 1, 0, 0, 0, 0, 1, 1, 1, 1, 0, 1, 0, 1, 1, 1, 1, 1, 0, 0, 0, 1, 0, 1, 0, 0, 1, 0, 0, 1, 1, 1, 1, 1, 0, 0, 1, 1, 1, 0, 1, 0, 1, 1, 1, 1, 0, 0, 0, 1, 1, 0, 0, 0, 0, 1, 0, 1, 1, 0, 1, 0, 0, 1, 0, 0, 0, 1, 0, 1, 0, 0, 0, 0, 1, 0, 0, 1, 0, 1, 1, 1, 1, 0, 0, 0, 0, 0, 1, 0, 1, 1, 0, 1, 1, 1, 0, 0, 1, 0, 1, 1, 1, 1, 1, 0, 0, 0, 1, 0, 0, 0, 0, 0, 1, 0, 1, 0, 1, 0, 0, 0, 0, 0, 0, 1, 0, 0, 0, 0, 1, 0, 0, 0, 1, 0, 1, 0, 1, 0, 1, 1, 1, 0, 0, 1, 0, 1, 0, 1, 0, 0, 0, 1, 0, 0, 0, 0, 1, 1, 1, 1, 1, 0, 1, 1, 1, 0, 1, 0, 1, 0, 0, 0, 1, 0, 0, 0, 1, 1, 0, 1, 1, 0, 1, 0, 1, 0, 1, 0, 0, 1, 1, 1, 0, 0, 1, 1, 0, 0, 1, 0, 0, 0, 1, 0, 1, 0, 0, 1, 0, 0, 0, 0, 1, 1, 0, 0, 1, 1, 0, 0, 0, 0, 1, 0, 1, 1, 0, 0, 0, 0, 1, 1, 1, 0, 1, 1, 1, 1, 0, 0, 1, 1, 1, 1, 1, 0, 0, 1, 0, 1, 0, 0, 0, 1, 0, 1, 1, 0, 0, 1, 0, 0, 1, 0, 0, 1, 0, 0, 1, 1, 0, 1, 0, 0, 0, 1, 0, 0, 0, 1, 1, 1, 0, 0, 1, 1, 0, 1, 0, 1, 1, 1, 0, 0, 0, 1, 0, 1, 1, 1, 0, 0, 0, 1, 0, 0, 1, 1, 0, 1, 1, 0, 0, 1, 0, 0, 1, 0, 1, 0, 0, 0, 0, 0, 0, 1, 1, 1, 0, 0, 0, 0, 1, 0, 1, 0, 0, 0, 0, 0, 0, 0, 0, 0, 1, 0, 1, 0, 1, 0, 1, 0, 1, 0, 0, 0, 1, 1, 1, 0, 1, 1, 1, 0, 0, 0, 1, 0, 0, 0, 0, 0, 1, 1, 0, 1, 0, 1, 1, 0, 0, 0, 1, 0, 1, 0, 0, 1, 0, 0, 1, 0, 1, 0, 0, 1, 1, 1, 0, 1, 1, 0, 1, 1, 1, 1, 1, 0, 1, 1, 1, 0, 0, 0, 0, 1, 0, 0, 1, 1, 0, 0, 0, 0, 1, 1, 1, 0, 1, 0, 1, 1, 0, 0, 1, 1, 1, 0, 1, 0, 0, 1, 0, 0, 0, 1, 1, 1, 0, 1, 0, 0, 1, 0, 1, 1, 1, 0, 1, 1, 0, 1, 1, 1, 1, 1, 1, 0, 0, 1, 0, 1, 1, 0, 0, 1, 0, 1, 0, 0, 1, 1, 1, 1, 0, 0, 1, 1, 1, 1, 0, 0, 1, 1, 0, 0, 1, 0, 0, 1, 0, 0, 1, 1, 1, 1, 1, 0, 0, 1, 0, 1, 1, 1, 1, 1, 0, 0, 1, 0, 1, 1, 1, 1, 1, 0, 0, 1, 1, 0, 1, 1, 0, 0, 1, 1, 1, 1, 0, 0, 0, 1, 1, 1, 0, 1, 0, 0, 1, 1, 0, 1, 0, 0, 1, 0, 0, 0, 0, 1, 0, 1, 1, 1, 0, 0, 0, 0, 0, 0, 1, 0, 1, 0, 1, 0, 1, 1, 0, 1, 0, 0, 0, 1, 1, 1, 1, 0, 0, 0, 1, 0, 0, 1, 0, 1, 0, 0, 1, 0, 1, 0, 1, 1, 1, 0, 0, 1, 1, 0, 1, 1, 1, 0, 0, 1, 1, 0, 0, 1, 1, 0, 1, 1, 0, 0, 0, 0, 0, 1, 1, 0, 1, 1, 1, 1, 1, 0, 0, 1, 1, 0, 1, 1, 0, 1, 0, 0, 0, 1, 0, 1, 1, 1, 0, 1, 0, 0, 0, 0, 1, 1, 0, 0, 0, 1, 1, 0, 1, 1, 1, 1, 1, 1, 1, 0, 1, 1, 1, 0, 1, 0, 0, 1, 0, 0, 1, 0, 1, 0, 0, 1, 1, 1, 0, 0, 1, 1, 0, 0, 0, 0, 1, 0, 1, 0, 1, 0, 0, 0, 0, 1, 1, 0, 0, 0, 1, 1, 1, 1, 0, 1, 0, 0, 1, 1, 1, 0, 0, 1, 1, 1, 1, 0, 1, 1, 0, 1, 1, 0, 0, 1, 1, 1, 0, 0, 0, 1, 0, 1, 1, 1, 0, 1, 1, 1, 1, 1, 1, 0, 0, 0, 0, 1, 0, 0, 1, 0, 0, 1, 0, 0, 0, 0, 1, 0, 1, 1, 1, 0, 0, 0, 0, 0, 1, 0, 0, 1, 1, 1, 0, 0, 0, 1, 0, 0, 0, 1, 1, 0, 1, 1, 1, 0, 1, 0, 1, 0, 0, 1, 1, 0, 0, 1, 1, 0, 0, 0, 0, 1, 0, 1, 1, 1, 0, 0, 0, 1, 1, 1, 0, 0, 1, 0, 0, 0, 0, 0, 0, 1, 0, 1, 0, 0, 0, 1, 1, 1, 0, 1, 1, 1, 0, 0, 0, 1, 0, 0, 0, 1, 0, 0, 1, 0, 1, 1, 0, 0, 0, 1, 1, 0, 1, 0, 0, 0, 1, 0, 1, 1, 0, 0, 1, 0, 1, 1, 1, 0, 0, 0, 0, 0, 1, 0, 1, 0, 1, 0, 0, 1, 1, 0, 0, 1, 1, 1, 0, 0, 0, 0, 1, 0, 0, 1, 0, 0, 1, 1, 1, 0, 1, 1, 1, 0, 1, 1, 1, 1, 1, 0, 0, 1, 0, 1, 1, 0, 0, 1, 1, 0, 0, 0, 1, 0, 0, 1, 0, 0, 1, 0, 1, 0, 0, 1, 1, 0, 1, 1, 0, 1, 0, 1, 1, 1, 0, 0, 1, 1, 1, 0, 0, 0, 1, 1, 1, 1, 0, 0, 0, 0, 1, 1, 0, 0, 1, 0, 0, 1, 1, 0, 0, 0, 0, 1, 1, 1, 0, 0, 1, 1, 1, 0, 1, 0, 0, 0, 1, 0, 0, 0, 0, 0, 1, 0, 0, 1, 0, 1, 1, 1, 1, 0, 0, 1, 1, 1, 0, 1, 0, 0, 0, 1, 1, 1, 1, 0, 1, 0, 1, 1, 0, 0, 0, 1, 0, 1, 1, 1, 1, 1, 1, 1, 1, 0, 0, 1, 1, 0, 1, 1, 0, 0, 0, 1, 0, 1, 1, 0, 0, 1, 1, 1, 1, 0, 1, 0, 0, 0, 1, 0, 1, 0, 0, 0, 1, 1, 1, 1, 1, 1, 1, 1, 0, 0, 1, 1, 0, 1, 1, 1, 0, 1, 1, 1, 0, 1, 1, 1, 0, 1, 0, 0, 0, 1, 1, 1, 1, 0, 1, 0, 1, 0, 0, 1, 0, 1, 0, 0, 0, 0, 0, 0, 1, 1, 0, 1, 0, 1, 0, 1, 1, 0, 0, 1, 0, 0, 0, 1, 0, 0, 1, 0, 0, 0, 1, 0, 0, 0, 1, 1, 0, 0, 0, 1, 1, 1, 0, 0, 1, 1, 1, 1, 1, 0, 1, 1, 0, 0, 0, 0, 1, 1, 1, 0, 1, 1, 1, 0, 1, 1, 1, 0, 1, 0, 1, 0, 0, 1, 1, 0, 0, 1, 1, 1, 1, 0, 0, 0, 0, 1, 1, 1, 0, 1, 1, 0, 0, 0, 0, 1, 0, 0, 0, 1, 1, 0, 0, 0, 1, 0, 0, 1, 1, 1, 1, 0, 0, 0, 1, 0, 0, 0, 1, 0, 1, 0, 1, 1, 0, 0, 1, 0, 1, 1, 1, 0, 1, 1, 1, 1, 1, 0, 1, 0, 0, 0, 1, 0, 0, 0, 1, 0, 1, 1, 1, 1, 1, 0, 1, 1, 0, 1, 1, 0, 1, 1, 0, 1, 0, 0, 0, 0, 0, 0, 0, 1, 0, 0, 1, 0, 1, 0, 1, 1, 0, 1, 1, 0, 1, 0, 0, 1, 0, 1, 0, 1, 1, 1, 1, 1, 0, 1, 0, 0, 1, 0, 0, 1, 0, 0, 1, 0, 1, 1, 0, 1, 0, 0, 0, 1, 1, 1, 1, 1, 0, 0, 0, 1, 1, 1, 0, 1, 1, 0, 1, 0, 1, 0, 0, 1, 1, 0, 0, 1, 1, 1, 0, 1, 0, 0, 1, 1, 1, 1, 0, 0, 1, 1, 1, 1, 1, 1, 1, 1, 1, 1, 1, 0, 1, 0, 0, 1, 0, 0, 1, 0, 0, 0, 0, 0, 1, 0, 1, 1, 0, 1, 1, 0, 1, 0, 0, 0, 1, 1, 1, 1, 1, 1, 1, 1, 1, 1, 1, 0, 0, 1, 0, 1, 1, 0, 1, 1, 1, 0, 1, 1, 1, 0, 1, 1, 1, 1, 1, 0, 1, 1, 1, 1, 1, 0, 0, 1, 1, 0, 0, 0, 1, 0, 1, 1, 1, 0, 0, 1, 1, 0, 1, 1, 0, 0, 0, 1, 0, 0, 1, 1, 0, 1, 1, 0, 0, 0, 0, 1, 0, 0, 1, 1, 0, 0, 0, 1, 0, 1, 0, 1, 0, 0, 0, 0, 0, 1, 0, 1, 0, 0, 0, 0, 0, 1, 0, 1, 0, 0, 0, 1, 1, 0, 1, 1, 0, 1, 0, 1, 0, 0, 1, 0, 0, 1, 1, 1, 1, 0, 0, 1, 0, 0, 0, 0, 1, 1, 0, 0, 0, 0, 1, 0, 1, 0, 1, 0, 0, 1, 0, 1, 0, 1, 0, 0, 1, 0, 1, 1, 0, 1, 0, 1, 1, 0, 1, 1, 1, 1, 0, 1, 0, 1, 0, 0, 1, 0, 0, 1, 0, 1, 0, 0, 0, 1, 1, 0, 0, 0, 1, 0, 1, 0, 0, 1, 1, 0, 0, 1, 0, 1, 1, 0, 1, 0, 1, 0, 0, 1, 1, 1, 1, 1, 0, 0, 0, 1, 0, 0, 0, 1, 0, 0, 0, 0, 1, 1, 1, 0, 1, 0, 0, 1, 0, 0, 0, 1, 0, 0, 0, 0, 0, 0, 1, 0, 0, 0, 0, 1, 0, 1, 1, 0, 0, 0, 1, 0, 0, 1, 1, 0, 1, 0, 1, 1, 1, 1, 1, 1, 0, 1, 0, 1, 0, 1, 1, 1, 1, 0, 1, 0, 1, 1, 0, 0, 1, 0, 0, 1, 0, 0, 1, 0, 1, 0, 0, 1, 0, 1, 1, 0, 0, 0, 0, 1, 0, 0, 1, 1, 0, 0, 0, 0, 1, 1, 1, 1, 0, 0, 0, 1, 1, 1, 0, 1, 0, 0, 0, 0, 1, 0, 0, 1, 1, 0, 1, 0, 0, 0, 0, 0, 0, 0, 1, 1, 0, 1, 0, 1, 1, 0, 1, 1, 0, 0, 1, 0, 0, 0, 0, 0, 1, 0, 1, 1, 1, 1, 0, 1, 0, 0, 1, 1, 1, 0, 0, 0, 1, 1, 0, 1, 0, 1, 1, 1, 1, 1, 1, 0, 1, 1, 0, 0, 0, 0, 0, 0, 1, 1, 1, 1, 0, 1, 0, 0, 0, 1, 0, 0, 0, 0, 0, 1, 1, 0, 1, 0, 0, 0, 0, 0, 1, 0, 0, 0, 1, 0, 0, 0, 1, 1, 0, 0, 1, 1, 0, 1, 1, 0, 0, 0, 0, 0, 1, 1, 0, 0, 1, 1, 1, 1, 1, 0, 1, 0, 0, 1, 0, 0, 0, 1, 0, 1, 1, 1, 0, 1, 1, 0, 1, 0, 1, 1, 1, 0, 0, 0, 1, 1, 1, 1, 1, 1, 1, 0, 0, 1, 1, 0, 1, 1, 1, 1, 1, 0, 0, 0, 1, 1, 0, 0, 0, 1, 1, 1, 1, 0, 0, 1, 1, 0, 1, 1, 0, 1, 0, 0, 0, 1, 0, 1, 0, 0, 0, 0, 0, 0, 1, 0, 1, 0, 0, 0, 0, 1, 1, 1, 0, 1, 1, 0, 0, 1, 1, 1, 0, 1, 1, 0, 0, 0, 0, 0, 0, 1, 0, 1, 1, 0, 1, 0, 0, 1, 1, 1, 1, 1, 0, 0, 0, 1, 0, 0, 0, 0, 1, 0, 1, 1, 1, 0, 1, 0, 0, 1, 0, 1, 1, 1, 0, 0, 1, 1, 1, 0, 1, 0, 0, 1, 1, 0, 1, 1, 1, 1, 0, 1, 1, 0, 1, 1, 1, 1, 1, 1, 1, 1, 1, 1, 0, 0, 0, 0, 0, 0, 1, 0, 0, 0, 1, 0, 0, 1, 0, 0, 1, 1, 0, 1, 0, 0, 1, 1, 1, 1, 1, 1, 1, 1, 0, 0, 1, 0, 0, 1, 1, 1, 0, 1, 1, 1, 0, 0, 0, 0, 1, 1, 1, 0, 1, 0, 0, 0, 0, 1, 1, 1, 1, 1, 1, 0, 1, 0, 0, 1, 1, 0, 1, 1, 1, 1, 1, 1, 0, 1, 0, 1, 0, 1, 1, 0, 1, 0, 0, 1, 1, 1, 0, 0, 0, 0, 1, 0, 0, 0, 0, 1, 1, 0, 0, 1, 1, 0, 0, 0, 1, 1, 0, 1, 1, 0, 0, 0, 1, 1, 1, 1, 0, 1, 0, 1, 0, 1, 1, 1, 1, 1, 1, 0, 0, 0, 1, 1, 0, 0, 0, 1, 1, 1, 1, 0, 0, 1, 0, 0, 1, 1, 1, 1, 0, 1, 1, 0, 1, 1, 1, 1, 0, 0, 0, 0, 1, 0, 1, 1, 0, 0, 0, 1, 1, 1, 0, 0, 1, 1, 0, 0, 1, 1, 0, 1, 0, 1, 0, 1, 0, 0, 1, 1, 1, 1, 1, 1, 0, 0, 1, 0, 0, 1, 1, 0, 1, 1, 1, 0, 1, 1, 0, 1, 0, 1, 1, 0, 1, 1, 1, 0, 0, 0, 0, 1, 1, 0, 0, 1, 0, 0, 1, 0, 1, 0, 1, 1, 1, 1, 0, 0, 1, 1, 1, 1, 0, 0, 0, 0, 0, 0, 0, 0, 0, 0, 0, 0, 1, 0, 0, 1, 1, 1, 0, 0, 0, 0, 1, 0, 1, 0, 1, 1, 1, 1, 0, 0, 1, 0, 0, 0, 1, 1, 1, 1, 1, 0, 1, 0, 1, 0, 0, 1, 1, 0, 1, 1, 1, 0, 0, 1, 0, 1, 1, 0, 1, 0, 1, 0, 0, 1, 1, 0, 0, 0, 0, 0, 1, 0, 0, 1, 1, 1, 0, 1, 1, 0, 1, 0, 0, 1, 0, 1, 1, 0, 1, 1, 0, 0, 1, 0, 1, 1, 1, 0, 1, 0, 1, 0, 0, 1, 1, 0, 0, 1, 0, 0, 0, 1, 1, 1, 1, 0, 0, 0, 1, 1, 0, 1, 1, 1, 0, 0, 0, 0, 1, 0, 0, 1, 0, 0, 0, 0, 0, 0, 1, 0, 1, 1, 0, 1, 1, 1, 1, 1, 1, 0, 0, 0, 0, 0, 1, 1, 0, 0, 1, 1, 0, 0, 0, 0, 0, 0, 0, 1, 1, 0, 0, 0, 1, 1, 1, 1, 1, 0, 1, 1, 1, 0, 0, 1, 1, 1, 1, 0, 1, 0, 0, 0, 0, 0, 1, 1, 1, 1, 0, 1, 1, 1, 0, 1, 0, 1, 0, 1, 1, 1, 1, 1, 0, 1, 0, 1, 0, 0, 1, 0, 0, 1, 0, 1, 0, 1, 1, 0, 0, 1, 1, 1, 0, 1, 0, 0, 1, 0, 1, 1, 0, 0, 0, 1, 1, 1, 0, 1, 1, 0, 1, 0, 0, 0, 1, 0, 1, 0, 1, 0, 0, 1, 0, 1, 0, 0, 1, 0, 0, 0, 1, 1, 1, 0, 0, 0, 0, 1, 0, 1, 0, 0, 1, 0, 0, 0, 0, 1, 1, 1, 0, 0, 1, 1, 0, 0, 1, 1, 1, 0, 0, 1, 1, 1, 0, 0, 1, 0, 1, 0, 1, 1, 0, 0, 0, 0, 0, 0, 1, 0, 1, 1, 1, 1, 0, 0, 0, 0, 0, 1, 1, 1, 0, 1, 1, 0, 1, 0, 1, 1, 0, 0, 0, 0, 0, 0, 0, 1, 0, 1, 1, 1, 1, 1, 0, 1, 0, 0, 1, 1, 1, 1, 1, 0, 1, 0, 0, 1, 0, 0, 0, 1, 1, 0, 0, 0, 1, 1, 1, 0, 1, 0, 0, 1, 0, 1, 1, 0, 0, 1, 1, 0, 1, 1, 0, 0, 1, 0, 0, 0, 0, 0, 0, 0, 1, 0, 1, 1, 0, 0, 1, 1, 1, 0, 1, 0, 1, 1, 0, 1, 0, 0, 1, 0, 1, 0, 1, 0, 1, 1, 1, 1, 0, 0, 1, 0, 1, 1, 0, 0, 1, 1, 1, 1, 0, 1, 1, 1, 1, 1, 0, 0, 1, 1, 0, 1, 1, 0, 1, 1, 1, 0, 0, 1, 1, 1, 1, 1, 1, 0, 0, 0, 1, 1, 1, 1, 1, 1, 0, 0, 0, 1, 0, 0, 1, 0, 1, 0, 1, 1, 1, 1, 1, 1, 1, 1, 0, 0, 1, 1, 1, 0, 0, 0, 1, 0, 0, 0, 1, 1, 1, 1, 1, 0, 1, 1, 0, 0, 0, 1, 0, 1, 0, 1, 1, 1, 1, 1, 1, 0, 0, 1, 0, 1, 1, 0, 0, 1, 1, 0, 0, 1, 0, 0, 0, 0, 0, 0, 1, 1, 1, 0, 0, 0, 1, 0, 1, 1, 0, 0, 0, 1, 0, 0, 1, 0, 0, 1, 1, 0, 0, 1, 1, 0, 1, 0, 0, 0, 1, 1, 0, 0, 0, 1, 1, 0, 1, 0, 1, 1, 0, 1, 1, 1, 1, 1, 0, 0, 0, 0, 0, 0, 1, 0, 1, 1, 0, 0, 1, 0, 1, 1, 0, 0, 1, 1, 1, 0, 1, 1, 1, 0, 0, 0, 1, 0, 0, 1, 0, 1, 1, 1, 0, 1, 0, 0, 1, 1, 1, 0, 0, 1, 0, 1, 1, 0, 1, 1, 1, 1, 1, 0, 1, 1, 0, 1, 0, 0, 0, 1, 1, 1, 0, 0, 0, 0, 1, 1, 0, 1, 1, 1, 1, 0, 0, 0, 1, 0, 1, 0, 1, 1, 1, 0, 0, 0, 1, 1, 0, 0, 1, 0, 1, 1, 0, 0, 0, 1, 0, 0, 0, 1, 0, 0, 1, 0, 0, 0, 0, 1, 0, 1, 0, 0, 0, 0, 0, 1, 1, 0, 0, 0, 1, 1, 0, 1, 1, 0, 0, 0, 1, 0, 0, 0, 0, 1, 1, 0, 0, 1, 0, 1, 0, 0, 1, 0, 1, 0, 0, 0, 0, 0, 1, 1, 1, 0, 0, 0, 1, 0, 1, 0, 1, 1, 1, 1, 1, 1, 1, 1, 0, 1, 0, 0, 1, 1, 0, 1, 0, 1, 1, 0, 1, 0, 1, 0, 0, 0, 0, 0, 0, 0, 1, 0, 1, 0, 1, 0, 0, 0, 0, 1, 0, 1, 1, 1, 1, 0, 0, 1, 0, 1, 0, 1, 0, 0, 1, 1, 1, 0, 0, 1, 1, 1, 1, 0, 1, 1, 0, 0, 1, 0, 1, 1, 1, 1, 0, 0, 1, 0, 0, 0, 0, 0, 0, 1, 1, 0, 0, 0, 0, 1, 0, 1, 1, 0, 0, 0, 1, 1, 0, 1, 1, 1, 0, 1, 0, 0, 0, 1, 0, 0, 1, 1, 0, 0, 0, 1, 0, 1, 0, 0, 0, 1, 0, 1, 0, 0, 0, 1, 0, 0, 1, 1, 0, 0, 1, 1, 0, 0, 1, 1, 0, 0, 1, 1, 1, 1, 0, 0, 0, 1, 0, 0, 1, 0, 1, 1, 1, 1, 0, 0, 0, 1, 1, 1, 0, 0, 1, 0, 0, 1, 1, 0, 1, 0, 0, 0, 1, 0, 0, 0, 1, 1, 0, 1, 0, 0, 1, 0, 1, 0, 0, 0, 1, 1, 0, 0, 0, 1, 1, 0, 1, 0, 1, 1, 0, 0, 0, 0, 0, 0, 0, 1, 1, 1, 1, 0, 1, 1, 0, 0, 0, 0, 1, 0, 0, 0, 1, 1, 0, 1, 1, 0, 0, 1, 1, 1, 1, 1, 0, 1, 1, 1, 0, 1, 0, 1, 1, 1, 1, 1, 0, 1, 0, 0, 1, 1, 0, 1, 0, 0, 0, 1, 1, 0, 1, 0, 0, 1, 0, 1, 0, 1, 0, 1, 1, 0, 1, 1, 0, 0, 1, 1, 1, 1, 1, 1, 0, 1, 1, 0, 0, 0, 1, 0, 0, 0, 1, 1, 1, 1, 1, 1, 1, 1, 0, 0, 0, 0, 1, 0, 1, 1, 0, 1, 1, 0, 1, 0, 0, 1, 0, 0, 0, 0, 0, 1, 0, 0, 1, 0, 1, 1, 0, 1, 0, 0, 0, 1, 0, 1, 1, 0, 1, 1, 0, 0, 0, 1, 1, 1, 1, 0, 1, 0, 1, 1, 1, 0, 0, 1, 1, 0, 1, 0, 1, 1, 0, 1, 1, 1, 1, 1, 0, 0, 1, 1, 1, 0, 1, 0, 0, 0, 0, 1, 0, 1, 0, 0, 0, 0, 1, 0, 0, 0, 0, 0, 1, 0, 0, 1, 0, 0, 0, 1, 0, 1, 1, 1, 1, 0, 0, 0, 1, 1, 1, 1, 0, 0, 0, 1, 0, 0, 1, 0, 1, 1, 1, 1, 0, 1, 1, 0, 0, 1, 1, 1, 0, 1, 0, 0, 0, 1, 0, 1, 0, 0, 0, 0, 1, 0, 1, 1, 0, 0, 1, 1, 1, 0, 0, 0, 1, 1, 0, 1, 1, 1, 1, 1, 1, 1, 0, 1, 0, 0, 1, 1, 1, 0, 0, 1, 0, 1, 0, 1, 1, 0, 1, 1, 1, 1, 1, 1, 1, 1, 1, 1, 0, 0, 0, 0, 1, 0, 1, 0, 0, 0, 1, 0, 1, 0, 1, 1, 1, 1, 0, 0, 0, 1, 0, 1, 1, 0, 1, 0, 1, 0, 1, 1, 0, 1, 0, 1, 1, 0, 1, 1, 0, 0, 1, 0, 1, 0, 1, 1, 0, 0, 0, 1, 1, 0, 1, 1, 1, 1, 0, 1, 1, 1, 0, 0, 0, 0, 1, 0, 0, 1, 0, 1, 0, 1, 1, 1, 0, 0, 1, 0, 0, 1, 0, 1, 0, 1, 0, 1, 0, 1, 1, 0, 0, 1, 0, 1, 0, 0, 1, 0, 0, 1, 0, 1, 0, 0, 0, 0, 0, 0, 1, 1, 0, 1, 1, 0, 0, 1, 0, 1, 1, 1, 1, 0, 1, 1, 1, 0, 0, 0, 1, 1, 0, 0, 1, 0, 1, 1, 1, 0, 1, 1, 1, 0, 1, 1, 0, 1, 0, 0, 1, 0, 0, 0, 1, 1, 0, 0, 1, 1, 0, 0, 0, 1, 0, 1, 0, 1, 1, 1, 0, 1, 0, 0, 1, 1, 0, 0, 1, 0, 1, 1, 0, 1, 1, 0, 1, 1, 0, 0, 0, 1, 0, 0, 1, 0, 0, 1, 0, 0, 0, 1, 0, 0, 1, 1, 1, 1, 1, 0, 0, 0, 1, 0, 0, 0, 0, 1, 0, 0, 1, 0, 1, 1, 1, 0, 1, 1, 1, 0, 0, 0, 0, 1, 1, 0, 1, 1, 0, 0, 0, 0, 1, 0, 0, 1, 1, 1, 0, 0, 0, 0, 0, 1, 1, 1, 1, 1, 1, 0, 0, 1, 0, 1, 0, 1, 1, 0, 0, 1, 0, 0, 0, 0, 1, 0, 0, 1, 1, 0, 1, 1, 1, 1, 0, 1, 0, 1, 1, 0, 0, 0, 1, 1, 0, 0, 0, 1, 1, 0, 1, 1, 0, 0, 0, 0, 0, 0, 1, 1, 1, 0, 0, 1, 1, 0, 0, 0, 0, 0, 1, 1, 1, 0, 1, 0, 0, 1, 1, 0, 0, 0, 0, 1, 0, 1, 0, 1, 1, 0, 0, 1, 1, 0, 1, 1, 1, 1, 1, 0, 0, 0, 1, 1, 0, 0, 0, 1, 0, 1, 0, 1, 1, 0, 1, 0, 0, 1, 0, 1, 0, 1, 0, 1, 1, 0, 1, 0, 1, 1, 1, 0, 0, 1, 0, 0, 1, 0, 0, 0, 0, 0, 1, 0, 1, 0, 1, 1, 0, 1, 1, 1, 0, 1, 0, 1, 0, 0, 0, 1, 1, 0, 1, 1, 0, 0, 0, 1, 1, 1, 0, 1, 1, 0, 0, 0, 1, 0, 0, 1, 1, 1, 1, 0, 1, 1, 1, 1, 0, 0, 1, 1, 0, 0, 1, 0, 0, 0, 1, 0, 1, 1, 1, 0, 1, 0, 1, 0, 1, 1, 0, 0, 0, 0, 0, 0, 0, 1, 0, 1, 0, 1, 1, 0, 0, 1, 0, 1, 0, 1, 1, 1, 1, 0, 0, 1, 1, 0, 0, 0, 0, 1, 1, 1, 0, 0, 0, 0, 1, 1, 0, 1, 1, 1, 0, 0, 1, 1, 0, 1, 0, 0, 0, 0, 1, 0, 1, 1, 0, 1, 0, 0, 1, 0, 0, 1, 0, 0, 1, 0, 1, 1, 1, 0, 0, 1, 1, 0, 1, 0, 0, 1, 1, 0, 0, 1, 0, 0, 1, 1, 0, 1, 1, 0, 1, 1, 1, 0, 1, 0, 1, 0, 1, 0, 1, 0, 0, 1, 0, 0, 1, 0, 1, 0, 1, 0, 0, 1, 0, 1, 1, 1, 1, 0, 1, 1, 0, 0, 1, 0, 0, 0, 0, 1, 0, 0, 0, 1, 0, 0, 0, 1, 0, 0, 1, 1, 0, 0, 0, 0, 0, 1, 1, 0, 0, 0, 0, 1, 0, 1, 1, 0, 1, 0, 1, 0, 1, 1, 0, 1, 0, 0, 0, 0, 0, 1, 0, 1, 1, 1, 1, 1, 1, 0, 1, 1, 0, 1, 1, 1, 1, 1, 1, 0, 1, 0, 0, 0, 1, 1, 1, 1, 1, 1, 0, 1, 1, 0, 1, 1, 1, 0, 1, 0, 1, 1, 0, 1, 0, 0, 1, 0, 0, 0, 1, 0, 0, 0, 1, 1, 0, 1, 1, 1, 1, 0, 1, 0, 1, 1, 0, 1, 0, 1, 0, 0, 0, 0, 1, 1, 1, 1, 0, 1, 0, 0, 1, 1, 1, 0, 1, 1, 0, 0, 1, 0, 0, 0, 0, 0, 1, 1, 0, 0, 0, 0, 0, 0, 1, 0, 1, 0, 1, 0, 1, 1, 0, 0, 0, 0, 1, 0, 0, 1, 1, 0, 1, 1, 1, 0, 0, 0, 1, 0, 0, 1, 0, 0, 0, 1, 1, 1, 1, 1, 0, 1, 1, 1, 0, 0, 1, 0, 0, 1, 0, 1, 0, 0, 0, 0, 0, 1, 0, 1, 1, 0, 0, 0, 0, 1, 1, 0, 1, 1, 0, 0, 1, 1, 1, 0, 1, 1, 0, 1, 1, 0, 1, 0, 0, 1, 1, 1, 0, 0, 1, 1, 0, 0, 1, 0, 0, 1, 1, 1, 0, 0, 0, 0, 1, 1, 1, 0, 1, 0, 1, 1, 1, 0, 0, 1, 1, 0, 0, 0, 1, 1, 0, 0, 1, 1, 1, 0, 0, 0, 1, 0, 0, 1, 1, 0, 1, 0, 1, 0, 1, 1, 0, 1, 1, 1, 1, 1, 1, 1, 0, 0, 0, 0, 0, 1, 0, 0, 0, 1, 0, 1, 0, 1, 1, 0, 0, 0, 0, 1, 1, 0, 0, 1, 0, 0, 0, 1, 1, 0, 0, 0, 1, 1, 1, 1, 1, 1, 0, 1, 0, 1, 1, 0, 1, 1, 0, 1, 1, 1, 0, 1, 0, 1, 0, 1, 1, 1, 1, 1, 1, 1, 0, 1, 1, 0, 1, 1, 0, 0, 0, 0, 1, 1, 1, 1, 1, 0, 0, 0, 0, 1, 0, 1, 1, 0, 0, 1, 0, 1, 0, 0, 0, 0, 1, 0, 0, 0, 1, 0, 1, 1, 1, 1, 1, 0, 0, 0, 0, 1, 1, 0, 0, 0, 0, 1, 0, 0, 1, 0, 1, 0, 1, 1, 1, 1, 1, 1, 0, 1, 0, 1, 1, 1, 1, 0, 1, 0, 0, 0, 1, 0, 0, 0, 1, 1, 1, 0, 0, 1, 0, 1, 1, 0, 1, 1, 0, 0, 1, 0, 0, 0, 0, 1, 1, 1, 0, 0, 0, 1, 0, 0, 1, 1, 1, 0, 0, 1, 1, 0, 1, 1, 1, 1, 1, 0, 0, 1, 0, 0, 0, 1, 1, 1, 1, 1, 0, 1, 0, 0, 0, 0, 1, 0, 0, 1, 1, 0, 0, 1, 0, 1, 1, 1, 0, 0, 1, 0, 0, 1, 0, 1, 1, 1, 0, 0, 1, 0, 0, 0, 0, 1, 1, 1, 1, 0, 1, 1, 0, 0, 1, 1, 1, 1, 0, 1, 1, 0, 1, 1, 1, 0, 0, 1, 1, 1, 1, 1, 0, 0, 0, 1, 1, 1, 0, 1, 1, 1, 1, 0, 1, 0, 0, 0, 1, 0, 1, 1, 1, 1, 1, 1, 1, 0, 0, 0, 1, 0, 0, 1, 0, 1, 0, 1, 0, 1, 1, 1, 0, 1, 0, 1, 0, 0, 0, 1, 0, 0, 0, 0, 0, 1, 0, 0, 0, 0, 1, 1, 0, 0, 0, 0, 1, 0, 0, 0, 0, 0, 1, 1, 0, 0, 1, 0, 0, 1, 1, 0, 1, 1, 0, 1, 0, 1, 0, 1, 0, 0, 1, 1, 0, 0, 0, 1, 1, 0, 0, 0, 0, 0, 1, 1, 0, 0, 0, 1, 0, 1, 0, 0, 1, 1, 1, 1, 0, 1, 1, 0, 1, 1, 1, 0, 1, 1, 1, 0, 0, 1, 1, 1, 1, 1, 1, 0, 0, 1, 0, 1, 1, 0, 1, 1, 0, 1, 1, 1, 1, 0, 0, 1, 0, 0, 1, 1, 0, 1, 0, 1, 0, 0, 0, 0, 0, 0, 0, 1, 1, 0, 0, 0, 1, 0, 1, 0, 0, 1, 0, 0, 0, 1, 1, 0, 0, 1, 0, 1, 0, 1, 0, 0, 1, 0, 1, 0, 0, 0, 0, 1, 0, 0, 1, 1, 0, 0, 1, 0, 0, 1, 0, 1, 1, 1, 1, 0, 0, 0, 0, 0, 0, 0, 1, 1, 0, 0, 1, 1, 0, 0, 0, 1, 1, 0, 1, 0, 0, 0, 0, 0, 1, 1, 0, 1, 0, 1, 1, 0, 0, 1, 0, 0, 0, 1, 1, 1, 0, 1, 0, 0, 1, 0, 1, 0, 0, 0, 1, 0, 0, 1, 0, 1, 0, 1, 0, 0, 0, 0, 1, 1, 1, 1, 1, 0, 0, 1, 0, 0, 0, 0, 1, 1, 1, 0, 1, 1, 0, 0, 0, 1, 0, 0, 1, 1, 1, 1, 0, 1, 1, 0, 1, 1, 1, 1, 0, 0, 1, 1, 1, 0, 0, 0, 0, 1, 1, 0, 1, 0, 1, 1, 0, 0, 0, 1, 1, 0, 1, 1, 1, 0, 0, 0, 0, 0, 1, 0, 1, 1, 0, 0, 1, 1, 0, 1, 1, 1, 0, 0, 1, 0, 0, 0, 0, 0, 0, 1, 1, 0, 1, 0, 0, 1, 1, 0, 0, 0, 1, 1, 1, 1, 0, 0, 0, 0, 0, 0, 1, 1, 0, 0, 1, 0, 0, 1, 1, 1, 0, 0, 1, 1, 1, 0, 1, 0, 0, 0, 1, 0, 1, 0, 1, 1, 1, 0, 1, 1, 0, 0, 0, 1, 0, 0, 0, 1, 1, 0, 0, 0, 0, 1, 0, 1, 0, 0, 0, 0, 1, 1, 0, 1, 0, 0, 0, 1, 1, 0, 1, 1, 0, 0, 0, 1, 1, 0, 1, 0, 0, 0, 1, 1, 1, 1, 0, 1, 1, 1, 1, 0, 1, 0, 1, 1, 1, 0, 1, 0, 0, 0, 1, 1, 0, 0, 0, 1, 1, 0, 0, 0, 0, 1, 1, 1, 1, 1, 0, 0, 1, 1, 1, 0, 1, 1, 0, 0, 0, 1, 0, 1, 0, 1, 0, 1, 1, 1, 0, 0, 0, 0, 1, 0, 1, 1, 1, 0, 1, 1, 0, 0, 1, 1, 1, 0, 0, 0, 1, 1, 0, 1, 0, 0, 0, 0, 1, 0, 1, 0, 0, 1, 1, 1, 1, 1, 1, 0, 1, 0, 1, 1, 0, 1, 0, 1, 0, 0, 1, 0, 1, 0, 0, 1, 0, 0, 1, 0, 1, 1, 1, 1, 0, 0, 1, 0, 0, 0, 0, 1, 1, 1, 1, 1, 0, 0, 0, 0, 0, 0, 0, 1, 0, 0, 1, 0, 1, 1, 0, 1, 0, 1, 0, 1, 1, 1, 0, 1, 1, 0, 0, 0, 1, 1, 1, 0, 0, 1, 0, 0, 0, 1, 1, 0, 0, 1, 1, 0, 1, 1, 1, 1, 1, 1, 1, 0, 1, 1, 0, 0, 1, 0, 0, 0, 1, 0, 0, 0, 1, 0, 0, 1, 0, 0, 0, 0, 1, 0, 1, 0, 0, 0, 1, 0, 1, 0, 0, 0, 0, 1, 1, 0, 0, 0, 1, 1, 0, 1, 0, 0, 0, 1, 1, 0, 1, 1, 1, 0, 0, 0, 1, 0, 0, 1, 1, 0, 1, 1, 1, 0, 0, 1, 0, 0, 1, 1, 1, 0, 0, 0, 1, 0, 1, 1, 1, 1, 0, 0, 0, 1, 1, 0, 1, 0, 0, 1, 1, 0, 1, 1, 0, 0, 0, 1, 1, 0, 1, 0, 0, 0, 1, 1, 1, 1, 0, 0, 1, 1, 0, 1, 0, 1, 0, 1, 0, 1, 1, 1, 0, 1, 0, 1, 1, 1, 0, 0, 1, 1, 0, 1, 1, 0, 1, 0, 0, 1, 0, 0, 1, 0, 0, 1, 0, 1, 0, 1, 1, 1, 0, 1, 0, 1, 1, 0, 1, 0, 0, 1, 0, 0, 1, 1, 0, 1, 1, 0, 1, 0, 1, 0, 0, 0, 0, 0, 0, 0, 0, 0, 1, 0, 0, 1, 0, 1, 0, 0, 0, 0, 1, 0, 0, 0, 0, 1, 0, 1, 0, 0, 1, 1, 0, 0, 1, 0, 0, 1, 1, 1, 1, 0, 0, 0, 0, 0, 1, 1, 1, 1, 1, 1, 0, 1, 0, 0, 0, 0, 1, 0, 0, 1, 0, 1, 0, 0, 1, 1, 1, 1, 1, 0, 0, 0, 1, 0, 1, 0, 1, 1, 1, 1, 1, 1, 0, 0, 0, 1, 1, 1, 0, 1, 0, 0, 1, 0, 1, 1, 1, 0, 0, 0, 0, 0, 0, 0, 0, 0, 1, 0, 1, 0, 1, 1, 1, 1, 0, 0, 1, 0, 1, 0, 0, 1, 1, 1, 0, 1, 1, 0, 0, 1, 1, 0, 1, 0, 1, 1, 1, 0, 0, 1, 0, 0, 0, 1, 1, 0, 1, 1, 0, 0, 0, 1, 0, 0, 1, 0, 1, 1, 1, 1, 1, 1, 1, 0, 1, 0, 0, 0, 0, 0, 0, 0, 1, 1, 0, 1, 0, 0, 1, 1, 1, 0, 1, 0, 1, 0, 1, 1, 0, 0, 1, 0, 1, 0, 0, 0, 1, 0, 0, 1, 1, 0, 0, 0, 1, 1, 0, 0, 0, 0, 0, 1, 1, 1, 0, 0, 1, 1, 1, 1, 0, 1, 0, 1, 1, 0, 0, 1, 1, 1, 1, 0, 1, 1, 1, 0, 1, 0, 1, 0, 1, 0, 1, 1, 0, 0, 0, 1, 0, 1, 1, 0, 0, 1, 0, 0, 0, 0, 0, 1, 1, 1, 0, 0, 0, 0, 0, 1, 1, 0, 1, 1, 1, 1, 0, 0, 1, 0, 0, 1, 1, 1, 0, 0, 1, 1, 0, 1, 0, 1, 1, 0, 1, 0, 0, 1, 0, 1, 0, 1, 0, 1, 0, 1, 1, 0, 1, 0, 1, 0, 0, 0, 0, 1, 1, 0, 1, 0, 1, 1, 0, 1, 1, 1, 0, 1, 0, 1, 0, 1, 1, 1, 1, 0, 1, 0, 0, 0, 1, 0, 1, 0, 1, 1, 0, 0, 1, 0, 1, 1, 1, 1, 0, 0, 0, 0, 0, 0, 1, 0, 1, 1, 0, 1, 0, 1, 0, 1, 1, 1, 1, 1, 1, 0, 1, 1, 0, 0, 1, 1, 1, 1, 0, 1, 0, 0, 1, 1, 0, 0, 1, 1, 1, 0, 1, 1, 0, 0, 0, 1, 1, 1, 1, 0, 1, 1, 1, 1, 1, 0, 1, 1, 1, 1, 1, 1, 1, 0, 1, 0, 1, 1, 1, 1, 1, 0, 1, 1, 1, 0, 0, 0, 0, 1, 1, 1, 0, 0, 1, 1, 0, 0, 0, 0, 0, 0, 0, 0, 1, 1, 1, 0, 0, 0, 0, 0, 0, 0, 1, 0, 1, 1, 1, 1, 1, 1, 1, 0, 1, 1, 1, 1, 0, 0, 1, 0, 0, 1, 1, 0, 1, 0, 0, 1, 0, 1, 0, 1, 0, 0, 0, 0, 0, 1, 1, 1, 0, 0, 0, 1, 1, 0, 0, 0, 1, 1, 0, 1, 0, 1, 1, 0, 1, 1, 1, 1, 1, 1, 1, 1, 0, 1, 1, 1, 0, 1, 1, 1, 1, 1, 1, 1, 1, 1, 0, 0, 0, 1, 0, 1, 1, 0, 0, 0, 1, 1, 1, 1, 1, 0, 1, 0, 1, 0, 1, 1, 1, 1, 0, 0, 0, 0, 0, 0, 1, 0, 0, 0, 1, 0, 1, 1, 0, 0, 0, 0, 0, 0, 0, 1, 0, 0, 1, 1, 0, 0, 1, 1, 0, 1, 1, 0, 0, 0, 1, 0, 0, 0, 0, 0, 1, 1, 0, 0, 1, 1, 0, 0, 0, 1, 1, 0, 1, 1, 0, 0, 0, 0, 1, 1, 1, 1, 1, 0, 0, 1, 0, 1, 1, 1, 1, 0, 0, 1, 1, 0, 0, 0, 1, 1, 1, 1, 0, 1, 0, 1, 0, 1, 0, 0, 0, 0, 1, 1, 0, 0, 1, 1, 1, 1, 1, 1, 1, 1, 0, 0, 1, 0, 0, 0, 1, 0, 1, 1, 0, 1, 0, 0, 1, 1, 1, 0, 1, 1, 0, 0, 1, 0, 0, 1, 0, 0, 1, 1, 0, 0, 0, 1, 0, 0, 0, 0, 0, 1, 1, 1, 0, 1, 0, 1, 1, 1, 0, 1, 1, 0, 1, 1, 1, 1, 0, 1, 1, 1, 1, 1, 0, 0, 0, 0, 1, 0, 0, 0, 1, 1, 1, 0, 0, 1, 1, 0, 0, 1, 0, 1, 0, 1, 0, 0, 1, 0, 0, 1, 1, 1, 1, 1, 1, 0, 1, 1, 1, 0, 1, 0, 1, 1, 0, 0, 1, 1, 0, 1, 1, 1, 0, 1, 1, 0, 0, 0, 0, 0, 0, 1, 0, 1, 1, 1, 1, 0, 0, 1, 0, 1, 1, 0, 0, 1, 1, 1, 1, 1, 0, 1, 0, 1, 0, 1, 1, 0, 0, 1, 1, 0, 0, 1, 0, 0, 0, 1, 1, 1, 0, 1, 0, 1, 0, 0, 1, 0, 0, 1, 0, 0, 0, 1, 1, 1, 1, 0, 1, 1, 1, 1, 0, 0, 1, 1, 0, 1, 0, 1, 1, 1, 1, 0, 0, 0, 1, 0, 1, 1, 0, 1, 1, 1, 1, 0, 0, 1, 1, 0, 0, 1, 1, 0, 1, 0, 1, 0, 1, 0, 1, 1, 0, 0, 1, 0, 1, 0, 0, 1, 0, 1, 1, 0, 1, 0, 0, 1, 0, 1, 0, 0, 1, 0, 0, 1, 1, 1, 1, 0, 1, 0, 0, 0, 1, 1, 1, 0, 1, 0, 0, 0, 1, 1, 0, 1, 1, 0, 1, 0, 1, 0, 1, 0, 0, 0, 0, 1, 0, 1, 1, 0, 0, 1, 1, 0, 0, 1, 0, 0, 0, 1, 1, 0, 0, 1, 0, 0, 0, 1, 1, 1, 0, 0, 0, 1, 1, 0, 1, 0, 0, 0, 0, 0, 0, 0, 0, 1, 1, 1, 0, 0, 0, 1, 1, 0, 0, 0, 1, 1, 0, 1, 0, 0, 1, 0, 0, 0, 1, 0, 0, 0, 1, 0, 1, 0, 1, 0, 0, 1, 1, 0, 0, 1, 1, 0, 1, 0, 1, 0, 0, 0, 1, 0, 0, 0, 0, 0, 0, 1, 1, 0, 0, 0, 1, 0, 0, 1, 0, 1, 0, 1, 0, 0, 1, 0, 0, 1, 1, 0, 1, 1, 0, 1, 1, 1, 0, 1, 0, 0, 0, 0, 1, 1, 1, 0, 0, 0, 0, 1, 1, 0, 1, 1, 1, 1, 1, 1, 0, 0, 0, 1, 1, 0, 0, 0, 0, 1, 1, 0, 0, 1, 1, 0, 0, 1, 0, 1, 0, 0, 0, 1, 1, 0, 1, 1, 0, 0, 0, 1, 1, 1, 0, 0, 0, 1, 0, 1, 1, 1, 1, 0, 1, 1, 0, 1, 1, 0, 1, 1, 1, 0, 0, 1, 1, 0, 0, 0, 1, 1, 0, 0, 1, 0, 1, 0, 1, 1, 1, 0, 0, 1, 0, 1, 0, 1, 0, 0, 1, 1, 1, 0, 1, 1, 0, 1, 1, 0, 1, 0, 0, 0, 0, 0, 0, 0, 1, 0, 1, 0, 1, 0, 1, 1, 0, 0, 0, 0, 0, 0, 1, 1, 0, 1, 1, 0, 0, 0, 1, 0, 0, 1, 0, 0, 0, 1, 0, 0, 1, 0, 0, 0, 1, 0, 0, 0, 1, 1, 1, 1, 1, 0, 1, 0, 1, 0, 0, 1, 0, 0, 0, 0, 1, 1, 0, 1, 1, 0, 1, 1, 1, 1, 1, 1, 1, 0, 1, 0, 1, 0, 1, 0, 0, 1, 0, 1, 1, 0, 0, 1, 0, 1, 0, 1, 1, 0, 1, 1, 1, 1, 0, 1, 1, 1, 0, 1, 0, 0, 0, 0, 0, 0, 1, 1, 0, 1, 1, 0, 1, 0, 1, 0, 0, 0, 1, 0, 0, 1, 1, 0, 1, 1, 1, 0, 0, 0, 1, 1, 1, 0, 1, 1, 0, 1, 1, 0, 0, 1, 1, 1, 1, 0, 0, 1, 0, 1, 1, 1, 1, 0, 0, 1, 1, 1, 0, 1, 1, 1, 1, 0, 0, 1, 0, 1, 0, 0, 1, 0, 1, 1, 0, 0, 1, 1, 1, 0, 0, 0, 0, 0, 0, 0, 0, 0, 0, 1, 1, 1, 0, 0, 0, 0, 1, 1, 1, 1, 1, 0, 1, 1, 1, 0, 0, 1, 1, 1, 1, 1, 0, 1, 0, 0, 1, 1, 1, 0, 0, 1, 1, 0, 0, 1, 1, 0, 0, 1, 1, 1, 1, 0, 1, 1, 0, 1, 0, 0, 0, 1, 0, 1, 1, 0, 1, 0, 0, 1, 0, 1, 1, 1, 1, 1, 0, 0, 0, 1, 0, 0, 1, 0, 1, 1, 0, 0, 0, 0, 0, 0, 0, 0, 1, 1, 1, 1, 1, 0, 1, 1, 1, 1, 0, 0, 1, 0, 0, 1, 0, 1, 0, 0, 0, 0, 0, 0, 0, 1, 1, 0, 1, 1, 0, 0, 0, 1, 1, 0, 0, 0, 0, 0, 0, 1, 1, 0, 1, 1, 1, 0, 0, 0, 0, 1, 1, 0, 0, 0, 1, 1, 0, 0, 0, 0, 1, 1, 0, 0, 1, 0, 1, 0, 1, 1, 1, 0, 1, 1, 1, 1, 1, 1, 0, 1, 1, 1, 0, 0, 1, 1, 0, 0, 0, 0, 0, 1, 0, 1, 0, 0, 0, 0, 1, 0, 1, 1, 1, 0, 0, 1, 0, 1, 0, 1, 0, 1, 0, 0, 0, 0, 0, 1, 1, 1, 0, 0, 1, 1, 1, 1, 0, 0, 1, 1, 1, 0, 1, 1, 0, 1, 0, 1, 1, 1, 0, 1, 1, 0, 0, 1, 0, 1, 0, 1, 1, 1, 0, 0, 1, 0, 1, 1, 0, 0, 0, 0, 0, 0, 0, 1, 1, 0, 0, 1, 1, 1, 0, 0, 0, 0, 0, 0, 1, 1, 0, 0, 0, 0, 1, 1, 1, 0, 1, 0, 0, 1, 1, 1, 0, 1, 0, 0, 1, 0, 0, 1, 0, 0, 0, 0, 1, 0, 0, 1, 1, 1, 0, 0, 0, 0, 1, 0, 0, 0, 1, 0, 0, 1, 0, 1, 1, 0, 1, 1, 1, 1, 1, 0, 1, 0, 0, 1, 1, 0, 1, 1, 0, 1, 1, 0, 1, 0, 1, 1, 1, 1, 1, 0, 0, 0, 1, 0, 1, 1, 0, 1, 1, 1, 0, 1, 1, 1, 1, 1, 0, 0, 1, 0, 1, 0, 1, 1, 1, 0, 1, 0, 0, 1, 0, 0, 0, 0, 0, 0, 1, 0, 1, 0, 1, 1, 1, 0, 0, 0, 1, 1, 0, 1, 0, 1, 1, 0, 1, 0, 0, 1, 0, 1, 1, 0, 0, 0, 0, 0, 0, 1, 1, 0, 1, 1, 0, 0, 1, 1, 1, 1, 1, 0, 1, 1, 0, 0, 0, 1, 0, 0, 1, 1, 0, 1, 1, 0, 0, 1, 1, 1, 1, 1, 0, 0, 0, 0, 0, 1, 1, 0, 1, 0, 0, 1, 0, 0, 1, 0, 0, 0, 0, 0, 1, 1, 0, 1, 1, 0, 0, 1, 0, 0, 1, 1, 0, 0, 0, 0, 0, 0, 0, 1, 1, 0, 0, 1, 1, 0, 1, 0, 0, 1, 0, 0, 0, 0, 1, 0, 0, 1, 1, 1, 0, 0, 0, 0, 0, 1, 1, 0, 0, 1, 1, 1, 1, 0, 0, 0, 0, 1, 1, 1, 0, 1, 1, 1, 1, 0, 0, 1, 0, 0, 1, 1, 0, 1, 0, 0, 0, 1, 0, 0, 0, 0, 1, 0, 0, 0, 0, 0, 1, 0, 0, 1, 0, 1, 1, 0, 0, 1, 0, 1, 0, 0, 0, 0, 0, 0, 1, 0, 1, 1, 0, 0, 0, 1, 1, 0, 1, 0, 0, 0, 0, 0, 1, 1, 1, 1, 1, 1, 1, 0, 0, 1, 0, 0, 0, 1, 0, 1, 1, 1, 0, 0, 0, 0, 1, 0, 1, 1, 1, 0, 1, 0, 1, 1, 1, 0, 1, 0, 0, 0, 1, 0, 0, 0, 0, 0, 1, 0, 1, 0, 1, 0, 1, 1, 0, 0, 0, 0, 1, 0, 0, 1, 0, 1, 0, 0, 1, 0, 0, 1, 1, 0, 0, 0, 0, 0, 1, 0, 0, 0, 1, 0, 1, 0, 1, 0, 1, 1, 1, 1, 1, 0, 1, 1, 1, 0, 0, 1, 1, 0, 1, 1, 0, 0, 1, 1, 1, 1, 0, 0, 0, 0, 1, 0, 0, 1, 0, 1, 0, 0, 0, 0, 0, 1, 0, 1, 1, 1, 0, 1, 0, 1, 1, 0, 0, 0, 0, 0, 0, 0, 1, 0, 0, 1, 1, 1, 1, 1, 0, 0, 1, 1, 1, 1, 1, 1, 1, 1, 0, 1, 1, 0, 1, 1, 0, 1, 0, 1, 1, 0, 1, 1, 1, 1, 0, 0, 1, 0, 1, 0, 1, 0, 0, 0, 1, 1, 1, 1, 1, 0, 0, 0, 1, 1, 1, 0, 0, 0, 1, 1, 0, 0, 0, 1, 1, 0, 0, 0, 0, 0, 0, 0, 0, 0, 1, 0, 0, 1, 1, 1, 0, 0, 0, 0, 1, 1, 1, 1, 0, 0, 0, 1, 0, 1, 1, 0, 1, 1, 1, 1, 0, 1, 0, 0, 1, 0, 0, 0, 1, 0, 0, 1, 0, 1, 1, 0, 0, 1, 1, 0, 0, 0, 1, 1, 1, 0, 0, 0, 0, 0, 1, 0, 0, 0, 0, 0, 0, 0, 1, 1, 1, 1, 1, 1, 1, 0, 1, 1, 1, 0, 0, 0, 1, 1, 1, 0, 1, 0, 1, 0, 1, 0, 1, 1, 1, 0, 1, 0, 1, 1, 0, 0, 1, 0, 0, 0, 0, 1, 1, 0, 1, 0, 1, 1, 1, 0, 1, 0, 1, 0, 0, 1, 1, 0, 1, 1, 0, 0, 1, 1, 0, 1, 0, 0, 1, 1, 1, 1, 1, 0, 0, 0, 0, 0, 1, 1, 0, 1, 1, 0, 1, 1, 0, 1, 1, 0, 1, 1, 0, 1, 1, 0, 0, 1, 1, 1, 0, 0, 1, 1, 1, 0, 1, 0, 1, 1, 1, 1, 1, 0, 0, 1, 1, 0, 1, 1, 1, 1, 1, 0, 1, 0, 1, 1, 1, 1, 1, 1, 0, 1, 1, 1, 0, 1, 1, 1, 0, 1, 0, 0, 0, 0, 0, 1, 0, 1, 1, 1, 0, 0, 1, 0, 0, 0, 0, 1, 1, 1, 1, 1, 1, 1, 1, 1, 1, 0, 0, 0, 0, 0, 1, 0, 0, 0, 1, 1, 1, 0, 1, 0, 1, 1, 1, 1, 1, 1, 1, 0, 1, 0, 1, 1, 0, 1, 0, 0, 1, 1, 1, 1, 0, 1, 0, 1, 1, 1, 0, 0, 0, 1, 0, 0, 1, 0, 0, 1, 0, 1, 1, 0, 0, 1, 1, 1, 1, 0, 1, 0, 0, 1, 1, 0, 1, 0, 0, 0, 0, 1, 1, 0, 0, 0, 0, 0, 1, 0, 1, 0, 0, 1, 0, 0, 0, 1, 0, 1, 0, 0, 1, 0, 1, 0, 0, 0, 0, 1, 1, 0, 0, 0, 0, 0, 0, 0, 1, 0, 1, 1, 0, 1, 1, 0, 0, 0, 1, 1, 0, 1, 0, 1, 0, 1, 1, 0, 0, 1, 1, 0, 0, 0, 1, 1, 1, 0, 0, 1, 1, 1, 1, 0, 0, 1, 0, 0, 0, 0, 0, 1, 1, 1, 0, 0, 1, 1, 0, 1, 1, 0, 0, 1, 1, 1, 0, 1, 0, 1, 1, 0, 1, 1, 1, 0, 0, 1, 0, 0, 0, 0, 1, 1, 1, 1, 0, 1, 1, 0, 1, 0, 0, 1, 1, 0, 0, 1, 1, 0, 0, 0, 1, 0, 0, 1, 0, 1, 0, 1, 0, 0, 1, 0, 0, 0, 0, 1, 0, 1, 0, 0, 0, 0, 1, 0, 0, 0, 0, 1, 1, 0, 0, 1, 0, 0, 0, 1, 1, 0, 1, 0, 1, 1, 0, 0, 0, 1, 0, 0, 0, 1, 1, 1, 0, 1, 0, 1, 1, 1, 0, 1, 0, 0, 0, 0, 1, 0, 1, 0, 1, 1, 0, 0, 0, 1, 1, 1, 1, 0, 0, 0, 0, 1, 0, 1, 0, 0, 0, 0, 0, 1, 1, 0, 0, 1, 1, 0, 1, 0, 0, 0, 1, 1, 0, 1, 0, 0, 1, 1, 0, 1, 1, 0, 0, 1, 0, 1, 1, 1, 1, 0, 0, 1, 0, 1, 0, 1, 0, 1, 0, 1, 0, 1, 1, 0, 0, 1, 1, 0, 1, 0, 0, 0, 0, 0, 1, 0, 1, 0, 1, 1, 0, 1, 0, 1, 1, 1, 1, 1, 0, 0, 0, 1, 1, 1, 1, 0, 1, 0, 0, 0, 0, 0, 1, 1, 0, 1, 0, 1, 0, 0, 1, 1, 0, 1, 0, 1, 1, 0, 1, 1, 0, 0, 1, 0, 0, 0, 0, 0, 1, 0, 0, 0, 0, 0, 1, 1, 0, 0, 1, 1, 1, 1, 1, 0, 0, 1, 0, 1, 1, 1, 1, 0, 0, 0, 0, 1, 1, 0, 1, 0, 1, 0, 0, 1, 1, 1, 1, 0, 1, 1, 0, 1, 0, 1, 1, 1, 0, 0, 1, 0, 0, 0, 1, 0, 0, 1, 0, 0, 1, 0, 0, 1, 1, 0, 0, 1, 1, 1, 1, 0, 0, 1, 0, 0, 1, 1, 0, 0, 0, 0, 0, 0, 1, 0, 0, 0, 1, 1, 0, 1, 0, 0, 0, 0, 1, 0, 1, 1, 1, 1, 1, 1, 0, 0, 0, 0, 0, 1, 0, 1, 1, 0, 1, 1, 1, 0, 0, 1, 1, 0, 1, 0, 0, 0, 1, 1, 1, 1, 0, 1, 1, 0, 1, 0, 0, 0, 0, 1, 0, 1, 0, 1, 0, 0, 1, 0, 1, 0, 1, 1, 1, 0, 0, 1, 0, 0, 1, 1, 1, 0, 1, 0, 0, 0, 0, 0, 1, 1, 0, 1, 0, 1, 1, 1, 1, 0, 0, 0, 0, 0, 0, 0, 0, 0, 1, 0, 0, 0, 1, 0, 0, 0, 1, 0, 1, 1, 0, 1, 1, 0, 1, 0, 1, 1, 1, 0, 1, 0, 0, 0, 0, 0, 1, 0, 1, 1, 1, 1, 1, 0, 1, 0, 1, 1, 0, 0, 1, 0, 0, 0, 1, 1, 0, 1, 0, 0, 0, 0, 0, 0, 0, 1, 1, 0, 1, 1, 1, 1, 1, 1, 1, 1, 1, 1, 1, 1, 1, 0, 0, 1, 0, 1, 1, 1, 0, 0, 1, 1, 0, 1, 1, 0, 0, 1, 1, 1, 0, 1, 1, 0, 0, 0, 1, 0, 1, 1, 0, 1, 1, 1, 0, 0, 0, 1, 1, 0, 1, 1, 1, 1, 1, 1, 1, 0, 0, 1, 1, 0, 1, 0, 0, 0, 0, 1, 1, 1, 1, 1, 1, 1, 1, 1, 1, 1, 0, 1, 0, 1, 0, 0, 1, 0, 0, 1, 0, 1, 0, 1, 1, 0, 0, 1, 1, 1, 1, 1, 1, 0, 0, 1, 1, 0, 1, 1, 0, 1, 0, 1, 1, 0, 0, 0, 0, 1, 0, 1, 1, 1, 1, 0, 0, 1, 0, 0, 0, 0, 0, 1, 1, 1, 0, 0, 1, 0, 1, 0, 0, 0, 1, 0, 1, 1, 1, 1, 1, 0, 1, 0, 1, 1, 1, 1, 1, 0, 0, 1, 0, 1, 0, 1, 0, 0, 0, 1, 0, 0, 1, 0, 1, 1, 1, 0, 0, 0, 0, 0, 0, 0, 0, 1, 1, 1, 1, 1, 1, 0, 0, 0, 1, 1, 1, 0, 0, 1, 1, 0, 0, 0, 0, 1, 1, 0, 1, 1, 1, 1, 0, 1, 1, 1, 1, 0, 0, 0, 0, 0, 1, 1, 0, 1, 1, 1, 1, 0, 0, 0, 0, 0, 0, 0, 1, 0, 1, 1, 1, 1, 1, 0, 1, 1, 0, 1, 0, 0, 0, 0, 1, 1, 0, 0, 1, 1, 0, 0, 0, 1, 1, 1, 0, 1, 1, 1, 1, 1, 1, 0, 0, 0, 0, 0, 1, 0, 1, 0, 1, 0, 1, 1, 1, 1, 0, 0, 0, 1, 0, 1, 0, 1, 0, 1, 1, 1, 1, 0, 0, 1, 1, 1, 0, 1, 0, 0, 1, 0, 1, 1, 0, 0, 0, 0, 0, 1, 0, 1, 1, 1, 0, 0, 1, 0, 1, 0, 0, 1, 0, 1, 0, 0, 0, 0, 0, 0, 1, 1, 1, 0, 0, 1, 0, 0, 0, 1, 1, 0, 0, 1, 0, 1, 1, 1, 1, 1, 1, 0, 1, 0, 1, 1, 1, 1, 1, 1, 0, 0, 0, 0, 0, 0, 1, 0, 0, 0, 0, 0, 0, 1, 0, 0, 0, 1, 0, 0, 1, 0, 0, 1, 1, 0, 0, 1, 0, 1, 1, 0, 0, 1, 1, 1, 1, 1, 0, 0, 1, 0, 1, 1, 0, 1, 1, 1, 0, 1, 0, 0, 0, 1, 0, 1, 1, 1, 0, 0, 0, 0, 1, 0, 1, 0, 1, 0, 0, 0, 0, 1, 1, 0, 0, 0, 1, 1, 1, 0, 1, 0, 1, 1, 0, 1, 0, 0, 0, 0, 0, 0, 1, 0, 1, 0, 0, 0, 1, 0, 1, 0, 0, 0, 0, 0, 1, 1, 1, 0, 1, 0, 1, 1, 0, 1, 1, 1, 1, 0, 0, 1, 0, 0, 1, 0, 1, 0, 0, 0, 1, 0, 1, 1, 1, 1, 1, 0, 1, 0, 0, 0, 0, 1, 1, 0, 1, 0, 0, 0, 1, 1, 1, 0, 1, 1, 1, 1, 0, 1, 1, 0, 0, 1, 1, 0, 1, 0, 1, 0, 1, 1, 1, 0, 1, 1, 0, 0, 1, 1, 1, 0, 0, 0, 1, 0, 0, 1, 0, 0, 0, 0, 1, 0, 1, 0, 1, 0, 0, 0, 0, 0, 1, 0, 0, 1, 0, 0, 0, 0, 0, 1, 1, 0, 1, 1, 1, 0, 1, 0, 1, 0, 0, 1, 1, 0, 0, 0, 0, 0, 1, 0, 1, 1, 1, 0, 0, 1, 1, 0, 1, 0, 1, 1, 1, 0, 0, 1, 1, 1, 1, 0, 0, 0, 0, 0, 0, 0, 1, 0, 0, 0, 1, 0, 0, 1, 1, 1, 0, 0, 0, 0, 1, 0, 0, 1, 1, 1, 0, 1, 1, 1, 0, 0, 1, 0, 0, 0, 1, 0, 0, 1, 0, 1, 0, 1, 0, 1, 1, 0, 0, 1, 0, 0, 1, 0, 1, 1, 1, 0, 0, 1, 1, 0, 1, 0, 0, 0, 1, 0, 1, 0, 0, 0, 0, 1, 1, 0, 0, 0, 0, 1, 1, 1, 1, 0, 1, 0, 0, 1, 1, 0, 0, 1, 1, 0, 0, 1, 0, 1, 0, 0, 1, 0, 0, 1, 1, 1, 1, 0, 1, 1, 0, 1, 1, 0, 0, 1, 1, 1, 1, 1, 0, 0, 1, 1, 0, 0, 1, 0, 1, 0, 0, 0, 0, 0, 1, 1, 1, 0, 1, 0, 1, 0, 1, 0, 0, 1, 0, 0, 1, 1, 1, 0, 0, 0, 0, 1, 0, 1, 0, 0, 1, 0, 1, 0, 1, 1, 0, 1, 1, 0, 1, 1, 1, 1, 0, 1, 0, 1, 0, 0, 0, 1, 0, 1, 0, 1, 1, 1, 1, 0, 0, 0, 1, 1, 1, 1, 1, 1, 1, 0, 1, 1, 0, 1, 0, 0, 0, 0, 1, 1, 0, 0, 1, 0, 0, 1, 0, 1, 0, 0, 0, 0, 1, 1, 1, 1, 0, 0, 1, 1, 1, 0, 1, 1, 0, 1, 1, 1, 1, 1, 0, 1, 0, 1, 0, 1, 0, 1, 0, 1, 1, 0, 0, 1, 1, 1, 0, 1, 0, 0, 1, 1, 0, 0, 1, 0, 0, 0, 1, 0, 1, 1, 1, 1, 0, 0, 0, 1, 1, 0, 1, 1, 1, 1, 0, 1, 1, 1, 0, 1, 1, 1, 0, 1, 1, 1, 1, 1, 0, 0, 1, 0, 1, 0, 1, 0, 1, 0, 1, 1, 0, 1, 1, 0, 1, 1, 1, 0, 0, 1, 1, 1, 0, 0, 0, 0, 1, 1, 1, 0, 0, 1, 1, 1, 0, 1, 1, 0, 0, 1, 0, 1, 1, 0, 0, 1, 1, 0, 0, 0, 0, 1, 1, 1, 0, 1, 1, 0, 0, 1, 1, 1, 0, 0, 1, 1, 0, 1, 0, 1, 1, 1, 0, 0, 1, 0, 0, 0, 0, 1, 0, 0, 1, 1, 1, 0, 1, 1, 1, 1, 0, 1, 1, 0, 1, 0, 0, 0, 1, 0, 0, 0, 0, 1, 0, 1, 0, 1, 0, 1, 0, 0, 0, 0, 0, 1, 0, 0, 1, 0, 0, 0, 1, 0, 0, 0, 0, 0, 1, 0, 1, 1, 1, 1, 1, 1, 0, 0, 1, 0, 0, 1, 0, 1, 1, 0, 0, 1, 0, 1, 1, 0, 1, 1, 1, 1, 0, 0, 1, 1, 1, 0, 0, 0, 1, 1, 0, 1, 1, 1, 0, 1, 1, 0, 0, 1, 1, 1, 1, 0, 0, 0, 0, 0, 0, 0, 0, 0, 0, 1, 0, 1, 1, 1, 1, 1, 0, 1, 1, 0, 0, 0, 1, 1, 0, 1, 0, 1, 0, 0, 0, 1, 0, 0, 1, 0, 0, 1, 1, 0, 0, 1, 0, 1, 0, 0, 0, 0, 1, 1, 0, 0, 0, 0, 1, 1, 1, 1, 0, 0, 1, 0, 1, 0, 0, 0, 1, 1, 0, 1, 1, 0, 0, 0, 1, 1, 1, 0, 1, 0, 0, 0, 1, 1, 0, 0, 0, 0, 1, 1, 0, 1, 1, 1, 0, 1, 0, 1, 1, 1, 0, 1, 0, 0, 0, 1, 0, 0, 0, 1, 1, 1, 1, 0, 0, 0, 1, 1, 0, 0, 0, 0, 1, 1, 1, 0, 0, 0, 1, 1, 1, 0, 0, 1, 1, 0, 0, 0, 0, 0, 1, 1, 0, 0, 0, 1, 1, 1, 0, 0, 0, 0, 0, 1, 1, 1, 1, 0, 0, 1, 1, 0, 0, 1, 1, 0, 1, 1, 0, 1, 0, 0, 0, 0, 1, 1, 1, 1, 0, 1, 0, 0, 0, 0, 0, 1, 1, 1, 0, 1, 1, 1, 0, 0, 1, 0, 0, 1, 1, 1, 0, 0, 1, 0, 0, 1, 1, 1, 1, 0, 0, 1, 1, 1, 1, 1, 1, 0, 1, 0, 1, 0, 1, 0, 1, 0, 0, 0, 1, 0, 0, 0, 1, 0, 0, 0, 1, 1, 0, 0, 1, 1, 0, 1, 0, 0, 1, 1, 1, 1, 1, 1, 0, 1, 1, 1, 1, 1, 0, 1, 0, 0, 1, 0, 1, 0, 0, 1, 0, 0, 0, 1, 1, 0, 1, 0, 1, 0, 0, 0, 1, 1, 0, 0, 0, 0, 1, 1, 1, 0, 1, 0, 0, 1, 0, 1, 0, 1, 1, 1, 1, 0, 1, 1, 0, 0, 0, 1, 0, 1, 0, 0, 0, 1, 0, 0, 1, 0, 0, 0, 1, 1, 0, 1, 0, 1, 0, 0, 0, 0, 1, 1, 1, 1, 0, 1, 1, 0, 0, 0, 1, 1, 1, 0, 0, 1, 1, 1, 1, 0, 0, 1, 1, 0, 0, 0, 0, 1, 1, 0, 0, 1, 1, 1, 1, 1, 0, 0, 1, 0, 1, 1, 0, 0, 1, 1, 0, 0, 0, 1, 1, 0, 0, 1, 1, 1, 0, 1, 0, 0, 1, 0, 1, 0, 0, 0, 1, 1, 0, 0, 0, 0, 0, 1, 1, 1, 0, 0, 1, 1, 1, 1, 1, 1, 1, 1, 0, 1, 0, 1, 0, 1, 1, 0, 0, 1, 0, 1, 0, 0, 1, 0, 0, 1, 0, 0, 1, 0, 0, 0, 1, 0, 0, 0, 1, 1, 0, 1, 1, 0, 0, 0, 1, 1, 0, 0, 1, 0, 1, 1, 0, 1, 0, 1, 0, 1, 1, 1, 0, 0, 1, 1, 1, 1, 0, 1, 0, 0, 0, 0, 0, 0, 0, 1, 1, 0, 0, 0, 1, 1, 1, 0, 0, 0, 0, 0, 0, 0, 0, 0, 1, 1, 0, 0, 1, 1, 1, 1, 1, 1, 0, 1, 1, 0, 1, 0, 0, 0, 1, 1, 1, 1, 0, 0, 0, 0, 1, 0, 0, 0, 1, 0, 1, 0, 0, 1, 0, 0, 0, 0, 1, 0, 1, 0, 1, 0, 1, 1, 1, 0, 0, 0, 1, 0, 0, 0, 0, 1, 1, 0, 0, 0, 0, 1, 0, 0, 0, 1, 1, 1, 0, 0, 1, 0, 1, 0, 1, 1, 1, 1, 1, 1, 0, 0, 1, 0, 1, 1, 1, 0, 1, 0, 1, 0, 0, 0, 0, 0, 1, 1, 1, 1, 1, 1, 0, 1, 1, 1, 1, 0, 0, 0, 1, 0, 0, 1, 1, 0, 0, 0, 1, 0, 1, 0, 1, 1, 1, 0, 0, 0, 0, 0, 0, 1, 1, 0, 1, 0, 0, 1, 1, 0, 0, 1, 1, 0, 1, 0, 0, 1, 0, 0, 1, 0, 1, 0, 0, 1, 1, 1, 0, 0, 1, 0, 0, 0, 0, 1, 0, 0, 1, 1, 0, 0, 1, 0, 0, 1, 0, 1, 0, 0, 0, 0, 0, 0, 1, 1, 1, 0, 0, 0, 0, 0, 1, 1, 0, 0, 1, 0, 1, 0, 0, 1, 0, 1, 0, 0, 1, 0, 1, 0, 0, 0, 0, 1, 0, 1, 0, 0, 0, 1, 0, 0, 1, 1, 1, 1, 0, 1, 0, 0, 0, 1, 1, 1, 1, 1, 1, 0, 1, 1, 0, 0, 0, 0, 1, 1, 1, 1, 1, 1, 1, 0, 1, 0, 0, 0, 1, 0, 0, 0, 0, 0, 0, 0, 0, 0, 1, 1, 0, 1, 0, 0, 0, 0, 1, 1, 1, 0, 0, 0, 1, 1, 0, 1, 1, 1, 1, 0, 1, 0, 1, 1, 1, 0, 0, 1, 1, 0, 0, 0, 0, 1, 0, 1, 0, 1, 0, 1, 0, 1, 1, 1, 0, 0, 0, 1, 0, 1, 0, 0, 0, 0, 0, 1, 1, 1, 0, 0, 1, 0, 0, 0, 1, 1, 0, 0, 1, 1, 1, 0, 0, 1, 1, 1, 0, 0, 0, 1, 1, 1, 0, 0, 1, 1, 0, 1, 0, 0, 0, 1, 0, 0, 0, 1, 1, 1, 1, 1, 0, 1, 1, 1, 1, 0, 1, 0, 1, 1, 0, 1, 0, 1, 0, 0, 1, 0, 1, 1, 1, 0, 1, 1, 0, 0, 1, 0, 0, 0, 1, 1, 1, 0, 1, 1, 1, 1, 1, 0, 1, 1, 0, 1, 0, 0, 1, 1, 0, 0, 0, 1, 0, 0, 1, 0, 1, 1, 1, 0, 0, 0, 0, 1, 0, 0, 0, 1, 0, 0, 1, 0, 1, 0, 1, 1, 1, 1, 1, 0, 0, 0, 1, 1, 1, 1, 0, 0, 1, 0, 1, 1, 1, 1, 1, 0, 0, 1, 0, 1, 0, 1, 1, 0, 0, 0, 0, 0, 0, 1, 0, 0, 1, 1, 1, 0, 1, 1, 0, 0, 1, 0, 1, 1, 1, 0, 1, 0, 1, 0, 1, 0, 0, 0, 1, 0, 0, 0, 1, 1, 1, 1, 0, 1, 1, 0, 1, 1, 0, 0, 0, 0, 1, 1, 0, 0, 0, 0, 1, 1, 1, 0, 1, 0, 0, 0, 1, 1, 1, 1, 0, 1, 0, 0, 0, 0, 1, 0, 0, 1, 0, 0, 0, 1, 1, 0, 0, 0, 0, 1, 1, 0, 0, 1, 1, 1, 0, 0, 0, 0, 1, 1, 0, 0, 0, 0, 1, 0, 0, 1, 0, 1, 0, 0, 1, 0, 0, 1, 1, 1, 1, 1, 0, 0, 0, 0, 0, 1, 1, 0, 0, 0, 0, 1, 1, 0, 1, 1, 0, 0, 1, 1, 0, 1, 1, 1, 0, 1, 0, 0, 0, 1, 0, 0, 1, 1, 1, 0, 0, 0, 1, 0, 0, 1, 0, 0, 0, 1, 1, 0, 1, 0, 1, 0, 1, 1, 0, 0, 1, 0, 0, 1, 0, 1, 1, 1, 1, 1, 1, 0, 0, 0, 1, 1, 0, 0, 0, 1, 0, 1, 1, 1, 0, 1, 1, 1, 1, 1, 0, 0, 0, 1, 0, 0, 0, 0, 0, 0, 1, 0, 0, 0, 0, 1, 1, 0, 1, 0, 0, 0, 0, 1, 0, 1, 1, 0, 1, 1, 0, 1, 0, 1, 0, 1, 1, 1, 1, 0, 0, 1, 0, 0, 0, 1, 0, 0, 0, 1, 0, 1, 0, 1, 0, 0, 1, 0, 0, 0, 0, 1, 0, 1, 0, 1, 1, 0, 0, 1, 0, 0, 1, 1, 1, 0, 1, 0, 1, 1, 0, 1, 1, 1, 1, 0, 1, 1, 1, 0, 1, 1, 0, 0, 1, 0, 0, 1, 0, 1, 1, 1, 1, 1, 0, 0, 0, 0, 0, 1, 1, 1, 1, 0, 0, 1, 0, 1, 0, 0, 1, 1, 0, 1, 1, 0, 1, 0, 1, 0, 1, 1, 0, 0, 1, 0, 0, 1, 0, 1, 1, 0, 0, 0, 0, 0, 0, 0, 0, 1, 1, 1, 1, 1, 0, 0, 0, 0, 0, 1, 1, 1, 1, 1, 1, 1, 1, 0, 0, 1, 0, 0, 0, 0, 0, 0, 0, 1, 0, 1, 1, 0, 0, 1, 0, 0, 0, 1, 0, 1, 1, 1, 1, 1, 0, 0, 0, 1, 1, 0, 1, 1, 0, 0, 1, 0, 1, 1, 0, 0, 1, 0, 1, 1, 0, 0, 0, 0, 0, 1, 0, 1, 1, 0, 0, 1, 1, 1, 1, 1, 0, 1, 1, 1, 0, 0, 0, 0, 1, 1, 0, 0, 0, 0, 0, 1, 0, 0, 1, 1, 0, 1, 0, 0, 1, 1, 1, 0, 1, 0, 1, 0, 0, 1, 0, 1, 0, 0, 1, 1, 0, 1, 1, 1, 1, 0, 1, 1, 1, 1, 0, 1, 0, 0, 1, 1, 0, 1, 0, 1, 0, 1, 1, 0, 0, 1, 1, 0, 1, 1, 1, 0, 0, 1, 0, 1, 0, 0, 1, 1, 1, 1, 1, 0, 1, 1, 1, 0, 0, 0, 0, 1, 1, 0, 1, 0, 0, 1, 0, 0, 1, 0, 0, 0, 1, 0, 1, 0, 0, 1, 0, 1, 1, 1, 1, 1, 0, 0, 1, 1, 1, 1, 0, 1, 0, 1, 1, 1, 0, 0, 0, 0, 1, 0, 0, 1, 0, 0, 0, 0, 1, 1, 0, 0, 1, 0, 1, 1, 0, 1, 0, 0, 1, 0, 1, 0, 0, 0, 0, 0, 1, 1, 0, 0, 0, 1, 1, 1, 1, 1, 1, 1, 0, 0, 1, 0, 0, 0, 0, 0, 0, 1, 1, 1, 1, 1, 0, 0, 0, 0, 0, 1, 0, 1, 0, 1, 0, 1, 0, 0, 1, 1, 0, 0, 0, 1, 1, 1, 0, 0, 1, 1, 1, 1, 1, 0, 1, 0, 1, 1, 1, 1, 0, 1, 0, 0, 0, 1, 1, 1, 0, 1, 0, 1, 0, 1, 0, 1, 1, 0, 0, 0, 1, 0, 0, 0, 0, 1, 1, 1, 1, 1, 0, 0, 1, 1, 0, 0, 1, 1, 0, 1, 1, 0, 1, 1, 1, 0, 1, 0, 1, 0, 0, 0, 1, 0, 0, 1, 0, 0, 1, 0, 1, 0, 0, 0, 0, 0, 0, 1, 1, 1, 0, 0, 1, 0, 0, 0, 0, 0, 1, 0, 1, 0, 1, 0, 1, 0, 1, 1, 1, 0, 1, 1, 0, 1, 0, 0, 0, 0, 0, 1, 0, 1, 1, 1, 0, 0, 1, 0, 1, 1, 1, 0, 1, 0, 1, 0, 0, 0, 1, 1, 0, 0, 0, 1, 1, 1, 1, 0, 0, 1, 1, 1, 0, 0, 0, 0, 1, 1, 0, 1, 1, 1, 1, 0, 1, 0, 1, 0, 0, 0, 1, 1, 0, 1, 1, 1, 1, 0, 1, 0, 0, 0, 0, 0, 0, 0, 0, 0, 0, 1, 0, 1, 0, 1, 0, 1, 1, 1, 1, 0, 1, 0, 0, 0, 1, 1, 0, 0, 1, 0, 0, 0, 0, 0, 1, 0, 1, 0, 1, 1, 0, 0, 0, 1, 0, 1, 1, 1, 1, 0, 0, 1, 1, 1, 0, 1, 0, 1, 1, 0, 0, 0, 0, 1, 0, 1, 1, 0, 0, 1, 0, 0, 0, 1, 0, 1, 0, 1, 0, 1, 1, 0, 0, 1, 0, 1, 1, 1, 1, 1, 0, 0, 0, 1, 1, 0, 1, 0, 1, 1, 0, 0, 1, 0, 1, 0, 0, 1, 0, 0, 1, 1, 0, 1, 1, 0, 0, 1, 1, 0, 0, 1, 1, 0, 0, 1, 0, 1, 1, 0, 0, 0, 1, 1, 0, 0, 1, 1, 0, 0, 0, 0, 1, 0, 0, 1, 0, 1, 0, 1, 0, 0, 0, 1, 1, 1, 0, 0, 0, 0, 1, 0, 0, 1, 0, 0, 0, 1, 1, 1, 0, 0, 0, 0, 1, 0, 0, 1, 1, 1, 1, 1, 0, 1, 1, 0, 0, 0, 1, 1, 0, 0, 1, 1, 0, 0, 1, 1, 0, 0, 0, 1, 1, 1, 0, 0, 1, 1, 0, 0, 1, 0, 1, 1, 0, 0, 1, 1, 0, 0, 1, 1, 1, 0, 1, 0, 0, 1, 1, 0, 0, 0, 0, 0, 0, 1, 1, 1, 1, 1, 1, 0, 0, 0, 0, 0, 0, 1, 1, 0, 0, 0, 1, 0, 1, 0, 0, 0, 1, 1, 0, 0, 1, 0, 0, 1, 1, 1, 0, 0, 0, 1, 1, 1, 1, 0, 1, 1, 1, 1, 0, 0, 0, 1, 1, 0, 1, 1, 0, 0, 1, 1, 1, 0, 0, 1, 1, 0, 1, 0, 0, 1, 1, 0, 1, 0, 0, 0, 0, 1, 0, 1, 0, 1, 0, 0, 1, 1, 0, 0, 1, 0, 1, 1, 0, 0, 0, 1, 0, 0, 1, 0, 0, 1, 0, 0, 0, 0, 0, 1, 1, 1, 0, 0, 0, 1, 1, 1, 0, 1, 1, 0, 1, 1, 0, 0, 0, 0, 1, 0, 0, 1, 0, 1, 0, 1, 1, 0, 1, 0, 1, 1, 1, 1, 1, 0, 0, 1, 0, 1, 0, 1, 1, 1, 0, 0, 1, 1, 0, 1, 1, 0, 0, 1, 0, 0, 1, 1, 0, 1, 0, 0, 0, 0, 0, 0, 1, 0, 0, 1, 1, 0, 0, 0, 1, 1, 1, 0, 1, 0, 0, 0, 1, 1, 1, 1, 1, 0, 1, 1, 1, 1, 1, 0, 0, 0, 0, 0, 0, 0, 1, 1, 1, 0, 0, 1, 0, 1, 1, 1, 1, 1, 1, 0, 1, 0, 0, 0, 1, 1, 0, 1, 0, 1, 0, 1, 0, 0, 1, 1, 0, 1, 0, 1, 0, 1, 0, 1, 0, 0, 1, 0, 0, 0, 0, 0, 1, 1, 0, 0, 0, 0, 1, 0, 1, 0, 1, 0, 1, 0, 1, 0, 0, 0, 1, 0, 1, 1, 1, 1, 0, 0, 0, 0, 1, 1, 0, 0, 0, 1, 0, 1, 0, 1, 1, 0, 1, 0, 1, 0, 1, 1, 0, 1, 0, 1, 1, 0, 0, 1, 1, 1, 1, 1, 1, 1, 0, 0, 0, 1, 1, 1, 1, 0, 0, 0, 0, 0, 1, 1, 0, 0, 0, 0, 1, 0, 1, 1, 0, 0, 0, 0, 1, 0, 1, 0, 0, 0, 0, 1, 0, 0, 1, 0, 0, 1, 1, 0, 0, 0, 0, 1, 0, 0, 0, 0, 0, 1, 1, 1, 1, 0, 0, 1, 1, 0, 0, 0, 0, 0, 0, 1, 0, 1, 1, 1, 1, 1, 1, 1, 0, 0, 0, 0, 1, 0, 0, 1, 1, 1, 0, 1, 1, 1, 0, 0, 1, 0, 1, 0, 1, 1, 0, 1, 0, 0, 1, 1, 0, 1, 1, 1, 1, 1, 1, 0, 1, 1, 0, 1, 1, 0, 1, 0, 0, 1, 0, 1, 0, 1, 0, 0, 0, 1, 0, 0, 0, 0, 0, 1, 0, 1, 0, 1, 0, 0, 1, 1, 0, 1, 0, 1, 1, 0, 1, 0, 1, 0, 0, 1, 0, 1, 0, 1, 1, 1, 0, 1, 0, 1, 1, 1, 1, 1, 1, 0, 0, 0, 0, 1, 1, 0, 1, 1, 0, 0, 1, 0, 0, 0, 0, 0, 1, 1, 1, 1, 1, 0, 1, 1, 0, 0, 0, 0, 1, 0, 1, 0, 1, 0, 1, 0, 0, 1, 0, 0, 0, 1, 1, 1, 0, 0, 0, 1, 0, 1, 0, 1, 0, 0, 1, 1, 0, 0, 0, 1, 1, 0, 0, 0, 0, 1, 0, 1, 1, 1, 1, 1, 1, 0, 0, 0, 0, 0, 1, 1, 0, 1, 1, 0, 0, 1, 0, 0, 1, 0, 0, 0, 1, 1, 0, 0, 0, 0, 1, 0, 0, 1, 0, 1, 1, 0, 0, 1, 1, 1, 1, 1, 0, 0, 0, 1, 1, 1, 0, 0, 1, 0, 1, 0, 1, 1, 0, 1, 1, 0, 1, 1, 0, 0, 0, 0, 1, 0, 0, 0, 1, 0, 1, 1, 1, 0, 0, 0, 1, 1, 1, 0, 1, 0, 1, 0, 0, 0, 0, 0, 0, 1, 1, 0, 1, 1, 0, 1, 1, 0, 0, 1, 1, 0, 1, 0, 0, 0, 0, 0, 0, 1, 1, 1, 1, 0, 0, 0, 1, 0, 0, 0, 1, 1, 0, 1, 1, 1, 1, 0, 1, 1, 1, 0, 1, 1, 0, 1, 1, 0, 1, 1, 0, 1, 0, 1, 1, 1, 1, 1, 0, 0, 1, 1, 0, 0, 0, 0, 1, 0, 0, 0, 1, 0, 0, 0, 1, 0, 0, 1, 1, 0, 1, 0, 1, 0, 0, 0, 1, 0, 1, 0, 0, 0, 1, 1, 0, 1, 1, 1, 0, 1, 1, 1, 1, 0, 1, 0, 1, 1, 0, 1, 0, 1, 0, 1, 1, 1, 0, 1, 1, 0, 1, 1, 0, 1, 1, 0, 0, 0, 0, 1, 1, 1, 1, 0, 0, 1, 1, 1, 1, 1, 1, 0, 0, 0, 0, 0, 0, 1, 0, 1, 0, 1, 1, 1, 1, 1, 1, 0, 0, 0, 1, 0, 0, 1, 1, 1, 0, 0, 0, 0, 1, 1, 1, 1, 0, 1, 1, 1, 0, 1, 0, 1, 0, 1, 1, 0, 1, 1, 1, 0, 1, 0, 1, 0, 1, 1, 0, 1, 1, 0, 1, 1, 1, 0, 1, 1, 1, 1, 1, 1, 0, 0, 0, 1, 1, 0, 0, 1, 1, 1, 1, 0, 1, 0, 1, 1, 0, 1, 1, 1, 0, 1, 0, 0, 1, 1, 0, 1, 1, 1, 0, 1, 0, 0, 0, 1, 1, 1, 0, 0, 0, 0, 0, 0, 0, 1, 1, 0, 0, 1, 1, 0, 1, 0, 1, 1, 1, 1, 1, 0, 1, 0, 0, 1, 0, 0, 1, 1, 0, 0, 1, 0, 1, 1, 1, 1, 0, 1, 1, 1, 0, 1, 0, 1, 0, 0, 1, 0, 0, 1, 1, 1, 0, 1, 0, 1, 1, 1, 1, 0, 0, 1, 0, 1, 0, 1, 0, 1, 1, 1, 1, 0, 0, 1, 0, 1, 1, 1, 0, 0, 1, 1, 1, 0, 1, 1, 0, 0, 1, 1, 0, 1, 0, 0, 0, 0, 0, 1, 0, 0, 0, 1, 0, 1, 1, 1, 1, 0, 0, 1, 1, 0, 1, 1, 1, 1, 0, 1, 1, 1, 0, 1, 1, 0, 0, 1, 1, 0, 0, 0, 0, 0, 0, 1, 1, 1, 0, 0, 0, 0, 1, 1, 0, 0, 1, 0, 0, 0, 0, 1, 1, 1, 0, 1, 1, 1, 0, 0, 1, 0, 0, 0, 1, 0, 0, 0, 0, 1, 1, 0, 1, 0, 1, 0, 1, 0, 0, 0, 1, 1, 0, 0, 0, 0, 1, 0, 1, 1, 1, 0, 0, 1, 1, 0, 1, 1, 0, 0, 1, 0, 0, 1, 0, 0, 0, 1, 1, 0, 0, 1, 1, 0, 1, 0, 1, 1, 0, 1, 0, 1, 0, 1, 1, 1, 1, 1, 0, 1, 1, 0, 1, 0, 1, 0, 1, 0, 1, 0, 1, 0, 0, 1, 1, 1, 0, 1, 0, 1, 1, 1, 1, 1, 0, 1, 0, 1, 1, 0, 0, 1, 0, 0, 1, 1, 0, 0, 0, 1, 1, 1, 1, 1, 1, 1, 1, 1, 1, 1, 1, 0, 1, 1, 1, 1, 0, 1, 0, 0, 1, 0, 0, 1, 1, 0, 0, 0, 1, 1, 1, 1, 0, 0, 1, 0, 0, 0, 0, 0, 1, 0, 0, 1, 1, 1, 1, 0, 1, 0, 0, 0, 0, 0, 0, 0, 1, 0, 1, 0, 1, 0, 1, 0, 1, 0, 0, 0, 1, 0, 0, 1, 1, 0, 0, 1, 1, 1, 1, 1, 1, 1, 1, 1, 0, 1, 0, 0, 0, 0, 0, 0, 1, 1, 1, 0, 1, 0, 1, 1, 1, 1, 0, 1, 0, 0, 1, 1, 0, 0, 0, 1, 1, 1, 0, 0, 0, 1, 0, 1, 1, 1, 1, 1, 1, 0, 1, 0, 0, 1, 1, 0, 0, 0, 1, 1, 1, 1, 0, 0, 0, 1, 1, 0, 0, 1, 1, 0, 1, 0, 0, 0, 1, 0, 0, 1, 1, 0, 1, 1, 0, 0, 0, 1, 0, 0, 1, 1, 0, 1, 1, 0, 0, 1, 0, 1, 1, 0, 1, 1, 1, 1, 1, 0, 1, 1, 1, 0, 1, 1, 0, 0, 1, 1, 1, 0, 0, 1, 1, 0, 1, 0, 0, 1, 0, 1, 1, 1, 0, 1, 1, 0, 0, 0, 0, 0, 0, 1, 0, 1, 0, 0, 0, 1, 1, 0, 1, 0, 0, 0, 1, 0, 1, 0, 0, 1, 1, 0, 1, 0, 0, 0, 0, 1, 1, 0, 0, 0, 0, 0, 1, 1, 1, 1, 0, 1, 0, 1, 1, 0, 1, 0, 0, 1, 1, 1, 0, 0, 0, 1, 1, 0, 0, 1, 0, 1, 1, 1, 0, 0, 0, 0, 1, 0, 0, 1, 0, 1, 1, 1, 1, 0, 1, 1, 1, 1, 0, 0, 0, 0, 1, 0, 0, 1, 0, 0, 0, 0, 1, 0, 1, 0, 1, 0, 0, 1, 1, 0, 1, 1, 1, 0, 0, 0, 1, 1, 1, 1, 1, 0, 1, 1, 1, 1, 1, 1, 1, 0, 1, 0, 1, 0, 0, 0, 1, 1, 0, 1, 0, 0, 1, 1, 1, 0, 0, 1, 0, 1, 0, 0, 0, 0, 1, 1, 0, 1, 1, 0, 1, 0, 0, 1, 0, 0, 0, 1, 1, 1, 0, 1, 1, 1, 0, 0, 1, 0, 0, 1, 0, 0, 1, 1, 0, 1, 0, 1, 0, 0, 1, 1, 0, 1, 0, 1, 1, 0, 0, 1, 0, 0, 1, 1, 0, 1, 0, 1, 1, 1, 1, 1, 1, 0, 0, 1, 1, 1, 0, 0, 0, 1, 1, 0, 1, 0, 1, 0, 1, 0, 0, 1, 1, 0, 1, 0, 0, 1, 1, 1, 1, 0, 0, 1, 0, 0, 0, 1, 0, 1, 0, 0, 1, 0, 0, 1, 1, 0, 1, 1, 1, 1, 1, 0, 0, 0, 0, 1, 1, 0, 1, 0, 1, 1, 1, 1, 1, 1, 0, 1, 0, 0, 1, 1, 0, 1, 0, 1, 0, 0, 1, 0, 1, 1, 1, 0, 1, 0, 1, 0, 0, 0, 1, 1, 0, 0, 0, 0, 0, 1, 1, 1, 1, 1, 0, 1, 1, 0, 0, 0, 1, 1, 0, 0, 1, 0, 1, 1, 0, 0, 0, 1, 0, 1, 1, 0, 1, 1, 1, 0, 1, 0, 1, 1, 0, 0, 1, 0, 1, 1, 1, 0, 0, 1, 1, 0, 0, 1, 0, 0, 1, 0, 0, 0, 0, 1, 1, 1, 0, 0, 0, 0, 1, 1, 0, 0, 1, 1, 1, 0, 1, 0, 1, 1, 1, 0, 0, 0, 1, 0, 1, 0, 0, 0, 0, 1, 1, 0, 0, 1, 1, 1, 0, 1, 0, 0, 1, 1, 1, 1, 0, 0, 0, 1, 1, 1, 0, 0, 1, 1, 0, 0, 1, 1, 0, 0, 1, 0, 0, 0, 0, 0, 1, 1, 1, 0, 0, 1, 0, 1, 1, 0, 1, 1, 1, 0, 0, 0, 0, 1, 1, 1, 0, 0, 0, 0, 0, 0, 1, 1, 0, 1, 0, 0, 1, 1, 1, 0, 1, 1, 0, 1, 1, 1, 0, 0, 1, 0, 1, 1, 1, 1, 1, 0, 0, 1, 0, 0, 0, 0, 1, 0, 0, 1, 1, 0, 1, 1, 1, 0, 0, 0, 0, 1, 0, 0, 0, 1, 1, 1, 1, 1, 0, 1, 0, 0, 0, 1, 0, 0, 1, 1, 1, 0, 0, 0, 0, 1, 0, 0, 1, 1, 1, 0, 0, 0, 1, 1, 0, 0, 0, 0, 0, 0, 0, 0, 1, 1, 0, 0, 1, 0, 0, 0, 0, 1, 1, 0, 0, 0, 0, 1, 0, 0, 0, 1, 0, 1, 1, 1, 0, 0, 1, 1, 1, 0, 1, 1, 1, 0, 1, 0, 1, 0, 1, 1, 1, 0, 0, 0, 0, 0, 1, 0, 0, 0, 1, 0, 0, 0, 1, 0, 1, 0, 1, 1, 0, 1, 1, 1, 0, 1, 0, 1, 0, 1, 1, 1, 1, 0, 0, 1, 0, 1, 1, 0, 1, 1, 0, 1, 0, 1, 0, 0, 0, 1, 1, 0, 0, 0, 1, 0, 0, 0, 0, 1, 0, 0, 1, 0, 0, 1, 0, 0, 0, 0, 1, 1, 1, 1, 1, 1, 1, 1, 0, 0, 0, 1, 1, 0, 1, 0, 1, 1, 1, 0, 0, 0, 1, 0, 0, 0, 1, 1, 1, 1, 1, 1, 1, 1, 1, 1, 1, 1, 0, 1, 0, 0, 0, 0, 1, 0, 0, 0, 0, 0, 0, 1, 0, 1, 1, 1, 0, 1, 1, 1, 1, 1, 0, 0, 0, 0, 1, 0, 1, 1, 1, 1, 0, 1, 0, 0, 0, 1, 1, 0, 0, 0, 0, 0, 1, 0, 1, 0, 0, 1, 0, 1, 0, 1, 0, 1, 1, 0, 1, 1, 0, 1, 1, 0, 1, 1, 0, 1, 0, 1, 0, 1, 1, 0, 1, 1, 0, 1, 0, 1, 0, 1, 1, 0, 0, 1, 1, 0, 0, 1, 1, 1, 1, 1, 0, 1, 1, 0, 0, 0, 1, 1, 1, 1, 1, 1, 1, 0, 1, 1, 0, 1, 0, 0, 0, 0, 1, 0, 0, 0, 0, 0, 0, 0, 0, 1, 0, 1, 1, 1, 1, 0, 1, 1, 0, 0, 0, 0, 0, 0, 0, 0, 0, 0, 0, 1, 1, 1, 1, 1, 0, 1, 0, 1, 0, 0, 1, 0, 1, 0, 0, 1, 1, 1, 1, 0, 0, 1, 1, 1, 0, 1, 1, 1, 0, 0, 1, 1, 1, 1, 1, 0, 0, 0, 0, 1, 0, 0, 1, 1, 0, 0, 1, 0, 1, 0, 1, 0, 0, 1, 0, 1, 0, 1, 1, 0, 1, 1, 0, 0, 0, 0, 1, 1, 1, 1, 1, 0, 1, 1, 0, 0, 1, 0, 0, 0, 0, 0, 1, 0, 0, 1, 0, 1, 1, 1, 0, 1, 0, 0, 1, 0, 1, 1, 1, 0, 0, 1, 0, 0, 1, 0, 1, 1, 0, 1, 1, 1, 0, 0, 1, 1, 0, 0, 0, 0, 0, 1, 1, 0, 0, 1, 0, 0, 0, 0, 1, 1, 0, 0, 1, 1, 1, 0, 1, 1, 1, 0, 0, 1, 0, 0, 1, 1, 0, 0, 1, 1, 1, 1, 1, 1, 1, 1, 1, 1, 1, 1, 1, 0, 0, 1, 1, 1, 1, 0, 1, 0, 0, 1, 1, 0, 0, 0, 0, 0, 1, 1, 0, 1, 1, 1, 0, 1, 0, 0, 1, 0, 1, 1, 0, 1, 1, 1, 1, 0, 1, 1, 0, 0, 1, 0, 1, 0, 1, 0, 0, 0, 0, 0, 0, 0, 1, 0, 1, 0, 0, 0, 0, 0, 1, 0, 1, 0, 0, 0, 1, 0, 0, 0, 0, 1, 0, 0, 0, 1, 0, 1, 1, 0, 0, 1, 1, 1, 0, 0, 1, 0, 1, 1, 0, 1, 1, 1, 0, 0, 0, 0, 1, 1, 1, 0, 0, 1, 1, 0, 1, 0, 1, 0, 1, 1, 1, 1, 1, 1, 1, 0, 0, 0, 0, 1, 0, 0, 0, 0, 0, 0, 1, 1, 1, 0, 0, 0, 1, 1, 0, 1, 0, 0, 0, 1, 1, 1, 0, 1, 1, 1, 1, 0, 0, 0, 1, 1, 0, 1, 0, 1, 0, 0, 0, 1, 1, 0, 0, 1, 0, 1, 0, 0, 1, 0, 1, 0, 0, 0, 1, 1, 0, 0, 1, 1, 1, 0, 0, 0, 1, 0, 1, 0, 0, 0, 1, 0, 0, 1, 0, 0, 0, 0, 0, 1, 0, 1, 1, 1, 1, 0, 0, 1, 1, 0, 1, 1, 0, 0, 1, 0, 0, 1, 0, 0, 0, 0, 0, 1, 1, 0, 0, 0, 0, 0, 1, 0, 1, 0, 1, 1, 1, 1, 1, 1, 1, 1, 0, 0, 1, 1, 0, 1, 0, 0, 1, 1, 0, 1, 0, 0, 1, 1, 1, 1, 0, 0, 0, 0, 0, 1, 0, 0, 0, 1, 1, 1, 0, 1, 0, 0, 0, 0, 1, 1, 0, 1, 1, 0, 0, 0, 1, 0, 1, 1, 0, 1, 0, 0, 1, 0, 1, 0, 1, 1, 0, 0, 0, 0, 1, 0, 1, 1, 0, 0, 0, 1, 1, 1, 1, 1, 1, 1, 0, 0, 1, 1, 0, 1, 1, 1, 0, 1, 0, 1, 0, 0, 1, 1, 1, 1, 0, 1, 1, 0, 0, 0, 0, 0, 1, 0, 0, 1, 0, 1, 0, 1, 1, 0, 0, 1, 0, 1, 1, 1, 1, 0, 1, 0, 1, 0, 0, 1, 0, 1, 1, 1, 1, 0, 1, 1, 1, 0, 1, 0, 1, 1, 0, 0, 1, 1, 1, 0, 1, 1, 0, 1, 1, 0, 0, 0, 1, 0, 1, 1, 1, 1, 1, 1, 0, 1, 1, 1, 1, 1, 0, 0, 0, 1, 0, 1, 0, 1, 1, 1, 0, 1, 1, 0, 0, 0, 1, 1, 0, 1, 1, 1, 1, 0, 0, 0, 1, 1, 1, 1, 0, 1, 0, 0, 0, 1, 1, 1, 1, 1, 0, 1, 0, 0, 1, 0, 1, 0, 0, 0, 0, 0, 0, 0, 0, 0, 1, 0, 0, 0, 1, 1, 1, 1, 1, 1, 0, 1, 0, 1, 1, 1, 0, 0, 1, 0, 0, 0, 0, 1, 1, 0, 0, 0, 0, 0, 1, 0, 1, 0, 0, 0, 1, 0, 0, 1, 1, 0, 1, 0, 0, 1, 1, 0, 1, 1, 0, 0, 0, 1, 1, 0, 1, 1, 0, 0, 1, 1, 0, 1, 0, 0, 0, 0, 1, 1, 1, 1, 1, 1, 0, 1, 0, 1, 1, 1, 0, 0, 1, 0, 1, 1, 1, 1, 1, 1, 0, 0, 1, 1, 0, 0, 1, 0, 0, 0, 0, 1, 0, 1, 1, 0, 0, 1, 0, 1, 0, 0, 0, 0, 1, 0, 0, 1, 1, 0, 1, 1, 1, 1, 0, 0, 1, 1, 0, 1, 1, 1, 1, 1, 1, 0, 1, 1, 0, 1, 0, 1, 1, 1, 0, 0, 1, 0, 1, 1, 0, 1, 1, 0, 0, 0, 1, 1, 0, 0, 1, 1, 1, 1, 0, 0, 1, 0, 0, 0, 1, 1, 1, 0, 0, 0, 1, 0, 0, 0, 1, 1, 0, 0, 1, 1, 0, 0, 0, 1, 0, 0, 1, 1, 1, 1, 0, 1, 1, 1, 0, 1, 0, 1, 0, 1, 0, 1, 1, 0, 1, 1, 1, 0, 1, 0, 0, 0, 1, 1, 0, 1, 1, 1, 1, 0, 1, 0, 1, 0, 1, 1, 0, 1, 1, 1, 0, 1, 1, 0, 0, 0, 1, 0, 1, 1, 0, 0, 1, 0, 0, 1, 0, 1, 0, 1, 1, 0, 1, 0, 1, 0, 0, 1, 0, 1, 1, 1, 1, 1, 0, 0, 0, 0, 1, 1, 1, 0, 1, 1, 0, 1, 0, 1, 1, 1, 0, 0, 0, 1, 1, 1, 1, 1, 0, 1, 1, 0, 1, 1, 1, 1, 1, 0, 0, 1, 1, 1, 0, 0, 0, 0, 0, 0, 1, 1, 0, 1, 0, 0, 0, 1, 0, 0, 1, 1, 0, 0, 0, 1, 0, 1, 0, 1, 1, 0, 0, 0, 1, 0, 1, 0, 1, 0, 1, 1, 0, 0, 0, 0, 1, 1, 1, 1, 1, 0, 1, 0, 0, 1, 0, 1, 0, 1, 0, 1, 1, 1, 1, 1, 1, 1, 1, 1, 0, 0, 1, 1, 1, 1, 0, 1, 0, 1, 1, 1, 1, 0, 1, 0, 1, 0, 1, 1, 1, 1, 0, 0, 1, 0, 0, 0, 0, 0, 1, 0, 0, 1, 0, 0, 0, 0, 0, 0, 0, 1, 1, 0, 0, 0, 0, 1, 1, 0, 0, 0, 1, 0, 0, 0, 1, 0, 1, 1, 0, 0, 1, 1, 0, 0, 1, 0, 0, 1, 0, 0, 0, 1, 1, 0, 0, 0, 1, 1, 1, 0, 0, 0, 1, 0, 1, 0, 1, 1, 1, 1, 0, 0, 1, 1, 1, 1, 0, 0, 0, 0, 1, 1, 1, 1, 1, 0, 0, 0, 0, 0, 0, 1, 1, 0, 1, 1, 0, 0, 1, 1, 0, 1, 0, 1, 0, 0, 0, 0, 1, 0, 1, 1, 0, 1, 0, 1, 0, 0, 0, 0, 1, 1, 0, 0, 1, 1, 1, 1, 0, 1, 0, 1, 1, 0, 1, 1, 0, 1, 1, 0, 0, 0, 0, 0, 1, 1, 0, 1, 0, 0, 1, 1, 0, 1, 1, 0, 0, 0, 1, 1, 1, 0, 1, 1, 0, 1, 0, 0, 1, 1, 0, 1, 0, 0, 1, 0, 0, 1, 1, 0, 0, 0, 0, 1, 1, 0, 1, 0, 0, 1, 1, 0, 1, 0, 1, 0, 1, 1, 0, 1, 1, 0, 0, 0, 0, 0, 1, 1, 0, 0, 0, 1, 1, 0, 1, 1, 0, 0, 1, 0, 1, 0, 1, 1, 0, 0, 0, 0, 0, 1, 0, 1, 1, 0, 1, 1, 0, 0, 0, 0, 0, 1, 0, 0, 0, 0, 1, 0, 0, 1, 0, 1, 0, 0, 0, 1, 0, 1, 1, 0, 0, 1, 1, 0, 0, 0, 0, 0, 1, 0, 0, 1, 0, 0, 1, 1, 1, 0, 0, 0, 0, 0, 1, 1, 1, 0, 1, 1, 1, 1, 1, 0, 0, 0, 0, 1, 1, 0, 1, 0, 1, 0, 0, 0, 1, 1, 1, 1, 1, 1, 1, 1, 0, 0, 1, 0, 0, 1, 1, 0, 0, 1, 1, 0, 1, 0, 1, 1, 1, 0, 1, 0, 0, 1, 0, 1, 0, 1, 0, 0, 1, 1, 0, 0, 0, 1, 1, 0, 1, 1, 0, 0, 0, 1, 1, 0, 1, 0, 0, 0, 0, 1, 1, 0, 0, 1, 1, 0, 1, 1, 0, 0, 1, 1, 1, 1, 1, 0, 1, 1, 0, 1, 1, 0, 1, 0, 0, 1, 1, 1, 1, 1, 1, 1, 0, 0, 1, 1, 1, 1, 1, 1, 1, 1, 1, 0, 1, 1, 1, 0, 0, 1, 0, 1, 1, 0, 0, 1, 1, 0, 0, 0, 1, 0, 1, 1, 1, 0, 0, 0, 0, 1, 0, 1, 1, 1, 0, 1, 0, 1, 1, 0, 1, 0, 0, 0, 1, 0, 0, 1, 1, 1, 0, 0, 1, 1, 1, 1, 0, 0, 0, 0, 1, 1, 1, 1, 1, 0, 0, 0, 0, 0, 0, 0, 1, 0, 0, 0, 1, 1, 1, 1, 1, 0, 1, 0, 0, 1, 0, 1, 0, 0, 1, 0, 0, 1, 0, 0, 1, 0, 1, 1, 0, 0, 1, 0, 1, 0, 0, 1, 1, 0, 0, 1, 0, 0, 1, 0, 1, 0, 1, 0, 0, 1, 0, 1, 0, 0, 1, 0, 1, 1, 1, 1, 0, 0, 1, 0, 0, 0, 0, 0, 0, 1, 1, 0, 1, 0, 0, 0, 0, 0, 1, 1, 1, 0, 1, 0, 0, 0, 1, 0, 0, 1, 0, 1, 1, 1, 1, 1, 1, 0, 0, 1, 0, 1, 0, 0, 0, 1, 0, 0, 0, 0, 0, 0, 1, 1, 1, 0, 1, 0, 0, 1, 1, 1, 0, 1, 1, 1, 0, 1, 1, 0, 1, 1, 1, 0, 0, 1, 0, 1, 0, 1, 0, 0, 1, 0, 0, 1, 1, 1, 1, 0, 1, 0, 0, 1, 1, 1, 1, 0, 0, 1, 0, 0, 0, 0, 1, 0, 1, 1, 1, 0, 0, 1, 0, 1, 0, 0, 1, 0, 1, 1, 0, 1, 1, 0, 1, 1, 1, 0, 1, 0, 0, 0, 1, 1, 1, 1, 1, 1, 1, 1, 0, 1, 1, 1, 0, 0, 0, 1, 0, 1, 1, 0, 0, 1, 1, 0, 0, 1, 0, 1, 1, 1, 1, 0, 1, 1, 0, 1, 0, 0, 0, 1, 1, 0, 1, 0, 1, 1, 1, 1, 1, 0, 1, 1, 1, 1, 1, 1, 1, 1, 0, 0, 0, 0, 1, 0, 0, 1, 0, 0, 0, 1, 1, 0, 0, 0, 0, 1, 0, 0, 1, 1, 0, 0, 1, 0, 1, 0, 1, 1, 0, 1, 1, 1, 0, 0, 1, 1, 0, 1, 0, 1, 0, 1, 1, 0, 1, 0, 0, 1, 1, 0, 0, 1, 0, 1, 0, 0, 1, 0, 1, 0, 1, 1, 0, 0, 0, 1, 1, 1, 0, 0, 0, 0, 1, 0, 1, 1, 1, 1, 0, 1, 0, 0, 0, 0, 1, 1, 1, 0, 1, 0, 1, 1, 1, 0, 0, 0, 0, 1, 1, 1, 1, 1, 1, 0, 1, 1, 1, 1, 1, 1, 1, 1, 0, 1, 0, 0, 0, 0, 1, 0, 0, 0, 0, 0, 0, 1, 1, 0, 1, 0, 1, 1, 0, 0, 1, 0, 1, 0, 0, 1, 0, 1, 0, 1, 0, 0, 1, 0, 0, 1, 1, 0, 0, 0, 0, 1, 1, 1, 1, 1, 1, 0, 1, 1, 0, 0, 0, 1, 1, 1, 1, 0, 1, 1, 0, 1, 1, 0, 0, 0, 0, 0, 1, 0, 1, 0, 0, 0, 0, 1, 1, 1, 1, 0, 0, 0, 0, 1, 1, 1, 0, 0, 0, 1, 1, 1, 1, 1, 0, 1, 0, 0, 0, 1, 1, 1, 0, 1, 0, 0, 1, 0, 1, 0, 0, 1, 1, 1, 0, 0, 0, 0, 1, 0, 0, 1, 0, 1, 0, 1, 0, 1, 1, 1, 0, 0, 0, 0, 1, 1, 1, 1, 1, 1, 1, 1, 1, 1, 0, 1, 0, 1, 1, 0, 1, 0, 0, 1, 0, 0, 0, 1, 0, 0, 1, 0, 0, 1, 0, 0, 1, 1, 1, 1, 1, 0, 0, 0, 1, 1, 0, 0, 1, 1, 1, 1, 0, 0, 1, 1, 1, 1, 1, 0, 1, 1, 1, 1, 1, 1, 0, 0, 1, 0, 1, 1, 0, 0, 1, 1, 1, 1, 1, 1, 0, 1, 1, 0, 1, 0, 1, 0, 0, 1, 0, 0, 0, 1, 1, 1, 0, 0, 0, 0, 1, 1, 0, 1, 0, 0, 0, 0, 0, 1, 0, 1, 1, 0, 0, 0, 1, 0, 0, 1, 1, 1, 0, 1, 1, 0, 1, 1, 1, 1, 1, 1, 1, 1, 0, 0, 0, 0, 0, 0, 0, 1, 0, 1, 0, 1, 0, 0, 0, 1, 0, 0, 0, 0, 1, 0, 1, 0, 0, 1, 1, 0, 0, 0, 0, 1, 0, 0, 1, 0, 1, 1, 0, 0, 1, 0, 0, 1, 0, 0, 0, 0, 1, 1, 0, 1, 0, 0, 1, 0, 1, 0, 1, 1, 0, 1, 0, 0, 1, 1, 1, 1, 1, 1, 0, 1, 0, 0, 0, 0, 1, 1, 1, 0, 1, 1, 1, 0, 0, 0, 1, 1, 0, 1, 1, 0, 1, 1, 1, 1, 0, 1, 0, 1, 1, 0, 1, 0, 0, 1, 1, 0, 0, 0, 1, 1, 0, 0, 0, 1, 0, 1, 1, 0, 1, 1, 0, 1, 0, 0, 1, 1, 0, 0, 0, 1, 1, 1, 1, 0, 0, 1, 1, 0, 0, 1, 1, 1, 1, 0, 0, 0, 1, 1, 0, 1, 1, 0, 0, 0, 0, 0, 0, 0, 1, 0, 0, 1, 0, 1, 0, 1, 0, 0, 1, 1, 0, 0, 0, 1, 1, 0, 1, 0, 0, 0, 1, 0, 0, 1, 1, 1, 1, 1, 0, 1, 1, 1, 0, 1, 0, 0, 0, 1, 0, 0, 1, 0, 1, 1, 1, 0, 0, 1, 1, 0, 0, 1, 0, 0, 0, 0, 0, 0, 0, 0, 0, 1, 1, 0, 1, 1, 0, 0, 1, 1, 1, 1, 0, 0, 0, 0, 1, 0, 0, 0, 1, 1, 1, 1, 0, 1, 1, 0, 1, 1, 0, 0, 0, 1, 1, 0, 1, 0, 1, 1, 1, 1, 0, 0, 0, 0, 0, 1, 1, 0, 0, 0, 1, 0, 0, 0, 0, 0, 0, 1, 0, 0, 1, 0, 1, 0, 1, 1, 0, 1, 0, 0, 1, 1, 0, 1, 0, 0, 1, 0, 0, 1, 0, 1, 1, 1, 1, 0, 1, 0, 1, 1, 0, 0, 1, 0, 1, 1, 1, 1, 1, 0, 0, 0, 0, 1, 0, 1, 0, 0, 0, 1, 1, 0, 0, 0, 1, 0, 0, 1, 0, 1, 1, 1, 0, 0, 0, 1, 1, 0, 0, 1, 1, 1, 0, 1, 1, 1, 1, 1, 1, 0, 1, 0, 0, 1, 1, 1, 0, 1, 1, 1, 0, 0, 0, 1, 0, 1, 1, 1, 1, 1, 1, 1, 1, 0, 0, 1, 0, 1, 0, 1, 1, 1, 1, 1, 0, 1, 1, 0, 0, 0, 0, 1, 1, 0, 0, 1, 0, 0, 1, 0, 1, 1, 0, 1, 0, 0, 0, 0, 0, 1, 1, 0, 1, 0, 1, 0, 1, 1, 0, 0, 1, 0, 0, 1, 1, 0, 0, 0, 1, 0, 1, 0, 0, 1, 1, 1, 0, 0, 1, 1, 1, 1, 0, 1, 1, 1, 0, 0, 1, 1, 0, 0, 0, 0, 1, 1, 0, 0, 0, 0, 0, 0, 1, 0, 0, 1, 0, 0, 1, 1, 0, 1, 0, 1, 1, 0, 1, 1, 1, 0, 1, 1, 1, 1, 1, 0, 1, 1, 0, 0, 0, 1, 1, 1, 1, 0, 0, 0, 0, 1, 0, 0, 1, 1, 0, 1, 0, 1, 0, 1, 1, 1, 1, 0, 0, 0, 1, 1, 1, 1, 1, 0, 1, 1, 1, 0, 0, 0, 1, 0, 1, 0, 0, 1, 1, 0, 1, 1, 0, 0, 0, 0, 1, 0, 0, 0, 0, 0, 0, 0, 1, 0, 0, 1, 0, 0, 1, 0, 1, 1, 0, 1, 0, 1, 1, 0, 1, 1, 1, 1, 1, 0, 1, 0, 1, 0, 0, 1, 0, 0, 0, 1, 1, 0, 1, 0, 1, 1, 0, 0, 1, 0, 0, 1, 0, 0, 1, 1, 0, 0, 0, 0, 0, 0, 0, 0, 1, 0, 0, 0, 1, 1, 1, 0, 1, 0, 1, 0, 1, 0, 0, 1, 1, 1, 0, 0, 0, 0, 0, 0, 1, 1, 0, 1, 0, 0, 0, 0, 0, 0, 0, 1, 0, 1, 1, 1, 0, 0, 1, 1, 0, 1, 0, 1, 0, 0, 0, 0, 0, 1, 0, 1, 0, 1, 1, 0, 1, 0, 0, 0, 1, 0, 0, 1, 0, 1, 0, 0, 0, 0, 1, 1, 0, 1, 1, 0, 0, 1, 1, 1, 1, 1, 0, 0, 0, 1, 0, 0, 0, 1, 1, 0, 0, 0, 1, 0, 0, 0, 1, 0, 1, 1, 0, 1, 1, 0, 1, 0, 0, 1, 1, 0, 1, 1, 1, 0, 0, 1, 1, 1, 0, 0, 0, 1, 1, 0, 1, 0, 1, 0, 0, 0, 1, 0, 1, 0, 1, 0, 0, 0, 1, 0, 1, 1, 1, 1, 1, 1, 0, 0, 1, 1, 1, 1, 1, 0, 0, 0, 0, 1, 1, 0, 1, 0, 1, 0, 0, 1, 1, 1, 1, 0, 1, 1, 1, 0, 0, 0, 1, 1, 0, 1, 1, 1, 0, 1, 1, 1, 0, 1, 0, 1, 0, 1, 1, 0, 1, 1, 0, 1, 0, 1, 1, 0, 0, 0, 1, 0, 1, 1, 0, 1, 1, 1, 0, 1, 0, 0, 1, 0, 1, 1, 0, 1, 0, 0, 1, 0, 1, 0, 1, 0, 0, 1, 1, 1, 1, 0, 1, 0, 0, 1, 0, 1, 0, 1, 0, 0, 1, 0, 0, 0, 0, 0, 0, 1, 1, 1, 1, 1, 0, 1, 1, 1, 1, 0, 0, 1, 1, 0, 0, 1, 0, 0, 1, 0, 0, 0, 1, 1, 0, 1, 0, 1, 1, 1, 0, 1, 0, 1, 1, 1, 0, 0, 1, 1, 0, 0, 1, 0, 1, 1, 1, 1, 0, 1, 1, 1, 0, 1, 1, 1, 1, 1, 1, 0, 1, 1, 1, 0, 1, 0, 1, 0, 0, 1, 0, 1, 1, 1, 0, 1, 0, 1, 1, 1, 1, 0, 0, 1, 1, 1, 0, 0, 1, 0, 0, 0, 0, 0, 0, 0, 0, 0, 1, 0, 1, 0, 1, 0, 1, 0, 1, 0, 1, 1, 1, 0, 0, 1, 0, 0, 1, 0, 0, 0, 0, 0, 1, 1, 0, 0, 0, 0, 1, 1, 1, 1, 1, 0, 0, 0, 0, 1, 0, 0, 1, 0, 1, 1, 0, 0, 1, 1, 0, 0, 1, 0, 1, 1, 1, 1, 1, 1, 1, 0, 1, 0, 1, 0, 0, 1, 0, 0, 1, 1, 1, 1, 1, 1, 0, 0, 1, 1, 0, 0, 1, 0, 1, 1, 1, 1, 1, 1, 1, 1, 1, 1, 1, 0, 1, 1, 1, 0, 1, 0, 1, 1, 0, 1, 1, 1, 0, 1, 0, 1, 1, 0, 0, 0, 1, 0, 0, 0, 0, 1, 1, 0, 0, 1, 0, 0, 0, 0, 1, 1, 1, 0, 1, 1, 1, 0, 0, 1, 1, 1, 0, 0, 0, 0, 1, 0, 1, 1, 0, 1, 0, 0, 1, 0, 1, 0, 1, 0, 0, 0, 0, 0, 0, 1, 0, 1, 0, 0, 0, 0, 1, 0, 1, 1, 0, 1, 1, 1, 1, 0, 1, 1, 0, 1, 0, 0, 0, 1, 1, 1, 0, 0, 1, 1, 1, 0, 1, 0, 0, 1, 0, 0, 1, 0, 1, 0, 0, 0, 0, 1, 0, 1, 1, 1, 0, 0, 1, 1, 0, 0, 0, 0, 1, 0, 0, 1, 0, 1, 0, 0, 0, 1, 1, 0, 0, 0, 0, 1, 0, 0, 0, 0, 0, 0, 0, 0, 0, 1, 0, 0, 0, 0, 1, 0, 1, 1, 0, 0, 1, 1, 1, 1, 0, 0, 0, 0, 0, 0, 0, 1, 0, 1, 1, 0, 0, 1, 0, 1, 1, 0, 1, 0, 1, 1, 0, 0, 1, 1, 1, 0, 1, 0, 1, 0, 0, 0, 1, 0, 1, 1, 0, 0, 1, 0, 0, 0, 1, 1, 0, 0, 0, 0, 1, 0, 0, 0, 0, 0, 1, 1, 0, 1, 0, 1, 0, 0, 1, 0, 0, 1, 0, 1, 1, 1, 1, 1, 0, 0, 1, 1, 0, 1, 0, 0, 1, 1, 1, 1, 0, 0, 1, 0, 0, 0, 1, 0, 0, 0, 1, 1, 0, 1, 1, 1, 0, 1, 1, 0, 0, 0, 0, 0, 1, 1, 0, 0, 0, 1, 1, 1, 0, 1, 1, 0, 0, 1, 1, 0, 0, 1, 1, 0, 1, 1, 1, 1, 1, 1, 1, 0, 0, 0, 0, 0, 0, 0, 0, 1, 0, 1, 1, 1, 0, 0, 0, 1, 1, 1, 1, 1, 0, 0, 0, 0, 1, 0, 1, 1, 0, 0, 1, 0, 0, 0, 0, 1, 1, 0, 1, 0, 0, 0, 0, 1, 1, 1, 0, 1, 1, 1, 1, 1, 0, 0, 0, 1, 0, 0, 1, 1, 0, 1, 1, 1, 1, 1, 1, 1, 1, 0, 0, 0, 1, 0, 1, 1, 0, 1, 0, 1, 0, 1, 0, 0, 0, 0, 0, 1, 1, 0, 0, 0, 0, 1, 1, 0, 0, 0, 0, 1, 1, 0, 1, 1, 0, 1, 0, 0, 0, 1, 1, 0, 1, 0, 1, 0, 1, 1, 1, 0, 1, 0, 0, 1, 1, 1, 1, 1, 0, 1, 0, 1, 1, 1, 1, 1, 1, 0, 0, 1, 0, 0, 1, 0, 1, 0, 1, 1, 0, 1, 1, 1, 0, 0, 1, 1, 1, 0, 1, 0, 1, 1, 0, 0, 0, 1, 1, 0, 1, 0, 1, 0, 0, 1, 0, 1, 0, 0, 1, 1, 1, 1, 0, 0, 1, 0, 1, 1, 0, 0, 1, 0, 0, 0, 0, 0, 1, 1, 0, 1, 1, 0, 1, 1, 0, 0, 0, 1, 1, 0, 0, 1, 1, 0, 1, 0, 0, 0, 0, 1, 0, 1, 0, 1, 0, 1, 1, 1, 0, 1, 0, 0, 0, 1, 0, 1, 1, 0, 1, 1, 1, 0, 1, 0, 0, 1, 0, 1, 1, 1, 0, 0, 0, 1, 0, 0, 0, 0, 0, 0, 1, 0, 1, 1, 1, 1, 0, 0, 1, 0, 0, 0, 1, 1, 0, 1, 1, 0, 0, 0, 0, 0, 0, 1, 0, 1, 0, 1, 1, 1, 1, 0, 0, 0, 0, 1, 1, 1, 1, 0, 1, 1, 1, 1, 0, 1, 0, 0, 1, 0, 1, 0, 1, 1, 1, 1, 0, 1, 1, 1, 0, 1, 0, 0, 1, 0, 0, 1, 1, 0, 1, 1, 0, 0, 0, 0, 0, 1, 0, 1, 1, 0, 1, 1, 1, 0, 1, 0, 0, 1, 1, 1, 0, 1, 1, 0, 1, 1, 0, 1, 0, 0, 0, 1, 1, 0, 0, 1, 1, 1, 1, 1, 0, 0, 0, 1, 0, 0, 0, 0, 0, 0, 0, 1, 1, 1, 0, 0, 0, 0, 1, 0, 1, 1, 0, 0, 0, 0, 1, 1, 1, 1, 0, 0, 0, 1, 1, 0, 0, 0, 1, 1, 1, 0, 0, 0, 0, 1, 0, 0, 1, 1, 1, 1, 1, 0, 0, 0, 0, 1, 1, 0, 0, 1, 1, 0, 1, 1, 0, 0, 0, 1, 0, 0, 1, 0, 1, 1, 1, 1, 0, 0, 0, 0, 0, 1, 1, 1, 1, 0, 0, 0, 1, 1, 1, 0, 1, 0, 1, 0, 0, 1, 0, 1, 0, 0, 0, 1, 1, 1, 0, 1, 1, 0, 0, 0, 0, 1, 1, 0, 0, 1, 0, 1, 0, 0, 1, 1, 1, 1, 1, 1, 1, 0, 0, 1, 1, 1, 0, 0, 1, 1, 1, 0, 0, 1, 1, 0, 0, 1, 0, 1, 1, 1, 0, 0, 1, 1, 0, 0, 1, 1, 1, 1, 1, 1, 1, 1, 0, 1, 1, 0, 0, 1, 1, 0, 0, 0, 1, 0, 0, 1, 0, 1, 1, 0, 0, 1, 0, 0, 1, 1, 1, 1, 0, 1, 0, 0, 1, 1, 0, 1, 1, 1, 1, 0, 0, 1, 0, 0, 1, 1, 0, 0, 0, 1, 1, 0, 1, 1, 0, 1, 1, 1, 1, 0, 0, 1, 1, 0, 1, 1, 1, 1, 1, 1, 0, 1, 0, 0, 1, 0, 1, 1, 0, 0, 0, 0, 0, 0, 1, 1, 0, 0, 1, 1, 1, 1, 0, 0, 1, 0, 0, 1, 0, 1, 0, 0, 1, 0, 0, 1, 1, 0, 0, 0, 1, 0, 0, 1, 1, 0, 1, 1, 1, 1, 1, 1, 1, 1, 0, 1, 0, 0, 1, 1, 0, 1, 0, 0, 1, 0, 0, 0, 0, 0, 0, 0, 1, 0, 1, 0, 0, 1, 0, 1, 0, 0, 1, 0, 0, 1, 1, 0, 1, 0, 1, 1, 1, 1, 1, 1, 1, 0, 1, 0, 1, 0, 1, 1, 1, 0, 0, 1, 1, 0, 1, 0, 0, 1, 1, 1, 0, 0, 0, 0, 0, 1, 1, 0, 1, 0, 0, 0, 0, 0, 0, 1, 0, 0, 0, 1, 0, 0, 1, 1, 0, 0, 1, 0, 1, 1, 0, 0, 0, 1, 0, 1, 1, 0, 1, 0, 1, 0, 1, 1, 1, 1, 0, 0, 1, 0, 1, 0, 1, 0, 0, 1, 1, 0, 0, 0, 1, 0, 1, 0, 0, 1, 1, 0, 0, 1, 1, 0, 1, 0, 0, 1, 1, 1, 1, 1, 0, 1, 0, 1, 1, 0, 1, 1, 1, 1, 0, 0, 0, 1, 1, 1, 0, 1, 1, 1, 0, 0, 0, 0, 1, 1, 1, 0, 0, 0, 0, 0, 1, 0, 0, 1, 1, 1, 1, 0, 1, 0, 0, 1, 1, 1, 1, 0, 0, 1, 1, 1, 1, 1, 0, 1, 0, 1, 0, 1, 1, 0, 1, 1, 0, 1, 1, 0, 0, 1, 0, 0, 0, 0, 1, 1, 0, 1, 1, 1, 0, 1, 0, 0, 1, 0, 1, 0, 0, 0, 0, 0, 1, 1, 0, 0, 1, 1, 0, 0, 1, 1, 1, 0, 0, 0, 0, 1, 0, 0, 1, 1, 1, 0, 0, 0, 1, 0, 1, 1, 1, 0, 0, 1, 0, 0, 1, 1, 1, 1, 1, 1, 0, 0, 0, 1, 1, 0, 0, 0, 1, 1, 0, 1, 1, 1, 1, 1, 0, 0, 1, 0, 1, 0, 0, 0, 0, 1, 1, 0, 1, 0, 1, 1, 0, 1, 0, 0, 0, 1, 1, 0, 0, 1, 1, 0, 1, 0, 0, 1, 0, 0, 0, 0, 1, 0, 0, 0, 1, 0, 0, 1, 1, 1, 1, 0, 1, 0, 0, 0, 1, 1, 0, 0, 0, 1, 0, 0, 1, 1, 0, 0, 1, 0, 0, 0, 0, 1, 1, 1, 1, 0, 0, 1, 0, 1, 0, 1, 1, 1, 1, 0, 1, 0, 0, 0, 0, 0, 1, 0, 0, 0, 0, 1, 0, 0, 0, 1, 1, 0, 1, 0, 1, 0, 1, 0, 0, 0, 1, 1, 0, 0, 0, 0, 1, 0, 0, 1, 0, 1, 0, 0, 1, 1, 1, 0, 0, 0, 0, 1, 0, 1, 1, 1, 0, 1, 0, 0, 0, 0, 0, 0, 0, 0, 1, 0, 1, 1, 0, 1, 0, 0, 1, 1, 0, 0, 1, 1, 1, 0, 1, 0, 0, 0, 0, 0, 1, 1, 0, 0, 1, 0, 1, 0, 0, 0, 0, 0, 1, 0, 1, 0, 0, 1, 1, 0, 0, 0, 0, 1, 1, 1, 0, 0, 0, 1, 0, 0, 1, 0, 0, 1, 0, 0, 1, 1, 0, 1, 1, 1, 0, 0, 0, 1, 0, 0, 0, 1, 1, 1, 0, 0, 0, 1, 1, 1, 0, 1, 0, 1, 0, 1, 1, 1, 0, 0, 0, 0, 0, 0, 1, 0, 0, 0, 0, 1, 1, 1, 1, 1, 0, 1, 0, 1, 1, 0, 1, 1, 0, 1, 1, 0, 0, 0, 1, 0, 0, 0, 0, 1, 0, 1, 0, 1, 0, 1, 1, 1, 0, 0, 0, 0, 0, 0, 0, 0, 1, 1, 1, 1, 1, 0, 1, 1, 0, 0, 1, 1, 1, 0, 0, 1, 1, 0, 0, 0, 0, 1, 1, 0, 1, 0, 1, 0, 1, 0, 1, 0, 1, 1, 0, 1, 0, 1, 0, 0, 0, 0, 1, 1, 0, 1, 0, 1, 1, 0, 0, 0, 0, 0, 1, 0, 0, 0, 0, 1, 0, 0, 0, 0, 1, 1, 1, 0, 0, 1, 0, 0, 0, 0, 1, 0, 1, 1, 0, 1, 0, 1, 0, 0, 1, 0, 1, 1, 0, 0, 0, 1, 0, 1, 0, 1, 0, 0, 0, 1, 0, 0, 0, 1, 1, 0, 1, 1, 0, 0, 1, 1, 0, 1, 1, 0, 0, 1, 1, 1, 0, 1, 1, 1, 1, 0, 0, 1, 0, 0, 1, 1, 0, 1, 1, 1, 1, 1, 0, 1, 0, 0, 1, 0, 1, 1, 1, 0, 0, 1, 0, 0, 0, 0, 0, 1, 1, 1, 1, 0, 1, 1, 0, 1, 0, 0, 0, 0, 0, 0, 0, 0, 0, 0, 1, 0, 1, 0, 0, 1, 0, 0, 0, 1, 1, 1, 0, 0, 1, 0, 0, 1, 0, 1, 1, 0, 1, 0, 1, 1, 0, 1, 1, 0, 1, 0, 1, 0, 1, 0, 0, 1, 0, 0, 1, 1, 0, 1, 0, 1, 1, 1, 0, 0, 1, 1, 1, 0, 0, 1, 1, 0, 0, 0, 0, 1, 0, 0, 0, 0, 0, 1, 0, 1, 1, 1, 0, 0, 1, 1, 1, 1, 0, 0, 0, 0, 1, 0, 1, 0, 0, 0, 1, 0, 1, 0, 1, 1, 0, 1, 0, 0, 0, 1, 1, 1, 1, 1, 1, 0, 1, 0, 1, 1, 0, 0, 1, 1, 1, 0, 1, 0, 0, 1, 1, 1, 1, 0, 0, 1, 1, 1, 1, 0, 1, 1, 0, 0, 1, 1, 0, 0, 0, 1, 1, 1, 1, 0, 0, 0, 0, 0, 1, 1, 1, 0, 1, 1, 1, 1, 0, 0, 0, 1, 0, 1, 0, 1, 1, 1, 1, 0, 1, 0, 1, 0, 1, 1, 0, 0, 0, 0, 0, 1, 0, 1, 0, 1, 0, 1, 0, 1, 0, 0, 0, 0, 0, 1, 1, 0, 0, 0, 0, 0, 0, 0, 1, 0, 1, 0, 0, 0, 0, 1, 1, 0, 1, 0, 1, 1, 1, 0, 1, 0, 0, 0, 1, 0, 0, 1, 1, 1, 0, 1, 1, 0, 1, 1, 1, 1, 1, 0, 1, 0, 0, 1, 0, 0, 1, 0, 1, 1, 0, 1, 1, 1, 0, 0, 0, 0, 1, 1, 0, 0, 1, 1, 0, 1, 0, 0, 1, 1, 0, 0, 0, 0, 0, 1, 0, 1, 1, 1, 1, 1, 0, 1, 0, 0, 1, 0, 0, 0, 0, 1, 0, 0, 1, 1, 0, 1, 0, 1, 1, 0, 0, 0, 0, 0, 0, 0, 0, 0, 0, 0, 1, 1, 0, 1, 1, 0, 1, 0, 1, 0, 0, 1, 0, 1, 0, 1, 1, 1, 0, 0, 1, 0, 0, 1, 0, 0, 0, 0, 0, 1, 0, 1, 1, 1, 1, 1, 1, 1, 0, 1, 0, 1, 0, 1, 1, 0, 1, 1, 0, 0, 1, 1, 0, 0, 1, 1, 1, 1, 0, 0, 0, 0, 0, 0, 0, 0, 1, 0, 0, 1, 0, 1, 1, 0, 0, 1, 0, 0, 1, 0, 0, 0, 0, 1, 1, 1, 1, 1, 1, 0, 0, 0, 1, 1, 0, 0, 1, 1, 0, 1, 0, 1, 0, 1, 0, 0, 1, 0, 1, 0, 1, 0, 0, 0, 1, 1, 0, 0, 0, 1, 1, 1, 0, 0, 0, 1, 0, 1, 0, 1, 1, 0, 1, 0, 1, 0, 1, 1, 0, 1, 1, 0, 0, 1, 1, 1, 1, 1, 0, 1, 0, 0, 0, 1, 0, 0, 0, 1, 1, 0, 0, 0, 0, 0, 1, 0, 0, 1, 1, 1, 0, 1, 0, 0, 0, 0, 1, 1, 1, 1, 0, 1, 0, 0, 1, 1, 0, 0, 0, 0, 0, 1, 1, 0, 0, 1, 0, 0, 1, 0, 0, 1, 1, 1, 1, 0, 0, 0, 1, 0, 1, 0, 0, 1, 0, 1, 0, 1, 1, 0, 1, 1, 1, 0, 0, 1, 0, 1, 1, 1, 1, 1, 0, 0, 1, 1, 0, 1, 0, 1, 1, 1, 1, 1, 1, 1, 0, 0, 1, 0, 1, 1, 0, 1, 1, 0, 0, 1, 1, 0, 1, 0, 1, 0, 1, 0, 0, 0, 0, 1, 0, 0, 1, 0, 0, 0, 0, 0, 1, 1, 0, 0, 1, 0, 0, 1, 0, 1, 0, 1, 1, 1, 0, 1, 1, 1, 1, 1, 0, 0, 0, 0, 0, 0, 1, 1, 0, 0, 1, 1, 0, 1, 0, 1, 1, 0, 1, 1, 1, 0, 0, 1, 0, 1, 1, 1, 0, 1, 0, 0, 1, 0, 1, 0, 0, 1, 0, 1, 1, 1, 1, 0, 0, 1, 0, 1, 1, 0, 1, 1, 0, 1, 1, 0, 1, 1, 0, 0, 0, 0, 0, 1, 0, 1, 1, 1, 0, 0, 0, 1, 0, 1, 1, 1, 0, 1, 0, 1, 0, 0, 0, 0, 1, 1, 1, 0, 1, 0, 1, 1, 0, 1, 0, 1, 0, 1, 0, 1, 0, 1, 0, 1, 0, 0, 0, 0, 0, 0, 1, 0, 1, 1, 0, 0, 1, 1, 0, 0, 0, 1, 1, 0, 1, 0, 1, 1, 1, 1, 1, 1, 0, 0, 1, 1, 1, 0, 0, 0, 0, 1, 0, 0, 1, 0, 0, 0, 1, 0, 1, 0, 1, 0, 1, 1, 1, 0, 0, 0, 0, 1, 1, 1, 1, 0, 1, 1, 0, 0, 1, 0, 1, 0, 0, 0, 0, 1, 1, 1, 1, 0, 1, 0, 1, 0, 1, 1, 1, 1, 1, 1, 1, 1, 0, 0, 0, 0, 0, 0, 1, 1, 0, 1, 1, 0, 0, 0, 0, 1, 0, 0, 1, 1, 1, 0, 0, 1, 1, 1, 1, 0, 1, 1, 1, 0, 1, 0, 0, 0, 0, 1, 0, 1, 0, 0, 1, 1, 0, 1, 0, 0, 1, 0, 1, 0, 1, 1, 1, 1, 0, 1, 0, 1, 1, 1, 1, 1, 1, 1, 1, 0, 0, 1, 1, 0, 0, 1, 1, 0, 0, 0, 0, 1, 0, 0, 1, 1, 1, 1, 1, 1, 1, 1, 0, 1, 1, 0, 0, 1, 0, 0, 1, 1, 0, 1, 1, 1, 0, 0, 0, 0, 0, 0, 1, 1, 0, 0, 0, 0, 1, 0, 1, 0, 1, 1, 1, 0, 1, 0, 1, 1, 1, 1, 0, 1, 1, 1, 0, 1, 0, 1, 1, 0, 0, 1, 1, 0, 0, 0, 1, 1, 0, 0, 1, 0, 1, 1, 1, 1, 0, 1, 0, 0, 1, 0, 0, 1, 0, 0, 0, 0, 1, 0, 0, 0, 0, 0, 1, 0, 1, 1, 0, 1, 1, 1, 1, 1, 0, 1, 0, 0, 1, 0, 0, 0, 0, 1, 1, 1, 0, 0, 1, 1, 1, 0, 0, 0, 1, 1, 1, 1, 1, 1, 0, 0, 1, 1, 0, 0, 1, 1, 1, 0, 0, 1, 1, 0, 1, 0, 0, 0, 1, 1, 0, 0, 1, 0, 1, 1, 0, 1, 1, 0, 0, 1, 0, 1, 1, 1, 0, 1, 0, 1, 1, 0, 1, 0, 1, 0, 1, 0, 0, 0, 1, 1, 0, 1, 1, 0, 0, 1, 1, 1, 1, 1, 1, 1, 1, 0, 0, 1, 1, 1, 1, 1, 1, 1, 0, 0, 0, 1, 1, 0, 0, 1, 0, 0, 1, 1, 1, 0, 1, 0, 0, 1, 1, 0, 0, 0, 1, 1, 1, 0, 1, 0, 0, 1, 1, 0, 0, 0, 1, 1, 1, 1, 0, 0, 1, 0, 0, 1, 0, 1, 0, 1, 1, 0, 1, 1, 0, 1, 1, 0, 0, 0, 0, 0, 0, 0, 1, 0, 0, 1, 1, 1, 1, 0, 1, 1, 0, 1, 1, 0, 1, 1, 0, 1, 0, 1, 1, 1, 0, 1, 0, 1, 0, 1, 0, 0, 0, 1, 0, 1, 1, 0, 0, 0, 0, 0, 1, 0, 1, 1, 0, 1, 1, 1, 0, 1, 0, 0, 0, 1, 0, 0, 0, 0, 1, 1, 1, 1, 1, 1, 0, 1, 0, 0, 0, 0, 0, 0, 1, 1, 0, 1, 0, 0, 0, 0, 0, 1, 0, 0, 1, 1, 1, 0, 1, 0, 1, 0, 0, 0, 1, 1, 0, 0, 1, 0, 0, 1, 0, 1, 1, 0, 0, 0, 1, 0, 1, 0, 0, 0, 1, 0, 1, 0, 0, 1, 1, 0, 0, 1, 1, 1, 1, 0, 0, 1, 1, 0, 1, 1, 1, 1, 0, 1, 0, 0, 1, 0, 0, 1, 0, 0, 1, 0, 1, 0, 0, 0, 0, 1, 0, 0, 1, 1, 1, 0, 0, 1, 1, 0, 0, 0, 0, 0, 1, 1, 1, 0, 0, 1, 0, 0, 0, 0, 0, 1, 0, 1, 0, 0, 1, 1, 0, 1, 0, 1, 1, 0, 0, 0, 0, 1, 1, 0, 1, 1, 0, 0, 1, 1, 0, 0, 0, 0, 1, 1, 1, 1, 1, 1, 1, 1, 0, 0, 1, 1, 0, 1, 1, 0, 1, 1, 0, 1, 0, 1, 0, 1, 1, 0, 0, 1, 1, 1, 1, 1, 1, 1, 1, 0, 1, 0, 0, 0, 1, 0, 0, 1, 1, 0, 0, 0, 0, 0, 0, 1, 1, 1, 1, 0, 1, 0, 0, 1, 1, 0, 1, 1, 0, 1, 0, 1, 0, 0, 1, 1, 0, 1, 1, 0, 1, 0, 1, 0, 0, 0, 1, 0, 1, 1, 1, 1, 0, 0, 0, 0, 1, 0, 0, 1, 1, 0, 0, 1, 1, 0, 0, 1, 1, 0, 0, 1, 1, 0, 0, 0, 0, 0, 1, 1, 1, 0, 1, 1, 1, 0, 1, 0, 0, 0, 1, 1, 0, 0, 1, 0, 1, 1, 0, 1, 0, 0, 1, 0, 1, 0, 0, 1, 1, 0, 0, 1, 0, 1, 1, 0, 0, 0, 1, 0, 0, 0, 1, 1, 1, 0, 0, 0, 0, 0, 0, 1, 0, 1, 0, 0, 0, 0, 0, 0, 1, 0, 0, 1, 0, 1, 1, 0, 0, 1, 1, 0, 1, 1, 0, 1, 0, 0, 1, 1, 0, 0, 1, 0, 0, 1, 0, 0, 0, 1, 1, 1, 1, 0, 1, 0, 0, 1, 1, 0, 0, 0, 0, 1, 1, 1, 0, 1, 1, 1, 0, 0, 1, 1, 0, 1, 1, 1, 1, 1, 0, 0, 1, 1, 0, 1, 1, 0, 0, 0, 1, 0, 1, 0, 0, 0, 1, 0, 1, 1, 1, 0, 1, 1, 0, 1, 1, 1, 1, 0, 0, 0, 1, 1, 1, 0, 1, 1, 1, 1, 1, 0, 0, 0, 0, 1, 0, 1, 0, 0, 1, 1, 0, 0, 0, 0, 1, 1, 1, 0, 1, 1, 0, 0, 1, 0, 1, 0, 0, 0, 0, 1, 0, 0, 1, 1, 0, 0, 0, 1, 1, 0, 0, 0, 0, 1, 1, 0, 1, 1, 1, 0, 0, 1, 0, 1, 0, 0, 0, 1, 0, 1, 1, 1, 0, 1, 1, 1, 0, 0, 1, 1, 1, 0, 0, 0, 0, 0, 1, 0, 1, 0, 0, 1, 0, 0, 0, 0, 0, 0, 0, 0, 0, 1, 1, 0, 1, 1, 0, 1, 1, 0, 1, 0, 1, 1, 1, 1, 0, 0, 0, 1, 1, 0, 1, 0, 0, 1, 0, 0, 1, 1, 0, 0, 1, 1, 1, 1, 0, 0, 1, 0, 1, 0, 1, 0, 0, 1, 0, 1, 1, 1, 0, 1, 0, 1, 0, 1, 1, 1, 0, 0, 1, 1, 0, 0, 0, 0, 1, 0, 0, 0, 0, 0, 1, 1, 0, 0, 1, 1, 0, 0, 1, 1, 1, 0, 1, 0, 1, 1, 1, 1, 1, 0, 1, 0, 0, 0, 0, 1, 0, 1, 0, 1, 1, 0, 0, 1, 1, 1, 0, 1, 1, 0, 0, 0, 1, 1, 1, 1, 1, 1, 0, 1, 1, 0, 0, 0, 0, 1, 0, 0, 1, 0, 0, 0, 0, 0, 0, 0, 0, 1, 1, 1, 0, 1, 0, 0, 1, 1, 1, 0, 0, 0, 1, 1, 1, 1, 1, 1, 0, 1, 1, 0, 0, 1, 1, 0, 1, 0, 1, 1, 1, 0, 1, 0, 1, 0, 1, 1, 0, 0, 1, 0, 0, 0, 1, 0, 0, 0, 0, 0, 0, 0, 0, 0, 1, 1, 0, 1, 0, 1, 0, 0, 0, 0, 1, 0, 0, 0, 1, 0, 1, 1, 1, 1, 0, 1, 1, 1, 0, 0, 0, 0, 1, 0, 0, 0, 1, 0, 0, 0, 0, 1, 0, 0, 0, 0, 0, 0, 0, 0, 0, 1, 0, 1, 1, 0, 1, 0, 1, 0, 0, 0, 0, 1, 1, 1, 0, 1, 1, 1, 0, 0, 0, 1, 0, 0, 0, 1, 0, 0, 0, 0, 1, 0, 0, 1, 1, 0, 0, 1, 0, 0, 1, 0, 1, 1, 0, 1, 1, 1, 0, 1, 1, 0, 0, 0, 0, 0, 1, 1, 1, 0, 0, 0, 1, 1, 1, 1, 0, 0, 0, 0, 1, 1, 1, 0, 0, 0, 0, 0, 0, 1, 0, 0, 0, 1, 0, 1, 1, 0, 0, 0, 1, 1, 0, 1, 1, 1, 0, 1, 0, 0, 1, 0, 0, 1, 0, 0, 0, 1, 1, 0, 1, 0, 0, 0, 0, 0, 1, 0, 1, 1, 0, 1, 0, 0, 0, 1, 1, 0, 1, 0, 1, 1, 0, 1, 1, 1, 0, 1, 0, 0, 0, 0, 0, 1, 0, 0, 1, 1, 1, 1, 0, 1, 1, 0, 1, 0, 1, 1, 0, 1, 0, 0, 0, 1, 0, 0, 1, 0, 1, 1, 1, 0, 0, 1, 1, 1, 1, 1, 0, 1, 0, 0, 1, 0, 1, 1, 1, 1, 0, 1, 0, 1, 1, 1, 0, 0, 0, 1, 0, 0, 1, 0, 0, 0, 0, 0, 1, 1, 0, 0, 0, 0, 1, 1, 1, 1, 1, 1, 0, 1, 0, 0, 0, 0, 0, 1, 0, 1, 1, 0, 1, 1, 1, 1, 0, 0, 0, 1, 1, 1, 1, 1, 0, 0, 0, 1, 1, 1, 1, 1, 0, 0, 0, 0, 0, 1, 1, 0, 0, 0, 0, 0, 1, 0, 1, 1, 0, 1, 1, 1, 1, 0, 1, 0, 0, 0, 0, 0, 0, 0, 0, 1, 0, 0, 0, 1, 1, 0, 1, 1, 1, 0, 1, 1, 0, 1, 0, 0, 1, 0, 1, 0, 0, 1, 0, 0, 0, 1, 0, 0, 0, 1, 0, 0, 1, 1, 0, 1, 1, 1, 0, 1, 1, 0, 0, 1, 1, 0, 0, 1, 1, 0, 1, 0, 0, 0, 0, 0, 0, 1, 0, 0, 1, 0, 0, 1, 0, 0, 1, 0, 0, 1, 0, 1, 1, 1, 1, 0, 0, 1, 0, 1, 0, 1, 0, 1, 0, 0, 0, 0, 0, 0, 0, 0, 1, 0, 1, 1, 0, 0, 0, 1, 1, 1, 1, 1, 1, 0, 1, 1, 0, 0, 0, 0, 0, 1, 0, 1, 0, 0, 0, 0, 1, 1, 0, 0, 1, 1, 0, 1, 1, 1, 0, 1, 0, 0, 0, 1, 1, 1, 1, 0, 0, 1, 0, 0, 1, 0, 1, 0, 1, 0, 0, 0, 0, 1, 1, 1, 1, 1, 1, 1, 0, 1, 0, 1, 1, 0, 0, 0, 1, 1, 1, 0, 1, 0, 1, 0, 1, 0, 1, 1, 1, 0, 0, 0, 1, 0, 0, 1, 0, 0, 0, 1, 1, 1, 1, 1, 0, 1, 1, 0, 1, 1, 0, 0, 1, 1, 1, 0, 1, 0, 0, 0, 0, 1, 0, 1, 1, 1, 0, 0, 1, 1, 0, 1, 0, 1, 1, 1, 0, 1, 0, 1, 0, 1, 0, 0, 1, 1, 0, 1, 1, 0, 0, 0, 0, 1, 0, 0, 0, 1, 0, 1, 0, 1, 0, 0, 1, 0, 0, 0, 1, 1, 1, 0, 1, 0, 0, 0, 0, 1, 1, 1, 1, 0, 1, 0, 0, 1, 0, 0, 0, 1, 0, 0, 1, 1, 1, 0, 0, 1, 1, 0, 0, 0, 0, 1, 1, 1, 1, 0, 0, 0, 0, 0, 0, 1, 1, 0, 1, 1, 0, 0, 0, 1, 1, 0, 1, 1, 1, 0, 1, 1, 0, 1, 1, 0, 1, 1, 0, 1, 0, 0, 1, 0, 1, 1, 1, 1, 1, 0, 0, 1, 1, 0, 1, 1, 0, 1, 1, 1, 1, 1, 1, 0, 1, 1, 1, 1, 1, 1, 1, 0, 1, 1, 0, 0, 1, 1, 1, 1, 1, 1, 0, 0, 0, 1, 0, 1, 1, 1, 0, 0, 0, 0, 1, 1, 0, 0, 0, 0, 1, 1, 0, 1, 0, 0, 0, 1, 0, 0, 1, 1, 1, 0, 0, 1, 1, 1, 0, 0, 1, 1, 0, 0, 1, 0, 1, 1, 1, 1, 1, 0, 1, 1, 0, 0, 1, 0, 1, 0, 0, 1, 1, 1, 1, 1, 0, 1, 0, 1, 1, 1, 0, 0, 1, 0, 1, 0, 0, 0, 0, 1, 0, 1, 0, 0, 1, 0, 1, 0, 1, 0, 0, 0, 1, 1, 0, 0, 1, 1, 1, 0, 0, 1, 1, 0, 1, 0, 0, 1, 1, 0, 0, 0, 1, 1, 0, 0, 1, 0, 0, 1, 0, 0, 1, 1, 1, 1, 1, 1, 0, 0, 1, 0, 0, 1, 1, 1, 1, 1, 1, 0, 0, 1, 1, 0, 0, 1, 1, 0, 1, 1, 1, 1, 1, 0, 1, 0, 0, 0, 0, 0, 1, 0, 1, 0, 0, 1, 1, 1, 1, 1, 1, 0, 0, 1, 1, 1, 1, 0, 1, 1, 1, 0, 0, 1, 1, 0, 1, 1, 0, 0, 1, 0, 0, 0, 1, 0, 1, 0, 1, 1, 1, 1, 0, 1, 1, 0, 1, 0, 0, 0, 0, 0, 0, 1, 0, 1, 0, 0, 0, 0, 0, 1, 1, 1, 1, 0, 1, 1, 1, 0, 0, 0, 0, 0, 1, 1, 1, 1, 1, 0, 0, 1, 0, 0, 0, 0, 0, 1, 1, 0, 1, 1, 1, 1, 0, 0, 0, 1, 0, 1, 0, 0, 0, 1, 1, 0, 1, 0, 1, 1, 1, 1, 1, 1, 1, 1, 1, 1, 0, 0, 0, 1, 1, 1, 1, 0, 0, 0, 0, 1, 0, 0, 0, 1, 1, 0, 1, 1, 1, 0, 1, 1, 0, 0, 1, 1, 1, 1, 1, 1, 0, 1, 0, 0, 1, 1, 1, 0, 0, 1, 1, 0, 1, 1, 1, 1, 0, 1, 1, 0, 0, 0, 1, 1, 1, 1, 0, 0, 1, 0, 0, 0, 1, 1, 0, 0, 0, 1, 0, 1, 0, 0, 1, 0, 1, 0, 0, 1, 0, 0, 1, 0, 0, 0, 1, 0, 0, 0, 1, 0, 0, 1, 1, 1, 1, 1, 1, 1, 0, 1, 1, 0, 0, 0, 1, 1, 1, 1, 1, 1, 0, 0, 1, 1, 1, 1, 1, 0, 0, 0, 0, 0, 1, 1, 1, 0, 0, 0, 1, 0, 0, 0, 0, 1, 0, 0, 0, 1, 0, 0, 1, 0, 0, 0, 0, 0, 0, 0, 0, 0, 1, 0, 1, 0, 0, 1, 0, 0, 0, 1, 1, 0, 1, 0, 0, 0, 1, 1, 1, 0, 1, 1, 0, 0, 1, 1, 1, 1, 0, 0, 0, 1, 0, 1, 0, 1, 1, 1, 0, 1, 0, 1, 1, 1, 0, 1, 1, 1, 1, 1, 0, 0, 1, 0, 0, 1, 1, 0, 1, 1, 0, 1, 1, 1, 1, 0, 1, 1, 1, 0, 0, 1, 1, 1, 1, 0, 1, 0, 0, 1, 0, 0, 0, 0, 0, 1, 1, 0, 1, 1, 0, 1, 1, 0, 1, 1, 1, 0, 0, 0, 1, 1, 0, 0, 0, 1, 1, 0, 1, 0, 0, 1, 1, 1, 1, 1, 0, 1, 0, 0, 1, 0, 1, 0, 0, 0, 0, 1, 0, 1, 1, 1, 1, 0, 0, 1, 0, 1, 0, 1, 0, 1, 0, 1, 0, 0, 1, 1, 1, 1, 0, 1, 1, 0, 1, 0, 1, 0, 1, 1, 1, 1, 0, 0, 0, 1, 1, 1, 0, 0, 0, 1, 0, 0, 1, 0, 0, 0, 1, 1, 0, 0, 1, 1, 0, 0, 1, 0, 0, 1, 0, 0, 1, 1, 0, 0, 0, 0, 1, 1, 1, 1, 0, 0, 0, 1, 0, 1, 1, 0, 0, 1, 1, 1, 0, 0, 0, 0, 1, 1, 0, 0, 1, 1, 1, 1, 0, 1, 1, 0, 0, 1, 1, 1, 1, 1, 1, 1, 0, 1, 1, 0, 0, 1, 1, 1, 1, 0, 1, 1, 1, 0, 0, 0, 1, 0, 0, 0, 0, 0, 1, 0, 1, 1, 0, 1, 0, 1, 0, 0, 1, 1, 0, 0, 0, 0, 0, 1, 1, 0, 0, 1, 0, 0, 0, 0, 0, 0, 0, 0, 1, 1, 0, 1, 0, 0, 0, 1, 1, 0, 0, 1, 1, 0, 1, 0, 0, 1, 0, 1, 0, 0, 1, 0, 1, 0, 1, 1, 1, 0, 1, 1, 1, 1, 0, 0, 1, 1, 1, 0, 1, 1, 1, 0, 0, 1, 0, 1, 0, 1, 1, 0, 1, 0, 1, 1, 0, 1, 0, 1, 0, 1, 1, 0, 1, 1, 0, 0, 0, 0, 1, 1, 1, 0, 0, 0, 0, 1, 1, 1, 0, 0, 1, 0, 0, 0, 1, 1, 0, 1, 1, 1, 0, 0, 1, 1, 0, 0, 1, 1, 0, 1, 0, 0, 1, 0, 0, 0, 1, 1, 1, 1, 0, 1, 0, 1, 1, 0, 0, 1, 1, 1, 1, 0, 0, 1, 0, 1, 1, 1, 0, 0, 0, 0, 0, 1, 1, 0, 1, 1, 0, 1, 0, 0, 1, 1, 0, 0, 0, 1, 0, 1, 0, 1, 0, 0, 1, 1, 1, 0, 1, 1, 1, 1, 0, 1, 1, 1, 0, 0, 1, 1, 0, 0, 0, 1, 1, 0, 0, 0, 1, 0, 0, 0, 1, 0, 0, 0, 0, 0, 1, 0, 0, 0, 1, 0, 1, 0, 1, 1, 0, 1, 1, 0, 0, 1, 1, 0, 0, 1, 1, 0, 0, 1, 1, 0, 0, 0, 1, 0, 1, 1, 1, 0, 1, 1, 0, 0, 0, 1, 0, 0, 1, 1, 0, 0, 0, 1, 0, 1, 0, 1, 1, 0, 1, 0, 0, 0, 0, 1, 1, 1, 1, 0, 1, 0, 1, 1, 1, 1, 0, 1, 0, 0, 0, 1, 0, 0, 0, 1, 1, 0, 1, 1, 0, 0, 1, 0, 0, 1, 0, 0, 0, 0, 1, 1, 1, 1, 1, 0, 0, 0, 0, 1, 1, 1, 1, 1, 0, 1, 0, 0, 1, 1, 1, 0, 0, 1, 1, 1, 1, 0, 0, 0, 0, 1, 0, 0, 1, 1, 1, 0, 0, 0, 0, 0, 0, 0, 0, 1, 1, 1, 1, 0, 0, 0, 1, 0, 1, 1, 0, 1, 1, 0, 1, 0, 0, 0, 1, 0, 0, 0, 0, 1, 0, 0, 0, 0, 0, 0, 1, 0, 0, 1, 1, 0, 0, 0, 0, 0, 0, 1, 0, 1, 1, 1, 1, 1, 0, 1, 0, 0, 1, 1, 1, 1, 0, 1, 0, 1, 1, 0, 1, 1, 0, 1, 0, 0, 0, 1, 1, 1, 1, 0, 1, 1, 0, 0, 0, 0, 0, 1, 1, 0, 0, 0, 1, 1, 0, 1, 0, 0, 1, 0, 0, 1, 0, 1, 0, 1, 1, 1, 0, 1, 1, 0, 0, 0, 1, 0, 0, 0, 1, 0, 0, 0, 1, 1, 0, 1, 0, 0, 1, 1, 1, 1, 1, 1, 1, 1, 0, 1, 1, 1, 0, 1, 0, 0, 0, 0, 0, 0, 1, 1, 0, 1, 1, 1, 0, 1, 0, 0, 0, 1, 0, 0, 0, 1, 1, 1, 1, 0, 1, 1, 0, 0, 1, 1, 1, 0, 1, 0, 1, 1, 0, 0, 1, 0, 0, 1, 0, 0, 1, 0, 1, 1, 0, 0, 1, 0, 1, 0, 1, 0, 0, 0, 1, 0, 0, 0, 0, 0, 1, 0, 0, 0, 1, 1, 1, 1, 1, 0, 0, 1, 1, 1, 1, 0, 0, 1, 1, 0, 0, 0, 1, 0, 1, 0, 1, 1, 1, 1, 0, 0, 1, 0, 1, 0, 1, 0, 0, 0, 1, 0, 0, 0, 1, 0, 0, 0, 1, 1, 1, 1, 1, 0, 1, 0, 1, 1, 1, 0, 1, 0, 1, 0, 1, 1, 0, 0, 1, 0, 0, 0, 1, 1, 0, 0, 0, 1, 0, 0, 1, 1, 1, 0, 1, 1, 1, 0, 0, 1, 0, 0, 1, 1, 1, 0, 1, 0, 1, 0, 0, 0, 1, 0, 0, 1, 0, 0, 0, 0, 0, 0, 0, 1, 0, 0, 0, 0, 1, 0, 1, 1, 1, 0, 0, 0, 0, 0, 1, 1, 0, 0, 0, 0, 0, 1, 0, 0, 1, 1, 0, 0, 0, 0, 0, 0, 0, 1, 0, 1, 0, 0, 1, 0, 0, 0, 1, 0, 0, 1, 1, 1, 1, 0, 0, 1, 1, 1, 1, 1, 0, 0, 1, 0, 0, 0, 0, 0, 0, 0, 0, 1, 0, 1, 0, 1, 0, 0, 1, 1, 0, 1, 1, 1, 0, 0, 1, 1, 1, 1, 1, 0, 1, 0, 0, 0, 1, 1, 1, 1, 1, 0, 1, 0, 0, 0, 0, 1, 1, 1, 1, 0, 1, 1, 0, 1, 1, 0, 0, 1, 1, 1, 1, 0, 0, 0, 0, 0, 0, 0, 1, 0, 0, 1, 0, 1, 0, 1, 0, 1, 0, 1, 0, 0, 1, 1, 1, 0, 1, 0, 1, 0, 0, 1, 1, 1, 1, 0, 0, 1, 0, 0, 0, 0, 1, 0, 0, 1, 1, 1, 1, 0, 0, 0, 0, 0, 0, 0, 0, 1, 0, 0, 0, 1, 0, 1, 1, 0, 0, 1, 0, 0, 0, 0, 0, 0, 1, 1, 1, 1, 0, 0, 0, 1, 0, 0, 1, 0, 1, 1, 1, 0, 0, 1, 1, 0, 1, 0, 1, 1, 1, 0, 0, 1, 0, 1, 0, 1, 0, 1, 0, 1, 0, 0, 1, 1, 1, 1, 1, 1, 1, 0, 1, 0, 1, 1, 0, 1, 1, 1, 0, 1, 1, 0, 0, 0, 0, 0, 0, 1, 0, 1, 0, 0, 0, 1, 0, 0, 1, 0, 1, 1, 1, 1, 0, 1, 1, 1, 1, 0, 0, 0, 1, 1, 0, 0, 0, 0, 1, 1, 1, 1, 1, 0, 0, 0, 0, 1, 0, 1, 1, 1, 0, 1, 0, 1, 0, 1, 0, 1, 1, 0, 0, 0, 0, 1, 0, 1, 0, 0, 1, 0, 1, 1, 0, 0, 0, 1, 1, 0, 1, 0, 0, 0, 0, 0, 0, 0, 1, 1, 1, 0, 0, 1, 0, 1, 0, 0, 0, 0, 1, 1, 1, 1, 1, 1, 1, 0, 0, 1, 0, 0, 1, 0, 0, 1, 1, 0, 0, 0, 1, 0, 1, 1, 0, 0, 0, 0, 0, 1, 1, 1, 1, 1, 0, 1, 1, 0, 1, 0, 1, 0, 1, 1, 1, 1, 0, 0, 1, 1, 0, 0, 0, 0, 0, 1, 1, 1, 0, 1, 0, 0, 1, 1, 1, 0, 0, 1, 0, 0, 0, 1, 0, 1, 0, 1, 1, 0, 0, 1, 1, 0, 0, 0, 0, 1, 1, 1, 1, 1, 1, 1, 1, 1, 0, 0, 0, 1, 1, 1, 0, 0, 0, 1, 0, 1, 1, 1, 1, 1, 1, 0, 1, 1, 1, 0, 1, 0, 1, 1, 0, 1, 0, 1, 1, 1, 1, 0, 0, 1, 0, 0, 1, 1, 0, 1, 1, 0, 0, 1, 1, 0, 1, 0, 1, 1, 1, 0, 0, 0, 1, 0, 0, 0, 0, 0, 0, 0, 0, 1, 0, 0, 1, 1, 0, 0, 1, 0, 0, 0, 0, 1, 0, 0, 1, 1, 1, 0, 0, 1, 0, 1, 0, 1, 0, 0, 1, 1, 1, 0, 0, 1, 1, 0, 1, 1, 1, 1, 1, 1, 1, 0, 1, 0, 1, 0, 1, 0, 0, 1, 1, 1, 1, 1, 1, 1, 1, 1, 1, 0, 1, 0, 0, 1, 1, 0, 0, 0, 0, 0, 0, 0, 0, 1, 0, 1, 0, 0, 0, 0, 1, 1, 1, 0, 0, 0, 1, 1, 1, 0, 0, 0, 1, 0, 0, 0, 1, 0, 0, 1, 1, 0, 0, 0, 1, 0, 0, 1, 0, 0, 0, 1, 0, 0, 0, 1, 1, 0, 0, 0, 1, 0, 1, 0, 1, 1, 0, 1, 1, 0, 0, 1, 0, 0, 0, 0, 1, 1, 0, 1, 0, 0, 1, 0, 0, 1, 1, 1, 1, 1, 1, 0, 1, 0, 0, 1, 0, 0, 0, 0, 1, 0, 1, 1, 0, 0, 1, 0, 1, 0, 0, 0, 1, 0, 0, 1, 0, 0, 0, 0, 0, 0, 1, 0, 1, 0, 1, 1, 0, 0, 0, 1, 1, 1, 1, 0, 0, 1, 0, 1, 1, 0, 0, 1, 1, 0, 1, 0, 1, 0, 1, 1, 1, 1, 1, 1, 0, 0, 0, 0, 0, 1, 0, 1, 0, 0, 0, 0, 0, 0, 0, 0, 1, 1, 1, 0, 0, 1, 1, 1, 1, 0, 1, 0, 1, 1, 0, 0, 0, 1, 0, 0, 0, 0, 0, 1, 1, 1, 1, 1, 1, 0, 1, 0, 0, 1, 1, 0, 1, 0, 0, 1, 1, 0, 0, 1, 1, 0, 0, 1, 1, 1, 0, 0, 0, 0, 0, 1, 0, 0, 0, 0, 1, 0, 0, 0, 0, 0, 0, 1, 1, 0, 0, 1, 1, 0, 0, 0, 0, 0, 0, 1, 1, 0, 1, 0, 1, 0, 1, 0, 1, 0, 1, 1, 1, 1, 0, 0, 1, 0, 0, 1, 1, 1, 0, 0, 0, 1, 0, 1, 0, 1, 0, 0, 1, 0, 1, 1, 1, 1, 1, 0, 0, 0, 1, 0, 1, 1, 1, 0, 0, 1, 0, 1, 0, 0, 1, 0, 0, 0, 1, 0, 1, 1, 1, 0, 0, 1, 1, 0, 1, 0, 0, 0, 0, 0, 1, 0, 0, 0, 0, 0, 0, 1, 0, 0, 1, 1, 0, 0, 0, 0, 0, 1, 1, 0, 0, 1, 1, 1, 0, 0, 0, 0, 0, 1, 0, 0, 0, 1, 0, 1, 1, 0, 0, 1, 0, 0, 0, 1, 1, 0, 1, 0, 1, 0, 0, 1, 1, 0, 0, 1, 1, 0, 1, 0, 0, 0, 0, 1, 1, 1, 1, 1, 0, 0, 1, 0, 1, 0, 1, 0, 1, 1, 0, 0, 0, 0, 1, 0, 0, 1, 0, 0, 0, 0, 0, 1, 0, 1, 0, 1, 1, 0, 0, 0, 1, 0, 0, 0, 0, 1, 0, 0, 0, 1, 0, 1, 0, 1, 1, 1, 0, 1, 0, 1, 0, 0, 0, 0, 1, 0, 1, 1, 0, 0, 1, 0, 0, 1, 1, 0, 1, 0, 0, 0, 1, 0, 1, 1, 0, 0, 1, 0, 1, 0, 1, 1, 0, 1, 1, 1, 1, 1, 1, 1, 1, 0, 0, 0, 0, 0, 0, 1, 0, 0, 1, 0, 1, 1, 1, 0, 1, 1, 0, 1, 0, 1, 1, 1, 0, 1, 1, 0, 1, 0, 0, 1, 1, 0, 0, 0, 1, 0, 0, 0, 0, 1, 1, 0, 1, 0, 1, 0, 1, 0, 0, 1, 0, 1, 1, 1, 0, 1, 0, 0, 0, 0, 1, 1, 1, 1, 1, 1, 0, 0, 0, 1, 0, 0, 0, 0, 0, 1, 1, 0, 0, 1, 0, 0, 1, 1, 1, 0, 0, 1, 0, 1, 0, 0, 0, 0, 1, 0, 1, 1, 0, 0, 1, 0, 1, 0, 1, 0, 0, 1, 0, 0, 1, 1, 0, 0, 1, 1, 0, 0, 1, 0, 1, 1, 0, 0, 1, 1, 0, 1, 1, 1, 0, 0, 0, 0, 1, 1, 0, 0, 1, 0, 1, 1, 1, 1, 1, 0, 0, 0, 1, 1, 0, 1, 0, 0, 0, 0, 1, 1, 1, 0, 1, 0, 1, 0, 0, 0, 0, 1, 1, 0, 0, 1, 0, 0, 1, 1, 1, 1, 0, 1, 0, 1, 0, 1, 1, 0, 1, 1, 1, 0, 0, 0, 1, 0, 0, 1, 0, 1, 1, 0, 1, 1, 0, 1, 0, 1, 1, 0, 1, 1, 1, 0, 1, 0, 0, 1, 0, 1, 1, 1, 1, 1, 0, 1, 1, 0, 0, 0, 1, 1, 1, 0, 0, 1, 0, 1, 0, 0, 1, 0, 1, 1, 1, 0, 0, 1, 0, 1, 1, 0, 0, 1, 1, 0, 0, 0, 0, 1, 0, 1, 0, 1, 0, 1, 1, 1, 0, 0, 0, 0, 0, 0, 0, 1, 1, 0, 0, 0, 0, 0, 1, 0, 1, 0, 1, 0, 0, 0, 0, 1, 1, 1, 1, 1, 0, 0, 1, 1, 1, 1, 1, 0, 1, 0, 0, 0, 0, 1, 0, 1, 0, 0, 0, 0, 1, 0, 1, 1, 1, 1, 1, 1, 1, 1, 0, 0, 0, 0, 0, 0, 1, 1, 1, 1, 0, 0, 1, 1, 1, 1, 0, 0, 1, 1, 0, 0, 1, 1, 1, 0, 0, 1, 0, 1, 0, 1, 1, 0, 1, 0, 0, 0, 0, 0, 1, 1, 0, 0, 1, 0, 1, 1, 1, 0, 0, 0, 0, 1, 1, 0, 1, 1, 1, 0, 0, 0, 0, 0, 1, 1, 0, 1, 1, 0, 1, 1, 1, 1, 1, 1, 1, 1, 0, 1, 1, 0, 1, 0, 0, 1, 1, 0, 1, 1, 1, 0, 1, 0, 0, 0, 0, 0, 1, 0, 0, 0, 1, 0, 0, 1, 0, 0, 1, 1, 1, 1, 1, 0, 0, 1, 1, 1, 1, 0, 0, 0, 0, 1, 1, 1, 1, 0, 1, 0, 1, 0, 1, 0, 1, 0, 1, 0, 0, 1, 0, 0, 1, 1, 0, 0, 1, 0, 0, 1, 0, 1, 0, 0, 0, 1, 1, 1, 1, 0, 1, 0, 0, 1, 1, 1, 0, 1, 0, 0, 1, 0, 1, 1, 0, 0, 0, 0, 0, 1, 1, 1, 0, 1, 1, 1, 0, 0, 0, 0, 1, 1, 0, 1, 1, 1, 1, 1, 1, 1, 1, 1, 0, 0, 1, 0, 0, 0, 1, 1, 0, 1, 1, 1, 0, 0, 0, 1, 0, 0, 1, 1, 0, 0, 1, 1, 1, 1, 1, 0, 1, 1, 0, 1, 1, 0, 1, 0, 1, 0, 0, 0, 1, 1, 1, 1, 1, 1, 0, 1, 1, 0, 1, 1, 0, 1, 0, 0, 1, 1, 0, 0, 1, 0, 0, 0, 0, 0, 0, 1, 1, 0, 1, 1, 0, 1, 1, 1, 1, 1, 1, 0, 1, 0, 0, 0, 1, 1, 1, 0, 0, 0, 1, 0, 1, 1, 0, 1, 0, 1, 0, 0, 1, 1, 1, 1, 1, 1, 0, 1, 1, 1, 1, 0, 1, 1, 1, 1, 0, 1, 0, 0, 1, 0, 0, 0, 1, 0, 1, 0, 1, 1, 1, 1, 0, 0, 1, 0, 1, 0, 0, 1, 0, 0, 1, 1, 1, 0, 0, 1, 1, 0, 1, 1, 1, 1, 1, 0, 1, 0, 0, 1, 0, 1, 0, 1, 1, 1, 1, 0, 1, 1, 0, 1, 1, 1, 0, 0, 1, 1, 0, 0, 1, 1, 0, 1, 1, 1, 1, 0, 1, 1, 1, 0, 1, 1, 1, 0, 1, 1, 1, 0, 0, 0, 0, 0, 0, 1, 1, 0, 0, 0, 1, 1, 1, 0, 0, 0, 1, 0, 1, 1, 0, 1, 1, 0, 0, 1, 0, 0, 1, 1, 1, 1, 1, 0, 0, 1, 1, 1, 0, 1, 1, 1, 0, 0, 0, 1, 0, 0, 0, 0, 1, 0, 0, 0, 0, 0, 1, 1, 1, 1, 1, 0, 1, 0, 0, 1, 1, 0, 0, 1, 1, 0, 1, 0, 0, 1, 1, 1, 1, 0, 0, 0, 1, 1, 0, 0, 0, 0, 1, 0, 0, 1, 1, 0, 1, 1, 1, 0, 0, 1, 1, 1, 0, 0, 1, 1, 0, 1, 0, 0, 1, 1, 0, 1, 0, 0, 1, 1, 1, 0, 0, 0, 1, 1, 1, 1, 1, 1, 1, 1, 0, 1, 0, 1, 1, 0, 0, 0, 0, 1, 1, 1, 0, 1, 0, 0, 0, 0, 1, 1, 0, 1, 1, 1, 1, 1, 0, 0, 0, 1, 0, 0, 1, 0, 0, 0, 0, 0, 0, 1, 0, 1, 0, 1, 0, 1, 1, 0, 0, 0, 0, 1, 1, 1, 1, 1, 0, 1, 0, 0, 0, 1, 1, 1, 0, 1, 0, 0, 1, 1, 0, 0, 0, 1, 1, 1, 0, 1, 0, 1, 1, 1, 0, 1, 1, 0, 1, 0, 0, 0, 1, 1, 1, 1, 1, 1, 0, 0, 1, 1, 1, 1, 0, 1, 0, 0, 0, 0, 1, 1, 0, 0, 1, 1, 0, 1, 1, 0, 1, 0, 0, 0, 0, 0, 0, 0, 1, 0, 1, 1, 0, 0, 0, 1, 0, 1, 1, 1, 0, 1, 1, 1, 1, 1, 1, 1, 1, 0, 0, 1, 0, 1, 0, 1, 0, 0, 0, 1, 1, 0, 1, 0, 0, 1, 0, 0, 1, 1, 1, 0, 1, 1, 0, 1, 1, 0, 1, 1, 0, 1, 0, 0, 0, 1, 0, 0, 0, 1, 0, 1, 1, 1, 0, 1, 1, 1, 0, 1, 1, 1, 0, 1, 0, 1, 0, 0, 1, 0, 0, 1, 1, 0, 1, 1, 0, 1, 0, 1, 0, 1, 0, 0, 0, 1, 1, 1, 1, 0, 1, 0, 1, 1, 0, 1, 1, 1, 0, 1, 0, 0, 1, 1, 0, 0, 1, 1, 0, 1, 0, 0, 1, 1, 1, 1, 1, 1, 1, 1, 1, 1, 1, 1, 0, 1, 1, 0, 0, 0, 1, 0, 0, 1, 1, 0, 1, 0, 0, 1, 1, 1, 0, 0, 1, 1, 1, 0, 0, 0, 1, 0, 0, 0, 0, 1, 0, 0, 1, 0, 1, 0, 1, 1, 1, 0, 0, 0, 1, 1, 1, 0, 1, 1, 1, 1, 1, 0, 1, 1, 0, 1, 1, 0, 1, 0, 1, 1, 1, 1, 1, 1, 1, 0, 0, 0, 1, 1, 0, 1, 1, 1, 1, 1, 0, 1, 1, 1, 1, 0, 0, 1, 0, 0, 1, 0, 1, 0, 1, 1, 0, 1, 1, 1, 1, 0, 0, 0, 0, 1, 1, 1, 1, 1, 1, 1, 1, 0, 0, 0, 1, 0, 0, 0, 1, 0, 0, 0, 0, 0, 1, 1, 0, 0, 1, 0, 0, 0, 0, 1, 1, 1, 1, 0, 0, 1, 0, 1, 1, 0, 0, 0, 0, 1, 1, 1, 1, 0, 0, 1, 1, 0, 1, 1, 0, 1, 1, 0, 0, 0, 1, 0, 1, 1, 0, 0, 0, 1, 0, 0, 1, 1, 1, 0, 1, 1, 0, 1, 0, 1, 0, 1, 0, 0, 0, 1, 0, 1, 0, 0, 1, 1, 0, 1, 0, 1, 0, 0, 1, 1, 0, 1, 0, 1, 1, 0, 1, 0, 1, 1, 0, 1, 0, 0, 1, 0, 1, 1, 1, 1, 1, 1, 1, 1, 0, 0, 1, 1, 0, 1, 1, 1, 0, 0, 0, 0, 1, 1, 0, 1, 0, 1, 1, 1, 0, 1, 0, 0, 1, 1, 0, 0, 1, 0, 1, 0, 1, 0, 0, 0, 0, 0, 0, 0, 1, 0, 1, 0, 1, 1, 1, 0, 0, 1, 1, 0, 0, 1, 0, 0, 0, 0, 1, 0, 1, 1, 0, 0, 1, 0, 1, 0, 0, 0, 1, 0, 0, 0, 1, 1, 0, 0, 0, 1, 0, 1, 1, 1, 1, 1, 1, 0, 0, 0, 1, 1, 0, 0, 0, 0, 0, 0, 0, 1, 1, 1, 0, 0, 1, 1, 0, 0, 1, 0, 1, 0, 0, 0, 0, 0, 0, 0, 0, 0, 0, 1, 1, 1, 0, 1, 1, 1, 0, 1, 0, 0, 0, 0, 1, 0, 1, 1, 1, 1, 1, 0, 0, 1, 0, 1, 1, 1, 0, 1, 1, 1, 0, 1, 0, 0, 1, 0, 0, 1, 0, 1, 1, 0, 1, 0, 1, 1, 0, 0, 1, 1, 1, 1, 0, 1, 1, 0, 1, 0, 1, 0, 0, 1, 1, 0, 0, 0, 1, 0, 1, 1, 0, 1, 1, 0, 0, 1, 1, 0, 1, 0, 1, 0, 0, 1, 0, 1, 1, 1, 0, 1, 0, 1, 0, 1, 0, 0, 1, 1, 1, 0, 0, 0, 0, 1, 1, 0, 0, 0, 1, 1, 0, 1, 0, 0, 0, 1, 0, 0, 1, 0, 1, 1, 0, 1, 1, 1, 0, 1, 1, 1, 0, 0, 1, 0, 1, 0, 0, 1, 0, 1, 0, 0, 1, 0, 1, 0, 1, 0, 0, 0, 1, 0, 1, 0, 1, 0, 0, 1, 1, 0, 0, 1, 1, 1, 1, 1, 1, 1, 1, 1, 0, 1, 1, 1, 0, 0, 1, 1, 0, 0, 1, 1, 0, 0, 1, 0, 1, 1, 1, 1, 1, 1, 0, 1, 1, 1, 0, 0, 1, 1, 1, 1, 0, 0, 0, 1, 1, 0, 0, 0, 0, 1, 1, 1, 1, 0, 0, 0, 1, 1, 0, 1, 1, 1, 1, 1, 1, 1, 0, 1, 1, 0, 0, 0, 0, 1, 1, 0, 0, 1, 1, 1, 1, 1, 0, 1, 1, 1, 1, 1, 1, 0, 0, 0, 0, 1, 1, 1, 0, 0, 0, 1, 0, 0, 0, 1, 0, 1, 0, 1, 1, 0, 1, 0, 0, 0, 0, 1, 0, 1, 1, 1, 0, 0, 0, 1, 0, 0, 1, 0, 1, 1, 1, 1, 1, 0, 1, 1, 0, 1, 1, 1, 1, 0, 0, 1, 0, 0, 0, 0, 0, 0, 0, 1, 0, 1, 0, 1, 1, 1, 1, 0, 0, 0, 0, 1, 1, 0, 0, 0, 1, 1, 0, 0, 1, 1, 0, 1, 0, 0, 0, 0, 0, 0, 1, 0, 0, 0, 0, 0, 1, 0, 1, 1, 1, 1, 1, 0, 0, 0, 1, 0, 1, 0, 1, 1, 0, 0, 0, 1, 1, 0, 1, 1, 0, 1, 0, 0, 1, 0, 0, 1, 0, 1, 0, 1, 0, 0, 1, 0, 0, 0, 1, 1, 0, 1, 0, 1, 0, 1, 1, 1, 1, 1, 0, 1, 1, 0, 1, 1, 0, 0, 1, 0, 0, 1, 0, 0, 1, 0, 0, 1, 0, 0, 0, 0, 0, 1, 1, 1, 1, 1, 1, 0, 1, 0, 0, 1, 0, 0, 1, 0, 1, 1, 1, 0, 1, 1, 1, 1, 1, 1, 0, 1, 1, 1, 1, 0, 0, 0, 1, 1, 0, 1, 1, 0, 0, 1, 1, 1, 0, 1, 0, 0, 1, 1, 1, 1, 0, 1, 0, 0, 0, 0, 1, 0, 0, 1, 1, 1, 0, 1, 0, 0, 0, 1, 1, 1, 1, 0, 1, 0, 0, 1, 0, 1, 1, 1, 0, 0, 0, 1, 0, 0, 0, 1, 0, 1, 0, 0, 0, 0, 1, 1, 0, 1, 0, 1, 0, 0, 1, 0, 1, 1, 0, 1, 1, 0, 0, 0, 1, 1, 0, 1, 0, 0, 1, 1, 1, 1, 0, 0, 1, 1, 0, 1, 0, 0, 0, 1, 1, 1, 1, 0, 0, 1, 1, 0, 0, 0, 0, 0, 0, 0, 1, 1, 1, 1, 0, 0, 1, 1, 0, 1, 0, 0, 1, 0, 0, 1, 1, 0, 1, 1, 1, 1, 1, 1, 0, 0, 1, 1, 1, 1, 1, 1, 0, 0, 1, 1, 1, 0, 0, 1, 1, 1, 0, 0, 0, 0, 0, 1, 1, 1, 0, 0, 0, 0, 1, 0, 0, 1, 1, 1, 0, 0, 0, 0, 1, 0, 0, 1, 1, 0, 1, 0, 1, 0, 0, 0, 1, 1, 1, 1, 0, 0, 0, 0, 0, 0, 0, 1, 0, 0, 0, 0, 0, 1, 0, 1, 1, 0, 0, 1, 0, 1, 1, 1, 1, 1, 1, 0, 0, 1, 0, 0, 1, 0, 0, 0, 1, 0, 1, 1, 1, 1, 0, 1, 0, 1, 1, 0, 1, 1, 1, 1, 0, 1, 0, 0, 0, 1, 1, 1, 0, 1, 0, 0, 0, 0, 1, 1, 1, 0, 0, 0, 0, 1, 1, 1, 0, 1, 1, 0, 1, 0, 1, 0, 1, 0, 0, 0, 0, 0, 0, 1, 0, 0, 1, 0, 0, 0, 1, 0, 0, 1, 1, 1, 0, 0, 1, 1, 0, 1, 0, 1, 0, 0, 1, 0, 0, 1, 1, 0, 1, 1, 1, 0, 0, 0, 1, 0, 1, 0, 0, 0, 1, 0, 0, 1, 1, 0, 0, 0, 1, 0, 0, 0, 1, 1, 1, 1, 1, 0, 0, 1, 1, 0, 0, 1, 1, 1, 1, 1, 0, 1, 1, 1, 0, 1, 0, 0, 0, 0, 0, 1, 0, 0, 0, 0, 0, 0, 0, 0, 0, 1, 1, 0, 1, 0, 0, 1, 0, 1, 1, 0, 1, 0, 1, 1, 0, 0, 0, 0, 0, 1, 0, 1, 1, 0, 1, 0, 1, 0, 0, 1, 0, 1, 0, 0, 0, 1, 1, 1, 1, 0, 1, 1, 0, 0, 1, 1, 1, 0, 0, 0, 0, 0, 0, 0, 1, 0, 1, 0, 0, 1, 0, 0, 1, 0, 0, 0, 0, 0, 0, 0, 1, 1, 0, 0, 0, 0, 0, 0, 0, 0, 0, 1, 0, 0, 1, 1, 1, 1, 0, 0, 1, 0, 1, 1, 0, 0, 0, 0, 1, 1, 0, 1, 0, 0, 1, 0, 0, 1, 0, 1, 1, 1, 0, 1, 0, 0, 0, 0, 1, 1, 0, 1, 0, 1, 0, 0, 0, 1, 0, 1, 1, 1, 0, 1, 0, 0, 1, 0, 0, 1, 1, 0, 1, 1, 0, 0, 1, 1, 1, 0, 1, 0, 0, 1, 1, 0, 1, 0, 1, 1, 0, 1, 1, 0, 0, 0, 1, 0, 1, 0, 1, 0, 1, 1, 1, 1, 0, 1, 0, 0, 1, 0, 0, 0, 0, 0, 0, 1, 0, 1, 1, 0, 0, 0, 1, 0, 1, 1, 1, 0, 0, 0, 1, 1, 1, 0, 0, 0, 1, 1, 0, 0, 0, 0, 0, 0, 1, 1, 1, 1, 0, 0, 1, 1, 1, 0, 0, 1, 1, 0, 0, 1, 0, 0, 0, 0, 0, 1, 1, 0, 1, 1, 0, 0, 0, 0, 1, 1, 0, 0, 1, 1, 0, 1, 0, 1, 0, 1, 0, 1, 1, 0, 1, 0, 1, 1, 0, 1, 0, 1, 1, 1, 1, 1, 0, 1, 1, 0, 0, 0, 1, 0, 1, 0, 1, 0, 1, 1, 0, 1, 0, 1, 1, 0, 0, 0, 1, 1, 0, 1, 1, 1, 1, 0, 1, 1, 1, 1, 1, 0, 0, 0, 0, 0, 0, 1, 0, 1, 1, 1, 0, 1, 0, 1, 1, 0, 0, 0, 1, 1, 1, 0, 0, 0, 0, 0, 1, 0, 1, 0, 0, 1, 1, 0, 1, 1, 0, 1, 1, 0, 0, 0, 1, 1, 1, 0, 0, 1, 1, 0, 0, 1, 0, 0, 1, 1, 0, 1, 1, 1, 0, 1, 0, 1, 0, 1, 0, 1, 1, 0, 0, 1, 1, 1, 1, 1, 1, 0, 0, 1, 0, 1, 1, 0, 0, 0, 1, 0, 1, 0, 0, 1, 0, 0, 1, 0, 0, 0, 1, 1, 0, 1, 1, 0, 0, 0, 0, 0, 1, 0, 0, 1, 1, 0, 1, 1, 1, 1, 0, 0, 1, 0, 1, 1, 0, 0, 0, 0, 1, 0, 0, 1, 0, 0, 0, 0, 0, 0, 0, 0, 1, 0, 0, 1, 0, 1, 0, 0, 1, 0, 0, 0, 1, 0, 0, 0, 1, 1, 0, 1, 0, 0, 0, 0, 1, 1, 1, 1, 1, 0, 1, 1, 0, 1, 1, 0, 0, 0, 1, 1, 1, 0, 1, 0, 0, 0, 1, 0, 1, 1, 0, 0, 1, 1, 0, 0, 1, 0, 0, 1, 0, 1, 0, 0, 0, 0, 1, 0, 1, 1, 0, 1, 1, 0, 1, 0, 0, 0, 0, 1, 1, 1, 0, 0, 1, 1, 0, 0, 1, 1, 0, 0, 0, 1, 1, 0, 1, 1, 1, 1, 1, 0, 0, 0, 1, 1, 0, 1, 1, 1, 1, 1, 1, 0, 1, 1, 1, 1, 1, 1, 0, 1, 0, 0, 1, 0, 0, 1, 1, 1, 1, 0, 0, 0, 0, 1, 0, 0, 1, 0, 0, 1, 1, 1, 0, 1, 0, 1, 1, 1, 1, 1, 0, 0, 0, 1, 1, 1, 0, 1, 1, 1, 1, 1, 1, 0, 1, 0, 0, 1, 0, 0, 1, 0, 1, 0, 0, 0, 0, 1, 1, 1, 0, 1, 0, 1, 1, 0, 1, 1, 0, 1, 1, 0, 1, 0, 0, 1, 1, 1, 1, 0, 1, 1, 1, 1, 1, 0, 0, 1, 0, 0, 1, 1, 0, 0, 1, 1, 1, 1, 1, 0, 1, 1, 1, 1, 1, 1, 1, 0, 1, 1, 1, 1, 0, 0, 0, 0, 0, 1, 0, 1, 0, 0, 0, 0, 1, 1, 1, 0, 1, 1, 1, 1, 1, 0, 1, 1, 1, 1, 1, 0, 1, 0, 0, 1, 1, 0, 0, 1, 1, 1, 1, 1, 1, 1, 1, 0, 0, 0, 1, 0, 0, 1, 1, 1, 1, 0, 1, 0, 1, 0, 1, 1, 0, 0, 1, 1, 1, 1, 1, 0, 1, 1, 0, 0, 1, 1, 1, 0, 0, 0, 0, 1, 0, 1, 1, 1, 1, 1, 0, 1, 0, 1, 1, 0, 0, 0, 1, 1, 1, 1, 1, 1, 1, 1, 1, 1, 0, 0, 0, 0, 1, 1, 0, 1, 0, 1, 0, 0, 0, 0, 1, 0, 1, 1, 0, 1, 0, 1, 1, 0, 1, 0, 0, 1, 1, 1, 1, 1, 0, 1, 0, 1, 1, 1, 0, 1, 1, 1, 1, 0, 1, 1, 0, 0, 0, 1, 0, 1, 1, 1, 1, 1, 1, 1, 0, 1, 1, 0, 1, 1, 1, 1, 1, 0, 1, 0, 1, 1, 0, 0, 1, 0, 1, 0, 1, 0, 0, 1, 0, 0, 1, 0, 1, 1, 0, 1, 1, 1, 0, 0, 0, 0, 0, 0, 1, 0, 1, 1, 1, 1, 1, 0, 1, 1, 0, 0, 1, 0, 1, 1, 1, 0, 0, 0, 1, 1, 1, 0, 0, 0, 0, 0, 0, 1, 1, 1, 0, 1, 1, 0, 0, 0, 0, 1, 1, 1, 0, 0, 0, 0, 1, 1, 1, 0, 1, 0, 1, 1, 0, 0, 0, 1, 1, 1, 0, 0, 1, 1, 0, 1, 1, 1, 0, 1, 0, 1, 1, 0, 1, 1, 0, 0, 1, 0, 0, 1, 1, 1, 1, 1, 1, 1, 1, 0, 0, 0, 0, 1, 1, 0, 1, 1, 0, 0, 1, 1, 1, 0, 0, 0, 0, 1, 1, 1, 1, 0, 0, 1, 1, 1, 1, 0, 1, 0, 1, 1, 1, 0, 1, 1, 0, 1, 0, 1, 1, 0, 0, 0, 0, 0, 0, 1, 0, 0, 1, 0, 1, 0, 0, 1, 0, 0, 0, 0, 1, 0, 1, 1, 1, 1, 0, 1, 1, 0, 0, 0, 1, 0, 1, 0, 1, 1, 1, 1, 1, 1, 0, 0, 0, 1, 1, 0, 1, 0, 1, 1, 1, 0, 1, 1, 0, 1, 0, 0, 0, 0, 1, 0, 0, 0, 0, 1, 0, 0, 1, 1, 0, 0, 0, 1, 1, 1, 0, 0, 0, 1, 1, 1, 1, 0, 0, 0, 1, 1, 0, 0, 0, 1, 1, 1, 0, 1, 1, 1, 0, 1, 1, 0, 0, 0, 1, 0, 1, 1, 1, 0, 0, 1, 1, 1, 1, 1, 1, 1, 1, 0, 1, 1, 0, 0, 0, 0, 0, 0, 0, 1, 0, 0, 1, 1, 1, 1, 0, 0, 1, 0, 1, 0, 1, 1, 0, 0, 0, 0, 0, 1, 0, 0, 0, 0, 1, 1, 0, 0, 1, 1, 0, 0, 0, 0, 0, 0, 1, 0, 1, 0, 1, 1, 0, 1, 0, 0, 0, 1, 0, 0, 0, 1, 1, 0, 1, 0, 1, 0, 0, 0, 0, 0, 0, 1, 0, 0, 0, 1, 1, 1, 0, 0, 1, 1, 1, 0, 1, 1, 1, 0, 1, 1, 0, 0, 0, 1, 0, 1, 0, 1, 0, 1, 0, 0, 1, 0, 1, 1, 1, 0, 0, 0, 0, 0, 0, 1, 1, 0, 1, 0, 0, 0, 0, 0, 0, 0, 0, 0, 1, 0, 0, 1, 0, 1, 0, 1, 1, 1, 0, 0, 1, 1, 1, 0, 1, 0, 1, 0, 0, 1, 1, 1, 0, 0, 0, 1, 1, 1, 1, 1, 0, 0, 0, 0, 1, 1, 0, 1, 0, 0, 0, 0, 0, 1, 1, 0, 0, 0, 1, 1, 0, 0, 1, 1, 0, 0, 0, 0, 1, 1, 0, 0, 0, 0, 0, 1, 1, 1, 1, 0, 0, 0, 1, 0, 0, 1, 0, 0, 0, 0, 0, 0, 0, 0, 0, 1, 1, 1, 0, 1, 0, 0, 0, 1, 0, 0, 1, 0, 0, 0, 0, 1, 1, 1, 1, 1, 1, 1, 0, 1, 1, 1, 0, 1, 0, 1, 0, 0, 1, 0, 1, 1, 1, 1, 0, 1, 1, 0, 1, 0, 0, 0, 1, 0, 0, 1, 0, 1, 1, 1, 1, 1, 0, 0, 1, 0, 1, 1, 0, 1, 0, 0, 1, 1, 0, 0, 1, 0, 0, 1, 1, 1, 0, 0, 0, 1, 1, 0, 1, 0, 0, 1, 1, 0, 1, 1, 0, 1, 0, 1, 1, 0, 1, 0, 1, 1, 0, 1, 0, 1, 1, 0, 0, 1, 0, 0, 1, 0, 1, 1, 0, 0, 0, 1, 1, 1, 0, 0, 1, 0, 1, 0, 0, 1, 0, 1, 0, 0, 1, 0, 0, 1, 0, 0, 1, 1, 0, 0, 1, 0, 0, 1, 1, 0, 0, 1, 1, 1, 0, 1, 0, 1, 1, 0, 0, 1, 0, 0, 0, 0, 1, 1, 0, 0, 1, 0, 0, 1, 1, 0, 0, 1, 0, 1, 1, 1, 0, 1, 1, 0, 1, 1, 0, 0, 1, 1, 1, 0, 0, 0, 0, 1, 0, 1, 0, 1, 1, 0, 1, 1, 0, 0, 0, 1, 1, 0, 0, 0, 1, 0, 0, 1, 0, 1, 0, 1, 1, 1, 0, 0, 0, 0, 0, 1, 1, 1, 0, 0, 0, 1, 0, 0, 0, 1, 0, 1, 1, 1, 0, 1, 0, 1, 0, 1, 1, 0, 0, 0, 1, 0, 1, 0, 0, 1, 0, 1, 0, 0, 0, 0, 0, 0, 0, 1, 1, 1, 1, 0, 1, 1, 0, 1, 0, 0, 1, 1, 0, 0, 0, 0, 1, 1, 1, 0, 1, 1, 0, 1, 0, 0, 1, 1, 0, 1, 0, 1, 1, 0, 1, 1, 0, 0, 0, 0, 0, 0, 0, 1, 1, 1, 0, 0, 1, 0, 1, 0, 0, 0, 1, 0, 1, 0, 0, 0, 1, 0, 0, 1, 0, 1, 1, 1, 1, 1, 0, 1, 0, 0, 0, 1, 1, 1, 1, 0, 1, 0, 1, 0, 1, 0, 1, 1, 1, 1, 0, 0, 0, 1, 1, 1, 0, 1, 0, 1, 0, 0, 1, 0, 1, 1, 0, 0, 0, 1, 1, 0, 0, 0, 0, 1, 0, 0, 1, 1, 1, 0, 0, 0, 0, 1, 0, 1, 1, 0, 1, 0, 0, 1, 1, 0, 0, 1, 0, 0, 1, 1, 1, 0, 1, 1, 1, 0, 0, 0, 1, 0, 0, 1, 1, 1, 0, 1, 0, 1, 0, 1, 1, 1, 1, 1, 1, 0, 1, 1, 1, 0, 0, 1, 0, 1, 1, 1, 1, 1, 1, 0, 0, 0, 0, 1, 0, 1, 1, 0, 0, 0, 1, 1, 0, 0, 0, 0, 0, 0, 1, 1, 1, 1, 0, 1, 0, 1, 0, 0, 0, 0, 0, 1, 1, 1, 1, 0, 0, 1, 1, 0, 1, 0, 0, 1, 0, 1, 0, 0, 1, 1, 1, 0, 1, 1, 0, 0, 0, 1, 0, 0, 0, 0, 1, 1, 1, 1, 0, 1, 0, 0, 1, 1, 0, 1, 0, 1, 1, 1, 1, 1, 0, 0, 1, 1, 0, 0, 1, 0, 0, 0, 0, 1, 1, 1, 0, 0, 0, 0, 0, 0, 1, 0, 1, 1, 0, 1, 1, 1, 0, 1, 0, 1, 1, 1, 1, 0, 0, 0, 1, 1, 0, 1, 0, 0, 0, 1, 0, 1, 0, 0, 0, 0, 0, 1, 1, 0, 1, 0, 1, 1, 1, 0, 0, 1, 0, 0, 1, 0, 1, 0, 0, 1, 0, 0, 0, 0, 1, 1, 0, 1, 1, 1, 1, 1, 0, 1, 1, 0, 1, 0, 0, 0, 0, 0, 0, 1, 1, 1, 0, 0, 1, 1, 0, 1, 0, 0, 1, 1, 0, 1, 0, 0, 0, 1, 0, 1, 1, 0, 0, 0, 0, 0, 1, 0, 1, 0, 1, 0, 0, 0, 0, 1, 0, 0, 1, 0, 0, 1, 1, 1, 0, 0, 0, 0, 0, 1, 0, 0, 1, 1, 0, 0, 0, 1, 0, 1, 1, 0, 1, 0, 1, 0, 0, 1, 1, 0, 1, 0, 1, 0, 1, 0, 1, 0, 1, 0, 1, 1, 1, 0, 0, 1, 1, 1, 1, 1, 1, 1, 1, 0, 0, 0, 1, 1, 1, 1, 1, 1, 0, 1, 1, 0, 1, 1, 1, 1, 0, 0, 1, 0, 0, 1, 1, 1, 1, 0, 0, 1, 1, 1, 1, 0, 1, 1, 1, 0, 1, 0, 0, 1, 0, 0, 1, 0, 0, 0, 0, 1, 1, 1, 1, 0, 0, 1, 0, 1, 1, 0, 1, 0, 1, 1, 1, 1, 1, 0, 0, 0, 0, 0, 1, 1, 1, 1, 1, 1, 0, 1, 0, 1, 1, 0, 1, 1, 0, 1, 1, 1, 1, 1, 0, 0, 0, 0, 0, 0, 0, 0, 1, 0, 1, 0, 1, 1, 1, 1, 0, 1, 0, 0, 0, 1, 0, 0, 0, 0, 0, 0, 1, 1, 0, 1, 1, 0, 1, 0, 0, 0, 0, 0, 0, 0, 1, 1, 0, 0, 0, 1, 0, 1, 0, 0, 0, 0, 1, 0, 0, 0, 1, 1, 1, 0, 0, 0, 0, 1, 0, 0, 0, 1, 1, 1, 1, 1, 0, 1, 1, 1, 0, 1, 0, 0, 0, 0, 1, 1, 0, 0, 1, 1, 0, 1, 1, 0, 0, 0, 0, 1, 1, 0, 0, 1, 1, 1, 1, 1, 1, 1, 0, 1, 1, 0, 0, 1, 0, 1, 1, 1, 0, 1, 1, 1, 0, 1, 0, 0, 1, 1, 1, 1, 1, 1, 0, 0, 1, 1, 0, 0, 1, 1, 0, 1, 0, 0, 1, 1, 0, 1, 1, 0, 1, 0, 1, 1, 0, 1, 1, 0, 1, 1, 1, 1, 1, 0, 1, 1, 1, 0, 0, 0, 1, 0, 1, 1, 0, 0, 1, 1, 0, 0, 0, 0, 1, 0, 0, 0, 1, 0, 1, 1, 0, 1, 1, 0, 0, 0, 1, 1, 0, 1, 0, 0, 1, 0, 1, 0, 1, 1, 1, 1, 1, 1, 1, 1, 1, 1, 0, 0, 1, 1, 1, 1, 1, 1, 1, 1, 0, 1, 0, 1, 1, 1, 0, 1, 1, 0, 0, 1, 0, 1, 1, 1, 0, 1, 1, 0, 1, 1, 1, 1, 1, 0, 1, 0, 1, 1, 0, 0, 1, 1, 0, 0, 1, 0, 1, 1, 1, 1, 0, 0, 0, 1, 0, 0, 0, 0, 0, 0, 1, 1, 1, 1, 1, 1, 0, 1, 0, 0, 0, 1, 0, 1, 1, 1, 0, 0, 0, 1, 1, 0, 1, 1, 0, 0, 0, 1, 1, 1, 1, 0, 0, 0, 1, 0, 0, 1, 0, 0, 0, 1, 1, 1, 0, 1, 1, 1, 0, 0, 1, 0, 1, 0, 1, 0, 1, 1, 0, 1, 0, 1, 0, 0, 0, 0, 0, 1, 1, 0, 0, 0, 1, 0, 1, 1, 0, 0, 1, 1, 0, 1, 0, 0, 0, 0, 1, 1, 0, 0, 1, 1, 0, 0, 1, 0, 1, 1, 1, 0, 0, 0, 0, 1, 1, 0, 1, 0, 0, 1, 0, 0, 1, 0, 1, 0, 1, 1, 0, 1, 1, 1, 0, 0, 0, 1, 0, 1, 0, 1, 0, 1, 1, 1, 0, 1, 0, 0, 0, 0, 0, 0, 1, 1, 1, 0, 1, 0, 1, 0, 1, 1, 0, 1, 0, 1, 0, 1, 1, 0, 1, 0, 0, 0, 0, 0, 1, 0, 1, 0, 0, 1, 0, 1, 0, 0, 0, 0, 1, 1, 0, 1, 1, 1, 1, 0, 1, 1, 0, 0, 0, 0, 1, 0, 0, 0, 1, 0, 0, 0, 1, 1, 1, 0, 0, 0, 0, 0, 1, 0, 0, 1, 1, 0, 0, 0, 1, 0, 0, 1, 0, 0, 0, 1, 0, 1, 0, 0, 0, 1, 1, 1, 1, 0, 0, 0, 1, 1, 0, 1, 1, 1, 0, 0, 0, 0, 1, 0, 1, 1, 1, 0, 0, 1, 1, 1, 0, 1, 1, 1, 1, 0, 0, 0, 1, 1, 1, 0, 1, 0, 1, 1, 0, 0, 1, 0, 1, 1, 0, 1, 0, 0, 0, 1, 0, 1, 0, 0, 0, 1, 1, 1, 1, 1, 1, 1, 0, 1, 0, 0, 1, 1, 0, 0, 0, 0, 0, 1, 1, 1, 1, 1, 0, 0, 1, 0, 1, 0, 0, 0, 1, 1, 1, 1, 1, 0, 0, 0, 1, 1, 0, 1, 1, 1, 0, 1, 0, 1, 1, 0, 0, 0, 1, 1, 0, 0, 1, 1, 0, 1, 0, 1, 0, 0, 0, 0, 0, 1, 0, 1, 1, 1, 1, 0, 0, 0, 1, 1, 1, 1, 1, 0, 0, 1, 1, 0, 0, 1, 1, 0, 1, 1, 0, 0, 1, 1, 1, 1, 1, 0, 0, 1, 1, 1, 1, 1, 0, 0, 1, 1, 1, 1, 1, 1, 1, 0, 0, 1, 0, 1, 0, 0, 0, 0, 1, 0, 0, 1, 0, 1, 0, 1, 0, 1, 0, 1, 1, 0, 1, 1, 0, 0, 1, 0, 0, 0, 0, 1, 1, 1, 1, 0, 1, 0, 0, 1, 1, 0, 1, 1, 1, 1, 0, 0, 0, 0, 0, 1, 0, 1, 1, 0, 1, 1, 0, 0, 1, 0, 0, 0, 0, 1, 0, 0, 0, 1, 0, 0, 1, 1, 1, 1, 0, 0, 0, 0, 0, 1, 1, 1, 0, 0, 0, 0, 1, 1, 1, 1, 1, 1, 1, 0, 1, 1, 1, 1, 1, 0, 1, 1, 1, 1, 1, 0, 0, 0, 0, 0, 0, 0, 1, 1, 1, 0, 0, 0, 1, 1, 1, 1, 0, 1, 0, 1, 0, 1, 1, 1, 1, 0, 0, 1, 0, 1, 1, 0, 0, 1, 1, 1, 1, 0, 1, 1, 0, 0, 1, 1, 1, 0, 1, 1, 1, 0, 1, 1, 1, 1, 1, 0, 0, 1, 1, 0, 0, 0, 0, 1, 1, 0, 1, 0, 1, 1, 0, 1, 1, 1, 1, 0, 0, 1, 1, 0, 1, 0, 1, 1, 1, 0, 0, 0, 1, 1, 1, 1, 1, 1, 1, 1, 1, 1, 1, 0, 1, 1, 0, 0, 1, 1, 0, 1, 1, 0, 1, 1, 0, 1, 0, 0, 0, 0, 0, 1, 1, 0, 0, 0, 1, 0, 1, 0, 1, 0, 1, 1, 1, 1, 1, 1, 1, 0, 0, 0, 1, 0, 0, 1, 1, 0, 0, 0, 1, 0, 1, 0, 0, 0, 0, 1, 0, 0, 0, 0, 1, 0, 1, 0, 1, 1, 1, 0, 0, 1, 0, 1, 0, 1, 0, 1, 1, 0, 1, 0, 0, 0, 1, 0, 1, 0, 1, 0, 1, 0, 1, 0, 1, 0, 1, 0, 1, 1, 0, 0, 0, 1, 0, 0, 1, 0, 1, 0, 0, 1, 0, 0, 1, 1, 1, 0, 1, 1, 0, 0, 0, 0, 1, 0, 1, 0, 0, 1, 1, 1, 1, 0, 1, 0, 1, 0, 1, 1, 1, 0, 0, 0, 0, 1, 0, 0, 0, 1, 1, 1, 0, 1, 0, 1, 0, 1, 0, 0, 0, 0, 0, 1, 0, 0, 1, 1, 0, 1, 1, 1, 1, 1, 0, 0, 0, 0, 1, 1, 0, 0, 1, 1, 1, 0, 1, 1, 1, 0, 1, 0, 0, 1, 1, 1, 0, 1, 1, 0, 1, 0, 0, 0, 1, 0, 1, 1, 1, 1, 1, 1, 1, 1, 0, 0, 0, 1, 1, 0, 1, 0, 1, 1, 0, 0, 0, 0, 1, 1, 1, 0, 1, 1, 1, 0, 0, 0, 1, 0, 0, 1, 0, 0, 0, 1, 0, 1, 0, 1, 0, 1, 1, 0, 1, 1, 0, 1, 1, 0, 1, 1, 1, 1, 0, 0, 0, 0, 1, 1, 1, 1, 0, 1, 1, 0, 0, 0, 0, 0, 0, 0, 0, 0, 0, 1, 1, 1, 0, 0, 0, 0, 1, 0, 1, 1, 0, 0, 0, 0, 0, 1, 0, 0, 1, 1, 1, 0, 1, 1, 1, 1, 0, 1, 0, 1, 0, 0, 0, 1, 1, 0, 0, 0, 0, 0, 0, 0, 1, 1, 1, 0, 1, 1, 1, 1, 1, 0, 0, 1, 0, 1, 1, 0, 1, 1, 1, 1, 0, 0, 1, 1, 1, 0, 0, 0, 1, 0, 0, 1, 1, 1, 0, 0, 1, 1, 1, 0, 0, 1, 1, 1, 0, 1, 1, 1, 1, 1, 0, 0, 0, 1, 0, 0, 1, 0, 0, 1, 1, 0, 0, 0, 0, 0, 0, 1, 0, 0, 1, 0, 0, 0, 1, 1, 1, 1, 0, 1, 1, 1, 0, 1, 1, 1, 1, 0, 1, 1, 1, 0, 0, 1, 0, 1, 1, 0, 0, 1, 0, 0, 0, 0, 0, 1, 0, 0, 1, 1, 0, 1, 1, 0, 1, 1, 1, 0, 0, 0, 0, 0, 1, 0, 1, 0, 1, 0, 1, 1, 0, 0, 0, 0, 0, 0, 0, 1, 0, 1, 0, 1, 1, 0, 0, 0, 0, 1, 0, 0, 1, 1, 0, 0, 1, 0, 1, 1, 0, 0, 1, 0, 0, 1, 0, 0, 1, 0, 0, 0, 0, 1, 0, 1, 0, 0, 1, 0, 0, 0, 1, 1, 0, 0, 0, 0, 1, 0, 1, 0, 0, 0, 1, 1, 0, 1, 1, 1, 0, 1, 1, 1, 0, 1, 1, 1, 0, 0, 1, 0, 0, 0, 0, 0, 0, 1, 0, 1, 1, 0, 0, 1, 1, 1, 1, 1, 0, 0, 1, 1, 1, 1, 0, 0, 0, 0, 1, 0, 0, 1, 0, 1, 0, 0, 0, 1, 0, 1, 0, 1, 0, 0, 1, 0, 0, 1, 1, 1, 1, 1, 0, 1, 1, 0, 0, 0, 1, 1, 1, 1, 0, 1, 0, 0, 0, 1, 0, 0, 1, 1, 1, 1, 0, 0, 0, 0, 0, 0, 0, 0, 1, 1, 1, 1, 0, 0, 0, 1, 0, 0, 0, 0, 1, 0, 0, 1, 1, 1, 1, 0, 1, 0, 1, 0, 0, 1, 0, 0, 1, 1, 0, 0, 1, 1, 1, 1, 0, 1, 0, 0, 1, 1, 1, 1, 1, 1, 0, 1, 1, 1, 1, 0, 0, 0, 0, 0, 1, 0, 0, 1, 1, 1, 1, 1, 1, 0, 1, 1, 0, 0, 1, 0, 0, 1, 1, 0, 1, 1, 1, 0, 1, 0, 1, 1, 1, 0, 1, 0, 0, 1, 1, 1, 1, 0, 1, 1, 1, 1, 0, 1, 0, 0, 0, 1, 1, 0, 0, 0, 0, 1, 0, 1, 1, 0, 1, 1, 0, 1, 0, 1, 1, 1, 1, 1, 1, 0, 0, 0, 1, 1, 0, 0, 1, 0, 0, 1, 0, 1, 1, 0, 1, 0, 1, 1, 0, 0, 1, 0, 1, 0, 0, 0, 1, 1, 0, 1, 1, 0, 1, 0, 1, 0, 0, 0, 1, 1, 0, 0, 0, 0, 1, 0, 0, 1, 0, 0, 1, 1, 1, 1, 0, 0, 1, 0, 1, 0, 1, 0, 0, 1, 0, 1, 0, 0, 0, 1, 1, 1, 0, 1, 1, 1, 1, 1, 0, 0, 1, 1, 0, 0, 0, 0, 1, 0, 0, 0, 1, 1, 0, 0, 1, 0, 1, 1, 1, 1, 1, 0, 0, 1, 1, 1, 0, 1, 0, 0, 0, 1, 1, 0, 0, 1, 1, 1, 1, 0, 0, 1, 1, 0, 0, 0, 0, 0, 1, 0, 0, 0, 1, 1, 1, 1, 0, 0, 1, 1, 0, 1, 0, 0, 0, 1, 1, 0, 1, 0, 1, 0, 0, 0, 1, 0, 0, 0, 0, 1, 0, 0, 0, 1, 0, 1, 0, 0, 1, 0, 1, 1, 0, 0, 0, 0, 1, 1, 0, 0, 0, 0, 0, 0, 1, 1, 1, 1, 0, 1, 1, 0, 1, 1, 0, 1, 1, 0, 1, 1, 1, 1, 0, 1, 1, 1, 0, 1, 0, 1, 0, 1, 0, 0, 1, 0, 0, 0, 1, 0, 1, 0, 0, 1, 1, 0, 0, 0, 0, 0, 1, 0, 1, 1, 0, 1, 1, 1, 1, 0, 1, 0, 1, 1, 0, 1, 0, 1, 0, 0, 0, 1, 1, 0, 0, 1, 1, 1, 1, 0, 1, 0, 0, 0, 0, 1, 1, 0, 1, 1, 1, 1, 0, 0, 1, 1, 1, 0, 0, 0, 0, 0, 1, 0, 1, 0, 0, 0, 0, 0, 1, 0, 1, 1, 1, 0, 1, 0, 0, 1, 1, 0, 1, 1, 1, 1, 1, 1, 1, 1, 0, 0, 1, 0, 0, 1, 1, 0, 1, 1, 1, 0, 0, 1, 0, 0, 1, 0, 1, 1, 0, 1, 0, 1, 1, 1, 1, 1, 0, 0, 1, 1, 1, 1, 0, 0, 0, 0, 1, 0, 1, 0, 0, 1, 0, 1, 1, 0, 1, 0, 0, 0, 0, 1, 0, 1, 0, 0, 0, 1, 1, 0, 0, 0, 0, 0, 1, 1, 1, 1, 1, 1, 1, 1, 1, 0, 0, 0, 0, 0, 0, 0, 1, 0, 1, 0, 1, 0, 0, 0, 1, 1, 1, 0, 1, 1, 0, 0, 0, 0, 1, 0, 1, 0, 1, 0, 1, 0, 0, 1, 1, 0, 1, 1, 0, 1, 0, 0, 0, 1, 1, 0, 1, 1, 1, 1, 1, 1, 0, 1, 1, 1, 1, 0, 0, 1, 0, 0, 0, 1, 0, 1, 1, 1, 1, 1, 0, 1, 0, 1, 1, 1, 1, 1, 1, 1, 0, 1, 0, 1, 0, 0, 0, 1, 0, 0, 1, 0, 0, 1, 0, 0, 1, 1, 0, 0, 1, 0, 1, 0, 1, 1, 1, 0, 0, 0, 0, 0, 1, 1, 1, 0, 1, 1, 0, 1, 1, 0, 1, 0, 0, 1, 1, 1, 0, 0, 1, 0, 0, 0, 1, 0, 1, 0, 1, 0, 0, 0, 0, 1, 1, 1, 1, 0, 0, 1, 1, 0, 1, 1, 0, 0, 0, 0, 1, 1, 0, 0, 1, 1, 1, 0, 1, 1, 1, 0, 0, 1, 1, 0, 0, 1, 0, 1, 0, 0, 0, 1, 1, 1, 1, 1, 1, 0, 1, 1, 1, 1, 0, 1, 1, 0, 0, 1, 1, 0, 0, 1, 0, 1, 1, 0, 1, 1, 1, 1, 1, 1, 0, 1, 0, 0, 1, 1, 0, 1, 0, 0, 1, 1, 1, 0, 0, 1, 0, 0, 1, 0, 0, 0, 0, 0, 0, 0, 0, 0, 0, 0, 1, 0, 1, 1, 1, 0, 0, 0, 1, 1, 0, 0, 0, 0, 1, 0, 0, 1, 0, 0, 0, 1, 1, 0, 1, 1, 1, 1, 0, 1, 0, 1, 1, 0, 0, 0, 0, 0, 1, 0, 1, 1, 0, 1, 1, 0, 1, 0, 1, 0, 1, 0, 1, 1, 0, 0, 1, 1, 1, 0, 1, 0, 1, 0, 0, 0, 0, 1, 1, 0, 0, 1, 0, 0, 0, 0, 0, 1, 0, 0, 1, 1, 1, 1, 0, 0, 0, 0, 1, 0, 1, 0, 1, 1, 1, 0, 1, 0, 0, 1, 1, 0, 0, 1, 0, 1, 1, 0, 0, 0, 1, 0, 0, 0, 1, 0, 1, 1, 0, 0, 1, 0, 1, 0, 1, 0, 1, 0, 1, 0, 0, 0, 0, 1, 0, 0, 0, 0, 1, 1, 1, 0, 1, 0, 0, 0, 0, 1, 0, 0, 0, 0, 0, 1, 1, 0, 0, 0, 0, 0, 0, 0, 1, 1, 1, 0, 1, 0, 1, 0, 0, 0, 0, 1, 0, 0, 1, 0, 0, 0, 1, 0, 1, 1, 1, 0, 0, 1, 0, 1, 1, 0, 0, 0, 0, 0, 1, 1, 1, 1, 0, 1, 0, 0, 1, 1, 1, 0, 0, 1, 1, 1, 0, 0, 1, 0, 1, 1, 1, 0, 1, 0, 0, 0, 1, 0, 1, 1, 0, 1, 1, 1, 1, 1, 1, 1, 1, 0, 0, 1, 0, 1, 0, 0, 0, 1, 0, 0, 0, 1, 0, 1, 1, 1, 0, 1, 1, 1, 0, 0, 1, 1, 1, 1, 0, 0, 0, 1, 1, 0, 0, 1, 1, 1, 1, 1, 1, 0, 0, 0, 1, 0, 1, 0, 0, 1, 0, 1, 0, 1, 0, 0, 0, 1, 1, 1, 0, 0, 1, 0, 0, 0, 1, 0, 0, 0, 0, 0, 1, 0, 0, 0, 0, 0, 1, 1, 0, 1, 0, 0, 1, 1, 1, 0, 0, 1, 0, 0, 1, 0, 0, 1, 1, 1, 1, 0, 1, 0, 1, 0, 1, 1, 0, 0, 0, 1, 1, 0, 0, 0, 0, 0, 0, 0, 1, 1, 0, 0, 1, 1, 0, 1, 1, 0, 1, 1, 1, 1, 1, 1, 1, 0, 0, 0, 1, 1, 0, 1, 0, 1, 1, 1, 0, 0, 0, 0, 1, 0, 1, 0, 1, 1, 0, 1, 1, 1, 0, 0, 1, 0, 1, 0, 0, 1, 1, 1, 0, 0, 1, 1, 1, 0, 0, 0, 1, 0, 0, 0, 1, 1, 1, 0, 0, 1, 0, 0, 0, 1, 0, 1, 0, 0, 0, 1, 1, 1, 0, 0, 1, 0, 0, 0, 1, 1, 0, 1, 0, 1, 0, 1, 1, 0, 1, 1, 0, 0, 1, 0, 1, 0, 0, 0, 1, 1, 0, 1, 1, 1, 0, 1, 1, 1, 0, 0, 1, 1, 1, 1, 0, 1, 0, 0, 0, 0, 0, 1, 1, 0, 0, 1, 0, 1, 0, 0, 1, 1, 0, 1, 0, 0, 0, 1, 1, 0, 1, 0, 1, 0, 1, 1, 1, 0, 0, 1, 0, 0, 0, 1, 0, 0, 1, 0, 0, 0, 1, 1, 0, 0, 0, 1, 1, 0, 1, 1, 0, 0, 0, 0, 0, 0, 0, 1, 1, 1, 0, 1, 0, 1, 0, 0, 0, 1, 1, 0, 0, 0, 1, 0, 0, 0, 0, 0, 1, 1, 1, 0, 1, 1, 1, 1, 1, 0, 0, 0, 0, 0, 1, 0, 1, 1, 1, 0, 0, 0, 0, 0, 1, 1, 0, 0, 1, 0, 1, 1, 0, 1, 1, 0, 0, 1, 1, 0, 1, 1, 0, 1, 1, 1, 0, 0, 0, 1, 1, 1, 1, 0, 1, 1, 0, 0, 1, 0, 1, 1, 1, 1, 1, 0, 0, 0, 0, 1, 1, 0, 0, 0, 0, 1, 0, 0, 1, 1, 1, 1, 0, 0, 1, 0, 0, 0, 1, 1, 0, 1, 1, 0, 1, 1, 0, 1, 1, 0, 1, 0, 1, 0, 1, 0, 1, 1, 0, 1, 0, 1, 0, 1, 1, 0, 0, 1, 0, 0, 1, 0, 0, 0, 0, 0, 1, 0, 1, 0, 0, 1, 1, 1, 0, 1, 0, 1, 1, 1, 0, 1, 1, 1, 0, 1, 1, 0, 1, 1, 1, 1, 1, 0, 0, 0, 1, 0, 1, 1, 0, 1, 1, 0, 1, 0, 1, 1, 0, 1, 0, 1, 0, 0, 1, 1, 1, 0, 1, 0, 1, 0, 0, 0, 0, 1, 0, 1, 1, 1, 1, 0, 1, 1, 0, 0, 0, 0, 1, 0, 1, 1, 0, 1, 0, 0, 1, 1, 0, 1, 1, 0, 1, 1, 1, 1, 0, 1, 1, 1, 0, 0, 1, 0, 1, 1, 1, 1, 0, 1, 0, 1, 1, 0, 1, 1, 1, 0, 0, 0, 1, 1, 1, 0, 1, 0, 1, 1, 1, 0, 1, 0, 0, 0, 1, 1, 1, 1, 0, 1, 1, 0, 1, 1, 1, 1, 0, 1, 0, 0, 1, 0, 1, 0, 1, 1, 0, 0, 1, 0, 0, 1, 1, 1, 0, 1, 1, 0, 0, 1, 0]\n"
          ]
        }
      ]
    },
    {
      "cell_type": "markdown",
      "source": [
        "**Building the predictive system**\n",
        "\n"
      ],
      "metadata": {
        "id": "E46k402x-Jm-"
      }
    },
    {
      "cell_type": "code",
      "source": [
        "input_data = (17,20581,2,2,50.0,82.0,25.0,25.0,25.0,0.0,41.0,41.0,41.0,0.0,6413.682522715126,194.3540158398523,6860.3335,11876.384,20574.0,3.0,4.0,4.0,0.0,4.0,4.0,3.0,3.0,0.0,3.0,3.0,0,0,0,0,40,40,97.17701,97.17701,25.0,41.0,31.4,8.763561,76.8,0,0,0,0,0,0,0,0,1.0,39.25,25.0,41.0,0,0,0,0,0,0,2,50,2,82,-1,-1,1,20,0.0,0.0,0.0,0.0,0.0,0.0,0.0,0.0)\n",
        "# change the input_data to a numpy array\n",
        "input_data_as_numpy_array = np.asarray(input_data)\n",
        "\n",
        "# reshape the numpy array as we are predicting for one data point\n",
        "input_data_reshaped = input_data_as_numpy_array.reshape(1,-1)\n",
        "\n",
        "# standardizing the input data\n",
        "input_data_std = scaler.transform(input_data_reshaped)\n",
        "\n",
        "prediction = model.predict(input_data_std)\n",
        "print(prediction)\n",
        "\n",
        "prediction_label = [np.argmax(prediction)]\n",
        "print(prediction_label)\n",
        "\n",
        "if(prediction_label[0] == 1):\n",
        "  print(73*\"-\")\n",
        "  print('XXXXXX-WARNNING!-->THIS IS A DDOS ATTACK ,YOU HAVE TO DO SOMETHING-XXXXXX')\n",
        "  print(73*\"-\")\n",
        "else:\n",
        "  print(63*\"-\")\n",
        "  print('#####-ITS A NORMAL TRAFFIC ,DONT WORRY ABOUT IT-#####')\n",
        "  print(63*\"-\")"
      ],
      "metadata": {
        "colab": {
          "base_uri": "https://localhost:8080/"
        },
        "id": "rXQi6eStBJxb",
        "outputId": "70deec51-9d43-48b8-ad0c-e55ff19b9c3a"
      },
      "execution_count": 363,
      "outputs": [
        {
          "output_type": "stream",
          "name": "stderr",
          "text": [
            "/usr/local/lib/python3.10/dist-packages/sklearn/base.py:439: UserWarning: X does not have valid feature names, but StandardScaler was fitted with feature names\n",
            "  warnings.warn(\n"
          ]
        },
        {
          "output_type": "stream",
          "name": "stdout",
          "text": [
            "1/1 [==============================] - 0s 133ms/step\n",
            "[[7.7980244e-01 6.7495051e-07]]\n",
            "[0]\n",
            "---------------------------------------------------------------\n",
            "#####-ITS A NORMAL TRAFFIC ,DONT WORRY ABOUT IT-#####\n",
            "---------------------------------------------------------------\n"
          ]
        }
      ]
    }
  ]
}